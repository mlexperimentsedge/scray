{
 "cells": [
  {
   "cell_type": "code",
   "execution_count": null,
   "metadata": {},
   "outputs": [],
   "source": [
    "# demo: loads file with all messages (CSTARTTIME, CSENDERENDPOINTID, ymdhm )\n",
    "# show some charts, anomaly detection with LSTM autoencoders"
   ]
  },
  {
   "cell_type": "code",
   "execution_count": 2,
   "metadata": {},
   "outputs": [
    {
     "name": "stdout",
     "output_type": "stream",
     "text": [
      "Setup Complete\n",
      "Setup Complete\n"
     ]
    }
   ],
   "source": [
    "import dfBasics\n",
    "import common\n",
    "import encoder\n",
    "import pfAdapt\n",
    "import charts\n",
    "import anomaly"
   ]
  },
  {
   "cell_type": "code",
   "execution_count": 3,
   "metadata": {},
   "outputs": [],
   "source": [
    "import pandas as pd\n",
    "from pyspark.sql import functions"
   ]
  },
  {
   "cell_type": "code",
   "execution_count": 4,
   "metadata": {},
   "outputs": [],
   "source": [
    "sparkSession = dfBasics.getSparkSession()\n",
    "df = sparkSession.read.parquet('hdfs://172.30.17.145:8020/user/admin/CSENDERENDPOINTID/CSENDERENDPOINTID_9.parquet')\n",
    "pfall = df.toPandas()"
   ]
  },
  {
   "cell_type": "code",
   "execution_count": null,
   "metadata": {},
   "outputs": [],
   "source": [
    "#pfall = pd.read_parquet('/tmp/msgsenders_0702.parquet', engine='fastparquet')\n",
    "pfall = pd.read_parquet('/tmp/sla_1580137124017.parquet', engine='pyarrow')\n",
    "#pfall = pd.read_parquet('/tmp/sla_1580199488133.parquet', engine='pyarrow')"
   ]
  },
  {
   "cell_type": "code",
   "execution_count": null,
   "metadata": {},
   "outputs": [],
   "source": [
    "#adddatecolumns(pfall,pfall,'CSTARTTIME')\n",
    "#pfall.dtypes\n",
    "#pfall.dtypes\n",
    "#!ls -l /tmp/sla_*.parquet"
   ]
  },
  {
   "cell_type": "code",
   "execution_count": null,
   "metadata": {},
   "outputs": [],
   "source": [
    "from datetime import time\n",
    "import datetime as dt\n",
    "import calendar\n",
    "import pytz\n",
    "de = pytz.timezone('Europe/Berlin')\n",
    "\n",
    "# long timestamp\n",
    "def date(x):\n",
    "    return  dt.datetime.fromtimestamp(float(x) / 1e3, tz=de)\n",
    "\n",
    "\n",
    "def adddatecolumns(data,pf,column) :\n",
    "    data['year'] = pf[column].apply(lambda x: date(x).date().year)\n",
    "    data['month'] = pf[column].apply(lambda x: date(x).date().month)\n",
    "    data['day'] = pf[column].apply(lambda x: date(x).date().day)\n",
    "    data['hour'] = pf[column].apply(lambda x: date(x).time().hour)\n",
    "    data['minute'] = pf[column].apply(lambda x: date(x).time().minute)\n",
    "    #data['second'] = pf[column].apply(lambda x: x.time().second)\n",
    "    #data['microsecond'] = pf[column].apply(lambda x: x.time().microsecond)\n",
    "\n",
    "def converttimestampcolumnn(pf,tsc) :\n",
    "    pf[tsc] = pf[tsc].apply(lambda x: dt.datetime.fromtimestamp(float(x) / 1e3))"
   ]
  },
  {
   "cell_type": "code",
   "execution_count": 19,
   "metadata": {},
   "outputs": [
    {
     "name": "stdout",
     "output_type": "stream",
     "text": [
      "Setup Complete\n"
     ]
    }
   ],
   "source": [
    "## Setup charts\n",
    "import pandas as pd\n",
    "pd.plotting.register_matplotlib_converters()\n",
    "import matplotlib.pyplot as plt\n",
    "%matplotlib inline\n",
    "import seaborn as sns\n",
    "print(\"Setup Complete\")\n",
    "\n",
    "def get_ym_string(a,b) :\n",
    "    return a + \"-\" + b\n",
    "    #return a.join([\"-\",b]) \n",
    "\n",
    "def get_ym(mdcountsall) :\n",
    "    a = mdcountsall.index.get_level_values(0).astype(str)\n",
    "    b = mdcountsall.index.get_level_values(1).astype(str)\n",
    "    return a,b\n",
    "\n",
    "def get_ymd(mdcountsall) :\n",
    "    a = mdcountsall.index.get_level_values(0).astype(str)\n",
    "    b = mdcountsall.index.get_level_values(1).astype(str)\n",
    "    c = mdcountsall.index.get_level_values(2).astype(str)\n",
    "    return a,b,c\n",
    "\n",
    "def get_ymd_string(a,b,c) :\n",
    "    return a + \"-\" + b + \"-\" + c \n",
    "\n",
    "def get_ymdh(mdcountsall) :\n",
    "    a = mdcountsall.index.get_level_values(0).astype(str)\n",
    "    b = mdcountsall.index.get_level_values(1).astype(str)\n",
    "    c = mdcountsall.index.get_level_values(2).astype(str)\n",
    "    d = mdcountsall.index.get_level_values(3).astype(str)\n",
    "    return a,b,c,d\n",
    "\n",
    "def get_ymdh_string(a,b,c,d) :\n",
    "    return a + \"-\" + b + \"-\" + c + \"-\" + d\n",
    "\n",
    "def createData_ym(pfall,month) :\n",
    "    if (month > 0) & (month < 13) :\n",
    "        mdcountsall = pfall[(pfall['month'] == month)].groupby(['year','month'])['year'].count()\n",
    "    else :\n",
    "        mdcountsall = pfall.groupby(['year','month'])['year'].count()    \n",
    "    a,b = get_ym(mdcountsall)\n",
    "    data2 = pd.DataFrame()\n",
    "    data2['date'] = get_ym_string(a,b)\n",
    "    data2['outcome'] = mdcountsall.reset_index(level=0, drop=True).reset_index()['year'].astype(int) \n",
    "    return data2\n",
    "\n",
    "def createData(pfall,month) :\n",
    "    if (month > 0) & (month < 13) :\n",
    "        mdcountsall = pfall[(pfall['month'] == month)].groupby(['year','month','day','hour'])['year'].count()\n",
    "    else :\n",
    "        mdcountsall = pfall.groupby(['year','month','day','hour'])['year'].count()    \n",
    "    a,b,c,d = get_ymdh(mdcountsall)\n",
    "    data2 = pd.DataFrame()\n",
    "    data2['date'] = get_ymdh_string(a,b,c,d)\n",
    "    data2['outcome'] =  mdcountsall.reset_index(level=0, drop=True).reset_index()['year'].astype(int)\n",
    "\n",
    "    #for pivot table\n",
    "    data2['hours'] =  d.astype(int) \n",
    "    data2['days']  =  c.astype(int) \n",
    "    return data2\n",
    "\n",
    "def createData_ymd(pfall,month) :\n",
    "    if (month > 0) & (month < 13) :\n",
    "        mdcountsall = pfall[(pfall['month'] == month)].groupby(['year','month','day'])['year'].count()\n",
    "    else :\n",
    "        mdcountsall = pfall.groupby(['year','month','day'])['year'].count()    \n",
    "    a,b,c = get_ymd(mdcountsall)\n",
    "    data2 = pd.DataFrame()\n",
    "    data2['date'] = get_ymd_string(a,b,c)\n",
    "    data2['outcome'] = mdcountsall.reset_index(level=0, drop=True).reset_index()['year'].astype(int) \n",
    "    return data2\n",
    "\n",
    "def label(graph,skip,rot) :\n",
    "    for ind, label in enumerate(graph.get_xticklabels()):\n",
    "        if ind % skip == 0:  # every 10th label is kept\n",
    "            label.set_visible(True)\n",
    "            label.set_rotation(rot)\n",
    "        else:\n",
    "            label.set_visible(False)\n",
    "\n",
    "def createBarplot(md=None,fx=24,fy=12,fontscale=3.0,title=\"\") :\n",
    "    sns.set(style='whitegrid', palette='muted', font_scale=fontscale)\n",
    "    plt.figure(figsize=(fx,fy))\n",
    "    plt.title(title)\n",
    "    ax = sns.barplot(x=md['date'], y=md['outcome'], data=md)\n",
    "    plt.setp( ax.xaxis.get_majorticklabels(), rotation=75 )\n",
    "    plt.tight_layout()\n",
    "    plt.show()\n",
    "    return ax\n",
    "\n",
    "## heatmap\n",
    "def createHeatmap(piv,title=\"\") :\n",
    "    plt.figure(figsize=(24,8))\n",
    "    plt.title(title)\n",
    "    ax = sns.heatmap(piv, square=True)\n",
    "    plt.setp( ax.xaxis.get_majorticklabels(), rotation=0 )\n",
    "    plt.tight_layout()\n",
    "    plt.show()\n",
    "    return ax"
   ]
  },
  {
   "cell_type": "markdown",
   "metadata": {},
   "source": [
    "# Charts"
   ]
  },
  {
   "cell_type": "code",
   "execution_count": null,
   "metadata": {},
   "outputs": [],
   "source": [
    "md = createData_ym(pfall,0)\n",
    "ax=createBarplot(md,24,12,3.0,title=\"number messages sent by all endpoints\")\n",
    "#label(ax,1000,90)"
   ]
  },
  {
   "cell_type": "code",
   "execution_count": null,
   "metadata": {},
   "outputs": [],
   "source": [
    "md = createData_ymd(pfall,1)\n",
    "ax=createBarplot(md,fx=24,fy=12,fontscale=3.0,title=\"number messages sent by all endpoints\")\n",
    "label(ax,1000,90)\n"
   ]
  },
  {
   "cell_type": "code",
   "execution_count": 18,
   "metadata": {},
   "outputs": [
    {
     "data": {
      "application/vnd.jupyter.widget-view+json": {
       "model_id": "aa6c68ad2376431d9c97b3089d56cab8",
       "version_major": 2,
       "version_minor": 0
      },
      "text/plain": [
       "Dropdown(description='month', layout=Layout(width='500px'), options=(1, 2, 3, 4, 5, 6, 7, 8, 9, 10, 11, 12), s…"
      ]
     },
     "metadata": {},
     "output_type": "display_data"
    },
    {
     "data": {
      "application/vnd.jupyter.widget-view+json": {
       "model_id": "a1b2b2b040774405972c88706ee247f3",
       "version_major": 2,
       "version_minor": 0
      },
      "text/plain": [
       "Output()"
      ]
     },
     "metadata": {},
     "output_type": "display_data"
    }
   ],
   "source": [
    "import ipywidgets as widgets\n",
    "from IPython.display import display, clear_output\n",
    "style = {'description_width': '250px'}\n",
    "layout = {'width': '500px'}\n",
    "\n",
    "def createHeatmapPfall(pfall=pfall,sender='all',month=1):\n",
    "    data2 = createData(pfall,month)\n",
    "    piv = pd.pivot_table(data2, values=\"outcome\",index=[\"hours\"], columns=[\"days\"], fill_value=0)\n",
    "    #titlestring = \"CSENDERENDPOINTID: \" + str(topsender.iloc[7]['CSENDERENDPOINTID']) + \": \"+ category + \" so far = \" + str(topsender.iloc[7]['outcome']) + \" , month: \" + str(month) \n",
    "    #titlestring = \"CSENDERENDPOINTID: \" + str(topsender.iloc[7]['CSENDERENDPOINTID']) + \": \"+ category  + \" month: \" + str(month) \n",
    "    titlestring =\"number messages 2020-\" + str(month) + \" sender: \" + sender\n",
    "    sns.set(style='whitegrid', palette='muted', font_scale=1.2)\n",
    "    createHeatmap(piv, titlestring)\n",
    "    \n",
    "\n",
    "def monthw_on_change(change):\n",
    "        if change['type'] == 'change' and change['name'] == 'value':\n",
    "            with out:\n",
    "                clear_output()\n",
    "                createHeatmapPfall(pfall=pfall,sender='all',month=1)\n",
    "\n",
    "            \n",
    "options = [1,2,3,4,5,6,7,8,9,10,11,12]\n",
    "monthw = widgets.Dropdown(options=options,  description='month', value = 1,style=style, layout=layout)\n",
    "monthw.observe(monthw_on_change,'value') \n",
    "display(monthw)\n",
    "out = widgets.Output()\n",
    "display (out)"
   ]
  },
  {
   "cell_type": "code",
   "execution_count": null,
   "metadata": {},
   "outputs": [],
   "source": [
    "out.widgets"
   ]
  },
  {
   "cell_type": "code",
   "execution_count": null,
   "metadata": {},
   "outputs": [],
   "source": [
    "createHeatmapPfall(pfall,'all',6)"
   ]
  },
  {
   "cell_type": "markdown",
   "metadata": {},
   "source": [
    "# Top senders"
   ]
  },
  {
   "cell_type": "code",
   "execution_count": null,
   "metadata": {},
   "outputs": [],
   "source": [
    "#pd.unique(mdcountsall[1].index.get_level_values(0))\n",
    "def getTopSenders(TOP):\n",
    "    result = pfall.groupby(['CSENDERENDPOINTID']).count()\n",
    "    data2 = pd.DataFrame()\n",
    "    data2['date'] = result.index.get_level_values(0).astype(str)\n",
    "    data2['outcome'] =  result['CSTARTTIME'].astype(int)\n",
    "    topsender =  data2[data2['outcome'] > TOP].sort_values('outcome', ascending=False).reset_index()\n",
    "    topsender['outcome'] = topsender['outcome'].astype(int)\n",
    "    topsender.columns = ['index', 'CSENDERENDPOINTID', 'count']\n",
    "    return topsender\n",
    "\n",
    "#topsender = getTopSenders(500000)\n",
    "topsender = getTopSenders(1000)\n",
    "topsender"
   ]
  },
  {
   "cell_type": "code",
   "execution_count": null,
   "metadata": {},
   "outputs": [],
   "source": [
    "numbersenders = len(pfall['CSENDERENDPOINTID'].unique())\n",
    "print('sending endpoints: '  + str(numbersenders))"
   ]
  },
  {
   "cell_type": "code",
   "execution_count": null,
   "metadata": {},
   "outputs": [],
   "source": [
    "sender = topsender.iloc[0]['index']\n",
    "pfall1 = pfall[pfall['CSENDERENDPOINTID'] == sender].sort_values('CSTARTTIME').reset_index() \n",
    "\n",
    "def get_datestr(row):\n",
    "    return str(row.day) + \".\" + str(row.month) + \".\" + str(row.year) "
   ]
  },
  {
   "cell_type": "code",
   "execution_count": null,
   "metadata": {},
   "outputs": [],
   "source": [
    "createHeatmapPfall(pfall1,str(sender),1)"
   ]
  },
  {
   "cell_type": "code",
   "execution_count": 5,
   "metadata": {},
   "outputs": [],
   "source": [
    "pfall1 = pfall.sort_values(['year','month','day','hour']).reset_index()\n",
    "del pfall1['index']\n",
    "del pfall1['CGLOBALMESSAGEID']"
   ]
  },
  {
   "cell_type": "code",
   "execution_count": null,
   "metadata": {},
   "outputs": [],
   "source": [
    "pfall1"
   ]
  },
  {
   "cell_type": "markdown",
   "metadata": {},
   "source": [
    "# Time Series Anomaly Detection with LSTM Autoencoders (selected sender)"
   ]
  },
  {
   "cell_type": "code",
   "execution_count": null,
   "metadata": {},
   "outputs": [],
   "source": [
    "import os\n",
    "os.environ['http_proxy'] = \"http://172.30.12.56:3128\" \n",
    "os.environ['https_proxy'] = \"https://172.30.12.56:3128\" \n",
    "#!pip install --trusted-host pypi.python.org pytest-xdist\n",
    "#!pip install --trusted-host pypi.python.org --upgrade pip\n",
    "#!pip install --trusted-host pypi.python.org tensorflow\n",
    "#!pip3 install --user --upgrade tensorflow \n",
    "#!pip install tensorflow==2.4.1\n",
    "#!pip install --trusted-host pypi.python.org python==3.7\n",
    "#!pip install --upgrade pip --trusted-host pypi.org --trusted-host files.pythonhosted.org\n",
    "#!pip install --trusted-host pypi.org --trusted-host files.pythonhosted.org tensorflow==2.4.1"
   ]
  },
  {
   "cell_type": "code",
   "execution_count": null,
   "metadata": {},
   "outputs": [],
   "source": [
    "import anomaly\n",
    "anomaly.init_sns()\n",
    "#pip3 install --trusted-host pypi.org --trusted-host files.pythonhosted.org numpy==1.18.5"
   ]
  },
  {
   "cell_type": "code",
   "execution_count": null,
   "metadata": {},
   "outputs": [],
   "source": [
    "df1 = anomaly.createDataframe(pfall)\n",
    "perc_train=0.94\n",
    "train, test = anomaly.getTrainAndTest(df1,perc_train)\n",
    "OUTCOME = 'close'\n",
    "scaler = anomaly.StandardScaler()\n",
    "scaler = scaler.fit(train[[OUTCOME]])\n",
    "train[OUTCOME] = scaler.transform(train[[OUTCOME]])\n",
    "test[OUTCOME] = scaler.transform(test[[OUTCOME]])"
   ]
  },
  {
   "cell_type": "code",
   "execution_count": null,
   "metadata": {},
   "outputs": [],
   "source": [
    "TIME_STEPS = 12\n",
    "X_train, y_train = anomaly.create_dataset(train[[OUTCOME]], train.close, TIME_STEPS)\n",
    "X_test, y_test = anomaly.create_dataset(test[[OUTCOME]], test.close, TIME_STEPS)\n",
    "print(X_train.shape)"
   ]
  },
  {
   "cell_type": "code",
   "execution_count": null,
   "metadata": {},
   "outputs": [],
   "source": [
    "!pip install -U numpy==1.18.5"
   ]
  },
  {
   "cell_type": "code",
   "execution_count": null,
   "metadata": {},
   "outputs": [],
   "source": [
    "#model = anomaly.initmodel(X_train)\n",
    "\n",
    "from tensorflow import keras\n",
    "model = keras.Sequential()\n",
    "model.add(keras.layers.LSTM(256, input_shape=(1, 66), return_sequences=True))\n",
    "\n",
    "model.add(keras.layers.LSTM(\n",
    "    units=64, \n",
    "    input_shape=(X_train.shape[1], X_train.shape[2])\n",
    "))\n",
    " \n",
    "model.add(keras.layers.Dropout(rate=0.2))\n",
    "model.add(keras.layers.RepeatVector(n=X_train.shape[1]))\n",
    "model.add(keras.layers.LSTM(units=64, return_sequences=True))\n",
    "model.add(keras.layers.Dropout(rate=0.2))\n",
    "model.add(keras.layers.TimeDistributed(keras.layers.Dense(units=X_train.shape[2])))\n",
    "model.compile(loss='mae', optimizer='adam')"
   ]
  },
  {
   "cell_type": "code",
   "execution_count": 6,
   "metadata": {},
   "outputs": [
    {
     "name": "stdout",
     "output_type": "stream",
     "text": [
      "train.shape:  (11724, 1) test.shape:  (749, 1)\n"
     ]
    },
    {
     "name": "stderr",
     "output_type": "stream",
     "text": [
      "/home/jovyan/work/scray/scray-examples/python/AnomalyDetectionLSTMAutoencoder.py:201: SettingWithCopyWarning: \n",
      "A value is trying to be set on a copy of a slice from a DataFrame.\n",
      "Try using .loc[row_indexer,col_indexer] = value instead\n",
      "\n",
      "See the caveats in the documentation: https://pandas.pydata.org/pandas-docs/stable/user_guide/indexing.html#returning-a-view-versus-a-copy\n",
      "  self.train[self.OUTCOME] = self.scaler.transform(self.train[[self.OUTCOME]])\n",
      "/home/jovyan/work/scray/scray-examples/python/AnomalyDetectionLSTMAutoencoder.py:202: SettingWithCopyWarning: \n",
      "A value is trying to be set on a copy of a slice from a DataFrame.\n",
      "Try using .loc[row_indexer,col_indexer] = value instead\n",
      "\n",
      "See the caveats in the documentation: https://pandas.pydata.org/pandas-docs/stable/user_guide/indexing.html#returning-a-view-versus-a-copy\n",
      "  self.test[self.OUTCOME] = self.scaler.transform(self.test[[self.OUTCOME]])\n"
     ]
    },
    {
     "name": "stdout",
     "output_type": "stream",
     "text": [
      "Epoch 1/10\n",
      "330/330 [==============================] - 12s 27ms/step - loss: 0.1851 - val_loss: 0.1080\n",
      "Epoch 2/10\n",
      "330/330 [==============================] - 8s 23ms/step - loss: 0.1452 - val_loss: 0.0945\n",
      "Epoch 3/10\n",
      "330/330 [==============================] - 8s 23ms/step - loss: 0.1343 - val_loss: 0.0921\n",
      "Epoch 4/10\n",
      "330/330 [==============================] - 8s 23ms/step - loss: 0.1295 - val_loss: 0.0872\n",
      "Epoch 5/10\n",
      "330/330 [==============================] - 7s 23ms/step - loss: 0.1251 - val_loss: 0.0906\n",
      "Epoch 6/10\n",
      "330/330 [==============================] - 8s 23ms/step - loss: 0.1239 - val_loss: 0.1001\n",
      "Epoch 7/10\n",
      "330/330 [==============================] - 7s 23ms/step - loss: 0.1242 - val_loss: 0.0947\n",
      "Epoch 8/10\n",
      "330/330 [==============================] - 8s 23ms/step - loss: 0.1206 - val_loss: 0.0980\n",
      "Epoch 9/10\n",
      "330/330 [==============================] - 7s 23ms/step - loss: 0.1191 - val_loss: 0.1056\n",
      "Epoch 10/10\n",
      "330/330 [==============================] - 8s 23ms/step - loss: 0.1181 - val_loss: 0.0923\n"
     ]
    }
   ],
   "source": [
    "import AnomalyDetectionLSTMAutoencoder\n",
    "anomalyEnc = AnomalyDetectionLSTMAutoencoder.AnomalyDetectionLSTMAutoencoder()\n",
    "anomalyEnc.initAndTrain(pfall1,0.94)\n",
    "#anomalyEnc.__dict__"
   ]
  },
  {
   "cell_type": "code",
   "execution_count": 14,
   "metadata": {},
   "outputs": [],
   "source": [
    "#anomalyEnc.model.save(\"/tmp/my_model/\",save_format=\"tf\")\n",
    "anomalyEnc.model.save(\"/tmp/mymodel.h5\", save_format=\"h5\")"
   ]
  },
  {
   "cell_type": "code",
   "execution_count": 21,
   "metadata": {},
   "outputs": [
    {
     "name": "stderr",
     "output_type": "stream",
     "text": [
      "/opt/conda/lib/python3.8/site-packages/seaborn/distributions.py:2557: FutureWarning: `distplot` is a deprecated function and will be removed in a future version. Please adapt your code to use either `displot` (a figure-level function with similar flexibility) or `histplot` (an axes-level function for histograms).\n",
      "  warnings.warn(msg, FutureWarning)\n"
     ]
    },
    {
     "data": {
      "text/plain": [
       "(0.6412632434878853, 0.12171660129414517)"
      ]
     },
     "execution_count": 21,
     "metadata": {},
     "output_type": "execute_result"
    },
    {
     "data": {
      "image/png": "[encoded data removed]",
      "text/plain": [
       "<Figure size 432x288 with 1 Axes>"
      ]
     },
     "metadata": {
      "needs_background": "light"
     },
     "output_type": "display_data"
    }
   ],
   "source": [
    "data = sns.distplot(anomalyEnc.train_mae_loss, bins=50, kde=True).get_lines()[0].get_data()\n",
    "data[0][25], data[1][25]"
   ]
  },
  {
   "cell_type": "code",
   "execution_count": 24,
   "metadata": {},
   "outputs": [],
   "source": [
    "test_score_df = anomalyEnc.testScoreDF(anomalyEnc.model, data[0][25],anomalyEnc.X_test,anomalyEnc.test)\n",
    "anomalies     = test_score_df[test_score_df.anomaly == True]"
   ]
  },
  {
   "cell_type": "code",
   "execution_count": 28,
   "metadata": {},
   "outputs": [
    {
     "data": {
      "text/plain": [
       "[<matplotlib.lines.Line2D at 0x7f600e3da490>]"
      ]
     },
     "execution_count": 28,
     "metadata": {},
     "output_type": "execute_result"
    },
    {
     "data": {
      "image/png": "[encoded data removed]",
      "text/plain": [
       "<Figure size 432x288 with 1 Axes>"
      ]
     },
     "metadata": {
      "needs_background": "light"
     },
     "output_type": "display_data"
    }
   ],
   "source": [
    "plt.tick_params(axis='x', which='both', bottom=False, top=False, labelbottom=False) \n",
    "plt.plot(test_score_df.index, test_score_df.loss, label='loss')\n",
    "plt.plot(test_score_df.index, test_score_df.threshold, label='threshold')\n",
    "#plt.xticks(rotation=25)\n",
    "#plt.legend();"
   ]
  },
  {
   "cell_type": "code",
   "execution_count": 32,
   "metadata": {},
   "outputs": [
    {
     "name": "stderr",
     "output_type": "stream",
     "text": [
      "/opt/conda/lib/python3.8/site-packages/seaborn/_decorators.py:36: FutureWarning: Pass the following variables as keyword args: x, y. From version 0.12, the only valid positional argument will be `data`, and passing other arguments without an explicit keyword will result in an error or misinterpretation.\n",
      "  warnings.warn(\n"
     ]
    },
    {
     "data": {
      "image/png": "[encoded data removed]",
      "text/plain": [
       "<Figure size 432x288 with 1 Axes>"
      ]
     },
     "metadata": {
      "needs_background": "light"
     },
     "output_type": "display_data"
    }
   ],
   "source": [
    "sender = 0\n",
    "titlestring =\"endpoint (sending) : \" + str(sender) + \" ( trained: \" +  anomalyEnc.train.index[0] + \" -- \" + anomalyEnc.train.index[len(anomalyEnc.train.index)-1] + \" )\"\n",
    "anomaly.plot_test(anomalyEnc.test,anomalyEnc.scaler,anomalies,titlestring)"
   ]
  },
  {
   "cell_type": "code",
   "execution_count": null,
   "metadata": {},
   "outputs": [],
   "source": [
    "model,scaler,train,test,X_test,X_train,X_train_pred,train_mae_loss = anomaly.initAndTrain(pfall1,0.94)"
   ]
  },
  {
   "cell_type": "code",
   "execution_count": null,
   "metadata": {},
   "outputs": [],
   "source": [
    "data = sns.distplot(train_mae_loss, bins=50, kde=True).get_lines()[0].get_data()"
   ]
  },
  {
   "cell_type": "code",
   "execution_count": null,
   "metadata": {},
   "outputs": [],
   "source": [
    "data[0][25], data[1][25]"
   ]
  },
  {
   "cell_type": "code",
   "execution_count": null,
   "metadata": {},
   "outputs": [],
   "source": [
    "test_score_df = anomaly.testScoreDF(model, 0.65,X_test,test)\n",
    "anomalies     = test_score_df[test_score_df.anomaly == True]"
   ]
  },
  {
   "cell_type": "code",
   "execution_count": null,
   "metadata": {},
   "outputs": [],
   "source": [
    "plt.plot(test_score_df.index, test_score_df.loss, label='loss')\n",
    "plt.plot(test_score_df.index, test_score_df.threshold, label='threshold')\n",
    "plt.xticks(rotation=25)\n",
    "plt.legend();"
   ]
  },
  {
   "cell_type": "code",
   "execution_count": null,
   "metadata": {},
   "outputs": [],
   "source": [
    "sender = 0\n",
    "titlestring =\"endpoint (sending) : \" + str(sender) + \" ( trained: \" +  train.index[0] + \" -- \" + train.index[len(train.index)-1] + \" )\"\n",
    "anomaly.plot_test(test,scaler,anomalies,titlestring)"
   ]
  }
 ],
 "metadata": {
  "kernelspec": {
   "display_name": "Python 3",
   "language": "python",
   "name": "python3"
  },
  "language_info": {
   "codemirror_mode": {
    "name": "ipython",
    "version": 3
   },
   "file_extension": ".py",
   "mimetype": "text/x-python",
   "name": "python",
   "nbconvert_exporter": "python",
   "pygments_lexer": "ipython3",
   "version": "3.8.8"
  }
 },
 "nbformat": 4,
 "nbformat_minor": 4
}

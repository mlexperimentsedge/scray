{
 "cells": [
  {
   "cell_type": "code",
   "execution_count": 1,
   "metadata": {},
   "outputs": [],
   "source": [
    "import dfBasics\n",
    "import common\n",
    "import encoder\n",
    "import pfAdapt\n",
    "#import charts\n"
   ]
  },
  {
   "cell_type": "code",
   "execution_count": 2,
   "metadata": {},
   "outputs": [],
   "source": [
    "import pandas as pd\n",
    "from pyspark.sql import functions"
   ]
  },
  {
   "cell_type": "markdown",
   "metadata": {},
   "source": [
    "# Lib functions"
   ]
  },
  {
   "cell_type": "markdown",
   "metadata": {},
   "source": [
    "# Main"
   ]
  },
  {
   "cell_type": "code",
   "execution_count": 5,
   "metadata": {},
   "outputs": [],
   "source": [
    "columns = ['CGLOBALMESSAGEID', 'CSTARTTIME', 'CENDTIME', 'CSTATUS', 'CSERVICE',\\\n",
    "       'CSLABILLINGMONTH', 'CSENDERPROTOCOL', 'CSENDERENDPOINTID',\\\n",
    "       'CINBOUNDSIZE', 'CRECEIVERPROTOCOL', 'CRECEIVERENDPOINTID', 'CSLATAT',\\\n",
    "       'CMESSAGETAT2', 'CSLADELIVERYTIME']\n",
    "# withot 'CSLABILLINGMONTH'\n",
    "def get_columns_2():\n",
    "    columns = ['CGLOBALMESSAGEID', 'CSTARTTIME', 'CENDTIME', 'CSTATUS', 'CSERVICE',\\\n",
    "            'CSENDERPROTOCOL', 'CSENDERENDPOINTID',\\\n",
    "           'CINBOUNDSIZE', 'CRECEIVERPROTOCOL', 'CRECEIVERENDPOINTID', 'CSLATAT',\\\n",
    "           'CMESSAGETAT2', 'CSLADELIVERYTIME']\n",
    "    return columns\n",
    "#columns = get_columns_2()\n",
    "#to count messages sent\n",
    "columns = [ 'CSTARTTIME', 'CSENDERENDPOINTID']"
   ]
  },
  {
   "cell_type": "code",
   "execution_count": 3,
   "metadata": {},
   "outputs": [],
   "source": [
    "sparkSession = dfBasics.getSparkSession()"
   ]
  },
  {
   "cell_type": "code",
   "execution_count": 9,
   "metadata": {},
   "outputs": [],
   "source": [
    "df = sparkSession.read.parquet('hdfs://172.30.17.145:8020/sla_sql_data/*/*').select(columns).dropDuplicates() "
   ]
  },
  {
   "cell_type": "code",
   "execution_count": 10,
   "metadata": {},
   "outputs": [],
   "source": [
    "df.write.parquet(\"/tmp/sla.parquet\") "
   ]
  },
  {
   "cell_type": "code",
   "execution_count": 12,
   "metadata": {},
   "outputs": [
    {
     "name": "stdout",
     "output_type": "stream",
     "text": [
      "total 616336\n",
      "-rw-r--r-- 1 jovyan users 3152773 Mar 29 15:45 part-00000-30a4aa94-c603-492e-82a1-c8e048c42612-c000.snappy.parquet\n",
      "-rw-r--r-- 1 jovyan users 3153332 Mar 29 15:45 part-00001-30a4aa94-c603-492e-82a1-c8e048c42612-c000.snappy.parquet\n",
      "-rw-r--r-- 1 jovyan users 3144439 Mar 29 15:45 part-00002-30a4aa94-c603-492e-82a1-c8e048c42612-c000.snappy.parquet\n",
      "-rw-r--r-- 1 jovyan users 3155255 Mar 29 15:45 part-00003-30a4aa94-c603-492e-82a1-c8e048c42612-c000.snappy.parquet\n",
      "-rw-r--r-- 1 jovyan users 3157130 Mar 29 15:45 part-00004-30a4aa94-c603-492e-82a1-c8e048c42612-c000.snappy.parquet\n",
      "-rw-r--r-- 1 jovyan users 3152478 Mar 29 15:45 part-00005-30a4aa94-c603-492e-82a1-c8e048c42612-c000.snappy.parquet\n",
      "-rw-r--r-- 1 jovyan users 3158632 Mar 29 15:45 part-00006-30a4aa94-c603-492e-82a1-c8e048c42612-c000.snappy.parquet\n",
      "-rw-r--r-- 1 jovyan users 3150054 Mar 29 15:45 part-00007-30a4aa94-c603-492e-82a1-c8e048c42612-c000.snappy.parquet\n",
      "-rw-r--r-- 1 jovyan users 3140257 Mar 29 15:45 part-00008-30a4aa94-c603-492e-82a1-c8e048c42612-c000.snappy.parquet\n",
      "-rw-r--r-- 1 jovyan users 3142765 Mar 29 15:45 part-00009-30a4aa94-c603-492e-82a1-c8e048c42612-c000.snappy.parquet\n",
      "-rw-r--r-- 1 jovyan users 3146652 Mar 29 15:45 part-00010-30a4aa94-c603-492e-82a1-c8e048c42612-c000.snappy.parquet\n",
      "-rw-r--r-- 1 jovyan users 3155996 Mar 29 15:45 part-00011-30a4aa94-c603-492e-82a1-c8e048c42612-c000.snappy.parquet\n",
      "-rw-r--r-- 1 jovyan users 3161959 Mar 29 15:45 part-00012-30a4aa94-c603-492e-82a1-c8e048c42612-c000.snappy.parquet\n",
      "-rw-r--r-- 1 jovyan users 3156243 Mar 29 15:45 part-00013-30a4aa94-c603-492e-82a1-c8e048c42612-c000.snappy.parquet\n",
      "-rw-r--r-- 1 jovyan users 3152561 Mar 29 15:45 part-00014-30a4aa94-c603-492e-82a1-c8e048c42612-c000.snappy.parquet\n",
      "-rw-r--r-- 1 jovyan users 3144302 Mar 29 15:45 part-00015-30a4aa94-c603-492e-82a1-c8e048c42612-c000.snappy.parquet\n",
      "-rw-r--r-- 1 jovyan users 3169232 Mar 29 15:45 part-00016-30a4aa94-c603-492e-82a1-c8e048c42612-c000.snappy.parquet\n",
      "-rw-r--r-- 1 jovyan users 3144354 Mar 29 15:45 part-00017-30a4aa94-c603-492e-82a1-c8e048c42612-c000.snappy.parquet\n",
      "-rw-r--r-- 1 jovyan users 3158251 Mar 29 15:45 part-00018-30a4aa94-c603-492e-82a1-c8e048c42612-c000.snappy.parquet\n",
      "-rw-r--r-- 1 jovyan users 3138446 Mar 29 15:45 part-00019-30a4aa94-c603-492e-82a1-c8e048c42612-c000.snappy.parquet\n",
      "-rw-r--r-- 1 jovyan users 3138060 Mar 29 15:45 part-00020-30a4aa94-c603-492e-82a1-c8e048c42612-c000.snappy.parquet\n",
      "-rw-r--r-- 1 jovyan users 3153919 Mar 29 15:45 part-00021-30a4aa94-c603-492e-82a1-c8e048c42612-c000.snappy.parquet\n",
      "-rw-r--r-- 1 jovyan users 3154286 Mar 29 15:45 part-00022-30a4aa94-c603-492e-82a1-c8e048c42612-c000.snappy.parquet\n",
      "-rw-r--r-- 1 jovyan users 3152918 Mar 29 15:45 part-00023-30a4aa94-c603-492e-82a1-c8e048c42612-c000.snappy.parquet\n",
      "-rw-r--r-- 1 jovyan users 3157115 Mar 29 15:45 part-00024-30a4aa94-c603-492e-82a1-c8e048c42612-c000.snappy.parquet\n",
      "-rw-r--r-- 1 jovyan users 3159134 Mar 29 15:45 part-00025-30a4aa94-c603-492e-82a1-c8e048c42612-c000.snappy.parquet\n",
      "-rw-r--r-- 1 jovyan users 3165255 Mar 29 15:45 part-00026-30a4aa94-c603-492e-82a1-c8e048c42612-c000.snappy.parquet\n",
      "-rw-r--r-- 1 jovyan users 3157602 Mar 29 15:45 part-00027-30a4aa94-c603-492e-82a1-c8e048c42612-c000.snappy.parquet\n",
      "-rw-r--r-- 1 jovyan users 3147553 Mar 29 15:45 part-00028-30a4aa94-c603-492e-82a1-c8e048c42612-c000.snappy.parquet\n",
      "-rw-r--r-- 1 jovyan users 3144413 Mar 29 15:45 part-00029-30a4aa94-c603-492e-82a1-c8e048c42612-c000.snappy.parquet\n",
      "-rw-r--r-- 1 jovyan users 3164005 Mar 29 15:45 part-00030-30a4aa94-c603-492e-82a1-c8e048c42612-c000.snappy.parquet\n",
      "-rw-r--r-- 1 jovyan users 3152717 Mar 29 15:45 part-00031-30a4aa94-c603-492e-82a1-c8e048c42612-c000.snappy.parquet\n",
      "-rw-r--r-- 1 jovyan users 3149329 Mar 29 15:45 part-00032-30a4aa94-c603-492e-82a1-c8e048c42612-c000.snappy.parquet\n",
      "-rw-r--r-- 1 jovyan users 3151420 Mar 29 15:45 part-00033-30a4aa94-c603-492e-82a1-c8e048c42612-c000.snappy.parquet\n",
      "-rw-r--r-- 1 jovyan users 3147552 Mar 29 15:45 part-00034-30a4aa94-c603-492e-82a1-c8e048c42612-c000.snappy.parquet\n",
      "-rw-r--r-- 1 jovyan users 3159744 Mar 29 15:45 part-00035-30a4aa94-c603-492e-82a1-c8e048c42612-c000.snappy.parquet\n",
      "-rw-r--r-- 1 jovyan users 3159162 Mar 29 15:45 part-00036-30a4aa94-c603-492e-82a1-c8e048c42612-c000.snappy.parquet\n",
      "-rw-r--r-- 1 jovyan users 3165145 Mar 29 15:45 part-00037-30a4aa94-c603-492e-82a1-c8e048c42612-c000.snappy.parquet\n",
      "-rw-r--r-- 1 jovyan users 3144464 Mar 29 15:45 part-00038-30a4aa94-c603-492e-82a1-c8e048c42612-c000.snappy.parquet\n",
      "-rw-r--r-- 1 jovyan users 3159160 Mar 29 15:45 part-00039-30a4aa94-c603-492e-82a1-c8e048c42612-c000.snappy.parquet\n",
      "-rw-r--r-- 1 jovyan users 3155319 Mar 29 15:45 part-00040-30a4aa94-c603-492e-82a1-c8e048c42612-c000.snappy.parquet\n",
      "-rw-r--r-- 1 jovyan users 3143547 Mar 29 15:45 part-00041-30a4aa94-c603-492e-82a1-c8e048c42612-c000.snappy.parquet\n",
      "-rw-r--r-- 1 jovyan users 3151660 Mar 29 15:45 part-00042-30a4aa94-c603-492e-82a1-c8e048c42612-c000.snappy.parquet\n",
      "-rw-r--r-- 1 jovyan users 3152640 Mar 29 15:45 part-00043-30a4aa94-c603-492e-82a1-c8e048c42612-c000.snappy.parquet\n",
      "-rw-r--r-- 1 jovyan users 3159247 Mar 29 15:45 part-00044-30a4aa94-c603-492e-82a1-c8e048c42612-c000.snappy.parquet\n",
      "-rw-r--r-- 1 jovyan users 3157671 Mar 29 15:45 part-00045-30a4aa94-c603-492e-82a1-c8e048c42612-c000.snappy.parquet\n",
      "-rw-r--r-- 1 jovyan users 3157399 Mar 29 15:45 part-00046-30a4aa94-c603-492e-82a1-c8e048c42612-c000.snappy.parquet\n",
      "-rw-r--r-- 1 jovyan users 3154034 Mar 29 15:45 part-00047-30a4aa94-c603-492e-82a1-c8e048c42612-c000.snappy.parquet\n",
      "-rw-r--r-- 1 jovyan users 3151119 Mar 29 15:45 part-00048-30a4aa94-c603-492e-82a1-c8e048c42612-c000.snappy.parquet\n",
      "-rw-r--r-- 1 jovyan users 3145660 Mar 29 15:45 part-00049-30a4aa94-c603-492e-82a1-c8e048c42612-c000.snappy.parquet\n",
      "-rw-r--r-- 1 jovyan users 3150856 Mar 29 15:45 part-00050-30a4aa94-c603-492e-82a1-c8e048c42612-c000.snappy.parquet\n",
      "-rw-r--r-- 1 jovyan users 3161478 Mar 29 15:45 part-00051-30a4aa94-c603-492e-82a1-c8e048c42612-c000.snappy.parquet\n",
      "-rw-r--r-- 1 jovyan users 3143703 Mar 29 15:45 part-00052-30a4aa94-c603-492e-82a1-c8e048c42612-c000.snappy.parquet\n",
      "-rw-r--r-- 1 jovyan users 3150298 Mar 29 15:45 part-00053-30a4aa94-c603-492e-82a1-c8e048c42612-c000.snappy.parquet\n",
      "-rw-r--r-- 1 jovyan users 3158100 Mar 29 15:45 part-00054-30a4aa94-c603-492e-82a1-c8e048c42612-c000.snappy.parquet\n",
      "-rw-r--r-- 1 jovyan users 3163783 Mar 29 15:45 part-00055-30a4aa94-c603-492e-82a1-c8e048c42612-c000.snappy.parquet\n",
      "-rw-r--r-- 1 jovyan users 3144888 Mar 29 15:45 part-00056-30a4aa94-c603-492e-82a1-c8e048c42612-c000.snappy.parquet\n",
      "-rw-r--r-- 1 jovyan users 3164679 Mar 29 15:45 part-00057-30a4aa94-c603-492e-82a1-c8e048c42612-c000.snappy.parquet\n",
      "-rw-r--r-- 1 jovyan users 3134785 Mar 29 15:45 part-00058-30a4aa94-c603-492e-82a1-c8e048c42612-c000.snappy.parquet\n",
      "-rw-r--r-- 1 jovyan users 3162344 Mar 29 15:45 part-00059-30a4aa94-c603-492e-82a1-c8e048c42612-c000.snappy.parquet\n",
      "-rw-r--r-- 1 jovyan users 3146742 Mar 29 15:45 part-00060-30a4aa94-c603-492e-82a1-c8e048c42612-c000.snappy.parquet\n",
      "-rw-r--r-- 1 jovyan users 3138447 Mar 29 15:45 part-00061-30a4aa94-c603-492e-82a1-c8e048c42612-c000.snappy.parquet\n",
      "-rw-r--r-- 1 jovyan users 3145136 Mar 29 15:45 part-00062-30a4aa94-c603-492e-82a1-c8e048c42612-c000.snappy.parquet\n",
      "-rw-r--r-- 1 jovyan users 3157417 Mar 29 15:45 part-00063-30a4aa94-c603-492e-82a1-c8e048c42612-c000.snappy.parquet\n",
      "-rw-r--r-- 1 jovyan users 3152644 Mar 29 15:45 part-00064-30a4aa94-c603-492e-82a1-c8e048c42612-c000.snappy.parquet\n",
      "-rw-r--r-- 1 jovyan users 3157362 Mar 29 15:45 part-00065-30a4aa94-c603-492e-82a1-c8e048c42612-c000.snappy.parquet\n",
      "-rw-r--r-- 1 jovyan users 3161053 Mar 29 15:45 part-00066-30a4aa94-c603-492e-82a1-c8e048c42612-c000.snappy.parquet\n",
      "-rw-r--r-- 1 jovyan users 3165565 Mar 29 15:45 part-00067-30a4aa94-c603-492e-82a1-c8e048c42612-c000.snappy.parquet\n",
      "-rw-r--r-- 1 jovyan users 3149278 Mar 29 15:45 part-00068-30a4aa94-c603-492e-82a1-c8e048c42612-c000.snappy.parquet\n",
      "-rw-r--r-- 1 jovyan users 3156687 Mar 29 15:45 part-00069-30a4aa94-c603-492e-82a1-c8e048c42612-c000.snappy.parquet\n",
      "-rw-r--r-- 1 jovyan users 3156469 Mar 29 15:45 part-00070-30a4aa94-c603-492e-82a1-c8e048c42612-c000.snappy.parquet\n",
      "-rw-r--r-- 1 jovyan users 3150075 Mar 29 15:45 part-00071-30a4aa94-c603-492e-82a1-c8e048c42612-c000.snappy.parquet\n",
      "-rw-r--r-- 1 jovyan users 3162809 Mar 29 15:45 part-00072-30a4aa94-c603-492e-82a1-c8e048c42612-c000.snappy.parquet\n",
      "-rw-r--r-- 1 jovyan users 3161448 Mar 29 15:45 part-00073-30a4aa94-c603-492e-82a1-c8e048c42612-c000.snappy.parquet\n",
      "-rw-r--r-- 1 jovyan users 3156597 Mar 29 15:45 part-00074-30a4aa94-c603-492e-82a1-c8e048c42612-c000.snappy.parquet\n",
      "-rw-r--r-- 1 jovyan users 3163766 Mar 29 15:45 part-00075-30a4aa94-c603-492e-82a1-c8e048c42612-c000.snappy.parquet\n",
      "-rw-r--r-- 1 jovyan users 3152778 Mar 29 15:45 part-00076-30a4aa94-c603-492e-82a1-c8e048c42612-c000.snappy.parquet\n",
      "-rw-r--r-- 1 jovyan users 3165898 Mar 29 15:45 part-00077-30a4aa94-c603-492e-82a1-c8e048c42612-c000.snappy.parquet\n",
      "-rw-r--r-- 1 jovyan users 3155910 Mar 29 15:45 part-00078-30a4aa94-c603-492e-82a1-c8e048c42612-c000.snappy.parquet\n",
      "-rw-r--r-- 1 jovyan users 3146002 Mar 29 15:45 part-00079-30a4aa94-c603-492e-82a1-c8e048c42612-c000.snappy.parquet\n",
      "-rw-r--r-- 1 jovyan users 3164435 Mar 29 15:45 part-00080-30a4aa94-c603-492e-82a1-c8e048c42612-c000.snappy.parquet\n",
      "-rw-r--r-- 1 jovyan users 3146035 Mar 29 15:45 part-00081-30a4aa94-c603-492e-82a1-c8e048c42612-c000.snappy.parquet\n",
      "-rw-r--r-- 1 jovyan users 3163782 Mar 29 15:45 part-00082-30a4aa94-c603-492e-82a1-c8e048c42612-c000.snappy.parquet\n",
      "-rw-r--r-- 1 jovyan users 3146389 Mar 29 15:45 part-00083-30a4aa94-c603-492e-82a1-c8e048c42612-c000.snappy.parquet\n",
      "-rw-r--r-- 1 jovyan users 3141106 Mar 29 15:45 part-00084-30a4aa94-c603-492e-82a1-c8e048c42612-c000.snappy.parquet\n",
      "-rw-r--r-- 1 jovyan users 3158810 Mar 29 15:45 part-00085-30a4aa94-c603-492e-82a1-c8e048c42612-c000.snappy.parquet\n",
      "-rw-r--r-- 1 jovyan users 3157521 Mar 29 15:45 part-00086-30a4aa94-c603-492e-82a1-c8e048c42612-c000.snappy.parquet\n",
      "-rw-r--r-- 1 jovyan users 3155430 Mar 29 15:45 part-00087-30a4aa94-c603-492e-82a1-c8e048c42612-c000.snappy.parquet\n",
      "-rw-r--r-- 1 jovyan users 3154937 Mar 29 15:45 part-00088-30a4aa94-c603-492e-82a1-c8e048c42612-c000.snappy.parquet\n",
      "-rw-r--r-- 1 jovyan users 3153626 Mar 29 15:45 part-00089-30a4aa94-c603-492e-82a1-c8e048c42612-c000.snappy.parquet\n",
      "-rw-r--r-- 1 jovyan users 3159844 Mar 29 15:45 part-00090-30a4aa94-c603-492e-82a1-c8e048c42612-c000.snappy.parquet\n",
      "-rw-r--r-- 1 jovyan users 3153582 Mar 29 15:45 part-00091-30a4aa94-c603-492e-82a1-c8e048c42612-c000.snappy.parquet\n",
      "-rw-r--r-- 1 jovyan users 3153581 Mar 29 15:45 part-00092-30a4aa94-c603-492e-82a1-c8e048c42612-c000.snappy.parquet\n",
      "-rw-r--r-- 1 jovyan users 3152584 Mar 29 15:45 part-00093-30a4aa94-c603-492e-82a1-c8e048c42612-c000.snappy.parquet\n",
      "-rw-r--r-- 1 jovyan users 3153472 Mar 29 15:45 part-00094-30a4aa94-c603-492e-82a1-c8e048c42612-c000.snappy.parquet\n",
      "-rw-r--r-- 1 jovyan users 3151293 Mar 29 15:45 part-00095-30a4aa94-c603-492e-82a1-c8e048c42612-c000.snappy.parquet\n",
      "-rw-r--r-- 1 jovyan users 3158134 Mar 29 15:45 part-00096-30a4aa94-c603-492e-82a1-c8e048c42612-c000.snappy.parquet\n",
      "-rw-r--r-- 1 jovyan users 3156700 Mar 29 15:45 part-00097-30a4aa94-c603-492e-82a1-c8e048c42612-c000.snappy.parquet\n",
      "-rw-r--r-- 1 jovyan users 3144146 Mar 29 15:45 part-00098-30a4aa94-c603-492e-82a1-c8e048c42612-c000.snappy.parquet\n",
      "-rw-r--r-- 1 jovyan users 3157213 Mar 29 15:45 part-00099-30a4aa94-c603-492e-82a1-c8e048c42612-c000.snappy.parquet\n",
      "-rw-r--r-- 1 jovyan users 3156411 Mar 29 15:45 part-00100-30a4aa94-c603-492e-82a1-c8e048c42612-c000.snappy.parquet\n",
      "-rw-r--r-- 1 jovyan users 3155586 Mar 29 15:45 part-00101-30a4aa94-c603-492e-82a1-c8e048c42612-c000.snappy.parquet\n",
      "-rw-r--r-- 1 jovyan users 3159353 Mar 29 15:45 part-00102-30a4aa94-c603-492e-82a1-c8e048c42612-c000.snappy.parquet\n",
      "-rw-r--r-- 1 jovyan users 3144039 Mar 29 15:45 part-00103-30a4aa94-c603-492e-82a1-c8e048c42612-c000.snappy.parquet\n",
      "-rw-r--r-- 1 jovyan users 3145519 Mar 29 15:45 part-00104-30a4aa94-c603-492e-82a1-c8e048c42612-c000.snappy.parquet\n",
      "-rw-r--r-- 1 jovyan users 3164437 Mar 29 15:45 part-00105-30a4aa94-c603-492e-82a1-c8e048c42612-c000.snappy.parquet\n",
      "-rw-r--r-- 1 jovyan users 3152205 Mar 29 15:45 part-00106-30a4aa94-c603-492e-82a1-c8e048c42612-c000.snappy.parquet\n",
      "-rw-r--r-- 1 jovyan users 3146235 Mar 29 15:45 part-00107-30a4aa94-c603-492e-82a1-c8e048c42612-c000.snappy.parquet\n",
      "-rw-r--r-- 1 jovyan users 3145302 Mar 29 15:45 part-00108-30a4aa94-c603-492e-82a1-c8e048c42612-c000.snappy.parquet\n",
      "-rw-r--r-- 1 jovyan users 3148732 Mar 29 15:45 part-00109-30a4aa94-c603-492e-82a1-c8e048c42612-c000.snappy.parquet\n",
      "-rw-r--r-- 1 jovyan users 3154077 Mar 29 15:45 part-00110-30a4aa94-c603-492e-82a1-c8e048c42612-c000.snappy.parquet\n",
      "-rw-r--r-- 1 jovyan users 3139274 Mar 29 15:45 part-00111-30a4aa94-c603-492e-82a1-c8e048c42612-c000.snappy.parquet\n",
      "-rw-r--r-- 1 jovyan users 3146145 Mar 29 15:45 part-00112-30a4aa94-c603-492e-82a1-c8e048c42612-c000.snappy.parquet\n",
      "-rw-r--r-- 1 jovyan users 3155099 Mar 29 15:45 part-00113-30a4aa94-c603-492e-82a1-c8e048c42612-c000.snappy.parquet\n",
      "-rw-r--r-- 1 jovyan users 3151302 Mar 29 15:45 part-00114-30a4aa94-c603-492e-82a1-c8e048c42612-c000.snappy.parquet\n",
      "-rw-r--r-- 1 jovyan users 3167169 Mar 29 15:45 part-00115-30a4aa94-c603-492e-82a1-c8e048c42612-c000.snappy.parquet\n",
      "-rw-r--r-- 1 jovyan users 3137398 Mar 29 15:45 part-00116-30a4aa94-c603-492e-82a1-c8e048c42612-c000.snappy.parquet\n",
      "-rw-r--r-- 1 jovyan users 3157225 Mar 29 15:45 part-00117-30a4aa94-c603-492e-82a1-c8e048c42612-c000.snappy.parquet\n",
      "-rw-r--r-- 1 jovyan users 3156893 Mar 29 15:45 part-00118-30a4aa94-c603-492e-82a1-c8e048c42612-c000.snappy.parquet\n",
      "-rw-r--r-- 1 jovyan users 3137658 Mar 29 15:45 part-00119-30a4aa94-c603-492e-82a1-c8e048c42612-c000.snappy.parquet\n",
      "-rw-r--r-- 1 jovyan users 3151200 Mar 29 15:45 part-00120-30a4aa94-c603-492e-82a1-c8e048c42612-c000.snappy.parquet\n",
      "-rw-r--r-- 1 jovyan users 3164711 Mar 29 15:45 part-00121-30a4aa94-c603-492e-82a1-c8e048c42612-c000.snappy.parquet\n",
      "-rw-r--r-- 1 jovyan users 3158410 Mar 29 15:45 part-00122-30a4aa94-c603-492e-82a1-c8e048c42612-c000.snappy.parquet\n",
      "-rw-r--r-- 1 jovyan users 3149642 Mar 29 15:45 part-00123-30a4aa94-c603-492e-82a1-c8e048c42612-c000.snappy.parquet\n",
      "-rw-r--r-- 1 jovyan users 3149902 Mar 29 15:45 part-00124-30a4aa94-c603-492e-82a1-c8e048c42612-c000.snappy.parquet\n",
      "-rw-r--r-- 1 jovyan users 3168209 Mar 29 15:45 part-00125-30a4aa94-c603-492e-82a1-c8e048c42612-c000.snappy.parquet\n",
      "-rw-r--r-- 1 jovyan users 3157582 Mar 29 15:45 part-00126-30a4aa94-c603-492e-82a1-c8e048c42612-c000.snappy.parquet\n",
      "-rw-r--r-- 1 jovyan users 3148282 Mar 29 15:45 part-00127-30a4aa94-c603-492e-82a1-c8e048c42612-c000.snappy.parquet\n",
      "-rw-r--r-- 1 jovyan users 3163821 Mar 29 15:45 part-00128-30a4aa94-c603-492e-82a1-c8e048c42612-c000.snappy.parquet\n",
      "-rw-r--r-- 1 jovyan users 3156692 Mar 29 15:45 part-00129-30a4aa94-c603-492e-82a1-c8e048c42612-c000.snappy.parquet\n",
      "-rw-r--r-- 1 jovyan users 3157757 Mar 29 15:45 part-00130-30a4aa94-c603-492e-82a1-c8e048c42612-c000.snappy.parquet\n",
      "-rw-r--r-- 1 jovyan users 3162572 Mar 29 15:45 part-00131-30a4aa94-c603-492e-82a1-c8e048c42612-c000.snappy.parquet\n",
      "-rw-r--r-- 1 jovyan users 3142154 Mar 29 15:45 part-00132-30a4aa94-c603-492e-82a1-c8e048c42612-c000.snappy.parquet\n",
      "-rw-r--r-- 1 jovyan users 3150404 Mar 29 15:45 part-00133-30a4aa94-c603-492e-82a1-c8e048c42612-c000.snappy.parquet\n",
      "-rw-r--r-- 1 jovyan users 3161964 Mar 29 15:45 part-00134-30a4aa94-c603-492e-82a1-c8e048c42612-c000.snappy.parquet\n",
      "-rw-r--r-- 1 jovyan users 3148453 Mar 29 15:45 part-00135-30a4aa94-c603-492e-82a1-c8e048c42612-c000.snappy.parquet\n",
      "-rw-r--r-- 1 jovyan users 3150343 Mar 29 15:45 part-00136-30a4aa94-c603-492e-82a1-c8e048c42612-c000.snappy.parquet\n",
      "-rw-r--r-- 1 jovyan users 3155842 Mar 29 15:45 part-00137-30a4aa94-c603-492e-82a1-c8e048c42612-c000.snappy.parquet\n",
      "-rw-r--r-- 1 jovyan users 3140596 Mar 29 15:45 part-00138-30a4aa94-c603-492e-82a1-c8e048c42612-c000.snappy.parquet\n",
      "-rw-r--r-- 1 jovyan users 3152674 Mar 29 15:45 part-00139-30a4aa94-c603-492e-82a1-c8e048c42612-c000.snappy.parquet\n",
      "-rw-r--r-- 1 jovyan users 3152842 Mar 29 15:45 part-00140-30a4aa94-c603-492e-82a1-c8e048c42612-c000.snappy.parquet\n",
      "-rw-r--r-- 1 jovyan users 3154346 Mar 29 15:45 part-00141-30a4aa94-c603-492e-82a1-c8e048c42612-c000.snappy.parquet\n",
      "-rw-r--r-- 1 jovyan users 3135295 Mar 29 15:45 part-00142-30a4aa94-c603-492e-82a1-c8e048c42612-c000.snappy.parquet\n",
      "-rw-r--r-- 1 jovyan users 3153849 Mar 29 15:45 part-00143-30a4aa94-c603-492e-82a1-c8e048c42612-c000.snappy.parquet\n",
      "-rw-r--r-- 1 jovyan users 3154174 Mar 29 15:45 part-00144-30a4aa94-c603-492e-82a1-c8e048c42612-c000.snappy.parquet\n",
      "-rw-r--r-- 1 jovyan users 3158049 Mar 29 15:45 part-00145-30a4aa94-c603-492e-82a1-c8e048c42612-c000.snappy.parquet\n",
      "-rw-r--r-- 1 jovyan users 3148579 Mar 29 15:45 part-00146-30a4aa94-c603-492e-82a1-c8e048c42612-c000.snappy.parquet\n",
      "-rw-r--r-- 1 jovyan users 3151433 Mar 29 15:45 part-00147-30a4aa94-c603-492e-82a1-c8e048c42612-c000.snappy.parquet\n",
      "-rw-r--r-- 1 jovyan users 3152533 Mar 29 15:45 part-00148-30a4aa94-c603-492e-82a1-c8e048c42612-c000.snappy.parquet\n",
      "-rw-r--r-- 1 jovyan users 3151927 Mar 29 15:45 part-00149-30a4aa94-c603-492e-82a1-c8e048c42612-c000.snappy.parquet\n",
      "-rw-r--r-- 1 jovyan users 3158325 Mar 29 15:45 part-00150-30a4aa94-c603-492e-82a1-c8e048c42612-c000.snappy.parquet\n",
      "-rw-r--r-- 1 jovyan users 3151988 Mar 29 15:45 part-00151-30a4aa94-c603-492e-82a1-c8e048c42612-c000.snappy.parquet\n",
      "-rw-r--r-- 1 jovyan users 3149359 Mar 29 15:45 part-00152-30a4aa94-c603-492e-82a1-c8e048c42612-c000.snappy.parquet\n",
      "-rw-r--r-- 1 jovyan users 3164461 Mar 29 15:45 part-00153-30a4aa94-c603-492e-82a1-c8e048c42612-c000.snappy.parquet\n",
      "-rw-r--r-- 1 jovyan users 3162054 Mar 29 15:45 part-00154-30a4aa94-c603-492e-82a1-c8e048c42612-c000.snappy.parquet\n",
      "-rw-r--r-- 1 jovyan users 3144365 Mar 29 15:45 part-00155-30a4aa94-c603-492e-82a1-c8e048c42612-c000.snappy.parquet\n",
      "-rw-r--r-- 1 jovyan users 3154667 Mar 29 15:45 part-00156-30a4aa94-c603-492e-82a1-c8e048c42612-c000.snappy.parquet\n",
      "-rw-r--r-- 1 jovyan users 3139436 Mar 29 15:45 part-00157-30a4aa94-c603-492e-82a1-c8e048c42612-c000.snappy.parquet\n",
      "-rw-r--r-- 1 jovyan users 3160211 Mar 29 15:45 part-00158-30a4aa94-c603-492e-82a1-c8e048c42612-c000.snappy.parquet\n",
      "-rw-r--r-- 1 jovyan users 3159154 Mar 29 15:45 part-00159-30a4aa94-c603-492e-82a1-c8e048c42612-c000.snappy.parquet\n",
      "-rw-r--r-- 1 jovyan users 3138477 Mar 29 15:45 part-00160-30a4aa94-c603-492e-82a1-c8e048c42612-c000.snappy.parquet\n",
      "-rw-r--r-- 1 jovyan users 3163440 Mar 29 15:45 part-00161-30a4aa94-c603-492e-82a1-c8e048c42612-c000.snappy.parquet\n",
      "-rw-r--r-- 1 jovyan users 3155345 Mar 29 15:45 part-00162-30a4aa94-c603-492e-82a1-c8e048c42612-c000.snappy.parquet\n",
      "-rw-r--r-- 1 jovyan users 3162202 Mar 29 15:45 part-00163-30a4aa94-c603-492e-82a1-c8e048c42612-c000.snappy.parquet\n",
      "-rw-r--r-- 1 jovyan users 3155722 Mar 29 15:45 part-00164-30a4aa94-c603-492e-82a1-c8e048c42612-c000.snappy.parquet\n",
      "-rw-r--r-- 1 jovyan users 3152495 Mar 29 15:45 part-00165-30a4aa94-c603-492e-82a1-c8e048c42612-c000.snappy.parquet\n",
      "-rw-r--r-- 1 jovyan users 3153832 Mar 29 15:45 part-00166-30a4aa94-c603-492e-82a1-c8e048c42612-c000.snappy.parquet\n",
      "-rw-r--r-- 1 jovyan users 3174688 Mar 29 15:45 part-00167-30a4aa94-c603-492e-82a1-c8e048c42612-c000.snappy.parquet\n",
      "-rw-r--r-- 1 jovyan users 3173579 Mar 29 15:45 part-00168-30a4aa94-c603-492e-82a1-c8e048c42612-c000.snappy.parquet\n",
      "-rw-r--r-- 1 jovyan users 3148597 Mar 29 15:45 part-00169-30a4aa94-c603-492e-82a1-c8e048c42612-c000.snappy.parquet\n",
      "-rw-r--r-- 1 jovyan users 3156225 Mar 29 15:45 part-00170-30a4aa94-c603-492e-82a1-c8e048c42612-c000.snappy.parquet\n",
      "-rw-r--r-- 1 jovyan users 3165482 Mar 29 15:45 part-00171-30a4aa94-c603-492e-82a1-c8e048c42612-c000.snappy.parquet\n",
      "-rw-r--r-- 1 jovyan users 3144828 Mar 29 15:45 part-00172-30a4aa94-c603-492e-82a1-c8e048c42612-c000.snappy.parquet\n",
      "-rw-r--r-- 1 jovyan users 3143561 Mar 29 15:45 part-00173-30a4aa94-c603-492e-82a1-c8e048c42612-c000.snappy.parquet\n",
      "-rw-r--r-- 1 jovyan users 3155456 Mar 29 15:45 part-00174-30a4aa94-c603-492e-82a1-c8e048c42612-c000.snappy.parquet\n",
      "-rw-r--r-- 1 jovyan users 3149782 Mar 29 15:45 part-00175-30a4aa94-c603-492e-82a1-c8e048c42612-c000.snappy.parquet\n",
      "-rw-r--r-- 1 jovyan users 3146839 Mar 29 15:45 part-00176-30a4aa94-c603-492e-82a1-c8e048c42612-c000.snappy.parquet\n",
      "-rw-r--r-- 1 jovyan users 3149777 Mar 29 15:45 part-00177-30a4aa94-c603-492e-82a1-c8e048c42612-c000.snappy.parquet\n",
      "-rw-r--r-- 1 jovyan users 3139134 Mar 29 15:45 part-00178-30a4aa94-c603-492e-82a1-c8e048c42612-c000.snappy.parquet\n",
      "-rw-r--r-- 1 jovyan users 3152279 Mar 29 15:45 part-00179-30a4aa94-c603-492e-82a1-c8e048c42612-c000.snappy.parquet\n",
      "-rw-r--r-- 1 jovyan users 3154223 Mar 29 15:45 part-00180-30a4aa94-c603-492e-82a1-c8e048c42612-c000.snappy.parquet\n",
      "-rw-r--r-- 1 jovyan users 3135958 Mar 29 15:45 part-00181-30a4aa94-c603-492e-82a1-c8e048c42612-c000.snappy.parquet\n",
      "-rw-r--r-- 1 jovyan users 3151071 Mar 29 15:45 part-00182-30a4aa94-c603-492e-82a1-c8e048c42612-c000.snappy.parquet\n",
      "-rw-r--r-- 1 jovyan users 3153181 Mar 29 15:45 part-00183-30a4aa94-c603-492e-82a1-c8e048c42612-c000.snappy.parquet\n",
      "-rw-r--r-- 1 jovyan users 3139372 Mar 29 15:45 part-00184-30a4aa94-c603-492e-82a1-c8e048c42612-c000.snappy.parquet\n",
      "-rw-r--r-- 1 jovyan users 3157177 Mar 29 15:45 part-00185-30a4aa94-c603-492e-82a1-c8e048c42612-c000.snappy.parquet\n",
      "-rw-r--r-- 1 jovyan users 3150214 Mar 29 15:45 part-00186-30a4aa94-c603-492e-82a1-c8e048c42612-c000.snappy.parquet\n",
      "-rw-r--r-- 1 jovyan users 3157597 Mar 29 15:45 part-00187-30a4aa94-c603-492e-82a1-c8e048c42612-c000.snappy.parquet\n",
      "-rw-r--r-- 1 jovyan users 3156876 Mar 29 15:45 part-00188-30a4aa94-c603-492e-82a1-c8e048c42612-c000.snappy.parquet\n",
      "-rw-r--r-- 1 jovyan users 3152753 Mar 29 15:45 part-00189-30a4aa94-c603-492e-82a1-c8e048c42612-c000.snappy.parquet\n",
      "-rw-r--r-- 1 jovyan users 3164202 Mar 29 15:45 part-00190-30a4aa94-c603-492e-82a1-c8e048c42612-c000.snappy.parquet\n",
      "-rw-r--r-- 1 jovyan users 3167936 Mar 29 15:45 part-00191-30a4aa94-c603-492e-82a1-c8e048c42612-c000.snappy.parquet\n",
      "-rw-r--r-- 1 jovyan users 3149215 Mar 29 15:45 part-00192-30a4aa94-c603-492e-82a1-c8e048c42612-c000.snappy.parquet\n",
      "-rw-r--r-- 1 jovyan users 3163026 Mar 29 15:45 part-00193-30a4aa94-c603-492e-82a1-c8e048c42612-c000.snappy.parquet\n",
      "-rw-r--r-- 1 jovyan users 3157015 Mar 29 15:45 part-00194-30a4aa94-c603-492e-82a1-c8e048c42612-c000.snappy.parquet\n",
      "-rw-r--r-- 1 jovyan users 3162522 Mar 29 15:45 part-00195-30a4aa94-c603-492e-82a1-c8e048c42612-c000.snappy.parquet\n",
      "-rw-r--r-- 1 jovyan users 3158603 Mar 29 15:45 part-00196-30a4aa94-c603-492e-82a1-c8e048c42612-c000.snappy.parquet\n",
      "-rw-r--r-- 1 jovyan users 3159297 Mar 29 15:45 part-00197-30a4aa94-c603-492e-82a1-c8e048c42612-c000.snappy.parquet\n",
      "-rw-r--r-- 1 jovyan users 3158377 Mar 29 15:45 part-00198-30a4aa94-c603-492e-82a1-c8e048c42612-c000.snappy.parquet\n",
      "-rw-r--r-- 1 jovyan users 3168125 Mar 29 15:45 part-00199-30a4aa94-c603-492e-82a1-c8e048c42612-c000.snappy.parquet\n",
      "-rw-r--r-- 1 jovyan users       0 Mar 29 15:45 _SUCCESS\n"
     ]
    }
   ],
   "source": [
    "df = sparkSession.read.parquet(\"/tmp/sla.parquet\")"
   ]
  },
  {
   "cell_type": "code",
   "execution_count": null,
   "metadata": {},
   "outputs": [],
   "source": [
    "pfall = df.toPandas() "
   ]
  },
  {
   "cell_type": "code",
   "execution_count": null,
   "metadata": {},
   "outputs": [],
   "source": []
  },
  {
   "cell_type": "code",
   "execution_count": null,
   "metadata": {},
   "outputs": [],
   "source": [
    "from datetime import time\n",
    "import datetime as dt\n",
    "import calendar\n",
    "import pytz\n",
    "de = pytz.timezone('Europe/Berlin')\n",
    "\n",
    "# long timestamp\n",
    "def date(x):\n",
    "    return  dt.datetime.fromtimestamp(float(x) / 1e3, tz=de)\n",
    "\n",
    "\n",
    "def adddatecolumns(data,pf,column) :\n",
    "    data['year'] = pf[column].apply(lambda x: date(x).date().year)\n",
    "    data['month'] = pf[column].apply(lambda x: date(x).date().month)\n",
    "    data['day'] = pf[column].apply(lambda x: date(x).date().day)\n",
    "    data['hour'] = pf[column].apply(lambda x: date(x).time().hour)\n",
    "    data['minute'] = pf[column].apply(lambda x: date(x).time().minute)\n",
    "    #data['second'] = pf[column].apply(lambda x: x.time().second)\n",
    "    #data['microsecond'] = pf[column].apply(lambda x: x.time().microsecond)\n",
    "\n",
    "def converttimestampcolumnn(pf,tsc) :\n",
    "    pf[tsc] = pf[tsc].apply(lambda x: dt.datetime.fromtimestamp(float(x) / 1e3))"
   ]
  },
  {
   "cell_type": "code",
   "execution_count": null,
   "metadata": {},
   "outputs": [],
   "source": [
    "def astype(pfall,selected,newtype):\n",
    "    for each in selected:\n",
    "        pfall[each] = pfall[each].astype(newtype)"
   ]
  },
  {
   "cell_type": "code",
   "execution_count": null,
   "metadata": {},
   "outputs": [],
   "source": [
    "selected = [  'CSENDERENDPOINTID']\n",
    "\n",
    "astype(pfall,selected,str) \n",
    "encoder.encode(pfall,selected)\n",
    "#astype(pfall,['CSTARTTIME','CENDTIME','CSLATAT','CMESSAGETAT2','CSLADELIVERYTIME','CINBOUNDSIZE'] ,int) \n",
    "#del(pfall['CSLABILLINGMONTH'])\n",
    "#pfall['CGLOBALMESSAGEID'] = pfall['CGLOBALMESSAGEID'].apply(hash)\n",
    "pfall = pfall.drop_duplicates()"
   ]
  },
  {
   "cell_type": "code",
   "execution_count": null,
   "metadata": {},
   "outputs": [],
   "source": [
    "# convert timestamp to datetime and add column date\n",
    "#import calendar\n",
    "##import pytz\n",
    "#de = pytz.timezone('Europe/Berlin')\n",
    "adddatecolumns(pfall,pfall,'CSTARTTIME')"
   ]
  },
  {
   "cell_type": "code",
   "execution_count": null,
   "metadata": {},
   "outputs": [],
   "source": [
    "astype(pfall,['CSTARTTIME'] ,int) "
   ]
  },
  {
   "cell_type": "code",
   "execution_count": null,
   "metadata": {},
   "outputs": [],
   "source": [
    "import time; ts = str(time.time()) \n",
    "pfall.to_parquet('/tmp/msgsenders_' + ts + '.parquet', engine='fastparquet', compression='GZIP')"
   ]
  },
  {
   "cell_type": "code",
   "execution_count": null,
   "metadata": {},
   "outputs": [],
   "source": [
    "#!mv /tmp/msgsenders_date.parquet /tmp/msgsenders_200716.parquet\n",
    "import time; ts = time.time() \n",
    "print(ts)"
   ]
  }
 ],
 "metadata": {
  "kernelspec": {
   "display_name": "Python 3",
   "language": "python",
   "name": "python3"
  },
  "language_info": {
   "codemirror_mode": {
    "name": "ipython",
    "version": 3
   },
   "file_extension": ".py",
   "mimetype": "text/x-python",
   "name": "python",
   "nbconvert_exporter": "python",
   "pygments_lexer": "ipython3",
   "version": "3.8.8"
  }
 },
 "nbformat": 4,
 "nbformat_minor": 4
}

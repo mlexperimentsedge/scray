{
 "cells": [
  {
   "cell_type": "code",
   "execution_count": 1,
   "id": "grateful-vegetation",
   "metadata": {},
   "outputs": [
    {
     "name": "stdout",
     "output_type": "stream",
     "text": [
      "Setup Complete\n"
     ]
    }
   ],
   "source": [
    "import base.dfBasics as dfBasics\n",
    "import base.common as common\n",
    "import base.encoder as encoder\n",
    "import base.pfAdapt as pfAdapt\n",
    "import base.charts as charts\n",
    "#import base.anomaly as anomaly\n",
    "\n",
    "import pandas as pd\n",
    "from pyspark.sql import functions"
   ]
  },
  {
   "cell_type": "code",
   "execution_count": 147,
   "id": "interested-projector",
   "metadata": {},
   "outputs": [
    {
     "name": "stdout",
     "output_type": "stream",
     "text": [
      "Setup Complete\n"
     ]
    }
   ],
   "source": [
    "## Setup charts\n",
    "import pandas as pd\n",
    "pd.plotting.register_matplotlib_converters()\n",
    "import matplotlib.pyplot as plt\n",
    "%matplotlib inline\n",
    "import seaborn as sns\n",
    "print(\"Setup Complete\")\n",
    "\n",
    "def get_ym_string(a,b) :\n",
    "    return a + \"-\" + b\n",
    "    #return a.join([\"-\",b]) \n",
    "\n",
    "def get_ym(mdcountsall) :\n",
    "    a = mdcountsall.index.get_level_values(0).astype(str)\n",
    "    b = mdcountsall.index.get_level_values(1).astype(str)\n",
    "    return a,b\n",
    "\n",
    "def get_ymd(mdcountsall) :\n",
    "    a = mdcountsall.index.get_level_values(0).astype(str)\n",
    "    b = mdcountsall.index.get_level_values(1).astype(str)\n",
    "    c = mdcountsall.index.get_level_values(2).astype(str)\n",
    "    return a,b,c\n",
    "\n",
    "def make_2digits(blist):\n",
    "    for n, b in enumerate(blist):\n",
    "        if int(b) < 10:\n",
    "             blist[n] = '0' + str(b)\n",
    "    return blist\n",
    "\n",
    "def get_ymd_string(a,b,c) :\n",
    "    if isinstance(a, str) :\n",
    "        return a + \"-\" + make_2digits([b])[0] + \"-\" + make_2digits([c])[0] \n",
    "    return a + \"-\" + pd.Index(make_2digits(b.tolist())) + \"-\" + pd.Index(make_2digits(c.tolist())) \n",
    "\n",
    "def get_ymdh(mdcountsall) :\n",
    "    a = mdcountsall.index.get_level_values(0).astype(str)\n",
    "    b = mdcountsall.index.get_level_values(1).astype(str)\n",
    "    c = mdcountsall.index.get_level_values(2).astype(str)\n",
    "    d = mdcountsall.index.get_level_values(3).astype(str)\n",
    "    return a,b,c,d\n",
    "\n",
    "def get_ymdh_string(a,b,c,d) :\n",
    "    return a + \"-\" + b + \"-\" + c + \"-\" + d\n",
    "\n",
    "def createData_ym(pfall,month) :\n",
    "    if (month > 0) & (month < 13) :\n",
    "        mdcountsall = pfall[(pfall['month'] == month)].groupby(['year','month'])['year'].count()\n",
    "    else :\n",
    "        mdcountsall = pfall.groupby(['year','month'])['year'].count()    \n",
    "    a,b = get_ym(mdcountsall)\n",
    "    data2 = pd.DataFrame()\n",
    "    data2['date'] = get_ym_string(a,b)\n",
    "    data2['outcome'] = mdcountsall.reset_index(level=0, drop=True).reset_index()['year'].astype(int) \n",
    "    return data2\n",
    "\n",
    "def createData(pfall,month) :\n",
    "    if (month > 0) & (month < 13) :\n",
    "        mdcountsall = pfall[(pfall['month'] == month)].groupby(['year','month','day','hour'])['year'].count()\n",
    "    else :\n",
    "        mdcountsall = pfall.groupby(['year','month','day','hour'])['year'].count()    \n",
    "    a,b,c,d = get_ymdh(mdcountsall)\n",
    "    data2 = pd.DataFrame()\n",
    "    data2['date'] = get_ymdh_string(a,b,c,d)\n",
    "    data2['outcome'] =  mdcountsall.reset_index(level=0, drop=True).reset_index()['year'].astype(int)\n",
    "\n",
    "    #for pivot table\n",
    "    data2['hours'] =  d.astype(int) \n",
    "    data2['days']  =  c.astype(int) \n",
    "    return data2\n",
    "\n",
    "def createData_ymd(pfall,month) :\n",
    "    if (month > 0) & (month < 13) :\n",
    "        mdcountsall = pfall[(pfall['month'] == month)].groupby(['year','month','day'])['year'].count()\n",
    "    else :\n",
    "        mdcountsall = pfall.groupby(['year','month','day'])['year'].count()    \n",
    "    a,b,c = get_ymd(mdcountsall)\n",
    "    data2 = pd.DataFrame()\n",
    "    data2['date'] = get_ymd_string(a,b,c)\n",
    "    data2['year'] = a.astype(int) \n",
    "    data2['month'] = b.astype(int) \n",
    "    data2['day'] = c.astype(int) \n",
    "    data2['outcome'] = mdcountsall.reset_index(level=0, drop=True).reset_index()['year'].astype(int) \n",
    "    return data2\n",
    "\n",
    "def label(graph,skip,rot) :\n",
    "    for ind, label in enumerate(graph.get_xticklabels()):\n",
    "        if ind % skip == 0:  # every 10th label is kept\n",
    "            label.set_visible(True)\n",
    "            label.set_rotation(rot)\n",
    "        else:\n",
    "            label.set_visible(False)\n",
    "\n"
   ]
  },
  {
   "cell_type": "code",
   "execution_count": 160,
   "id": "preliminary-aspect",
   "metadata": {},
   "outputs": [],
   "source": [
    "def createBarplot(md=None,fx=24,fy=12,fontscale=3.0,title=\"\") :\n",
    "    sns.set(style='whitegrid', palette='muted', font_scale=fontscale)\n",
    "    plt.figure(figsize=(fx,fy))\n",
    "    plt.title(title)\n",
    "    ax = sns.barplot(x=md['date'], y=md['outcome'], data=md)\n",
    "    plt.setp( ax.xaxis.get_majorticklabels(), rotation=75 )\n",
    "    plt.tight_layout()\n",
    "    plt.show()\n",
    "    return ax\n",
    "\n",
    "## heatmap\n",
    "def createHeatmap(piv,title=\"\",vmin=None,vmax=None) :\n",
    "    plt.figure(figsize=(24,8))\n",
    "    plt.title(title)\n",
    "    if vmin == None:\n",
    "        ax = sns.heatmap(piv, cbar=True, square=True)\n",
    "    else:\n",
    "        ax = sns.heatmap(piv, cbar=True, square=True, vmin=vmin, vmax=vmax)\n",
    "    plt.setp( ax.xaxis.get_majorticklabels(), rotation=0 )\n",
    "    plt.tight_layout()\n",
    "    plt.show()\n",
    "    return ax"
   ]
  },
  {
   "cell_type": "code",
   "execution_count": 154,
   "id": "intensive-window",
   "metadata": {},
   "outputs": [
    {
     "name": "stderr",
     "output_type": "stream",
     "text": [
      "<ipython-input-154-1b38dd4f26ba>:17: UserWarning: This figure includes Axes that are not compatible with tight_layout, so results might be incorrect.\n",
      "  fig.tight_layout(rect=[0, 0, .9, 1])\n"
     ]
    },
    {
     "data": {
      "image/png": "[encoded data removed]",
      "text/plain": [
       "<Figure size 432x288 with 5 Axes>"
      ]
     },
     "metadata": {
      "needs_background": "light"
     },
     "output_type": "display_data"
    }
   ],
   "source": [
    "import seaborn as sns\n",
    "import matplotlib.pyplot as plt\n",
    "import pandas as pd\n",
    "import numpy as np\n",
    "\n",
    "df = pd.DataFrame(np.random.random((10,10,)))\n",
    "\n",
    "fig, axn = plt.subplots(2, 2, sharex=True, sharey=True)\n",
    "cbar_ax = fig.add_axes([.91, .3, .03, .4])\n",
    "\n",
    "for i, ax in enumerate(axn.flat):\n",
    "    sns.heatmap(df, ax=ax,\n",
    "                cbar=i == 0,\n",
    "                vmin=0, vmax=1,\n",
    "                cbar_ax=None if i else cbar_ax)\n",
    "\n",
    "fig.tight_layout(rect=[0, 0, .9, 1])"
   ]
  },
  {
   "cell_type": "code",
   "execution_count": 3,
   "id": "funny-questionnaire",
   "metadata": {},
   "outputs": [],
   "source": [
    "sparkSession = dfBasics.getSparkSession()\n",
    "\n",
    "df = sparkSession.read.parquet('hdfs://hdfs-1.research.dev.seeburger.de/projects/ai/ssa/processcount/v3/*/*/*.parquet')\n",
    "\n",
    "pfall = df.toPandas()\n",
    "pfall = pfall[pfall['time'] != 'total']"
   ]
  },
  {
   "cell_type": "code",
   "execution_count": 4,
   "id": "powered-brief",
   "metadata": {},
   "outputs": [],
   "source": [
    "# add single columns for datestring\n",
    "\n",
    "ssa_timeformat = '%Y %m %d_%H:%M:%S'\n",
    "\n",
    "def date(x,timeformat='%Y %m %d_%H:%M:%S'):\n",
    "    return common.dt.datetime.strptime(x,timeformat)\n",
    "\n",
    "def adddatecolumns(data,pf,column,timeformat='%Y %m %d_%H:%M:%S') :\n",
    "    data['year'] = pf[column].apply(lambda x: date(x,timeformat).date().year)\n",
    "    data['month'] = pf[column].apply(lambda x: date(x,timeformat).date().month)\n",
    "    data['day'] = pf[column].apply(lambda x: date(x,timeformat).date().day)\n",
    "    data['hour'] = pf[column].apply(lambda x: date(x,timeformat).time().hour)\n",
    "    #data['minute'] = pf[column].apply(lambda x: date(x,timeformat).time().minute)\n",
    "    #data['second'] = pf[column].apply(lambda x: date(x,timeformat).time().second)"
   ]
  },
  {
   "cell_type": "code",
   "execution_count": 5,
   "id": "forced-corner",
   "metadata": {},
   "outputs": [],
   "source": [
    "#status = ['STOPPED_AFTER_ERROR','STOPPED', 'FAILED', 'FINISHED_ABNORMALLY', 'TIMEDOUT','TERMINATED_BY_USER', 'SUSPENDED']\n",
    "_status = [e for e in pfall.columns.to_list() if e not in ('customerId','instanceId','time')]\n",
    "keepcolumns = ['time', 'customerId', 'instanceId']\n",
    "_instanceId = pd.unique(pfall['instanceId'])"
   ]
  },
  {
   "cell_type": "code",
   "execution_count": 6,
   "id": "suitable-robinson",
   "metadata": {},
   "outputs": [],
   "source": [
    "def save():\n",
    "    pfall1.to_parquet('/tmp/ssa.parquet', engine='pyarrow', compression='GZIP')\n",
    "\n",
    "def processStatus(pfall, status):\n",
    "    pfall1 = pfall[(pfall[status].notna()) & (pfall[status] > 0.0)][keepcolumns + [status]]\n",
    "    instanceid_split = pd.DataFrame(pfall1['instanceId'].str.split('@',1).tolist(), columns = ['instance','host'])\n",
    "    #pfall1 = pfall1 + instanceid_split\n",
    "    pfall1['status'] = status\n",
    "    pfall1['counter'] = pfall1[status].astype(int)\n",
    "    del(pfall1[status])\n",
    "    adddatecolumns(pfall1,pfall1,'time',timeformat='%Y-%m-%d %H:%M:%S')\n",
    "    #del(pfall1['time'])\n",
    "    return pfall1.reset_index().join(instanceid_split)\n",
    "\n",
    "pfall1= pd.DataFrame()\n",
    "for status_i in _status:\n",
    "    pfall1 = pfall1.append(processStatus(pfall, status_i))\n",
    "    \n",
    "pfall1 = pfall1.sort_values(['year','month','day','hour']).reset_index()    \n",
    "pfall1['customerId'] = pfall1['customerId'].astype(int)\n",
    "pfall1['year'] = pfall1['year'].astype(int)\n",
    "pfall1['month'] = pfall1['month'].astype(int)\n",
    "pfall1['day'] = pfall1['day'].astype(int)\n",
    "pfall1['hour'] = pfall1['hour'].astype(int)\n",
    "\n",
    "_instances = pd.unique(pfall1['instance'])\n",
    "_hosts = pd.unique(pfall1['host'])"
   ]
  },
  {
   "cell_type": "code",
   "execution_count": 151,
   "id": "important-robinson",
   "metadata": {},
   "outputs": [],
   "source": [
    "import datetime\n",
    "\n",
    "def label(graph,skip,rot) :\n",
    "    for ind, label in enumerate(graph.get_xticklabels()):\n",
    "        if ind % skip == 0:  # every 10th label is kept\n",
    "            label.set_visible(True)\n",
    "            label.set_rotation(rot)\n",
    "        else:\n",
    "            label.set_visible(False)\n",
    "\n",
    "def get_ymdh(mdcountsall) :\n",
    "    levels = []\n",
    "    for i in range(mdcountsall.index.nlevels):\n",
    "        levels.append(mdcountsall.index.get_level_values(i).astype(str))\n",
    "    return levels\n",
    "\n",
    "def make_2digits(blist):\n",
    "    for n, b in enumerate(blist):\n",
    "        if int(b) < 10:\n",
    "             blist[n] = '0' + str(b)\n",
    "    return blist\n",
    "\n",
    "def get_ymd_string(a,b,c) :\n",
    "    if isinstance(a, str) :\n",
    "        return a + \"-\" + make_2digits([b])[0] + \"-\" + make_2digits([c])[0] \n",
    "    return a + \"-\" + pd.Index(make_2digits(b.tolist())) + \"-\" + pd.Index(make_2digits(c.tolist())) \n",
    "\n",
    "\n",
    "def get_ymdh_string(levels) :\n",
    "    value = ''\n",
    "    for level in levels:\n",
    "        if len(value) > 1:\n",
    "            value += \"-\"\n",
    "        #value += level\n",
    "        value += pd.Index(make_2digits(level.tolist()))\n",
    "    return value    \n",
    "    #return a + \"-\" + b + \"-\" + c + \"-\" + d\n",
    "\n",
    "def aggregate(pfall,month,column='counter',groupby=['year','month','day','hour']) :\n",
    "    if (month > 0) & (month < 13) :\n",
    "        mdcountsall = pfall[(pfall['month'] == month)].groupby(groupby)[column].sum()\n",
    "    else :\n",
    "        mdcountsall = pfall.groupby(groupby)[column].sum()  \n",
    "    \n",
    "    levels = get_ymdh(mdcountsall)\n",
    "    data2 = pd.DataFrame()\n",
    "    data2['date'] = get_ymdh_string(levels)\n",
    "        \n",
    "    data2['year']  =  levels[0].astype(int) \n",
    "    data2['month'] =  levels[1].astype(int) \n",
    "    data2['day']   =  levels[2].astype(int)     \n",
    "        \n",
    "    data2['outcome'] =  mdcountsall.reset_index(level=0, drop=True).reset_index()[column].astype(int)    \n",
    "    return data2.sort_values(['date']).reset_index()\n",
    "        \n",
    "def createData(pfall,month,column='counter',groupby=['year','month','day','hour']) :\n",
    "    if (month > 0) & (month < 13) :\n",
    "        mdcountsall = pfall[(pfall['month'] == month)].groupby(groupby)[column].sum()\n",
    "    else :\n",
    "        mdcountsall = pfall.groupby(groupby)[column].sum()     \n",
    "        \n",
    "    levels = get_ymdh(mdcountsall)\n",
    "    data2 = pd.DataFrame()\n",
    "    data2['date'] = get_ymdh_string(levels)\n",
    "   \n",
    "    data2['year']  =  levels[0].astype(int) \n",
    "    data2['month'] =  levels[1].astype(int) \n",
    "    data2['day']   =  levels[2].astype(int) \n",
    "    \n",
    "    data2['outcome'] =  mdcountsall.reset_index(level=0, drop=True).reset_index()[column].astype(int)\n",
    "        \n",
    "    #for pivot table\n",
    "    if 'hour' in groupby:\n",
    "        data2['hours'] =  levels[3].astype(int) \n",
    "        data2['days']  =  levels[2].astype(int) \n",
    "    return data2"
   ]
  },
  {
   "cell_type": "code",
   "execution_count": 284,
   "id": "brave-teacher",
   "metadata": {},
   "outputs": [],
   "source": [
    "def fill(pda,year,month, full=True, first=False, last=False):        \n",
    "    days = monthrange(year, month)[1]\n",
    "    df = pda[(pda['month'] == month) & (pda['year'] == year)].sort_values(['day'])\n",
    "    if len(df) == 0:\n",
    "        return\n",
    "    if full == True:\n",
    "        _start_day = 1\n",
    "        _end_day   = days\n",
    "    else:\n",
    "        _start_day = min(df['day'])\n",
    "        _end_day   = max(df['day'])\n",
    "        \n",
    "    if first == True:     \n",
    "        _start_day = min(df['day'])\n",
    "        \n",
    "    if last == True:     \n",
    "        _end_day   = max(df['day'])    \n",
    "        \n",
    "    #print(year, month,days,_start_day, _end_day)\n",
    "    #for day in range(1, days + 1):\n",
    "    for day in range(_start_day, _end_day + 1):\n",
    "        if len(df[df['day']==day]) == 0:\n",
    "            #print(day)\n",
    "            pda.loc[len(pda)]=[get_ymd_string(str(year),str(month),str(day)),year,month,day,0]\n",
    "            \n",
    "def check(_res):\n",
    "    _start_year = min(pd.unique(_res['year']))\n",
    "    _end_year = max(pd.unique(_res['year']))  \n",
    "    _start_month = min(pd.unique(_res[_res['year']== _start_year]['month']))\n",
    "    _end_month = max(pd.unique(_res[_res['year']== _end_year]['month']))\n",
    "    _start_day = min(pd.unique(_res[(_res['year']== _start_year) & (_res['month'] == _start_month)]['day']))\n",
    "    _end_day = max(pd.unique(_res[(_res['year']== _end_year) & (_res['month'] == _end_month)]['day']))\n",
    "    \n",
    "    #print(_start_year,_start_month,_end_year,_end_month)\n",
    "    _end = 13\n",
    "    first = True\n",
    "    last  = False\n",
    "    \n",
    "    for year in range(_start_year,_end_year+1):\n",
    "        if year == _end_year:\n",
    "            _end = _end_month + 1\n",
    "        for month in range(_start_month,_end):\n",
    "            #print(year,month)\n",
    "            if((month == _end_month) & (year == _end_year)):\n",
    "                last = True\n",
    "            fill(_res,year,month,full=True,first=first,last=last)\n",
    "            first = False\n",
    "        _start_month=1"
   ]
  },
  {
   "cell_type": "code",
   "execution_count": 266,
   "id": "gorgeous-easter",
   "metadata": {},
   "outputs": [],
   "source": [
    "from calendar import monthrange\n",
    "import ipywidgets as widgets\n",
    "from IPython.display import display, clear_output\n",
    "style = {'description_width': '250px'}\n",
    "layout = {'width': '600px'}\n",
    "\n",
    "class visWidget(object):\n",
    "    def __init__(self, **kwargs):\n",
    "        allowed_keys = {'year', 'month', 'day','customerId','host','instance','status'}\n",
    "        int_keys = {'year',  'day','customerId'}\n",
    "        string_keys = {'month','host','instance','status'}\n",
    "        for key in allowed_keys:\n",
    "            self.__dict__.update({key : None})\n",
    "        self.__dict__.update((k, int(v)) for k, v in kwargs.items() if k in int_keys and len(str(v)) > 0 )    \n",
    "        self.__dict__.update((k, v) for k, v in kwargs.items() if k in string_keys) \n",
    "        \n",
    "def check(_res):\n",
    "    _start_year = min(pd.unique(_res['year']))\n",
    "    _end_year = max(pd.unique(_res['year']))  \n",
    "    _start_month = min(pd.unique(_res[_res['year']== _start_year]['month']))\n",
    "    _end_month = max(pd.unique(_res[_res['year']== _end_year]['month']))\n",
    "\n",
    "    _end = 13\n",
    "    for year in range(_start_year,_end_year+1):\n",
    "        for month in range(_start_month,_end):\n",
    "            print(year,month)\n",
    "            fill(_res,year,month)\n",
    "        _start_month=1\n",
    "        if year == (_end_year-1):\n",
    "            _end = _end_month + 1  \n",
    "            \n",
    "def output_graph():\n",
    "    with out:\n",
    "        #clear_output()\n",
    "        global _res\n",
    "        _res = aggregate(pfall2,0,column='counter',groupby=['year','month','day'])\n",
    "        del _res['index']\n",
    "        check(_res)\n",
    "        _res = _res.sort_values(['date']).reset_index()  \n",
    "\n",
    "        _res1=_res\n",
    "        fig = plt.figure(figsize=(12,6))\n",
    "        ax = fig.add_subplot(1,1,1)\n",
    "        plt.tick_params(axis='x', which='both', bottom=False, top=False, labelbottom=True) \n",
    "        line1, =plt.plot(_res1.date, _res1['outcome'], label='month')\n",
    "        label(ax,30,80)\n",
    "        plt.legend();\n",
    "        plt.show(fig)\n",
    "\n",
    "def output_heatmap(month):\n",
    "    #print(month)\n",
    "    data2 = createData(pfall2,month, 'counter')\n",
    "    piv = pd.pivot_table(data2, values=\"outcome\",index=[\"hours\"], columns=[\"days\"], fill_value=0)\n",
    "    \n",
    "    _days = monthrange(int(year.value), month)[1]\n",
    "    #piv.reindex(index=range(0,24), columns=range(1,_days + 1), fill_value=0)\n",
    "    if len(piv) > 0:\n",
    "        with out:\n",
    "            #clear_output()\n",
    "            #createHeatmap(piv, '',vmin=0,vmax=40)\n",
    "            createHeatmap(piv, '')\n",
    "    \n",
    "def adapt():\n",
    "    \n",
    "    state = get_state()\n",
    "    global _old_state\n",
    "    if _old_state == None or state == _old_state:\n",
    "        return\n",
    "    _old_state = None\n",
    "    \n",
    "    with out:\n",
    "        clear_output()\n",
    "    \n",
    "    \n",
    "    global pfall2\n",
    "    #pfall2 = pfall1\n",
    "    pfall2 = pfall1[pfall1['customerId'] == customer_list.value]\n",
    "    hosts_list.options     = pd.unique(pfall2['host'])\n",
    "    #hosts_list.value = hosts_list.options[0]\n",
    "    pfall2 = pfall2[(pfall2['host'] == hosts_list.value)]\n",
    "    instances_list.options = pd.unique(pfall2['instance'])\n",
    "    \n",
    "    if len(year.value) > 0:\n",
    "        pfall2 = pfall2[(pfall2['year'] == int(year.value))]\n",
    "    \n",
    "    #if len(month.value) > 0:\n",
    "    #    pfall2 = pfall2[(pfall2['month'] == int(month.value))]\n",
    "    \n",
    "    if len(month.value) > 0:\n",
    "        fromto = month.value.split('-')\n",
    "        if len(fromto) == 1:\n",
    "            pfall2 = pfall2[(pfall2['month'] == int(month.value))]\n",
    "            output_heatmap(int(month.value))\n",
    "        else:\n",
    "            del(pfall2['level_0'])\n",
    "            _res=[]\n",
    "            for m in range(int(fromto[0]), int(fromto[1]) + 1):\n",
    "                #output_heatmap(m)\n",
    "                _res.append(get_month(pfall2, year=int(year.value), month=m))\n",
    "            pfall2 = pd.concat(_res, ignore_index=True).reset_index()\n",
    "            output_graph()\n",
    "    else:\n",
    "        output_graph()\n",
    "    \n",
    "    pfall2 = pfall2[(pfall2['instance'] == instances_list.value)]\n",
    "    \n",
    "    status_list.options = pd.unique(pfall2['status'])\n",
    "    pfall2 = pfall2[(pfall2['status'] == status_list.value)]\n",
    "      \n",
    "    _old_state=get_state()\n",
    "    #print(state.__dict__)\n",
    "    \n",
    "def get_state():\n",
    "    return visWidget(year=year.value, month=month.value, day=day.value,customerId=customer_list.value,host=hosts_list.value,instance=instances_list.value,status=status_list.value)\n",
    "    \n",
    "def hosts_liston_change(change):\n",
    "    if change['type'] == 'change' and change['name'] == 'value':\n",
    "        adapt()    \n",
    "        #instances_list.options = instances = pd.unique(pfall2[pfall2['host'] == hosts_list.value]['instance'])\n",
    "        \n",
    "def on_value_submit_month(change):\n",
    "    adapt()\n",
    "    #print(int(change.value))"
   ]
  },
  {
   "cell_type": "code",
   "execution_count": 113,
   "id": "technological-millennium",
   "metadata": {},
   "outputs": [
    {
     "data": {
      "text/plain": [
       "['']"
      ]
     },
     "execution_count": 113,
     "metadata": {},
     "output_type": "execute_result"
    }
   ],
   "source": [
    "#.str.split('@',1).tolist()\n",
    "\"5-7\".split('-')"
   ]
  },
  {
   "cell_type": "markdown",
   "id": "blessed-mirror",
   "metadata": {},
   "source": [
    "# widget"
   ]
  },
  {
   "cell_type": "code",
   "execution_count": 289,
   "id": "academic-celtic",
   "metadata": {},
   "outputs": [
    {
     "data": {
      "application/vnd.jupyter.widget-view+json": {
       "model_id": "6195e641edbc474d8f9b39bb03ccbc34",
       "version_major": 2,
       "version_minor": 0
      },
      "text/plain": [
       "Text(value='2019', description='year', layout=Layout(width='600px'), style=DescriptionStyle(description_width=…"
      ]
     },
     "metadata": {},
     "output_type": "display_data"
    },
    {
     "data": {
      "application/vnd.jupyter.widget-view+json": {
       "model_id": "0850ef593bb14b5bb5eabbb9846e6a32",
       "version_major": 2,
       "version_minor": 0
      },
      "text/plain": [
       "Text(value='', description='month', layout=Layout(width='600px'), style=DescriptionStyle(description_width='25…"
      ]
     },
     "metadata": {},
     "output_type": "display_data"
    },
    {
     "data": {
      "application/vnd.jupyter.widget-view+json": {
       "model_id": "89fed43903e54492bfd83522d5da7212",
       "version_major": 2,
       "version_minor": 0
      },
      "text/plain": [
       "Text(value='', description='day', layout=Layout(width='600px'), style=DescriptionStyle(description_width='250p…"
      ]
     },
     "metadata": {},
     "output_type": "display_data"
    },
    {
     "data": {
      "application/vnd.jupyter.widget-view+json": {
       "model_id": "8dc3a52e81444be29509735f8eef58e5",
       "version_major": 2,
       "version_minor": 0
      },
      "text/plain": [
       "Dropdown(description='customer', layout=Layout(width='600px'), options=(10823, 8904, 87772, 120489, 105666, 11…"
      ]
     },
     "metadata": {},
     "output_type": "display_data"
    },
    {
     "data": {
      "application/vnd.jupyter.widget-view+json": {
       "model_id": "94f18c20f8e34a55b4301c20ad4e65c1",
       "version_major": 2,
       "version_minor": 0
      },
      "text/plain": [
       "Dropdown(description='host', layout=Layout(width='600px'), options=('SRVPUE04', 'SRVFRE03', 'SRVVIB685', 'BIS6…"
      ]
     },
     "metadata": {},
     "output_type": "display_data"
    },
    {
     "data": {
      "application/vnd.jupyter.widget-view+json": {
       "model_id": "de390eba518748e185473333475d24aa",
       "version_major": 2,
       "version_minor": 0
      },
      "text/plain": [
       "Dropdown(description='instance', layout=Layout(width='600px'), options=('CENTRAL', 'SRVVIB685', 'NODE2_SRVVIB5…"
      ]
     },
     "metadata": {},
     "output_type": "display_data"
    },
    {
     "data": {
      "application/vnd.jupyter.widget-view+json": {
       "model_id": "b088549bf1314400854d0f80fbf36e53",
       "version_major": 2,
       "version_minor": 0
      },
      "text/plain": [
       "Dropdown(description='status', layout=Layout(width='600px'), options=(), style=DescriptionStyle(description_wi…"
      ]
     },
     "metadata": {},
     "output_type": "display_data"
    },
    {
     "data": {
      "application/vnd.jupyter.widget-view+json": {
       "model_id": "e9877db3cc3d4316a3d8d649ed85431b",
       "version_major": 2,
       "version_minor": 0
      },
      "text/plain": [
       "Output()"
      ]
     },
     "metadata": {},
     "output_type": "display_data"
    }
   ],
   "source": [
    "_instances_month = pd.unique(pfall1['instance'])\n",
    "_hosts_month     = pd.unique(pfall1['host'])\n",
    "\n",
    "year   = widgets.Text(description = 'year',value = '2019', style=style, layout=layout,disabled=False)     \n",
    "month  = widgets.Text(description = 'month',value = '', style=style, layout=layout,disabled=False) \n",
    "day    = widgets.Text(description = 'day',value = '', style=style, layout=layout,disabled=False) \n",
    "month.on_submit(on_value_submit_month)\n",
    "year.on_submit(on_value_submit_month)\n",
    "hosts_list = widgets.Dropdown(description='host',options=_hosts_month, style=style, layout=layout,disabled=False)\n",
    "hosts_list.observe(hosts_liston_change) \n",
    "instances_list = widgets.Dropdown(description='instance',options=_instances_month, style=style, layout=layout,disabled=False)\n",
    "instances_list.observe(hosts_liston_change) \n",
    "status_list = widgets.Dropdown(description='status',options=[], style=style, layout=layout,disabled=False)\n",
    "status_list.observe(hosts_liston_change) \n",
    "customer_list = widgets.Dropdown(description='customer',options=pd.unique(pfall1['customerId']), style=style, layout=layout,disabled=False)\n",
    "customer_list.observe(hosts_liston_change) \n",
    "#adapt()\n",
    "_old_state = get_state()\n",
    "out = widgets.Output()\n",
    "display (year,month,day,customer_list,hosts_list,instances_list,status_list,out)"
   ]
  },
  {
   "cell_type": "code",
   "execution_count": 291,
   "id": "charming-christianity",
   "metadata": {},
   "outputs": [
    {
     "data": {
      "text/plain": [
       "{'instance': 'INSTANCE_NDL-NL-DT-016',\n",
       " 'year': None,\n",
       " 'host': 'NDL-NL-BIS-211',\n",
       " 'day': None,\n",
       " 'status': 'FINISHED',\n",
       " 'month': '',\n",
       " 'customerId': 120489}"
      ]
     },
     "execution_count": 291,
     "metadata": {},
     "output_type": "execute_result"
    }
   ],
   "source": [
    "#_res[(_res['month'] == 6) & (_res['year'] == 2019)]\n",
    "_old_state.__dict__"
   ]
  },
  {
   "cell_type": "markdown",
   "id": "outside-heavy",
   "metadata": {},
   "source": [
    "# LSTM"
   ]
  },
  {
   "cell_type": "code",
   "execution_count": 292,
   "id": "hungry-robertson",
   "metadata": {},
   "outputs": [],
   "source": [
    "import numpy as np\n",
    "import AnomalyDetectionLSTMAutoencoder\n",
    "\n",
    "_res1=_res\n",
    "TIME_STEPS = 30\n",
    "\n",
    "def getThreshold(perc):\n",
    "    anomalyEnc.test_score_df      = anomalyEnc.testScoreDF(anomalyEnc.model, 0.0, anomalyEnc.X_test, anomalyEnc.test)\n",
    "    fig = plt.figure(figsize=(12,6))\n",
    "    plt.tick_params(axis='x', which='both', bottom=False, top=False, labelbottom=False) \n",
    "    data = plt.plot(anomalyEnc.test_score_df.index, anomalyEnc.test_score_df.loss, label='loss')\n",
    "    y=plt.getp(data[0],'ydata')\n",
    "    plt.show(fig)\n",
    "    \n",
    "    #threshold_X = np.max(y) - 0.025\n",
    "    return perc * np.max(y)\n",
    "\n",
    "def doit():\n",
    "    anomalyEnc = AnomalyDetectionLSTMAutoencoder.AnomalyDetectionLSTMAutoencoder(TIME_STEPS = 30)\n",
    "    anomalyEnc.initAndTrain(_res1,0.7)\n",
    "    return anomalyEnc\n",
    "\n",
    "out2 = widgets.Output()\n",
    "\n",
    "anomalyEnc = None\n",
    "\n",
    "with out2:\n",
    "    anomalyEnc = doit()   "
   ]
  },
  {
   "cell_type": "code",
   "execution_count": 293,
   "id": "sound-bhutan",
   "metadata": {},
   "outputs": [
    {
     "data": {
      "application/vnd.jupyter.widget-view+json": {
       "model_id": "6bf836f2a0da4295bfac552d16725e37",
       "version_major": 2,
       "version_minor": 0
      },
      "text/plain": [
       "Text(value='0.985', description='percent', layout=Layout(width='600px'), style=DescriptionStyle(description_wi…"
      ]
     },
     "metadata": {},
     "output_type": "display_data"
    },
    {
     "data": {
      "application/vnd.jupyter.widget-view+json": {
       "model_id": "f33e39dcb049410fbe8e16c5275677ba",
       "version_major": 2,
       "version_minor": 0
      },
      "text/plain": [
       "Output()"
      ]
     },
     "metadata": {},
     "output_type": "display_data"
    }
   ],
   "source": [
    "import base.anomaly as anomaly\n",
    "\n",
    "\n",
    "def scatterplot(index, values,label):\n",
    "    return sns.scatterplot(\n",
    "      x=index,\n",
    "      y=values,\n",
    "      color=sns.color_palette()[3],\n",
    "      s=152,\n",
    "      label=label\n",
    "    )\n",
    "    \n",
    "def plot_test(test,scaler,anomalies,titlestring):\n",
    "\n",
    "    fig = plt.figure(figsize=(12,6))\n",
    "    \n",
    "    plt.plot(\n",
    "      test[TIME_STEPS:].index, \n",
    "      scaler.inverse_transform(test[TIME_STEPS:].close), \n",
    "      label='msg count'\n",
    "    );\n",
    "\n",
    "    ax = scatterplot(anomalyEnc.anomalies.index, anomalyEnc.scaler.inverse_transform(anomalyEnc.anomalies['close']), 'anomaly')  \n",
    "    plt.tick_params(axis='x', which='both', bottom=False, top=False, labelbottom=False) \n",
    "    plt.xticks(rotation=25)\n",
    "    plt.legend();\n",
    "\n",
    "    label(ax,5,80)\n",
    "    plt.title(titlestring)\n",
    "    plt.show(fig)\n",
    "\n",
    "out3 = widgets.Output()\n",
    "\n",
    "def on_value_submit_percent(change):\n",
    "    with out2:\n",
    "        threshold_X = getThreshold(float(percent.value))\n",
    "        anomalyEnc.evaluateAnomalies(threshold_X)\n",
    "        clear_output()\n",
    "    \n",
    "    with out3:\n",
    "        clear_output()\n",
    "        sender = 0\n",
    "        titlestring =\"endpoint (sending) : \" + str(sender) + \" ( trained: \" +  anomalyEnc.train.index[0] + \" -- \" + anomalyEnc.train.index[len(anomalyEnc.train.index)-1] + \" )\"\n",
    "        plot_test(anomalyEnc.test,anomalyEnc.scaler,anomalyEnc.anomalies,titlestring)\n",
    "\n",
    "percent   = widgets.Text(description = 'percent',value = '0.985', style=style, layout=layout,disabled=False)    \n",
    "percent.on_submit(on_value_submit_percent)\n",
    "\n",
    "display(percent,out3)"
   ]
  },
  {
   "cell_type": "code",
   "execution_count": 99,
   "id": "falling-elements",
   "metadata": {},
   "outputs": [
    {
     "data": {
      "image/png": "[encoded data removed]",
      "text/plain": [
       "<Figure size 1008x432 with 1 Axes>"
      ]
     },
     "metadata": {},
     "output_type": "display_data"
    }
   ],
   "source": [
    "_a = get_month(_res, year=2021, month=4)\n",
    "_b = get_month(_res, year=2021, month=5)\n",
    "_c = pd.concat([_a, _b], ignore_index=True).reset_index()\n",
    "\n",
    "fig = plt.figure(figsize=(14,6))\n",
    "plt.plot(_c['date'], _c['outcome'], label='msg count');\n",
    "#plt.xticks(rotation=25)\n",
    "ax = scatterplot(anomalyEnc.anomalies.index, anomalyEnc.scaler.inverse_transform(anomalyEnc.anomalies['close']), 'anomaly')   \n",
    "plt.tick_params(axis='x', which='both', bottom=False, top=False, labelbottom=True) \n",
    "label(ax,5,80)\n",
    "plt.show(fig)"
   ]
  },
  {
   "cell_type": "code",
   "execution_count": 257,
   "id": "unusual-value",
   "metadata": {},
   "outputs": [],
   "source": [
    "#hosts_list.value\n",
    "#pfall2[pfall2['day'] == 2]\n",
    "\n",
    "#pd.unique(pfall1[(pfall1['host']==_old_state.__dict__['host']) & (pfall1['customerId'] ==_old_state.__dict__['customer'])]['instance'])\n",
    "\n",
    "#pd.unique(pfall1[(pfall1['customerId'] ==_old_state.__dict__['customer'])]['host'])\n",
    "\n",
    "#pd.unique(pfall1[(pfall1['host']==_old_state.__dict__['host'])]['instance'])\n",
    "\n",
    "#_old_state.__dict__['customer']\n",
    "#hosts_list.options\n",
    "#_old_state.__dict__['customer']\n",
    "\n",
    "#pd.unique(pfall1[(pfall1['customerId'] ==_old_state.__dict__['customer']) & (pfall1['host']==_old_state.__dict__['host'])]['instance'])\n",
    "\n",
    "\n",
    "#pd.unique(pfall1[(pfall1['customerId'] ==_old_state.__dict__['customer'])]['instance'])\n",
    "\n",
    "\n",
    "#pfall1[(pfall1['customerId'] ==_old_state.__dict__['customer'])]\n",
    "\n",
    "#pd.unique(pfall1[(pfall1['customerId'] ==_old_state.__dict__['customerId']) & (pfall1['host']==_old_state.__dict__['host'])]['instance'])\n",
    "#pd.unique(pfall1[(pfall1['customerId'] ==_old_state.__dict__['customerId']) & (pfall1['instance'] ==_old_state.__dict__['instance']) & (pfall1['host']==_old_state.__dict__['host'])]['status'])\n",
    "\n",
    "\n",
    "#pfall1[(pfall1['customerId'] ==_old_state.__dict__['customerId']) & (pfall1['host']==_old_state.__dict__['host'])]\n",
    "del(_res['index'])\n",
    "#_res.columns\n",
    "check(_res)\n",
    "#pda.loc[len(pda)]=[get_ymd_string(str(year),str(month),str(day)),year,month,day,0]\n",
    "#_res[_res['month'] == 10]"
   ]
  },
  {
   "cell_type": "code",
   "execution_count": null,
   "id": "american-promotion",
   "metadata": {},
   "outputs": [],
   "source": [
    "#_res\n",
    "#_res[_res['month'] == 8].sort_values(['date'])\n",
    "\n",
    "#_res.sort_values(['date'])[_res['month'] == 8]\n",
    "\n",
    "_res[_res['month'] == 7]"
   ]
  },
  {
   "cell_type": "code",
   "execution_count": 239,
   "id": "alleged-facing",
   "metadata": {},
   "outputs": [
    {
     "name": "stdout",
     "output_type": "stream",
     "text": [
      "2019 12 31 1 18\n"
     ]
    }
   ],
   "source": [
    "#_res\n",
    "pda = _res\n",
    "month = 12\n",
    "year = 2019\n",
    "\n",
    "days = monthrange(year, month)[1]\n",
    "pda = pda[(pda['month'] == month) & (pda['year'] == year)].sort_values(['day'])\n",
    "_start_day = min(pda['day'])\n",
    "_end_day   = max(pda['day'])\n",
    "print(year, month,days,_start_day, _end_day)"
   ]
  },
  {
   "cell_type": "code",
   "execution_count": 233,
   "id": "optional-increase",
   "metadata": {},
   "outputs": [
    {
     "name": "stdout",
     "output_type": "stream",
     "text": [
      "2019 11 2019 12\n"
     ]
    }
   ],
   "source": [
    "#_res[_res['month'] == 10]\n",
    "\n",
    "_start_year = min(pd.unique(_res['year']))\n",
    "_end_year = max(pd.unique(_res['year']))  \n",
    "_start_month = min(pd.unique(_res[_res['year']== _start_year]['month']))\n",
    "_end_month = max(pd.unique(_res[_res['year']== _end_year]['month']))\n",
    "\n",
    "print(_start_year,_start_month,_end_year,_end_month)\n"
   ]
  },
  {
   "cell_type": "code",
   "execution_count": 189,
   "id": "hazardous-directory",
   "metadata": {},
   "outputs": [
    {
     "data": {
      "text/html": [
       "<div>\n",
       "<style scoped>\n",
       "    .dataframe tbody tr th:only-of-type {\n",
       "        vertical-align: middle;\n",
       "    }\n",
       "\n",
       "    .dataframe tbody tr th {\n",
       "        vertical-align: top;\n",
       "    }\n",
       "\n",
       "    .dataframe thead th {\n",
       "        text-align: right;\n",
       "    }\n",
       "</style>\n",
       "<table border=\"1\" class=\"dataframe\">\n",
       "  <thead>\n",
       "    <tr style=\"text-align: right;\">\n",
       "      <th></th>\n",
       "      <th>customerId</th>\n",
       "      <th>instanceId</th>\n",
       "      <th>time</th>\n",
       "      <th>FINISHED</th>\n",
       "      <th>STOPPED_AFTER_ERROR</th>\n",
       "      <th>STOPPED</th>\n",
       "      <th>FAILED</th>\n",
       "      <th>FINISHED_ABNORMALLY</th>\n",
       "      <th>TIMEDOUT</th>\n",
       "      <th>TERMINATED_BY_USER</th>\n",
       "      <th>SUSPENDED</th>\n",
       "    </tr>\n",
       "  </thead>\n",
       "  <tbody>\n",
       "    <tr>\n",
       "      <th>42715</th>\n",
       "      <td>10823</td>\n",
       "      <td>NODE1_SRVVIB500A@BIS6PROD</td>\n",
       "      <td>2019-08-02 00:00:00</td>\n",
       "      <td>1</td>\n",
       "      <td>0</td>\n",
       "      <td>0</td>\n",
       "      <td>0</td>\n",
       "      <td>0</td>\n",
       "      <td>0</td>\n",
       "      <td>0</td>\n",
       "      <td>0.0</td>\n",
       "    </tr>\n",
       "    <tr>\n",
       "      <th>42716</th>\n",
       "      <td>10823</td>\n",
       "      <td>NODE1_SRVVIB500A@BIS6PROD</td>\n",
       "      <td>2019-08-02 00:00:00</td>\n",
       "      <td>846</td>\n",
       "      <td>0</td>\n",
       "      <td>0</td>\n",
       "      <td>0</td>\n",
       "      <td>0</td>\n",
       "      <td>0</td>\n",
       "      <td>0</td>\n",
       "      <td>0.0</td>\n",
       "    </tr>\n",
       "  </tbody>\n",
       "</table>\n",
       "</div>"
      ],
      "text/plain": [
       "      customerId                 instanceId                 time  FINISHED  \\\n",
       "42715      10823  NODE1_SRVVIB500A@BIS6PROD  2019-08-02 00:00:00         1   \n",
       "42716      10823  NODE1_SRVVIB500A@BIS6PROD  2019-08-02 00:00:00       846   \n",
       "\n",
       "       STOPPED_AFTER_ERROR  STOPPED  FAILED  FINISHED_ABNORMALLY  TIMEDOUT  \\\n",
       "42715                    0        0       0                    0         0   \n",
       "42716                    0        0       0                    0         0   \n",
       "\n",
       "       TERMINATED_BY_USER  SUSPENDED  \n",
       "42715                   0        0.0  \n",
       "42716                   0        0.0  "
      ]
     },
     "execution_count": 189,
     "metadata": {},
     "output_type": "execute_result"
    }
   ],
   "source": [
    "pfall[(pfall['instanceId'] == 'NODE1_SRVVIB500A@BIS6PROD') & (pfall['time'] == '2019-08-02 00:00:00')]\n",
    "#pfall1[(pfall1['instanceId'] == 'NODE1_SRVVIB500A@BIS6PROD') & (pfall1['year'] == 2019) & (pfall1['month'] == 8) & (pfall1['day'] == 2)]\n",
    "#pfall1"
   ]
  },
  {
   "cell_type": "code",
   "execution_count": null,
   "id": "surprised-crawford",
   "metadata": {},
   "outputs": [],
   "source": [
    "#_res\n",
    "pd.unique(pfall1[pfall1['customerId'] == 30905]['host'])\n",
    "#instances_list.options\n",
    "\n",
    "pfall2 = pfall1[pfall1['customerId'] == customer_list.value]\n",
    "hosts_list.options     = pd.unique(pfall2['host'])\n",
    "instances_list.options = pd.unique(pfall2['instance'])\n",
    "\n",
    "\n",
    "#pd.unique(pfall2['instance'])\n",
    "instances_list.options\n",
    "\n"
   ]
  },
  {
   "cell_type": "code",
   "execution_count": null,
   "id": "shared-editing",
   "metadata": {},
   "outputs": [],
   "source": [
    "#pd.unique(pfall1['status'])\n",
    "#pfall1[(pfall1['status'] == status[3]) & (pfall1['year'] == 2019) & (pfall1['month'] == 7) & (pfall1['day'] == 31) & (pfall1['instanceId'] == _instanceId[0])]\n",
    "\n",
    "#pfall1[(pfall1['status'] == status[3]) & (pfall1['year'] == 2019) & (pfall1['month'] == 7) & (pfall1['instance'] == _instances[2])]\n",
    "\n",
    "#_hosts, _instances\n",
    "\n",
    "pfall2"
   ]
  },
  {
   "cell_type": "code",
   "execution_count": null,
   "id": "japanese-prior",
   "metadata": {},
   "outputs": [],
   "source": [
    "#pd.unique(pfall['year']), len(pfall)\n",
    "#pfall[pfall['FAILED'] != 0.0]\n",
    "#pfall[(pfall['STOPPED_AFTER_ERROR'].notna()) & (pfall['STOPPED_AFTER_ERROR'] > 0.0)]\n",
    "\n",
    "#\n",
    "\n",
    "\n",
    "#keepcolumns = ['customerId', 'hostname', 'year', 'month', 'day', 'hour', 'minute', 'second']\n",
    "\n",
    "#'time', 'counter',\n",
    "\n",
    "\n",
    "#\n",
    "#pfall1\n",
    "\n",
    "#\n",
    "\n",
    "\n",
    "#pfall[pfall['status'] == 'FAILED'][keepcolumns + ['FAILED']]\n",
    "#pfall\n",
    "\n",
    "pfall1[pfall1['status'] == 'FAILED']\n",
    "\n",
    "pfall.loc[(pfall['FAILED'].notna()) & (pfall['FAILED'] == 0.0)]\n"
   ]
  },
  {
   "cell_type": "code",
   "execution_count": null,
   "id": "essential-playback",
   "metadata": {},
   "outputs": [],
   "source": [
    "\n",
    "pd.unique(pfall2['status'])\n",
    " #createData(pfall2,9,groupby=['year','month','day','hour'])"
   ]
  },
  {
   "cell_type": "code",
   "execution_count": null,
   "id": "conditional-vietnam",
   "metadata": {},
   "outputs": [],
   "source": [
    "\n",
    "\n",
    "#pd.unique(pfall['hostname'])\n",
    "data2 = createData(pfall2,4, 'counter')\n",
    "piv = pd.pivot_table(data2, values=\"outcome\",index=[\"hours\"], columns=[\"days\"], fill_value=0)\n",
    "if len(piv) > 0:\n",
    "    with out:\n",
    "        clear_output()\n",
    "        createHeatmap(piv, '')\n",
    "    \n",
    "#pd.unique(pfall1['month'])     "
   ]
  },
  {
   "cell_type": "code",
   "execution_count": null,
   "id": "fatty-czech",
   "metadata": {},
   "outputs": [],
   "source": [
    "from calendar import monthrange\n",
    "_days = monthrange(2020, 4)[1]\n",
    "piv.reindex(index=range(0,24), columns=range(1,_days + 1), fill_value=0)\n"
   ]
  },
  {
   "cell_type": "code",
   "execution_count": null,
   "id": "extensive-homeless",
   "metadata": {},
   "outputs": [],
   "source": [
    "#pfall1[(pfall1['day']==1) & (pfall1['month']==1)].groupby(['year','month','day','hour']).sum()\n",
    "pfall1[(pfall1['day']==1) & (pfall1['month']==1)].sort_values(['hour'])\n",
    "pfall1[(pfall1['day']==1) & (pfall1['month']==2)].sort_values(['hour']).groupby(['year','month','day'])['counter'].sum()\n",
    "pfall1[(pfall1['month']==2)].sort_values(['hour']).groupby(['year','month','day'])['counter'].sum()\n",
    "pfall1[(pfall1['month']==3)].groupby(['year','month','day','hour'])['counter'].sum()\n",
    "\n",
    "#pfall1.groupby(['year','month','day','hour']).sum()"
   ]
  },
  {
   "cell_type": "code",
   "execution_count": null,
   "id": "preliminary-herald",
   "metadata": {},
   "outputs": [],
   "source": [
    "#data = createData(pfall1,0)\n",
    "pfall1 = pfall[(pfall['year']==2020) & (pfall['hostname'] == hostnames[0])]\n",
    "pfall1 = pfall[(pfall['hostname'] == hostnames[1])]\n",
    "data = createData(pfall1,0,groupby=['year','month','day'])\n",
    "\n",
    "fig = plt.figure(figsize=(24,12))\n",
    "ax = fig.add_subplot(1,1,1)\n",
    "plt.tick_params(axis='x', which='both', bottom=False, top=False, labelbottom=True) \n",
    "line1, =plt.plot(data.date, data['outcome'], label='loss')\n",
    "label(ax,15,80)\n",
    "plt.legend();"
   ]
  },
  {
   "cell_type": "code",
   "execution_count": 64,
   "id": "first-female",
   "metadata": {},
   "outputs": [],
   "source": [
    "from calendar import monthrange\n",
    "import datetime\n",
    "datetime.date(2032, 12, 31).isocalendar()[1]\n",
    "\n",
    "def get_year(pda, year=2020):\n",
    "    return pda[(pda['year'] == year)]\n",
    "\n",
    "def add_weeek(df):\n",
    "    datetime.date(2032, 12, 31).isocalendar()[1]\n",
    "    \n",
    "def get_month(pda, year=2020, month=1):\n",
    "    return pda[(pda['month'] == month) & (pda['year'] == year)]\n",
    "\n",
    "def is_complete(pda, year=2020, month=1):\n",
    "    mm = pda[(pda['month'] == month) & (pda['year'] == year)]\n",
    "    if len(mm) > 0:\n",
    "        return monthrange(year, month)[1] == len(mm)\n",
    "    return None\n",
    "    \n",
    "def check_complete(pda, year=2020):\n",
    "    for m in range(1, 13):\n",
    "        mm = pda[(pda['month'] == m) & (pda['year'] == year)]\n",
    "        if len(mm) > 0:\n",
    "            print(m,monthrange(year, m)[1] == len(mm))\n",
    "\n"
   ]
  },
  {
   "cell_type": "code",
   "execution_count": 104,
   "id": "aging-reception",
   "metadata": {},
   "outputs": [],
   "source": [
    "_res = aggregate(pfall2,0,column='counter',groupby=['year','month','day'])\n",
    "del _res['index']\n",
    "_res = _res.sort_values(['date']).reset_index()    "
   ]
  },
  {
   "cell_type": "markdown",
   "id": "fancy-guatemala",
   "metadata": {},
   "source": [
    "# rest"
   ]
  },
  {
   "cell_type": "code",
   "execution_count": null,
   "id": "complete-frederick",
   "metadata": {},
   "outputs": [],
   "source": [
    "#_res1=get_month(_res, year=2020, month=9) \n",
    "#_res1= get_year(_res, year=2021)\n",
    "_res1=_res\n",
    "\n",
    "fig = plt.figure(figsize=(12,6))\n",
    "ax = fig.add_subplot(1,1,1)\n",
    "plt.tick_params(axis='x', which='both', bottom=False, top=False, labelbottom=True) \n",
    "line1, =plt.plot(_res1.date, _res1['outcome'], label='month')\n",
    "label(ax,30,80)\n",
    "plt.legend();"
   ]
  },
  {
   "cell_type": "code",
   "execution_count": null,
   "id": "composite-mouth",
   "metadata": {},
   "outputs": [],
   "source": []
  },
  {
   "cell_type": "code",
   "execution_count": null,
   "id": "incident-console",
   "metadata": {},
   "outputs": [],
   "source": [
    "import base.anomaly as anomaly\n",
    "sender = 0\n",
    "titlestring =\"endpoint (sending) : \" + str(sender) + \" ( trained: \" +  anomalyEnc.train.index[0] + \" -- \" + anomalyEnc.train.index[len(anomalyEnc.train.index)-1] + \" )\"\n",
    "plot_test(anomalyEnc.test,anomalyEnc.scaler,anomalyEnc.anomalies,titlestring)"
   ]
  },
  {
   "cell_type": "code",
   "execution_count": null,
   "id": "awful-stack",
   "metadata": {},
   "outputs": [],
   "source": [
    "X = anomalyEnc.train[[anomalyEnc.OUTCOME]]['close']\n",
    "y = anomalyEnc.train['close']\n",
    "#len(anomalyEnc.X_train[0]), type(anomalyEnc.y_train[0])\n",
    "#X.head(), y.head()\n",
    "time_steps = 30\n",
    "i=334\n",
    "v = X.iloc[i:(i + time_steps)].values\n",
    "v,y[i + time_steps],i + time_steps"
   ]
  },
  {
   "cell_type": "code",
   "execution_count": null,
   "id": "european-exception",
   "metadata": {},
   "outputs": [],
   "source": [
    "data = sns.distplot(anomalyEnc.train_mae_loss, bins=50, kde=True).get_lines()[0].get_data()"
   ]
  },
  {
   "cell_type": "code",
   "execution_count": null,
   "id": "registered-accountability",
   "metadata": {},
   "outputs": [],
   "source": []
  },
  {
   "cell_type": "code",
   "execution_count": null,
   "id": "grave-grammar",
   "metadata": {},
   "outputs": [],
   "source": [
    "fig = plt.figure(figsize=(12,6))\n",
    "plt.tick_params(axis='x', which='both', bottom=False, top=False, labelbottom=False) \n",
    "\n",
    "plt.plot(anomalyEnc.test_score_df.index, anomalyEnc.test_score_df.loss, label='loss')\n",
    "plt.plot(anomalyEnc.test_score_df.index, anomalyEnc.test_score_df.threshold, label='threshold')\n",
    "#plt.xticks(rotation=25)\n",
    "#plt.legend();"
   ]
  },
  {
   "cell_type": "code",
   "execution_count": null,
   "id": "champion-identity",
   "metadata": {},
   "outputs": [],
   "source": []
  },
  {
   "cell_type": "code",
   "execution_count": null,
   "id": "greatest-teaching",
   "metadata": {},
   "outputs": [],
   "source": [
    "_res = aggregate(pfall1,0,column='counter',groupby=['year','month','day'])\n",
    "del _res['index']\n",
    "_res = get_month(_res, year=2021, month=3) \n",
    "fill(_res,2021,3) \n",
    "_res = _res.sort_values(['date']).reset_index()\n",
    "\n",
    "\n",
    "fig = plt.figure(figsize=(12,6))\n",
    "ax = fig.add_subplot(1,1,1)\n",
    "plt.tick_params(axis='x', which='both', bottom=False, top=False, labelbottom=True) \n",
    "line1, =plt.plot(_res.date, _res['outcome'], label='month')\n",
    "label(ax,1,80)\n",
    "plt.legend();"
   ]
  },
  {
   "cell_type": "code",
   "execution_count": null,
   "id": "interesting-class",
   "metadata": {},
   "outputs": [],
   "source": [
    "import numpy as np\n",
    "x = np.linspace(0, 2*np.pi, 100)\n",
    "\n",
    "fig = plt.figure()\n",
    "ax = fig.add_subplot(1,1,1)\n",
    "line1, = ax.plot(x, np.sin(x), label='') # X range: 0 to 2pi\n",
    "ax.set_xticks([0, 0.5*np.pi, np.pi, 1.5*np.pi, 2*np.pi])\n",
    "line2, = ax.plot(1.5*x, np.sin(x), label='') # X range: 0 to 3pi"
   ]
  },
  {
   "cell_type": "code",
   "execution_count": null,
   "id": "civil-applicant",
   "metadata": {},
   "outputs": [],
   "source": []
  },
  {
   "cell_type": "code",
   "execution_count": null,
   "id": "played-chapter",
   "metadata": {},
   "outputs": [],
   "source": [
    "#pfall[pfall['TIMEDOUT'] != 0]\n",
    "#pfall.columns[3] = 'counter'\n",
    "_plist = pfall.columns.to_list()\n",
    "#_plist[3] = 'counter'\n",
    "#pfall.columns = _plist\n",
    "_plist"
   ]
  }
 ],
 "metadata": {
  "kernelspec": {
   "display_name": "Python 3",
   "language": "python",
   "name": "python3"
  },
  "language_info": {
   "codemirror_mode": {
    "name": "ipython",
    "version": 3
   },
   "file_extension": ".py",
   "mimetype": "text/x-python",
   "name": "python",
   "nbconvert_exporter": "python",
   "pygments_lexer": "ipython3",
   "version": "3.8.8"
  }
 },
 "nbformat": 4,
 "nbformat_minor": 5
}

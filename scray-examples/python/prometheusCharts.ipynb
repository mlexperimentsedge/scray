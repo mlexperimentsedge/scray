{
 "cells": [
  {
   "cell_type": "code",
   "execution_count": 1,
   "metadata": {},
   "outputs": [
    {
     "name": "stdout",
     "output_type": "stream",
     "text": [
      "Setup Complete\n"
     ]
    }
   ],
   "source": [
    "import dfBasics\n",
    "import common\n",
    "import encoder\n",
    "import pfAdapt\n",
    "import charts\n"
   ]
  },
  {
   "cell_type": "code",
   "execution_count": 2,
   "metadata": {},
   "outputs": [],
   "source": [
    "import pandas as pd\n",
    "from pyspark.sql import functions"
   ]
  },
  {
   "cell_type": "markdown",
   "metadata": {},
   "source": [
    "# Lib functions"
   ]
  },
  {
   "cell_type": "markdown",
   "metadata": {},
   "source": [
    "# Main"
   ]
  },
  {
   "cell_type": "code",
   "execution_count": 3,
   "metadata": {},
   "outputs": [],
   "source": [
    "sparkSession = dfBasics.getSparkSession()"
   ]
  },
  {
   "cell_type": "code",
   "execution_count": 133,
   "metadata": {},
   "outputs": [],
   "source": [
    "df = sparkSession.read.parquet('hdfs://172.30.17.145:8020/user/admin/stage1/v1/labelencoder/*/*')\n",
    "#.limit(100000) "
   ]
  },
  {
   "cell_type": "code",
   "execution_count": null,
   "metadata": {},
   "outputs": [],
   "source": [
    "missingSchemaids = [ 1480883705,  -404024316,  -183769575,  2031641327, -1576843338,\n",
    "                     -660710506,  -208259125,  -650561809,   -39609584, -1115728007]\n",
    "\n",
    "df = sparkSession.read.parquet('hdfs://172.30.17.145:8020/user/admin/stage1/flat_*/*') \n",
    "df = df.filter(~df['schemaid'].isin(*missingSchemaids)) \\\n",
    "       .withColumn('timestamp', col('timestamp').cast('long')) "
   ]
  },
  {
   "cell_type": "code",
   "execution_count": null,
   "metadata": {},
   "outputs": [],
   "source": [
    "df = sparkSession.read.parquet('hdfs://172.30.17.145:8020/sla_sql_data/*/*') "
   ]
  },
  {
   "cell_type": "code",
   "execution_count": null,
   "metadata": {},
   "outputs": [],
   "source": [
    "df = sparkSession.read.parquet('hdfs://172.30.17.145:8020/user/admin/stage1/flat_' + str(cycle) + '/*') \\\n",
    "    .withColumn('timestamp', col('timestamp').cast('long')) "
   ]
  },
  {
   "cell_type": "markdown",
   "metadata": {},
   "source": [
    "# Functions"
   ]
  },
  {
   "cell_type": "code",
   "execution_count": 5,
   "metadata": {},
   "outputs": [],
   "source": [
    "def getMissingSchemaids(pf,hashes):\n",
    "    a = np.array([])\n",
    "    for hash in hashes:  \n",
    "        if len(pf[pf['hashvalue'] == hash]) != len(pd.unique(pf[pf['hashvalue'] == hash]['timestamp'])):\n",
    "            value = pd.unique(pf[pf['hashvalue'] == hash]['schemaid'])\n",
    "            if (value in a) == False:\n",
    "                a = np.append(a,value)\n",
    "    return a.astype(int)"
   ]
  },
  {
   "cell_type": "code",
   "execution_count": null,
   "metadata": {},
   "outputs": [],
   "source": [
    "def dfcolumnSeries(column):\n",
    "    return df.select(column).dropDuplicates()\n",
    "def dfcolumnCount(column):\n",
    "    return dfcolumnSeries(column).count()"
   ]
  },
  {
   "cell_type": "code",
   "execution_count": null,
   "metadata": {},
   "outputs": [],
   "source": [
    "from functools import reduce\n",
    "import operator\n",
    "\n",
    "def eval1(filteredrows):\n",
    "    element = staticfeatureset.index[0]\n",
    "    res = filteredrows[element].eq(staticfeatureset[element])\n",
    "\n",
    "    for element in staticfeatureset.index:\n",
    "        res = reduce(operator.and_,(res,filteredrows[element].eq(staticfeatureset[element])))\n",
    "    return res"
   ]
  },
  {
   "cell_type": "code",
   "execution_count": 121,
   "metadata": {},
   "outputs": [],
   "source": [
    "# find out variable columns and type of value\n",
    "from pyspark.sql.functions import col\n",
    "\n",
    "selected = ['timestamp', 'value','year','month', 'day', 'hour', 'minute']\n",
    "\n",
    "def getDFvalueWithHash(currenthash):\n",
    "    pfm = df.filter(col(\"hashvalue\") == currenthash) \\\n",
    "            .withColumn('value', col('value').cast('int'))\\\n",
    "            .select(selected).toPandas().sort_values('timestamp').reset_index() \n",
    "    return pfm\n",
    "\n",
    "def getDFvalueWithHashSchema(schemaid,currenthash):\n",
    "    pfm = df.filter(col(\"hashvalue\") == currenthash) \\\n",
    "            .filter(col(\"schemaid\") == schemaid) \\\n",
    "            .withColumn('value', col('value').cast('int'))\\\n",
    "            .select(selected).toPandas().sort_values('timestamp').reset_index() \n",
    "    return pfm\n",
    "\n",
    "def getIgroupHashes(igroup):\n",
    "        return df.filter(col(\"igroup\") == igroup).select([\"hashvalue\"]).dropDuplicates().toPandas()['hashvalue']"
   ]
  },
  {
   "cell_type": "code",
   "execution_count": 111,
   "metadata": {},
   "outputs": [],
   "source": [
    "# remove columns which are variable to find related metrics\n",
    "def getStaticFeatures(_hash):\n",
    "    allcolumns = filteredrows[filteredrows['hashvalue'] == _hash].columns\n",
    "    skipcolumns = ['timestamp', 'value',  'hashvalue', 'igroup', 'inode', 'year', 'month', 'day', 'hour', 'minute']\n",
    "    featurecolumns = allcolumns[~allcolumns.isin(skipcolumns)]\n",
    "    featurecolumns = pfAdapt.getVariableUniqueColums(filteredrows[featurecolumns])\n",
    "    staticfeatureset = filteredrows[filteredrows['hashvalue'] == _hash][featurecolumns].iloc[0]\n",
    "    return staticfeatureset"
   ]
  },
  {
   "cell_type": "markdown",
   "metadata": {},
   "source": [
    "# Info"
   ]
  },
  {
   "cell_type": "code",
   "execution_count": 134,
   "metadata": {},
   "outputs": [],
   "source": [
    "row1 = df.agg({\"timestamp\": \"min\"}).collect()[0]\n",
    "row2 = df.agg({\"timestamp\": \"max\"}).collect()[0]\n",
    "\n",
    "dfminTimestamp = row1[\"min(timestamp)\"]\n",
    "dfmaxTimestamp = row2[\"max(timestamp)\"]\n",
    "dfrowCount     = df.count()\n",
    "dfcolumnCount  = len(df.columns)"
   ]
  },
  {
   "cell_type": "code",
   "execution_count": 135,
   "metadata": {},
   "outputs": [
    {
     "name": "stdout",
     "output_type": "stream",
     "text": [
      "min: 2020-02-24 10:27:02+01:00 max: 2020-05-09 21:24:12+02:00\n",
      "rows: 6482928136 columns: 63\n"
     ]
    }
   ],
   "source": [
    "print('min:',common.date(dfminTimestamp), 'max:', common.date(dfmaxTimestamp))\n",
    "print('rows:',dfrowCount,'columns:',dfcolumnCount)"
   ]
  },
  {
   "cell_type": "code",
   "execution_count": 136,
   "metadata": {},
   "outputs": [],
   "source": [
    "columns = df.limit(1).toPandas().columns\n",
    "withoutColumns = ['timestamp', 'value','schemaid', 'hashvalue']\n",
    "columns = columns[~columns.isin(withoutColumns)]"
   ]
  },
  {
   "cell_type": "code",
   "execution_count": null,
   "metadata": {},
   "outputs": [],
   "source": [
    "#\n",
    "schemas = dfcolumnSeries('schemaid').toPandas()['schemaid']\n",
    "igroups = dfcolumnSeries('igroup').toPandas()['igroup']\n",
    "\n",
    "schemaidCount  = dfcolumnCount('schemaid')\n",
    "hashvalueCount = dfcolumnCount('hashvalue')\n",
    "igroupCount = dfcolumnCount('igroup')\n",
    "print('schemaidCount: ',schemaidCount,'hashvalueCount: ',hashvalueCount,'igroupCount: ',igroupCount)"
   ]
  },
  {
   "cell_type": "code",
   "execution_count": 138,
   "metadata": {},
   "outputs": [],
   "source": [
    "pfall = df.limit(100000).toPandas() "
   ]
  },
  {
   "cell_type": "code",
   "execution_count": 139,
   "metadata": {},
   "outputs": [
    {
     "data": {
      "text/html": [
       "<div>\n",
       "<style scoped>\n",
       "    .dataframe tbody tr th:only-of-type {\n",
       "        vertical-align: middle;\n",
       "    }\n",
       "\n",
       "    .dataframe tbody tr th {\n",
       "        vertical-align: top;\n",
       "    }\n",
       "\n",
       "    .dataframe thead th {\n",
       "        text-align: right;\n",
       "    }\n",
       "</style>\n",
       "<table border=\"1\" class=\"dataframe\">\n",
       "  <thead>\n",
       "    <tr style=\"text-align: right;\">\n",
       "      <th></th>\n",
       "      <th>timestamp</th>\n",
       "      <th>value</th>\n",
       "      <th>product</th>\n",
       "      <th>service</th>\n",
       "      <th>__name__</th>\n",
       "      <th>alertname</th>\n",
       "      <th>alertstate</th>\n",
       "      <th>job</th>\n",
       "      <th>severity</th>\n",
       "      <th>code</th>\n",
       "      <th>...</th>\n",
       "      <th>queuename</th>\n",
       "      <th>schemaid</th>\n",
       "      <th>hashvalue</th>\n",
       "      <th>igroup</th>\n",
       "      <th>inode</th>\n",
       "      <th>year</th>\n",
       "      <th>month</th>\n",
       "      <th>day</th>\n",
       "      <th>hour</th>\n",
       "      <th>minute</th>\n",
       "    </tr>\n",
       "  </thead>\n",
       "  <tbody>\n",
       "    <tr>\n",
       "      <th>0</th>\n",
       "      <td>1587819506</td>\n",
       "      <td>0</td>\n",
       "      <td>0</td>\n",
       "      <td>5</td>\n",
       "      <td>51</td>\n",
       "      <td>1</td>\n",
       "      <td>0</td>\n",
       "      <td>9</td>\n",
       "      <td>0</td>\n",
       "      <td>4</td>\n",
       "      <td>...</td>\n",
       "      <td>4</td>\n",
       "      <td>-1648973472</td>\n",
       "      <td>1723805959</td>\n",
       "      <td>7</td>\n",
       "      <td>2</td>\n",
       "      <td>2020</td>\n",
       "      <td>4</td>\n",
       "      <td>25</td>\n",
       "      <td>14</td>\n",
       "      <td>58</td>\n",
       "    </tr>\n",
       "    <tr>\n",
       "      <th>1</th>\n",
       "      <td>1587819506</td>\n",
       "      <td>1</td>\n",
       "      <td>0</td>\n",
       "      <td>4</td>\n",
       "      <td>305</td>\n",
       "      <td>1</td>\n",
       "      <td>0</td>\n",
       "      <td>8</td>\n",
       "      <td>0</td>\n",
       "      <td>4</td>\n",
       "      <td>...</td>\n",
       "      <td>4</td>\n",
       "      <td>607903666</td>\n",
       "      <td>1204139744</td>\n",
       "      <td>6</td>\n",
       "      <td>6</td>\n",
       "      <td>2020</td>\n",
       "      <td>4</td>\n",
       "      <td>25</td>\n",
       "      <td>14</td>\n",
       "      <td>58</td>\n",
       "    </tr>\n",
       "    <tr>\n",
       "      <th>2</th>\n",
       "      <td>1587819506</td>\n",
       "      <td>0</td>\n",
       "      <td>0</td>\n",
       "      <td>1</td>\n",
       "      <td>346</td>\n",
       "      <td>1</td>\n",
       "      <td>0</td>\n",
       "      <td>2</td>\n",
       "      <td>0</td>\n",
       "      <td>4</td>\n",
       "      <td>...</td>\n",
       "      <td>4</td>\n",
       "      <td>-2049409982</td>\n",
       "      <td>649290262</td>\n",
       "      <td>1</td>\n",
       "      <td>2</td>\n",
       "      <td>2020</td>\n",
       "      <td>4</td>\n",
       "      <td>25</td>\n",
       "      <td>14</td>\n",
       "      <td>58</td>\n",
       "    </tr>\n",
       "    <tr>\n",
       "      <th>3</th>\n",
       "      <td>1587819506</td>\n",
       "      <td>5</td>\n",
       "      <td>0</td>\n",
       "      <td>1</td>\n",
       "      <td>3</td>\n",
       "      <td>1</td>\n",
       "      <td>0</td>\n",
       "      <td>10</td>\n",
       "      <td>0</td>\n",
       "      <td>4</td>\n",
       "      <td>...</td>\n",
       "      <td>4</td>\n",
       "      <td>1629035211</td>\n",
       "      <td>1367422994</td>\n",
       "      <td>12</td>\n",
       "      <td>1</td>\n",
       "      <td>2020</td>\n",
       "      <td>4</td>\n",
       "      <td>25</td>\n",
       "      <td>14</td>\n",
       "      <td>58</td>\n",
       "    </tr>\n",
       "    <tr>\n",
       "      <th>4</th>\n",
       "      <td>1587819506</td>\n",
       "      <td>0</td>\n",
       "      <td>0</td>\n",
       "      <td>4</td>\n",
       "      <td>347</td>\n",
       "      <td>1</td>\n",
       "      <td>0</td>\n",
       "      <td>8</td>\n",
       "      <td>0</td>\n",
       "      <td>4</td>\n",
       "      <td>...</td>\n",
       "      <td>4</td>\n",
       "      <td>-2049409982</td>\n",
       "      <td>-836471039</td>\n",
       "      <td>6</td>\n",
       "      <td>5</td>\n",
       "      <td>2020</td>\n",
       "      <td>4</td>\n",
       "      <td>25</td>\n",
       "      <td>14</td>\n",
       "      <td>58</td>\n",
       "    </tr>\n",
       "  </tbody>\n",
       "</table>\n",
       "<p>5 rows × 63 columns</p>\n",
       "</div>"
      ],
      "text/plain": [
       "    timestamp value  product  service  __name__  alertname  alertstate  job  \\\n",
       "0  1587819506     0        0        5        51          1           0    9   \n",
       "1  1587819506     1        0        4       305          1           0    8   \n",
       "2  1587819506     0        0        1       346          1           0    2   \n",
       "3  1587819506     5        0        1         3          1           0   10   \n",
       "4  1587819506     0        0        4       347          1           0    8   \n",
       "\n",
       "   severity  code  ...  queuename    schemaid   hashvalue  igroup  inode  \\\n",
       "0         0     4  ...          4 -1648973472  1723805959       7      2   \n",
       "1         0     4  ...          4   607903666  1204139744       6      6   \n",
       "2         0     4  ...          4 -2049409982   649290262       1      2   \n",
       "3         0     4  ...          4  1629035211  1367422994      12      1   \n",
       "4         0     4  ...          4 -2049409982  -836471039       6      5   \n",
       "\n",
       "   year  month  day  hour  minute  \n",
       "0  2020      4   25    14      58  \n",
       "1  2020      4   25    14      58  \n",
       "2  2020      4   25    14      58  \n",
       "3  2020      4   25    14      58  \n",
       "4  2020      4   25    14      58  \n",
       "\n",
       "[5 rows x 63 columns]"
      ]
     },
     "execution_count": 139,
     "metadata": {},
     "output_type": "execute_result"
    }
   ],
   "source": [
    "pfall.head()"
   ]
  },
  {
   "cell_type": "code",
   "execution_count": 140,
   "metadata": {},
   "outputs": [],
   "source": [
    "hashes = getIgroupHashes(6)"
   ]
  },
  {
   "cell_type": "code",
   "execution_count": 141,
   "metadata": {},
   "outputs": [],
   "source": [
    "_hash = hashes[10]\n",
    "staticfeatureset = getStaticFeatures(_hash)"
   ]
  },
  {
   "cell_type": "code",
   "execution_count": 142,
   "metadata": {},
   "outputs": [
    {
     "data": {
      "text/plain": [
       "array([-841828430, -148435725])"
      ]
     },
     "execution_count": 142,
     "metadata": {},
     "output_type": "execute_result"
    }
   ],
   "source": [
    "relatedhashes = pd.unique(pfall[eval1(pfall)]['hashvalue'])\n",
    "relatedhashes"
   ]
  },
  {
   "cell_type": "code",
   "execution_count": 143,
   "metadata": {},
   "outputs": [],
   "source": [
    "def getDataForRelatedHashes(relatedhashes):\n",
    "    data2 = pd.DataFrame()\n",
    "    start = True\n",
    "    for hash_ in relatedhashes:\n",
    "        c1 =  getDFvalueWithHash(int(hash_))\n",
    "        if start:\n",
    "            data2['date'] = c1['timestamp']\n",
    "            start = False\n",
    "        data2[str(hash_)] =  c1['value']\n",
    "    return data2"
   ]
  },
  {
   "cell_type": "code",
   "execution_count": 144,
   "metadata": {},
   "outputs": [
    {
     "data": {
      "text/plain": [
       "37834"
      ]
     },
     "execution_count": 144,
     "metadata": {},
     "output_type": "execute_result"
    }
   ],
   "source": [
    "data = getDataForRelatedHashes(relatedhashes)\n",
    "len(data)"
   ]
  },
  {
   "cell_type": "code",
   "execution_count": 145,
   "metadata": {},
   "outputs": [
    {
     "data": {
      "text/plain": [
       "<matplotlib.axes._subplots.AxesSubplot at 0x7f5d5fb14bd0>"
      ]
     },
     "execution_count": 145,
     "metadata": {},
     "output_type": "execute_result"
    },
    {
     "data": {
      "image/png": "[encoded data removed]",
      "text/plain": [
       "<Figure size 432x288 with 1 Axes>"
      ]
     },
     "metadata": {
      "needs_background": "light"
     },
     "output_type": "display_data"
    }
   ],
   "source": [
    "import pandas as pd\n",
    "import numpy as np\n",
    "import matplotlib.pyplot as plt\n",
    "import seaborn as sns\n",
    "\n",
    "#sns.lineplot(data=data2.iloc[:, :2])\n",
    "sns.lineplot(data=data.iloc[:, 1:])"
   ]
  },
  {
   "cell_type": "code",
   "execution_count": null,
   "metadata": {},
   "outputs": [],
   "source": []
  },
  {
   "cell_type": "code",
   "execution_count": 130,
   "metadata": {},
   "outputs": [
    {
     "data": {
      "text/html": [
       "<div>\n",
       "<style scoped>\n",
       "    .dataframe tbody tr th:only-of-type {\n",
       "        vertical-align: middle;\n",
       "    }\n",
       "\n",
       "    .dataframe tbody tr th {\n",
       "        vertical-align: top;\n",
       "    }\n",
       "\n",
       "    .dataframe thead th {\n",
       "        text-align: right;\n",
       "    }\n",
       "</style>\n",
       "<table border=\"1\" class=\"dataframe\">\n",
       "  <thead>\n",
       "    <tr style=\"text-align: right;\">\n",
       "      <th></th>\n",
       "      <th>date</th>\n",
       "      <th>-841828430</th>\n",
       "      <th>-148435725</th>\n",
       "    </tr>\n",
       "  </thead>\n",
       "  <tbody>\n",
       "    <tr>\n",
       "      <th>0</th>\n",
       "      <td>1587452298</td>\n",
       "      <td>724</td>\n",
       "      <td>723.0</td>\n",
       "    </tr>\n",
       "    <tr>\n",
       "      <th>1</th>\n",
       "      <td>1587452328</td>\n",
       "      <td>724</td>\n",
       "      <td>723.0</td>\n",
       "    </tr>\n",
       "    <tr>\n",
       "      <th>2</th>\n",
       "      <td>1587452358</td>\n",
       "      <td>724</td>\n",
       "      <td>723.0</td>\n",
       "    </tr>\n",
       "    <tr>\n",
       "      <th>3</th>\n",
       "      <td>1587452388</td>\n",
       "      <td>724</td>\n",
       "      <td>723.0</td>\n",
       "    </tr>\n",
       "    <tr>\n",
       "      <th>4</th>\n",
       "      <td>1587452418</td>\n",
       "      <td>724</td>\n",
       "      <td>723.0</td>\n",
       "    </tr>\n",
       "    <tr>\n",
       "      <th>...</th>\n",
       "      <td>...</td>\n",
       "      <td>...</td>\n",
       "      <td>...</td>\n",
       "    </tr>\n",
       "    <tr>\n",
       "      <th>37829</th>\n",
       "      <td>1588514436</td>\n",
       "      <td>87</td>\n",
       "      <td>NaN</td>\n",
       "    </tr>\n",
       "    <tr>\n",
       "      <th>37830</th>\n",
       "      <td>1588514466</td>\n",
       "      <td>87</td>\n",
       "      <td>NaN</td>\n",
       "    </tr>\n",
       "    <tr>\n",
       "      <th>37831</th>\n",
       "      <td>1588514496</td>\n",
       "      <td>87</td>\n",
       "      <td>NaN</td>\n",
       "    </tr>\n",
       "    <tr>\n",
       "      <th>37832</th>\n",
       "      <td>1588514526</td>\n",
       "      <td>87</td>\n",
       "      <td>NaN</td>\n",
       "    </tr>\n",
       "    <tr>\n",
       "      <th>37833</th>\n",
       "      <td>1588514556</td>\n",
       "      <td>88</td>\n",
       "      <td>NaN</td>\n",
       "    </tr>\n",
       "  </tbody>\n",
       "</table>\n",
       "<p>37834 rows × 3 columns</p>\n",
       "</div>"
      ],
      "text/plain": [
       "             date  -841828430  -148435725\n",
       "0      1587452298         724       723.0\n",
       "1      1587452328         724       723.0\n",
       "2      1587452358         724       723.0\n",
       "3      1587452388         724       723.0\n",
       "4      1587452418         724       723.0\n",
       "...           ...         ...         ...\n",
       "37829  1588514436          87         NaN\n",
       "37830  1588514466          87         NaN\n",
       "37831  1588514496          87         NaN\n",
       "37832  1588514526          87         NaN\n",
       "37833  1588514556          88         NaN\n",
       "\n",
       "[37834 rows x 3 columns]"
      ]
     },
     "execution_count": 130,
     "metadata": {},
     "output_type": "execute_result"
    }
   ],
   "source": [
    "data"
   ]
  },
  {
   "cell_type": "code",
   "execution_count": 8,
   "metadata": {},
   "outputs": [],
   "source": [
    "filteredrows = pfall[pfall['igroup'] == 6]\n",
    "\n",
    "len(filteredrows)\n",
    "hashes = pd.unique(filteredrows['hashvalue'])"
   ]
  },
  {
   "cell_type": "code",
   "execution_count": 21,
   "metadata": {},
   "outputs": [
    {
     "data": {
      "text/plain": [
       "array([1629035211, -837577289])"
      ]
     },
     "execution_count": 21,
     "metadata": {},
     "output_type": "execute_result"
    }
   ],
   "source": [
    "import numpy as np\n",
    "getMissingSchemaids(pfall,hashes)"
   ]
  },
  {
   "cell_type": "code",
   "execution_count": null,
   "metadata": {},
   "outputs": [],
   "source": []
  },
  {
   "cell_type": "code",
   "execution_count": 82,
   "metadata": {},
   "outputs": [],
   "source": [
    "data2 = pd.DataFrame()\n",
    "#pfm = getDFvalueWithHash(int(relatedhashes[0]))\n",
    "#\n",
    "data2['date'] = dt['timestamp'].astype(str)\n",
    "data2['value'] = dt['value']"
   ]
  },
  {
   "cell_type": "code",
   "execution_count": null,
   "metadata": {},
   "outputs": [],
   "source": []
  },
  {
   "cell_type": "code",
   "execution_count": 70,
   "metadata": {},
   "outputs": [],
   "source": [
    "#hashes_d = dfcolumnSeries('hashvalue').toPandas()['hashvalue']\n",
    "hashes_d = df.select(['hashvalue','schemaid']).dropDuplicates().toPandas()"
   ]
  },
  {
   "cell_type": "code",
   "execution_count": 71,
   "metadata": {},
   "outputs": [
    {
     "data": {
      "text/plain": [
       "27285"
      ]
     },
     "execution_count": 71,
     "metadata": {},
     "output_type": "execute_result"
    }
   ],
   "source": [
    "len(pd.unique(hashes_d['hashvalue']))\n"
   ]
  },
  {
   "cell_type": "code",
   "execution_count": 80,
   "metadata": {},
   "outputs": [],
   "source": [
    "#len(pd.unique(hashes_d))\n",
    "\n",
    "\n",
    "dt = getDFvalueWithHash(int(hashes_d['schemaid'][0]),int(hashes_d['hashvalue'][0]))\n"
   ]
  },
  {
   "cell_type": "code",
   "execution_count": 81,
   "metadata": {},
   "outputs": [
    {
     "data": {
      "text/plain": [
       "(19200, 19200)"
      ]
     },
     "execution_count": 81,
     "metadata": {},
     "output_type": "execute_result"
    }
   ],
   "source": [
    "# check, if it is unique\n",
    "len(dt['timestamp']), len(dt)"
   ]
  },
  {
   "cell_type": "code",
   "execution_count": 58,
   "metadata": {},
   "outputs": [
    {
     "data": {
      "text/plain": [
       "26140"
      ]
     },
     "execution_count": 58,
     "metadata": {},
     "output_type": "execute_result"
    }
   ],
   "source": [
    "len(pd.unique(pfall['hashvalue']))"
   ]
  },
  {
   "cell_type": "code",
   "execution_count": 28,
   "metadata": {},
   "outputs": [
    {
     "name": "stdout",
     "output_type": "stream",
     "text": [
      "3903\n"
     ]
    },
    {
     "data": {
      "text/plain": [
       "27195"
      ]
     },
     "execution_count": 28,
     "metadata": {},
     "output_type": "execute_result"
    }
   ],
   "source": [
    "print(len(hashes))\n",
    "len(pd.unique(pfall['hashvalue']))"
   ]
  },
  {
   "cell_type": "code",
   "execution_count": null,
   "metadata": {},
   "outputs": [],
   "source": [
    "#getInfoForSchemas(filteredrows)\n",
    "#len(pd.unique(filteredrows['__name__']))\n",
    "#getEncoder('__name__').inverse_transform(pd.unique(filteredrows['__name__']))"
   ]
  },
  {
   "cell_type": "code",
   "execution_count": null,
   "metadata": {},
   "outputs": [],
   "source": [
    "pfall[(pfall['schemaid'] == 1629035211) & (pfall['timestamp'] == 1587819506)]"
   ]
  },
  {
   "cell_type": "code",
   "execution_count": null,
   "metadata": {},
   "outputs": [],
   "source": [
    "#getEncoder('igroup').inverse_transform(igroups)\n",
    "for igroup in igroups:\n",
    "    filteredrows = pfall[pfall['igroup'] == igroup]\n",
    "    count = len(pd.unique(filteredrows['inode']))\n",
    "    if count > 1:\n",
    "        print(getEncoder('igroup').inverse_transform([igroup]),igroup,count)"
   ]
  },
  {
   "cell_type": "code",
   "execution_count": null,
   "metadata": {},
   "outputs": [],
   "source": [
    "for hash_ in hashes:\n",
    "    metric = filteredrows[filteredrows['hashvalue']==hash_]\n",
    "    count = len(pd.unique(metric['value']))\n",
    "    if count > 3:\n",
    "        print(hash_,count)"
   ]
  },
  {
   "cell_type": "code",
   "execution_count": 10,
   "metadata": {},
   "outputs": [],
   "source": [
    "#continue with hash\n",
    "#_hash=-2018833881\n",
    "_hash=-283862276"
   ]
  },
  {
   "cell_type": "code",
   "execution_count": null,
   "metadata": {},
   "outputs": [],
   "source": [
    "# !!!!!!!!!!! missing schemas\n",
    "getMissingSchemaids(pfall)"
   ]
  },
  {
   "cell_type": "code",
   "execution_count": null,
   "metadata": {},
   "outputs": [],
   "source": [
    "filteredrows[filteredrows['hashvalue'] == _hash]\n",
    "filteredrows[filteredrows['hashvalue'] == _hash][featurecolumns].iloc[0]['__name__']"
   ]
  },
  {
   "cell_type": "code",
   "execution_count": null,
   "metadata": {},
   "outputs": [],
   "source": [
    "\n",
    "\n",
    "#['schemaid','igroup']\n",
    "\n",
    "#filteredrows[featurecolumns].head()\n",
    "#getVariableUniqueColums(filteredrows[featurecolumns])\n",
    "\n",
    "# there are still too many columns for _hash\n",
    "#len(getVariableUniqueColums(filteredrows[featurecolumns]))\n",
    "#len(featurecolumns)\n",
    "\n",
    "\n",
    "# there are no variable columns left\n",
    "#getVariableUniqueColums(filteredrows[filteredrows['hashvalue'] == _hash][featurecolumns])\n",
    "\n",
    "# static feature values for metric _hash\n",
    "\n",
    "#staticfeatureset[featurecolumns[1]]\n",
    "#staticfeatureset\n",
    "\n",
    "\n",
    "#featurecolumns"
   ]
  },
  {
   "cell_type": "code",
   "execution_count": 12,
   "metadata": {},
   "outputs": [
    {
     "data": {
      "text/plain": [
       "array([ 409530429, -283862276])"
      ]
     },
     "execution_count": 12,
     "metadata": {},
     "output_type": "execute_result"
    }
   ],
   "source": []
  },
  {
   "cell_type": "code",
   "execution_count": null,
   "metadata": {},
   "outputs": [],
   "source": [
    "currenthash     = int(relatedhashes[1])\n",
    "currentfeatures = filteredrows[filteredrows['hashvalue'] == currenthash].iloc[0]\n",
    "currentfeatures['igroup'],currentfeatures['inode'],currentfeatures['hashvalue'],getEncoder('__name__').inverse_transform([currentfeatures['__name__']])[0]"
   ]
  },
  {
   "cell_type": "code",
   "execution_count": 79,
   "metadata": {},
   "outputs": [],
   "source": []
  },
  {
   "cell_type": "code",
   "execution_count": null,
   "metadata": {},
   "outputs": [],
   "source": [
    "pfm"
   ]
  },
  {
   "cell_type": "code",
   "execution_count": 34,
   "metadata": {},
   "outputs": [
    {
     "data": {
      "text/html": [
       "<div>\n",
       "<style scoped>\n",
       "    .dataframe tbody tr th:only-of-type {\n",
       "        vertical-align: middle;\n",
       "    }\n",
       "\n",
       "    .dataframe tbody tr th {\n",
       "        vertical-align: top;\n",
       "    }\n",
       "\n",
       "    .dataframe thead th {\n",
       "        text-align: right;\n",
       "    }\n",
       "</style>\n",
       "<table border=\"1\" class=\"dataframe\">\n",
       "  <thead>\n",
       "    <tr style=\"text-align: right;\">\n",
       "      <th></th>\n",
       "      <th>index</th>\n",
       "      <th>timestamp</th>\n",
       "      <th>value</th>\n",
       "      <th>year</th>\n",
       "      <th>month</th>\n",
       "      <th>day</th>\n",
       "      <th>hour</th>\n",
       "      <th>minute</th>\n",
       "    </tr>\n",
       "  </thead>\n",
       "  <tbody>\n",
       "    <tr>\n",
       "      <th>0</th>\n",
       "      <td>16855</td>\n",
       "      <td>1587452298</td>\n",
       "      <td>177554895</td>\n",
       "      <td>2020</td>\n",
       "      <td>4</td>\n",
       "      <td>21</td>\n",
       "      <td>8</td>\n",
       "      <td>58</td>\n",
       "    </tr>\n",
       "    <tr>\n",
       "      <th>1</th>\n",
       "      <td>16856</td>\n",
       "      <td>1587452328</td>\n",
       "      <td>177556531</td>\n",
       "      <td>2020</td>\n",
       "      <td>4</td>\n",
       "      <td>21</td>\n",
       "      <td>8</td>\n",
       "      <td>58</td>\n",
       "    </tr>\n",
       "    <tr>\n",
       "      <th>2</th>\n",
       "      <td>16857</td>\n",
       "      <td>1587452358</td>\n",
       "      <td>177560068</td>\n",
       "      <td>2020</td>\n",
       "      <td>4</td>\n",
       "      <td>21</td>\n",
       "      <td>8</td>\n",
       "      <td>59</td>\n",
       "    </tr>\n",
       "    <tr>\n",
       "      <th>3</th>\n",
       "      <td>16858</td>\n",
       "      <td>1587452388</td>\n",
       "      <td>177563899</td>\n",
       "      <td>2020</td>\n",
       "      <td>4</td>\n",
       "      <td>21</td>\n",
       "      <td>8</td>\n",
       "      <td>59</td>\n",
       "    </tr>\n",
       "    <tr>\n",
       "      <th>4</th>\n",
       "      <td>16859</td>\n",
       "      <td>1587452418</td>\n",
       "      <td>177566507</td>\n",
       "      <td>2020</td>\n",
       "      <td>4</td>\n",
       "      <td>21</td>\n",
       "      <td>9</td>\n",
       "      <td>0</td>\n",
       "    </tr>\n",
       "    <tr>\n",
       "      <th>...</th>\n",
       "      <td>...</td>\n",
       "      <td>...</td>\n",
       "      <td>...</td>\n",
       "      <td>...</td>\n",
       "      <td>...</td>\n",
       "      <td>...</td>\n",
       "      <td>...</td>\n",
       "      <td>...</td>\n",
       "    </tr>\n",
       "    <tr>\n",
       "      <th>37922</th>\n",
       "      <td>37922</td>\n",
       "      <td>1588514436</td>\n",
       "      <td>22744362</td>\n",
       "      <td>2020</td>\n",
       "      <td>5</td>\n",
       "      <td>3</td>\n",
       "      <td>16</td>\n",
       "      <td>0</td>\n",
       "    </tr>\n",
       "    <tr>\n",
       "      <th>37923</th>\n",
       "      <td>37923</td>\n",
       "      <td>1588514466</td>\n",
       "      <td>22749016</td>\n",
       "      <td>2020</td>\n",
       "      <td>5</td>\n",
       "      <td>3</td>\n",
       "      <td>16</td>\n",
       "      <td>1</td>\n",
       "    </tr>\n",
       "    <tr>\n",
       "      <th>37924</th>\n",
       "      <td>37924</td>\n",
       "      <td>1588514496</td>\n",
       "      <td>22756481</td>\n",
       "      <td>2020</td>\n",
       "      <td>5</td>\n",
       "      <td>3</td>\n",
       "      <td>16</td>\n",
       "      <td>1</td>\n",
       "    </tr>\n",
       "    <tr>\n",
       "      <th>37925</th>\n",
       "      <td>37925</td>\n",
       "      <td>1588514526</td>\n",
       "      <td>22765271</td>\n",
       "      <td>2020</td>\n",
       "      <td>5</td>\n",
       "      <td>3</td>\n",
       "      <td>16</td>\n",
       "      <td>2</td>\n",
       "    </tr>\n",
       "    <tr>\n",
       "      <th>37926</th>\n",
       "      <td>37926</td>\n",
       "      <td>1588514556</td>\n",
       "      <td>22768551</td>\n",
       "      <td>2020</td>\n",
       "      <td>5</td>\n",
       "      <td>3</td>\n",
       "      <td>16</td>\n",
       "      <td>2</td>\n",
       "    </tr>\n",
       "  </tbody>\n",
       "</table>\n",
       "<p>37927 rows × 8 columns</p>\n",
       "</div>"
      ],
      "text/plain": [
       "       index   timestamp      value  year  month  day  hour  minute\n",
       "0      16855  1587452298  177554895  2020      4   21     8      58\n",
       "1      16856  1587452328  177556531  2020      4   21     8      58\n",
       "2      16857  1587452358  177560068  2020      4   21     8      59\n",
       "3      16858  1587452388  177563899  2020      4   21     8      59\n",
       "4      16859  1587452418  177566507  2020      4   21     9       0\n",
       "...      ...         ...        ...   ...    ...  ...   ...     ...\n",
       "37922  37922  1588514436   22744362  2020      5    3    16       0\n",
       "37923  37923  1588514466   22749016  2020      5    3    16       1\n",
       "37924  37924  1588514496   22756481  2020      5    3    16       1\n",
       "37925  37925  1588514526   22765271  2020      5    3    16       2\n",
       "37926  37926  1588514556   22768551  2020      5    3    16       2\n",
       "\n",
       "[37927 rows x 8 columns]"
      ]
     },
     "execution_count": 34,
     "metadata": {},
     "output_type": "execute_result"
    }
   ],
   "source": [
    "#data2 = data2.sort_values('date').reset_index()\n",
    "c1"
   ]
  },
  {
   "cell_type": "code",
   "execution_count": null,
   "metadata": {},
   "outputs": [],
   "source": [
    "data2"
   ]
  },
  {
   "cell_type": "code",
   "execution_count": null,
   "metadata": {},
   "outputs": [],
   "source": [
    "ax = createLineplot(data2,16,10,1.4,title=\"\",skip=500)\n",
    "label(ax,10,90)"
   ]
  },
  {
   "cell_type": "code",
   "execution_count": null,
   "metadata": {},
   "outputs": [],
   "source": [
    "data2.iloc[2]"
   ]
  },
  {
   "cell_type": "code",
   "execution_count": 84,
   "metadata": {},
   "outputs": [
    {
     "data": {
      "text/html": [
       "<div>\n",
       "<style scoped>\n",
       "    .dataframe tbody tr th:only-of-type {\n",
       "        vertical-align: middle;\n",
       "    }\n",
       "\n",
       "    .dataframe tbody tr th {\n",
       "        vertical-align: top;\n",
       "    }\n",
       "\n",
       "    .dataframe thead th {\n",
       "        text-align: right;\n",
       "    }\n",
       "</style>\n",
       "<table border=\"1\" class=\"dataframe\">\n",
       "  <thead>\n",
       "    <tr style=\"text-align: right;\">\n",
       "      <th></th>\n",
       "      <th>index</th>\n",
       "      <th>timestamp</th>\n",
       "      <th>value</th>\n",
       "      <th>year</th>\n",
       "      <th>month</th>\n",
       "      <th>day</th>\n",
       "      <th>hour</th>\n",
       "      <th>minute</th>\n",
       "    </tr>\n",
       "  </thead>\n",
       "  <tbody>\n",
       "    <tr>\n",
       "      <th>0</th>\n",
       "      <td>0</td>\n",
       "      <td>1588514870</td>\n",
       "      <td>0</td>\n",
       "      <td>2020</td>\n",
       "      <td>5</td>\n",
       "      <td>3</td>\n",
       "      <td>16</td>\n",
       "      <td>7</td>\n",
       "    </tr>\n",
       "    <tr>\n",
       "      <th>1</th>\n",
       "      <td>1</td>\n",
       "      <td>1588514900</td>\n",
       "      <td>0</td>\n",
       "      <td>2020</td>\n",
       "      <td>5</td>\n",
       "      <td>3</td>\n",
       "      <td>16</td>\n",
       "      <td>8</td>\n",
       "    </tr>\n",
       "    <tr>\n",
       "      <th>2</th>\n",
       "      <td>2</td>\n",
       "      <td>1588514930</td>\n",
       "      <td>0</td>\n",
       "      <td>2020</td>\n",
       "      <td>5</td>\n",
       "      <td>3</td>\n",
       "      <td>16</td>\n",
       "      <td>8</td>\n",
       "    </tr>\n",
       "    <tr>\n",
       "      <th>3</th>\n",
       "      <td>3</td>\n",
       "      <td>1588514960</td>\n",
       "      <td>0</td>\n",
       "      <td>2020</td>\n",
       "      <td>5</td>\n",
       "      <td>3</td>\n",
       "      <td>16</td>\n",
       "      <td>9</td>\n",
       "    </tr>\n",
       "    <tr>\n",
       "      <th>4</th>\n",
       "      <td>4</td>\n",
       "      <td>1588514990</td>\n",
       "      <td>0</td>\n",
       "      <td>2020</td>\n",
       "      <td>5</td>\n",
       "      <td>3</td>\n",
       "      <td>16</td>\n",
       "      <td>9</td>\n",
       "    </tr>\n",
       "    <tr>\n",
       "      <th>...</th>\n",
       "      <td>...</td>\n",
       "      <td>...</td>\n",
       "      <td>...</td>\n",
       "      <td>...</td>\n",
       "      <td>...</td>\n",
       "      <td>...</td>\n",
       "      <td>...</td>\n",
       "      <td>...</td>\n",
       "    </tr>\n",
       "    <tr>\n",
       "      <th>19195</th>\n",
       "      <td>19195</td>\n",
       "      <td>1589052132</td>\n",
       "      <td>0</td>\n",
       "      <td>2020</td>\n",
       "      <td>5</td>\n",
       "      <td>9</td>\n",
       "      <td>21</td>\n",
       "      <td>22</td>\n",
       "    </tr>\n",
       "    <tr>\n",
       "      <th>19196</th>\n",
       "      <td>19196</td>\n",
       "      <td>1589052162</td>\n",
       "      <td>0</td>\n",
       "      <td>2020</td>\n",
       "      <td>5</td>\n",
       "      <td>9</td>\n",
       "      <td>21</td>\n",
       "      <td>22</td>\n",
       "    </tr>\n",
       "    <tr>\n",
       "      <th>19197</th>\n",
       "      <td>19197</td>\n",
       "      <td>1589052192</td>\n",
       "      <td>0</td>\n",
       "      <td>2020</td>\n",
       "      <td>5</td>\n",
       "      <td>9</td>\n",
       "      <td>21</td>\n",
       "      <td>23</td>\n",
       "    </tr>\n",
       "    <tr>\n",
       "      <th>19198</th>\n",
       "      <td>19198</td>\n",
       "      <td>1589052222</td>\n",
       "      <td>0</td>\n",
       "      <td>2020</td>\n",
       "      <td>5</td>\n",
       "      <td>9</td>\n",
       "      <td>21</td>\n",
       "      <td>23</td>\n",
       "    </tr>\n",
       "    <tr>\n",
       "      <th>19199</th>\n",
       "      <td>19199</td>\n",
       "      <td>1589052252</td>\n",
       "      <td>0</td>\n",
       "      <td>2020</td>\n",
       "      <td>5</td>\n",
       "      <td>9</td>\n",
       "      <td>21</td>\n",
       "      <td>24</td>\n",
       "    </tr>\n",
       "  </tbody>\n",
       "</table>\n",
       "<p>19200 rows × 8 columns</p>\n",
       "</div>"
      ],
      "text/plain": [
       "       index   timestamp  value  year  month  day  hour  minute\n",
       "0          0  1588514870      0  2020      5    3    16       7\n",
       "1          1  1588514900      0  2020      5    3    16       8\n",
       "2          2  1588514930      0  2020      5    3    16       8\n",
       "3          3  1588514960      0  2020      5    3    16       9\n",
       "4          4  1588514990      0  2020      5    3    16       9\n",
       "...      ...         ...    ...   ...    ...  ...   ...     ...\n",
       "19195  19195  1589052132      0  2020      5    9    21      22\n",
       "19196  19196  1589052162      0  2020      5    9    21      22\n",
       "19197  19197  1589052192      0  2020      5    9    21      23\n",
       "19198  19198  1589052222      0  2020      5    9    21      23\n",
       "19199  19199  1589052252      0  2020      5    9    21      24\n",
       "\n",
       "[19200 rows x 8 columns]"
      ]
     },
     "execution_count": 84,
     "metadata": {},
     "output_type": "execute_result"
    }
   ],
   "source": [
    "pfall.head()"
   ]
  },
  {
   "cell_type": "code",
   "execution_count": null,
   "metadata": {},
   "outputs": [],
   "source": [
    "filteredrows[featurecolumns].head()"
   ]
  },
  {
   "cell_type": "code",
   "execution_count": null,
   "metadata": {},
   "outputs": [],
   "source": [
    "# find out variable columns and type of value\n",
    "#getVariableUniqueColums(pfm)\n",
    "#selected = ['timestamp', 'value','year','month', 'day', 'hour', 'minute']\n",
    "\n",
    "#which inode is used by metri hashvalue\n",
    "used_inode = filteredrows[filteredrows['hashvalue'] == _hash]['inode'].iloc[0]\n",
    "\n",
    "# other inodes for the igroup\n",
    "inodes_igroup = pd.unique(filteredrows[filteredrows['igroup'] == 6]['inode'])\n",
    "otherinodes = inodes_igroup[inodes_igroup!=used_inode]\n",
    "\n",
    "#\n",
    "pd.unique(filteredrows[filteredrows['igroup'] == 6]['__name__'])\n",
    "pd.unique(filteredrows[(filteredrows['igroup'] == 6) & (filteredrows['__name__'] == 309)]['logical_system'])"
   ]
  },
  {
   "cell_type": "code",
   "execution_count": null,
   "metadata": {},
   "outputs": [],
   "source": [
    "filteredrows[filteredrows['inode'] == inodes_igroup[0]]['hashvalue']\n"
   ]
  },
  {
   "cell_type": "code",
   "execution_count": null,
   "metadata": {},
   "outputs": [],
   "source": [
    "\n",
    "        \n",
    "metric = filteredrows[filteredrows['hashvalue']==_hash]\n",
    "#metric = filteredrows[filteredrows['hashvalue']==hashes[0]]\n",
    "#usedcolumns(metric)\n",
    "\n",
    "keep = getVariableUniqueColums(metric)\n",
    "#keepcolumns(dataall,keep)\n",
    "#keep\n",
    "len(metric),len(pd.unique(metric['value'])), pd.unique(metric['value'])\n",
    "metric"
   ]
  },
  {
   "cell_type": "code",
   "execution_count": null,
   "metadata": {},
   "outputs": [],
   "source": [
    "pfall1 = pfall[pfall['schemaid'] == schemas[0]]\n",
    "mdcountsall = pfall1.groupby(['igroup','hashvalue'])\n",
    "#['igroup'].count() \n",
    "#data2 = pd.DataFrame()\n",
    "mdcountsall"
   ]
  },
  {
   "cell_type": "code",
   "execution_count": null,
   "metadata": {},
   "outputs": [],
   "source": [
    "getEncoder('__name__').inverse_transform([pfall1.iloc[0]['__name__']])[0]"
   ]
  },
  {
   "cell_type": "code",
   "execution_count": null,
   "metadata": {},
   "outputs": [],
   "source": [
    "def createData(pfall,month,outcome) :\n",
    "    if outcome < 2 :\n",
    "        mdcountsall = pfall[(pfall['month'] == month) & (pfall['outcome'] == outcome)].groupby(['year','month','day','hour'])['outcome'].count()\n",
    "    else :\n",
    "        if (month > 0) & (month < 13) :\n",
    "            mdcountsall = pfall[(pfall['month'] == month)].groupby(['year','month','day','hour'])['outcome'].count()\n",
    "        else :\n",
    "            mdcountsall = pfall.groupby(['year','month','day','hour'])['outcome'].count()    \n",
    "    a,b,c,d = get_ymdh(mdcountsall)\n",
    "    data2 = pd.DataFrame()\n",
    "    data2['date'] = get_ymdh_string(a,b,c,d)\n",
    "    data2['outcome'] =  mdcountsall.reset_index()['outcome'].astype(int) \n",
    "\n",
    "    #for pivot table\n",
    "    data2['hours'] =  d.astype(int) \n",
    "    data2['days']  =  c.astype(int) \n",
    "    piv = pd.pivot_table(data2, values=\"outcome\",index=[\"hours\"], columns=[\"days\"], fill_value=0)\n",
    "    return data2"
   ]
  },
  {
   "cell_type": "code",
   "execution_count": null,
   "metadata": {},
   "outputs": [],
   "source": [
    "pfall.head()"
   ]
  }
 ],
 "metadata": {
  "kernelspec": {
   "display_name": "Python 3",
   "language": "python",
   "name": "python3"
  },
  "language_info": {
   "codemirror_mode": {
    "name": "ipython",
    "version": 3
   },
   "file_extension": ".py",
   "mimetype": "text/x-python",
   "name": "python",
   "nbconvert_exporter": "python",
   "pygments_lexer": "ipython3",
   "version": "3.7.6"
  }
 },
 "nbformat": 4,
 "nbformat_minor": 4
}

{
 "cells": [
  {
   "cell_type": "code",
   "execution_count": 1,
   "metadata": {},
   "outputs": [
    {
     "name": "stdout",
     "output_type": "stream",
     "text": [
      "Setup Complete\n"
     ]
    }
   ],
   "source": [
    "import dfBasics\n",
    "import common\n",
    "import encoder\n",
    "import pfAdapt\n",
    "import charts\n"
   ]
  },
  {
   "cell_type": "code",
   "execution_count": 2,
   "metadata": {},
   "outputs": [],
   "source": [
    "import pandas as pd\n",
    "from pyspark.sql import functions"
   ]
  },
  {
   "cell_type": "markdown",
   "metadata": {},
   "source": [
    "# Lib functions"
   ]
  },
  {
   "cell_type": "markdown",
   "metadata": {},
   "source": [
    "# Main"
   ]
  },
  {
   "cell_type": "code",
   "execution_count": 3,
   "metadata": {},
   "outputs": [],
   "source": [
    "sparkSession = dfBasics.getSparkSession()"
   ]
  },
  {
   "cell_type": "code",
   "execution_count": 4,
   "metadata": {},
   "outputs": [],
   "source": [
    "df = sparkSession.read.parquet('hdfs://172.30.17.145:8020/user/admin/stage1/v1/labelencoder/*/*')\n",
    "#.limit(100000) "
   ]
  },
  {
   "cell_type": "code",
   "execution_count": 5,
   "metadata": {},
   "outputs": [
    {
     "ename": "NameError",
     "evalue": "name 'col' is not defined",
     "output_type": "error",
     "traceback": [
      "\u001b[0;31m---------------------------------------------------------------------------\u001b[0m",
      "\u001b[0;31mNameError\u001b[0m                                 Traceback (most recent call last)",
      "\u001b[0;32m<ipython-input-5-ddd0358dbb76>\u001b[0m in \u001b[0;36m<module>\u001b[0;34m\u001b[0m\n\u001b[1;32m      4\u001b[0m \u001b[0mdf\u001b[0m \u001b[0;34m=\u001b[0m \u001b[0msparkSession\u001b[0m\u001b[0;34m.\u001b[0m\u001b[0mread\u001b[0m\u001b[0;34m.\u001b[0m\u001b[0mparquet\u001b[0m\u001b[0;34m(\u001b[0m\u001b[0;34m'hdfs://172.30.17.145:8020/user/admin/stage1/flat_*/*'\u001b[0m\u001b[0;34m)\u001b[0m\u001b[0;34m\u001b[0m\u001b[0;34m\u001b[0m\u001b[0m\n\u001b[1;32m      5\u001b[0m \u001b[0mdf\u001b[0m \u001b[0;34m=\u001b[0m \u001b[0mdf\u001b[0m\u001b[0;34m.\u001b[0m\u001b[0mfilter\u001b[0m\u001b[0;34m(\u001b[0m\u001b[0;34m~\u001b[0m\u001b[0mdf\u001b[0m\u001b[0;34m[\u001b[0m\u001b[0;34m'schemaid'\u001b[0m\u001b[0;34m]\u001b[0m\u001b[0;34m.\u001b[0m\u001b[0misin\u001b[0m\u001b[0;34m(\u001b[0m\u001b[0;34m*\u001b[0m\u001b[0mmissingSchemaids\u001b[0m\u001b[0;34m)\u001b[0m\u001b[0;34m)\u001b[0m\u001b[0;31m \u001b[0m\u001b[0;31m\\\u001b[0m\u001b[0;34m\u001b[0m\u001b[0;34m\u001b[0m\u001b[0m\n\u001b[0;32m----> 6\u001b[0;31m        \u001b[0;34m.\u001b[0m\u001b[0mwithColumn\u001b[0m\u001b[0;34m(\u001b[0m\u001b[0;34m'timestamp'\u001b[0m\u001b[0;34m,\u001b[0m \u001b[0mcol\u001b[0m\u001b[0;34m(\u001b[0m\u001b[0;34m'timestamp'\u001b[0m\u001b[0;34m)\u001b[0m\u001b[0;34m.\u001b[0m\u001b[0mcast\u001b[0m\u001b[0;34m(\u001b[0m\u001b[0;34m'long'\u001b[0m\u001b[0;34m)\u001b[0m\u001b[0;34m)\u001b[0m\u001b[0;34m\u001b[0m\u001b[0;34m\u001b[0m\u001b[0m\n\u001b[0m",
      "\u001b[0;31mNameError\u001b[0m: name 'col' is not defined"
     ]
    }
   ],
   "source": [
    "missingSchemaids = [ 1480883705,  -404024316,  -183769575,  2031641327, -1576843338,\n",
    "                     -660710506,  -208259125,  -650561809,   -39609584, -1115728007]\n",
    "\n",
    "df = sparkSession.read.parquet('hdfs://172.30.17.145:8020/user/admin/stage1/flat_*/*') \n",
    "df = df.filter(~df['schemaid'].isin(*missingSchemaids)) \\\n",
    "       .withColumn('timestamp', col('timestamp').cast('long')) "
   ]
  },
  {
   "cell_type": "code",
   "execution_count": 7,
   "metadata": {},
   "outputs": [],
   "source": [
    "df = sparkSession.read.parquet('hdfs://172.30.17.145:8020/sla_sql_data/*/*') "
   ]
  },
  {
   "cell_type": "code",
   "execution_count": 6,
   "metadata": {},
   "outputs": [
    {
     "ename": "NameError",
     "evalue": "name 'cycle' is not defined",
     "output_type": "error",
     "traceback": [
      "\u001b[0;31m---------------------------------------------------------------------------\u001b[0m",
      "\u001b[0;31mNameError\u001b[0m                                 Traceback (most recent call last)",
      "\u001b[0;32m<ipython-input-6-6b363ca863e3>\u001b[0m in \u001b[0;36m<module>\u001b[0;34m\u001b[0m\n\u001b[0;32m----> 1\u001b[0;31m \u001b[0mdf\u001b[0m \u001b[0;34m=\u001b[0m \u001b[0msparkSession\u001b[0m\u001b[0;34m.\u001b[0m\u001b[0mread\u001b[0m\u001b[0;34m.\u001b[0m\u001b[0mparquet\u001b[0m\u001b[0;34m(\u001b[0m\u001b[0;34m'hdfs://172.30.17.145:8020/user/admin/stage1/flat_'\u001b[0m \u001b[0;34m+\u001b[0m \u001b[0mstr\u001b[0m\u001b[0;34m(\u001b[0m\u001b[0mcycle\u001b[0m\u001b[0;34m)\u001b[0m \u001b[0;34m+\u001b[0m \u001b[0;34m'/*'\u001b[0m\u001b[0;34m)\u001b[0m\u001b[0;31m \u001b[0m\u001b[0;31m\\\u001b[0m\u001b[0;34m\u001b[0m\u001b[0;34m\u001b[0m\u001b[0m\n\u001b[0m\u001b[1;32m      2\u001b[0m     \u001b[0;34m.\u001b[0m\u001b[0mwithColumn\u001b[0m\u001b[0;34m(\u001b[0m\u001b[0;34m'timestamp'\u001b[0m\u001b[0;34m,\u001b[0m \u001b[0mcol\u001b[0m\u001b[0;34m(\u001b[0m\u001b[0;34m'timestamp'\u001b[0m\u001b[0;34m)\u001b[0m\u001b[0;34m.\u001b[0m\u001b[0mcast\u001b[0m\u001b[0;34m(\u001b[0m\u001b[0;34m'long'\u001b[0m\u001b[0;34m)\u001b[0m\u001b[0;34m)\u001b[0m\u001b[0;34m\u001b[0m\u001b[0;34m\u001b[0m\u001b[0m\n",
      "\u001b[0;31mNameError\u001b[0m: name 'cycle' is not defined"
     ]
    }
   ],
   "source": [
    "df = sparkSession.read.parquet('hdfs://172.30.17.145:8020/user/admin/stage1/flat_' + str(cycle) + '/*') \\\n",
    "    .withColumn('timestamp', col('timestamp').cast('long')) "
   ]
  },
  {
   "cell_type": "markdown",
   "metadata": {},
   "source": [
    "# Functions"
   ]
  },
  {
   "cell_type": "code",
   "execution_count": null,
   "metadata": {},
   "outputs": [],
   "source": [
    "def getMissingSchemaids(pf,hashes):\n",
    "    a = np.array([])\n",
    "    for hash in hashes:  \n",
    "        if len(pf[pf['hashvalue'] == hash]) != len(pd.unique(pf[pf['hashvalue'] == hash]['timestamp'])):\n",
    "            value = pd.unique(pf[pf['hashvalue'] == hash]['schemaid'])\n",
    "            if (value in a) == False:\n",
    "                a = np.append(a,value)\n",
    "    return a.astype(int)"
   ]
  },
  {
   "cell_type": "code",
   "execution_count": null,
   "metadata": {},
   "outputs": [],
   "source": [
    "def dfcolumnSeries(column):\n",
    "    return df.select(column).dropDuplicates()\n",
    "def dfcolumnCount(column):\n",
    "    return dfcolumnSeries(column).count()"
   ]
  },
  {
   "cell_type": "code",
   "execution_count": null,
   "metadata": {},
   "outputs": [],
   "source": [
    "from functools import reduce\n",
    "import operator\n",
    "\n",
    "def eval1(filteredrows):\n",
    "    element = staticfeatureset.index[0]\n",
    "    res = filteredrows[element].eq(staticfeatureset[element])\n",
    "\n",
    "    for element in staticfeatureset.index:\n",
    "        res = reduce(operator.and_,(res,filteredrows[element].eq(staticfeatureset[element])))\n",
    "    return res"
   ]
  },
  {
   "cell_type": "code",
   "execution_count": null,
   "metadata": {},
   "outputs": [],
   "source": [
    "# find out variable columns and type of value\n",
    "from pyspark.sql.functions import col\n",
    "\n",
    "selected = ['timestamp', 'value','year','month', 'day', 'hour', 'minute']\n",
    "\n",
    "def getDFvalueWithHash(currenthash):\n",
    "    pfm = df.filter(col(\"hashvalue\") == currenthash) \\\n",
    "            .withColumn('value', col('value').cast('int'))\\\n",
    "            .select(selected).toPandas().sort_values('timestamp').reset_index() \n",
    "    return pfm\n",
    "\n",
    "def getDFvalueWithHashSchema(schemaid,currenthash):\n",
    "    pfm = df.filter(col(\"hashvalue\") == currenthash) \\\n",
    "            .filter(col(\"schemaid\") == schemaid) \\\n",
    "            .withColumn('value', col('value').cast('int'))\\\n",
    "            .select(selected).toPandas().sort_values('timestamp').reset_index() \n",
    "    return pfm\n",
    "\n",
    "def getIgroupHashes(igroup):\n",
    "        return df.filter(col(\"igroup\") == igroup).select([\"hashvalue\"]).dropDuplicates().toPandas()['hashvalue']"
   ]
  },
  {
   "cell_type": "code",
   "execution_count": null,
   "metadata": {},
   "outputs": [],
   "source": [
    "# remove columns which are variable to find related metrics\n",
    "def getStaticFeatures(_hash):\n",
    "    allcolumns = filteredrows[filteredrows['hashvalue'] == _hash].columns\n",
    "    skipcolumns = ['timestamp', 'value',  'hashvalue', 'igroup', 'inode', 'year', 'month', 'day', 'hour', 'minute']\n",
    "    featurecolumns = allcolumns[~allcolumns.isin(skipcolumns)]\n",
    "    featurecolumns = pfAdapt.getVariableUniqueColums(filteredrows[featurecolumns])\n",
    "    staticfeatureset = filteredrows[filteredrows['hashvalue'] == _hash][featurecolumns].iloc[0]\n",
    "    return staticfeatureset"
   ]
  },
  {
   "cell_type": "markdown",
   "metadata": {},
   "source": [
    "# Info"
   ]
  },
  {
   "cell_type": "code",
   "execution_count": null,
   "metadata": {},
   "outputs": [],
   "source": [
    "row1 = df.agg({\"timestamp\": \"min\"}).collect()[0]\n",
    "row2 = df.agg({\"timestamp\": \"max\"}).collect()[0]\n",
    "\n",
    "dfminTimestamp = row1[\"min(timestamp)\"]\n",
    "dfmaxTimestamp = row2[\"max(timestamp)\"]\n",
    "dfrowCount     = df.count()\n",
    "dfcolumnCount  = len(df.columns)"
   ]
  },
  {
   "cell_type": "code",
   "execution_count": null,
   "metadata": {},
   "outputs": [],
   "source": [
    "print('min:',common.date(dfminTimestamp), 'max:', common.date(dfmaxTimestamp))\n",
    "print('rows:',dfrowCount,'columns:',dfcolumnCount)"
   ]
  },
  {
   "cell_type": "code",
   "execution_count": 8,
   "metadata": {},
   "outputs": [],
   "source": [
    "columns = df.limit(1).toPandas().columns\n",
    "withoutColumns = ['timestamp', 'value','schemaid', 'hashvalue']\n",
    "columns = columns[~columns.isin(withoutColumns)]"
   ]
  },
  {
   "cell_type": "code",
   "execution_count": 9,
   "metadata": {},
   "outputs": [
    {
     "data": {
      "text/plain": [
       "Index(['CGLOBALMESSAGEID', 'CSTARTTIME', 'CENDTIME', 'CSTATUS', 'CSERVICE',\n",
       "       'CSLABILLINGMONTH', 'CSENDERPROTOCOL', 'CSENDERENDPOINTID',\n",
       "       'CINBOUNDSIZE', 'CRECEIVERPROTOCOL', 'CRECEIVERENDPOINTID', 'CSLATAT',\n",
       "       'CMESSAGETAT2', 'CSLADELIVERYTIME'],\n",
       "      dtype='object')"
      ]
     },
     "execution_count": 9,
     "metadata": {},
     "output_type": "execute_result"
    }
   ],
   "source": [
    "columns"
   ]
  },
  {
   "cell_type": "code",
   "execution_count": null,
   "metadata": {},
   "outputs": [],
   "source": [
    "#\n",
    "schemas = dfcolumnSeries('schemaid').toPandas()['schemaid']\n",
    "igroups = dfcolumnSeries('igroup').toPandas()['igroup']\n",
    "\n",
    "schemaidCount  = dfcolumnCount('schemaid')\n",
    "hashvalueCount = dfcolumnCount('hashvalue')\n",
    "igroupCount = dfcolumnCount('igroup')\n",
    "print('schemaidCount: ',schemaidCount,'hashvalueCount: ',hashvalueCount,'igroupCount: ',igroupCount)"
   ]
  },
  {
   "cell_type": "code",
   "execution_count": 10,
   "metadata": {},
   "outputs": [],
   "source": [
    "pfall = df.limit(100000).toPandas() "
   ]
  },
  {
   "cell_type": "code",
   "execution_count": 11,
   "metadata": {},
   "outputs": [
    {
     "data": {
      "text/html": [
       "<div>\n",
       "<style scoped>\n",
       "    .dataframe tbody tr th:only-of-type {\n",
       "        vertical-align: middle;\n",
       "    }\n",
       "\n",
       "    .dataframe tbody tr th {\n",
       "        vertical-align: top;\n",
       "    }\n",
       "\n",
       "    .dataframe thead th {\n",
       "        text-align: right;\n",
       "    }\n",
       "</style>\n",
       "<table border=\"1\" class=\"dataframe\">\n",
       "  <thead>\n",
       "    <tr style=\"text-align: right;\">\n",
       "      <th></th>\n",
       "      <th>CGLOBALMESSAGEID</th>\n",
       "      <th>CSTARTTIME</th>\n",
       "      <th>CENDTIME</th>\n",
       "      <th>CSTATUS</th>\n",
       "      <th>CSERVICE</th>\n",
       "      <th>CSLABILLINGMONTH</th>\n",
       "      <th>CSENDERPROTOCOL</th>\n",
       "      <th>CSENDERENDPOINTID</th>\n",
       "      <th>CINBOUNDSIZE</th>\n",
       "      <th>CRECEIVERPROTOCOL</th>\n",
       "      <th>CRECEIVERENDPOINTID</th>\n",
       "      <th>CSLATAT</th>\n",
       "      <th>CMESSAGETAT2</th>\n",
       "      <th>CSLADELIVERYTIME</th>\n",
       "    </tr>\n",
       "  </thead>\n",
       "  <tbody>\n",
       "    <tr>\n",
       "      <th>0</th>\n",
       "      <td>4045e5b4-3752-11ea-82e0-1f38ac1e100b</td>\n",
       "      <td>1579063700270</td>\n",
       "      <td>1579063705212</td>\n",
       "      <td>SUCCESS</td>\n",
       "      <td>MaKo</td>\n",
       "      <td>None</td>\n",
       "      <td>AS2</td>\n",
       "      <td>695e8780-d831-11e8-93f7-7d35ac1b495c</td>\n",
       "      <td>196</td>\n",
       "      <td>MAIL</td>\n",
       "      <td>bad8a080-038a-11e9-b9de-0e92ac1b495c</td>\n",
       "      <td>4848</td>\n",
       "      <td>4942</td>\n",
       "      <td>1579063705118</td>\n",
       "    </tr>\n",
       "    <tr>\n",
       "      <th>1</th>\n",
       "      <td>36b3a412-3752-11ea-82e0-1f38ac1e100b</td>\n",
       "      <td>1579063684502</td>\n",
       "      <td>1579063691601</td>\n",
       "      <td>SUCCESS</td>\n",
       "      <td>MaKo</td>\n",
       "      <td>None</td>\n",
       "      <td>AS2</td>\n",
       "      <td>695e8780-d831-11e8-93f7-7d35ac1b495c</td>\n",
       "      <td>416</td>\n",
       "      <td>MAIL</td>\n",
       "      <td>bad8a080-038a-11e9-b9de-0e92ac1b495c</td>\n",
       "      <td>6992</td>\n",
       "      <td>7099</td>\n",
       "      <td>1579063691494</td>\n",
       "    </tr>\n",
       "    <tr>\n",
       "      <th>2</th>\n",
       "      <td>395a8128-3752-11ea-aee1-e350ac1e100c</td>\n",
       "      <td>1579063688747</td>\n",
       "      <td>1579063694939</td>\n",
       "      <td>SUCCESS</td>\n",
       "      <td>MaKo</td>\n",
       "      <td>None</td>\n",
       "      <td>AS2</td>\n",
       "      <td>695e8780-d831-11e8-93f7-7d35ac1b495c</td>\n",
       "      <td>416</td>\n",
       "      <td>MAIL</td>\n",
       "      <td>bad8a080-038a-11e9-b9de-0e92ac1b495c</td>\n",
       "      <td>6092</td>\n",
       "      <td>6192</td>\n",
       "      <td>1579063694839</td>\n",
       "    </tr>\n",
       "    <tr>\n",
       "      <th>3</th>\n",
       "      <td>7788aac2-3753-11ea-aee1-e350ac1e100c</td>\n",
       "      <td>1579064221547</td>\n",
       "      <td>1579064235098</td>\n",
       "      <td>SUCCESS</td>\n",
       "      <td>MaKo</td>\n",
       "      <td>None</td>\n",
       "      <td>MAIL</td>\n",
       "      <td>bad8a080-038a-11e9-b9de-0e92ac1b495c</td>\n",
       "      <td>14923</td>\n",
       "      <td>AS2</td>\n",
       "      <td>695e8780-d831-11e8-93f7-7d35ac1b495c</td>\n",
       "      <td>13378</td>\n",
       "      <td>13551</td>\n",
       "      <td>1579064234925</td>\n",
       "    </tr>\n",
       "    <tr>\n",
       "      <th>4</th>\n",
       "      <td>1b3add73-3752-11ea-aee1-e350ac1e100c</td>\n",
       "      <td>1579063638268</td>\n",
       "      <td>1579063680566</td>\n",
       "      <td>SUCCESS</td>\n",
       "      <td>MAKO_BE_ROUTER</td>\n",
       "      <td>None</td>\n",
       "      <td>AS2</td>\n",
       "      <td>00fed140-e0f1-11e8-be62-528eac1b495c</td>\n",
       "      <td>2492</td>\n",
       "      <td>AS2</td>\n",
       "      <td>4c508960-e28e-11e8-be62-528eac1b495c</td>\n",
       "      <td>3994</td>\n",
       "      <td>42298</td>\n",
       "      <td>1579063642262</td>\n",
       "    </tr>\n",
       "  </tbody>\n",
       "</table>\n",
       "</div>"
      ],
      "text/plain": [
       "                       CGLOBALMESSAGEID     CSTARTTIME       CENDTIME  \\\n",
       "0  4045e5b4-3752-11ea-82e0-1f38ac1e100b  1579063700270  1579063705212   \n",
       "1  36b3a412-3752-11ea-82e0-1f38ac1e100b  1579063684502  1579063691601   \n",
       "2  395a8128-3752-11ea-aee1-e350ac1e100c  1579063688747  1579063694939   \n",
       "3  7788aac2-3753-11ea-aee1-e350ac1e100c  1579064221547  1579064235098   \n",
       "4  1b3add73-3752-11ea-aee1-e350ac1e100c  1579063638268  1579063680566   \n",
       "\n",
       "   CSTATUS        CSERVICE CSLABILLINGMONTH CSENDERPROTOCOL  \\\n",
       "0  SUCCESS            MaKo             None             AS2   \n",
       "1  SUCCESS            MaKo             None             AS2   \n",
       "2  SUCCESS            MaKo             None             AS2   \n",
       "3  SUCCESS            MaKo             None            MAIL   \n",
       "4  SUCCESS  MAKO_BE_ROUTER             None             AS2   \n",
       "\n",
       "                      CSENDERENDPOINTID CINBOUNDSIZE CRECEIVERPROTOCOL  \\\n",
       "0  695e8780-d831-11e8-93f7-7d35ac1b495c          196              MAIL   \n",
       "1  695e8780-d831-11e8-93f7-7d35ac1b495c          416              MAIL   \n",
       "2  695e8780-d831-11e8-93f7-7d35ac1b495c          416              MAIL   \n",
       "3  bad8a080-038a-11e9-b9de-0e92ac1b495c        14923               AS2   \n",
       "4  00fed140-e0f1-11e8-be62-528eac1b495c         2492               AS2   \n",
       "\n",
       "                    CRECEIVERENDPOINTID CSLATAT CMESSAGETAT2 CSLADELIVERYTIME  \n",
       "0  bad8a080-038a-11e9-b9de-0e92ac1b495c    4848         4942    1579063705118  \n",
       "1  bad8a080-038a-11e9-b9de-0e92ac1b495c    6992         7099    1579063691494  \n",
       "2  bad8a080-038a-11e9-b9de-0e92ac1b495c    6092         6192    1579063694839  \n",
       "3  695e8780-d831-11e8-93f7-7d35ac1b495c   13378        13551    1579064234925  \n",
       "4  4c508960-e28e-11e8-be62-528eac1b495c    3994        42298    1579063642262  "
      ]
     },
     "execution_count": 11,
     "metadata": {},
     "output_type": "execute_result"
    }
   ],
   "source": [
    "pfall.head()"
   ]
  },
  {
   "cell_type": "code",
   "execution_count": null,
   "metadata": {},
   "outputs": [],
   "source": [
    "hashes = getIgroupHashes(6)"
   ]
  },
  {
   "cell_type": "code",
   "execution_count": null,
   "metadata": {},
   "outputs": [],
   "source": [
    "_hash = hashes[10]\n",
    "staticfeatureset = getStaticFeatures(_hash)"
   ]
  },
  {
   "cell_type": "code",
   "execution_count": null,
   "metadata": {},
   "outputs": [],
   "source": [
    "relatedhashes = pd.unique(pfall[eval1(pfall)]['hashvalue'])\n",
    "relatedhashes"
   ]
  },
  {
   "cell_type": "code",
   "execution_count": null,
   "metadata": {},
   "outputs": [],
   "source": [
    "def getDataForRelatedHashes(relatedhashes):\n",
    "    data2 = pd.DataFrame()\n",
    "    start = True\n",
    "    for hash_ in relatedhashes:\n",
    "        c1 =  getDFvalueWithHash(int(hash_))\n",
    "        if start:\n",
    "            data2['date'] = c1['timestamp']\n",
    "            start = False\n",
    "        data2[str(hash_)] =  c1['value']\n",
    "    return data2"
   ]
  },
  {
   "cell_type": "code",
   "execution_count": null,
   "metadata": {},
   "outputs": [],
   "source": [
    "data = getDataForRelatedHashes(relatedhashes)\n",
    "len(data)"
   ]
  },
  {
   "cell_type": "code",
   "execution_count": null,
   "metadata": {},
   "outputs": [],
   "source": [
    "import pandas as pd\n",
    "import numpy as np\n",
    "import matplotlib.pyplot as plt\n",
    "import seaborn as sns\n",
    "\n",
    "#sns.lineplot(data=data2.iloc[:, :2])\n",
    "sns.lineplot(data=data.iloc[:, 1:])"
   ]
  },
  {
   "cell_type": "code",
   "execution_count": null,
   "metadata": {},
   "outputs": [],
   "source": []
  },
  {
   "cell_type": "code",
   "execution_count": null,
   "metadata": {},
   "outputs": [],
   "source": [
    "data"
   ]
  },
  {
   "cell_type": "code",
   "execution_count": null,
   "metadata": {},
   "outputs": [],
   "source": [
    "filteredrows = pfall[pfall['igroup'] == 6]\n",
    "\n",
    "len(filteredrows)\n",
    "hashes = pd.unique(filteredrows['hashvalue'])"
   ]
  },
  {
   "cell_type": "code",
   "execution_count": null,
   "metadata": {},
   "outputs": [],
   "source": [
    "import numpy as np\n",
    "getMissingSchemaids(pfall,hashes)"
   ]
  },
  {
   "cell_type": "code",
   "execution_count": null,
   "metadata": {},
   "outputs": [],
   "source": []
  },
  {
   "cell_type": "code",
   "execution_count": null,
   "metadata": {},
   "outputs": [],
   "source": [
    "data2 = pd.DataFrame()\n",
    "#pfm = getDFvalueWithHash(int(relatedhashes[0]))\n",
    "#\n",
    "data2['date'] = dt['timestamp'].astype(str)\n",
    "data2['value'] = dt['value']"
   ]
  },
  {
   "cell_type": "code",
   "execution_count": null,
   "metadata": {},
   "outputs": [],
   "source": []
  },
  {
   "cell_type": "code",
   "execution_count": null,
   "metadata": {},
   "outputs": [],
   "source": [
    "#hashes_d = dfcolumnSeries('hashvalue').toPandas()['hashvalue']\n",
    "hashes_d = df.select(['hashvalue','schemaid']).dropDuplicates().toPandas()"
   ]
  },
  {
   "cell_type": "code",
   "execution_count": null,
   "metadata": {},
   "outputs": [],
   "source": [
    "len(pd.unique(hashes_d['hashvalue']))\n"
   ]
  },
  {
   "cell_type": "code",
   "execution_count": null,
   "metadata": {},
   "outputs": [],
   "source": [
    "#len(pd.unique(hashes_d))\n",
    "\n",
    "\n",
    "dt = getDFvalueWithHash(int(hashes_d['schemaid'][0]),int(hashes_d['hashvalue'][0]))\n"
   ]
  },
  {
   "cell_type": "code",
   "execution_count": null,
   "metadata": {},
   "outputs": [],
   "source": [
    "# check, if it is unique\n",
    "len(dt['timestamp']), len(dt)"
   ]
  },
  {
   "cell_type": "code",
   "execution_count": null,
   "metadata": {},
   "outputs": [],
   "source": [
    "len(pd.unique(pfall['hashvalue']))"
   ]
  },
  {
   "cell_type": "code",
   "execution_count": null,
   "metadata": {},
   "outputs": [],
   "source": [
    "print(len(hashes))\n",
    "len(pd.unique(pfall['hashvalue']))"
   ]
  },
  {
   "cell_type": "code",
   "execution_count": null,
   "metadata": {},
   "outputs": [],
   "source": [
    "#getInfoForSchemas(filteredrows)\n",
    "#len(pd.unique(filteredrows['__name__']))\n",
    "#getEncoder('__name__').inverse_transform(pd.unique(filteredrows['__name__']))"
   ]
  },
  {
   "cell_type": "code",
   "execution_count": null,
   "metadata": {},
   "outputs": [],
   "source": [
    "pfall[(pfall['schemaid'] == 1629035211) & (pfall['timestamp'] == 1587819506)]"
   ]
  },
  {
   "cell_type": "code",
   "execution_count": null,
   "metadata": {},
   "outputs": [],
   "source": [
    "#getEncoder('igroup').inverse_transform(igroups)\n",
    "for igroup in igroups:\n",
    "    filteredrows = pfall[pfall['igroup'] == igroup]\n",
    "    count = len(pd.unique(filteredrows['inode']))\n",
    "    if count > 1:\n",
    "        print(getEncoder('igroup').inverse_transform([igroup]),igroup,count)"
   ]
  },
  {
   "cell_type": "code",
   "execution_count": null,
   "metadata": {},
   "outputs": [],
   "source": [
    "for hash_ in hashes:\n",
    "    metric = filteredrows[filteredrows['hashvalue']==hash_]\n",
    "    count = len(pd.unique(metric['value']))\n",
    "    if count > 3:\n",
    "        print(hash_,count)"
   ]
  },
  {
   "cell_type": "code",
   "execution_count": null,
   "metadata": {},
   "outputs": [],
   "source": [
    "#continue with hash\n",
    "#_hash=-2018833881\n",
    "_hash=-283862276"
   ]
  },
  {
   "cell_type": "code",
   "execution_count": null,
   "metadata": {},
   "outputs": [],
   "source": [
    "# !!!!!!!!!!! missing schemas\n",
    "getMissingSchemaids(pfall)"
   ]
  },
  {
   "cell_type": "code",
   "execution_count": null,
   "metadata": {},
   "outputs": [],
   "source": [
    "filteredrows[filteredrows['hashvalue'] == _hash]\n",
    "filteredrows[filteredrows['hashvalue'] == _hash][featurecolumns].iloc[0]['__name__']"
   ]
  },
  {
   "cell_type": "code",
   "execution_count": null,
   "metadata": {},
   "outputs": [],
   "source": [
    "\n",
    "\n",
    "#['schemaid','igroup']\n",
    "\n",
    "#filteredrows[featurecolumns].head()\n",
    "#getVariableUniqueColums(filteredrows[featurecolumns])\n",
    "\n",
    "# there are still too many columns for _hash\n",
    "#len(getVariableUniqueColums(filteredrows[featurecolumns]))\n",
    "#len(featurecolumns)\n",
    "\n",
    "\n",
    "# there are no variable columns left\n",
    "#getVariableUniqueColums(filteredrows[filteredrows['hashvalue'] == _hash][featurecolumns])\n",
    "\n",
    "# static feature values for metric _hash\n",
    "\n",
    "#staticfeatureset[featurecolumns[1]]\n",
    "#staticfeatureset\n",
    "\n",
    "\n",
    "#featurecolumns"
   ]
  },
  {
   "cell_type": "code",
   "execution_count": null,
   "metadata": {},
   "outputs": [],
   "source": []
  },
  {
   "cell_type": "code",
   "execution_count": null,
   "metadata": {},
   "outputs": [],
   "source": [
    "currenthash     = int(relatedhashes[1])\n",
    "currentfeatures = filteredrows[filteredrows['hashvalue'] == currenthash].iloc[0]\n",
    "currentfeatures['igroup'],currentfeatures['inode'],currentfeatures['hashvalue'],getEncoder('__name__').inverse_transform([currentfeatures['__name__']])[0]"
   ]
  },
  {
   "cell_type": "code",
   "execution_count": null,
   "metadata": {},
   "outputs": [],
   "source": []
  },
  {
   "cell_type": "code",
   "execution_count": null,
   "metadata": {},
   "outputs": [],
   "source": [
    "pfm"
   ]
  },
  {
   "cell_type": "code",
   "execution_count": null,
   "metadata": {},
   "outputs": [],
   "source": [
    "#data2 = data2.sort_values('date').reset_index()\n",
    "c1"
   ]
  },
  {
   "cell_type": "code",
   "execution_count": null,
   "metadata": {},
   "outputs": [],
   "source": [
    "data2"
   ]
  },
  {
   "cell_type": "code",
   "execution_count": null,
   "metadata": {},
   "outputs": [],
   "source": [
    "ax = createLineplot(data2,16,10,1.4,title=\"\",skip=500)\n",
    "label(ax,10,90)"
   ]
  },
  {
   "cell_type": "code",
   "execution_count": null,
   "metadata": {},
   "outputs": [],
   "source": [
    "data2.iloc[2]"
   ]
  },
  {
   "cell_type": "code",
   "execution_count": null,
   "metadata": {},
   "outputs": [],
   "source": [
    "pfall.head()"
   ]
  },
  {
   "cell_type": "code",
   "execution_count": null,
   "metadata": {},
   "outputs": [],
   "source": [
    "filteredrows[featurecolumns].head()"
   ]
  },
  {
   "cell_type": "code",
   "execution_count": null,
   "metadata": {},
   "outputs": [],
   "source": [
    "# find out variable columns and type of value\n",
    "#getVariableUniqueColums(pfm)\n",
    "#selected = ['timestamp', 'value','year','month', 'day', 'hour', 'minute']\n",
    "\n",
    "#which inode is used by metri hashvalue\n",
    "used_inode = filteredrows[filteredrows['hashvalue'] == _hash]['inode'].iloc[0]\n",
    "\n",
    "# other inodes for the igroup\n",
    "inodes_igroup = pd.unique(filteredrows[filteredrows['igroup'] == 6]['inode'])\n",
    "otherinodes = inodes_igroup[inodes_igroup!=used_inode]\n",
    "\n",
    "#\n",
    "pd.unique(filteredrows[filteredrows['igroup'] == 6]['__name__'])\n",
    "pd.unique(filteredrows[(filteredrows['igroup'] == 6) & (filteredrows['__name__'] == 309)]['logical_system'])"
   ]
  },
  {
   "cell_type": "code",
   "execution_count": null,
   "metadata": {},
   "outputs": [],
   "source": [
    "filteredrows[filteredrows['inode'] == inodes_igroup[0]]['hashvalue']\n"
   ]
  },
  {
   "cell_type": "code",
   "execution_count": null,
   "metadata": {},
   "outputs": [],
   "source": [
    "\n",
    "        \n",
    "metric = filteredrows[filteredrows['hashvalue']==_hash]\n",
    "#metric = filteredrows[filteredrows['hashvalue']==hashes[0]]\n",
    "#usedcolumns(metric)\n",
    "\n",
    "keep = getVariableUniqueColums(metric)\n",
    "#keepcolumns(dataall,keep)\n",
    "#keep\n",
    "len(metric),len(pd.unique(metric['value'])), pd.unique(metric['value'])\n",
    "metric"
   ]
  },
  {
   "cell_type": "code",
   "execution_count": null,
   "metadata": {},
   "outputs": [],
   "source": [
    "pfall1 = pfall[pfall['schemaid'] == schemas[0]]\n",
    "mdcountsall = pfall1.groupby(['igroup','hashvalue'])\n",
    "#['igroup'].count() \n",
    "#data2 = pd.DataFrame()\n",
    "mdcountsall"
   ]
  },
  {
   "cell_type": "code",
   "execution_count": null,
   "metadata": {},
   "outputs": [],
   "source": [
    "getEncoder('__name__').inverse_transform([pfall1.iloc[0]['__name__']])[0]"
   ]
  },
  {
   "cell_type": "code",
   "execution_count": null,
   "metadata": {},
   "outputs": [],
   "source": [
    "def createData(pfall,month,outcome) :\n",
    "    if outcome < 2 :\n",
    "        mdcountsall = pfall[(pfall['month'] == month) & (pfall['outcome'] == outcome)].groupby(['year','month','day','hour'])['outcome'].count()\n",
    "    else :\n",
    "        if (month > 0) & (month < 13) :\n",
    "            mdcountsall = pfall[(pfall['month'] == month)].groupby(['year','month','day','hour'])['outcome'].count()\n",
    "        else :\n",
    "            mdcountsall = pfall.groupby(['year','month','day','hour'])['outcome'].count()    \n",
    "    a,b,c,d = get_ymdh(mdcountsall)\n",
    "    data2 = pd.DataFrame()\n",
    "    data2['date'] = get_ymdh_string(a,b,c,d)\n",
    "    data2['outcome'] =  mdcountsall.reset_index()['outcome'].astype(int) \n",
    "\n",
    "    #for pivot table\n",
    "    data2['hours'] =  d.astype(int) \n",
    "    data2['days']  =  c.astype(int) \n",
    "    piv = pd.pivot_table(data2, values=\"outcome\",index=[\"hours\"], columns=[\"days\"], fill_value=0)\n",
    "    return data2"
   ]
  },
  {
   "cell_type": "code",
   "execution_count": null,
   "metadata": {},
   "outputs": [],
   "source": [
    "pfall.head()"
   ]
  }
 ],
 "metadata": {
  "kernelspec": {
   "display_name": "Python 3",
   "language": "python",
   "name": "python3"
  },
  "language_info": {
   "codemirror_mode": {
    "name": "ipython",
    "version": 3
   },
   "file_extension": ".py",
   "mimetype": "text/x-python",
   "name": "python",
   "nbconvert_exporter": "python",
   "pygments_lexer": "ipython3",
   "version": "3.8.8"
  },
  "toc-autonumbering": false,
  "toc-showcode": false
 },
 "nbformat": 4,
 "nbformat_minor": 4
}

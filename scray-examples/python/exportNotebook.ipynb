{
 "cells": [
  {
   "cell_type": "code",
   "execution_count": 1,
   "metadata": {},
   "outputs": [
    {
     "name": "stdout",
     "output_type": "stream",
     "text": [
      "[NbConvertApp] Converting notebook dfBasics.ipynb to script\n",
      "[NbConvertApp] Writing 505 bytes to dfBasics.py\n",
      "[NbConvertApp] Converting notebook encoder.ipynb to script\n",
      "[NbConvertApp] Writing 2874 bytes to encoder.py\n",
      "[NbConvertApp] Converting notebook pfAdapt.ipynb to script\n",
      "[NbConvertApp] Writing 1567 bytes to pfAdapt.py\n",
      "[NbConvertApp] Converting notebook charts.ipynb to script\n",
      "[NbConvertApp] Writing 2221 bytes to charts.py\n",
      "[NbConvertApp] Converting notebook common.ipynb to script\n",
      "[NbConvertApp] Writing 232 bytes to common.py\n",
      "[NbConvertApp] Converting notebook anomaly.ipynb to script\n",
      "[NbConvertApp] Writing 7584 bytes to anomaly.py\n",
      "[NbConvertApp] Converting notebook createMessageSendersParquet.ipynb to script\n",
      "[NbConvertApp] Writing 2903 bytes to createMessageSendersParquet.py\n"
     ]
    }
   ],
   "source": [
    "!jupyter nbconvert --to script dfBasics.ipynb\n",
    "!jupyter nbconvert --to script encoder.ipynb\n",
    "!jupyter nbconvert --to script pfAdapt.ipynb\n",
    "!jupyter nbconvert --to script charts.ipynb\n",
    "!jupyter nbconvert --to script common.ipynb\n",
    "!jupyter nbconvert --to script anomaly.ipynb\n",
    "!jupyter nbconvert --to script createMessageSendersParquet.ipynb"
   ]
  },
  {
   "cell_type": "code",
   "execution_count": 26,
   "metadata": {},
   "outputs": [],
   "source": [
    "#from notebook import encoder\n",
    "#from encoder.py import encoder\n",
    "#import encoder\n",
    "#from encoder import getEncoder\n",
    "\n",
    "\n",
    "#encoder = encoder.getEncoder('status')\n",
    "#encoder.inverse_transform([3,2,1])"
   ]
  },
  {
   "cell_type": "code",
   "execution_count": 2,
   "metadata": {},
   "outputs": [
    {
     "name": "stdout",
     "output_type": "stream",
     "text": [
      "[NbConvertApp] Converting notebook encodeSLA.ipynb to script\n",
      "[NbConvertApp] Writing 5680 bytes to encodeSLA.py\n"
     ]
    }
   ],
   "source": [
    "!jupyter nbconvert --to script encodeSLA.ipynb"
   ]
  },
  {
   "cell_type": "code",
   "execution_count": 29,
   "metadata": {},
   "outputs": [
    {
     "name": "stdout",
     "output_type": "stream",
     "text": [
      "[NbConvertApp] Converting notebook anomaly.ipynb to script\n",
      "[NbConvertApp] Writing 7567 bytes to anomaly.py\n"
     ]
    }
   ],
   "source": [
    "!jupyter nbconvert --to script anomaly.ipynb"
   ]
  }
 ],
 "metadata": {
  "kernelspec": {
   "display_name": "Python 3",
   "language": "python",
   "name": "python3"
  },
  "language_info": {
   "codemirror_mode": {
    "name": "ipython",
    "version": 3
   },
   "file_extension": ".py",
   "mimetype": "text/x-python",
   "name": "python",
   "nbconvert_exporter": "python",
   "pygments_lexer": "ipython3",
   "version": "3.7.6"
  }
 },
 "nbformat": 4,
 "nbformat_minor": 4
}

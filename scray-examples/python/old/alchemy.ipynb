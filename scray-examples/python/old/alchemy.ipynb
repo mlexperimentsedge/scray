{
 "cells": [
  {
   "cell_type": "code",
   "execution_count": null,
   "metadata": {},
   "outputs": [],
   "source": [
    "#!pip install pyhive\n",
    "#!yum uninstall cyrus-sasl-devel-2.1.26-23.el7.x86_64\n",
    "#!pip install thrift==0.9.3\n",
    "#!pip install thrift==0.10.0\n",
    "#!pip install thrift-sasl==0.3.0\n",
    "#!pip install impyla"
   ]
  },
  {
   "cell_type": "code",
   "execution_count": 3,
   "metadata": {},
   "outputs": [
    {
     "name": "stdout",
     "output_type": "stream",
     "text": [
      "Collecting package metadata (current_repodata.json): done\n",
      "Solving environment: done\n",
      "\n",
      "\n",
      "==> WARNING: A newer version of conda exists. <==\n",
      "  current version: 4.7.12\n",
      "  latest version: 4.8.0\n",
      "\n",
      "Please update conda by running\n",
      "\n",
      "    $ conda update -n base conda\n",
      "\n",
      "\n",
      "\n",
      "## Package Plan ##\n",
      "\n",
      "  environment location: /opt/conda\n",
      "\n",
      "  added / updated specs:\n",
      "    - pyhive\n",
      "\n",
      "\n",
      "The following packages will be downloaded:\n",
      "\n",
      "    package                    |            build\n",
      "    ---------------------------|-----------------\n",
      "    cyrus-sasl-2.1.27          |       he38ecfd_0         232 KB  conda-forge\n",
      "    future-0.18.2              |           py37_0         711 KB  conda-forge\n",
      "    libntlm-1.4                |    h14c3975_1002          32 KB  conda-forge\n",
      "    pyhive-0.6.1               |           py37_0          81 KB  defaults\n",
      "    sasl-0.2.1                 |py37he1b5a44_1001          56 KB  conda-forge\n",
      "    thrift-0.11.0              |py37he1b5a44_1001         109 KB  conda-forge\n",
      "    thrift_sasl-0.3.0          |py37h516909a_1001          13 KB  conda-forge\n",
      "    ------------------------------------------------------------\n",
      "                                           Total:         1.2 MB\n",
      "\n",
      "The following NEW packages will be INSTALLED:\n",
      "\n",
      "  cyrus-sasl         conda-forge/linux-64::cyrus-sasl-2.1.27-he38ecfd_0\n",
      "  future             conda-forge/linux-64::future-0.18.2-py37_0\n",
      "  libntlm            conda-forge/linux-64::libntlm-1.4-h14c3975_1002\n",
      "  pyhive             pkgs/main/linux-64::pyhive-0.6.1-py37_0\n",
      "  sasl               conda-forge/linux-64::sasl-0.2.1-py37he1b5a44_1001\n",
      "  thrift             conda-forge/linux-64::thrift-0.11.0-py37he1b5a44_1001\n",
      "  thrift_sasl        conda-forge/linux-64::thrift_sasl-0.3.0-py37h516909a_1001\n",
      "\n",
      "\n",
      "\n",
      "Downloading and Extracting Packages\n",
      "pyhive-0.6.1         | 81 KB     | ##################################### | 100% \n",
      "sasl-0.2.1           | 56 KB     | ##################################### | 100% \n",
      "future-0.18.2        | 711 KB    | ##################################### | 100% \n",
      "cyrus-sasl-2.1.27    | 232 KB    | ##################################### | 100% \n",
      "thrift_sasl-0.3.0    | 13 KB     | ##################################### | 100% \n",
      "libntlm-1.4          | 32 KB     | ##################################### | 100% \n",
      "thrift-0.11.0        | 109 KB    | ##################################### | 100% \n",
      "Preparing transaction: done\n",
      "Verifying transaction: done\n",
      "Executing transaction: done\n"
     ]
    }
   ],
   "source": [
    "import os\n",
    "os.environ['http_proxy'] = \"http://172.30.12.56:3128\" \n",
    "os.environ['https_proxy'] = \"https://172.30.12.56:3128\"  \n",
    "!conda install -y pyhive"
   ]
  },
  {
   "cell_type": "code",
   "execution_count": 9,
   "metadata": {},
   "outputs": [],
   "source": [
    "from sqlalchemy import create_engine\n",
    "from pyhive import hive\n",
    "\n",
    "from sqlalchemy import *\n",
    "from sqlalchemy.engine import create_engine\n",
    "from sqlalchemy.schema import *\n",
    "\n",
    "#engine = create_engine('hive://clspromon-aio01:10000/default')\n",
    "engine = create_engine('hive://172.30.17.145:10000/default')"
   ]
  },
  {
   "cell_type": "code",
   "execution_count": null,
   "metadata": {},
   "outputs": [],
   "source": [
    "row =  engine.execute(\"describe table `default`.`tables_stage3_bic_client`\")"
   ]
  },
  {
   "cell_type": "code",
   "execution_count": null,
   "metadata": {},
   "outputs": [],
   "source": [
    "row =  engine.execute(\"select * from `default`.`mdm_locations_nrw_stage1`\")"
   ]
  },
  {
   "cell_type": "code",
   "execution_count": null,
   "metadata": {},
   "outputs": [],
   "source": [
    "import pandas as pd\n",
    "locationsDF = pd.DataFrame(row)\n",
    "locationsDF.reset_index(drop=True, inplace=True)\n",
    "locationsDF.index = locationsDF[0]\n",
    "locationsDF"
   ]
  },
  {
   "cell_type": "code",
   "execution_count": null,
   "metadata": {},
   "outputs": [],
   "source": [
    "def traffic_color(x):\n",
    "    return {\n",
    "        'FREE_FLOW': 'green',\n",
    "        'CONGESTED': 'yellow',\n",
    "        'HEAVY': 'red',\n",
    "        'IMPOSSIBLE' : 'black'\n",
    "    }[x]"
   ]
  },
  {
   "cell_type": "code",
   "execution_count": null,
   "metadata": {},
   "outputs": [],
   "source": [
    "from ipyleaflet import Map, basemaps, basemap_to_tiles, CircleMarker, LayerGroup, FullScreenControl\n",
    "#print(df.shape)\n",
    "hagen = (51.36081, 7.47168)\n",
    "mmap = Map(\n",
    "    layers=(basemap_to_tiles(basemaps.OpenStreetMap.DE, ), ),\n",
    "    center=hagen,\n",
    "    zoom=11,\n",
    "    scroll_wheel_zoom=True\n",
    ")\n",
    "layers = []\n",
    "\n",
    "for index, row in locationsDF.iterrows():\n",
    "    cm = CircleMarker()\n",
    "    cm.location = (row[1],  row[2])\n",
    "    cm.radius = 10\n",
    "    cm.color = 'black'\n",
    "    cm.fill_color = 'green'\n",
    "    cm.fill_opacity = 1.0\n",
    "    #cm.weight = 1\n",
    "    layers.append(cm)\n",
    "  \n",
    "    \n",
    "layer_group = LayerGroup(layers=layers)\n",
    "mmap.add_layer(layer_group)\n",
    "mmap.add_control(FullScreenControl())"
   ]
  },
  {
   "cell_type": "code",
   "execution_count": null,
   "metadata": {},
   "outputs": [],
   "source": [
    "import pandas as pd\n",
    "from confluent_kafka import Consumer, KafkaError\n",
    "from confluent_kafka.avro import AvroConsumer\n",
    "from confluent_kafka.avro.serializer import SerializerError"
   ]
  },
  {
   "cell_type": "code",
   "execution_count": null,
   "metadata": {},
   "outputs": [],
   "source": [
    "c = AvroConsumer({\n",
    "    'bootstrap.servers': 'confluent:9092',\n",
    "    'group.id': 'groupid3',\n",
    "    'session.timeout.ms': 6000,\n",
    "    'default.topic.config': {'auto.offset.reset': 'latest'},\n",
    "    'schema.registry.url': 'http://confluent:8081'})\n",
    "c.subscribe(['S2_3391002_TRAFFIC_CAR_DEC'])\n",
    "df = pd.DataFrame([])"
   ]
  },
  {
   "cell_type": "code",
   "execution_count": null,
   "metadata": {},
   "outputs": [],
   "source": [
    "running = True\n",
    "while running:\n",
    "    msg = None\n",
    "    try:\n",
    "        msg = c.poll(10)\n",
    "        if msg:\n",
    "            if not msg.error():\n",
    "                \n",
    "                f = pd.Series(msg.value())\n",
    "                df[f[\"ID\"]] = f  \n",
    "                #layers[locationsDF.index.get_loc(f[\"ID\"])].fill_color = traffic_color(f[\"TRAFFICSTATUS\"])\n",
    "                print(f)\n",
    "                c.commit(msg)\n",
    "            elif msg.error().code() != KafkaError._PARTITION_EOF:\n",
    "                print(msg.error())\n",
    "                running = False\n",
    "        else:\n",
    "            print(\".\")\n",
    "    except SerializerError as e:\n",
    "        print(\"Message deserialization failed for %s: %s\" % (msg, e))\n",
    "        running = False\n",
    "c.commit()\n",
    "c.close()"
   ]
  },
  {
   "cell_type": "code",
   "execution_count": null,
   "metadata": {},
   "outputs": [],
   "source": [
    "mmap"
   ]
  },
  {
   "cell_type": "code",
   "execution_count": null,
   "metadata": {},
   "outputs": [],
   "source": [
    "inspector = inspect(engine)\n",
    "#row = inspector.get_columns('default')\n",
    "print(inspector.get_table_names())"
   ]
  },
  {
   "cell_type": "code",
   "execution_count": 6,
   "metadata": {},
   "outputs": [
    {
     "name": "stdout",
     "output_type": "stream",
     "text": [
      "product\n",
      "service\n",
      "__name__\n",
      "alertname\n",
      "alertstate\n",
      "instance\n",
      "job\n",
      "severity\n",
      "code\n",
      "le\n",
      "quantile\n",
      "scrape_job\n",
      "interval\n",
      "event\n",
      "role\n",
      "name\n",
      "config\n",
      "call\n",
      "endpoint\n",
      "rule_group\n",
      "handler\n",
      "slice\n",
      "branch\n",
      "goversion\n",
      "revision\n",
      "version\n",
      "listener_name\n",
      "dialer_name\n",
      "reason\n",
      "area\n",
      "runtime\n",
      "vendor\n",
      "gc\n",
      "pool\n",
      "cache\n",
      "adapterid\n",
      "adapter\n",
      "type\n",
      "enginetype\n",
      "status\n",
      "remotegroupid\n",
      "remoteinstanceid\n",
      "remotesystemid\n",
      "queue\n",
      "env\n",
      "state\n",
      "logical_system\n",
      "prio\n",
      "port\n",
      "drive\n",
      "account\n",
      "instanceid\n",
      "queuename\n"
     ]
    },
    {
     "data": {
      "text/plain": [
       "['product',\n",
       " 'service',\n",
       " '__name__',\n",
       " 'alertname',\n",
       " 'alertstate',\n",
       " 'instance',\n",
       " 'job',\n",
       " 'severity',\n",
       " 'code',\n",
       " 'le',\n",
       " 'quantile',\n",
       " 'scrape_job',\n",
       " 'interval',\n",
       " 'event',\n",
       " 'role',\n",
       " 'name',\n",
       " 'config',\n",
       " 'call',\n",
       " 'endpoint',\n",
       " 'rule_group',\n",
       " 'handler',\n",
       " 'slice',\n",
       " 'branch',\n",
       " 'goversion',\n",
       " 'revision',\n",
       " 'version',\n",
       " 'listener_name',\n",
       " 'dialer_name',\n",
       " 'reason',\n",
       " 'area',\n",
       " 'runtime',\n",
       " 'vendor',\n",
       " 'gc',\n",
       " 'pool',\n",
       " 'cache',\n",
       " 'adapterid',\n",
       " 'adapter',\n",
       " 'type',\n",
       " 'enginetype',\n",
       " 'status',\n",
       " 'remotegroupid',\n",
       " 'remoteinstanceid',\n",
       " 'remotesystemid',\n",
       " 'queue',\n",
       " 'env',\n",
       " 'state',\n",
       " 'logical_system',\n",
       " 'prio',\n",
       " 'port',\n",
       " 'drive',\n",
       " 'account',\n",
       " 'instanceid',\n",
       " 'queuename']"
      ]
     },
     "execution_count": 6,
     "metadata": {},
     "output_type": "execute_result"
    }
   ],
   "source": [
    "inspector = inspect(engine)\n",
    "\n",
    "# Get table information\n",
    "#print(inspector.get_table_names())\n",
    "\n",
    "# Get column information\n",
    "row=inspector.get_columns('tables_stage1_p_meta_complete')\n",
    "\n",
    "col = [] \n",
    "for _row in row:\n",
    "    print(_row['name'])\n",
    "    col.append(_row['name'])\n",
    "\n",
    "col"
   ]
  },
  {
   "cell_type": "code",
   "execution_count": 8,
   "metadata": {},
   "outputs": [
    {
     "data": {
      "text/plain": [
       "0                                bis_jms_scheduled_count\n",
       "1                bis_order_execution_time_seconds_bucket\n",
       "2                         bis_order_sync_execution_total\n",
       "3                  scrape_samples_post_metric_relabeling\n",
       "4                                     bis_adapter_status\n",
       "                              ...                       \n",
       "26681              prometheus_target_sync_length_seconds\n",
       "26682           prometheus_target_scrape_pool_sync_total\n",
       "26683         prometheus_http_response_size_bytes_bucket\n",
       "26684    prometheus_http_request_duration_seconds_bucket\n",
       "26685                         go_gc_duration_seconds_sum\n",
       "Name: __name__, Length: 26686, dtype: object"
      ]
     },
     "execution_count": 8,
     "metadata": {},
     "output_type": "execute_result"
    }
   ],
   "source": [
    "import pandas as pd\n",
    "#row =  engine.execute(\"describe table `default`.`tables_stage1`\")\n",
    "#row =  engine.execute(\"select * from tables_stage1_p\")\n",
    "row =  engine.execute(\"select * from  tables_stage1_p_meta_complete\")\n",
    "df = pd.DataFrame(row)\n",
    "#df.columns = ['a', 'b','c', 'd','e', 'f','g', 'h', 'i']\n",
    "df.columns = col\n",
    "df['__name__']"
   ]
  },
  {
   "cell_type": "code",
   "execution_count": null,
   "metadata": {},
   "outputs": [],
   "source": [
    "import pandas as pd\n",
    "#row =  engine.execute(\"describe table `default`.`tables_stage1`\")\n",
    "row =  engine.execute(\"select * from tables_stage3_bic_client\")\n",
    "df = pd.DataFrame(row)\n",
    "df.columns = ['a', 'b','c', 'd','e', 'f','g', 'h', 'i']\n",
    "df"
   ]
  },
  {
   "cell_type": "code",
   "execution_count": null,
   "metadata": {},
   "outputs": [],
   "source": [
    "import pandas_profiling\n",
    "import numpy as np\n",
    "df.describe()"
   ]
  },
  {
   "cell_type": "code",
   "execution_count": null,
   "metadata": {},
   "outputs": [],
   "source": [
    "pandas_profiling.ProfileReport(df)"
   ]
  },
  {
   "cell_type": "code",
   "execution_count": null,
   "metadata": {},
   "outputs": [],
   "source": []
  }
 ],
 "metadata": {
  "kernelspec": {
   "display_name": "Python 3",
   "language": "python",
   "name": "python3"
  },
  "language_info": {
   "codemirror_mode": {
    "name": "ipython",
    "version": 3
   },
   "file_extension": ".py",
   "mimetype": "text/x-python",
   "name": "python",
   "nbconvert_exporter": "python",
   "pygments_lexer": "ipython3",
   "version": "3.7.3"
  }
 },
 "nbformat": 4,
 "nbformat_minor": 2
}

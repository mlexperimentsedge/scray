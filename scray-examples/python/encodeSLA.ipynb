{
 "cells": [
  {
   "cell_type": "code",
   "execution_count": 1,
   "metadata": {},
   "outputs": [],
   "source": [
    "import dfBasics\n",
    "import common\n",
    "import encoder\n",
    "import pfAdapt\n",
    "#import charts\n"
   ]
  },
  {
   "cell_type": "code",
   "execution_count": 3,
   "metadata": {},
   "outputs": [],
   "source": [
    "import pandas as pd\n",
    "from pyspark.sql import functions"
   ]
  },
  {
   "cell_type": "code",
   "execution_count": 4,
   "metadata": {},
   "outputs": [],
   "source": [
    "def getCountDF(pf,column,hashes):\n",
    "    dft = pd.DataFrame(columns=[column, 'count'])\n",
    "    i=0\n",
    "    for hash in hashes:\n",
    "        pfall=pf[pf[column] == hash]\n",
    "        num=len(pfall)\n",
    "        if num > 1:\n",
    "            dft.loc[i] = [hash] + [num]\n",
    "            i=i+1\n",
    "    return dft\n",
    "    #return dft.sort_values('count')\n",
    "\n",
    "def usedcolumns(tb,row):\n",
    "    col = []\n",
    "    for column in tb.columns:\n",
    "        if tb.iloc[row][column] == None :\n",
    "            col.append(column)\n",
    "    return col\n",
    "\n",
    "def diffcolumns(tb):\n",
    "    col = []\n",
    "    for column in tb.columns:\n",
    "        if tb.iloc[0][column] != tb.iloc[1][column] :\n",
    "            col.append(column)\n",
    "    return col\n",
    "\n",
    "def printtt():    \n",
    "    col = []\n",
    "    for index, row in tt.iterrows():\n",
    "        tb = pfall[pfall['CGLOBALMESSAGEID'] == row['CGLOBALMESSAGEID']]\n",
    "        for bindex, brow in tb.iterrows():\n",
    "            if pfall.loc[bindex]['CSLADELIVERYTIME'] < 0 :\n",
    "                #print (str(index) + ' ' + str(bindex))\n",
    "                col.append(bindex)\n",
    "    return col\n"
   ]
  },
  {
   "cell_type": "code",
   "execution_count": 5,
   "metadata": {},
   "outputs": [],
   "source": [
    "def astype(pfall,selected,newtype):\n",
    "    for each in selected:\n",
    "        pfall[each] = pfall[each].astype(newtype)     \n"
   ]
  },
  {
   "cell_type": "markdown",
   "metadata": {},
   "source": [
    "# B"
   ]
  },
  {
   "cell_type": "code",
   "execution_count": 6,
   "metadata": {},
   "outputs": [],
   "source": [
    "selected = [ 'CSTATUS', 'CSERVICE',\\\n",
    "        'CSENDERPROTOCOL', 'CSENDERENDPOINTID',\\\n",
    "        'CRECEIVERPROTOCOL', 'CRECEIVERENDPOINTID']\n"
   ]
  },
  {
   "cell_type": "code",
   "execution_count": 7,
   "metadata": {},
   "outputs": [],
   "source": [
    "def encodepfall(pfall,number):\n",
    "    print('1')\n",
    "    astype(pfall,['CSTARTTIME','CENDTIME','CSLATAT','CMESSAGETAT2','CSLADELIVERYTIME','CINBOUNDSIZE'] ,int) \n",
    "    #del(pfall['CSLABILLINGMONTH'])\n",
    "    pfall['CGLOBALMESSAGEID'] = pfall['CGLOBALMESSAGEID'].apply(hash)\n",
    "    print('1b')\n",
    "    ac = pd.unique(pfall['CGLOBALMESSAGEID'])\n",
    "    print('2')\n",
    "    tt = getCountDF(pfall,'CGLOBALMESSAGEID',ac)\n",
    "    print('3')\n",
    "    col = printtt() \n",
    "    print('4')\n",
    "    pfall = pfall.drop(col)\n",
    "    print('5')\n",
    "    astype(pfall,selected,str) \n",
    "    encoder.encode(pfall,selected)\n",
    "    \n",
    "    print('6')\n",
    "    pfall = pfall.drop_duplicates()\n",
    "    print('7')\n",
    "    pfall.to_parquet('/tmp/sla_' + number + '.parquet', engine='fastparquet', compression='GZIP')\n",
    "    return pfall"
   ]
  },
  {
   "cell_type": "markdown",
   "metadata": {},
   "source": [
    "# Main"
   ]
  },
  {
   "cell_type": "code",
   "execution_count": 8,
   "metadata": {},
   "outputs": [],
   "source": [
    "columns = ['CGLOBALMESSAGEID', 'CSTARTTIME', 'CENDTIME', 'CSTATUS', 'CSERVICE',\\\n",
    "       'CSLABILLINGMONTH', 'CSENDERPROTOCOL', 'CSENDERENDPOINTID',\\\n",
    "       'CINBOUNDSIZE', 'CRECEIVERPROTOCOL', 'CRECEIVERENDPOINTID', 'CSLATAT',\\\n",
    "       'CMESSAGETAT2', 'CSLADELIVERYTIME']\n",
    "# withot 'CSLABILLINGMONTH'\n",
    "def get_columns_2():\n",
    "    columns = ['CGLOBALMESSAGEID', 'CSTARTTIME', 'CENDTIME', 'CSTATUS', 'CSERVICE',\\\n",
    "            'CSENDERPROTOCOL', 'CSENDERENDPOINTID',\\\n",
    "           'CINBOUNDSIZE', 'CRECEIVERPROTOCOL', 'CRECEIVERENDPOINTID', 'CSLATAT',\\\n",
    "           'CMESSAGETAT2', 'CSLADELIVERYTIME']\n",
    "    return columns\n",
    "columns = get_columns_2()\n",
    "#to count messages sent\n",
    "#columns = [ 'CSTARTTIME', 'CSENDERENDPOINTID']"
   ]
  },
  {
   "cell_type": "code",
   "execution_count": null,
   "metadata": {},
   "outputs": [],
   "source": []
  },
  {
   "cell_type": "code",
   "execution_count": 9,
   "metadata": {},
   "outputs": [],
   "source": [
    "sparkSession = dfBasics.getSparkSession()"
   ]
  },
  {
   "cell_type": "code",
   "execution_count": null,
   "metadata": {},
   "outputs": [],
   "source": []
  },
  {
   "cell_type": "code",
   "execution_count": 10,
   "metadata": {},
   "outputs": [],
   "source": [
    "# read timestamps from file\n",
    "with open(\"/tmp/slatimestamps.txt\", \"r\") as file:\n",
    "    lines = file.read().split('\\n')"
   ]
  },
  {
   "cell_type": "code",
   "execution_count": null,
   "metadata": {},
   "outputs": [
    {
     "name": "stdout",
     "output_type": "stream",
     "text": [
      "df.toPandas\n",
      "df.toPandas\n",
      "1\n",
      "1b\n",
      "2\n"
     ]
    }
   ],
   "source": [
    "for line in lines:\n",
    "    df = sparkSession.read.parquet('hdfs://172.30.17.145:8020/sla_sql_data/' + line +  '*/*').select(columns).dropDuplicates()\n",
    "    print('df.toPandas')\n",
    "    pfall = df.toPandas() \n",
    "    print('df.toPandas')\n",
    "    encodepfall(pfall,line)"
   ]
  },
  {
   "cell_type": "code",
   "execution_count": 11,
   "metadata": {},
   "outputs": [
    {
     "name": "stdout",
     "output_type": "stream",
     "text": [
      "df.toPandas\n"
     ]
    }
   ],
   "source": [
    "line = lines[0]\n",
    "df = sparkSession.read.parquet('hdfs://172.30.17.145:8020/sla_sql_data/' + line +  '*/*').select(columns).dropDuplicates()\n",
    "print('df.toPandas')\n",
    "pfall = df.toPandas() "
   ]
  },
  {
   "cell_type": "code",
   "execution_count": 12,
   "metadata": {},
   "outputs": [
    {
     "name": "stdout",
     "output_type": "stream",
     "text": [
      "1\n",
      "1b\n"
     ]
    }
   ],
   "source": [
    "print('1')\n",
    "astype(pfall,['CSTARTTIME','CENDTIME','CSLATAT','CMESSAGETAT2','CSLADELIVERYTIME','CINBOUNDSIZE'] ,int) \n",
    "#del(pfall['CSLABILLINGMONTH'])\n",
    "pfall['CGLOBALMESSAGEID'] = pfall['CGLOBALMESSAGEID'].apply(hash)\n",
    "print('1b')\n",
    "ac = pd.unique(pfall['CGLOBALMESSAGEID'])"
   ]
  },
  {
   "cell_type": "code",
   "execution_count": 29,
   "metadata": {},
   "outputs": [],
   "source": [
    "mdcountsall = pfall.groupby(['CGLOBALMESSAGEID','CSTATUS'])['CSTARTTIME'].count()\n",
    "mdcountsall = mdcountsall[mdcountsall > 1]"
   ]
  },
  {
   "cell_type": "code",
   "execution_count": 30,
   "metadata": {},
   "outputs": [
    {
     "data": {
      "text/plain": [
       "CGLOBALMESSAGEID      CSTATUS\n",
       "-7106889482465263091  PENDING    2\n",
       "-6728710525560770143  SUCCESS    2\n",
       "-6252343954013336673  PENDING    2\n",
       "-5991088962523514816  SUCCESS    2\n",
       "-5376917782570268553  SUCCESS    2\n",
       "-1813780913549002217  SUCCESS    2\n",
       "-825101255996487945   SUCCESS    2\n",
       " 244699708392937803   SUCCESS    2\n",
       " 2918319669369699741  SUCCESS    2\n",
       " 3198846195559485937  SUCCESS    2\n",
       " 5087226829455254053  SUCCESS    2\n",
       " 6235470665220927147  SUCCESS    2\n",
       " 6973525114254465644  SUCCESS    2\n",
       " 8093386665392717581  SUCCESS    2\n",
       " 8486561839724650877  SUCCESS    2\n",
       "Name: CSTARTTIME, dtype: int64"
      ]
     },
     "execution_count": 30,
     "metadata": {},
     "output_type": "execute_result"
    }
   ],
   "source": [
    "#len(pfall), len(ac)\n",
    "#pfall.head()\n",
    "#pfall.dtypes\n",
    "\n",
    "mdcountsall"
   ]
  },
  {
   "cell_type": "code",
   "execution_count": 31,
   "metadata": {},
   "outputs": [
    {
     "data": {
      "text/html": [
       "<div>\n",
       "<style scoped>\n",
       "    .dataframe tbody tr th:only-of-type {\n",
       "        vertical-align: middle;\n",
       "    }\n",
       "\n",
       "    .dataframe tbody tr th {\n",
       "        vertical-align: top;\n",
       "    }\n",
       "\n",
       "    .dataframe thead th {\n",
       "        text-align: right;\n",
       "    }\n",
       "</style>\n",
       "<table border=\"1\" class=\"dataframe\">\n",
       "  <thead>\n",
       "    <tr style=\"text-align: right;\">\n",
       "      <th></th>\n",
       "      <th>CGLOBALMESSAGEID</th>\n",
       "      <th>CSTARTTIME</th>\n",
       "      <th>CENDTIME</th>\n",
       "      <th>CSTATUS</th>\n",
       "      <th>CSERVICE</th>\n",
       "      <th>CSENDERPROTOCOL</th>\n",
       "      <th>CSENDERENDPOINTID</th>\n",
       "      <th>CINBOUNDSIZE</th>\n",
       "      <th>CRECEIVERPROTOCOL</th>\n",
       "      <th>CRECEIVERENDPOINTID</th>\n",
       "      <th>CSLATAT</th>\n",
       "      <th>CMESSAGETAT2</th>\n",
       "      <th>CSLADELIVERYTIME</th>\n",
       "    </tr>\n",
       "  </thead>\n",
       "  <tbody>\n",
       "    <tr>\n",
       "      <th>2240965</th>\n",
       "      <td>-7106889482465263091</td>\n",
       "      <td>1575886202504</td>\n",
       "      <td>1575886204603</td>\n",
       "      <td>PENDING</td>\n",
       "      <td>InvoicePortal</td>\n",
       "      <td>AS2</td>\n",
       "      <td>0624a3a0-85da-11e9-b822-0ff9ac1b495c_f77ef920-...</td>\n",
       "      <td>14919</td>\n",
       "      <td>AS2</td>\n",
       "      <td>803ca7e0-198e-11e9-b9de-0e92ac1b495c</td>\n",
       "      <td>0</td>\n",
       "      <td>2099</td>\n",
       "      <td>-1</td>\n",
       "    </tr>\n",
       "    <tr>\n",
       "      <th>5774706</th>\n",
       "      <td>-7106889482465263091</td>\n",
       "      <td>1575886202504</td>\n",
       "      <td>1575886202685</td>\n",
       "      <td>PENDING</td>\n",
       "      <td>InvoicePortal</td>\n",
       "      <td>AS2</td>\n",
       "      <td>0624a3a0-85da-11e9-b822-0ff9ac1b495c_f77ef920-...</td>\n",
       "      <td>14919</td>\n",
       "      <td>AS2</td>\n",
       "      <td>803ca7e0-198e-11e9-b9de-0e92ac1b495c</td>\n",
       "      <td>0</td>\n",
       "      <td>181</td>\n",
       "      <td>-1</td>\n",
       "    </tr>\n",
       "  </tbody>\n",
       "</table>\n",
       "</div>"
      ],
      "text/plain": [
       "            CGLOBALMESSAGEID     CSTARTTIME       CENDTIME  CSTATUS  \\\n",
       "2240965 -7106889482465263091  1575886202504  1575886204603  PENDING   \n",
       "5774706 -7106889482465263091  1575886202504  1575886202685  PENDING   \n",
       "\n",
       "              CSERVICE CSENDERPROTOCOL  \\\n",
       "2240965  InvoicePortal             AS2   \n",
       "5774706  InvoicePortal             AS2   \n",
       "\n",
       "                                         CSENDERENDPOINTID  CINBOUNDSIZE  \\\n",
       "2240965  0624a3a0-85da-11e9-b822-0ff9ac1b495c_f77ef920-...         14919   \n",
       "5774706  0624a3a0-85da-11e9-b822-0ff9ac1b495c_f77ef920-...         14919   \n",
       "\n",
       "        CRECEIVERPROTOCOL                   CRECEIVERENDPOINTID  CSLATAT  \\\n",
       "2240965               AS2  803ca7e0-198e-11e9-b9de-0e92ac1b495c        0   \n",
       "5774706               AS2  803ca7e0-198e-11e9-b9de-0e92ac1b495c        0   \n",
       "\n",
       "         CMESSAGETAT2  CSLADELIVERYTIME  \n",
       "2240965          2099                -1  \n",
       "5774706           181                -1  "
      ]
     },
     "execution_count": 31,
     "metadata": {},
     "output_type": "execute_result"
    }
   ],
   "source": [
    "pfall[pfall['CGLOBALMESSAGEID'] == mdcountsall.index.get_level_values(0)[0]]\n",
    "#pfall['CGLOBALMESSAGEID'] == -9209718302575659389\n"
   ]
  },
  {
   "cell_type": "code",
   "execution_count": 15,
   "metadata": {},
   "outputs": [
    {
     "data": {
      "text/plain": [
       "-9222311199239246750"
      ]
     },
     "execution_count": 15,
     "metadata": {},
     "output_type": "execute_result"
    }
   ],
   "source": [
    "#len(pfall[pfall['CSLADELIVERYTIME'] == -1])\n",
    "mdcountsall.index.get_level_values(0)[0]"
   ]
  },
  {
   "cell_type": "code",
   "execution_count": 26,
   "metadata": {},
   "outputs": [],
   "source": [
    "def printtt(tt):    \n",
    "    col = []\n",
    "    i = 0\n",
    "    for index in tt.index.get_level_values(0):\n",
    "        tb = pfall[pfall['CGLOBALMESSAGEID'] == index]\n",
    "        findex = []\n",
    "        for bindex, brow in tb.iterrows():   \n",
    "            if pfall.loc[bindex]['CSLADELIVERYTIME'] < 0 :\n",
    "                #print (str(index) + ' ' + str(bindex))\n",
    "                #col.append(bindex)\n",
    "                findex.append(bindex)\n",
    "        if(len(findex) == 1):\n",
    "            col.append(findex[0])   \n",
    "        else:\n",
    "            if()\n",
    "    return col\n",
    "\n",
    "f = printtt(mdcountsall)"
   ]
  },
  {
   "cell_type": "code",
   "execution_count": 27,
   "metadata": {},
   "outputs": [
    {
     "data": {
      "text/plain": [
       "(1248, 1263)"
      ]
     },
     "execution_count": 27,
     "metadata": {},
     "output_type": "execute_result"
    }
   ],
   "source": [
    "len(f), len(mdcountsall)"
   ]
  },
  {
   "cell_type": "code",
   "execution_count": 28,
   "metadata": {},
   "outputs": [],
   "source": [
    "pfall = pfall.drop(f)"
   ]
  }
 ],
 "metadata": {
  "celltoolbar": "Tags",
  "kernelspec": {
   "display_name": "Python 3",
   "language": "python",
   "name": "python3"
  },
  "language_info": {
   "codemirror_mode": {
    "name": "ipython",
    "version": 3
   },
   "file_extension": ".py",
   "mimetype": "text/x-python",
   "name": "python",
   "nbconvert_exporter": "python",
   "pygments_lexer": "ipython3",
   "version": "3.7.6"
  }
 },
 "nbformat": 4,
 "nbformat_minor": 4
}

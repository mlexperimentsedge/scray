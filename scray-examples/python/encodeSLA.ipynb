{
 "cells": [
  {
   "cell_type": "code",
   "execution_count": 1,
   "metadata": {},
   "outputs": [],
   "source": [
    "import dfBasics\n",
    "import common\n",
    "import encoder\n",
    "import pfAdapt\n",
    "#import charts\n"
   ]
  },
  {
   "cell_type": "code",
   "execution_count": 124,
   "metadata": {},
   "outputs": [
    {
     "name": "stdout",
     "output_type": "stream",
     "text": [
      "\u001b[33mWARNING: Retrying (Retry(total=4, connect=None, read=None, redirect=None, status=None)) after connection broken by 'SSLError(SSLError(1, '[SSL: WRONG_VERSION_NUMBER] wrong version number (_ssl.c:1125)'))': /simple/fastparquet/\u001b[0m\n",
      "\u001b[33mWARNING: Retrying (Retry(total=3, connect=None, read=None, redirect=None, status=None)) after connection broken by 'SSLError(SSLError(1, '[SSL: WRONG_VERSION_NUMBER] wrong version number (_ssl.c:1125)'))': /simple/fastparquet/\u001b[0m\n",
      "\u001b[33mWARNING: Retrying (Retry(total=2, connect=None, read=None, redirect=None, status=None)) after connection broken by 'SSLError(SSLError(1, '[SSL: WRONG_VERSION_NUMBER] wrong version number (_ssl.c:1125)'))': /simple/fastparquet/\u001b[0m\n",
      "\u001b[33mWARNING: Retrying (Retry(total=1, connect=None, read=None, redirect=None, status=None)) after connection broken by 'SSLError(SSLError(1, '[SSL: WRONG_VERSION_NUMBER] wrong version number (_ssl.c:1125)'))': /simple/fastparquet/\u001b[0m\n",
      "\u001b[33mWARNING: Retrying (Retry(total=0, connect=None, read=None, redirect=None, status=None)) after connection broken by 'SSLError(SSLError(1, '[SSL: WRONG_VERSION_NUMBER] wrong version number (_ssl.c:1125)'))': /simple/fastparquet/\u001b[0m\n",
      "Could not fetch URL https://pypi.org/simple/fastparquet/: There was a problem confirming the ssl certificate: HTTPSConnectionPool(host='pypi.org', port=443): Max retries exceeded with url: /simple/fastparquet/ (Caused by SSLError(SSLError(1, '[SSL: WRONG_VERSION_NUMBER] wrong version number (_ssl.c:1125)'))) - skipping\n",
      "\u001b[31mERROR: Could not find a version that satisfies the requirement fastparquet\u001b[0m\n",
      "\u001b[31mERROR: No matching distribution found for fastparquet\u001b[0m\n",
      "Could not fetch URL https://pypi.org/simple/pip/: There was a problem confirming the ssl certificate: HTTPSConnectionPool(host='pypi.org', port=443): Max retries exceeded with url: /simple/pip/ (Caused by SSLError(SSLError(1, '[SSL: WRONG_VERSION_NUMBER] wrong version number (_ssl.c:1125)'))) - skipping\n"
     ]
    }
   ],
   "source": [
    "!pip install --trusted-host pypi.org --trusted-host pypi.python.org --trusted-host files.pythonhosted.org fastparquet"
   ]
  },
  {
   "cell_type": "code",
   "execution_count": 126,
   "metadata": {},
   "outputs": [
    {
     "name": "stdout",
     "output_type": "stream",
     "text": [
      "Requirement already satisfied: pyarrow in /opt/conda/lib/python3.8/site-packages (3.0.0)\n",
      "Requirement already satisfied: numpy>=1.16.6 in /opt/conda/lib/python3.8/site-packages (from pyarrow) (1.20.1)\n",
      "Could not fetch URL https://pypi.org/simple/pip/: There was a problem confirming the ssl certificate: HTTPSConnectionPool(host='pypi.org', port=443): Max retries exceeded with url: /simple/pip/ (Caused by SSLError(SSLError(1, '[SSL: WRONG_VERSION_NUMBER] wrong version number (_ssl.c:1125)'))) - skipping\n"
     ]
    }
   ],
   "source": [
    "import os\n",
    "os.environ['http_proxy'] = \"http://172.30.12.56:3128\" \n",
    "os.environ['https_proxy'] = \"https://172.30.12.56:3128\"  \n",
    "!pip install pyarrow\n",
    "#!pip3 install fastparquet\n",
    "#!conda uninstall fastparquet\n",
    "#!conda config --add channels conda-forge\n",
    "#!conda install -y -c conda-forge fastparquet"
   ]
  },
  {
   "cell_type": "code",
   "execution_count": 2,
   "metadata": {},
   "outputs": [],
   "source": [
    "import pandas as pd\n",
    "from pyspark.sql import functions"
   ]
  },
  {
   "cell_type": "code",
   "execution_count": 3,
   "metadata": {},
   "outputs": [],
   "source": [
    "def getCountDF(pf,column,hashes):\n",
    "    dft = pd.DataFrame(columns=[column, 'count'])\n",
    "    i=0\n",
    "    for hash in hashes:\n",
    "        pfall=pf[pf[column] == hash]\n",
    "        num=len(pfall)\n",
    "        if num > 1:\n",
    "            dft.loc[i] = [hash] + [num]\n",
    "            i=i+1\n",
    "    return dft\n",
    "    #return dft.sort_values('count')\n",
    "\n",
    "def usedcolumns(tb,row):\n",
    "    col = []\n",
    "    for column in tb.columns:\n",
    "        if tb.iloc[row][column] == None :\n",
    "            col.append(column)\n",
    "    return col\n",
    "\n",
    "def diffcolumns(tb):\n",
    "    col = []\n",
    "    for column in tb.columns:\n",
    "        if tb.iloc[0][column] != tb.iloc[1][column] :\n",
    "            col.append(column)\n",
    "    return col\n",
    "\n",
    "def printtt1():    \n",
    "    col = []\n",
    "    for index, row in tt.iterrows():\n",
    "        tb = pfall[pfall['CGLOBALMESSAGEID'] == row['CGLOBALMESSAGEID']]\n",
    "        for bindex, brow in tb.iterrows():\n",
    "            if pfall.loc[bindex]['CSLADELIVERYTIME'] < 0 :\n",
    "                #print (str(index) + ' ' + str(bindex))\n",
    "                col.append(bindex)\n",
    "    return col\n"
   ]
  },
  {
   "cell_type": "code",
   "execution_count": 4,
   "metadata": {},
   "outputs": [],
   "source": [
    "def astype(pfall,selected,newtype):\n",
    "    for each in selected:\n",
    "        pfall[each] = pfall[each].astype(newtype)     \n"
   ]
  },
  {
   "cell_type": "markdown",
   "metadata": {},
   "source": [
    "# B"
   ]
  },
  {
   "cell_type": "code",
   "execution_count": 5,
   "metadata": {},
   "outputs": [],
   "source": [
    "selected = [ 'CSTATUS', 'CSERVICE',\\\n",
    "        'CSENDERPROTOCOL', 'CSENDERENDPOINTID',\\\n",
    "        'CRECEIVERPROTOCOL', 'CRECEIVERENDPOINTID']\n"
   ]
  },
  {
   "cell_type": "code",
   "execution_count": 6,
   "metadata": {},
   "outputs": [],
   "source": [
    "def encodepfall(pfall,number):\n",
    "    print('1')\n",
    "    astype(pfall,['CSTARTTIME','CENDTIME','CSLATAT','CMESSAGETAT2','CSLADELIVERYTIME','CINBOUNDSIZE'] ,int) \n",
    "    #del(pfall['CSLABILLINGMONTH'])\n",
    "    pfall['CGLOBALMESSAGEID'] = pfall['CGLOBALMESSAGEID'].apply(hash)\n",
    "    print('1b')\n",
    "    ac = pd.unique(pfall['CGLOBALMESSAGEID'])\n",
    "    print('2')\n",
    "    tt = getCountDF(pfall,'CGLOBALMESSAGEID',ac)\n",
    "    print('3')\n",
    "    col = printtt() \n",
    "    print('4')\n",
    "    pfall = pfall.drop(col)\n",
    "    print('5')\n",
    "    astype(pfall,selected,str) \n",
    "    encoder.encode(pfall,selected)\n",
    "    \n",
    "    print('6')\n",
    "    pfall = pfall.drop_duplicates()\n",
    "    print('7')\n",
    "    pfall.to_parquet('/tmp/sla_' + number + '.parquet', engine='fastparquet', compression='GZIP')\n",
    "    return pfall"
   ]
  },
  {
   "cell_type": "markdown",
   "metadata": {},
   "source": [
    "# Main"
   ]
  },
  {
   "cell_type": "code",
   "execution_count": 7,
   "metadata": {},
   "outputs": [],
   "source": [
    "columns = ['CGLOBALMESSAGEID', 'CSTARTTIME', 'CENDTIME', 'CSTATUS', 'CSERVICE',\\\n",
    "       'CSLABILLINGMONTH', 'CSENDERPROTOCOL', 'CSENDERENDPOINTID',\\\n",
    "       'CINBOUNDSIZE', 'CRECEIVERPROTOCOL', 'CRECEIVERENDPOINTID', 'CSLATAT',\\\n",
    "       'CMESSAGETAT2', 'CSLADELIVERYTIME']\n",
    "# withot 'CSLABILLINGMONTH'\n",
    "def get_columns_2():\n",
    "    columns = ['CGLOBALMESSAGEID', 'CSTARTTIME', 'CENDTIME', 'CSTATUS', 'CSERVICE',\\\n",
    "            'CSENDERPROTOCOL', 'CSENDERENDPOINTID',\\\n",
    "           'CINBOUNDSIZE', 'CRECEIVERPROTOCOL', 'CRECEIVERENDPOINTID', 'CSLATAT',\\\n",
    "           'CMESSAGETAT2', 'CSLADELIVERYTIME']\n",
    "    return columns\n",
    "columns = get_columns_2()\n",
    "#to count messages sent\n",
    "#columns = [ 'CSTARTTIME', 'CSENDERENDPOINTID']"
   ]
  },
  {
   "cell_type": "code",
   "execution_count": 8,
   "metadata": {},
   "outputs": [],
   "source": [
    "sparkSession = dfBasics.getSparkSession()"
   ]
  },
  {
   "cell_type": "code",
   "execution_count": null,
   "metadata": {},
   "outputs": [],
   "source": [
    "#len(pfall), len(ac)\n",
    "#pfall.head()\n",
    "#pfall.dtypes\n",
    "#len(mdcountsall)"
   ]
  },
  {
   "cell_type": "code",
   "execution_count": null,
   "metadata": {},
   "outputs": [],
   "source": [
    "#pfall[pfall['CGLOBALMESSAGEID'] == mdcountsall.index.get_level_values(0)[0]]\n",
    "#pfall['CGLOBALMESSAGEID'] == -9209718302575659389"
   ]
  },
  {
   "cell_type": "code",
   "execution_count": null,
   "metadata": {},
   "outputs": [],
   "source": [
    "#len(pfall[pfall['CSLADELIVERYTIME'] == -1])\n",
    "#mdcountsall.index.get_level_values(0)[0]"
   ]
  },
  {
   "cell_type": "code",
   "execution_count": 9,
   "metadata": {},
   "outputs": [],
   "source": [
    "def printtt(pfall,tt):    \n",
    "    col = []\n",
    "    #col2 = []\n",
    "    i = 0\n",
    "    for index in tt.index.get_level_values(0):\n",
    "        tb = pfall[pfall['CGLOBALMESSAGEID'] == index]\n",
    "        findex = []\n",
    "        for bindex, brow in tb.iterrows():   \n",
    "            if pfall.loc[bindex]['CSLADELIVERYTIME'] < 0 :\n",
    "                #print (str(index) + ' ' + str(bindex))\n",
    "                #col.append(bindex)\n",
    "                findex.append(bindex)\n",
    "        if(len(findex) == 1):\n",
    "            col.append(findex[0])   \n",
    "        elif(len(findex) == 2):\n",
    "            if (pfall.iloc[findex[0]]['CENDTIME'] > pfall.iloc[findex[1]]['CENDTIME']):\n",
    "                col.append(findex[0])\n",
    "            else:\n",
    "                col.append(findex[1])\n",
    "        else:\n",
    "            if (tb.iloc[0]['CMESSAGETAT2'] > tb.iloc[1]['CMESSAGETAT2']):\n",
    "                col.append(tb.index[0])\n",
    "            else:\n",
    "                col.append(tb.index[1]) \n",
    "    return col\n",
    "\n"
   ]
  },
  {
   "cell_type": "code",
   "execution_count": null,
   "metadata": {},
   "outputs": [],
   "source": [
    "#pfall.iloc[g[1][0]]['CENDTIME'],pfall.iloc[g[1][1]]['CENDTIME']"
   ]
  },
  {
   "cell_type": "code",
   "execution_count": null,
   "metadata": {},
   "outputs": [],
   "source": [
    "#len(f), len(mdcountsall),f\n",
    "#line= '1580137124017'\n",
    "\n",
    "#from py4j.java_gateway import Py4JJavaError\n"
   ]
  },
  {
   "cell_type": "code",
   "execution_count": null,
   "metadata": {},
   "outputs": [],
   "source": [
    "# read timestamps from file\n",
    "with open(\"/tmp/slatimestamps.txt\", \"r\") as file:\n",
    "    lines = file.read().split('\\n')"
   ]
  },
  {
   "cell_type": "markdown",
   "metadata": {},
   "source": [
    "# slatimestamps"
   ]
  },
  {
   "cell_type": "code",
   "execution_count": 10,
   "metadata": {},
   "outputs": [],
   "source": [
    "filetimestamps = list(sparkSession.read.text('hdfs://172.30.17.145:8020/user/admin/slatimestamps.txt').select('value').toPandas()['value'])"
   ]
  },
  {
   "cell_type": "code",
   "execution_count": null,
   "metadata": {},
   "outputs": [],
   "source": [
    "filetimestamps[0]"
   ]
  },
  {
   "cell_type": "code",
   "execution_count": 11,
   "metadata": {},
   "outputs": [],
   "source": [
    "def getencodedpfall(line) :\n",
    "    try:\n",
    "        df = sparkSession.read.parquet('hdfs://172.30.17.145:8020/sla_sql_data/' + line +  '/*').select(columns).dropDuplicates()\n",
    "        #print('df.toPandas')\n",
    "        pfall = df.toPandas() \n",
    "        #print('1')\n",
    "        astype(pfall,['CSTARTTIME','CENDTIME','CSLATAT','CMESSAGETAT2','CSLADELIVERYTIME','CINBOUNDSIZE'] ,int) \n",
    "        #del(pfall['CSLABILLINGMONTH'])\n",
    "        pfall['CGLOBALMESSAGEID'] = pfall['CGLOBALMESSAGEID'].apply(hash)\n",
    "        #print('1b')\n",
    "        #ac = pd.unique(pfall['CGLOBALMESSAGEID'])\n",
    "        mdcountsall = pfall.groupby(['CGLOBALMESSAGEID','CSTATUS'])['CSTARTTIME'].count()\n",
    "        mdcountsall = mdcountsall[mdcountsall > 1]\n",
    "        f = printtt(pfall,mdcountsall)\n",
    "        pfall = pfall.drop(f)\n",
    "        astype(pfall,selected,str) \n",
    "        encoder.encode(pfall,selected)\n",
    "        pfall.to_parquet('/tmp/sla_' + line + '.parquet', engine='fastparquet', compression='GZIP')\n",
    "    except Exception as e:\n",
    "        print(\"does not exist:\" + line)\n"
   ]
  },
  {
   "cell_type": "code",
   "execution_count": 99,
   "metadata": {},
   "outputs": [],
   "source": [
    "line = filetimestamps[0]\n",
    "pfall = sparkSession.read.parquet('hdfs://172.30.17.145:8020/sla_sql_data/' + line +  '/*').select(columns).dropDuplicates().toPandas()\n",
    "astype(pfall,['CSTARTTIME','CENDTIME','CSLATAT','CMESSAGETAT2','CSLADELIVERYTIME','CINBOUNDSIZE'] ,int) \n",
    "pfall['CGLOBALMESSAGEID'] = pfall['CGLOBALMESSAGEID'].apply(hash)\n",
    "mdcountsall = pfall.groupby(['CGLOBALMESSAGEID','CSTATUS'])['CSTARTTIME'].count()\n",
    "mdcountsall = mdcountsall[mdcountsall > 1]\n",
    "f = printtt(pfall,mdcountsall)\n",
    "pfall = pfall.drop(f)\n",
    "astype(pfall,selected,str) \n",
    "encoder.encode(pfall,selected)"
   ]
  },
  {
   "cell_type": "code",
   "execution_count": 100,
   "metadata": {},
   "outputs": [],
   "source": [
    "# check for duplicates\n",
    "g=pfall.groupby('CGLOBALMESSAGEID')['CGLOBALMESSAGEID'].value_counts()\n",
    "_duplicates = list(g.where(g>1).dropna().index.get_level_values(0))\n",
    " \n",
    "_drop_index = []\n",
    "for id in _duplicates:\n",
    "    index = pfall[pfall['CGLOBALMESSAGEID'] == id].sort_values('CENDTIME').index\n",
    "    _drop_index.append(index[0])\n",
    "     \n",
    "# drop duplicates    \n",
    "pfall = pfall.drop(_drop_index)    "
   ]
  },
  {
   "cell_type": "code",
   "execution_count": 127,
   "metadata": {},
   "outputs": [],
   "source": [
    "#pfall.to_parquet('/tmp/sla_' + line + '.parquet', engine='fastparquet', compression='GZIP')\n",
    "pfall.to_parquet('/tmp/sla_' + line + '.parquet', engine='pyarrow', compression='GZIP')"
   ]
  },
  {
   "cell_type": "code",
   "execution_count": 128,
   "metadata": {},
   "outputs": [
    {
     "name": "stdout",
     "output_type": "stream",
     "text": [
      "total 275888\n",
      "drwxr-xr-x 66 jovyan users      4096 Mar 31 08:50 blockmgr-cbbf292a-2a1f-4307-9f5a-ba669ad6f595\n",
      "drwxr-xr-x  1 jovyan users        18 Mar 31 08:49 hsperfdata_jovyan\n",
      "drwxr-xr-x  2 root   root         18 Mar 29 10:24 hsperfdata_root\n",
      "-rw-r--r--  1 jovyan users    203408 Mar 31 08:50 liblz4-java-11720395175186768582.so\n",
      "-rw-r--r--  1 jovyan users         0 Mar 31 08:50 liblz4-java-11720395175186768582.so.lck\n",
      "drwx------  2 jovyan users         6 Mar 31 13:20 pip-ephem-wheel-cache-rm3pmrj_\n",
      "drwx------  2 jovyan users         6 Mar 31 13:20 pip-install-dcrnyug8\n",
      "drwx------  2 jovyan users         6 Mar 31 13:20 pip-req-tracker-6ffcown5\n",
      "-rw-r--r--  1 jovyan users 281976658 Mar 31 14:25 sla_1580137124017.parquet\n",
      "drwxr-xr-x  2 jovyan users     36864 Mar 29 15:45 sla.parquet\n",
      "-rwxr--r--  1 jovyan users    281680 Mar 31 08:50 snappy-1.1.8-922fdeea-d9f2-479a-826e-363bf94a577c-libsnappyjava.so\n",
      "drwxr-xr-x  2 jovyan users         6 Mar 31 08:49 spark-5403d47d-c602-47f0-95f3-f5538619f536\n",
      "drwx------  4 jovyan users       112 Mar 31 08:49 spark-f205c30c-6a0c-46ff-bf4d-e0f483a8b196\n"
     ]
    }
   ],
   "source": [
    "!ls -l /tmp"
   ]
  },
  {
   "cell_type": "code",
   "execution_count": 96,
   "metadata": {},
   "outputs": [],
   "source": [
    "#pfall.loc[_drop_index]\n",
    "#pfall = pfall.drop(pfall.index[_drop_index])\n",
    "pfall = pfall.drop(_drop_index)"
   ]
  },
  {
   "cell_type": "code",
   "execution_count": 103,
   "metadata": {},
   "outputs": [
    {
     "data": {
      "text/html": [
       "<div>\n",
       "<style scoped>\n",
       "    .dataframe tbody tr th:only-of-type {\n",
       "        vertical-align: middle;\n",
       "    }\n",
       "\n",
       "    .dataframe tbody tr th {\n",
       "        vertical-align: top;\n",
       "    }\n",
       "\n",
       "    .dataframe thead th {\n",
       "        text-align: right;\n",
       "    }\n",
       "</style>\n",
       "<table border=\"1\" class=\"dataframe\">\n",
       "  <thead>\n",
       "    <tr style=\"text-align: right;\">\n",
       "      <th></th>\n",
       "      <th>CGLOBALMESSAGEID</th>\n",
       "      <th>CSTARTTIME</th>\n",
       "      <th>CENDTIME</th>\n",
       "      <th>CSTATUS</th>\n",
       "      <th>CSERVICE</th>\n",
       "      <th>CSENDERPROTOCOL</th>\n",
       "      <th>CSENDERENDPOINTID</th>\n",
       "      <th>CINBOUNDSIZE</th>\n",
       "      <th>CRECEIVERPROTOCOL</th>\n",
       "      <th>CRECEIVERENDPOINTID</th>\n",
       "      <th>CSLATAT</th>\n",
       "      <th>CMESSAGETAT2</th>\n",
       "      <th>CSLADELIVERYTIME</th>\n",
       "    </tr>\n",
       "  </thead>\n",
       "  <tbody>\n",
       "    <tr>\n",
       "      <th>8313239</th>\n",
       "      <td>-4970793766766447330</td>\n",
       "      <td>1579932039081</td>\n",
       "      <td>1579932045247</td>\n",
       "      <td>11</td>\n",
       "      <td>5</td>\n",
       "      <td>0</td>\n",
       "      <td>2191</td>\n",
       "      <td>628</td>\n",
       "      <td>2</td>\n",
       "      <td>2257</td>\n",
       "      <td>5888</td>\n",
       "      <td>6166</td>\n",
       "      <td>1579932044969</td>\n",
       "    </tr>\n",
       "  </tbody>\n",
       "</table>\n",
       "</div>"
      ],
      "text/plain": [
       "            CGLOBALMESSAGEID     CSTARTTIME       CENDTIME  CSTATUS  CSERVICE  \\\n",
       "8313239 -4970793766766447330  1579932039081  1579932045247       11         5   \n",
       "\n",
       "         CSENDERPROTOCOL  CSENDERENDPOINTID  CINBOUNDSIZE  CRECEIVERPROTOCOL  \\\n",
       "8313239                0               2191           628                  2   \n",
       "\n",
       "         CRECEIVERENDPOINTID  CSLATAT  CMESSAGETAT2  CSLADELIVERYTIME  \n",
       "8313239                 2257     5888          6166     1579932044969  "
      ]
     },
     "execution_count": 103,
     "metadata": {},
     "output_type": "execute_result"
    }
   ],
   "source": [
    "#pfall[pfall['CGLOBALMESSAGEID'] == _duplicates[0]].sort_values('CENDTIME')\n",
    "pfall[pfall['CGLOBALMESSAGEID'] == _duplicates[8]]"
   ]
  },
  {
   "cell_type": "code",
   "execution_count": 97,
   "metadata": {},
   "outputs": [
    {
     "data": {
      "text/html": [
       "<div>\n",
       "<style scoped>\n",
       "    .dataframe tbody tr th:only-of-type {\n",
       "        vertical-align: middle;\n",
       "    }\n",
       "\n",
       "    .dataframe tbody tr th {\n",
       "        vertical-align: top;\n",
       "    }\n",
       "\n",
       "    .dataframe thead th {\n",
       "        text-align: right;\n",
       "    }\n",
       "</style>\n",
       "<table border=\"1\" class=\"dataframe\">\n",
       "  <thead>\n",
       "    <tr style=\"text-align: right;\">\n",
       "      <th></th>\n",
       "    </tr>\n",
       "  </thead>\n",
       "  <tbody>\n",
       "    <tr>\n",
       "      <th>3983845</th>\n",
       "    </tr>\n",
       "  </tbody>\n",
       "</table>\n",
       "</div>"
      ],
      "text/plain": [
       "Empty DataFrame\n",
       "Columns: []\n",
       "Index: [3983845]"
      ]
     },
     "execution_count": 97,
     "metadata": {},
     "output_type": "execute_result"
    }
   ],
   "source": [
    "def cols_having_unique(df):\n",
    "    my_cols = []\n",
    "    for col in df.columns:\n",
    "        if df[col].nunique(dropna=False) > 1:\n",
    "            my_cols.append(col)\n",
    "    return df[my_cols].copy()\n",
    "\n",
    "#pfall[pfall['CGLOBALMESSAGEID'] == _duplicates[0]].diff()\n",
    "cols_having_unique(pfall[pfall['CGLOBALMESSAGEID'] == _duplicates[1]])\n"
   ]
  },
  {
   "cell_type": "code",
   "execution_count": 52,
   "metadata": {},
   "outputs": [
    {
     "data": {
      "text/plain": [
       "True"
      ]
     },
     "execution_count": 52,
     "metadata": {},
     "output_type": "execute_result"
    }
   ],
   "source": [
    "#encoder.encode(pfall,selected)\n",
    "1580115262306 > 1580115260910\n"
   ]
  },
  {
   "cell_type": "code",
   "execution_count": null,
   "metadata": {},
   "outputs": [],
   "source": [
    "encoder.encode(pfall,[selected[0]])"
   ]
  },
  {
   "cell_type": "code",
   "execution_count": null,
   "metadata": {},
   "outputs": [],
   "source": [
    "getencodedpfall(filetimestamps[0])"
   ]
  },
  {
   "cell_type": "code",
   "execution_count": null,
   "metadata": {},
   "outputs": [],
   "source": [
    "#line = lines[0]\n",
    "#pfall = getencodedpfall(line)"
   ]
  },
  {
   "cell_type": "code",
   "execution_count": null,
   "metadata": {},
   "outputs": [],
   "source": [
    "for line in lines:\n",
    "    getencodedpfall(line)\n",
    "    "
   ]
  },
  {
   "cell_type": "code",
   "execution_count": null,
   "metadata": {},
   "outputs": [],
   "source": [
    "#df = sparkSession.read.parquet('/tmp/sla_*.parquet')\n",
    "#pfall = df.toPandas()"
   ]
  },
  {
   "cell_type": "code",
   "execution_count": null,
   "metadata": {},
   "outputs": [],
   "source": []
  }
 ],
 "metadata": {
  "celltoolbar": "Tags",
  "kernelspec": {
   "display_name": "Python 3",
   "language": "python",
   "name": "python3"
  },
  "language_info": {
   "codemirror_mode": {
    "name": "ipython",
    "version": 3
   },
   "file_extension": ".py",
   "mimetype": "text/x-python",
   "name": "python",
   "nbconvert_exporter": "python",
   "pygments_lexer": "ipython3",
   "version": "3.8.8"
  }
 },
 "nbformat": 4,
 "nbformat_minor": 4
}

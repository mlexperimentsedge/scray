{
 "cells": [
  {
   "cell_type": "code",
   "execution_count": null,
   "metadata": {},
   "outputs": [],
   "source": [
    "import numpy as np\n",
    "import pandas as pd"
   ]
  },
  {
   "cell_type": "code",
   "execution_count": 1,
   "metadata": {},
   "outputs": [],
   "source": [
    "def getMissingSchemaids(pf):\n",
    "    a = np.array([])\n",
    "    for hash in hashes:  \n",
    "        if len(pf[pf['hashvalue'] == hash]) != len(pd.unique(pf[pf['hashvalue'] == hash]['timestamp'])):\n",
    "            value = pd.unique(pf[pf['hashvalue'] == hash]['schemaid'])\n",
    "            if (value in a) == False:\n",
    "                a = np.append(a,value)\n",
    "    return a.astype(int)\n",
    "\n",
    "def usedcolumns(tb):\n",
    "    col = []\n",
    "    for column in tb.columns:\n",
    "        if tb.iloc[0][column] != None :\n",
    "            col.append(column)\n",
    "    return col\n",
    "\n",
    "def getVariableUniqueColums(dataall):\n",
    "    col = []\n",
    "    for column in dataall.columns:\n",
    "        size = len(pd.unique(dataall[column]))\n",
    "        #print(column,size)\n",
    "        if size > 1:\n",
    "            col.append(column)\n",
    "    return col\n",
    "\n",
    "def keepcolumns(tb,keep):\n",
    "    for column in tb.columns:\n",
    "        if column not in keep :\n",
    "            del(tb[column])"
   ]
  },
  {
   "cell_type": "code",
   "execution_count": null,
   "metadata": {},
   "outputs": [],
   "source": [
    "#def getInfoForIgroup(schemaid) :\n",
    "    \n",
    "def getInfoForSchema(pfall,schemaid) :\n",
    "    filteredrows = pfall[pfall['schemaid'] == schemaid]\n",
    "    return len(pd.unique(filteredrows['__name__'])), \\\n",
    "           len(pd.unique(filteredrows['hashvalue'])), \\\n",
    "           len(pd.unique(filteredrows['igroup'])), \\\n",
    "           len(pd.unique(filteredrows['inode'])), \\\n",
    "           #getEncoder('__name__').inverse_transform(pd.unique(filteredrows['__name__']))\n",
    "\n",
    "def getInfoForSchemas(pfall) :\n",
    "    for schemaid in schemas:\n",
    "        info = getInfoForSchema(pfall,schemaid)\n",
    "        if info[3] > 1:\n",
    "            print(schemaid , info)"
   ]
  }
 ],
 "metadata": {
  "kernelspec": {
   "display_name": "Python 3",
   "language": "python",
   "name": "python3"
  },
  "language_info": {
   "codemirror_mode": {
    "name": "ipython",
    "version": 3
   },
   "file_extension": ".py",
   "mimetype": "text/x-python",
   "name": "python",
   "nbconvert_exporter": "python",
   "pygments_lexer": "ipython3",
   "version": "3.7.6"
  }
 },
 "nbformat": 4,
 "nbformat_minor": 4
}

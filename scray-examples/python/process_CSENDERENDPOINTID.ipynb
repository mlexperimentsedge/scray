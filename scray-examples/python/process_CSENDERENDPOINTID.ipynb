{
 "cells": [
  {
   "cell_type": "code",
   "execution_count": 4,
   "id": "utility-accounting",
   "metadata": {},
   "outputs": [],
   "source": [
    "import dfBasics\n",
    "#import common\n",
    "#import encoder\n",
    "#import pfAdapt\n",
    "#import charts"
   ]
  },
  {
   "cell_type": "code",
   "execution_count": 5,
   "id": "charming-shipping",
   "metadata": {},
   "outputs": [],
   "source": [
    "import pandas as pd\n",
    "from pyspark.sql import functions\n",
    "from pyspark.sql.functions import when, lit, col"
   ]
  },
  {
   "cell_type": "code",
   "execution_count": 6,
   "id": "fiscal-tunnel",
   "metadata": {},
   "outputs": [],
   "source": [
    "sparkSession = dfBasics.getSparkSession()"
   ]
  },
  {
   "cell_type": "code",
   "execution_count": 9,
   "id": "weekly-kennedy",
   "metadata": {},
   "outputs": [],
   "source": [
    "for sender in range(0, 2460):\n",
    "    df = sparkSession.read.parquet('hdfs://172.30.17.145:8020/user/admin/sla/sla_*.parquet').select(['CGLOBALMESSAGEID', 'year', 'month', 'day', 'hour']).filter(col('CSENDERENDPOINTID')==sender)\n",
    "    pfall = df.toPandas()\n",
    "    pfall.to_parquet('/tmp/CSENDERENDPOINTID_' + str(sender) + '.parquet', engine='pyarrow', compression='GZIP')"
   ]
  }
 ],
 "metadata": {
  "kernelspec": {
   "display_name": "Python 3",
   "language": "python",
   "name": "python3"
  },
  "language_info": {
   "codemirror_mode": {
    "name": "ipython",
    "version": 3
   },
   "file_extension": ".py",
   "mimetype": "text/x-python",
   "name": "python",
   "nbconvert_exporter": "python",
   "pygments_lexer": "ipython3",
   "version": "3.8.8"
  }
 },
 "nbformat": 4,
 "nbformat_minor": 5
}

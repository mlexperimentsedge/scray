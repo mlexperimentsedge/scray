{
 "cells": [
  {
   "cell_type": "code",
   "execution_count": 6,
   "metadata": {},
   "outputs": [],
   "source": [
    "import actions.video_actions\n",
    "import ipywidgets as widgets\n",
    "from IPython.display import display\n",
    "from actions.video_actions import ImageWidget\n",
    "from actions.video_actions import BaseAction\n",
    "from actions.video_actions import CropAction\n",
    "from actions.video_actions import CropWidget\n",
    "from actions.video_actions import ResizeAction\n",
    "from actions.video_actions import ResizeWidget\n",
    "from actions.video_actions import LiveVideoSources\n",
    "from actions.video_actions import LiveVideoSourcesWidget\n",
    "from actions.video_actions import VideoAction"
   ]
  },
  {
   "cell_type": "code",
   "execution_count": 29,
   "metadata": {},
   "outputs": [
    {
     "data": {
      "application/vnd.jupyter.widget-view+json": {
       "model_id": "1e60f194b42241b88e450f800f33ba94",
       "version_major": 2,
       "version_minor": 0
      },
      "text/plain": [
       "Tab(children=(VBox(children=(VBox(children=(HBox(children=(Text(value='videos.json', description='filename', l…"
      ]
     },
     "metadata": {},
     "output_type": "display_data"
    },
    {
     "data": {
      "application/vnd.jupyter.widget-view+json": {
       "model_id": "587821a28def49cdbc366ce8ebc61498",
       "version_major": 2,
       "version_minor": 0
      },
      "text/plain": [
       "Image(value=b'', format='PNG')"
      ]
     },
     "metadata": {},
     "output_type": "display_data"
    }
   ],
   "source": [
    "_imageWidget = ImageWidget(display=False)\n",
    "_crop = CropWidget(vstreams=[], imageWidget=_imageWidget)\n",
    "_videoSources = LiveVideoSourcesWidget(child=_crop)\n",
    "_resize = resizeWidget = ResizeWidget(action=ResizeAction(),parent=_crop,imageWidget=_imageWidget)\n",
    "\n",
    "tab  = widgets.Tab(children = [_videoSources.vbox, _crop.vbox, _resize.vbox])\n",
    "tab.set_title(0, 'videos')\n",
    "tab.set_title(1, 'crop')\n",
    "tab.set_title(2, 'resize')\n",
    "display(tab)\n",
    "_imageWidget.display()"
   ]
  },
  {
   "cell_type": "code",
   "execution_count": 11,
   "metadata": {},
   "outputs": [
    {
     "data": {
      "text/plain": [
       "{'class': 'ResizeAction',\n",
       " 'parameters': {'size': (128, 128),\n",
       "  'use_w': False,\n",
       "  'use_h': False,\n",
       "  'algorithm': 0}}"
      ]
     },
     "execution_count": 11,
     "metadata": {},
     "output_type": "execute_result"
    }
   ],
   "source": []
  },
  {
   "cell_type": "markdown",
   "metadata": {},
   "source": [
    "# Build, execute pipeline"
   ]
  },
  {
   "cell_type": "code",
   "execution_count": 12,
   "metadata": {},
   "outputs": [],
   "source": [
    "_action_dict_list = [_crop.action.toNormalized().dict(), _resize.action.dict()]"
   ]
  },
  {
   "cell_type": "code",
   "execution_count": null,
   "metadata": {},
   "outputs": [],
   "source": []
  },
  {
   "cell_type": "code",
   "execution_count": 18,
   "metadata": {},
   "outputs": [],
   "source": [
    "def createActionOfDict(adict):\n",
    "    return eval(adict['class'])(**adict['parameters'])\n",
    "\n",
    "def evaluateActionDictList(_action_dict_list, _img):\n",
    "    for action_dict in _action_dict_list:\n",
    "        action = createActionOfDict(action_dict)\n",
    "        _img = action.evaluate(_img)['image']\n",
    "    return _img\n",
    "  \n",
    "def saveActionDictList(filename='actions.json', actions=None):\n",
    "        #print(videos)\n",
    "        with open(filename, 'w', encoding='utf-8') as f:\n",
    "            json.dump(actions, f, ensure_ascii=False, indent=4)    \n",
    "\n",
    "def loadActionDictList(filename='actions.json'):\n",
    "        with open(filename, 'r') as fp:\n",
    "            file = json.load(fp)  \n",
    "            return file            \n",
    "            \n",
    "#evaluateActionDictList(_action_dict_list,imgs[1])    \n",
    "#saveActionDictList()  \n",
    "#_action_dict_list = loadActionDictList()"
   ]
  },
  {
   "cell_type": "code",
   "execution_count": 22,
   "metadata": {},
   "outputs": [
    {
     "data": {
      "image/png": "[encoded data removed]",
      "text/plain": [
       "<PIL.Image.Image image mode=RGB size=128x128 at 0x7FE40A8FD250>"
      ]
     },
     "execution_count": 22,
     "metadata": {},
     "output_type": "execute_result"
    }
   ],
   "source": [
    "evaluateActionDictList(_action_dict_list,_crop.vstreams[0])\n",
    "#_crop.vstreams[0]"
   ]
  }
 ],
 "metadata": {
  "kernelspec": {
   "display_name": "Python 3",
   "language": "python",
   "name": "python3"
  },
  "language_info": {
   "codemirror_mode": {
    "name": "ipython",
    "version": 3
   },
   "file_extension": ".py",
   "mimetype": "text/x-python",
   "name": "python",
   "nbconvert_exporter": "python",
   "pygments_lexer": "ipython3",
   "version": "3.8.6"
  }
 },
 "nbformat": 4,
 "nbformat_minor": 4
}

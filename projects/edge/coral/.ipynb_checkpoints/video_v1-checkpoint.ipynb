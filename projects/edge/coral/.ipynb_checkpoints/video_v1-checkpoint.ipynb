{
 "cells": [
  {
   "cell_type": "code",
   "execution_count": 1,
   "metadata": {},
   "outputs": [],
   "source": [
    "import actions.video_actions\n",
    "import ipywidgets as widgets\n",
    "from IPython.display import display\n",
    "from actions.video_actions import ImageWidget\n",
    "from actions.video_actions import BaseAction\n",
    "from actions.video_actions import CropAction\n",
    "from actions.video_actions import CropWidget\n",
    "from actions.video_actions import ResizeAction\n",
    "from actions.video_actions import ResizeWidget\n",
    "from actions.video_actions import LiveVideoSources\n",
    "from actions.video_actions import LiveVideoSourcesWidget\n",
    "from actions.video_actions import VideoAction"
   ]
  },
  {
   "cell_type": "code",
   "execution_count": 2,
   "metadata": {},
   "outputs": [
    {
     "data": {
      "application/vnd.jupyter.widget-view+json": {
       "model_id": "cd21c44fcb40404cb7c391633fafa4ca",
       "version_major": 2,
       "version_minor": 0
      },
      "text/plain": [
       "Tab(children=(VBox(children=(VBox(children=(HBox(children=(Text(value='videos.json', description='filename', l…"
      ]
     },
     "metadata": {},
     "output_type": "display_data"
    },
    {
     "data": {
      "application/vnd.jupyter.widget-view+json": {
       "model_id": "0769d692b0f44911a041f9203c1eb0fa",
       "version_major": 2,
       "version_minor": 0
      },
      "text/plain": [
       "Image(value=b'', format='PNG')"
      ]
     },
     "metadata": {},
     "output_type": "display_data"
    }
   ],
   "source": [
    "_imageWidget = ImageWidget(display=False)\n",
    "_crop = CropWidget(vstreams=[], imageWidget=_imageWidget)\n",
    "_videoSources = LiveVideoSourcesWidget(child=_crop)\n",
    "_resize = resizeWidget = ResizeWidget(action=ResizeAction(),parent=_crop,imageWidget=_imageWidget)\n",
    "\n",
    "tab  = widgets.Tab(children = [_videoSources.vbox, _crop.vbox, _resize.vbox])\n",
    "tab.set_title(0, 'videos')\n",
    "tab.set_title(1, 'crop')\n",
    "tab.set_title(2, 'resize')\n",
    "display(tab)\n",
    "_imageWidget.display()"
   ]
  },
  {
   "cell_type": "code",
   "execution_count": null,
   "metadata": {},
   "outputs": [],
   "source": []
  },
  {
   "cell_type": "markdown",
   "metadata": {},
   "source": [
    "# Build, execute pipeline"
   ]
  },
  {
   "cell_type": "code",
   "execution_count": 4,
   "metadata": {},
   "outputs": [],
   "source": [
    "#_action_dict_list = [_crop.action.toNormalized().dict(), _resize.action.dict()]\n",
    "_action_dict_list = [_crop.action.toNormalized().dict()]"
   ]
  },
  {
   "cell_type": "code",
   "execution_count": null,
   "metadata": {},
   "outputs": [],
   "source": [
    "_action_dict_list"
   ]
  },
  {
   "cell_type": "code",
   "execution_count": 3,
   "metadata": {},
   "outputs": [],
   "source": [
    "def createActionOfDict(adict):\n",
    "    return eval(adict['class'])(**adict['parameters'])\n",
    "\n",
    "def evaluateActionDictList(_action_dict_list, _img):\n",
    "    for action_dict in _action_dict_list:\n",
    "        action = createActionOfDict(action_dict)\n",
    "        _img = action.evaluate(_img)['image']\n",
    "    return _img\n",
    "  \n",
    "def saveActionDictList(filename='actions.json', actions=None):\n",
    "        #print(videos)\n",
    "        with open(filename, 'w', encoding='utf-8') as f:\n",
    "            json.dump(actions, f, ensure_ascii=False, indent=4)    \n",
    "\n",
    "def loadActionDictList(filename='actions.json'):\n",
    "        with open(filename, 'r') as fp:\n",
    "            file = json.load(fp)  \n",
    "            return file            \n",
    "            \n",
    "#evaluateActionDictList(_action_dict_list,imgs[1])    \n",
    "#saveActionDictList()  \n",
    "#_action_dict_list = loadActionDictList()"
   ]
  },
  {
   "cell_type": "code",
   "execution_count": null,
   "metadata": {},
   "outputs": [],
   "source": [
    "evaluateActionDictList(_action_dict_list,_crop.vstreams[0])"
   ]
  },
  {
   "cell_type": "code",
   "execution_count": 5,
   "metadata": {},
   "outputs": [
    {
     "name": "stdout",
     "output_type": "stream",
     "text": [
      "fromNormalized (256, 144)\n"
     ]
    },
    {
     "data": {
      "text/plain": [
       "([0, 0, 511, 287],\n",
       " (256, 144),\n",
       " {'min': [0.0, 0.0],\n",
       "  'max': [0.99609375, 0.9930555555555556],\n",
       "  'size': None,\n",
       "  'mode': 1},\n",
       " (0.0, 0.0, 0.99609375, 0.9930555555555556))"
      ]
     },
     "execution_count": 5,
     "metadata": {},
     "output_type": "execute_result"
    }
   ],
   "source": [
    "#evaluateActionDictList(_action_dict_list,_crop.vstreams[0])\n",
    "#_crop.vstreams[0]\n",
    "_action = createActionOfDict(_action_dict_list[0])\n",
    "_img = _crop.vstreams[0]\n",
    "_action.fromNormalized(_action.flat(), size=_img.size), _img.size, _action.__dict__, _action.flat()"
   ]
  },
  {
   "cell_type": "code",
   "execution_count": 9,
   "metadata": {},
   "outputs": [
    {
     "data": {
      "text/plain": [
       "255"
      ]
     },
     "execution_count": 9,
     "metadata": {},
     "output_type": "execute_result"
    }
   ],
   "source": [
    "_action.fromNormalizedValue(_action.flat()[2],_img.size[0])"
   ]
  }
 ],
 "metadata": {
  "kernelspec": {
   "display_name": "Python 3",
   "language": "python",
   "name": "python3"
  },
  "language_info": {
   "codemirror_mode": {
    "name": "ipython",
    "version": 3
   },
   "file_extension": ".py",
   "mimetype": "text/x-python",
   "name": "python",
   "nbconvert_exporter": "python",
   "pygments_lexer": "ipython3",
   "version": "3.8.6"
  }
 },
 "nbformat": 4,
 "nbformat_minor": 4
}

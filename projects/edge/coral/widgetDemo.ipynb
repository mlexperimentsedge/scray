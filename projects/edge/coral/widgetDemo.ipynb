{
 "cells": [
  {
   "cell_type": "code",
   "execution_count": 1,
   "metadata": {},
   "outputs": [
    {
     "data": {
      "application/vnd.jupyter.widget-view+json": {
       "model_id": "11a90b705952471a90507db11a8ce80c",
       "version_major": 2,
       "version_minor": 0
      },
      "text/plain": [
       "HBox(children=(FloatSlider(value=1.0, description='p', max=2.0, step=0.01), FloatSlider(value=0.481343, descri…"
      ]
     },
     "metadata": {},
     "output_type": "display_data"
    },
    {
     "data": {
      "application/vnd.jupyter.widget-view+json": {
       "model_id": "453012a1c96045c98a31e2dc2cdd54c0",
       "version_major": 2,
       "version_minor": 0
      },
      "text/plain": [
       "Output()"
      ]
     },
     "metadata": {},
     "output_type": "display_data"
    }
   ],
   "source": [
    "from IPython.display import display\n",
    "import matplotlib.pylab as plt\n",
    "import numpy as np\n",
    "from ipywidgets import interact,FloatSlider,IntSlider,interactive,HBox\n",
    "%matplotlib inline\n",
    "def plotPP(p,p_LP,Tperiods):\n",
    "    t=np.linspace(0,Tperiods*(np.pi*2),1000)\n",
    "    f = plt.figure(figsize=(1.618*6,6))\n",
    "    p_t = p*(1.0+np.cos(t))\n",
    "    plt.plot(t,p_t,'b',lw=2.0)\n",
    "    plt.axhline(p_LP,color='r',lw=2.0)\n",
    "    plt.xlim([t[0],t[-1]])\n",
    "    plt.ylim([min(p_LP,np.amin(p_t))-0.1,np.amax(p_t)+0.1])\n",
    "    plt.ylabel(r'$p$')\n",
    "    plt.xlabel(r'$t$')\n",
    "\n",
    "p_s       = FloatSlider(min=0, max=2, step=0.01, value=1.0)\n",
    "p_LP_s    = FloatSlider(min=0, max=2., step=0.01, value=0.481343)\n",
    "Tperiods_s= IntSlider(min=1,max=10,value=1)\n",
    "\n",
    "ip = interactive(plotPP,p=p_s,p_LP=p_LP_s,Tperiods=Tperiods_s)\n",
    "display(HBox(ip.children[:-1]))#Show all controls\n",
    "display(ip.children[-1])#Show the output"
   ]
  }
 ],
 "metadata": {
  "kernelspec": {
   "display_name": "Python 3",
   "language": "python",
   "name": "python3"
  },
  "language_info": {
   "codemirror_mode": {
    "name": "ipython",
    "version": 3
   },
   "file_extension": ".py",
   "mimetype": "text/x-python",
   "name": "python",
   "nbconvert_exporter": "python",
   "pygments_lexer": "ipython3",
   "version": "3.7.3"
  }
 },
 "nbformat": 4,
 "nbformat_minor": 4
}

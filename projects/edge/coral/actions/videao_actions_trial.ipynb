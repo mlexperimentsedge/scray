{
 "cells": [
  {
   "cell_type": "code",
   "execution_count": 1,
   "id": "2be57082-46df-43a8-908a-f9fb636ad73e",
   "metadata": {},
   "outputs": [],
   "source": [
    "#!pip install pandas\n",
    "#!pip3 install opencv-python\n",
    "#!pip install youtube_dl\n",
    "#!pip install git+https://github.com/Cupcakus/pafy\n",
    "#!pip install ipynb\n",
    "from ipynb.fs.full.video_actions_v2 import *\n",
    "from ipynb.fs.full.interact_with_app import *"
   ]
  },
  {
   "cell_type": "markdown",
   "id": "63f8c1ba-5794-4f16-a50f-5e915e302bcd",
   "metadata": {},
   "source": [
    "# Applications"
   ]
  },
  {
   "cell_type": "code",
   "execution_count": 4,
   "id": "c419eadd-7977-4780-8d1f-667327d5673b",
   "metadata": {},
   "outputs": [
    {
     "data": {
      "application/vnd.jupyter.widget-view+json": {
       "model_id": "de81ecd8fab145b4ad570b8f2151a93c",
       "version_major": 2,
       "version_minor": 0
      },
      "text/plain": [
       "HBox(children=(Text(value='_EasyVideoPipeLine_641_481.json', description='pipeline', layout=Layout(width='500p…"
      ]
     },
     "metadata": {},
     "output_type": "display_data"
    },
    {
     "data": {
      "application/vnd.jupyter.widget-view+json": {
       "model_id": "3571ddac07e440e7b407a1cc77e7468f",
       "version_major": 2,
       "version_minor": 0
      },
      "text/plain": [
       "Output()"
      ]
     },
     "metadata": {},
     "output_type": "display_data"
    },
    {
     "name": "stdout",
     "output_type": "stream",
     "text": [
      "<Task pending name='test' coro=<HaltableActionExecutor.my_code() running at /home/jovyan/work/data3/scray/projects/edge/coral/actions/video_actions_v2.ipynb:1362>>\n"
     ]
    }
   ],
   "source": [
    "_app_test = SimpleApplicationWidget(filename = '_EasyVideoPipeLine_641_481.json')"
   ]
  },
  {
   "cell_type": "code",
   "execution_count": null,
   "id": "f60bb9e2-3e3b-48c7-971c-53c889a9ed28",
   "metadata": {},
   "outputs": [],
   "source": [
    "app=_app_test\n",
    "#display(app._tab.displayWidget.action.image['image']) \n",
    "_image=app._tab.displayWidget.image\n",
    "app._tab.evaluateWidgetActionList(image=_image)['image']"
   ]
  },
  {
   "cell_type": "code",
   "execution_count": null,
   "id": "9a415b9e-dc98-441b-a3f9-31d97da51c15",
   "metadata": {},
   "outputs": [],
   "source": [
    "_action=app._tab.displayWidget.action\n",
    "_files= sorted(listdir(_action.directory))\n",
    "_files"
   ]
  },
  {
   "cell_type": "code",
   "execution_count": null,
   "id": "e00e6fc3-3edd-4461-9c97-24cbd7c2a395",
   "metadata": {},
   "outputs": [],
   "source": [
    "app._tab.displayWidget.action.__dict__"
   ]
  },
  {
   "cell_type": "code",
   "execution_count": null,
   "id": "00d89fce-9cd6-4949-af61-ebb81ac817a0",
   "metadata": {},
   "outputs": [],
   "source": [
    "app= _app_test\n",
    "_video = app._tab._widgets[0]\n",
    "_video.on_video_new_button_clicked('')  \n",
    "#_file=_files[6]\n",
    "_file='6We73xIdHy0'\n",
    "_path=_directory + '/' + _file\n",
    "_video.video_directory.value=_path\n",
    "_video.add_new_directory(_path)\n",
    "_video.video_filename.value='../data/images/single/images_'+_file+'.json'\n",
    "_video.on_video_save_button_clicked('')   \n",
    "#_video.on_value_submit_video_directory('',_video.video_directory)"
   ]
  },
  {
   "cell_type": "markdown",
   "id": "d5fd1292-f08e-41d2-a99f-1562fc9f0b58",
   "metadata": {},
   "source": [
    "# Create image files"
   ]
  },
  {
   "cell_type": "code",
   "execution_count": null,
   "id": "8229a474-d471-48bd-8f17-bab369c22099",
   "metadata": {},
   "outputs": [],
   "source": [
    "\n",
    "\n",
    "def add_single_image_directory(app=None,directory=None,file=None):\n",
    "    _video = app._tab._widgets[0]\n",
    "    _video.on_video_new_button_clicked('')  \n",
    "    _path=directory + '/' + file\n",
    "    _video.video_directory.value=_path\n",
    "    _video.add_new_directory(_path)\n",
    "    _video.video_filename.value='../data/images/single/images_' + file +'.json'\n",
    "    _video.on_video_save_button_clicked('')   \n",
    "    \n",
    "app= _app_test    \n",
    "directory='/home/jovyan/test'\n",
    "add_single_image_directory(app=app,directory=directory,file='ns8y0SVcJGA')\n",
    "add_single_image_directory(app=app,directory=directory,file='6We73xIdHy0')\n",
    "add_single_image_directory(app=app,directory=directory,file='-Dla8twqg')\n",
    "add_single_image_directory(app=app,directory=directory,file='-rjDeUjXlEs')"
   ]
  },
  {
   "cell_type": "code",
   "execution_count": null,
   "id": "84a12af0-c906-4764-9c28-180e7186d43a",
   "metadata": {},
   "outputs": [],
   "source": [
    "def load(filename=None):\n",
    "        with open(filename, 'r') as fp:\n",
    "            file = json.load(fp)  \n",
    "            return file   \n",
    "\n",
    "_file = load('../data/images/single/images_-rjDeUjXlEs.json')\n",
    "_file['/home/jovyan/test/-rjDeUjXlEs']['bookmarks']"
   ]
  },
  {
   "cell_type": "code",
   "execution_count": 16,
   "id": "2b0d0b6e-38ee-4367-ad3f-9b4a112ea1e7",
   "metadata": {},
   "outputs": [
    {
     "name": "stdout",
     "output_type": "stream",
     "text": [
      "on_video_load_button_clicked:../data/images/single/images_-Dla8twqg.json\n"
     ]
    }
   ],
   "source": [
    "import ipywidgets as widgets\n",
    "\n",
    "def generate_box_bookmarks(step_y=180, step_x=160, size=None,crop=None):\n",
    "    _out=widgets.Output()\n",
    "    with _out:\n",
    "        for y in range(0,6):\n",
    "            for x in range(0,12):\n",
    "                crop.cropx0.value = x*step_x\n",
    "                crop.cropx1.value = (x+1)*step_x-1\n",
    "                crop.cropy0.value = y*step_y\n",
    "                crop.cropy1.value = (y+1)*step_y-1\n",
    "                crop.add_bookmark('Box_'+str(y)+'_'+str(x))\n",
    "\n",
    "def create_box_bookmark_file(app=None, filename=None, single_directory='../data/videos/single',result_directory='../data/videos/box_bookmarks_6_12',\n",
    "    new=True):\n",
    "\n",
    "        try:\n",
    "            _video  = app._tab._widgets[0]\n",
    "            if new == True:\n",
    "                if filename in listdir(result_directory):\n",
    "                    return True, ''\n",
    "            _video.video_filename.value= single_directory + '/' + filename\n",
    "            _video.on_video_load_button_clicked('')  \n",
    "            set_image_quality(app)\n",
    "            _crop   = app._tab._widgets[1] \n",
    "            generate_box_bookmarks(size=app._imageWidget2.getImage().size, crop=_crop) \n",
    "            _video.video_filename.value= result_directory + '/' + filename\n",
    "            _video.on_video_save_button_clicked('') \n",
    "            return True, ''\n",
    "        except Exception as e:\n",
    "            return False, 'error:' + filename + ':' + str(e)\n",
    "        \n",
    "\n",
    "def create_all_box_bookmark_files(app=None, single_directory='../data/images/single',result_directory='../data/images/box_bookmarks_6_12', new=True):\n",
    "    for filename in listdir(single_directory):\n",
    "        if filename.startswith('images'):\n",
    "            create_box_bookmark_file(app=app, filename=filename, single_directory=single_directory,result_directory=result_directory,new=new)        \n",
    "        \n",
    "#create_all_box_bookmark_files(app=_app_test)     \n",
    "\n",
    "\n",
    "#create_box_bookmark_file(app=_app_test, filename='images_-Dla8twqg.json', single_directory='../data/images/single',result_directory='../data/images/box_bookmarks_6_12',new=True)\n",
    "\n",
    "app = _app_test\n",
    "single_directory='../data/images/single'\n",
    "result_directory='../data/images/box_bookmarks_6_12'\n",
    "filename='images_-Dla8twqg.json'\n",
    "_video  = _app_test._tab._widgets[0]\n",
    "_video.video_filename.value= single_directory + '/' + filename\n",
    "_video.on_video_load_button_clicked('')  \n",
    "set_image_quality(app)\n",
    "_crop   = app._tab._widgets[1]\n",
    "generate_box_bookmarks(size=app._imageWidget2.getImage().size, crop=_crop)\n",
    "_video.video_filename.value= result_directory + '/' + filename\n",
    "_video.on_video_save_button_clicked('') "
   ]
  },
  {
   "cell_type": "code",
   "execution_count": 17,
   "id": "cff25668-a0a6-4fdd-9ee0-e6e7b4b0cb47",
   "metadata": {},
   "outputs": [
    {
     "name": "stdout",
     "output_type": "stream",
     "text": [
      "\n",
      "<class 'ipynb.fs.full.video_actions_v2.ImageAction'> action\n",
      "on_video_load_button_clicked:../data/images/single/images_ns8y0SVcJGA.json\n",
      "\n",
      "<class 'ipynb.fs.full.video_actions_v2.ImageAction'> action\n",
      "on_video_load_button_clicked:../data/images/single/images_6We73xIdHy0.json\n",
      "\n",
      "<class 'ipynb.fs.full.video_actions_v2.ImageAction'> action\n",
      "on_video_load_button_clicked:../data/images/single/images_-rjDeUjXlEs.json\n"
     ]
    }
   ],
   "source": [
    "create_all_box_bookmark_files(app=_app_test) "
   ]
  },
  {
   "cell_type": "code",
   "execution_count": null,
   "id": "866b5488-db95-4a75-a1ed-c378eeed2215",
   "metadata": {},
   "outputs": [],
   "source": [
    "_directory='../../../../../Dec-18'\n",
    "listdir(_directory)[0]\n",
    "_path=_directory + '/' + _file"
   ]
  },
  {
   "cell_type": "code",
   "execution_count": null,
   "id": "f05278bb-1897-4ad9-9256-4f33b191622f",
   "metadata": {},
   "outputs": [],
   "source": [
    "# remove checkpoint files and directories starting with a '.'\n",
    "import os\n",
    "import shutil\n",
    "app= _app_test\n",
    "_video = app._tab._widgets[0]\n",
    "_directory='../../../../../Dec-18'\n",
    "#_file=listdir(_directory)[0]\n",
    "for _dir in listdir(_directory):\n",
    "    _path=_directory + '/' + _dir\n",
    "    _files= sorted(listdir(_path))\n",
    "    for _file in _files:\n",
    "        if 'checkpoint' in _file and _file[0]!='.':\n",
    "            print(_path + '/' + _file)\n",
    "            os.remove(_path + '/' + _file)\n",
    "        #if 'checkpoint' in _file and _file[0]=='.':  \n",
    "        if _file[0]=='.':      \n",
    "            print(_path + '/' + _file)\n",
    "            shutil.rmtree(_path + '/' + _file)"
   ]
  },
  {
   "cell_type": "code",
   "execution_count": null,
   "id": "09f704bf-d6e0-4520-9133-05a6352bfbe8",
   "metadata": {},
   "outputs": [],
   "source": [
    "def display_image(_path2,dir , time):\n",
    "    _image= {'image':Image.open(_path2)}\n",
    "    display(dir , time)\n",
    "    display(app._tab.evaluateWidgetActionList(image=_image)['image'])\n",
    "\n",
    "def display_dir_images_hour(_path):\n",
    "    _files= sorted(listdir(_path))\n",
    "    _current = -1\n",
    "    for _file in _files:\n",
    "        _path2 = _path + '/' + _file\n",
    "        #print(_path2)    \n",
    "        try:\n",
    "            #print(_path2.split('_')[3].split('-')[2].split(':'))\n",
    "            time = _path2.split('_')[3].split('-')[2].split(':')\n",
    "            hour = time[0]\n",
    "            if _current != hour:\n",
    "                #print(_path2,hour,_current)\n",
    "                _current = hour\n",
    "                _image= {'image':Image.open(_path2)}\n",
    "                display(_dir , time)\n",
    "                display(app._tab.evaluateWidgetActionList(image=_image)['image'])\n",
    "        except Exception as e: \n",
    "            #print(_path2)\n",
    "            pass    \n",
    "\n",
    "def display_dir_images_minute(_path,hour):\n",
    "    _files= sorted(listdir(_path))\n",
    "    _current = -1\n",
    "    for _file in _files:\n",
    "        _path2 = _path + '/' + _file\n",
    "        #print(_path2)    \n",
    "        try:\n",
    "            #print(_path2.split('_')[3].split('-')[2].split(':'))\n",
    "            time = _path2.split('_')[3].split('-')[2].split(':')\n",
    "            _hour     = time[0]\n",
    "            _minutes  = time[1]\n",
    "            \n",
    "            if _current != _minutes and _hour == hour:\n",
    "                #print(_path2,hour,_current)\n",
    "                _current = _minutes\n",
    "                _image= {'image':Image.open(_path2)}\n",
    "                display(_dir , time)\n",
    "                display(app._tab.evaluateWidgetActionList(image=_image)['image'])\n",
    "        except Exception as e: \n",
    "            #print(_path2)\n",
    "            pass    \n",
    "        \n",
    "        \n",
    "def display_dir_images(_path):\n",
    "    _files= sorted(listdir(_path))\n",
    "    _current = -1\n",
    "    _file =_files[0]\n",
    "    _path2 = _path + '/' + _file\n",
    "    #print(_path2)    \n",
    "    try:\n",
    "        #print(_path2.split('_')[3].split('-')[2].split(':'))\n",
    "        time = _path2.split('_')[3].split('-')[2].split(':')\n",
    "        hour = time[0]\n",
    "        minutes = time[1]\n",
    "        if _current != hour:\n",
    "            #print(_path2,hour,_current)\n",
    "            _current = hour\n",
    "            _image= {'image':Image.open(_path2)}\n",
    "            display(_dir , time)\n",
    "            display(app._tab.evaluateWidgetActionList(image=_image)['image'])\n",
    "    except Exception as e: \n",
    "        #print(_path2)\n",
    "        pass    \n",
    "    \n",
    "    \n",
    "def display_dir_images_directories(_directory):   \n",
    "    for _dir in listdir(_directory):\n",
    "        _path=_directory + '/' + _dir\n",
    "        _files= sorted(listdir(_path))\n",
    "\n",
    "        try:\n",
    "            _file =_files[0]\n",
    "            _path2 = _path + '/' + _file\n",
    "            display_image(_path2,_dir , '')\n",
    "        except Exception as e: \n",
    "            #print(_path2)\n",
    "            pass            "
   ]
  },
  {
   "cell_type": "code",
   "execution_count": null,
   "id": "354665ab-3d0b-400d-a953-27bfccd6922f",
   "metadata": {},
   "outputs": [],
   "source": []
  },
  {
   "cell_type": "code",
   "execution_count": null,
   "id": "89bcf234-a74b-4a89-9296-bf2a14d2e909",
   "metadata": {},
   "outputs": [],
   "source": [
    "import pathlib\n",
    "import os\n",
    "import shutil\n",
    "\n",
    "\n",
    "def move_files_hour(_path, destination,hour):\n",
    "    _files= sorted(listdir(_path))\n",
    "    _current = -1\n",
    "    pathlib.Path(destination).mkdir(parents=True, exist_ok=True)\n",
    "    for _file in _files:\n",
    "        _path2 = _path + '/' + _file\n",
    "        #print(_path2)    \n",
    "        try:\n",
    "            #print(_path2.split('_')[3].split('-')[2].split(':'))\n",
    "            time = _path2.split('_')[3].split('-')[2].split(':')\n",
    "            _hour = time[0]\n",
    "            if hour == _hour:\n",
    "                #print(_path2)\n",
    "                shutil.move(_path2, destination)\n",
    "                #display_image(_path2,'' , time)\n",
    "        except Exception as e: \n",
    "            #print(_path2)\n",
    "            pass    \n",
    "        \n",
    "#move_files_hour(_path, '/home/jovyan/work/data2/skip/9USNTc7Gr4c/', '11')          \n",
    "\n",
    "\n",
    "move_files_hour(_path, '/home/jovyan/work/data2/skip/BJtkzEa6Tbg/', '17')  "
   ]
  },
  {
   "cell_type": "code",
   "execution_count": null,
   "id": "921cf30c-bb6a-477e-a0b7-e34dabd13cfd",
   "metadata": {},
   "outputs": [],
   "source": []
  },
  {
   "cell_type": "code",
   "execution_count": null,
   "id": "e5953372-4a12-44ac-abb2-d47cc6ce24ad",
   "metadata": {},
   "outputs": [],
   "source": [
    "#_dir='9USNTc7Gr4c'\n",
    "#_directory='/home/jovyan/work/data2/images'\n",
    "_directory='/home/jovyan/work/data/single3'\n",
    "\n",
    "#_dir='BJtkzEa6Tbg'\n",
    "_path=_directory + '/' + _dir\n",
    "#display_dir_images_hour(_path)\n",
    "#display_dir_images_minute(_path,'18')\n",
    "#display_dir_images0('/home/jovyan/work/data2/skip/9USNTc7Gr4c')\n",
    "display_dir_images_directories(_directory)"
   ]
  },
  {
   "cell_type": "code",
   "execution_count": null,
   "id": "16233aaf-2f39-4486-a0dc-d8c0ca541c14",
   "metadata": {},
   "outputs": [],
   "source": [
    "_directory='/home/jovyan/work/data2/images'\n",
    "listdir(_directory)"
   ]
  },
  {
   "cell_type": "code",
   "execution_count": null,
   "id": "0a2931ef-f91b-44bf-8a4a-793a29e771cd",
   "metadata": {},
   "outputs": [],
   "source": [
    "listdir('../../../../../Dec-18/AdUw5RdyZxI/.ipynb_checkpoints')"
   ]
  },
  {
   "cell_type": "code",
   "execution_count": null,
   "id": "80117c65-ac03-495b-9795-17d514d12ef0",
   "metadata": {},
   "outputs": [],
   "source": [
    "# add directory to current list\n",
    "app= _app_test\n",
    "_video = app._tab._widgets[0]\n",
    "_directory='../../../../../Dec-18'\n",
    "_file=listdir(_directory)[0]\n",
    "_path=_directory + '/' + _file\n",
    "_video.video_directory.value=_path\n",
    "_video.add_new_directory(_path)\n",
    "_video.video_filename.value='test1.json'\n",
    "_video.on_video_save_button_clicked('')   "
   ]
  },
  {
   "cell_type": "code",
   "execution_count": null,
   "id": "4d01ccdf-6d33-4209-ba65-ae810c52b6f5",
   "metadata": {},
   "outputs": [],
   "source": [
    "_directory = app._displayWidget.action.directory\n",
    "_files= sorted(listdir(_directory))"
   ]
  },
  {
   "cell_type": "code",
   "execution_count": null,
   "id": "a9b43114-5598-4daf-b3a1-5a9ed27d2630",
   "metadata": {},
   "outputs": [],
   "source": [
    "_files[0].split('_')[3].split('-')"
   ]
  },
  {
   "cell_type": "code",
   "execution_count": null,
   "id": "a43e99cb-9d11-49f8-9397-0a3fad98f9fc",
   "metadata": {},
   "outputs": [],
   "source": [
    "_directory='/home/jovyan/work/data2/images'\n",
    "_sub_directory=listdir(_directory)[6]\n",
    "\n",
    "_path = _directory + '/' + _sub_directory\n",
    "_sub_files=sorted(listdir(_path))\n",
    "_app_test._tab.displayWidget.image=Image.open(_path + '/' + _sub_files[10])\n",
    "\n",
    "_img1 = _app_test._tab.evaluateWidgetActionList({'image':_app_test._tab.displayWidget.image})['image']\n",
    "\n",
    "\n",
    "\n",
    "#"
   ]
  },
  {
   "cell_type": "code",
   "execution_count": null,
   "id": "87827ead-083a-4656-96c5-36377a4b9e4b",
   "metadata": {},
   "outputs": [],
   "source": [
    "#cv2.subtract(_img1,_img2)\n",
    "\n",
    "buffer1    = np.asarray(_img1)\n",
    "buffer2    = np.asarray(_img2)\n",
    "buffer3    = buffer1 - buffer2\n",
    "display(Image.fromarray(buffer1))\n",
    "display(Image.fromarray(buffer2))\n",
    "#buffer1"
   ]
  },
  {
   "cell_type": "code",
   "execution_count": null,
   "id": "9981ac7e-a1c1-442c-b04a-190cc178cfc6",
   "metadata": {},
   "outputs": [],
   "source": [
    "#https://www.py4u.net/discuss/14401\n",
    "\n",
    "image1 = cv2.imread(_path + '/' + _sub_files[10])\n",
    "image2 = cv2.imread(_path + '/' + _sub_files[110])\n",
    "difference = cv2.subtract(image1, image2)\n",
    "\n",
    "# color the mask red\n",
    "Conv_hsv_Gray = cv2.cvtColor(difference, cv2.COLOR_BGR2GRAY)\n",
    "ret, mask = cv2.threshold(Conv_hsv_Gray, 0, 255,cv2.THRESH_BINARY_INV |cv2.THRESH_OTSU)\n",
    "difference[mask != 255] = [0, 0, 255]\n",
    "\n",
    "# add the red mask to the images to make the differences obvious\n",
    "image1[mask != 255] = [0, 0, 255]\n",
    "image2[mask != 255] = [0, 0, 255]\n",
    "\n",
    "# store images\n",
    "cv2.imwrite('diffOverImage1.png', image1)\n",
    "cv2.imwrite('diffOverImage2.png', image1)\n",
    "cv2.imwrite('diff.png', difference)"
   ]
  },
  {
   "cell_type": "code",
   "execution_count": null,
   "id": "dcd4ac15-1cb4-428e-a6bc-db1438f470fd",
   "metadata": {},
   "outputs": [],
   "source": [
    "from skimage.metrics import structural_similarity\n",
    "import cv2\n",
    "import numpy as np\n",
    "\n",
    "before = image1\n",
    "after = image2\n",
    "\n",
    "# Convert images to grayscale\n",
    "before_gray = cv2.cvtColor(before, cv2.COLOR_BGR2GRAY)\n",
    "after_gray = cv2.cvtColor(after, cv2.COLOR_BGR2GRAY)\n",
    "\n",
    "# Compute SSIM between two images\n",
    "(score, diff) = structural_similarity(before_gray, after_gray, full=True)\n",
    "print(\"Image similarity\", score)\n",
    "\n",
    "# The diff image contains the actual image differences between the two images\n",
    "# and is represented as a floating point data type in the range [0,1] \n",
    "# so we must convert the array to 8-bit unsigned integers in the range\n",
    "# [0,255] before we can use it with OpenCV\n",
    "diff = (diff * 255).astype(\"uint8\")\n",
    "\n",
    "# Threshold the difference image, followed by finding contours to\n",
    "# obtain the regions of the two input images that differ\n",
    "thresh = cv2.threshold(diff, 0, 255, cv2.THRESH_BINARY_INV | cv2.THRESH_OTSU)[1]\n",
    "contours = cv2.findContours(thresh.copy(), cv2.RETR_EXTERNAL, cv2.CHAIN_APPROX_SIMPLE)\n",
    "contours = contours[0] if len(contours) == 2 else contours[1]\n",
    "\n",
    "mask = np.zeros(before.shape, dtype='uint8')\n",
    "filled_after = after.copy()\n",
    "\n",
    "for c in contours:\n",
    "    area = cv2.contourArea(c)\n",
    "    if area > 40:\n",
    "        x,y,w,h = cv2.boundingRect(c)\n",
    "        cv2.rectangle(before, (x, y), (x + w, y + h), (36,255,12), 2)\n",
    "        cv2.rectangle(after, (x, y), (x + w, y + h), (36,255,12), 2)\n",
    "        cv2.drawContours(mask, [c], 0, (0,255,0), -1)\n",
    "        cv2.drawContours(filled_after, [c], 0, (0,255,0), -1)\n",
    "\n",
    "#cv2.imshow('before', before)\n",
    "#cv2.imshow('after', after)\n",
    "#cv2.imshow('diff',diff)\n",
    "#cv2.imshow('mask',mask)\n",
    "#cv2.imshow('filled after',filled_after)\n",
    "#cv2.waitKey(0)\n",
    "cv2.imwrite('filled_after.png', filled_after)\n",
    "cv2.imwrite('mask.png', mask)"
   ]
  },
  {
   "cell_type": "code",
   "execution_count": null,
   "id": "f1569f01-e3c3-4f51-83ac-61240d2782db",
   "metadata": {},
   "outputs": [],
   "source": [
    "filled after"
   ]
  },
  {
   "cell_type": "code",
   "execution_count": null,
   "id": "f6f6fa87-1eda-44fa-9153-3db05fbe1819",
   "metadata": {},
   "outputs": [],
   "source": [
    "#app= _app_test\n",
    "#app._displayWidget.action.getPath()"
   ]
  },
  {
   "cell_type": "code",
   "execution_count": null,
   "id": "d83d4c50-c4f1-44bd-b86c-792c205d5f5f",
   "metadata": {},
   "outputs": [],
   "source": [
    "#!mkdir -p ../../../../../test/6We73xIdHy0/\n",
    "#!cp ../../../../../Dec-18/6We73xIdHy0/6We73xIdHy0_5_1639843996.9576826_Dec-18-16:13:16-2021_.png ../../../../../test/6We73xIdHy0/"
   ]
  },
  {
   "cell_type": "code",
   "execution_count": null,
   "id": "9ea5e4a6-bbf1-47da-a636-c67721d116da",
   "metadata": {},
   "outputs": [],
   "source": [
    "#!ls ../data/images/single"
   ]
  },
  {
   "cell_type": "code",
   "execution_count": null,
   "id": "391706c3-11f4-4339-87da-7a774c2e5aed",
   "metadata": {},
   "outputs": [],
   "source": [
    "def create_single_video_files(app,video_url_id_list=None):\n",
    "    _video = app._tab._widgets[0]   \n",
    "    for result in video_url_id_list:\n",
    "        _video.on_video_new_button_clicked('')  \n",
    "        _video.video_url.value=result[1]\n",
    "        _video.add_new_video(result[1])\n",
    "        _video.video_filename.value='../data/videos/single/images_'+result[0]+'.json'\n",
    "        _video.on_video_save_button_clicked('')    "
   ]
  },
  {
   "cell_type": "code",
   "execution_count": null,
   "id": "58de853c-06d1-4415-811f-4db6c807bb8d",
   "metadata": {},
   "outputs": [],
   "source": [
    "#_action = ImageAction()\n",
    "#_action.evaluate()"
   ]
  },
  {
   "cell_type": "code",
   "execution_count": null,
   "id": "7ea0f98d-fdc9-479f-8bcc-54e672b2ffd7",
   "metadata": {},
   "outputs": [],
   "source": [
    "\"\"\"\n",
    "from os import listdir\n",
    "app=_app_test\n",
    "directory = app._tab._widgets[0].action.directory\n",
    "\n",
    "\n",
    "app._tab._widgets[0].action.evaluate()['image']        \n",
    "app._tab._widgets[0].action.position       \n",
    "\"\"\""
   ]
  },
  {
   "cell_type": "code",
   "execution_count": null,
   "id": "91d834c2-d0f7-43b6-a2d1-b5956d188bad",
   "metadata": {},
   "outputs": [],
   "source": [
    "#app= _app_test\n",
    "#app._displayWidget.action = ImageAction()"
   ]
  },
  {
   "cell_type": "code",
   "execution_count": null,
   "id": "fdc8d2df-c080-48b5-98f8-a8176e341c32",
   "metadata": {},
   "outputs": [],
   "source": [
    "#app._displayWidget.evaluate()['image']"
   ]
  },
  {
   "cell_type": "code",
   "execution_count": null,
   "id": "52dff0a6-12f4-43b0-a276-76d1b50f04a1",
   "metadata": {},
   "outputs": [],
   "source": [
    "#../../../../../Dec-18"
   ]
  },
  {
   "cell_type": "code",
   "execution_count": null,
   "id": "2a992ecd-8479-4c18-9b9c-2e5bb3efacff",
   "metadata": {},
   "outputs": [],
   "source": [
    "#app=_app_test\n",
    "#app._tab._widgets[0].sources.get_keys()\n",
    "#LiveVideoSources('test1.json').__dict__"
   ]
  },
  {
   "cell_type": "code",
   "execution_count": null,
   "id": "0a11f011-840a-49f5-b0e7-44d1f03a3744",
   "metadata": {},
   "outputs": [],
   "source": [
    "#app._tab._widgets[0].__dict__"
   ]
  },
  {
   "cell_type": "markdown",
   "id": "97d469bd-8b32-4192-81e9-c80b947be5a9",
   "metadata": {},
   "source": [
    "# download images"
   ]
  },
  {
   "cell_type": "code",
   "execution_count": null,
   "id": "75b7e3fc-ec46-4b6b-a4f7-255cf66bc1b4",
   "metadata": {},
   "outputs": [],
   "source": [
    "import subprocess\n",
    "def downloadToLocal(host='data.hector-seminar.research.dev.seeburger.de:80',user='hector', pwd='H=U?Uc8L9V',\n",
    "                    local_path='/home/jovyan', local_name='test' ,remote_path='test/6We73xIdHy0'):  \n",
    "    try:    \n",
    "        output = subprocess.check_output(['curl', '--user',user + ':' + pwd, \n",
    "                                               'http://' + host + '/' + remote_path + '/' + local_name, '-o', local_path + '/' + local_name])\n",
    "        #return str(callProcess)[3:-3]\n",
    "        #return output.decode('ascii')\n",
    "        return output\n",
    "    except Exception as e:\n",
    "        return str(e)     \n",
    "    \n",
    "def download_files(directory=None,files=None):    \n",
    "    for file in files:\n",
    "        downloadToLocal(local_name=file, remote_path='test/' + directory, local_path='/home/jovyan/test/' + directory )    "
   ]
  },
  {
   "cell_type": "code",
   "execution_count": null,
   "id": "cf576ad3-cf60-4e44-888c-bcd8d5aa3867",
   "metadata": {},
   "outputs": [],
   "source": [
    "!mkdir -p /home/jovyan/test/-Dla8twqg\n",
    "!mkdir -p /home/jovyan/test/-rjDeUjXlEs \n",
    "!mkdir -p /home/jovyan/test/6We73xIdHy0 \n",
    "!mkdir -p /home/jovyan/test/ns8y0SVcJGA"
   ]
  },
  {
   "cell_type": "code",
   "execution_count": null,
   "id": "f269cf67-43b1-4d9d-b732-a8791622be0a",
   "metadata": {},
   "outputs": [],
   "source": [
    "# data.hector-seminar.research.dev.seeburger.de/test\n",
    "\n",
    "_directory='6We73xIdHy0'\n",
    "_files=['6We73xIdHy0_5_1639843996.9576826_Dec-18-16:13:16-2021_.png' ,'6We73xIdHy0_5_1639844842.2268715_Dec-18-16:27:22-2021_.png','6We73xIdHy0_5_1639845714.1446428_Dec-18-16:41:54-2021_.png' ,'6We73xIdHy0_5_1639846126.4700105_Dec-18-16:48:46-2021_.png']\n",
    "download_files(directory=_directory,files=_files)            \n",
    "       \n",
    "_directory='-Dla8twqg'\n",
    "_files=['-Dla8twqg_U_5_1639845040.3547864_Dec-18-16:30:40-2021_.png','-Dla8twqg_U_5_1639845983.399166_Dec-18-16:46:23-2021_.png']\n",
    "download_files(directory=_directory,files=_files)    \n",
    "   \n",
    "_directory='-rjDeUjXlEs'\n",
    "_files=['-rjDeUjXlEs_5_1639844100.692022_Dec-18-16:15:00-2021_.png' ,'-rjDeUjXlEs_5_1639845615.294747_Dec-18-16:40:15-2021_.png']\n",
    "download_files(directory=_directory,files=_files)   \n",
    "\n",
    "_directory='ns8y0SVcJGA'\n",
    "_files=['ns8y0SVcJGA_5_1639844178.1899712_Dec-18-16:16:18-2021_.png','ns8y0SVcJGA_5_1639844725.8543384_Dec-18-16:25:25-2021_.png','ns8y0SVcJGA_5_1639846031.4231539_Dec-18-16:47:11-2021_.png', 'ns8y0SVcJGA_5_1639846097.5955346_Dec-18-16:48:17-2021_.png']\n",
    "download_files(directory=_directory,files=_files)   "
   ]
  },
  {
   "cell_type": "code",
   "execution_count": null,
   "id": "b136bae9-b133-4970-97d2-3a4fe119e9b5",
   "metadata": {},
   "outputs": [],
   "source": [
    "!ls -l /home/jovyan/test"
   ]
  }
 ],
 "metadata": {
  "kernelspec": {
   "display_name": "Python 3 (ipykernel)",
   "language": "python",
   "name": "python3"
  },
  "language_info": {
   "codemirror_mode": {
    "name": "ipython",
    "version": 3
   },
   "file_extension": ".py",
   "mimetype": "text/x-python",
   "name": "python",
   "nbconvert_exporter": "python",
   "pygments_lexer": "ipython3",
   "version": "3.9.7"
  }
 },
 "nbformat": 4,
 "nbformat_minor": 5
}

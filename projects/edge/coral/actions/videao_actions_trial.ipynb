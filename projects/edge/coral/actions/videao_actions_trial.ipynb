{
 "cells": [
  {
   "cell_type": "code",
   "execution_count": null,
   "id": "2be57082-46df-43a8-908a-f9fb636ad73e",
   "metadata": {},
   "outputs": [],
   "source": []
  },
  {
   "cell_type": "markdown",
   "id": "63f8c1ba-5794-4f16-a50f-5e915e302bcd",
   "metadata": {},
   "source": [
    "# Applications"
   ]
  },
  {
   "cell_type": "code",
   "execution_count": 25,
   "id": "c419eadd-7977-4780-8d1f-667327d5673b",
   "metadata": {},
   "outputs": [
    {
     "data": {
      "application/vnd.jupyter.widget-view+json": {
       "model_id": "",
       "version_major": 2,
       "version_minor": 0
      },
      "text/plain": [
       "HBox(children=(Text(value='_EasyVideoPipeLine_641_481.json', description='pipeline', layout=Layout(width='500p…"
      ]
     },
     "metadata": {},
     "output_type": "display_data"
    },
    {
     "data": {
      "application/vnd.jupyter.widget-view+json": {
       "model_id": "",
       "version_major": 2,
       "version_minor": 0
      },
      "text/plain": [
       "Output()"
      ]
     },
     "metadata": {},
     "output_type": "display_data"
    },
    {
     "name": "stdout",
     "output_type": "stream",
     "text": [
      "<Task pending name='test' coro=<HaltableActionExecutor.my_code() running at /tmp/ipykernel_409/1873238141.py:24>>\n"
     ]
    }
   ],
   "source": [
    "_app_test = SimpleApplicationWidget(filename = '_EasyVideoPipeLine_641_481.json')"
   ]
  },
  {
   "cell_type": "code",
   "execution_count": 25,
   "id": "00d89fce-9cd6-4949-af61-ebb81ac817a0",
   "metadata": {},
   "outputs": [
    {
     "data": {
      "text/plain": [
       "\"\\napp= _app_test\\n_video = app._tab._widgets[0]\\n_video.on_video_new_button_clicked('')  \\n#_file=_files[6]\\n_file='6We73xIdHy0'\\n_path=_directory + '/' + _file\\n_video.video_directory.value=_path\\n_video.add_new_directory(_path)\\n_video.video_filename.value='../data/images/single/images_'+_file+'.json'\\n_video.on_video_save_button_clicked('')   \\n#_video.on_value_submit_video_directory('',_video.video_directory)\\n\""
      ]
     },
     "execution_count": 25,
     "metadata": {},
     "output_type": "execute_result"
    }
   ],
   "source": [
    "\"\"\"\n",
    "app= _app_test\n",
    "_video = app._tab._widgets[0]\n",
    "_video.on_video_new_button_clicked('')  \n",
    "#_file=_files[6]\n",
    "_file='6We73xIdHy0'\n",
    "_path=_directory + '/' + _file\n",
    "_video.video_directory.value=_path\n",
    "_video.add_new_directory(_path)\n",
    "_video.video_filename.value='../data/images/single/images_'+_file+'.json'\n",
    "_video.on_video_save_button_clicked('')   \n",
    "#_video.on_value_submit_video_directory('',_video.video_directory)\n",
    "\"\"\""
   ]
  },
  {
   "cell_type": "code",
   "execution_count": 49,
   "id": "866b5488-db95-4a75-a1ed-c378eeed2215",
   "metadata": {},
   "outputs": [
    {
     "data": {
      "text/plain": [
       "'ns8y0SVcJGA'"
      ]
     },
     "execution_count": 49,
     "metadata": {},
     "output_type": "execute_result"
    }
   ],
   "source": [
    "_directory='../../../../../Dec-18'\n",
    "listdir(_directory)[0]\n",
    "_path=_directory + '/' + _file"
   ]
  },
  {
   "cell_type": "code",
   "execution_count": 52,
   "id": "80117c65-ac03-495b-9795-17d514d12ef0",
   "metadata": {},
   "outputs": [],
   "source": [
    "# add directory to current list\n",
    "app= _app_test\n",
    "_video = app._tab._widgets[0]\n",
    "_directory='../../../../../Dec-18'\n",
    "_file=listdir(_directory)[0]\n",
    "_path=_directory + '/' + _file\n",
    "_video.video_directory.value=_path\n",
    "_video.add_new_directory(_path)\n",
    "_video.video_filename.value='test1.json'\n",
    "_video.on_video_save_button_clicked('')   "
   ]
  },
  {
   "cell_type": "code",
   "execution_count": 60,
   "id": "4d01ccdf-6d33-4209-ba65-ae810c52b6f5",
   "metadata": {},
   "outputs": [],
   "source": [
    "_directory = app._displayWidget.action.directory\n",
    "_files= sorted(listdir(_directory))"
   ]
  },
  {
   "cell_type": "code",
   "execution_count": 65,
   "id": "a9b43114-5598-4daf-b3a1-5a9ed27d2630",
   "metadata": {},
   "outputs": [
    {
     "data": {
      "text/plain": [
       "['Dec', '18', '16:03:47', '2021']"
      ]
     },
     "execution_count": 65,
     "metadata": {},
     "output_type": "execute_result"
    }
   ],
   "source": [
    "_files[0].split('_')[3].split('-')"
   ]
  },
  {
   "cell_type": "code",
   "execution_count": 28,
   "id": "a43e99cb-9d11-49f8-9397-0a3fad98f9fc",
   "metadata": {},
   "outputs": [],
   "source": [
    "_directory='/home/jovyan/work/data2/images'\n",
    "_sub_directory=listdir(_directory)[6]\n",
    "\n",
    "_path = _directory + '/' + _sub_directory\n",
    "_sub_files=sorted(listdir(_path))\n",
    "_app_test._tab.displayWidget.image=Image.open(_path + '/' + _sub_files[10])\n",
    "\n",
    "_img1 = _app_test._tab.evaluateWidgetActionList({'image':_app_test._tab.displayWidget.image})['image']\n",
    "\n",
    "\n",
    "\n",
    "#"
   ]
  },
  {
   "cell_type": "code",
   "execution_count": 26,
   "id": "87827ead-083a-4656-96c5-36377a4b9e4b",
   "metadata": {},
   "outputs": [
    {
     "ename": "NameError",
     "evalue": "name '_img2' is not defined",
     "output_type": "error",
     "traceback": [
      "\u001b[0;31m---------------------------------------------------------------------------\u001b[0m",
      "\u001b[0;31mNameError\u001b[0m                                 Traceback (most recent call last)",
      "\u001b[0;32m/tmp/ipykernel_344/371252163.py\u001b[0m in \u001b[0;36m<module>\u001b[0;34m\u001b[0m\n\u001b[1;32m      2\u001b[0m \u001b[0;34m\u001b[0m\u001b[0m\n\u001b[1;32m      3\u001b[0m \u001b[0mbuffer1\u001b[0m    \u001b[0;34m=\u001b[0m \u001b[0mnp\u001b[0m\u001b[0;34m.\u001b[0m\u001b[0masarray\u001b[0m\u001b[0;34m(\u001b[0m\u001b[0m_img1\u001b[0m\u001b[0;34m)\u001b[0m\u001b[0;34m\u001b[0m\u001b[0;34m\u001b[0m\u001b[0m\n\u001b[0;32m----> 4\u001b[0;31m \u001b[0mbuffer2\u001b[0m    \u001b[0;34m=\u001b[0m \u001b[0mnp\u001b[0m\u001b[0;34m.\u001b[0m\u001b[0masarray\u001b[0m\u001b[0;34m(\u001b[0m\u001b[0m_img2\u001b[0m\u001b[0;34m)\u001b[0m\u001b[0;34m\u001b[0m\u001b[0;34m\u001b[0m\u001b[0m\n\u001b[0m\u001b[1;32m      5\u001b[0m \u001b[0mbuffer3\u001b[0m    \u001b[0;34m=\u001b[0m \u001b[0mbuffer1\u001b[0m \u001b[0;34m-\u001b[0m \u001b[0mbuffer2\u001b[0m\u001b[0;34m\u001b[0m\u001b[0;34m\u001b[0m\u001b[0m\n\u001b[1;32m      6\u001b[0m \u001b[0mdisplay\u001b[0m\u001b[0;34m(\u001b[0m\u001b[0mImage\u001b[0m\u001b[0;34m.\u001b[0m\u001b[0mfromarray\u001b[0m\u001b[0;34m(\u001b[0m\u001b[0mbuffer1\u001b[0m\u001b[0;34m)\u001b[0m\u001b[0;34m)\u001b[0m\u001b[0;34m\u001b[0m\u001b[0;34m\u001b[0m\u001b[0m\n",
      "\u001b[0;31mNameError\u001b[0m: name '_img2' is not defined"
     ]
    }
   ],
   "source": [
    "#cv2.subtract(_img1,_img2)\n",
    "\n",
    "buffer1    = np.asarray(_img1)\n",
    "buffer2    = np.asarray(_img2)\n",
    "buffer3    = buffer1 - buffer2\n",
    "display(Image.fromarray(buffer1))\n",
    "display(Image.fromarray(buffer2))\n",
    "#buffer1"
   ]
  },
  {
   "cell_type": "code",
   "execution_count": 29,
   "id": "9981ac7e-a1c1-442c-b04a-190cc178cfc6",
   "metadata": {},
   "outputs": [
    {
     "data": {
      "text/plain": [
       "True"
      ]
     },
     "execution_count": 29,
     "metadata": {},
     "output_type": "execute_result"
    }
   ],
   "source": [
    "#https://www.py4u.net/discuss/14401\n",
    "\n",
    "image1 = cv2.imread(_path + '/' + _sub_files[10])\n",
    "image2 = cv2.imread(_path + '/' + _sub_files[110])\n",
    "difference = cv2.subtract(image1, image2)\n",
    "\n",
    "# color the mask red\n",
    "Conv_hsv_Gray = cv2.cvtColor(difference, cv2.COLOR_BGR2GRAY)\n",
    "ret, mask = cv2.threshold(Conv_hsv_Gray, 0, 255,cv2.THRESH_BINARY_INV |cv2.THRESH_OTSU)\n",
    "difference[mask != 255] = [0, 0, 255]\n",
    "\n",
    "# add the red mask to the images to make the differences obvious\n",
    "image1[mask != 255] = [0, 0, 255]\n",
    "image2[mask != 255] = [0, 0, 255]\n",
    "\n",
    "# store images\n",
    "cv2.imwrite('diffOverImage1.png', image1)\n",
    "cv2.imwrite('diffOverImage2.png', image1)\n",
    "cv2.imwrite('diff.png', difference)"
   ]
  },
  {
   "cell_type": "code",
   "execution_count": 35,
   "id": "dcd4ac15-1cb4-428e-a6bc-db1438f470fd",
   "metadata": {},
   "outputs": [
    {
     "name": "stdout",
     "output_type": "stream",
     "text": [
      "Image similarity 0.4338855258035822\n"
     ]
    },
    {
     "data": {
      "text/plain": [
       "True"
      ]
     },
     "execution_count": 35,
     "metadata": {},
     "output_type": "execute_result"
    }
   ],
   "source": [
    "from skimage.metrics import structural_similarity\n",
    "import cv2\n",
    "import numpy as np\n",
    "\n",
    "before = image1\n",
    "after = image2\n",
    "\n",
    "# Convert images to grayscale\n",
    "before_gray = cv2.cvtColor(before, cv2.COLOR_BGR2GRAY)\n",
    "after_gray = cv2.cvtColor(after, cv2.COLOR_BGR2GRAY)\n",
    "\n",
    "# Compute SSIM between two images\n",
    "(score, diff) = structural_similarity(before_gray, after_gray, full=True)\n",
    "print(\"Image similarity\", score)\n",
    "\n",
    "# The diff image contains the actual image differences between the two images\n",
    "# and is represented as a floating point data type in the range [0,1] \n",
    "# so we must convert the array to 8-bit unsigned integers in the range\n",
    "# [0,255] before we can use it with OpenCV\n",
    "diff = (diff * 255).astype(\"uint8\")\n",
    "\n",
    "# Threshold the difference image, followed by finding contours to\n",
    "# obtain the regions of the two input images that differ\n",
    "thresh = cv2.threshold(diff, 0, 255, cv2.THRESH_BINARY_INV | cv2.THRESH_OTSU)[1]\n",
    "contours = cv2.findContours(thresh.copy(), cv2.RETR_EXTERNAL, cv2.CHAIN_APPROX_SIMPLE)\n",
    "contours = contours[0] if len(contours) == 2 else contours[1]\n",
    "\n",
    "mask = np.zeros(before.shape, dtype='uint8')\n",
    "filled_after = after.copy()\n",
    "\n",
    "for c in contours:\n",
    "    area = cv2.contourArea(c)\n",
    "    if area > 40:\n",
    "        x,y,w,h = cv2.boundingRect(c)\n",
    "        cv2.rectangle(before, (x, y), (x + w, y + h), (36,255,12), 2)\n",
    "        cv2.rectangle(after, (x, y), (x + w, y + h), (36,255,12), 2)\n",
    "        cv2.drawContours(mask, [c], 0, (0,255,0), -1)\n",
    "        cv2.drawContours(filled_after, [c], 0, (0,255,0), -1)\n",
    "\n",
    "#cv2.imshow('before', before)\n",
    "#cv2.imshow('after', after)\n",
    "#cv2.imshow('diff',diff)\n",
    "#cv2.imshow('mask',mask)\n",
    "#cv2.imshow('filled after',filled_after)\n",
    "#cv2.waitKey(0)\n",
    "cv2.imwrite('filled_after.png', filled_after)\n",
    "cv2.imwrite('mask.png', mask)"
   ]
  },
  {
   "cell_type": "code",
   "execution_count": 32,
   "id": "f1569f01-e3c3-4f51-83ac-61240d2782db",
   "metadata": {},
   "outputs": [
    {
     "ename": "SyntaxError",
     "evalue": "invalid syntax (1599408094.py, line 1)",
     "output_type": "error",
     "traceback": [
      "\u001b[0;36m  File \u001b[0;32m\"/tmp/ipykernel_409/1599408094.py\"\u001b[0;36m, line \u001b[0;32m1\u001b[0m\n\u001b[0;31m    filled after\u001b[0m\n\u001b[0m           ^\u001b[0m\n\u001b[0;31mSyntaxError\u001b[0m\u001b[0;31m:\u001b[0m invalid syntax\n"
     ]
    }
   ],
   "source": [
    "filled after"
   ]
  },
  {
   "cell_type": "code",
   "execution_count": 26,
   "id": "f6f6fa87-1eda-44fa-9153-3db05fbe1819",
   "metadata": {},
   "outputs": [],
   "source": [
    "#app= _app_test\n",
    "#app._displayWidget.action.getPath()"
   ]
  },
  {
   "cell_type": "code",
   "execution_count": 27,
   "id": "d83d4c50-c4f1-44bd-b86c-792c205d5f5f",
   "metadata": {},
   "outputs": [],
   "source": [
    "#!mkdir -p ../../../../../test/6We73xIdHy0/\n",
    "#!cp ../../../../../Dec-18/6We73xIdHy0/6We73xIdHy0_5_1639843996.9576826_Dec-18-16:13:16-2021_.png ../../../../../test/6We73xIdHy0/"
   ]
  },
  {
   "cell_type": "code",
   "execution_count": 28,
   "id": "9ea5e4a6-bbf1-47da-a636-c67721d116da",
   "metadata": {},
   "outputs": [],
   "source": [
    "#!ls ../data/images/single"
   ]
  },
  {
   "cell_type": "code",
   "execution_count": 29,
   "id": "391706c3-11f4-4339-87da-7a774c2e5aed",
   "metadata": {},
   "outputs": [],
   "source": [
    "def create_single_video_files(app,video_url_id_list=None):\n",
    "    _video = app._tab._widgets[0]   \n",
    "    for result in video_url_id_list:\n",
    "        _video.on_video_new_button_clicked('')  \n",
    "        _video.video_url.value=result[1]\n",
    "        _video.add_new_video(result[1])\n",
    "        _video.video_filename.value='../data/videos/single/images_'+result[0]+'.json'\n",
    "        _video.on_video_save_button_clicked('')    "
   ]
  },
  {
   "cell_type": "code",
   "execution_count": 30,
   "id": "58de853c-06d1-4415-811f-4db6c807bb8d",
   "metadata": {},
   "outputs": [],
   "source": [
    "#_action = ImageAction()\n",
    "#_action.evaluate()"
   ]
  },
  {
   "cell_type": "code",
   "execution_count": 31,
   "id": "7ea0f98d-fdc9-479f-8bcc-54e672b2ffd7",
   "metadata": {},
   "outputs": [
    {
     "data": {
      "text/plain": [
       "\"\\nfrom os import listdir\\napp=_app_test\\ndirectory = app._tab._widgets[0].action.directory\\n\\n\\napp._tab._widgets[0].action.evaluate()['image']        \\napp._tab._widgets[0].action.position       \\n\""
      ]
     },
     "execution_count": 31,
     "metadata": {},
     "output_type": "execute_result"
    }
   ],
   "source": [
    "\"\"\"\n",
    "from os import listdir\n",
    "app=_app_test\n",
    "directory = app._tab._widgets[0].action.directory\n",
    "\n",
    "\n",
    "app._tab._widgets[0].action.evaluate()['image']        \n",
    "app._tab._widgets[0].action.position       \n",
    "\"\"\""
   ]
  },
  {
   "cell_type": "code",
   "execution_count": 32,
   "id": "91d834c2-d0f7-43b6-a2d1-b5956d188bad",
   "metadata": {},
   "outputs": [],
   "source": [
    "#app= _app_test\n",
    "#app._displayWidget.action = ImageAction()"
   ]
  },
  {
   "cell_type": "code",
   "execution_count": 33,
   "id": "fdc8d2df-c080-48b5-98f8-a8176e341c32",
   "metadata": {},
   "outputs": [],
   "source": [
    "#app._displayWidget.evaluate()['image']"
   ]
  },
  {
   "cell_type": "code",
   "execution_count": 34,
   "id": "52dff0a6-12f4-43b0-a276-76d1b50f04a1",
   "metadata": {},
   "outputs": [],
   "source": [
    "#../../../../../Dec-18"
   ]
  },
  {
   "cell_type": "code",
   "execution_count": 35,
   "id": "2a992ecd-8479-4c18-9b9c-2e5bb3efacff",
   "metadata": {},
   "outputs": [],
   "source": [
    "#app=_app_test\n",
    "#app._tab._widgets[0].sources.get_keys()\n",
    "#LiveVideoSources('test1.json').__dict__"
   ]
  },
  {
   "cell_type": "code",
   "execution_count": 36,
   "id": "0a11f011-840a-49f5-b0e7-44d1f03a3744",
   "metadata": {},
   "outputs": [],
   "source": [
    "#app._tab._widgets[0].__dict__"
   ]
  }
 ],
 "metadata": {
  "kernelspec": {
   "display_name": "Python 3 (ipykernel)",
   "language": "python",
   "name": "python3"
  },
  "language_info": {
   "codemirror_mode": {
    "name": "ipython",
    "version": 3
   },
   "file_extension": ".py",
   "mimetype": "text/x-python",
   "name": "python",
   "nbconvert_exporter": "python",
   "pygments_lexer": "ipython3",
   "version": "3.9.7"
  }
 },
 "nbformat": 4,
 "nbformat_minor": 5
}

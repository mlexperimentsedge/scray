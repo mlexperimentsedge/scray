{
 "cells": [
  {
   "cell_type": "code",
   "execution_count": null,
   "id": "2be57082-46df-43a8-908a-f9fb636ad73e",
   "metadata": {},
   "outputs": [],
   "source": [
    "#!pip install pandas\n",
    "#!pip3 install opencv-python\n",
    "#!pip install youtube_dl\n",
    "#!pip install git+https://github.com/Cupcakus/pafy\n",
    "#!pip install ipynb\n",
    "from ipynb.fs.full.video_actions_v2 import *\n",
    "from ipynb.fs.full.interact_with_app import *"
   ]
  },
  {
   "cell_type": "markdown",
   "id": "677aa077-e052-4834-80a0-4f966d58dbee",
   "metadata": {},
   "source": [
    "## Dataframe"
   ]
  },
  {
   "cell_type": "code",
   "execution_count": null,
   "id": "3c9181b4-31b2-404d-851f-6bc053388dfb",
   "metadata": {},
   "outputs": [],
   "source": [
    "import pandas as pd\n",
    "from os import listdir\n",
    "from os.path import isfile, join\n",
    "\n",
    "def create_empty_dataframe():\n",
    "    df = pd.DataFrame(columns=list(range(0, 12)))\n",
    "    for i in range(6):\n",
    "        df.loc[i] = listofzeros = [0] * 12\n",
    "    return df.apply(pd.to_numeric)\n",
    "\n",
    "def counts_in_dataframe(path='', timestamp='',key=None):\n",
    "    dataframe=create_empty_dataframe()\n",
    "    for filename in listdir(path):\n",
    "        print(filename)\n",
    "        if filename[0]!='.':\n",
    "            splits=filename[:-5].split('_')\n",
    "            #if not filename.startswith('-Dla8twqg_U'):\n",
    "            #    splits=filename.split('_')\n",
    "            #else:\n",
    "            #    splits1=filename.split('-Dla8twqg_U')\n",
    "            #    splits2=splits1[1][1:].split('_')\n",
    "            #    splits=['-Dla8twqg_U']\n",
    "            #    splits=splits+splits2\n",
    "            print(splits)    \n",
    "            ts = float(splits[len(splits)-2])\n",
    "            result = time.localtime(ts)\n",
    "            print(result)\n",
    "            \n",
    "            #_timestamp=splits[5].split('.')\n",
    "            #_timestamp=splits[4]->überarbeiten für Selektion nach Timestamps\n",
    "            #if (_timestamp[0]+'.'+_timestamp[1])==timestamp and splits[0]==key:\n",
    "            if splits[0]==key:\n",
    "                \n",
    "            #x=int(splits[4])\n",
    "            #y=int(splits[3])\n",
    "                #x=int(splits[3])\n",
    "                #y=int(splits[2])\n",
    "                y= int(splits[len(splits)-4])\n",
    "                x= int(splits[len(splits)-3])\n",
    "                print(filename,path)          \n",
    "                Box=load_data(filename=filename, path=path)\n",
    "                count=Box[2]\n",
    "                #print(count)\n",
    "                #print(splits[0])\n",
    "                dataframe.loc[y,x]=count\n",
    "    return dataframe.apply(pd.to_numeric)\n",
    "\n",
    "def count_and_add_dataframes(path='../data/pose_boxes',key=None):\n",
    "    dfadd=create_empty_dataframe()\n",
    "    _timestamps=get_timestamps(path=path,key=key)\n",
    "    for timestamp in _timestamps:\n",
    "        df=counts_in_dataframe(path=path, timestamp=timestamp, key=key)\n",
    "        for y in range(0,6):\n",
    "            for x in range(0,12):\n",
    "                dfadd.loc[y,x]=dfadd.loc[y,x]+df.loc[y,x]    \n",
    "    return dfadd"
   ]
  },
  {
   "cell_type": "markdown",
   "id": "979bd131-9aff-4aaf-b5f9-23815f971e64",
   "metadata": {},
   "source": [
    "## visualization"
   ]
  },
  {
   "cell_type": "code",
   "execution_count": null,
   "id": "dc07dc08-d92b-45e2-b158-3f645ffd8077",
   "metadata": {},
   "outputs": [],
   "source": [
    "import pandas as pd\n",
    "pd.plotting.register_matplotlib_converters()\n",
    "import matplotlib.pyplot as plt\n",
    "%matplotlib inline\n",
    "import seaborn as sns\n",
    "print(\"Setup Complete\")\n",
    "\n",
    "def create_heatmap(dataframe=None):\n",
    "    # Set the width and height of the figure\n",
    "    plt.figure(figsize=(14,7))\n",
    "    # Add title\n",
    "    plt.title(_key)\n",
    "    # Heatmap showing average arrival delay for each airline by month\n",
    "    sns.heatmap(data=dataframe, annot=True)\n",
    "    # Add label for horizontal axis\n",
    "    plt.xlabel(\"\")"
   ]
  },
  {
   "cell_type": "code",
   "execution_count": null,
   "id": "236d732e-f761-4548-ba9f-c672e4913c7d",
   "metadata": {},
   "outputs": [],
   "source": [
    "Box=load_data(filename='6We73xIdHy0_box_Box_0_0_1639757394.585623_Dec-17-16:09:44-2021.json', path='../data/pose_boxes') "
   ]
  },
  {
   "cell_type": "code",
   "execution_count": null,
   "id": "7d614765-abfa-4471-b971-727064be0388",
   "metadata": {},
   "outputs": [],
   "source": [
    "# frame[name]=(ts,st,count,result['score_range'],result['poses'],result['bboxes'])\n",
    "# frame[name]=(ts,st,count,result['objects'],result['inference_time'])\n",
    "Box[4][0][0]\n",
    "\n",
    "_keypoints = Box[4][0][0]\n",
    "_score = Box[4][0][1]\n",
    "_ts = Box[0]   \n",
    "_score_range = Box[3][0]\n",
    "_bbox = Box[5][0]    \n",
    "_size = (1920,1080)    \n",
    "    \n",
    "#_keypoints, _score, _ts, _score_range,  _bbox, _size \n",
    "\n",
    "\n"
   ]
  },
  {
   "cell_type": "code",
   "execution_count": null,
   "id": "0159ddd7-053f-425f-aedd-a477c2dea574",
   "metadata": {},
   "outputs": [],
   "source": [
    "from PIL import Image\n",
    "import collections\n",
    "import enum\n",
    "import math\n",
    "import numpy as np\n",
    "import os\n",
    "import platform\n",
    "import sys\n",
    "import time\n",
    "\n",
    "class KeypointType(enum.IntEnum):\n",
    "    \"\"\"Pose kepoints.\"\"\"\n",
    "    NOSE = 0\n",
    "    LEFT_EYE = 1\n",
    "    RIGHT_EYE = 2\n",
    "    LEFT_EAR = 3\n",
    "    RIGHT_EAR = 4\n",
    "    LEFT_SHOULDER = 5\n",
    "    RIGHT_SHOULDER = 6\n",
    "    LEFT_ELBOW = 7\n",
    "    RIGHT_ELBOW = 8\n",
    "    LEFT_WRIST = 9\n",
    "    RIGHT_WRIST = 10\n",
    "    LEFT_HIP = 11\n",
    "    RIGHT_HIP = 12\n",
    "    LEFT_KNEE = 13\n",
    "    RIGHT_KNEE = 14\n",
    "    LEFT_ANKLE = 15\n",
    "    RIGHT_ANKLE = 16\n",
    "    \n",
    "Point = collections.namedtuple('Point', ['x', 'y'])\n",
    "Point.distance = lambda a, b: math.sqrt((a.x - b.x)**2 + (a.y - b.y)**2)\n",
    "Point.distance = staticmethod(Point.distance)\n",
    "Keypoint = collections.namedtuple('Keypoint', ['point', 'score'])\n",
    "Pose = collections.namedtuple('Pose', ['keypoints', 'score'])    \n",
    "    \n",
    "class PoseBox(object):\n",
    "    def __init__(self, keypoints=None, time_seconds=None, score_range=None, bbox=None, size=None ):\n",
    "        self.score     = keypoints[1]\n",
    "        self.score_range = score_range\n",
    "        self.time_seconds = time_seconds\n",
    "        self.bbox = bbox\n",
    "        self.size = size\n",
    "        self.init_keypoints(keypoints=keypoints[0]) \n",
    "        \n",
    "    def init_keypoints(self,keypoints=None):        \n",
    "        self.keypoints = {}\n",
    "        for key,point in keypoints.items():    \n",
    "            x = point[0][0]\n",
    "            y = point[0][1]\n",
    "            score = point[1]\n",
    "            self.keypoints[KeypointType(int(key))] = Keypoint(Point(x, y), score)        \n",
    "        \n",
    "#_keypoints, _score, _ts, _score_range,  _bbox, _size "
   ]
  },
  {
   "cell_type": "code",
   "execution_count": null,
   "id": "f7657b75-fd3e-4674-93de-476d59e87965",
   "metadata": {},
   "outputs": [],
   "source": [
    "_size = (1920,1080)   \n",
    "_pose = PoseBox(keypoints=Box[4][0], time_seconds=Box[0], score_range=Box[3][0], bbox=Box[5][0] , size=_size ).__dict__\n",
    "#Box[4][0][1]"
   ]
  },
  {
   "cell_type": "code",
   "execution_count": null,
   "id": "d4e9827c-333c-4391-a5d4-ac74a40bb909",
   "metadata": {},
   "outputs": [],
   "source": [
    "len(Box[4])\n",
    "#Box[4]\n",
    "#Box\n",
    "_keypoints, _score, \n",
    "_bbox"
   ]
  },
  {
   "cell_type": "code",
   "execution_count": null,
   "id": "ced06ef8-9d4c-47fe-9572-580d5e07ab0b",
   "metadata": {},
   "outputs": [],
   "source": [
    "pose_keypoints[KeypointType(j)] = Keypoint(Point(x, y), keypoint_scores[i, j])"
   ]
  },
  {
   "cell_type": "code",
   "execution_count": null,
   "id": "a2fc4437-8d43-4c15-8df8-8ad8639a7532",
   "metadata": {},
   "outputs": [],
   "source": [
    "pose_keypoints,_score"
   ]
  },
  {
   "cell_type": "code",
   "execution_count": null,
   "id": "901633e2-f0c5-49f5-9f6b-aee78fdb94c9",
   "metadata": {},
   "outputs": [],
   "source": [
    "len(Box)"
   ]
  },
  {
   "cell_type": "code",
   "execution_count": null,
   "id": "00ea5a4f-9d32-402a-8e30-a5777e275d2f",
   "metadata": {},
   "outputs": [],
   "source": [
    "_pose = Pose(keypoint_dict, Box[4][0][1])"
   ]
  },
  {
   "cell_type": "code",
   "execution_count": null,
   "id": "53857fa9-23d4-48a1-a28c-1abeb8749573",
   "metadata": {},
   "outputs": [],
   "source": [
    "for label, keypoint in _pose.keypoints.items():\n",
    "            #drawPoint(keypoint.yx[1], keypoint.yx[0],2,rgba)\n",
    "            #if keypoint.score < minScoreKeypoint : continue\n",
    "            print(' %-20s x=%-4d y=%-4d score=%.2f' %\n",
    "                (label, keypoint.yx[1], keypoint.yx[0], keypoint.score))"
   ]
  },
  {
   "cell_type": "code",
   "execution_count": null,
   "id": "067003e9-8c8b-4526-a557-b8256f0d0850",
   "metadata": {},
   "outputs": [],
   "source": [
    "def _parse_poses(self, outputs):\n",
    "        keypoints = outputs[0].reshape(-1, len(KEYPOINTS), 2)\n",
    "        keypoint_scores = outputs[1].reshape(-1, len(KEYPOINTS))\n",
    "        pose_scores = outputs[2].flatten()\n",
    "        nposes = int(outputs[3][0])\n",
    "\n",
    "        # Convert the poses to a friendlier format of keypoints with associated\n",
    "        # scores.\n",
    "        poses = []\n",
    "        for pose_i in range(nposes):\n",
    "            keypoint_dict = {}\n",
    "            for point_i, point in enumerate(keypoints[pose_i]):\n",
    "                keypoint = Keypoint(KEYPOINTS[point_i], point,\n",
    "                                    keypoint_scores[pose_i, point_i])\n",
    "                if self._mirror: keypoint.yx[1] = self.image_width - keypoint.yx[1]\n",
    "                keypoint_dict[KEYPOINTS[point_i]] = keypoint\n",
    "            poses.append(Pose(keypoint_dict, pose_scores[pose_i]))\n",
    "\n",
    "        return poses"
   ]
  },
  {
   "cell_type": "code",
   "execution_count": null,
   "id": "1cccd56a-fa7f-433f-81b9-7875b16db36e",
   "metadata": {},
   "outputs": [],
   "source": [
    "type(KEYPOINTS[0])"
   ]
  },
  {
   "cell_type": "code",
   "execution_count": null,
   "id": "6ff2ae07-e898-41ac-8afe-8fb2e6046d7e",
   "metadata": {},
   "outputs": [],
   "source": [
    "_path='../data/pose_boxes'\n",
    "_files= sorted(listdir(_path))\n",
    "for _file in _files:\n",
    "    _path2 = _path + '/' + _file\n",
    "    box = load_data(filename=_file, path='../data/pose_boxes') \n",
    "    print(_file,box[2])"
   ]
  },
  {
   "cell_type": "code",
   "execution_count": null,
   "id": "6f950be6-8d45-4d1a-ab54-e17aac79bd69",
   "metadata": {},
   "outputs": [],
   "source": [
    "!rm -rf ../data/pose_boxes/.ipynb_checkpoints"
   ]
  },
  {
   "cell_type": "code",
   "execution_count": null,
   "id": "3d5e6a46-a59c-4ddc-a335-aa04e843539b",
   "metadata": {},
   "outputs": [],
   "source": [
    "counts_in_dataframe(path='../data/pose_boxes',key='LJ5wabMQ4Vk')"
   ]
  },
  {
   "cell_type": "markdown",
   "id": "63f8c1ba-5794-4f16-a50f-5e915e302bcd",
   "metadata": {},
   "source": [
    "# Applications"
   ]
  },
  {
   "cell_type": "code",
   "execution_count": null,
   "id": "c419eadd-7977-4780-8d1f-667327d5673b",
   "metadata": {},
   "outputs": [],
   "source": [
    "_app_test = SimpleApplicationWidget(filename = '_EasyVideoPipeLine_641_481.json')"
   ]
  },
  {
   "cell_type": "code",
   "execution_count": null,
   "id": "f60bb9e2-3e3b-48c7-971c-53c889a9ed28",
   "metadata": {},
   "outputs": [],
   "source": [
    "app=_app_test\n",
    "#display(app._tab.displayWidget.action.image['image']) \n",
    "_image=app._tab.displayWidget.image\n",
    "app._tab.evaluateWidgetActionList(image=_image)['image']"
   ]
  },
  {
   "cell_type": "code",
   "execution_count": null,
   "id": "9a415b9e-dc98-441b-a3f9-31d97da51c15",
   "metadata": {},
   "outputs": [],
   "source": [
    "_action=app._tab.displayWidget.action\n",
    "_files= sorted(listdir(_action.directory))\n",
    "_files"
   ]
  },
  {
   "cell_type": "code",
   "execution_count": null,
   "id": "e00e6fc3-3edd-4461-9c97-24cbd7c2a395",
   "metadata": {},
   "outputs": [],
   "source": [
    "app._tab.displayWidget.action.__dict__"
   ]
  },
  {
   "cell_type": "code",
   "execution_count": null,
   "id": "00d89fce-9cd6-4949-af61-ebb81ac817a0",
   "metadata": {},
   "outputs": [],
   "source": [
    "app= _app_test\n",
    "_video = app._tab._widgets[0]\n",
    "_video.on_video_new_button_clicked('')  \n",
    "#_file=_files[6]\n",
    "_file='6We73xIdHy0'\n",
    "_path=_directory + '/' + _file\n",
    "_video.video_directory.value=_path\n",
    "_video.add_new_directory(_path)\n",
    "_video.video_filename.value='../data/images/single/images_'+_file+'.json'\n",
    "_video.on_video_save_button_clicked('')   \n",
    "#_video.on_value_submit_video_directory('',_video.video_directory)"
   ]
  },
  {
   "cell_type": "markdown",
   "id": "d5fd1292-f08e-41d2-a99f-1562fc9f0b58",
   "metadata": {},
   "source": [
    "# Create image files"
   ]
  },
  {
   "cell_type": "code",
   "execution_count": null,
   "id": "8229a474-d471-48bd-8f17-bab369c22099",
   "metadata": {},
   "outputs": [],
   "source": [
    "\n",
    "\n",
    "def add_single_image_directory(app=None,directory=None,file=None):\n",
    "    _video = app._tab._widgets[0]\n",
    "    _video.on_video_new_button_clicked('')  \n",
    "    _path=directory + '/' + file\n",
    "    _video.video_directory.value=_path\n",
    "    _video.add_new_directory(_path)\n",
    "    _video.video_filename.value='../data/images/single/images_' + file +'.json'\n",
    "    _video.on_video_save_button_clicked('')   \n",
    "    \n",
    "#add_single_image_directory(app=app,directory=directory,file='-rjDeUjXlEs')"
   ]
  },
  {
   "cell_type": "code",
   "execution_count": null,
   "id": "cc3e6714-b69d-448c-9dd2-2e1a9e717e33",
   "metadata": {},
   "outputs": [],
   "source": [
    "# add json files for all images\n",
    "app= _app_test   \n",
    "directory='/home/jovyan/test'\n",
    "_files= sorted(listdir(directory))\n",
    "for _file in _files:\n",
    "    _path2 = _path + '/' + _file\n",
    "    add_single_image_directory(app=app,directory=directory,file=_file)"
   ]
  },
  {
   "cell_type": "markdown",
   "id": "31da24d4-dfe0-4b5b-ae3b-364672d6b383",
   "metadata": {},
   "source": [
    "###  generate_box_bookmarks_normalized"
   ]
  },
  {
   "cell_type": "code",
   "execution_count": null,
   "id": "951de50d-08f0-4bc0-a3ed-bfb54355a997",
   "metadata": {},
   "outputs": [],
   "source": [
    "\n",
    "                \n",
    "#create_all_box_bookmark_normalized_files(x_max=6,y_max=3,result_directory='../data/images/box_bookmarks_3_6')                        \n",
    "                                   \n",
    "create_all_box_bookmark_normalized_files(file_starts='video',x_max=6,y_max=3,single_directory='../data/videos/single', result_directory='../data/videos/box_bookmarks_3_6')            "
   ]
  },
  {
   "cell_type": "code",
   "execution_count": null,
   "id": "2b0d0b6e-38ee-4367-ad3f-9b4a112ea1e7",
   "metadata": {},
   "outputs": [],
   "source": [
    "import ipywidgets as widgets\n",
    "\n",
    "def generate_box_bookmarks(step_y=180, step_x=160, size=None,crop=None):\n",
    "    _out=widgets.Output()\n",
    "    with _out:\n",
    "        for y in range(0,6):\n",
    "            for x in range(0,12):\n",
    "                crop.cropx0.value = x*step_x\n",
    "                crop.cropx1.value = (x+1)*step_x-1\n",
    "                crop.cropy0.value = y*step_y\n",
    "                crop.cropy1.value = (y+1)*step_y-1\n",
    "                crop.add_bookmark('Box_'+str(y)+'_'+str(x))\n",
    "\n",
    "def create_box_bookmark_file(app=None, filename=None, single_directory='../data/videos/single',result_directory='../data/videos/box_bookmarks_6_12',\n",
    "    new=True):\n",
    "\n",
    "        try:\n",
    "            _video  = app._tab._widgets[0]\n",
    "            if new == True:\n",
    "                if filename in listdir(result_directory):\n",
    "                    return True, ''\n",
    "            _video.video_filename.value= single_directory + '/' + filename\n",
    "            _video.on_video_load_button_clicked('')  \n",
    "            set_image_quality(app)\n",
    "            _crop   = app._tab._widgets[1] \n",
    "            generate_box_bookmarks(size=app._imageWidget2.getImage().size, crop=_crop) \n",
    "            _video.video_filename.value= result_directory + '/' + filename\n",
    "            _video.on_video_save_button_clicked('') \n",
    "            return True, ''\n",
    "        except Exception as e:\n",
    "            return False, 'error:' + filename + ':' + str(e)\n",
    "        \n",
    "\n",
    "def create_all_box_bookmark_files(app=None, single_directory='../data/images/single',result_directory='../data/images/box_bookmarks_6_12', new=True):\n",
    "    for filename in listdir(single_directory):\n",
    "        if filename.startswith('images'):\n",
    "            create_box_bookmark_file(app=app, filename=filename, single_directory=single_directory,result_directory=result_directory,new=new)        \n",
    "        \n",
    "#create_all_box_bookmark_files(app=_app_test)     \n",
    "\n",
    "\n",
    "#create_box_bookmark_file(app=_app_test, filename='images_-Dla8twqg.json', single_directory='../data/images/single',result_directory='../data/images/box_bookmarks_6_12',new=True)\n"
   ]
  },
  {
   "cell_type": "code",
   "execution_count": null,
   "id": "1d044a6c-5b51-440f-aedb-208bd53a59e7",
   "metadata": {},
   "outputs": [],
   "source": [
    "\n",
    "app = _app_test\n",
    "single_directory='../data/images/single'\n",
    "result_directory='../data/images/box_bookmarks_6_12'\n",
    "filename='images_-Dla8twqg.json'\n",
    "_video  = _app_test._tab._widgets[0]\n",
    "_video.video_filename.value= single_directory + '/' + filename\n",
    "_video.on_video_load_button_clicked('')  \n",
    "set_image_quality(app)\n",
    "_crop   = app._tab._widgets[1]\n",
    "generate_box_bookmarks(size=app._imageWidget2.getImage().size, crop=_crop)\n",
    "_video.video_filename.value= result_directory + '/' + filename\n",
    "_video.on_video_save_button_clicked('') "
   ]
  },
  {
   "cell_type": "code",
   "execution_count": null,
   "id": "dc4052d6-601b-4dea-b9c1-28257ddac5bd",
   "metadata": {},
   "outputs": [],
   "source": [
    "# BUG / FIX : wrong sources\n",
    "\n",
    "_video.sources=_app_test._tab._widgets[1]._get_VideoAction().sources\n",
    "_video.on_video_save_button_clicked('') "
   ]
  },
  {
   "cell_type": "code",
   "execution_count": null,
   "id": "cff25668-a0a6-4fdd-9ee0-e6e7b4b0cb47",
   "metadata": {},
   "outputs": [],
   "source": [
    "create_all_box_bookmark_files(app=_app_test) "
   ]
  },
  {
   "cell_type": "code",
   "execution_count": null,
   "id": "866b5488-db95-4a75-a1ed-c378eeed2215",
   "metadata": {},
   "outputs": [],
   "source": [
    "_directory='../../../../../Dec-18'\n",
    "listdir(_directory)[0]\n",
    "_path=_directory + '/' + _file"
   ]
  },
  {
   "cell_type": "markdown",
   "id": "a3ed453a-0a42-4185-8b21-913a688e1719",
   "metadata": {},
   "source": [
    "### remove checkpoint files"
   ]
  },
  {
   "cell_type": "code",
   "execution_count": null,
   "id": "f05278bb-1897-4ad9-9256-4f33b191622f",
   "metadata": {},
   "outputs": [],
   "source": [
    "# remove checkpoint files and directories starting with a '.'\n",
    "import os\n",
    "import shutil\n",
    "app= _app_test\n",
    "_video = app._tab._widgets[0]\n",
    "#_directory='../../../../../Dec-18'\n",
    "#_file=listdir(_directory)[0]\n",
    "for _dir in listdir(_directory):\n",
    "    _path=_directory + '/' + _dir\n",
    "    _files= sorted(listdir(_path))\n",
    "    for _file in _files:\n",
    "        if 'checkpoint' in _file and _file[0]!='.':\n",
    "            print(_path + '/' + _file)\n",
    "            os.remove(_path + '/' + _file)\n",
    "        #if 'checkpoint' in _file and _file[0]=='.':  \n",
    "        if _file[0]=='.':      \n",
    "            print(_path + '/' + _file)\n",
    "            shutil.rmtree(_path + '/' + _file)"
   ]
  },
  {
   "cell_type": "code",
   "execution_count": null,
   "id": "8cde3920-7991-470d-92e3-5d402bde6209",
   "metadata": {},
   "outputs": [],
   "source": [
    "_directory"
   ]
  },
  {
   "cell_type": "markdown",
   "id": "f20abe46-94af-4378-83d3-98d7487fa3b7",
   "metadata": {},
   "source": [
    "### display"
   ]
  },
  {
   "cell_type": "code",
   "execution_count": null,
   "id": "09f704bf-d6e0-4520-9133-05a6352bfbe8",
   "metadata": {},
   "outputs": [],
   "source": [
    "def display_image(_path2,dir , time):\n",
    "    _image= {'image':Image.open(_path2)}\n",
    "    display(dir , time)\n",
    "    display(app._tab.evaluateWidgetActionList(image=_image)['image'])\n",
    "\n",
    "def display_dir_images_hour(_path,split_index=3):\n",
    "    _files= sorted(listdir(_path))\n",
    "    _current = -1\n",
    "    for _file in _files:\n",
    "        _path2 = _path + '/' + _file\n",
    "        #print(_path2)    \n",
    "        try:\n",
    "            #print(_path2.split('_')[3].split('-')[2].split(':'))\n",
    "            time = _path2.split('_')[split_index].split('-')[2].split(':')\n",
    "            #time = _path2.split('_')[4].split('-')[2].split(':')\n",
    "            hour = time[0]\n",
    "            if _current != hour:\n",
    "                #print(_path2,hour,_current)\n",
    "                _current = hour\n",
    "                _image= {'image':Image.open(_path2)}\n",
    "                display(_dir , time, _path2)\n",
    "                display(app._tab.evaluateWidgetActionList(image=_image)['image'])\n",
    "        except Exception as e: \n",
    "            #print(_path2,e)\n",
    "            pass    \n",
    "\n",
    "def display_dir_images_minute(_path,hour,split_index=3):\n",
    "    _files= sorted(listdir(_path))\n",
    "    _current = -1\n",
    "    for _file in _files:\n",
    "        _path2 = _path + '/' + _file\n",
    "        #print(_path2)    \n",
    "        try:\n",
    "            #print(_path2.split('_')[3].split('-')[2].split(':'))\n",
    "            time = _path2.split('_')[split_index].split('-')[2].split(':')\n",
    "            _hour     = time[0]\n",
    "            _minutes  = time[1]\n",
    "            \n",
    "            if _current != _minutes and _hour == hour:\n",
    "                #print(_path2,hour,_current)\n",
    "                _current = _minutes\n",
    "                _image= {'image':Image.open(_path2)}\n",
    "                display(_dir , time, _path2)\n",
    "                display(app._tab.evaluateWidgetActionList(image=_image)['image'])\n",
    "        except Exception as e: \n",
    "            #print(_path2)\n",
    "            pass    \n",
    "        \n",
    "        \n",
    "def display_dir_images(_path):\n",
    "    _files= sorted(listdir(_path))\n",
    "    _current = -1\n",
    "    _file =_files[0]\n",
    "    _path2 = _path + '/' + _file\n",
    "    #print(_path2)    \n",
    "    try:\n",
    "        #print(_path2.split('_')[3].split('-')[2].split(':'))\n",
    "        time = _path2.split('_')[3].split('-')[2].split(':')\n",
    "        hour = time[0]\n",
    "        minutes = time[1]\n",
    "        if _current != hour:\n",
    "            #print(_path2,hour,_current)\n",
    "            _current = hour\n",
    "            _image= {'image':Image.open(_path2)}\n",
    "            display(_dir , time)\n",
    "            display(app._tab.evaluateWidgetActionList(image=_image)['image'])\n",
    "    except Exception as e: \n",
    "        #print(_path2)\n",
    "        pass    \n",
    "    \n",
    "    \n",
    "def display_dir_images_directories(_directory):   \n",
    "    for _dir in listdir(_directory):\n",
    "        _path=_directory + '/' + _dir\n",
    "        _files= sorted(listdir(_path))\n",
    "\n",
    "        try:\n",
    "            _file =_files[0]\n",
    "            _path2 = _path + '/' + _file\n",
    "            display_image(_path2,_dir , '')\n",
    "        except Exception as e: \n",
    "            #print(_path2)\n",
    "            pass            "
   ]
  },
  {
   "cell_type": "markdown",
   "id": "bd955cda-458c-4cce-84de-4a45dbfd1eda",
   "metadata": {},
   "source": [
    "### time"
   ]
  },
  {
   "cell_type": "code",
   "execution_count": null,
   "id": "62407b55-307a-4ff5-8c2a-b704601733c9",
   "metadata": {},
   "outputs": [],
   "source": [
    "_path2= '6QQgDyKQTJ0_4_1640027422.8791764_Dec-20-19:10:22-2021_.png'\n",
    "#time = _path2.split('_')[3].split('-')[2].split(':')\n",
    "_split1 = _path2.split('_')\n",
    "len(_split1) \n",
    "ts= _split1[len(_split1) - 3]\n",
    "ts = float(ts)\n",
    "ts"
   ]
  },
  {
   "cell_type": "code",
   "execution_count": null,
   "id": "40dac15f-ee35-4788-9d53-ddffa78358b8",
   "metadata": {},
   "outputs": [],
   "source": [
    "import time, datetime\n",
    "#time(ts)\n",
    "#ts = time.time()\n",
    "time.ctime(ts)\n",
    "result = time.localtime(ts)"
   ]
  },
  {
   "cell_type": "code",
   "execution_count": null,
   "id": "3deebe1a-c110-4fbc-8b9b-ae9983182dce",
   "metadata": {},
   "outputs": [],
   "source": [
    "result"
   ]
  },
  {
   "cell_type": "code",
   "execution_count": null,
   "id": "4256a4e8-6a05-432e-b8cd-0fa0b89185f8",
   "metadata": {},
   "outputs": [],
   "source": [
    "_path2='-Dla8twqg_U_box_Box_0_0_1639757384.3008435.json'\n",
    "_split1 = _path2.split('_')\n",
    "ts= _split1[len(_split1) - 1]\n",
    "ts= float(ts[:-5])\n",
    "time.ctime(ts).replace(' ','-')"
   ]
  },
  {
   "cell_type": "code",
   "execution_count": null,
   "id": "65a94ff2-fe00-4b78-a097-6492efde0428",
   "metadata": {},
   "outputs": [],
   "source": [
    "!rm -rf ../data/pose_boxes/.ipynb_checkpoints"
   ]
  },
  {
   "cell_type": "code",
   "execution_count": null,
   "id": "c5012928-85df-4176-8737-8b28f580d22e",
   "metadata": {},
   "outputs": [],
   "source": [
    "_path='../data/object_boxes'\n",
    "_files= sorted(listdir(_path))\n",
    "for _file in _files:\n",
    "    _path2 = _path + '/' + _file\n",
    "    ts= _split1[len(_split1) - 1]\n",
    "    ts= float(ts[:-5])  \n",
    "    asctime = time.ctime(ts).split(' ',1)[1].replace(' ','-')  \n",
    "    _path3 = _path2[:-5] + '_' + asctime + '.json'\n",
    "    print(_path2,_path3)\n",
    "    #shutil.move(_path2, _path3)"
   ]
  },
  {
   "cell_type": "code",
   "execution_count": null,
   "id": "4b5da0f6-ba54-49cf-83f5-62b19775c138",
   "metadata": {},
   "outputs": [],
   "source": [
    "_path='../data/pose_boxes'\n",
    "_files= sorted(listdir(_path))\n",
    "_file=_files[10]\n",
    "_file, BoxPath(filename=_file).__dict__"
   ]
  },
  {
   "cell_type": "code",
   "execution_count": null,
   "id": "49aa8a08-4c94-456e-8d32-15569a1532c8",
   "metadata": {},
   "outputs": [],
   "source": [
    "_files= sorted(listdir(_path))\n",
    "_file=_files[10]\n",
    "_file, PoseBoxPath(filename=_file)\n"
   ]
  },
  {
   "cell_type": "markdown",
   "id": "6e578e35-a452-4701-ba1b-07548431b421",
   "metadata": {},
   "source": [
    "### move and cleanup"
   ]
  },
  {
   "cell_type": "code",
   "execution_count": null,
   "id": "89bcf234-a74b-4a89-9296-bf2a14d2e909",
   "metadata": {},
   "outputs": [],
   "source": [
    "import pathlib\n",
    "import os\n",
    "import shutil\n",
    "\n",
    "\n",
    "def move_files_hour(_path, destination,hour,split_index=3):\n",
    "    _files= sorted(listdir(_path))\n",
    "    _current = -1\n",
    "    pathlib.Path(destination).mkdir(parents=True, exist_ok=True)\n",
    "    for _file in _files:\n",
    "        _path2 = _path + '/' + _file\n",
    "        #print(_path2)    \n",
    "        try:\n",
    "            #print(_path2.split('_')[3].split('-')[2].split(':'))\n",
    "            time = _path2.split('_')[split_index].split('-')[2].split(':')\n",
    "            _hour = time[0]\n",
    "            if hour == _hour:\n",
    "                #print(_path2)\n",
    "                shutil.move(_path2, destination)\n",
    "                #display_image(_path2,'' , time)\n",
    "        except Exception as e: \n",
    "            #print(_path2)\n",
    "            pass    \n",
    "        \n",
    "#move_files_hour(_path, '/home/jovyan/work/data2/skip/9USNTc7Gr4c/', '11')          \n",
    "\n",
    "\n",
    "move_files_hour(_path, '/home/jovyan/work/data2/skip/' + _dir + '/', '14',split_index=3)  "
   ]
  },
  {
   "cell_type": "code",
   "execution_count": null,
   "id": "921cf30c-bb6a-477e-a0b7-e34dabd13cfd",
   "metadata": {},
   "outputs": [],
   "source": [
    "http://data.hector-seminar.research.dev.seeburger.de/\n",
    "user hector\n",
    "Neuer user\n",
    "sudo htpasswd  /etc/apache2/.htpasswd user12345\n",
    "Daten\n",
    "/var/www/data.hector-seminar\n"
   ]
  },
  {
   "cell_type": "code",
   "execution_count": null,
   "id": "f9ebba3c-64aa-42f4-b6e4-813f3ef6c78b",
   "metadata": {},
   "outputs": [],
   "source": [
    "#!ls /var/www/data.hector-seminar\n",
    "#!ls /home/jovyan/work/var/www/data.hector-seminar/test\n",
    "#!mkdir /home/jovyan/work/var/www/data.hector-seminar/test/JqUREqYduHw\n",
    "#!rm -rf /home/jovyan/work/var/www/data.hector-seminar/test/8kXzUBDuL9s"
   ]
  },
  {
   "cell_type": "code",
   "execution_count": null,
   "id": "f3c82bae-c068-4c9d-a97e-65efcff36017",
   "metadata": {},
   "outputs": [],
   "source": [
    "#!ls /home/jovyan/work/data2/images\n",
    "#!rm -rf /home/jovyan/work/data4/images/ISbvot/.ipynb_checkpoints"
   ]
  },
  {
   "cell_type": "markdown",
   "id": "8f465fe5-00f7-41dd-95dd-3e7d5053da25",
   "metadata": {},
   "source": [
    "# experiment / work"
   ]
  },
  {
   "cell_type": "code",
   "execution_count": null,
   "id": "240417b4-63a4-43ec-9eab-af41206cd562",
   "metadata": {},
   "outputs": [],
   "source": [
    "#_directory='/home/jovyan/work/data4/images'\n",
    "#_directory='/home/jovyan/work/data2/images'\n",
    "#_directory='/home/jovyan/work/data2/single2'\n",
    "_directory='/home/jovyan/work/data2/tokyo/'"
   ]
  },
  {
   "cell_type": "code",
   "execution_count": null,
   "id": "9ef626dd-3258-404a-996b-538266077c64",
   "metadata": {},
   "outputs": [],
   "source": [
    "_directory_list=sorted(listdir(_directory))"
   ]
  },
  {
   "cell_type": "code",
   "execution_count": null,
   "id": "de028d37-f770-48dd-83e6-4e52444b6a15",
   "metadata": {},
   "outputs": [],
   "source": [
    "_directory_list"
   ]
  },
  {
   "cell_type": "code",
   "execution_count": null,
   "id": "0cf8f562-49a8-4059-b204-7ebf217a5605",
   "metadata": {},
   "outputs": [],
   "source": [
    "_directory_list=[]\n",
    "for entry in sorted(listdir(_directory)):\n",
    "    if entry not in sorted(listdir('/home/jovyan/work/var/www/data.hector-seminar/test/')):\n",
    "        _directory_list.append(entry)\n"
   ]
  },
  {
   "cell_type": "code",
   "execution_count": null,
   "id": "e5953372-4a12-44ac-abb2-d47cc6ce24ad",
   "metadata": {},
   "outputs": [],
   "source": [
    "#print(len(sorted(listdir(_directory))))\n",
    "_dir=_directory_list[1]\n",
    "#_dir='WI4mP963GvE'\n",
    "_path=_directory + '/' + _dir\n",
    "display_dir_images_hour(_path,split_index=3)\n",
    "#display_dir_images_minute(_path,'10',split_index=3)\n",
    "#display_dir_images0('/home/jovyan/work/data2/skip/9USNTc7Gr4c')\n",
    "#display_dir_images_directories(_directory)\n",
    "#len(_directory_list), _directory_list"
   ]
  },
  {
   "cell_type": "code",
   "execution_count": null,
   "id": "2b117631-d292-4d2a-b187-69218442c455",
   "metadata": {},
   "outputs": [],
   "source": [
    "_dir\n",
    "#_directory_list"
   ]
  },
  {
   "cell_type": "code",
   "execution_count": null,
   "id": "ded40c59-4def-4fba-bc14-97f76ccd68ec",
   "metadata": {},
   "outputs": [],
   "source": [
    "app=_app_test\n",
    "_files= sorted(listdir(_path))\n",
    "_current = -1\n",
    "for _file in _files:\n",
    "    _path2 = _path + '/' + _file\n",
    "    print(_path2)    \n",
    "    print(_path2.split('_'))\n",
    "    print(_path2.split('_')[4].split('-')[2].split(':'))\n",
    "    time = _path2.split('_')[4].split('-')[2].split(':')\n",
    "    hour = time[0]\n",
    "    if _current != hour:\n",
    "        #print(_path2,hour,_current)\n",
    "        _current = hour\n",
    "        _image= {'image':Image.open(_path2)}\n",
    "        display(_dir , time, _path2)\n",
    "        #display(app._tab.evaluateWidgetActionList(image=_image)['image'])"
   ]
  },
  {
   "cell_type": "code",
   "execution_count": null,
   "id": "c210f34f-a218-464e-a85e-a235b1b13f97",
   "metadata": {},
   "outputs": [],
   "source": [
    "_files= sorted(listdir(_path))\n",
    "    _current = -1\n",
    "    for _file in _files:\n",
    "        _path2 = _path + '/' + _file\n",
    "        #print(_path2)    \n",
    "        try:\n",
    "            #print(_path2.split('_')[3].split('-')[2].split(':'))"
   ]
  },
  {
   "cell_type": "code",
   "execution_count": null,
   "id": "7c0aaef0-05bd-4152-bc36-8a30ffac6f02",
   "metadata": {},
   "outputs": [],
   "source": [
    "sorted(listdir(_path))"
   ]
  },
  {
   "cell_type": "markdown",
   "id": "266f12f4-49c3-4cd2-a8f2-1c9ad2c20dc3",
   "metadata": {},
   "source": [
    "### copy files to web server"
   ]
  },
  {
   "cell_type": "code",
   "execution_count": null,
   "id": "22c8dfe3-4d9c-43db-b513-4b77a89ef5ec",
   "metadata": {},
   "outputs": [],
   "source": [
    "_files = [\n",
    "'/home/jovyan/work/data4/images/HpdO5Kq3o7Y/HpdO5Kq3o7Y_5_1640037617.3795395_Dec-20-22:00:17-2021_.png',\n",
    "'/home/jovyan/work/data4/images/HpdO5Kq3o7Y/HpdO5Kq3o7Y_5_1640037951.7493029_Dec-20-22:05:51-2021_.png',\n",
    "'/home/jovyan/work/data4/images/HpdO5Kq3o7Y/HpdO5Kq3o7Y_5_1640038282.5878997_Dec-20-22:11:22-2021_.png',\n",
    "'/home/jovyan/work/data4/images/HpdO5Kq3o7Y/HpdO5Kq3o7Y_5_1640038620.7245889_Dec-20-22:17:00-2021_.png',\n",
    "'/home/jovyan/work/data4/images/HpdO5Kq3o7Y/HpdO5Kq3o7Y_5_1640038784.0560174_Dec-20-22:19:44-2021_.png',\n",
    "'/home/jovyan/work/data4/images/HpdO5Kq3o7Y/HpdO5Kq3o7Y_5_1640039272.673703_Dec-20-22:27:52-2021_.png',\n",
    "'/home/jovyan/work/data4/images/HpdO5Kq3o7Y/HpdO5Kq3o7Y_5_1640039441.6225734_Dec-20-22:30:41-2021_.png',\n",
    "'/home/jovyan/work/data4/images/HpdO5Kq3o7Y/HpdO5Kq3o7Y_5_1640039610.3964567_Dec-20-22:33:30-2021_.png',\n",
    "'/home/jovyan/work/data4/images/HpdO5Kq3o7Y/HpdO5Kq3o7Y_5_1640040103.7931623_Dec-20-22:41:43-2021_.png',\n",
    "'/home/jovyan/work/data4/images/HpdO5Kq3o7Y/HpdO5Kq3o7Y_5_1640040758.7373326_Dec-20-22:52:38-2021_.png',\n",
    "'/home/jovyan/work/data4/images/HpdO5Kq3o7Y/HpdO5Kq3o7Y_5_1640040921.8141193_Dec-20-22:55:21-2021_.png'\n",
    "]\n",
    "\n"
   ]
  },
  {
   "cell_type": "code",
   "execution_count": null,
   "id": "9a46fbb5-f69b-458c-8530-1381bb26a11f",
   "metadata": {},
   "outputs": [],
   "source": [
    "_files"
   ]
  },
  {
   "cell_type": "code",
   "execution_count": null,
   "id": "7a6a3921-8fe6-4346-9033-e17b5d4bac54",
   "metadata": {},
   "outputs": [],
   "source": [
    "# http://data.hector-seminar.research.dev.seeburger.de/test/\n",
    "destination='/home/jovyan/work/var/www/data.hector-seminar/test/' + _dir\n",
    "pathlib.Path(destination).mkdir(parents=True, exist_ok=True)\n",
    "for _file in _files:\n",
    "    #print(_file, destination)\n",
    "    shutil.copy(_file, destination)"
   ]
  },
  {
   "cell_type": "code",
   "execution_count": null,
   "id": "2a7ec595-2262-4458-9a03-484fcad6b1b1",
   "metadata": {},
   "outputs": [],
   "source": [
    "_directory='6We73xIdHy0'\n",
    "_files=['6We73xIdHy0_5_1639843996.9576826_Dec-18-16:13:16-2021_.png' ,'6We73xIdHy0_5_1639844842.2268715_Dec-18-16:27:22-2021_.png','6We73xIdHy0_5_1639845714.1446428_Dec-18-16:41:54-2021_.png' ,'6We73xIdHy0_5_1639846126.4700105_Dec-18-16:48:46-2021_.png']\n",
    "download_files(directory=_directory,files=_files)    "
   ]
  },
  {
   "cell_type": "markdown",
   "id": "54b08de3-44cc-4d36-bbb1-a54ca4f9513d",
   "metadata": {},
   "source": [
    "### create download script"
   ]
  },
  {
   "cell_type": "code",
   "execution_count": null,
   "id": "37096a22-1909-4e90-b60f-be3ea42d04c0",
   "metadata": {},
   "outputs": [],
   "source": [
    "def create_download_script(_path):\n",
    "    _files= sorted(listdir(_path))\n",
    "    for _file in _files:\n",
    "        _path2 = _path + '/' + _file\n",
    "        _files2= sorted(listdir(_path2))\n",
    "        _files2_list=[]\n",
    "        for _file2 in _files2:\n",
    "            _files2_list.append(_file2)\n",
    "            \n",
    "        print(\"!mkdir -p /home/jovyan/test/\" + _file)\n",
    "        print(\"_directory='\" + _file + \"'\")    \n",
    "        print('_files=' + str(_files2_list))    \n",
    "        print('download_files(directory=_directory,files=_files)')\n",
    "       \n",
    "create_download_script('/home/jovyan/work/var/www/data.hector-seminar/test/')    "
   ]
  },
  {
   "cell_type": "code",
   "execution_count": null,
   "id": "2e6e0e3c-ac9f-469a-af90-e911730e8184",
   "metadata": {},
   "outputs": [],
   "source": [
    "sorted(listdir('/home/jovyan/work/var/www/data.hector-seminar/test/'))"
   ]
  },
  {
   "cell_type": "code",
   "execution_count": null,
   "id": "7c3da06d-dd75-4388-82cd-7a390f4b562f",
   "metadata": {},
   "outputs": [],
   "source": [
    "_path\n",
    "pathlib.Path(destination).mkdir(parents=True, exist_ok=True)"
   ]
  },
  {
   "cell_type": "code",
   "execution_count": null,
   "id": "16233aaf-2f39-4486-a0dc-d8c0ca541c14",
   "metadata": {},
   "outputs": [],
   "source": [
    "_directory='/home/jovyan/work/data2/images'\n",
    "listdir(_directory)"
   ]
  },
  {
   "cell_type": "code",
   "execution_count": null,
   "id": "0a2931ef-f91b-44bf-8a4a-793a29e771cd",
   "metadata": {},
   "outputs": [],
   "source": [
    "listdir('../../../../../Dec-18/AdUw5RdyZxI/.ipynb_checkpoints')"
   ]
  },
  {
   "cell_type": "code",
   "execution_count": null,
   "id": "80117c65-ac03-495b-9795-17d514d12ef0",
   "metadata": {},
   "outputs": [],
   "source": [
    "# add directory to current list\n",
    "app= _app_test\n",
    "_video = app._tab._widgets[0]\n",
    "_directory='../../../../../Dec-18'\n",
    "_file=listdir(_directory)[0]\n",
    "_path=_directory + '/' + _file\n",
    "_video.video_directory.value=_path\n",
    "_video.add_new_directory(_path)\n",
    "_video.video_filename.value='test1.json'\n",
    "_video.on_video_save_button_clicked('')   "
   ]
  },
  {
   "cell_type": "code",
   "execution_count": null,
   "id": "4d01ccdf-6d33-4209-ba65-ae810c52b6f5",
   "metadata": {},
   "outputs": [],
   "source": [
    "_directory = app._displayWidget.action.directory\n",
    "_files= sorted(listdir(_directory))"
   ]
  },
  {
   "cell_type": "code",
   "execution_count": null,
   "id": "a9b43114-5598-4daf-b3a1-5a9ed27d2630",
   "metadata": {},
   "outputs": [],
   "source": [
    "_files[0].split('_')[3].split('-')"
   ]
  },
  {
   "cell_type": "code",
   "execution_count": null,
   "id": "a43e99cb-9d11-49f8-9397-0a3fad98f9fc",
   "metadata": {},
   "outputs": [],
   "source": [
    "_directory='/home/jovyan/work/data2/images'\n",
    "_sub_directory=listdir(_directory)[6]\n",
    "\n",
    "_path = _directory + '/' + _sub_directory\n",
    "_sub_files=sorted(listdir(_path))\n",
    "_app_test._tab.displayWidget.image=Image.open(_path + '/' + _sub_files[10])\n",
    "\n",
    "_img1 = _app_test._tab.evaluateWidgetActionList({'image':_app_test._tab.displayWidget.image})['image']\n",
    "\n",
    "\n",
    "\n",
    "#"
   ]
  },
  {
   "cell_type": "code",
   "execution_count": null,
   "id": "87827ead-083a-4656-96c5-36377a4b9e4b",
   "metadata": {},
   "outputs": [],
   "source": [
    "#cv2.subtract(_img1,_img2)\n",
    "\n",
    "buffer1    = np.asarray(_img1)\n",
    "buffer2    = np.asarray(_img2)\n",
    "buffer3    = buffer1 - buffer2\n",
    "display(Image.fromarray(buffer1))\n",
    "display(Image.fromarray(buffer2))\n",
    "#buffer1"
   ]
  },
  {
   "cell_type": "code",
   "execution_count": null,
   "id": "9981ac7e-a1c1-442c-b04a-190cc178cfc6",
   "metadata": {},
   "outputs": [],
   "source": [
    "#https://www.py4u.net/discuss/14401\n",
    "\n",
    "image1 = cv2.imread(_path + '/' + _sub_files[10])\n",
    "image2 = cv2.imread(_path + '/' + _sub_files[110])\n",
    "difference = cv2.subtract(image1, image2)\n",
    "\n",
    "# color the mask red\n",
    "Conv_hsv_Gray = cv2.cvtColor(difference, cv2.COLOR_BGR2GRAY)\n",
    "ret, mask = cv2.threshold(Conv_hsv_Gray, 0, 255,cv2.THRESH_BINARY_INV |cv2.THRESH_OTSU)\n",
    "difference[mask != 255] = [0, 0, 255]\n",
    "\n",
    "# add the red mask to the images to make the differences obvious\n",
    "image1[mask != 255] = [0, 0, 255]\n",
    "image2[mask != 255] = [0, 0, 255]\n",
    "\n",
    "# store images\n",
    "cv2.imwrite('diffOverImage1.png', image1)\n",
    "cv2.imwrite('diffOverImage2.png', image1)\n",
    "cv2.imwrite('diff.png', difference)"
   ]
  },
  {
   "cell_type": "code",
   "execution_count": null,
   "id": "dcd4ac15-1cb4-428e-a6bc-db1438f470fd",
   "metadata": {},
   "outputs": [],
   "source": [
    "from skimage.metrics import structural_similarity\n",
    "import cv2\n",
    "import numpy as np\n",
    "\n",
    "before = image1\n",
    "after = image2\n",
    "\n",
    "# Convert images to grayscale\n",
    "before_gray = cv2.cvtColor(before, cv2.COLOR_BGR2GRAY)\n",
    "after_gray = cv2.cvtColor(after, cv2.COLOR_BGR2GRAY)\n",
    "\n",
    "# Compute SSIM between two images\n",
    "(score, diff) = structural_similarity(before_gray, after_gray, full=True)\n",
    "print(\"Image similarity\", score)\n",
    "\n",
    "# The diff image contains the actual image differences between the two images\n",
    "# and is represented as a floating point data type in the range [0,1] \n",
    "# so we must convert the array to 8-bit unsigned integers in the range\n",
    "# [0,255] before we can use it with OpenCV\n",
    "diff = (diff * 255).astype(\"uint8\")\n",
    "\n",
    "# Threshold the difference image, followed by finding contours to\n",
    "# obtain the regions of the two input images that differ\n",
    "thresh = cv2.threshold(diff, 0, 255, cv2.THRESH_BINARY_INV | cv2.THRESH_OTSU)[1]\n",
    "contours = cv2.findContours(thresh.copy(), cv2.RETR_EXTERNAL, cv2.CHAIN_APPROX_SIMPLE)\n",
    "contours = contours[0] if len(contours) == 2 else contours[1]\n",
    "\n",
    "mask = np.zeros(before.shape, dtype='uint8')\n",
    "filled_after = after.copy()\n",
    "\n",
    "for c in contours:\n",
    "    area = cv2.contourArea(c)\n",
    "    if area > 40:\n",
    "        x,y,w,h = cv2.boundingRect(c)\n",
    "        cv2.rectangle(before, (x, y), (x + w, y + h), (36,255,12), 2)\n",
    "        cv2.rectangle(after, (x, y), (x + w, y + h), (36,255,12), 2)\n",
    "        cv2.drawContours(mask, [c], 0, (0,255,0), -1)\n",
    "        cv2.drawContours(filled_after, [c], 0, (0,255,0), -1)\n",
    "\n",
    "#cv2.imshow('before', before)\n",
    "#cv2.imshow('after', after)\n",
    "#cv2.imshow('diff',diff)\n",
    "#cv2.imshow('mask',mask)\n",
    "#cv2.imshow('filled after',filled_after)\n",
    "#cv2.waitKey(0)\n",
    "cv2.imwrite('filled_after.png', filled_after)\n",
    "cv2.imwrite('mask.png', mask)"
   ]
  },
  {
   "cell_type": "code",
   "execution_count": null,
   "id": "f1569f01-e3c3-4f51-83ac-61240d2782db",
   "metadata": {},
   "outputs": [],
   "source": [
    "filled after"
   ]
  },
  {
   "cell_type": "code",
   "execution_count": null,
   "id": "f6f6fa87-1eda-44fa-9153-3db05fbe1819",
   "metadata": {},
   "outputs": [],
   "source": [
    "#app= _app_test\n",
    "#app._displayWidget.action.getPath()"
   ]
  },
  {
   "cell_type": "code",
   "execution_count": null,
   "id": "d83d4c50-c4f1-44bd-b86c-792c205d5f5f",
   "metadata": {},
   "outputs": [],
   "source": [
    "#!mkdir -p ../../../../../test/6We73xIdHy0/\n",
    "#!cp ../../../../../Dec-18/6We73xIdHy0/6We73xIdHy0_5_1639843996.9576826_Dec-18-16:13:16-2021_.png ../../../../../test/6We73xIdHy0/"
   ]
  },
  {
   "cell_type": "code",
   "execution_count": null,
   "id": "9ea5e4a6-bbf1-47da-a636-c67721d116da",
   "metadata": {},
   "outputs": [],
   "source": [
    "#!ls ../data/images/single"
   ]
  },
  {
   "cell_type": "code",
   "execution_count": null,
   "id": "391706c3-11f4-4339-87da-7a774c2e5aed",
   "metadata": {},
   "outputs": [],
   "source": [
    "def create_single_video_files(app,video_url_id_list=None):\n",
    "    _video = app._tab._widgets[0]   \n",
    "    for result in video_url_id_list:\n",
    "        _video.on_video_new_button_clicked('')  \n",
    "        _video.video_url.value=result[1]\n",
    "        _video.add_new_video(result[1])\n",
    "        _video.video_filename.value='../data/videos/single/images_'+result[0]+'.json'\n",
    "        _video.on_video_save_button_clicked('')    "
   ]
  },
  {
   "cell_type": "code",
   "execution_count": null,
   "id": "58de853c-06d1-4415-811f-4db6c807bb8d",
   "metadata": {},
   "outputs": [],
   "source": [
    "#_action = ImageAction()\n",
    "#_action.evaluate()"
   ]
  },
  {
   "cell_type": "code",
   "execution_count": null,
   "id": "7ea0f98d-fdc9-479f-8bcc-54e672b2ffd7",
   "metadata": {},
   "outputs": [],
   "source": [
    "\"\"\"\n",
    "from os import listdir\n",
    "app=_app_test\n",
    "directory = app._tab._widgets[0].action.directory\n",
    "\n",
    "\n",
    "app._tab._widgets[0].action.evaluate()['image']        \n",
    "app._tab._widgets[0].action.position       \n",
    "\"\"\""
   ]
  },
  {
   "cell_type": "code",
   "execution_count": null,
   "id": "91d834c2-d0f7-43b6-a2d1-b5956d188bad",
   "metadata": {},
   "outputs": [],
   "source": [
    "#app= _app_test\n",
    "#app._displayWidget.action = ImageAction()"
   ]
  },
  {
   "cell_type": "code",
   "execution_count": null,
   "id": "fdc8d2df-c080-48b5-98f8-a8176e341c32",
   "metadata": {},
   "outputs": [],
   "source": [
    "#app._displayWidget.evaluate()['image']"
   ]
  },
  {
   "cell_type": "code",
   "execution_count": null,
   "id": "52dff0a6-12f4-43b0-a276-76d1b50f04a1",
   "metadata": {},
   "outputs": [],
   "source": [
    "#../../../../../Dec-18"
   ]
  },
  {
   "cell_type": "code",
   "execution_count": null,
   "id": "2a992ecd-8479-4c18-9b9c-2e5bb3efacff",
   "metadata": {},
   "outputs": [],
   "source": [
    "#app=_app_test\n",
    "#app._tab._widgets[0].sources.get_keys()\n",
    "#LiveVideoSources('test1.json').__dict__"
   ]
  },
  {
   "cell_type": "code",
   "execution_count": null,
   "id": "0a11f011-840a-49f5-b0e7-44d1f03a3744",
   "metadata": {},
   "outputs": [],
   "source": [
    "#app._tab._widgets[0].__dict__"
   ]
  },
  {
   "cell_type": "markdown",
   "id": "97d469bd-8b32-4192-81e9-c80b947be5a9",
   "metadata": {},
   "source": [
    "# download images"
   ]
  },
  {
   "cell_type": "code",
   "execution_count": 1,
   "id": "75b7e3fc-ec46-4b6b-a4f7-255cf66bc1b4",
   "metadata": {},
   "outputs": [],
   "source": [
    "import subprocess\n",
    "def downloadToLocal(host='data.hector-seminar.research.dev.seeburger.de:80',user='hector', pwd='H=U?Uc8L9V',\n",
    "                    local_path='/home/jovyan', local_name='test' ,remote_path='test/6We73xIdHy0'):  \n",
    "    try:    \n",
    "        output = subprocess.check_output(['curl', '--user',user + ':' + pwd, \n",
    "                                               'http://' + host + '/' + remote_path + '/' + local_name, '-o', local_path + '/' + local_name])\n",
    "        #return str(callProcess)[3:-3]\n",
    "        #return output.decode('ascii')\n",
    "        return output\n",
    "    except Exception as e:\n",
    "        return str(e)     \n",
    "    \n",
    "def download_files(directory=None,files=None):    \n",
    "    for file in files:\n",
    "        downloadToLocal(local_name=file, remote_path='test/' + directory, local_path='/home/jovyan/test/' + directory )    "
   ]
  },
  {
   "cell_type": "code",
   "execution_count": 2,
   "id": "19c47304-b514-4e77-9b95-8e53854227bb",
   "metadata": {},
   "outputs": [
    {
     "data": {
      "text/plain": [
       "b''"
      ]
     },
     "execution_count": 2,
     "metadata": {},
     "output_type": "execute_result"
    }
   ],
   "source": [
    "!mkdir -p /home/jovyan/test2/HpdO5Kq3o7Y\n",
    "!mkdir -p /home/jovyan/test2/KIXprc4-ifE\n",
    "downloadToLocal(local_name='KIXprc4-ifE.tar', remote_path='test2/', local_path='/home/jovyan/test2/')\n",
    "downloadToLocal(local_name='HpdO5Kq3o7Y.tar', remote_path='test2/', local_path='/home/jovyan/test2/')\n",
    "downloadToLocal(local_name='HpdO5Kq3o7Y_2.tar', remote_path='test2/', local_path='/home/jovyan/test2/')"
   ]
  },
  {
   "cell_type": "code",
   "execution_count": null,
   "id": "cf576ad3-cf60-4e44-888c-bcd8d5aa3867",
   "metadata": {},
   "outputs": [],
   "source": [
    "!mkdir -p /home/pi/jupyter/test/-Dla8twqg\n",
    "!mkdir -p /home/pi/jupyter/test/-rjDeUjXlEs \n",
    "!mkdir -p /home/pi/jupyter/test/6We73xIdHy0 \n",
    "!mkdir -p /home/pi/jupyter/test/ns8y0SVcJGA"
   ]
  },
  {
   "cell_type": "code",
   "execution_count": null,
   "id": "64d9ee5a-c5cc-4b46-8f42-d29fbe1494f3",
   "metadata": {},
   "outputs": [],
   "source": [
    "!mkdir -p /home/jovyan/test/--j76C1hX08"
   ]
  },
  {
   "cell_type": "code",
   "execution_count": null,
   "id": "eaf4be6e-314d-4504-bb52-a3ac9e156fd0",
   "metadata": {},
   "outputs": [],
   "source": [
    "!mkdir -p /home/jovyan/test/--j76C1hX08\n",
    "_directory='--j76C1hX08'\n",
    "_files=['--j76C1hX08_5_1640009372.5270877_Dec-20-14:09:32-2021_.png', '--j76C1hX08_5_1640009580.6175644_Dec-20-14:13:00-2021_.png', '--j76C1hX08_5_1640009700.707256_Dec-20-14:15:00-2021_.png']\n",
    "download_files(directory=_directory,files=_files)\n",
    "!mkdir -p /home/jovyan/test/-Dla8twqg\n",
    "_directory='-Dla8twqg'\n",
    "_files=['-Dla8twqg_U_5_1639845040.3547864_Dec-18-16:30:40-2021_.png', '-Dla8twqg_U_5_1639845983.399166_Dec-18-16:46:23-2021_.png']\n",
    "download_files(directory=_directory,files=_files)\n",
    "!mkdir -p /home/jovyan/test/-rjDeUjXlEs\n",
    "_directory='-rjDeUjXlEs'\n",
    "_files=['-rjDeUjXlEs_5_1639844100.692022_Dec-18-16:15:00-2021_.png', '-rjDeUjXlEs_5_1639845615.294747_Dec-18-16:40:15-2021_.png']\n",
    "download_files(directory=_directory,files=_files)\n",
    "!mkdir -p /home/jovyan/test/00s-daBWCZA\n",
    "_directory='00s-daBWCZA'\n",
    "_files=['00s-daBWCZA_4_1640016040.1321337_Dec-20-16:00:40-2021_.png', '00s-daBWCZA_4_1640016522.301575_Dec-20-16:08:42-2021_.png', '00s-daBWCZA_4_1640017591.940544_Dec-20-16:26:31-2021_.png']\n",
    "download_files(directory=_directory,files=_files)\n",
    "!mkdir -p /home/jovyan/test/0J1Y1MlPCUY\n",
    "_directory='0J1Y1MlPCUY'\n",
    "_files=['0J1Y1MlPCUY_4_1639999197.2553618_Dec-20-11:19:57-2021_.png', '0J1Y1MlPCUY_4_1639999728.0538456_Dec-20-11:28:48-2021_.png', '0J1Y1MlPCUY_4_1640000596.0818768_Dec-20-11:43:16-2021_.png', '0J1Y1MlPCUY_4_1640001113.4508495_Dec-20-11:51:53-2021_.png', '0J1Y1MlPCUY_4_1640001966.998986_Dec-20-12:06:06-2021_.png', '0J1Y1MlPCUY_4_1640005344.7188275_Dec-20-13:02:24-2021_.png', '0J1Y1MlPCUY_4_1640007242.7303777_Dec-20-13:34:02-2021_.png', '0J1Y1MlPCUY_4_1640008274.130475_Dec-20-13:51:14-2021_.png', '0J1Y1MlPCUY_4_1640009918.9012733_Dec-20-14:18:38-2021_.png', '0J1Y1MlPCUY_4_1640011121.3509896_Dec-20-14:38:41-2021_.png', '0J1Y1MlPCUY_4_1640012318.55269_Dec-20-14:58:38-2021_.png', '0J1Y1MlPCUY_4_1640066410.007971_Dec-21-06:00:10-2021_.png']\n",
    "download_files(directory=_directory,files=_files)\n",
    "!mkdir -p /home/jovyan/test/2WzUGFz03v8\n",
    "_directory='2WzUGFz03v8'\n",
    "_files=['2WzUGFz03v8_4_1640023202.7436523_Dec-20-18:00:02-2021_.png', '2WzUGFz03v8_4_1640023387.6970866_Dec-20-18:03:07-2021_.png', '2WzUGFz03v8_4_1640023747.8207397_Dec-20-18:09:07-2021_.png', '2WzUGFz03v8_4_1640024645.82968_Dec-20-18:24:05-2021_.png', '2WzUGFz03v8_4_1640025868.171577_Dec-20-18:44:28-2021_.png', '2WzUGFz03v8_4_1640026232.928357_Dec-20-18:50:32-2021_.png', '2WzUGFz03v8_4_1640026772.9320524_Dec-20-18:59:32-2021_.png', '2WzUGFz03v8_4_1640027317.9464872_Dec-20-19:08:37-2021_.png', '2WzUGFz03v8_4_1640029867.3515117_Dec-20-19:51:07-2021_.png', '2WzUGFz03v8_4_1640030051.2898874_Dec-20-19:54:11-2021_.png', '2WzUGFz03v8_4_1640030398.4072056_Dec-20-19:59:58-2021_.png']\n",
    "download_files(directory=_directory,files=_files)\n",
    "!mkdir -p /home/jovyan/test/4YFHDjig1hc\n",
    "_directory='4YFHDjig1hc'\n",
    "_files=['4YFHDjig1hc_4_1640028138.9307177_Dec-20-19:22:18-2021_.png', '4YFHDjig1hc_4_1640028319.320386_Dec-20-19:25:19-2021_.png', '4YFHDjig1hc_4_1640028681.763179_Dec-20-19:31:21-2021_.png', '4YFHDjig1hc_4_1640028861.9769592_Dec-20-19:34:21-2021_.png', '4YFHDjig1hc_4_1640029955.471752_Dec-20-19:52:35-2021_.png']\n",
    "download_files(directory=_directory,files=_files)\n",
    "!mkdir -p /home/jovyan/test/6QQgDyKQTJ0\n",
    "_directory='6QQgDyKQTJ0'\n",
    "_files=['6QQgDyKQTJ0_4_1640026881.9643528_Dec-20-19:01:21-2021_.png', '6QQgDyKQTJ0_4_1640027060.5949383_Dec-20-19:04:20-2021_.png', '6QQgDyKQTJ0_4_1640027245.2473106_Dec-20-19:07:25-2021_.png', '6QQgDyKQTJ0_4_1640027422.8791764_Dec-20-19:10:22-2021_.png', '6QQgDyKQTJ0_4_1640028153.380881_Dec-20-19:22:33-2021_.png', '6QQgDyKQTJ0_4_1640028510.149958_Dec-20-19:28:30-2021_.png', '6QQgDyKQTJ0_4_1640029431.4692886_Dec-20-19:43:51-2021_.png']\n",
    "download_files(directory=_directory,files=_files)\n",
    "!mkdir -p /home/jovyan/test/6We73xIdHy0\n",
    "_directory='6We73xIdHy0'\n",
    "_files=['6We73xIdHy0_5_1639843996.9576826_Dec-18-16:13:16-2021_.png', '6We73xIdHy0_5_1639844842.2268715_Dec-18-16:27:22-2021_.png', '6We73xIdHy0_5_1639845714.1446428_Dec-18-16:41:54-2021_.png', '6We73xIdHy0_5_1639846126.4700105_Dec-18-16:48:46-2021_.png']\n",
    "download_files(directory=_directory,files=_files)\n",
    "!mkdir -p /home/jovyan/test/8kXzUBDuL9s\n",
    "_directory='8kXzUBDuL9s'\n",
    "_files=['8kXzUBDuL9s_4_1640723280.676102_Dec-28-20:28:00-2021_.png']\n",
    "download_files(directory=_directory,files=_files)\n",
    "!mkdir -p /home/jovyan/test/8nPev44Jq4s\n",
    "_directory='8nPev44Jq4s'\n",
    "_files=['8nPev44Jq4s_5_1640026835.609548_Dec-20-19:00:35-2021_.png', '8nPev44Jq4s_5_1640027014.2297947_Dec-20-19:03:34-2021_.png', '8nPev44Jq4s_5_1640027378.3847191_Dec-20-19:09:38-2021_.png', '8nPev44Jq4s_5_1640028463.341526_Dec-20-19:27:43-2021_.png', '8nPev44Jq4s_5_1640029750.1789997_Dec-20-19:49:10-2021_.png', '8nPev44Jq4s_5_1640030110.5803103_Dec-20-19:55:10-2021_.png']\n",
    "download_files(directory=_directory,files=_files)\n",
    "!mkdir -p /home/jovyan/test/9En2186vo5g\n",
    "_directory='9En2186vo5g'\n",
    "_files=['9En2186vo5g_4_1640016153.047496_Dec-20-16:02:33-2021_.png', '9En2186vo5g_4_1640016819.8472202_Dec-20-16:13:39-2021_.png', '9En2186vo5g_4_1640018047.9946377_Dec-20-16:34:07-2021_.png', '9En2186vo5g_4_1640019973.026037_Dec-20-17:06:13-2021_.png', '9En2186vo5g_4_1640020158.1524718_Dec-20-17:09:18-2021_.png', '9En2186vo5g_4_1640021416.8467917_Dec-20-17:30:16-2021_.png', '9En2186vo5g_4_1640021599.1796255_Dec-20-17:33:19-2021_.png', '9En2186vo5g_4_1640022326.146051_Dec-20-17:45:26-2021_.png', '9En2186vo5g_4_1640023034.8818514_Dec-20-17:57:14-2021_.png']\n",
    "download_files(directory=_directory,files=_files)\n",
    "!mkdir -p /home/jovyan/test/9USNTc7Gr4c\n",
    "_directory='9USNTc7Gr4c'\n",
    "_files=['9USNTc7Gr4c_5_1640109601.4231722_Dec-21-18:00:01-2021_.png', '9USNTc7Gr4c_5_1640109660.4309068_Dec-21-18:01:00-2021_.png', '9USNTc7Gr4c_5_1640109720.6690931_Dec-21-18:02:00-2021_.png', '9USNTc7Gr4c_5_1640109780.7379565_Dec-21-18:03:00-2021_.png', '9USNTc7Gr4c_5_1640110020.5070672_Dec-21-18:07:00-2021_.png', '9USNTc7Gr4c_5_1640110501.6297765_Dec-21-18:15:01-2021_.png', '9USNTc7Gr4c_5_1640110560.0437052_Dec-21-18:16:00-2021_.png', '9USNTc7Gr4c_5_1640110620.2332668_Dec-21-18:17:00-2021_.png', '9USNTc7Gr4c_5_1640110740.4273865_Dec-21-18:19:00-2021_.png', '9USNTc7Gr4c_5_1640110860.0910325_Dec-21-18:21:00-2021_.png', '9USNTc7Gr4c_5_1640110980.9256692_Dec-21-18:23:00-2021_.png', '9USNTc7Gr4c_5_1640111161.1082823_Dec-21-18:26:01-2021_.png', '9USNTc7Gr4c_5_1640111281.0561013_Dec-21-18:28:01-2021_.png', '9USNTc7Gr4c_5_1640111581.0126078_Dec-21-18:33:01-2021_.png']\n",
    "download_files(directory=_directory,files=_files)\n",
    "!mkdir -p /home/jovyan/test/AdUw5RdyZxI\n",
    "_directory='AdUw5RdyZxI'\n",
    "_files=['AdUw5RdyZxI_5_1640095861.0455012_Dec-21-14:11:01-2021_.png', 'AdUw5RdyZxI_5_1640095920.571344_Dec-21-14:12:00-2021_.png', 'AdUw5RdyZxI_5_1640097901.5328069_Dec-21-14:45:01-2021_.png', 'AdUw5RdyZxI_5_1640097961.2300024_Dec-21-14:46:01-2021_.png', 'AdUw5RdyZxI_5_1640183821.7166307_Dec-22-14:37:01-2021_.png']\n",
    "download_files(directory=_directory,files=_files)\n",
    "!mkdir -p /home/jovyan/test/BJtkzEa6Tbg\n",
    "_directory='BJtkzEa6Tbg'\n",
    "_files=['BJtkzEa6Tbg_5_1639998623.7071664_Dec-20-11:10:23-2021_.png', 'BJtkzEa6Tbg_5_1640000716.4885533_Dec-20-11:45:16-2021_.png', 'BJtkzEa6Tbg_5_1640001238.5416298_Dec-20-11:53:58-2021_.png', 'BJtkzEa6Tbg_5_1640005130.6239321_Dec-20-12:58:50-2021_.png']\n",
    "download_files(directory=_directory,files=_files)\n",
    "!mkdir -p /home/jovyan/test/BlywGRXC1B0\n",
    "_directory='BlywGRXC1B0'\n",
    "_files=['BlywGRXC1B0_5_1640001631.793941_Dec-20-12:00:31-2021_.png', 'BlywGRXC1B0_5_1640001805.1956947_Dec-20-12:03:25-2021_.png', 'BlywGRXC1B0_5_1640001975.228191_Dec-20-12:06:15-2021_.png', 'BlywGRXC1B0_5_1640002150.7839584_Dec-20-12:09:10-2021_.png', 'BlywGRXC1B0_5_1640005184.2125006_Dec-20-12:59:44-2021_.png', 'BlywGRXC1B0_5_1640005351.0222468_Dec-20-13:02:31-2021_.png', 'BlywGRXC1B0_5_1640005521.8962455_Dec-20-13:05:21-2021_.png', 'BlywGRXC1B0_5_1640005900.4228654_Dec-20-13:11:40-2021_.png', 'BlywGRXC1B0_5_1640006234.6479208_Dec-20-13:17:14-2021_.png', 'BlywGRXC1B0_5_1640006908.9783013_Dec-20-13:28:28-2021_.png', 'BlywGRXC1B0_5_1640007432.4528887_Dec-20-13:37:12-2021_.png', 'BlywGRXC1B0_5_1640008785.779891_Dec-20-13:59:45-2021_.png']\n",
    "download_files(directory=_directory,files=_files)\n",
    "!mkdir -p /home/jovyan/test/CHd0z44hTQc\n",
    "_directory='CHd0z44hTQc'\n",
    "_files=['CHd0z44hTQc_5_1640023210.4788208_Dec-20-18:00:10-2021_.png', 'CHd0z44hTQc_5_1640023938.3253567_Dec-20-18:12:18-2021_.png', 'CHd0z44hTQc_5_1640024475.2409961_Dec-20-18:21:15-2021_.png', 'CHd0z44hTQc_5_1640024835.1881068_Dec-20-18:27:15-2021_.png', 'CHd0z44hTQc_5_1640026780.4108078_Dec-20-18:59:40-2021_.png']\n",
    "download_files(directory=_directory,files=_files)\n",
    "!mkdir -p /home/jovyan/test/Cp4RRAEgpeU\n",
    "_directory='Cp4RRAEgpeU'\n",
    "_files=['Cp4RRAEgpeU_5_1640088000.7740967_Dec-21-12:00:00-2021_.png', 'Cp4RRAEgpeU_5_1640088121.0986805_Dec-21-12:02:01-2021_.png', 'Cp4RRAEgpeU_5_1640088180.596131_Dec-21-12:03:00-2021_.png', 'Cp4RRAEgpeU_5_1640088240.6479719_Dec-21-12:04:00-2021_.png', 'Cp4RRAEgpeU_5_1640088360.198923_Dec-21-12:06:00-2021_.png', 'Cp4RRAEgpeU_5_1640088421.0687432_Dec-21-12:07:01-2021_.png', 'Cp4RRAEgpeU_5_1640088720.6313288_Dec-21-12:12:00-2021_.png', 'Cp4RRAEgpeU_5_1640088840.468561_Dec-21-12:14:00-2021_.png', 'Cp4RRAEgpeU_5_1640088900.143485_Dec-21-12:15:00-2021_.png', 'Cp4RRAEgpeU_5_1640089141.0850716_Dec-21-12:19:01-2021_.png', 'Cp4RRAEgpeU_5_1640089860.2938406_Dec-21-12:31:00-2021_.png', 'Cp4RRAEgpeU_5_1640090220.028596_Dec-21-12:37:00-2021_.png', 'Cp4RRAEgpeU_5_1640090760.6175616_Dec-21-12:46:00-2021_.png']\n",
    "download_files(directory=_directory,files=_files)\n",
    "!mkdir -p /home/jovyan/test/DQe\n",
    "_directory='DQe'\n",
    "_files=['DQe_EvBae_I_5_1640008918.750055_Dec-20-14:01:58-2021_.png', 'DQe_EvBae_I_5_1640016056.3782907_Dec-20-16:00:56-2021_.png', 'DQe_EvBae_I_5_1640019690.1747112_Dec-20-17:01:30-2021_.png', 'DQe_EvBae_I_5_1640019873.1439593_Dec-20-17:04:33-2021_.png', 'DQe_EvBae_I_5_1640020058.9518125_Dec-20-17:07:38-2021_.png', 'DQe_EvBae_I_5_1640020239.2062647_Dec-20-17:10:39-2021_.png', 'DQe_EvBae_I_5_1640020599.33224_Dec-20-17:16:39-2021_.png', 'DQe_EvBae_I_5_1640020780.6465435_Dec-20-17:19:40-2021_.png', 'DQe_EvBae_I_5_1640020961.7893555_Dec-20-17:22:41-2021_.png', 'DQe_EvBae_I_5_1640021142.6959314_Dec-20-17:25:42-2021_.png', 'DQe_EvBae_I_5_1640021321.418683_Dec-20-17:28:41-2021_.png', 'DQe_EvBae_I_5_1640021683.1219301_Dec-20-17:34:43-2021_.png', 'DQe_EvBae_I_5_1640022585.9169862_Dec-20-17:49:45-2021_.png', 'DQe_EvBae_I_5_1640022938.6336412_Dec-20-17:55:38-2021_.png']\n",
    "download_files(directory=_directory,files=_files)\n",
    "!mkdir -p /home/jovyan/test/EXvKXsmAmPg\n",
    "_directory='EXvKXsmAmPg'\n",
    "_files=['EXvKXsmAmPg_5_1640012572.6989288_Dec-20-15:02:52-2021_.png', 'EXvKXsmAmPg_5_1640014079.4579337_Dec-20-15:27:59-2021_.png', 'EXvKXsmAmPg_5_1640015120.7474515_Dec-20-15:45:20-2021_.png', 'EXvKXsmAmPg_5_1640015295.2704635_Dec-20-15:48:15-2021_.png', 'EXvKXsmAmPg_5_1640015816.4955277_Dec-20-15:56:56-2021_.png']\n",
    "download_files(directory=_directory,files=_files)\n",
    "!mkdir -p /home/jovyan/test/Eif56OH4Fc0\n",
    "_directory='Eif56OH4Fc0'\n",
    "_files=['Eif56OH4Fc0_5_1640005335.1308434_Dec-20-13:02:15-2021_.png', 'Eif56OH4Fc0_5_1640008938.7312765_Dec-20-14:02:18-2021_.png', 'Eif56OH4Fc0_5_1640012482.1341233_Dec-20-15:01:22-2021_.png', 'Eif56OH4Fc0_5_1640016075.3405633_Dec-20-16:01:15-2021_.png', 'Eif56OH4Fc0_5_1640019711.8076475_Dec-20-17:01:51-2021_.png', 'Eif56OH4Fc0_5_1640023320.6748688_Dec-20-18:02:00-2021_.png', 'Eif56OH4Fc0_5_1640034095.013939_Dec-20-21:01:35-2021_.png', 'Eif56OH4Fc0_5_1640037530.783244_Dec-20-21:58:50-2021_.png', 'Eif56OH4Fc0_5_1640037694.8761313_Dec-20-22:01:34-2021_.png', 'Eif56OH4Fc0_5_1640038698.5015962_Dec-20-22:18:18-2021_.png', 'Eif56OH4Fc0_5_1640040837.6124203_Dec-20-22:53:57-2021_.png', 'Eif56OH4Fc0_5_1640041322.7109888_Dec-20-23:02:02-2021_.png']\n",
    "download_files(directory=_directory,files=_files)\n",
    "!mkdir -p /home/jovyan/test/G05wmWFDtSo\n",
    "_directory='G05wmWFDtSo'\n",
    "_files=['G05wmWFDtSo_5_1639998498.7192855_Dec-20-11:08:18-2021_.png', 'G05wmWFDtSo_5_1639999056.041788_Dec-20-11:17:36-2021_.png', 'G05wmWFDtSo_5_1639999410.102958_Dec-20-11:23:30-2021_.png', 'G05wmWFDtSo_5_1639999584.1740987_Dec-20-11:26:24-2021_.png', 'G05wmWFDtSo_5_1639999760.0281742_Dec-20-11:29:20-2021_.png', 'G05wmWFDtSo_5_1639999934.2555947_Dec-20-11:32:14-2021_.png', 'G05wmWFDtSo_5_1640000274.9405773_Dec-20-11:37:54-2021_.png', 'G05wmWFDtSo_5_1640000629.6262517_Dec-20-11:43:49-2021_.png', 'G05wmWFDtSo_5_1640000970.0608006_Dec-20-11:49:30-2021_.png', 'G05wmWFDtSo_5_1640001831.0778499_Dec-20-12:03:51-2021_.png']\n",
    "download_files(directory=_directory,files=_files)\n",
    "!mkdir -p /home/jovyan/test/HmBoxDwR2I8\n",
    "_directory='HmBoxDwR2I8'\n",
    "_files=['HmBoxDwR2I8_4_1640030666.729953_Dec-20-20:04:26-2021_.png', 'HmBoxDwR2I8_4_1640031717.3631184_Dec-20-20:21:57-2021_.png', 'HmBoxDwR2I8_4_1640033403.7317288_Dec-20-20:50:03-2021_.png', 'HmBoxDwR2I8_4_1640033572.486633_Dec-20-20:52:52-2021_.png', 'HmBoxDwR2I8_4_1640034070.6503878_Dec-20-21:01:10-2021_.png', 'HmBoxDwR2I8_4_1640035510.9744768_Dec-20-21:25:10-2021_.png', 'HmBoxDwR2I8_4_1640036351.2583048_Dec-20-21:39:11-2021_.png', 'HmBoxDwR2I8_4_1640036518.3169036_Dec-20-21:41:58-2021_.png']\n",
    "download_files(directory=_directory,files=_files)\n",
    "!mkdir -p /home/jovyan/test/HpdO5Kq3o7Y\n",
    "_directory='HpdO5Kq3o7Y'\n",
    "_files=['HpdO5Kq3o7Y_5_1640037617.3795395_Dec-20-22:00:17-2021_.png', 'HpdO5Kq3o7Y_5_1640037951.7493029_Dec-20-22:05:51-2021_.png', 'HpdO5Kq3o7Y_5_1640038282.5878997_Dec-20-22:11:22-2021_.png', 'HpdO5Kq3o7Y_5_1640038620.7245889_Dec-20-22:17:00-2021_.png', 'HpdO5Kq3o7Y_5_1640038784.0560174_Dec-20-22:19:44-2021_.png', 'HpdO5Kq3o7Y_5_1640039272.673703_Dec-20-22:27:52-2021_.png', 'HpdO5Kq3o7Y_5_1640039441.6225734_Dec-20-22:30:41-2021_.png', 'HpdO5Kq3o7Y_5_1640039610.3964567_Dec-20-22:33:30-2021_.png', 'HpdO5Kq3o7Y_5_1640040103.7931623_Dec-20-22:41:43-2021_.png', 'HpdO5Kq3o7Y_5_1640040758.7373326_Dec-20-22:52:38-2021_.png', 'HpdO5Kq3o7Y_5_1640040921.8141193_Dec-20-22:55:21-2021_.png']\n",
    "download_files(directory=_directory,files=_files)\n",
    "!mkdir -p /home/jovyan/test/JRf29hXOrzY\n",
    "_directory='JRf29hXOrzY'\n",
    "_files=['JRf29hXOrzY_3_1640050796.2842307_Dec-21-01:39:56-2021_.png', 'JRf29hXOrzY_3_1640051614.3876848_Dec-21-01:53:34-2021_.png']\n",
    "download_files(directory=_directory,files=_files)\n",
    "!mkdir -p /home/jovyan/test/JqUREqYduHw\n",
    "_directory='JqUREqYduHw'\n",
    "_files=['JqUREqYduHw_5_1640343624.0894485_Dec-24-11:00:24-2021_.png', 'JqUREqYduHw_5_1640343660.6266232_Dec-24-11:01:00-2021_.png', 'JqUREqYduHw_5_1640343901.2385988_Dec-24-11:05:01-2021_.png', 'JqUREqYduHw_5_1640344020.6686954_Dec-24-11:07:00-2021_.png']\n",
    "download_files(directory=_directory,files=_files)\n",
    "!mkdir -p /home/jovyan/test/WInT7NRq2Ss\n",
    "_directory='WInT7NRq2Ss'\n",
    "_files=['WInT7NRq2Ss_5_1639998031.5309596_Dec-20-11:00:31-2021_.png', 'WInT7NRq2Ss_5_1640001679.5297804_Dec-20-12:01:19-2021_.png', 'WInT7NRq2Ss_5_1640002025.7657723_Dec-20-12:07:05-2021_.png', 'WInT7NRq2Ss_5_1640004241.3601031_Dec-20-12:44:01-2021_.png', 'WInT7NRq2Ss_5_1640008860.5751097_Dec-20-14:01:00-2021_.png', 'WInT7NRq2Ss_5_1640012400.1081028_Dec-20-15:00:00-2021_.png']\n",
    "download_files(directory=_directory,files=_files)\n",
    "!mkdir -p /home/jovyan/test/WQz2P-1ua7o\n",
    "_directory='WQz2P-1ua7o'\n",
    "_files=['WQz2P-1ua7o_4_1639998054.3668897_Dec-20-11:00:54-2021_.png', 'WQz2P-1ua7o_4_1640038080.2651439_Dec-20-22:08:00-2021_.png', 'WQz2P-1ua7o_4_1640038140.026819_Dec-20-22:09:00-2021_.png', 'WQz2P-1ua7o_4_1640043660.6325104_Dec-20-23:41:00-2021_.png', 'WQz2P-1ua7o_4_1640055600.731763_Dec-21-03:00:00-2021_.png']\n",
    "download_files(directory=_directory,files=_files)\n",
    "!mkdir -p /home/jovyan/test/WVslBR1Ndnc\n",
    "_directory='WVslBR1Ndnc'\n",
    "_files=['WVslBR1Ndnc_5_1640196000.014102_Dec-22-18:00:00-2021_.png', 'WVslBR1Ndnc_5_1640199660.8576584_Dec-22-19:01:00-2021_.png', 'WVslBR1Ndnc_5_1640199780.390641_Dec-22-19:03:00-2021_.png', 'WVslBR1Ndnc_5_1640199960.806831_Dec-22-19:06:00-2021_.png', 'WVslBR1Ndnc_5_1640200081.623084_Dec-22-19:08:01-2021_.png', 'WVslBR1Ndnc_5_1640200381.1259103_Dec-22-19:13:01-2021_.png', 'WVslBR1Ndnc_5_1640200920.581859_Dec-22-19:22:00-2021_.png', 'WVslBR1Ndnc_5_1640201401.4581478_Dec-22-19:30:01-2021_.png', 'WVslBR1Ndnc_5_1640201581.58131_Dec-22-19:33:01-2021_.png', 'WVslBR1Ndnc_5_1640201761.6179473_Dec-22-19:36:01-2021_.png', 'WVslBR1Ndnc_5_1640201940.8811839_Dec-22-19:39:00-2021_.png', 'WVslBR1Ndnc_5_1640202240.7154744_Dec-22-19:44:00-2021_.png', 'WVslBR1Ndnc_5_1640202481.4580688_Dec-22-19:48:01-2021_.png', 'WVslBR1Ndnc_5_1640202600.0354524_Dec-22-19:50:00-2021_.png', 'WVslBR1Ndnc_5_1640203141.0772307_Dec-22-19:59:01-2021_.png', 'WVslBR1Ndnc_5_1640203800.1072626_Dec-22-20:10:00-2021_.png', 'WVslBR1Ndnc_5_1640203920.4592962_Dec-22-20:12:00-2021_.png', 'WVslBR1Ndnc_5_1640206800.1581395_Dec-22-21:00:00-2021_.png', 'WVslBR1Ndnc_5_1640207040.353401_Dec-22-21:04:00-2021_.png', 'WVslBR1Ndnc_5_1640207220.5887728_Dec-22-21:07:00-2021_.png', 'WVslBR1Ndnc_5_1640207580.007776_Dec-22-21:13:00-2021_.png', 'WVslBR1Ndnc_5_1640207881.0320668_Dec-22-21:18:01-2021_.png', 'WVslBR1Ndnc_5_1640208181.3116589_Dec-22-21:23:01-2021_.png', 'WVslBR1Ndnc_5_1640208661.251982_Dec-22-21:31:01-2021_.png', 'WVslBR1Ndnc_5_1640208720.7677364_Dec-22-21:32:00-2021_.png']\n",
    "download_files(directory=_directory,files=_files)\n",
    "!mkdir -p /home/jovyan/test/WjOGhNDX51M\n",
    "_directory='WjOGhNDX51M'\n",
    "_files=['WjOGhNDX51M_5_1640070205.4861457_Dec-21-07:03:25-2021_.png', 'WjOGhNDX51M_5_1640071186.2322154_Dec-21-07:19:46-2021_.png', 'WjOGhNDX51M_5_1640071640.0123806_Dec-21-07:27:20-2021_.png', 'WjOGhNDX51M_5_1640073129.4464846_Dec-21-07:52:09-2021_.png']\n",
    "download_files(directory=_directory,files=_files)\n",
    "!mkdir -p /home/jovyan/test/XnkB8vcua94\n",
    "_directory='XnkB8vcua94'\n",
    "_files=['XnkB8vcua94_4_1640012478.04354_Dec-20-15:01:18-2021_.png', 'XnkB8vcua94_4_1640012830.1543255_Dec-20-15:07:10-2021_.png']\n",
    "download_files(directory=_directory,files=_files)\n",
    "!mkdir -p /home/jovyan/test/ZEAMi6-jP\n",
    "_directory='ZEAMi6-jP'\n",
    "_files=['ZEAMi6-jP_s_5_1640026801.0010574_Dec-20-19:00:00-2021_.png', 'ZEAMi6-jP_s_5_1640026923.5545716_Dec-20-19:02:03-2021_.png', 'ZEAMi6-jP_s_5_1640027525.5856018_Dec-20-19:12:05-2021_.png']\n",
    "download_files(directory=_directory,files=_files)\n",
    "!mkdir -p /home/jovyan/test/frT95g0j4iY\n",
    "_directory='frT95g0j4iY'\n",
    "_files=['frT95g0j4iY_4_1640095200.6010182_Dec-21-14:00:00-2021_.png', 'frT95g0j4iY_4_1640095260.1851623_Dec-21-14:01:00-2021_.png', 'frT95g0j4iY_4_1640095440.0076697_Dec-21-14:04:00-2021_.png', 'frT95g0j4iY_4_1640095560.1439693_Dec-21-14:06:00-2021_.png', 'frT95g0j4iY_4_1640095680.7438507_Dec-21-14:08:00-2021_.png', 'frT95g0j4iY_4_1640095800.2417912_Dec-21-14:10:00-2021_.png', 'frT95g0j4iY_4_1640095860.2639563_Dec-21-14:11:00-2021_.png', 'frT95g0j4iY_4_1640095920.7404203_Dec-21-14:12:00-2021_.png', 'frT95g0j4iY_4_1640095980.558509_Dec-21-14:13:00-2021_.png', 'frT95g0j4iY_4_1640096040.041722_Dec-21-14:14:00-2021_.png', 'frT95g0j4iY_4_1640096280.8749504_Dec-21-14:18:00-2021_.png', 'frT95g0j4iY_4_1640096340.4126384_Dec-21-14:19:00-2021_.png', 'frT95g0j4iY_4_1640096461.1457498_Dec-21-14:21:01-2021_.png', 'frT95g0j4iY_4_1640096880.7582064_Dec-21-14:28:00-2021_.png', 'frT95g0j4iY_4_1640097360.5772727_Dec-21-14:36:00-2021_.png', 'frT95g0j4iY_4_1640097600.6624467_Dec-21-14:40:00-2021_.png', 'frT95g0j4iY_4_1640097660.624227_Dec-21-14:41:00-2021_.png', 'frT95g0j4iY_4_1640097780.7673345_Dec-21-14:43:00-2021_.png', 'frT95g0j4iY_4_1640098321.1329257_Dec-21-14:52:01-2021_.png', 'frT95g0j4iY_4_1640098500.6527767_Dec-21-14:55:00-2021_.png', 'frT95g0j4iY_4_1640182440.8312995_Dec-22-14:14:00-2021_.png', 'frT95g0j4iY_4_1640184900.1240742_Dec-22-14:55:00-2021_.png', 'frT95g0j4iY_4_1640185140.5840187_Dec-22-14:59:00-2021_.png']\n",
    "download_files(directory=_directory,files=_files)\n",
    "!mkdir -p /home/jovyan/test/luhiRGPRdAU\n",
    "_directory='luhiRGPRdAU'\n",
    "_files=['luhiRGPRdAU_4_1640098980.4984477_Dec-21-15:03:00-2021_.png', 'luhiRGPRdAU_4_1640099220.468813_Dec-21-15:07:00-2021_.png', 'luhiRGPRdAU_4_1640099400.0640318_Dec-21-15:10:00-2021_.png', 'luhiRGPRdAU_4_1640099700.1295166_Dec-21-15:15:00-2021_.png', 'luhiRGPRdAU_4_1640099760.2350304_Dec-21-15:16:00-2021_.png']\n",
    "download_files(directory=_directory,files=_files)\n",
    "!mkdir -p /home/jovyan/test/ns8y0SVcJGA\n",
    "_directory='ns8y0SVcJGA'\n",
    "_files=['ns8y0SVcJGA_5_1639844178.1899712_Dec-18-16:16:18-2021_.png', 'ns8y0SVcJGA_5_1639844725.8543384_Dec-18-16:25:25-2021_.png', 'ns8y0SVcJGA_5_1639846031.4231539_Dec-18-16:47:11-2021_.png', 'ns8y0SVcJGA_5_1639846097.5955346_Dec-18-16:48:17-2021_.png']\n",
    "download_files(directory=_directory,files=_files)\n",
    "!mkdir -p /home/jovyan/test/tqchfdQQ9L4\n",
    "_directory='tqchfdQQ9L4'\n",
    "_files=['tqchfdQQ9L4_3_1639998183.1772501_Dec-20-11:03:03-2021_.png', 'tqchfdQQ9L4_3_1640001648.6259856_Dec-20-12:00:48-2021_.png', 'tqchfdQQ9L4_3_1640001991.3975275_Dec-20-12:06:31-2021_.png', 'tqchfdQQ9L4_3_1640004087.658801_Dec-20-12:41:27-2021_.png', 'tqchfdQQ9L4_3_1640004180.379233_Dec-20-12:43:00-2021_.png', 'tqchfdQQ9L4_3_1640004300.6078355_Dec-20-12:45:00-2021_.png', 'tqchfdQQ9L4_3_1640016001.3365965_Dec-20-16:00:01-2021_.png', 'tqchfdQQ9L4_3_1640016060.8305383_Dec-20-16:01:00-2021_.png']\n",
    "download_files(directory=_directory,files=_files)\n",
    "!mkdir -p /home/jovyan/test/zTdTIpPiOnQ\n",
    "_directory='zTdTIpPiOnQ'\n",
    "_files=['zTdTIpPiOnQ_5_1640098800.1061468_Dec-21-15:00:00-2021_.png', 'zTdTIpPiOnQ_5_1640098860.9632928_Dec-21-15:01:00-2021_.png', 'zTdTIpPiOnQ_5_1640098921.1645362_Dec-21-15:02:01-2021_.png', 'zTdTIpPiOnQ_5_1640099040.9228275_Dec-21-15:04:00-2021_.png', 'zTdTIpPiOnQ_5_1640099100.8876123_Dec-21-15:05:00-2021_.png', 'zTdTIpPiOnQ_5_1640099161.1097202_Dec-21-15:06:01-2021_.png', 'zTdTIpPiOnQ_5_1640099221.1521075_Dec-21-15:07:01-2021_.png', 'zTdTIpPiOnQ_5_1640099460.2469313_Dec-21-15:11:00-2021_.png', 'zTdTIpPiOnQ_5_1640099521.3405395_Dec-21-15:12:01-2021_.png', 'zTdTIpPiOnQ_5_1640099700.4484096_Dec-21-15:15:00-2021_.png', 'zTdTIpPiOnQ_5_1640099820.52797_Dec-21-15:17:00-2021_.png', 'zTdTIpPiOnQ_5_1640100241.4687674_Dec-21-15:24:01-2021_.png', 'zTdTIpPiOnQ_5_1640100300.6581478_Dec-21-15:25:00-2021_.png', 'zTdTIpPiOnQ_5_1640101560.3633478_Dec-21-15:46:00-2021_.png', 'zTdTIpPiOnQ_5_1640101681.390166_Dec-21-15:48:01-2021_.png', 'zTdTIpPiOnQ_5_1640120400.5336678_Dec-21-21:00:00-2021_.png', 'zTdTIpPiOnQ_5_1640127600.0184896_Dec-21-23:00:00-2021_.png', 'zTdTIpPiOnQ_5_1640139361.503812_Dec-22-02:16:01-2021_.png', 'zTdTIpPiOnQ_5_1640188080.5360584_Dec-22-15:48:00-2021_.png']\n",
    "download_files(directory=_directory,files=_files)"
   ]
  },
  {
   "cell_type": "code",
   "execution_count": null,
   "id": "f269cf67-43b1-4d9d-b732-a8791622be0a",
   "metadata": {},
   "outputs": [],
   "source": [
    "# data.hector-seminar.research.dev.seeburger.de/test\n",
    "\n",
    "_directory='6We73xIdHy0'\n",
    "_files=['6We73xIdHy0_5_1639843996.9576826_Dec-18-16:13:16-2021_.png' ,'6We73xIdHy0_5_1639844842.2268715_Dec-18-16:27:22-2021_.png','6We73xIdHy0_5_1639845714.1446428_Dec-18-16:41:54-2021_.png' ,'6We73xIdHy0_5_1639846126.4700105_Dec-18-16:48:46-2021_.png']\n",
    "download_files(directory=_directory,files=_files)            \n",
    "       \n",
    "_directory='-Dla8twqg'\n",
    "_files=['-Dla8twqg_U_5_1639845040.3547864_Dec-18-16:30:40-2021_.png','-Dla8twqg_U_5_1639845983.399166_Dec-18-16:46:23-2021_.png']\n",
    "download_files(directory=_directory,files=_files)    \n",
    "   \n",
    "_directory='-rjDeUjXlEs'\n",
    "_files=['-rjDeUjXlEs_5_1639844100.692022_Dec-18-16:15:00-2021_.png' ,'-rjDeUjXlEs_5_1639845615.294747_Dec-18-16:40:15-2021_.png']\n",
    "download_files(directory=_directory,files=_files)   \n",
    "\n",
    "_directory='ns8y0SVcJGA'\n",
    "_files=['ns8y0SVcJGA_5_1639844178.1899712_Dec-18-16:16:18-2021_.png','ns8y0SVcJGA_5_1639844725.8543384_Dec-18-16:25:25-2021_.png','ns8y0SVcJGA_5_1639846031.4231539_Dec-18-16:47:11-2021_.png', 'ns8y0SVcJGA_5_1639846097.5955346_Dec-18-16:48:17-2021_.png']\n",
    "download_files(directory=_directory,files=_files)   "
   ]
  },
  {
   "cell_type": "code",
   "execution_count": null,
   "id": "b136bae9-b133-4970-97d2-3a4fe119e9b5",
   "metadata": {},
   "outputs": [],
   "source": [
    "!ls -l /home/pi/jupyter/test"
   ]
  },
  {
   "cell_type": "code",
   "execution_count": null,
   "id": "aa624f60-8985-440c-bda4-feda1ba1b489",
   "metadata": {},
   "outputs": [],
   "source": [
    "!mkdir -p /home/jovyan"
   ]
  }
 ],
 "metadata": {
  "kernelspec": {
   "display_name": "Python 3",
   "language": "python",
   "name": "python3"
  },
  "language_info": {
   "codemirror_mode": {
    "name": "ipython",
    "version": 3
   },
   "file_extension": ".py",
   "mimetype": "text/x-python",
   "name": "python",
   "nbconvert_exporter": "python",
   "pygments_lexer": "ipython3",
   "version": "3.9.2"
  }
 },
 "nbformat": 4,
 "nbformat_minor": 5
}

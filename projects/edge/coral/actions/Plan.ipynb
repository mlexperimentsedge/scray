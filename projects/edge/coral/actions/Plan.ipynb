{
 "cells": [
  {
   "cell_type": "code",
   "execution_count": null,
   "id": "ccbe42aa-fbc1-4d72-ad7a-cf53f6290036",
   "metadata": {},
   "outputs": [],
   "source": []
  },
  {
   "cell_type": "markdown",
   "id": "b8833241-123f-4ef5-9d33-4e2dee76ac49",
   "metadata": {},
   "source": [
    "# Topics\n",
    "* Erkennung von Personen und Objekten in Videostreams und Bildfolgen mit ML-Modellen\n",
    "* Fehleroptimierung, bzw. Auswahl von Streams, Teilbildern oder Zeiträumen mit geringem Fehler, o.ä.\n",
    "* Visualisierung der **(Personen-,Objekt-,Bewegungs-,Verkehrs-) Ströme** mit Heatmaps\n",
    "* (Automatische) Textbeschreibung eines Bildes/Streams mit Template-Sätzen (z.B. Anzahl Objekte, Personen, Posen, Zeit, Ort )\n",
    "* Mehrwert, Nutzen und mögliche Integration in Anwendungen und \"Geschichten\"\n",
    "* Dokumentation, Experimentablauf (Ergebnisse wiederholbar dokumentieren)\n",
    "* Automatisierung (mit Pipelines)"
   ]
  },
  {
   "cell_type": "markdown",
   "id": "7805321c-e0e7-4ba3-9e31-70949d3c664b",
   "metadata": {
    "jp-MarkdownHeadingCollapsed": true,
    "tags": []
   },
   "source": [
    "# Aufgaben\n",
    "\n",
    "* Erstellen von Pipelines (Bild / Videostream -> Crop -> Resize -> Erkennung (Modell) -> Ergebnis)\n",
    "\n",
    "* Experimente mit Stichproben (Bilder mit Zeitstempel aus verschiedenen Streams)\n",
    "  * Automatisierte (oder manuelle) Bewertung von ML-Modellen (Posen,Objekte). \n",
    "  * Welche Modelle funktionieren wann ? \n",
    "  * Beschreibe die Probleme ? \n",
    "\n",
    "* Welche Erkenntnisse lassen sich zusätzlich aus kontinuierlichen Videostreams gewinnen ?\n",
    "\n",
    "* Optimierung zur Minimierung von Fehlern nötig für funktionierende Anwendungen\n",
    "  * Filter Ergebnis (Objekttypen, Score)\n",
    "  * Auswahl von geeigneten Szenen, Zeitabschnitten, Regionen bzw Bildausschnitten\n",
    "  * Berechnung des optimalen Bildausschnitts für die ML-Modelle und Erkennung (crop + resize)\n",
    "  * Kann man die Ergebnisse der Modelle kombinieren ?\n",
    "  * Optimieren für gewählte Aufgaben, Anwendung,  Beispiel (Skifahren, Eislauf, Tourismus, Dialog, autonomes Fahren, Verkehr) \n",
    "  * Welche Metadatden sind zur Beschreibung nötig ? (Ort, Time zone..)\n",
    "\n",
    "* Erkennung auf ganzem Bild ?\n",
    "  * Welche Probleme treten wann auf ?\n",
    "\n",
    "* Erstellung von Rastern (Grids) oder Regionen\n",
    "  * Welche Probleme treten wann auf ?\n",
    "  * Welche Gridgröße ist optimal ? Kann diese automatisch gesetzt werden ?\n",
    "  * Mehrere Raster ?\n",
    "  * Vergleich Erkennung Gesamtbild und Rastern\n",
    "\n",
    "* Visualisierung, insb. mit Heatmaps\n",
    "  * Wo ist was wann los ?\n",
    "  * Welche Regionen,Raster einer Folge von Bildern oder Strömen sind interessant ?\n",
    "  * Flächen ohne Personen und Objekte\n",
    "  * Visualisierung von Strömen\n",
    "  * Ist die Visulaiserung geeignet ? Grenzen ?\n",
    "  \n",
    "* Edge Hardware\n",
    "  * Wie gut ist mobiles Modell im Vergleich mit anderen ?\n",
    "  * Was ist der Vorteil der Edge Hardware für die Anwendung ?\n",
    "\n",
    "* (Automatische) Textbeschreibung eines Bildes/Streams \n",
    "  * Erstellung von Template-Sätzen (z.B. mit Anzahl Objekte, Personen, Posen, Zeit, Ort )\n",
    "  * Wann passiert was ?\n",
    "\n",
    "* Integration der Erkennungs-Pipeline in Geschichten und Anwendungen\n",
    "  * Erstellung eines (minimalen) Repertoirs (Posen, Objekte)\n",
    "  * Nachstellen / Kombination"
   ]
  },
  {
   "cell_type": "markdown",
   "id": "023d45f0-8cde-4c5f-a251-9ce18da30d62",
   "metadata": {},
   "source": [
    "# Bugs\n",
    "*"
   ]
  },
  {
   "cell_type": "markdown",
   "id": "dc19d825-f664-467c-bb0c-e74272b53df8",
   "metadata": {},
   "source": [
    "# Literatur\n",
    "- https://coral.ai/models/  (Trained TensorFlow models for the Edge TPU)\n",
    "- https://huggingface.co/tasks/object-detection\n",
    "- https://d2l.ai/index.html\n",
    "- https://www.deeplearningbook.org/\n",
    "- https://cocodataset.org/#home"
   ]
  }
 ],
 "metadata": {
  "kernelspec": {
   "display_name": "Python 3",
   "language": "python",
   "name": "python3"
  },
  "language_info": {
   "codemirror_mode": {
    "name": "ipython",
    "version": 3
   },
   "file_extension": ".py",
   "mimetype": "text/x-python",
   "name": "python",
   "nbconvert_exporter": "python",
   "pygments_lexer": "ipython3",
   "version": "3.9.2"
  }
 },
 "nbformat": 4,
 "nbformat_minor": 5
}

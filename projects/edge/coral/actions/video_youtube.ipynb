{
 "cells": [
  {
   "cell_type": "code",
   "execution_count": null,
   "id": "efa9bed5-50b7-4976-886e-c9d17838b342",
   "metadata": {},
   "outputs": [],
   "source": [
    "# Install dependencies, download the video, and crop 5 seconds for processing\n",
    "!pip install youtube-dl\n",
    "!pip uninstall -y opencv-python opencv-contrib-python\n",
    "!apt install python3-opencv\n"
   ]
  },
  {
   "cell_type": "code",
   "execution_count": 7,
   "id": "7ec99e89-b87e-453f-b982-f7f8a2457ff2",
   "metadata": {},
   "outputs": [],
   "source": [
    "# download video, format 22 and name it video.mp4\n",
    "!youtube-dl https://m.youtube.com/watch?v=RSq6zuAEIzs -f 22 -o video.mp4"
   ]
  },
  {
   "cell_type": "code",
   "execution_count": null,
   "id": "1c0d5e92-7797-44f8-a695-e87441d67742",
   "metadata": {},
   "outputs": [],
   "source": [
    "# show formats\n",
    "!youtube-dl -F https://m.youtube.com/watch?v=RSq6zuAEIzs"
   ]
  }
 ],
 "metadata": {
  "kernelspec": {
   "display_name": "Python 3 (ipykernel)",
   "language": "python",
   "name": "python3"
  },
  "language_info": {
   "codemirror_mode": {
    "name": "ipython",
    "version": 3
   },
   "file_extension": ".py",
   "mimetype": "text/x-python",
   "name": "python",
   "nbconvert_exporter": "python",
   "pygments_lexer": "ipython3",
   "version": "3.9.7"
  }
 },
 "nbformat": 4,
 "nbformat_minor": 5
}

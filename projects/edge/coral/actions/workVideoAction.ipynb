{
 "cells": [
  {
   "cell_type": "markdown",
   "id": "e7d27552-a052-478d-8852-3d2f347ac419",
   "metadata": {},
   "source": [
    "# Application"
   ]
  },
  {
   "cell_type": "code",
   "execution_count": null,
   "id": "58a983a2-f6d1-4c0f-90e7-19b4c013231d",
   "metadata": {},
   "outputs": [],
   "source": [
    "_imageWidget = ImageWidget(display=False)\n",
    "_crop = CropWidget(imageWidget=_imageWidget)\n",
    "_videoSources = LiveVideoSourcesWidget(child=_crop, filename = '../videos.json')\n",
    "_resize = resizeWidget = ResizeWidget(action=ResizeAction(),parent=_crop,imageWidget=_imageWidget)\n",
    "_widgets = [_videoSources,_crop,_resize]\n",
    "_pipeline = EasyVideoPipeLine(sources=_videoSources.sources, actions=_widgets)\n",
    "\n",
    "#_crop.displayWidget = DisplayWidget(action=_crop.videoAction, update=_crop.updateImage)\n",
    "_crop.displayWidget = DisplayWidget(update=_crop.updateImage)\n",
    "display(_crop.displayWidget.hbox)\n",
    "\n",
    "_tab  = widgets.Tab(children = [_videoSources.vbox, _crop.vbox, _resize.vbox])\n",
    "_tab.set_title(0, 'videos')\n",
    "_tab.set_title(1, 'crop')\n",
    "_tab.set_title(2, 'resize')\n",
    "display(_tab)\n",
    "\n",
    "_imageWidget.display()\n",
    "\n",
    "def evaluateWidgetActionList(widgets, img, start=1, end=None):\n",
    "    for index in range(start,end):\n",
    "        img = widgets[index].evaluate(**img)\n",
    "    return img\n",
    "\n",
    "# update interessant für Widget-Parameter\n",
    "# evaluate: berechnet image-Pipeline\n",
    "def print_on_select(widget):\n",
    "    #     get the correct Output widget based on the index of the selected tab\n",
    "    tab_idx = widget['new']  \n",
    "    def _doit(image,update=False):\n",
    "        #_imageWidget.evaluate(_crop.displayWidget.image)\n",
    "        return _imageWidget.evaluate(evaluateWidgetActionList(_widgets, {'image':_crop.displayWidget.image}, start=1, end=tab_idx+1))\n",
    "    _crop.displayWidget.update = _doit\n",
    "    #_doit(_widgets[0].evaluate())\n",
    "    _imageWidget.evaluate(evaluateWidgetActionList(_widgets, _widgets[0].evaluate(), start=1, end=tab_idx+1))\n",
    "        \n",
    "_tab.observe(print_on_select, names='selected_index')"
   ]
  },
  {
   "cell_type": "markdown",
   "id": "abc02cb0-2421-4c62-9b8c-ffd3b2aa7716",
   "metadata": {},
   "source": [
    "# Coral Examples"
   ]
  },
  {
   "cell_type": "code",
   "execution_count": null,
   "id": "1618aaf1-1666-46f5-88b2-192b535dd802",
   "metadata": {},
   "outputs": [],
   "source": [
    "import sys\n",
    "sys.path.insert(0,'/home/pi/jupyter/coral/projectposenet')\n",
    "sys.path"
   ]
  },
  {
   "cell_type": "code",
   "execution_count": null,
   "id": "18ee0a64-d1b7-4674-82e1-36f72c110e25",
   "metadata": {},
   "outputs": [],
   "source": [
    "!ln -s /home/pi/jupyter/coral/projectposenet/posenet_lib/  posenet_lib \n",
    "!ln -s /home/pi/jupyter/coral/projectposenet projectposenet"
   ]
  },
  {
   "cell_type": "markdown",
   "id": "a6f2d570-be68-4c91-ab97-197b1e149c39",
   "metadata": {},
   "source": [
    "## PoseEngine"
   ]
  },
  {
   "cell_type": "code",
   "execution_count": null,
   "id": "b9086965-28a3-445c-bc68-ebb000ff5f0d",
   "metadata": {},
   "outputs": [],
   "source": [
    "import random\n",
    "from PIL import Image\n",
    "from PIL import ImageDraw\n",
    "\n",
    "colors = [(255,0,0,255) ,(0,255,0,255) ,(0,0,255,255),(255,255,0,255) ,(0,255,255,255) ,(255,255,255,255), \\\n",
    "         (125,0,0,255) ,(125,255,0,255) ,(125,0,255,255),(125,255,0,255) ,(125,255,255,255) ,(125,255,255,255)]\n",
    "\n",
    "EDGES = (\n",
    "    ('nose', 'left eye'),\n",
    "    ('nose', 'right eye'),\n",
    "    ('nose', 'left ear'),\n",
    "    ('nose', 'right ear'),\n",
    "    ('left ear', 'left eye'),\n",
    "    ('right ear', 'right eye'),\n",
    "    ('left eye', 'right eye'),\n",
    "    ('left shoulder', 'right shoulder'),\n",
    "    ('left shoulder', 'left elbow'),\n",
    "    ('left shoulder', 'left hip'),\n",
    "    ('right shoulder', 'right elbow'),\n",
    "    ('right shoulder', 'right hip'),\n",
    "    ('left elbow', 'left wrist'),\n",
    "    ('right elbow', 'right wrist'),\n",
    "    ('left hip', 'right hip'),\n",
    "    ('left hip', 'left knee'),\n",
    "    ('right hip', 'right knee'),\n",
    "    ('left knee', 'left ankle'),\n",
    "    ('right knee', 'right ankle'),\n",
    ")\n",
    "\n",
    "def drawPoint(image,x,y,r,rgba):\n",
    "    draw = ImageDraw.Draw(image)\n",
    "    leftUpPoint = (x-r, y-r)\n",
    "    rightDownPoint = (x+r, y+r)\n",
    "    twoPointList = [leftUpPoint, rightDownPoint]\n",
    "    draw.ellipse(twoPointList, fill=rgba)\n",
    "\n",
    "def drawPosePoints(image,poses,EDGES):    \n",
    "    for pose in poses:\n",
    "        #if pose.score < 0.4: continue\n",
    "        rgba =  random.choice(colors)     \n",
    "        #print('\\nPose Score: ', pose.score)\n",
    "        xys = {}\n",
    "        minScoreKeypoint = 0.0\n",
    "        for label, keypoint in pose.keypoints.items():\n",
    "            if keypoint.score < minScoreKeypoint : continue\n",
    "            #print(keypoint.point)\n",
    "            #drawPoint(image,keypoint.yx[1], keypoint.yx[0],2,rgba)\n",
    "            drawPoint(image,keypoint.point.x,keypoint.point.y,2,rgba)\n",
    "            #kp_y = int((keypoint.yx[0] ) )\n",
    "            #kp_x = int((keypoint.yx[1] ) )\n",
    "            kp_y = int( keypoint.point.y)\n",
    "            kp_x = int( keypoint.point.x)\n",
    "            \n",
    "            xys[label] = (kp_x, kp_y)\n",
    "            #print(' %-20s x=%-4d y=%-4d score=%.1f' %\n",
    "            #      (label, keypoint.yx[1], keypoint.yx[0], keypoint.score))\n",
    "        #print(xys)\n",
    "    \n",
    "        for a, b in EDGES:\n",
    "            if a not in xys or b not in xys: continue\n",
    "            ax, ay = xys[a]\n",
    "            bx, by = xys[b]\n",
    "            #dwg.add(dwg.line(start=(ax, ay), end=(bx, by), stroke=color, stroke_width=2))\n",
    "            draw = ImageDraw.Draw(image)\n",
    "            draw.line((ax,ay,bx,by), fill=128, width=3)\n",
    "            #print (ax,ay,bx,b)          "
   ]
  },
  {
   "cell_type": "code",
   "execution_count": null,
   "id": "eb8bbd04-84e0-40d6-aa81-a4d7d402292e",
   "metadata": {},
   "outputs": [],
   "source": [
    "from pycoral.utils import edgetpu\n",
    "from PIL import Image\n",
    "from tflite_runtime.interpreter import load_delegate\n",
    "from tflite_runtime.interpreter import Interpreter\n",
    "\n",
    "import collections\n",
    "import enum\n",
    "import math\n",
    "import numpy as np\n",
    "import os\n",
    "import platform\n",
    "import sys\n",
    "import time\n",
    "\n",
    "from projectposenet.pose_engine import PoseEngine\n",
    "engine = PoseEngine('projectposenet/models/mobilenet/posenet_mobilenet_v1_075_481_641_quant_decoder_edgetpu.tflite')"
   ]
  },
  {
   "cell_type": "code",
   "execution_count": null,
   "id": "44355fe0-ba29-4166-86a5-a628136c6f62",
   "metadata": {},
   "outputs": [],
   "source": [
    "_img = _imageWidget2.getImage()\n",
    "poses, inference_time = engine.DetectPosesInImage(_img)\n",
    "print('Inference time: %.f ms' % (inference_time * 1000),'recognized:', len(poses))\n",
    "drawPosePoints(_img,poses,EDGES)  \n",
    "_img"
   ]
  },
  {
   "cell_type": "markdown",
   "id": "29ea8f1f-b91d-409e-a5e5-6c954fefb365",
   "metadata": {},
   "source": [
    "## Objects"
   ]
  },
  {
   "cell_type": "code",
   "execution_count": null,
   "id": "990aa0bb-0be6-4f11-92c9-3d10ba3546f4",
   "metadata": {},
   "outputs": [],
   "source": [
    "import time\n",
    "\n",
    "from PIL import Image\n",
    "from PIL import ImageDraw\n",
    "\n",
    "from pycoral.adapters import common\n",
    "from pycoral.adapters import detect\n",
    "from pycoral.utils.dataset import read_label_file\n",
    "from pycoral.utils.edgetpu import make_interpreter\n",
    "\n",
    "labels = read_label_file('/home/pi/jupyter/coral/pycoral/test_data/coco_labels.txt')\n",
    "interpreter = make_interpreter('/home/pi/jupyter/coral/pycoral/test_data/ssd_mobilenet_v2_coco_quant_postprocess_edgetpu.tflite')\n",
    "interpreter.allocate_tensors()\n",
    "\n",
    "common.input_size(interpreter)"
   ]
  },
  {
   "cell_type": "code",
   "execution_count": null,
   "id": "84c13e92-983a-4222-ade0-78e2b46bfcb0",
   "metadata": {},
   "outputs": [],
   "source": [
    "#image = Image.open('/home/pi/jupyter/coral/pycoral/test_data/grace_hopper.bmp' )\n",
    "image = _app._imageWidget2.getImage()\n",
    "\n",
    "_, scale = common.set_resized_input(\n",
    "    interpreter, image.size, lambda size: image.resize(size, Image.ANTIALIAS))\n",
    "\n",
    "_, scale = common.set_resized_input(\n",
    "    interpreter, image.size, lambda size: image)\n",
    "\n",
    "\n",
    "print ('scale',scale)\n",
    "print('----INFERENCE TIME----')\n",
    "\n",
    "for _ in range(1):\n",
    "    start = time.perf_counter()\n",
    "    interpreter.invoke()\n",
    "    inference_time = time.perf_counter() - start\n",
    "    objs = detect.get_objects(interpreter,0.2, scale)\n",
    "    print('%.2f ms' % (inference_time * 1000))\n",
    "    \n",
    "def draw_objects(draw, objs, labels):\n",
    "  \"\"\"Draws the bounding box and label for each object.\"\"\"\n",
    "  for obj in objs:\n",
    "    bbox = obj.bbox\n",
    "    draw.rectangle([(bbox.xmin, bbox.ymin), (bbox.xmax, bbox.ymax)],\n",
    "                   outline='red')\n",
    "    draw.text((bbox.xmin + 10, bbox.ymin + 10),\n",
    "              '%s\\n%.2f' % (labels.get(obj.id, obj.id), obj.score),\n",
    "              fill='red')\n",
    "\n",
    "print('-------RESULTS--------')\n",
    "if not objs:\n",
    "    print('No objects detected')\n",
    "\n",
    "for obj in objs:\n",
    "    print(labels.get(obj.id, obj.id))\n",
    "    print('  id:    ', obj.id)\n",
    "    print('  score: ', obj.score)\n",
    "    print('  bbox:  ', obj.bbox)\n",
    "\n",
    "image = image.convert('RGB')\n",
    "draw_objects(ImageDraw.Draw(image), objs, labels)    \n",
    "\n",
    "image"
   ]
  },
  {
   "cell_type": "markdown",
   "id": "3d5e71f7-3ef0-4cbf-b777-70515bc71493",
   "metadata": {},
   "source": [
    "# Graph"
   ]
  },
  {
   "cell_type": "code",
   "execution_count": null,
   "id": "a7589b11-d94c-4f68-ba28-5538b35ca631",
   "metadata": {},
   "outputs": [],
   "source": [
    "import networkx as nx\n",
    "\n",
    "graph = nx.DiGraph()\n",
    "graph.add_edges_from([(\"root\", \"a\"), (\"a\", \"b\"), (\"a\", \"e\"), (\"b\", \"c\"), (\"b\", \"d\"), (\"d\", \"e\")])\n",
    "\n",
    "graph.nodes()"
   ]
  },
  {
   "cell_type": "code",
   "execution_count": null,
   "id": "c22cb42c-a091-44cd-9a1b-fdb9978fbdeb",
   "metadata": {},
   "outputs": [],
   "source": [
    "graph = nx.DiGraph()\n",
    "graph.add_edges_from([(1, 2), (2, 3), (3, 4), (4, 1)])\n",
    "nx.is_directed(graph)\n",
    "nx.is_directed_acyclic_graph(graph)"
   ]
  },
  {
   "cell_type": "code",
   "execution_count": null,
   "id": "bf41c743-dca0-41b1-98e4-dbbcfb1f2ba5",
   "metadata": {},
   "outputs": [],
   "source": [
    "from matplotlib import pyplot as plt\n",
    "g1 = nx.DiGraph()\n",
    "g1.add_edges_from([(\"root\", \"a\"), (\"a\", \"b\"), (\"a\", \"e\"), (\"b\", \"c\"), (\"b\", \"d\"), (\"d\", \"e\")])\n",
    "plt.tight_layout()\n",
    "nx.draw_networkx(g1, arrows=True)\n",
    "plt.savefig(\"g1.png\", format=\"PNG\")\n",
    "# tell matplotlib you're done with the plot: https://stackoverflow.com/questions/741877/how-do-i-tell-matplotlib-that-i-am-done-with-a-plot\n",
    "plt.clf()"
   ]
  },
  {
   "cell_type": "code",
   "execution_count": null,
   "id": "a86aeec3-52b0-4fac-818e-5541b58f5896",
   "metadata": {},
   "outputs": [],
   "source": [
    "import pylab as p\n",
    "import networkx as nx\n",
    "\n",
    "G = nx.Graph()\n",
    "G.add_edge(\"A\",\"B\")\n",
    "G.add_edge(\"A\",\"H\")\n",
    "G.add_edge(\"H\",\"C\")\n",
    "G.add_edge(\"B\",\"C\")\n",
    "G.add_edge(\"B\",\"D\")\n",
    "\n",
    "nx.draw(G)\n",
    "p.show()"
   ]
  },
  {
   "cell_type": "code",
   "execution_count": null,
   "id": "0ca7dabd-3304-4ea0-ba6a-e3c79edff99a",
   "metadata": {},
   "outputs": [],
   "source": []
  },
  {
   "cell_type": "code",
   "execution_count": null,
   "id": "5288a8a5-6721-427a-a49f-a44941864262",
   "metadata": {},
   "outputs": [],
   "source": [
    "import pylab as p\n",
    "import networkx as nx\n",
    "\n",
    "\n",
    "class Node(object):\n",
    "    nodes = []\n",
    "\n",
    "    def __init__(self, label):\n",
    "        self._label = label\n",
    "\n",
    "    def __str__(self):\n",
    "        return self._label\n",
    "\n",
    "nodes = [Node(l) for l in [\"A\",\"B\",\"C\",\"C\",\"D\",\"H\"]]\n",
    "edges = [(0,1),(0,5),(5,2),(1,3),(1,4)]\n",
    "\n",
    "G = nx.Graph()\n",
    "for i,j in edges:\n",
    "    G.add_edge(nodes[i], nodes[j])\n",
    "\n",
    "nx.draw(G)\n",
    "p.show()"
   ]
  },
  {
   "cell_type": "code",
   "execution_count": null,
   "id": "868fcb28-5043-4c06-bf6a-0993a695eeb3",
   "metadata": {},
   "outputs": [],
   "source": [
    "#depth-first-search post-order. \n",
    "from networkx import DiGraph\n",
    "from networkx.algorithms.traversal.depth_first_search import dfs_postorder_nodes\n",
    "\n",
    "g = DiGraph({0: [1, 2], 1: [3, 4], 2: [5, 6]})\n",
    "print(*dfs_postorder_nodes(g, source=0))\n"
   ]
  },
  {
   "cell_type": "code",
   "execution_count": null,
   "id": "6dec55c1-4b41-4e82-8527-e1ae19416e9d",
   "metadata": {},
   "outputs": [],
   "source": [
    "G = nx.path_graph(3)\n",
    "list(nx.bfs_edges(G, 0))\n",
    "\n",
    "G = nx.path_graph(3)\n",
    "root = 2\n",
    "edges = nx.bfs_edges(G, root)\n",
    "nodes = [root] + [v for u, v in edges]\n",
    "nodes"
   ]
  },
  {
   "cell_type": "code",
   "execution_count": null,
   "id": "27aa1c16-be0e-4403-bba9-aeb8c3e1454c",
   "metadata": {},
   "outputs": [],
   "source": [
    "import networkx as nx\n",
    "import matplotlib.pyplot as plt\n",
    "nodes = ['0','1','2','3','4','5']\n",
    "G = nx.DiGraph(name='G')\n",
    "G.add_nodes_from(nodes)\n",
    "edges = [('0','1'),('2','1'),('5','4'),('1','3'),('3','4')]\n",
    "G.add_edges_from(edges)\n",
    "\n",
    "bfs = nx.bfs_predecessors(G, source='0')\n",
    "bfs = dict(bfs)\n",
    "nx.draw(G, font_weight='bold', with_labels=True)\n",
    "plt.show()\n",
    "plt.savefig('graph.png')\n",
    "print(bfs)"
   ]
  },
  {
   "cell_type": "code",
   "execution_count": null,
   "id": "9f034896-ed3b-4060-88a0-af7f6923bf7e",
   "metadata": {},
   "outputs": [],
   "source": [
    "graph = {\n",
    "  '5' : ['3','7'],\n",
    "  '3' : ['2', '4'],\n",
    "  '7' : ['8'],\n",
    "  '2' : [],\n",
    "  '4' : ['8'],\n",
    "  '8' : []\n",
    "}\n",
    "\n",
    "visited = [] # List for visited nodes.\n",
    "queue = []     #Initialize a queue\n",
    "\n",
    "def bfs(visited, graph, node): #function for BFS\n",
    "  visited.append(node)\n",
    "  queue.append(node)\n",
    "\n",
    "  while queue:          # Creating loop to visit each node\n",
    "    m = queue.pop(0) \n",
    "    print (m, end = \" \") \n",
    "\n",
    "    for neighbour in graph[m]:\n",
    "      if neighbour not in visited:\n",
    "        visited.append(neighbour)\n",
    "        queue.append(neighbour)\n",
    "\n",
    "# Driver Code\n",
    "print(\"Following is the Breadth-First Search\")\n",
    "bfs(visited, graph, '5')    # function calling"
   ]
  },
  {
   "cell_type": "code",
   "execution_count": null,
   "id": "ba8f95c1-e55b-43ac-b831-9165237c9bc8",
   "metadata": {},
   "outputs": [],
   "source": [
    "import networkx as nx\n",
    "import matplotlib.pyplot as plt\n",
    "\n",
    "G = nx.DiGraph()\n",
    "G.add_edges_from(\n",
    "    [('A', 'B'), ('A', 'C'), ('D', 'B'), ('E', 'C'), ('E', 'F'),\n",
    "     ('B', 'H'), ('B', 'G'), ('B', 'F'), ('C', 'G')])\n",
    "\n",
    "val_map = {'A': 1.0,\n",
    "           'D': 0.5714285714285714,\n",
    "           'H': 0.0}\n",
    "\n",
    "values = [val_map.get(node, 0.25) for node in G.nodes()]\n",
    "\n",
    "# Specify the edges you want here\n",
    "red_edges = [('A', 'C'), ('E', 'C')]\n",
    "edge_colours = ['black' if not edge in red_edges else 'red'\n",
    "                for edge in G.edges()]\n",
    "black_edges = [edge for edge in G.edges() if edge not in red_edges]\n",
    "\n",
    "# Need to create a layout when doing\n",
    "# separate calls to draw nodes and edges\n",
    "pos = nx.spring_layout(G)\n",
    "nx.draw_networkx_nodes(G, pos, cmap=plt.get_cmap('jet'), \n",
    "                       node_color = values, node_size = 500)\n",
    "nx.draw_networkx_labels(G, pos)\n",
    "nx.draw_networkx_edges(G, pos, edgelist=red_edges, edge_color='r', arrows=True)\n",
    "nx.draw_networkx_edges(G, pos, edgelist=black_edges, arrows=False)\n",
    "plt.show()"
   ]
  },
  {
   "cell_type": "markdown",
   "id": "037dc788-8a63-4cb6-a82a-a4b719e238a8",
   "metadata": {},
   "source": [
    "## topology"
   ]
  },
  {
   "cell_type": "code",
   "execution_count": null,
   "id": "c5a62a4c-e890-433d-832d-6cb6fd986981",
   "metadata": {},
   "outputs": [],
   "source": [
    "G = nx.DiGraph()\n",
    "#G.add_edges_from( [(_tmp4.actions[0], _tmp4.actions[1]), (_tmp4.actions[1], _tmp4.actions[2])] )\n",
    "G.add_edges_from( [(_tab._widgets[0],_tab._widgets[1]),(_tab._widgets[1],_tab._widgets[2]), (_tab._widgets[1],_tab._widgets[3]), (_tab._widgets[2],_tab._widgets[4])  ] )\n",
    "\n",
    "nx.draw(G, font_weight='bold', with_labels=True)\n",
    "plt.show()"
   ]
  },
  {
   "cell_type": "code",
   "execution_count": null,
   "id": "f5f4a840-3152-41a9-9168-06ecd7671673",
   "metadata": {},
   "outputs": [],
   "source": [
    "labels = {}    \n",
    "hubs = [_tab._widgets[1]]\n",
    "pos = nx.spring_layout(G)\n",
    "for node in G.nodes():\n",
    "    if node in hubs:\n",
    "        #set the node name as the key and the label as its value \n",
    "        labels[node] = node\n",
    "#set the argument 'with labels' to False so you have unlabeled graph\n",
    "nx.draw(G, with_labels=False)\n",
    "#Now only add labels to the nodes you require (the hubs in my case)\n",
    "nx.draw_networkx_labels(G,labels,pos,font_size=16,font_color='r')"
   ]
  },
  {
   "cell_type": "code",
   "execution_count": null,
   "id": "fc314769-aa2e-4679-912d-da96d79ea606",
   "metadata": {},
   "outputs": [],
   "source": [
    "nx.spring_layout(G)\n",
    "G.nodes"
   ]
  },
  {
   "cell_type": "code",
   "execution_count": null,
   "id": "cfea2092-8d40-4166-9240-a485a91c2c88",
   "metadata": {},
   "outputs": [],
   "source": [
    "#_tmp4.actions\n",
    "#_tab._widgets\n",
    "G.edges.keys\n",
    "list(nx.topological_sort(G))"
   ]
  },
  {
   "cell_type": "code",
   "execution_count": null,
   "id": "3aabf215-19cd-4593-8a67-27e2a654e5cf",
   "metadata": {},
   "outputs": [],
   "source": [
    "def topological_sort_grouping(g):\n",
    "    # copy the graph\n",
    "    _g = g.copy()\n",
    "    res = []\n",
    "    # while _g is not empty\n",
    "    while _g:\n",
    "        zero_indegree = [v for v, d in _g.in_degree() if d == 0]\n",
    "        res.append(zero_indegree)\n",
    "        _g.remove_nodes_from(zero_indegree)\n",
    "    return res\n",
    "\n",
    "topological_sort_grouping(G)"
   ]
  },
  {
   "cell_type": "code",
   "execution_count": null,
   "id": "6f42d46a-2051-45cd-bbd3-2443d91c372d",
   "metadata": {},
   "outputs": [],
   "source": [
    "def dfs_edges(G,source=None):\n",
    "    \"\"\"Produce edges in a depth-first-search starting at source.\"\"\"\n",
    "    # Based on http://www.ics.uci.edu/~eppstein/PADS/DFS.py\n",
    "    # by D. Eppstein, July 2004.\n",
    "    if source is None:\n",
    "        # produce edges for all components\n",
    "        nodes=G\n",
    "    else:\n",
    "        # produce edges for components with source\n",
    "        nodes=[source]\n",
    "    visited=set()\n",
    "    for start in nodes:\n",
    "        if start in visited:\n",
    "            continue\n",
    "        visited.add(start)\n",
    "        stack = [(start,iter(sorted(G[start])))]\n",
    "        while stack:\n",
    "            parent,children = stack[-1]\n",
    "            try:\n",
    "                child = next(children)\n",
    "                if child not in visited:\n",
    "                    yield parent,child\n",
    "                    visited.add(child)\n",
    "                    stack.append((child,iter(sorted(G[child]))))\n",
    "            except StopIteration:\n",
    "                stack.pop()\n",
    "                \n",
    "dfs_edges(G)                "
   ]
  },
  {
   "cell_type": "code",
   "execution_count": null,
   "id": "e77c7d8b-c8e3-4779-83ac-2710a25eadf0",
   "metadata": {},
   "outputs": [],
   "source": [
    "import matplotlib.pyplot as plt\n",
    "import networkx as nx\n",
    "edges = [['A','B'],['B','C'],['B','D']]\n",
    "G = nx.Graph()\n",
    "G.add_edges_from(edges)\n",
    "pos = nx.spring_layout(G)\n",
    "plt.figure()    \n",
    "nx.draw(G,pos,edge_color='black',width=1,linewidths=1,\\\n",
    "node_size=500,node_color='pink',alpha=0.9,\\\n",
    "labels={node:node for node in G.nodes()})\n",
    "nx.draw_networkx_edge_labels(G,pos,edge_labels={('A','B'):'AB',\\\n",
    "('B','C'):'BC',('B','D'):'BD'},font_color='red')\n",
    "plt.axis('off')\n",
    "plt.show()"
   ]
  },
  {
   "cell_type": "markdown",
   "id": "945f0542-31f2-491e-bfca-66e244895888",
   "metadata": {},
   "source": [
    "# ActionStream"
   ]
  },
  {
   "cell_type": "code",
   "execution_count": null,
   "id": "2f451361-6e35-4faa-932a-e1cd92cb74b3",
   "metadata": {},
   "outputs": [],
   "source": [
    "# import the necessary packages\n",
    "from threading import Thread\n",
    "import sys\n",
    "import cv2\n",
    "# import the Queue class from Python 3\n",
    "from queue import Queue\n",
    "\n",
    "class ActionStream:\n",
    "    def __init__(self, queueSize=128, action=None):\n",
    "        self.action = action\n",
    "        # initialize the file video stream along with the boolean\n",
    "        # used to indicate if the thread should be stopped or not\n",
    "        self.stopped = False\n",
    "        # initialize the queue used to store frames read from\n",
    "        # the video file\n",
    "        self.Q = Queue(maxsize=queueSize)\n",
    "        \n",
    "    def start(self):\n",
    "        # start a thread to read frames from the file video stream\n",
    "        t = Thread(target=self.update, args=(), name=\"FileVideoStream\")\n",
    "        t.daemon = True\n",
    "        t.start()\n",
    "        return self      \n",
    "    \n",
    "    def update(self):\n",
    "        # keep looping infinitely\n",
    "        while True:\n",
    "            # if the thread indicator variable is set, stop the\n",
    "            # thread\n",
    "            if self.stopped:\n",
    "                return\n",
    "            # otherwise, ensure the queue has room in it\n",
    "            if not self.Q.full():\n",
    "                # read the next frame from the file\n",
    "                #(grabbed, frame) = self.capture.read()\n",
    "                # if the `grabbed` boolean is `False`, then we have\n",
    "                # reached the end of the video file\n",
    "                #frame = self.action.readImage()\n",
    "                frame = self.action.evaluate()\n",
    "                grabbed = True\n",
    "                if not grabbed:\n",
    "                    self.stop()\n",
    "                    return\n",
    "                # add the frame to the queue\n",
    "                self.Q.put(frame)    \n",
    "                \n",
    "    def evaluate(self):\n",
    "        # return next frame in the queue\n",
    "        return self.Q.get()\n",
    "    \n",
    "    def more(self):\n",
    "        # return True if there are still frames in the queue\n",
    "        return self.Q.qsize() > 0\n",
    "    \n",
    "    def stop(self):\n",
    "        # indicate that the thread should be stopped\n",
    "        self.stopped = True"
   ]
  },
  {
   "cell_type": "code",
   "execution_count": null,
   "id": "b5b70c3e-6d32-410d-a57e-925a691ee161",
   "metadata": {},
   "outputs": [],
   "source": [
    "fs = ActionStream(queueSize=60,action=_tmp4).start()"
   ]
  },
  {
   "cell_type": "code",
   "execution_count": null,
   "id": "461d42cb-bf73-4701-a395-8f2857f2c5a1",
   "metadata": {},
   "outputs": [],
   "source": [
    "fs.evaluate()['image']"
   ]
  },
  {
   "cell_type": "code",
   "execution_count": null,
   "id": "d43f4fa8-fa88-4474-aa80-ac959a76a5d0",
   "metadata": {},
   "outputs": [],
   "source": [
    "#fs.stop()\n",
    "fs.start()\n",
    "fs.Q.qsize()"
   ]
  },
  {
   "cell_type": "code",
   "execution_count": null,
   "id": "28a7aead-f389-42e2-bffe-f8fd700af3db",
   "metadata": {},
   "outputs": [],
   "source": [
    "_run = widgets.Checkbox(description='loop',value=False)\n",
    "display(_run)\n",
    "exe2 = HaltableActionExecutor(booleanField=_run,imageWidget=ImageWidget(display=True),sleep=0,action=fs,name='test')\n",
    "exe2.start()"
   ]
  },
  {
   "cell_type": "code",
   "execution_count": null,
   "id": "ed8df7d0-a5a8-4598-891b-32e9f3210b80",
   "metadata": {},
   "outputs": [],
   "source": [
    "# import the necessary packages\n",
    "from threading import Thread\n",
    "import sys\n",
    "import cv2\n",
    "# import the Queue class from Python 3\n",
    "from queue import Queue\n",
    "\n",
    "class FileVideoStream0:\n",
    "    def __init__(self, queueSize=128, action=None):\n",
    "        # initialize the file video stream along with the boolean\n",
    "        # used to indicate if the thread should be stopped or not\n",
    "        #_entry = videos[name]\n",
    "        #_video  = pafy.new(_entry['url'])\n",
    "        #self.stream = _video.streams[index]\n",
    "        #self.capture = cv2.VideoCapture(self.stream.url)\n",
    "        self.action = action\n",
    "        self.stopped = False\n",
    "        # initialize the queue used to store frames read from\n",
    "        # the video file\n",
    "        self.Q = Queue(maxsize=queueSize)\n",
    "        \n",
    "    def start(self):\n",
    "        # start a thread to read frames from the file video stream\n",
    "        t = Thread(target=self.update, args=(), name=\"FileVideoStream\")\n",
    "        t.daemon = True\n",
    "        t.start()\n",
    "        return self      \n",
    "    \n",
    "    def update(self):\n",
    "        # keep looping infinitely\n",
    "        while True:\n",
    "            # if the thread indicator variable is set, stop the\n",
    "            # thread\n",
    "            if self.stopped:\n",
    "                return\n",
    "            # otherwise, ensure the queue has room in it\n",
    "            if not self.Q.full():\n",
    "                # read the next frame from the file\n",
    "                #(grabbed, frame) = self.capture.read()\n",
    "                # if the `grabbed` boolean is `False`, then we have\n",
    "                # reached the end of the video file\n",
    "                #frame = self.action.readImage()\n",
    "                frame = self.action.evaluate()\n",
    "                grabbed = True\n",
    "                if not grabbed:\n",
    "                    self.stop()\n",
    "                    return\n",
    "                # add the frame to the queue\n",
    "                self.Q.put(frame)    \n",
    "                \n",
    "    def evaluate(self):\n",
    "        # return next frame in the queue\n",
    "        return self.Q.get()\n",
    "    \n",
    "    def more(self):\n",
    "        # return True if there are still frames in the queue\n",
    "        return self.Q.qsize() > 0\n",
    "    \n",
    "    def stop(self):\n",
    "        # indicate that the thread should be stopped\n",
    "        self.stopped = True"
   ]
  },
  {
   "cell_type": "code",
   "execution_count": null,
   "id": "7f9ede6c-3fdc-41db-8167-68e1e494ed95",
   "metadata": {},
   "outputs": [],
   "source": [
    "_action.skipframes=15\n",
    "fs = FileVideoStream(queueSize=60,action=_action).start()"
   ]
  },
  {
   "cell_type": "code",
   "execution_count": null,
   "id": "a4bc6db8-8811-455e-9a5a-07efab45d1a5",
   "metadata": {},
   "outputs": [],
   "source": [
    "frame = fs.read() \n",
    "frame\n",
    "#_imagew.setImage(frame)"
   ]
  },
  {
   "cell_type": "code",
   "execution_count": null,
   "id": "91d50c05-496c-4e8d-a7c3-a707bba59e74",
   "metadata": {},
   "outputs": [],
   "source": [
    "#_action_dict_list\n",
    "_caction.dict()"
   ]
  },
  {
   "cell_type": "code",
   "execution_count": null,
   "id": "5df84bfb-af9a-42c4-963d-dcd78517da9d",
   "metadata": {},
   "outputs": [],
   "source": [
    "#_action.skipframes=10\n",
    "\n",
    "_caction = createActionOfDict(_crop.action.toNormalized().dict())\n",
    "\n",
    "while True:      \n",
    "        try:\n",
    "            frame = fs.read()\n",
    "            _imagew.setImage(_caction.evaluate(image=frame['image'])['image'])\n",
    "        except Exception as exception:\n",
    "            print('done', str(exception))"
   ]
  },
  {
   "cell_type": "code",
   "execution_count": null,
   "id": "71a49cb8-62a7-4b2a-bb2c-a5b26046e450",
   "metadata": {},
   "outputs": [],
   "source": [
    "_vaction = _crop.videoAction"
   ]
  },
  {
   "cell_type": "code",
   "execution_count": null,
   "id": "30c632e8-8cf6-416c-ab42-a616557f9c9e",
   "metadata": {},
   "outputs": [],
   "source": [
    "_imagew = ImageWidget()"
   ]
  },
  {
   "cell_type": "code",
   "execution_count": null,
   "id": "609676f9-79d3-4c99-8fdb-8f1b537d17f8",
   "metadata": {},
   "outputs": [],
   "source": [
    "#while fs.more():\n",
    "from imutils.video import FPS\n",
    "fps = FPS().start()\n",
    "\n",
    "while True:    \n",
    "    frame = fs.read()\n",
    "    cv2.putText(frame, \"Queue Size: {}\".format(fs.Q.qsize()),\n",
    "        (10, 30), cv2.FONT_HERSHEY_SIMPLEX, 0.6, (0, 255, 0), 2)\n",
    "    _img = Image.fromarray(cv2.cvtColor(frame, cv2.COLOR_BGR2RGB))\n",
    "    _img = evaluateActionDictList(_action_dict_list,_img)\n",
    "    #_imagew.setImage(_img)\n",
    "    fps.update()\n",
    "    print(\"[INFO] approx. FPS: {:.2f}\".format(fps.fps()))"
   ]
  },
  {
   "cell_type": "code",
   "execution_count": null,
   "id": "f99bfff9-d1c7-477e-94a0-2db552844e60",
   "metadata": {},
   "outputs": [],
   "source": [
    "fs.stop()"
   ]
  },
  {
   "cell_type": "code",
   "execution_count": null,
   "id": "d20e15b3-4c2b-4515-85fd-9d75d0039a6e",
   "metadata": {},
   "outputs": [],
   "source": [
    "fps.stop()\n",
    "#print(\"[INFO] elasped time: {:.2f}\".format(fps.elapsed()))\n",
    "#print(\"[INFO] approx. FPS: {:.2f}\".format(fps.fps()))"
   ]
  },
  {
   "cell_type": "code",
   "execution_count": null,
   "id": "36c5c641-810e-4a28-a80d-8cbf5e1f4a61",
   "metadata": {},
   "outputs": [],
   "source": []
  },
  {
   "cell_type": "code",
   "execution_count": null,
   "id": "3adfe392-db10-464b-b120-ad824622700e",
   "metadata": {},
   "outputs": [],
   "source": [
    "fs = ActionStream(queueSize=60,action=_tmp5).start()\n",
    "_frame = fs.evaluate()\n",
    "_frame['image']"
   ]
  },
  {
   "cell_type": "markdown",
   "id": "83a41869-d624-4501-be48-ab58e97389ba",
   "metadata": {},
   "source": [
    "# VideoLoopPlayer"
   ]
  },
  {
   "cell_type": "code",
   "execution_count": null,
   "id": "0f4437a2-3771-488f-a32b-c9657bb11de6",
   "metadata": {},
   "outputs": [],
   "source": [
    "#from queue import Queue\n",
    "\n",
    "_action=_crop.videoAction\n",
    "_action.skipframes = 60\n",
    "_images = _action.readImages(40)"
   ]
  },
  {
   "cell_type": "code",
   "execution_count": null,
   "id": "d1db398e-6f8d-461f-b487-9b778a94e120",
   "metadata": {},
   "outputs": [],
   "source": [
    "#_images[30]\n",
    "#_action.skipframes\n"
   ]
  },
  {
   "cell_type": "code",
   "execution_count": null,
   "id": "170134d8-8d78-414b-810f-5e3f9b16cc7e",
   "metadata": {},
   "outputs": [],
   "source": [
    "#imageWidget.setImage(_loop.evaluate()['image'])"
   ]
  },
  {
   "cell_type": "code",
   "execution_count": null,
   "id": "ea5dbc4c-30b4-404e-b16d-020ec1bda02c",
   "metadata": {},
   "outputs": [],
   "source": [
    "class VideoLoopAction():\n",
    "    def __init__(self,images=None):\n",
    "        self.index  = 0\n",
    "        self.step   = 1\n",
    "        self.images = images\n",
    "        \n",
    "    def evaluate(self):\n",
    "        self.index = self.index + self.step\n",
    "        if self.index > len(self.images) - 1:\n",
    "            self.index = 0\n",
    "    \n",
    "        return {'image':self.images[self.index]}  "
   ]
  },
  {
   "cell_type": "code",
   "execution_count": null,
   "id": "27253ef1-a03d-4e23-8d0b-4ad9ae5128c0",
   "metadata": {},
   "outputs": [],
   "source": [
    "import ipywidgets as widgets\n",
    "style = {'description_width': '250px'}\n",
    "layout = {'width': '500px'}\n",
    "\n",
    "#_caction = createActionOfDict(_crop.action.toNormalized().dict())\n",
    "#_vaction = fs\n",
    "\n",
    "def on_next_button_clicked1(b):  \n",
    "    #newvalue = int(frame.value) + 1\n",
    "    #if newvalue == len(imgs):\n",
    "    #    newvalue = 0\n",
    "    #frame.value =  str(newvalue)\n",
    "    #imageWidget.setImage(CropAction(**para_dict).evaluate(image=imgs[newvalue]))\n",
    "    #imageWidget.setImage(_action.evaluate(image=imgs[newvalue]))\n",
    "    #_img = capture.getFrame()\n",
    "    #_img = imgs[newvalue]\n",
    "    #_img = _vaction.readImageOfStream()\n",
    "    #frame1 = fs.read()\n",
    "    #_img = Image.fromarray(cv2.cvtColor(frame1, cv2.COLOR_BGR2RGB))\n",
    "    #_img = evaluateActionDictList(_action_dict_list,_img)\n",
    "    #imageWidget.setImage(_img)\n",
    "    frame = fs.read()\n",
    "    _imagew.setImage(_caction.evaluate(image=frame['image'])['image']) \n",
    "\n",
    "def on_next_button_clicked(b):  \n",
    "    #_img = _vaction.readImageOfStream()\n",
    "    \n",
    "    pass\n",
    "    #_caction = _crop.action.toNormalized()\n",
    "    #frame = _vaction.evaluate()\n",
    "    #_img = _caction.evaluate(image=frame['image'])['image']\n",
    "    #imageWidget.setImage(_img)\n",
    "    \n",
    "def initBufferedStream():    \n",
    "    name='_hEh5wF6lxE'\n",
    "    _entry = videos[name]\n",
    "    _video  = pafy.new(_entry['url'])\n",
    "    fs.stream = _video.streams[int(stream.value)]\n",
    "    fs.capture = cv2.VideoCapture(fs.stream.url)\n",
    "    \n",
    "def on_download_button_clicked(b):  \n",
    "    global imgs\n",
    "    next_button.disabled = True\n",
    "    #imgs = readImagesOfStream(video.streams[int(stream.value)],int(numberframes.value),skipframes=int(skipframes.value))\n",
    "    #imgs = capture.readFrames(int(numberframes.value),skipframes=int(skipframes.value))\n",
    "    global _vaction\n",
    "    _vaction = VideoAction(video,index=int(stream.value),skipframes=int(skipframes.value))\n",
    "    \n",
    "    #initBufferedStream()\n",
    "    \n",
    "    frame.value = '0'\n",
    "    next_button.disabled = False\n",
    "\n",
    "def on_value_change_loop(b):\n",
    "    if b['new'] == True:\n",
    "        exe = HaltableExecutor(loop,sleep)\n",
    "        exe.start()\n",
    "        pending = asyncio.all_tasks()\n",
    "        print(pending)\n",
    "    else:\n",
    "        for task in asyncio.all_tasks(): \n",
    "            if task.get_name() == 'test': \n",
    "                task.cancel()\n",
    "\n",
    "    \n",
    "stream     = widgets.Text(description   = 'stream',value = '1', style=style, layout=layout)\n",
    "numberframes = widgets.Text(description = 'number frames',value = '10', style=style, layout=layout)\n",
    "skipframes = widgets.Text(description   = 'skip frames',value = '10', style=style, layout=layout)\n",
    "frame = widgets.Text(description = 'frame',value = '0', style=style, layout=layout)\n",
    "sleep = widgets.Text(description = 'sleep',value = '0.0', style=style, layout=layout)\n",
    "loop = widgets.Checkbox(description='loop',value=False)\n",
    "#loop.observe(on_value_change_loop)    \n",
    "download_button = widgets.Button(description='download', disabled=False, tooltip='resize',style=style, layout=layout)\n",
    "download_button.on_click(on_download_button_clicked)  \n",
    "next_button = widgets.Button(description='next', disabled=False, tooltip='resize',style=style, layout=layout)\n",
    "next_button.on_click(on_next_button_clicked)  \n",
    "vbox = widgets.VBox([stream,numberframes,skipframes,download_button,frame,sleep,loop,next_button])\n",
    "display(vbox)\n",
    "imageWidget=ImageWidget()\n",
    "#imageWidget.display()"
   ]
  },
  {
   "cell_type": "code",
   "execution_count": null,
   "id": "9c07a02f-61f3-4e29-8695-666243838e0d",
   "metadata": {},
   "outputs": [],
   "source": [
    "#imageWidget.getImage().size\n",
    "#video.streams\n",
    "#VideoAction.__dict__\n",
    "\n",
    "#_vaction.skipframes = 60\n",
    "\n",
    "#display(DisplayWidget(action=_loop,imageWidget=imageWidget).hbox)\n",
    "_loop = VideoLoopAction(images=_images)\n",
    "display(DisplayWidget0(action=_loop,imageWidget=imageWidget).hbox)"
   ]
  },
  {
   "cell_type": "code",
   "execution_count": null,
   "id": "7fff3a92-cc60-42bd-a5a7-0f6990201b4c",
   "metadata": {},
   "outputs": [],
   "source": [
    "imageWidget.setImage(_loop.evaluate())"
   ]
  },
  {
   "cell_type": "code",
   "execution_count": null,
   "id": "28791796-92c3-4ffe-926a-1cc3cd708648",
   "metadata": {},
   "outputs": [],
   "source": [
    "import ipywidgets as widgets\n",
    "import asyncio\n",
    "import time\n",
    "\n",
    "class HaltableExecutor:\n",
    "\n",
    "    def __init__(self, checkbox,imageWidget,sleep,action):\n",
    "        self._checkbox = checkbox\n",
    "        self.imageWidget = imageWidget\n",
    "        self._sleep    = sleep\n",
    "        self.action  = action\n",
    "        \n",
    "    async def my_code(self):\n",
    "        # This is your user code\n",
    "        while True:\n",
    "            if self._checkbox.value:\n",
    "                print('running')  # put your code here\n",
    "                #self.function('b')\n",
    "                #self.imageWidget.setImage(self.action.evaluate())\n",
    "                time.sleep(float(self._sleep.value))\n",
    "            await asyncio.sleep(0.1)  # use this to temporarily give up control of the event loop to allow scheduling checkbox changes\n",
    "    \n",
    "    def start(self):\n",
    "        print('starting')\n",
    "        #asyncio.current_task().foo = \"Bar\"\n",
    "        #asyncio.current_task().name = \"#{}\".format(n)\n",
    "        task = asyncio.ensure_future(self.my_code())\n",
    "        task.set_name('test')\n",
    "        #asyncio.current_task().name = 'test'\n",
    "        \n",
    "#c = widgets.Checkbox(description='click me',value=False)\n",
    "#display(c)        \n",
    "\n",
    "\n",
    "exe = HaltableExecutor(_run,None,1,_loop)\n",
    "exe.start()\n"
   ]
  },
  {
   "cell_type": "code",
   "execution_count": null,
   "id": "9fb3b8bf-a18a-480a-afd6-7ceda8bce123",
   "metadata": {},
   "outputs": [],
   "source": [
    "#ImageWidget().setImage(_tmp5.evaluate())\n",
    "_tmp5.actions[0].index = 5\n",
    "_tmp5.actions[0].skipframes=8"
   ]
  },
  {
   "cell_type": "code",
   "execution_count": null,
   "id": "bd7f9784-7669-4bd8-9326-d318a04caa20",
   "metadata": {},
   "outputs": [],
   "source": [
    "_tmp5.actions[2].size = (420,360)\n",
    "_tmp5.actions[2].__dict__"
   ]
  },
  {
   "cell_type": "code",
   "execution_count": null,
   "id": "aa659a26-ddf5-4137-be37-8e7bd3ce09db",
   "metadata": {},
   "outputs": [],
   "source": [
    "del _tmp5.actions[2]"
   ]
  },
  {
   "cell_type": "code",
   "execution_count": null,
   "id": "8684a4c0-1752-434f-86c5-9a11214514e0",
   "metadata": {},
   "outputs": [],
   "source": [
    "_tmp5.actions[0].__dict__\n",
    "#_tmp5.actions[0].evaluate()['image']"
   ]
  },
  {
   "cell_type": "code",
   "execution_count": null,
   "id": "1a4eb01f-dc8a-46e2-8d8a-885431ef5e63",
   "metadata": {},
   "outputs": [],
   "source": [
    "_loop.index, _loop.step\n",
    "#imageWidget.display()\n",
    "_run = widgets.Checkbox(description='loop',value=False)\n",
    "imageWidget=ImageWidget()\n",
    "display(_run)"
   ]
  },
  {
   "cell_type": "code",
   "execution_count": null,
   "id": "9497037b-2b26-4336-9cfe-0c325fbc7c26",
   "metadata": {},
   "outputs": [],
   "source": [
    "import ipywidgets as widgets\n",
    "import asyncio\n",
    "import time\n",
    "\n",
    "class HaltableExecutor:\n",
    "\n",
    "    def __init__(self, checkbox=checkbox,sleep=sleep,class=None,function=evaluate,imageWidget=imageWidget):\n",
    "        self._checkbox = checkbox\n",
    "        self.imageWidget = imageWidget\n",
    "        self._sleep    = sleep\n",
    "        self.class     = class\n",
    "        self.function  = function\n",
    "        \n",
    "    async def my_code(self):\n",
    "        # This is your user code\n",
    "        while True:\n",
    "            if self._checkbox.value:\n",
    "                #print('running')  # put your code here\n",
    "                #self.function('b')\n",
    "                self.imageWidget.setImage(self.claas.function\n",
    "                time.sleep(float(self._sleep.value))\n",
    "            await asyncio.sleep(0.1)  # use this to temporarily give up control of the event loop to allow scheduling checkbox changes\n",
    "    \n",
    "    def start(self):\n",
    "        print('starting')\n",
    "        #asyncio.current_task().foo = \"Bar\"\n",
    "        #asyncio.current_task().name = \"#{}\".format(n)\n",
    "        task = asyncio.ensure_future(self.my_code())\n",
    "        task.set_name('test')\n",
    "        #asyncio.current_task().name = 'test'\n",
    "        \n",
    "#c = widgets.Checkbox(description='click me',value=False)\n",
    "#display(c)        \n",
    "\n",
    "#exe = HaltableExecutor(loop,sleep,on_next_button_clicked)\n",
    "exe = HaltableExecutor(checkbox=_run,sleep=sleep,class=_loop,imageWidget=imageWidget)\n",
    "exe.start()"
   ]
  },
  {
   "cell_type": "code",
   "execution_count": null,
   "id": "d10137bc-66e8-4377-b68f-cd94bea2efd5",
   "metadata": {},
   "outputs": [],
   "source": [
    "def deleteAllTasks(name):\n",
    "    for task in asyncio.all_tasks(): \n",
    "                if task.get_name() == name: \n",
    "                    task.cancel()\n",
    "                \n",
    "pending = asyncio.all_tasks()\n",
    "#next(iter(pending)).cancel()\n",
    "len(pending)\n",
    "#pending\n",
    "#asyncio.current_task().set_name('test')\n",
    "#next(iter(pending)).get_name()\n",
    "#task, = [task for task in asyncio.all_tasks() if task.get_name() == 'test']\n",
    "#task.get_name()\n",
    "#deleteAllTasks('test')\n",
    "pending\n",
    "deleteAllTasks('test')"
   ]
  },
  {
   "cell_type": "code",
   "execution_count": null,
   "id": "f23b627d-6f24-4341-922b-3bd8c724529c",
   "metadata": {},
   "outputs": [],
   "source": [
    "asyncio.all_tasks()\n",
    "#deleteAllTasks('Task-9')"
   ]
  },
  {
   "cell_type": "markdown",
   "id": "e4d109b8-4d86-432a-9408-5ed35b4a3901",
   "metadata": {},
   "source": [
    "# trial"
   ]
  },
  {
   "cell_type": "code",
   "execution_count": null,
   "id": "2a2a2f2e-6b09-4dcd-9667-edc884353157",
   "metadata": {},
   "outputs": [],
   "source": [
    "import requests\n",
    "response = requests.get(_videoSources.video.thumb)\n",
    "\n",
    "img_byte_arr = io.BytesIO(response.content).read()\n",
    "_imagew.image_w.value = img_byte_arr"
   ]
  },
  {
   "cell_type": "code",
   "execution_count": null,
   "id": "5cf78fea-5995-4649-9df1-b92c421413ad",
   "metadata": {},
   "outputs": [],
   "source": [
    "_videoSources.video.thumb"
   ]
  },
  {
   "cell_type": "markdown",
   "id": "0a1c1adf-d885-4224-ac89-87877319be40",
   "metadata": {},
   "source": [
    "# tab"
   ]
  },
  {
   "cell_type": "code",
   "execution_count": null,
   "id": "246975fd-76bb-4c89-946a-e247f2e4bf06",
   "metadata": {},
   "outputs": [],
   "source": [
    "#!/usr/bin/env python\n",
    "\n",
    "from Tkinter import *\n",
    "import tkMessageBox\n",
    "import ttk\n",
    "\n",
    "#---------------------------------------------------------------------\n",
    "class MyTab(Frame):\n",
    "\n",
    "    def __init__(self, root, name):\n",
    "        Frame.__init__(self, root)\n",
    "\n",
    "        self.root = root\n",
    "        self.name = name\n",
    "\n",
    "        self.entry = Entry(self)\n",
    "        self.entry.pack(side=TOP)\n",
    "\n",
    "        self.entry.bind('<FocusOut>', self.alert)\n",
    "        self.entry.bind('<Key>', self.printing)\n",
    "\n",
    "        self.bind(\"<Button-1>\", self.clickFrame)\n",
    "\n",
    "    #-------------------------------\n",
    "\n",
    "    def alert(self, event):\n",
    "        print 'FocusOut event is working for ' + self.name + '  value: ' + self.entry.get()\n",
    "        #tkMessageBox.showinfo('alert', 'FocusOut event is working for ' + self.name + '  value: ' + self.entry.get())\n",
    "\n",
    "    #-------------------------------\n",
    "\n",
    "    def printing(self, event):\n",
    "        print event.keysym + ' for ' + self.name\n",
    "\n",
    "    #-------------------------------\n",
    "\n",
    "    def clickFrame(self, event):\n",
    "        print \"MyTab: click at (\" + str(event.x) + \", \" + str(event.y) + ') for ' + self.name + \" (parent name: \" + self.root.tab(CURRENT)['text'] + \")\"\n",
    "\n",
    "\n",
    "#---------------------------------------------------------------------\n",
    "\n",
    "class Application():\n",
    "\n",
    "    def __init__(self):\n",
    "\n",
    "        self.tabs = {'ky':1} \n",
    "\n",
    "        self.root = Tk()\n",
    "        self.root.minsize(300, 300)\n",
    "        self.root.geometry(\"1000x700\")\n",
    "\n",
    "        self.notebook = ttk.Notebook(self.root, width=1000, height=650)\n",
    "\n",
    "#       self.all_tabs = []\n",
    "\n",
    "        self.addTab('tab1')\n",
    "\n",
    "        self.button = Button(self.root, text='generate', command=self.start_generating).pack(side=BOTTOM)\n",
    "\n",
    "        self.notebook.pack(side=TOP)\n",
    "\n",
    "    #-------------------------------\n",
    "\n",
    "    def addTab(self, name):\n",
    "        tab = MyTab(self.notebook, name)\n",
    "        tab.bind(\"<Button-3>\", self.clickTab)\n",
    "        self.notebook.add(tab, text=\"X-\"+name)\n",
    "#       self.all_tabs.append(tab)\n",
    "\n",
    "    #-------------------------------\n",
    "\n",
    "    def clickTab(self, event):\n",
    "        print \"Application: click at (\" + str(event.x) + \", \" + str(event.y) + ') for ' + event.widget.name\n",
    "\n",
    "        #-------------------------------\n",
    "\n",
    "    def start_generating(self):\n",
    "        if self.tabs['ky'] < 4:\n",
    "            self.tabs['ky'] += 1\n",
    "            self.addTab('tab'+ str(self.tabs['ky'])) \n",
    "\n",
    "    #-------------------------------\n",
    "\n",
    "    def run(self):\n",
    "        self.root.mainloop()\n",
    "\n",
    "#----------------------------------------------------------------------\n",
    "\n",
    "Application().run()     "
   ]
  },
  {
   "cell_type": "markdown",
   "id": "8aedfb8a-6ea3-4d72-be75-06dc1b1520de",
   "metadata": {},
   "source": [
    "# OLD"
   ]
  },
  {
   "cell_type": "markdown",
   "id": "7476ce92-3b83-4f0c-bbc7-14080210045f",
   "metadata": {},
   "source": [
    "# OLD CropWidget"
   ]
  },
  {
   "cell_type": "code",
   "execution_count": null,
   "id": "3b0b6e05-0c54-49eb-824f-f86f3280ac2c",
   "metadata": {},
   "outputs": [],
   "source": [
    "class CropWidget():\n",
    "    def __init__(self, action=None, parent=None, imageWidget=None, image=None, vstreams=None):\n",
    "        self.image         = image\n",
    "        self.result        = {'image':image} \n",
    "        self.action       = action\n",
    "        self.videoAction  = None\n",
    "        self.parent       = None\n",
    "        self.imageWidget  = imageWidget\n",
    "        self.vstreams     = vstreams\n",
    "        self.index        = 0\n",
    "        \n",
    "        cropNormalizedArea = [0.0,0.0,1.0,1.0]    \n",
    "        self.regions = dict()\n",
    "        self.regions['reset'] = cropNormalizedArea\n",
    "    \n",
    "        if image != None:\n",
    "            action.size = image.size\n",
    "    \n",
    "        self.reset_button = widgets.Button(description='Reset', disabled=False, tooltip='reset all values',style=style)\n",
    "        self.reset_button.on_click(self.on_reset_button_clicked)  \n",
    "\n",
    "        self.crop_name = widgets.Text(description = 'name',value = '', style=style, layout=layout,disabled=False)\n",
    "        self.crop_name.on_submit(self.on_value_submit_crop_name)\n",
    "        self.crop_list = widgets.Dropdown(description='region',options=self.regions.keys())\n",
    "        self.crop_list.observe(self.crop_list_on_change) \n",
    "        self.crop_bookmarks = widgets.HBox([self.crop_list, self.crop_name, self.reset_button])\n",
    "\n",
    "        _max = len(vstreams)\n",
    "        if _max > 0:\n",
    "            _max = _max -1\n",
    "        self.imageselectw = widgets.IntSlider(value=0, min=0,max=_max,step=1, description='image',layout=layout)\n",
    "        self.imageselectw.observe(self.on_value_change_imageselectw, 'value')\n",
    "        self.next_image_button = widgets.Button(description='Next', disabled=False, tooltip='next image',style=style)\n",
    "        self.next_image_button.on_click(self.on_next_image_button_clicked)  \n",
    "        image_select_hbox = widgets.HBox([self.imageselectw,self.next_image_button])\n",
    "        \n",
    "        #self.cropx0 = self._IntSlider(description='x0',value=0)\n",
    "        #self.cropx1 = self._IntSlider(description='x1')\n",
    "        #self.cropx0 = widgets.IntSlider(value=0, step=1, description='x0',layout=layout)\n",
    "        #self.cropx1 = widgets.IntSlider(value=0, step=1, description='x1',layout=layout)\n",
    "        #self.cropx0.observe(self.on_value_change_crop_xmin, 'value')\n",
    "        #self.cropx1.observe(self.on_value_change_crop_xmax, 'value')\n",
    "        \n",
    "        #self.crop_hbox_x = widgets.HBox([self.cropx0, self.cropx1])\n",
    "        \n",
    "        self.crop_hbox_x = widgets.HBox()\n",
    "        self.crop_hbox_y = widgets.HBox()\n",
    "        self._addIntCropSliders()\n",
    "        \n",
    "        #self.crop_hbox_y = widgets.HBox([self.cropy0, self.cropy1])\n",
    "        \n",
    "        self.vbox   = widgets.VBox([image_select_hbox,self.crop_bookmarks,self.crop_hbox_x, self.crop_hbox_y])\n",
    "        #display(self.crop_vbox)\n",
    "        #self.imageWidget.display()\n",
    "        \n",
    "        if action != None:\n",
    "            self.initMinMax(action.size,(0,0,action.size[0]-1,action.size[1]-1))\n",
    "        \n",
    "    def _addIntCropSliders(self):\n",
    "        self.cropx0 = self._IntSlider(description='x0')\n",
    "        self.cropx1 = self._IntSlider(description='x1')\n",
    "        self.cropx0.observe(self.on_value_change_crop_xmin, 'value')\n",
    "        self.cropx1.observe(self.on_value_change_crop_xmax, 'value')\n",
    "        self.crop_hbox_x.children = (self.cropx0,self.cropx1)\n",
    "        \n",
    "        self.cropy0 =  self._IntSlider(description='y0')\n",
    "        self.cropy1 =  self._IntSlider(description='y1')\n",
    "        self.cropy0.observe(self.on_value_change_crop_ymin, 'value')\n",
    "        self.cropy1.observe(self.on_value_change_crop_ymax, 'value')\n",
    "        self.crop_hbox_y.children = (self.cropy0,self.cropy1)\n",
    "        \n",
    "    def _FloatSlider(self,description='',value=0.0,layout=layout):\n",
    "        return widgets.FloatSlider(value=value,description=description, min=0, max=1.0, step=0.001, readout_format='.3f',layout=layout)\n",
    "    \n",
    "    def _IntSlider(self,description='',value=0,max=0,layout=layout):\n",
    "        return widgets.IntSlider(value=value, max=max,step=1, description=description,layout=layout)    \n",
    "        \n",
    "    # INIT    \n",
    "    def init(self, action=None, parent=None):\n",
    "        self.videoAction = action\n",
    "        self.vstreams = action.getVstreams()\n",
    "        self.image    = self.vstreams[0]\n",
    "        \n",
    "        self.action   = CropAction(size=self.image.size,min=[0,0], max=[self.image.size[0],self.image.size[1]])\n",
    "        self.initMinMax()\n",
    "        self.imageselectw.max = len(self.vstreams) - 1\n",
    "        self.imageWidget.setImage(self.image) \n",
    "        self.parent = parent\n",
    "        self.crop_list.options=self.parent.sources.videos[self.parent.action.id]['bookmarks'].keys()\n",
    "        \n",
    "    # RESULT \n",
    "    def crop_image(self):\n",
    "        #return\n",
    "        #print(self.image.size)\n",
    "        self.result = self.action.evaluate(image=self.image)\n",
    "        #print(cropped_image.size)\n",
    "        self.imageWidget.setImage(self.result['image'])    \n",
    "        \n",
    "        \n",
    "    def initMinMax(self,size=None,cropArea = None):\n",
    "        if self.action == None:\n",
    "            return\n",
    "        \n",
    "        if size == None:\n",
    "            size = self.action.size\n",
    "            cropArea = self.action.flat()\n",
    "        \n",
    "        self.cropx0.max = size[0] - 1\n",
    "        self.cropx1.max = size[0] - 1\n",
    "        self.cropy0.max = size[1] - 1\n",
    "        self.cropy1.max = size[1] - 1\n",
    "\n",
    "        self.cropx0.value = cropArea[0]\n",
    "        self.cropy0.value = cropArea[1]\n",
    "        self.cropx1.value = cropArea[2]\n",
    "        self.cropy1.value = cropArea[3]    \n",
    "        \n",
    "    def on_value_change_crop_xmin(self,change):\n",
    "        #print(type(change['new']))\n",
    "        self.cropx1.min  = change['new']\n",
    "        self.action.min[0] = change['new']\n",
    "        self.crop_image()\n",
    "            \n",
    "    def on_value_change_crop_xmax(self,change):\n",
    "        #print(change['new'],self.action.max)\n",
    "        self.cropx0.max  = change['new']\n",
    "        self.action.max[0] = change['new']\n",
    "        self.crop_image()\n",
    "\n",
    "    def on_value_change_crop_ymin(self,change):\n",
    "        self.cropy1.min  = change['new']\n",
    "        self.action.min[1] = change['new']\n",
    "        self.crop_image()\n",
    "\n",
    "    def on_value_change_crop_ymax(self,change):\n",
    "        self.cropy0.max  = change['new']\n",
    "        self.action.max[1] = change['new']\n",
    "        self.crop_image()        \n",
    "        \n",
    "    # new bookmark event\n",
    "    def on_value_submit_crop_name(self,change):\n",
    "        #print(change)\n",
    "        self.parent.sources.videos[self.parent.action.id]['bookmarks'][change.value] = self.action.normalized()\n",
    "        #self.regions[change.value] = self.action.normalized()\n",
    "        if change.value not in self.crop_list.options:\n",
    "            self.crop_list.options = list(self.crop_list.options) + [change.value] \n",
    "        #(cropArea,image.size)\n",
    "        #print(list(self.crop_list.options),self.crop_list.value, change.value)\n",
    "        self.crop_list.value = change.value\n",
    "        \n",
    "    def crop_list_on_change(self,change):\n",
    "        if change['type'] == 'change' and change['name'] == 'value':\n",
    "            #print(self.regions[change['new']])\n",
    "            #initMinMax(image.size,bookmark_dict[change['new']])\n",
    "            #values = fromNormalizedMinMax(bookmark_dict[change['new']],image.size)\n",
    "            #initMinMax(image.size,values)\n",
    "            self.crop_name.value = change['new']\n",
    "            #print('init',self.action.size,self.regions[change['new']])\n",
    "            #self.initMinMax(self.action.size,self.action.fromNormalized(self.regions[change['new']]))\n",
    "            self.initMinMax(self.action.size,self.action.fromNormalized(self.parent.sources.videos[self.parent.action.id]['bookmarks'][change['new']]))\n",
    "            #self.initMinMax()\n",
    "\n",
    "    def on_reset_button_clicked(self,b):\n",
    "        #cropArea        = [0,0,image.size[0],image.size[1]]\n",
    "        self.action.min = [0,0]\n",
    "        self.action.max = [self.image.size[0],self.image.size[1]]\n",
    "        self.initMinMax()\n",
    "        self.crop_name.value = ''\n",
    "        #crop_list.value = ''\n",
    "\n",
    "    def updateImage(self,index):\n",
    "        #newimage = getVstream(vstreams=self.vstreams, index=index)   \n",
    "        newimage = self.vstreams[index]   \n",
    "        newsize = newimage.size\n",
    "        self.action.update(newsize)\n",
    "        self.image = newimage\n",
    "        #self.initMinMax(self.action.size,self.action.flat())\n",
    "        self.initMinMax()\n",
    "        #crop_image() \n",
    "\n",
    "    # select image slider\n",
    "    def on_value_change_imageselectw(self,change):\n",
    "        #imageselectw.disabled=True\n",
    "        #global index\n",
    "        self.index = change['new']\n",
    "        self.updateImage(self.index)\n",
    "        #imageselectw.disabled=False    \n",
    "\n",
    "    def on_next_image_button_clicked(self,b):\n",
    "        #global vstreams\n",
    "        _video   = self.videoAction.video\n",
    "        if self.videoAction.index != self.index:\n",
    "            self.videoAction = VideoAction(video=_video,index=self.index)\n",
    "        _vaction = self.videoAction\n",
    "        self.image = _vaction.readImage()\n",
    "        \n",
    "        self.initMinMax()\n",
    "        self.crop_image()\n",
    "        #self.imageWidget.setImage(self.image)\n",
    "        \n",
    "        #self.initMinMax(self.action.size,self.action.fromNormalized(self.parent.sources.videos[self.parent.id]['bookmarks'][change['new']]))\n",
    "        #self.vstreams = getVstreams(video=_video, indexes=[self.index])\n",
    "        #self.updateImage(self.index)\n",
    "\n",
    "#cropWidget = CropWidget(action=CropAction(size=image.size, min=[0,0], max=list(image.size)),imageWidget=ImageWidget(), image=image, vstreams=vstreams)   \n",
    "#cropWidget = CropWidget(action=CropAction(),imageWidget=ImageWidget())\n"
   ]
  },
  {
   "cell_type": "code",
   "execution_count": null,
   "id": "484cee9d-cabe-4239-a1c7-2b71a0180296",
   "metadata": {},
   "outputs": [],
   "source": [
    "class DisplayWidget0():\n",
    "    def __init__(self, action=None, imageWidget=None):\n",
    "        # VideoAction\n",
    "        self.action       = action\n",
    "        self.vstreams     = None\n",
    "        self.index        = 0\n",
    "        self.imageWidget  = imageWidget\n",
    "        self.image        = None\n",
    "        \n",
    "        _max = 5\n",
    "        self.next_image_button = widgets.Button(description='Next', disabled=False, tooltip='next image',style=style)\n",
    "        self.next_image_button.on_click(self.on_next_image_button_clicked)  \n",
    "        self.skipframes = widgets.Text(description   = 'skip frames',value = '10', style=style, layout=layout)\n",
    "        image_select_hbox = widgets.HBox([self.next_image_button,self.skipframes])\n",
    "        self.hbox=image_select_hbox\n",
    "        \n",
    "        # select image slider\n",
    "\n",
    "    def on_next_image_button_clicked(self,b):\n",
    "        #global vstreams\n",
    "        #_video   = self.videoAction.video\n",
    "        if self.action.index != self.index:\n",
    "            self.action = VideoAction(video=self.action.video,index=self.index)\n",
    "        self.action.skipframes = int(self.skipframes.value)\n",
    "        #self.image = self.action.readImage()\n",
    "        self.image = self.action.evaluate()\n",
    "        self.imageWidget.setImage(self.image)\n",
    "        \n",
    "    def updateImage(self):\n",
    "        #newimage = getVstream(vstreams=self.vstreams, index=index)   \n",
    "        self.image = self.vstreams[self.index]   \n",
    "        #newsize = newimage.size\n",
    "        #self.action.update(newsize)\n",
    "        self.imageWidget.setImage(self.image)\n",
    "        #self.initMinMax(self.action.size,self.action.flat())\n",
    "        #self.initMinMax()\n",
    "        #crop_image()      "
   ]
  },
  {
   "cell_type": "markdown",
   "id": "7daec988-9b78-460c-a898-3ad46abd8738",
   "metadata": {
    "tags": []
   },
   "source": [
    "# TMP"
   ]
  },
  {
   "cell_type": "markdown",
   "id": "e7a8c8f5-6298-40a6-be8f-cddeaaec11a1",
   "metadata": {},
   "source": [
    "# application Work"
   ]
  },
  {
   "cell_type": "code",
   "execution_count": null,
   "id": "689dde20-e32a-45fa-a71e-526cf7942f90",
   "metadata": {},
   "outputs": [],
   "source": [
    "#_crop.parent.action.id\n",
    "#_crop.displayWidget.action.__dict__ \n",
    "_crop.displayWidget.action.save()"
   ]
  },
  {
   "cell_type": "code",
   "execution_count": null,
   "id": "49998629-f398-4c3a-821f-683b5284a1ec",
   "metadata": {},
   "outputs": [],
   "source": [
    "_crop.action.dict()"
   ]
  },
  {
   "cell_type": "code",
   "execution_count": null,
   "id": "0480a5a7-8baf-4258-83a1-daaa8b246773",
   "metadata": {},
   "outputs": [],
   "source": [
    "def save(filename='_action.json'):\n",
    "    with open(filename, 'w', encoding='utf-8') as f:\n",
    "        json.dump(_crop.action.dict(), f, ensure_ascii=False, indent=4)    \n",
    "\n",
    "save()"
   ]
  },
  {
   "cell_type": "code",
   "execution_count": null,
   "id": "a5296515-c420-4f61-a5c9-02a204a39dca",
   "metadata": {},
   "outputs": [],
   "source": [
    "def load(filename='_action.json'):\n",
    "    with open(filename, 'r') as fp:\n",
    "        file = json.load(fp)  \n",
    "        return file        \n",
    "    \n",
    "load()"
   ]
  },
  {
   "cell_type": "code",
   "execution_count": null,
   "id": "22b8ff3b-0ff8-4178-b2f7-06e95c87896d",
   "metadata": {},
   "outputs": [],
   "source": [
    "_crop.action.load()"
   ]
  },
  {
   "cell_type": "code",
   "execution_count": null,
   "id": "1180b6f5-f8a8-4498-acee-8810563fb981",
   "metadata": {},
   "outputs": [],
   "source": [
    "#_widgets[1].videoAction.__dict__\n",
    "#_crop.displayWidget.image\n",
    "#_imageWidget.evaluate(_crop.displayWidget.image)\n",
    "#_crop.displayWidget.image\n",
    "_imageWidget.evaluate(evaluateWidgetActionList(_widgets, _crop.videoAction.evaluate(), start=1, end=3))\n"
   ]
  },
  {
   "cell_type": "markdown",
   "id": "953ab25f-f6f5-4cb8-b2f4-eca8a0fcf19b",
   "metadata": {},
   "source": [
    "# Work"
   ]
  },
  {
   "cell_type": "code",
   "execution_count": null,
   "id": "37c40fa3-1d7a-471c-9d09-8609e17f7acc",
   "metadata": {},
   "outputs": [],
   "source": [
    "\n",
    "#results_w.value = str('10')\n",
    "#results_w\n",
    "#_videoSources.video_urls.options = list('(128,128)' : (128,128))\n",
    "#_videoSources.video_urls.options = {'Hallo':'Ntt1wwgCEOQ','Hallo2':'Ntt1wwgCEOQ'}\n",
    "\n",
    "#for _video in _videoSources.sources.videos:\n",
    "#    print(video)"
   ]
  },
  {
   "cell_type": "code",
   "execution_count": null,
   "id": "5f87e3f9-8bf1-4790-acd2-246f9a8685b3",
   "metadata": {},
   "outputs": [],
   "source": [
    "display(DisplayWidget(action=_crop.videoAction,imageWidget=_imageWidget).hbox)"
   ]
  },
  {
   "cell_type": "code",
   "execution_count": null,
   "id": "5c7b64d4-bd96-44d0-9116-f2585d197c0e",
   "metadata": {},
   "outputs": [],
   "source": [
    "#VideoAction(sources=_videoSources.sources,id=_videoSources.id).dict()\n",
    "\n",
    "\n",
    "def createActionOfDict(adict):\n",
    "    return eval(adict['class'])(**adict['parameters'])\n",
    "#createActionOfDict(_videoSources.sources.dict()).videos\n",
    "\n",
    "#_crop.videoAction.dict()['parameters']['index']=2\n",
    "_action = _crop.videoAction.dict()\n",
    "_action= createActionOfDict(_action)"
   ]
  },
  {
   "cell_type": "code",
   "execution_count": null,
   "id": "78c0b101-ee7a-493a-8c77-5d4c3b0d35ed",
   "metadata": {},
   "outputs": [],
   "source": [
    "_crop.action.toNormalized().dict(),_resize.action.dict(),_crop.videoAction.dict()"
   ]
  },
  {
   "cell_type": "code",
   "execution_count": null,
   "id": "8c2b1a7a-7ce9-434a-9513-d637849cf6e3",
   "metadata": {},
   "outputs": [],
   "source": [
    "_crop.action.dict()\n"
   ]
  },
  {
   "cell_type": "code",
   "execution_count": null,
   "id": "93ff0d16-5cb0-4caa-8d07-e02f9a506f28",
   "metadata": {},
   "outputs": [],
   "source": [
    "#_action.init(sources=_videoSources.sources)\n",
    "#_videoSources.sources.dict()\n",
    "_action.init(sources=_action.sources)"
   ]
  },
  {
   "cell_type": "code",
   "execution_count": null,
   "id": "67012fc3-fdde-4ff2-98b4-e21f90b6c86b",
   "metadata": {},
   "outputs": [],
   "source": [
    "df['parameters']['index']=2"
   ]
  },
  {
   "cell_type": "code",
   "execution_count": null,
   "id": "a24fd7ac-7652-4a75-ad73-a664a46385af",
   "metadata": {},
   "outputs": [],
   "source": [
    "df = _action.dict()\n",
    "_action= createActionOfDict(df)"
   ]
  },
  {
   "cell_type": "code",
   "execution_count": null,
   "id": "6b590b38-18c3-4dde-8d1d-67ea215c24bc",
   "metadata": {},
   "outputs": [],
   "source": [
    "\n",
    "#{ **df['parameters'], **{'index':3,'skipframes':5} }\n",
    "\n",
    "def modify_parameters(old,new):\n",
    "    #return {'class':old['class']}\n",
    "    return {'class':old['class'],'parameters':{**old['parameters'],**new}}\n",
    "\n",
    "#_action = merge_dict(_crop.videoAction.dict(), {'index':4,'skipframes':5})\n",
    "#_action= createActionOfDict(_action)\n",
    "#_action.init(sources=_videoSources.sources)\n",
    "\n",
    "#_new_parameters = {'index':3,'skipframes':5, 'sources':_videoSources.sources}\n",
    "_new_parameters = {'index':3,'skipframes':5}\n",
    "#_action = createActionOfDict(modify_parameters(_crop.videoAction.dict(),_new_parameters))\n",
    "_action = _crop.videoAction.merge(parameters=_new_parameters)"
   ]
  },
  {
   "cell_type": "code",
   "execution_count": null,
   "id": "c87914d5-3cce-4039-b53b-df781032b84d",
   "metadata": {},
   "outputs": [],
   "source": [
    "{**_crop.videoAction.__dict__,**_new_parameters}\n"
   ]
  },
  {
   "cell_type": "code",
   "execution_count": null,
   "id": "7b2da37d-e13a-4b1f-ab2d-a03cbefdb805",
   "metadata": {},
   "outputs": [],
   "source": [
    "CropAction(min=(0,0),max=(1,0.5),mode=1).evaluate(image=ResizeAction(size=(700,500)).evaluate(image=_action.readImage())['image'])['image']"
   ]
  },
  {
   "cell_type": "markdown",
   "id": "67a8c4cb-8336-4800-a3ef-29033fd15f0b",
   "metadata": {
    "tags": []
   },
   "source": [
    "# Pipeline"
   ]
  },
  {
   "cell_type": "code",
   "execution_count": null,
   "id": "655b00d0-117d-411e-b5bb-b0512e4a0e26",
   "metadata": {},
   "outputs": [],
   "source": [
    "_pipeline = EasyVideoPipeLine(sources=_videoSources.sources, actions=_widgets)\n",
    "_pipeline.dict()\n",
    "#_tmp2 = createActionOfDict(_tmp.dict())"
   ]
  },
  {
   "cell_type": "code",
   "execution_count": null,
   "id": "f0c89f8c-808b-4219-b238-20384a2f2547",
   "metadata": {},
   "outputs": [],
   "source": [
    "_pipeline.save(name='test')\n",
    "#_pipeline.load().dict()"
   ]
  },
  {
   "cell_type": "code",
   "execution_count": null,
   "id": "d350b646-77c4-4b2d-8263-b1d7c9709f9a",
   "metadata": {},
   "outputs": [],
   "source": [
    "#_pipeline.dict()\n",
    "#_pipeline._filename()\n",
    "_pipeline.save()"
   ]
  },
  {
   "cell_type": "code",
   "execution_count": null,
   "id": "9baca47f-7231-424a-9049-64a460f0de45",
   "metadata": {},
   "outputs": [],
   "source": [
    "#_pipeline_dict = _pipeline.dict\n",
    "_pipeline_dict = _pipeline.load()"
   ]
  },
  {
   "cell_type": "code",
   "execution_count": null,
   "id": "5e81fa08-c013-436e-9249-c68ed69f76c6",
   "metadata": {},
   "outputs": [],
   "source": [
    "_tmp4 = EasyVideoPipeLine().from_dict(_pipeline_dict)\n",
    "#_tmp4.init()\n",
    "_imageWidget2 = ImageWidget(display=True)\n",
    "_tmp4.actions.append(_imageWidget2)"
   ]
  },
  {
   "cell_type": "code",
   "execution_count": null,
   "id": "bbc0399f-7507-4970-92c2-1049495b29f9",
   "metadata": {},
   "outputs": [],
   "source": [
    "_tmp4.actions[0].setIndex(5)\n",
    "_tmp4.actions[0].skipframes = 60\n",
    "_tmp4.evaluate()"
   ]
  },
  {
   "cell_type": "code",
   "execution_count": null,
   "id": "883f1b0b-5d9e-495e-9baf-e333b445caa6",
   "metadata": {},
   "outputs": [],
   "source": [
    "def _update(image):\n",
    "    #print(image)\n",
    "    _tmp4.evaluate()\n",
    "display(DisplayWidget(action=_tmp4.actions[0], update=_update).hbox)"
   ]
  },
  {
   "cell_type": "code",
   "execution_count": null,
   "id": "58dd9b15-c396-4a77-b762-ed5fc5cf3142",
   "metadata": {},
   "outputs": [],
   "source": [
    "\n",
    "#_tmp5 = EasyVideoPipeLine().from_dict(_tmp4.dict())\n",
    "_tmp5 = EasyVideoPipeLine().load()"
   ]
  },
  {
   "cell_type": "code",
   "execution_count": null,
   "id": "28452e9b-3f1c-49c3-b1a0-483a60dbb5af",
   "metadata": {},
   "outputs": [],
   "source": [
    "_tmp5.evaluate()['image']"
   ]
  },
  {
   "cell_type": "markdown",
   "id": "f701ac44-312f-4673-9ba8-6f0fd783bd66",
   "metadata": {},
   "source": [
    "# Create Widgets of pipeline"
   ]
  },
  {
   "cell_type": "code",
   "execution_count": null,
   "id": "233910c0-b55e-4b70-9c1c-3f84207572c8",
   "metadata": {},
   "outputs": [],
   "source": [
    "\n",
    "_tmp4.dict()['parameters']['actions'][1]\n",
    "#createActionOfDict(_tmp4.dict()['parameters']['sources'])\n",
    "_tmp4.dict()['parameters']['sources']"
   ]
  },
  {
   "cell_type": "code",
   "execution_count": null,
   "id": "c0316544-0da9-4a96-af81-f206cbe27079",
   "metadata": {},
   "outputs": [],
   "source": [
    "_pipeline_dict = _pipeline.load()\n",
    "_tmp4 = EasyVideoPipeLine().from_dict(_pipeline_dict)\n",
    "_tmp4_sources = createActionOfDict(_tmp4.dict()['parameters']['sources'])\n",
    "_tmp4_video = createActionOfDict(_tmp4.dict()['parameters']['actions'][0])\n",
    "_tmp4_crop  = createActionOfDict(_tmp4.dict()['parameters']['actions'][1])\n",
    "_tmp4_video.init(sources=_tmp4_sources)\n",
    "image = _tmp4_video.evaluate()['image']"
   ]
  },
  {
   "cell_type": "code",
   "execution_count": null,
   "id": "f2a8c503-ff2f-47e0-ac77-f57b1a4fa563",
   "metadata": {},
   "outputs": [],
   "source": [
    "_tmp4 = EasyVideoPipeLine().load()"
   ]
  },
  {
   "cell_type": "code",
   "execution_count": null,
   "id": "6fb3389f-b9e6-42aa-98ad-409e4e3cd874",
   "metadata": {},
   "outputs": [],
   "source": [
    "_tmp4.actions"
   ]
  },
  {
   "cell_type": "code",
   "execution_count": null,
   "id": "b10805b1-552a-4151-a4f3-141ccdf47935",
   "metadata": {
    "tags": []
   },
   "outputs": [],
   "source": [
    "tab  = widgets.Tab(children = [_videoSources.vbox, _crop.vbox, _resize.vbox])\n",
    "tab.set_title(0, 'videos')\n",
    "tab.set_title(1, 'crop')\n",
    "tab.set_title(2, 'resize')\n",
    "display(tab)"
   ]
  },
  {
   "cell_type": "markdown",
   "id": "2e4863ff-2952-4151-9a5f-ee4c5d91c49f",
   "metadata": {
    "tags": []
   },
   "source": [
    "## tab OLD"
   ]
  },
  {
   "cell_type": "code",
   "execution_count": null,
   "id": "05fdcf98-8508-41df-b4b9-7a0c56593d2d",
   "metadata": {},
   "outputs": [],
   "source": [
    "_tmp4 = EasyVideoPipeLine().load('ecke.json')\n",
    "\n",
    "_run = widgets.Checkbox(description='loop',value=False)\n",
    "display(_run)\n",
    "\n",
    "_displayWidget = DisplayWidget(action=_tmp4.actions[0])\n",
    "display(_displayWidget.hbox)  \n",
    "\n",
    "_imageWidget2 = ImageWidget(display=False)\n",
    "_tab = TabWidget(action=_tmp4.actions[0], displayWidget=_displayWidget,imageWidget=_imageWidget2)\n",
    "display(_tab.tab)\n",
    "_imageWidget2.display()\n",
    "\n",
    "_tab.create_widget(_tmp4.sources,imageWidget=_imageWidget2)\n",
    "\n",
    "_parent = None\n",
    "for _action in _tmp4.actions:\n",
    "    _widget = _tab.create_widget(_action,imageWidget=_imageWidget2)\n",
    "    if _widget != None:\n",
    "        _widget.parent = _parent\n",
    "    _parent = _widget\n",
    "    \n",
    "_tab._widgets[1].crop_list.options = _tmp4.actions[0].sources.videos[_tmp4.actions[0].id]['bookmarks'].keys()    \n",
    "_tab._widgets[1].parent = _tmp4.actions[0]\n",
    "_tab._widgets[1].displayWidget = _displayWidget\n",
    "\n",
    "_tab._widgets[2].parent = _tab._widgets[1]\n",
    "\n",
    "exe = HaltableActionExecutor(booleanField=_run,imageWidget=_imageWidget2,sleep=0,action=_tab,name='test')\n",
    "#exe.start()"
   ]
  },
  {
   "cell_type": "code",
   "execution_count": null,
   "id": "f77d8ac5-6faf-4bf7-b28b-476f84be3deb",
   "metadata": {},
   "outputs": [],
   "source": [
    "#_tmp4.dict()\n",
    "#_tab.evaluate()\n",
    "_tab._widgets[1].get_result()\n",
    "_tab._widgets[2].parent"
   ]
  },
  {
   "cell_type": "code",
   "execution_count": null,
   "id": "02589684-8d2b-4718-90c5-66f00620b6ed",
   "metadata": {},
   "outputs": [],
   "source": [
    "_widget = CropWidget(action=CropAction(min=[0.0,0.0],max=[1.0,1.0],mode=CropAction.NORMALIZED),imageWidget=_imageWidget2)\n",
    "_tab.add(_widget)\n",
    "_widget.parent = _tab._widgets[len(_tab._widgets)-2]"
   ]
  },
  {
   "cell_type": "code",
   "execution_count": null,
   "id": "8010f8fe-b1d3-47de-a1fb-645dfd3bf6be",
   "metadata": {},
   "outputs": [],
   "source": [
    "\n",
    "\n",
    "#_tab._widgets[3].action.evaluate(_tab._widgets[2].result)\n",
    "\n",
    "#_tab._widgets[3].action.evaluate\n",
    "\n",
    "\n",
    "type(_tab._widgets[2].result)\n",
    "\n",
    "\n",
    "def _evaluate(**kwargs):\n",
    "    print(type(kwargs))\n",
    "    \n",
    "#_evaluate(**_tab._widgets[2].result)    \n",
    "\n",
    "_tab._widgets[3].action.result.keys()"
   ]
  },
  {
   "cell_type": "code",
   "execution_count": null,
   "id": "fccaf140-3a23-466d-93be-a8278b58a8d6",
   "metadata": {},
   "outputs": [],
   "source": [
    "_widget.__dict__"
   ]
  },
  {
   "cell_type": "code",
   "execution_count": null,
   "id": "2ecbba7a-a1da-4bf2-b8c3-c08169090041",
   "metadata": {},
   "outputs": [],
   "source": [
    "\n",
    "#_tab._widgets[3].action.result\n",
    "\n",
    "_widgets2 = []\n",
    "for key, value in _widget.result.items():\n",
    "    if key != 'image':\n",
    "        _widgets2.append(widgets.Text(description = key, value=str(value), style=style, layout=layout2))"
   ]
  },
  {
   "cell_type": "code",
   "execution_count": null,
   "id": "3f664c1e-6117-474b-b50a-f4f5c2785d43",
   "metadata": {},
   "outputs": [],
   "source": [
    "#_widget.vbox = widgets.VBox(_widgets2)\n",
    "#_tab._widgets[3].vbox = widgets.VBox(_widgets2)\n",
    "_tab._widgets_vbox[3] = widgets.VBox(_widgets2)\n",
    "_tab.tab.children = _tab._widgets_vbox  "
   ]
  },
  {
   "cell_type": "code",
   "execution_count": null,
   "id": "1a29ce6b-a237-4295-8184-b0f20ab57d19",
   "metadata": {},
   "outputs": [],
   "source": [
    "_tab._widgets_vbox[3].children[1].value = str(0.4)"
   ]
  },
  {
   "cell_type": "code",
   "execution_count": null,
   "id": "53778840-8025-46ee-a294-ff9355401745",
   "metadata": {},
   "outputs": [],
   "source": [
    "_widget.vbox.children = _widgets2"
   ]
  },
  {
   "cell_type": "code",
   "execution_count": null,
   "id": "4695e187-9fa1-4a14-b333-330fb37501d6",
   "metadata": {},
   "outputs": [],
   "source": [
    "def myfunc(**kwargs):\n",
    "    # kwargs is a dictionary.\n",
    "    for k,v in kwargs.items():\n",
    "         print (\"%s = %s\" % (k, v))\n",
    "    if 'image' in kwargs.keys():\n",
    "        print('found')\n",
    "    \n",
    "myfunc(result=5, image=None)"
   ]
  },
  {
   "cell_type": "code",
   "execution_count": null,
   "id": "d966f2a5-ee4b-4f13-bf82-39f29a15d768",
   "metadata": {},
   "outputs": [],
   "source": [
    "_tab.add(TemplateWidget())"
   ]
  },
  {
   "cell_type": "code",
   "execution_count": null,
   "id": "7a385925-ee84-471c-880b-1d621ad9c353",
   "metadata": {},
   "outputs": [],
   "source": [
    "_tab._widgets[3].result"
   ]
  },
  {
   "cell_type": "code",
   "execution_count": null,
   "id": "ac3ea815-503a-4a83-8123-ec15e82a9ae2",
   "metadata": {},
   "outputs": [],
   "source": [
    "_tab.create_widget(ContrastBrightnessAction().load(),imageWidget=_imageWidget2)"
   ]
  },
  {
   "cell_type": "code",
   "execution_count": null,
   "id": "eb0b9824-e9db-475d-a684-424cd31b4edd",
   "metadata": {},
   "outputs": [],
   "source": [
    "_tab._widgets[3].contrast_w.max = 5000\n",
    "_tab._widgets[3].brightness_w.max = 2.0"
   ]
  },
  {
   "cell_type": "code",
   "execution_count": null,
   "id": "851a9d03-43c0-484d-8de6-31cf90fe49f1",
   "metadata": {},
   "outputs": [],
   "source": [
    "_tmp4.actions[0].index = 5\n",
    "exe.action=_tab._widgets[1].action"
   ]
  },
  {
   "cell_type": "code",
   "execution_count": null,
   "id": "e6c313ec-75e5-42f9-823e-87d7fe940713",
   "metadata": {},
   "outputs": [],
   "source": [
    "_run = widgets.Checkbox(description='loop',value=False)\n",
    "display(_run)\n",
    "exe = HaltableActionExecutor(booleanField=_run,imageWidget=_imageWidget2,sleep=0,action=_tmp4,name='test')\n",
    "exe.start()"
   ]
  },
  {
   "cell_type": "code",
   "execution_count": null,
   "id": "47f60ee7-6288-4d3d-ae48-3c8aee181bb5",
   "metadata": {},
   "outputs": [],
   "source": [
    "asyncio.all_tasks()"
   ]
  },
  {
   "cell_type": "code",
   "execution_count": null,
   "id": "58f6a831-4114-4734-be29-57f675de2128",
   "metadata": {},
   "outputs": [],
   "source": [
    "asyncio.Task.current_task().name = \"#{}\".format('hallo')\n",
    "\n"
   ]
  },
  {
   "cell_type": "code",
   "execution_count": null,
   "id": "f80bd24e-71a5-4828-9965-7c3734c15949",
   "metadata": {},
   "outputs": [],
   "source": [
    "deleteAllTasks('test')"
   ]
  },
  {
   "cell_type": "code",
   "execution_count": null,
   "id": "f0331d74-4739-4b5b-a8e6-6b942206ccd4",
   "metadata": {},
   "outputs": [],
   "source": [
    "#_imageWidget2.evaluate(_tab.evaluateWidgetActionList(_tab._widgets[0].evaluate(), start=1, end=1))\n",
    "#_tab._widgets[0].evaluate()\n",
    "#_tab._widgets[1].action\n",
    "#_tmp4.sources\n",
    "#_tab._widgets[0].__dict__\n",
    "#_displayWidget.action.evaluate()['image']\n",
    "#_displayWidget.evaluate()['image']\n",
    "#_displayWidget.__dict__\n",
    "#_tmp4.actions[0].dict()\n",
    "#_displayWidget.action.dict()\n",
    "#_tab.displayWidget.image\n",
    "#self.crop_list.options=self.parent.sources.videos[self.id]['bookmarks'].keys()\n",
    "#_tmp4.actions[0].sources.videos[_tmp4.actions[0].id]['bookmarks'].keys()\n",
    "\n",
    "#_tab._widgets[0].sources.__dict__\n",
    "#_tmp4.actions[0].dict()\n",
    "#_tmp4.actions[0].__dict__\n",
    "#_tmp4.actions[0]\n",
    "#_displayWidget.action.__dict__\n",
    "#_tmp4.actions[0].dict()\n",
    "#DisplayWidget(action=_tmp4.actions[0]).action.__dict__\n",
    "#_tab._widgets[2].parent = _tab._widgets[1]\n",
    "_tmp4.save()"
   ]
  },
  {
   "cell_type": "code",
   "execution_count": null,
   "id": "c30ac09c-3c0f-4076-8b3c-74495af97b03",
   "metadata": {},
   "outputs": [],
   "source": [
    "self.initMinMax(self.action.size,self.action.fromNormalized(self.parent.sources.videos[self.id]['bookmarks'][change['new']]))"
   ]
  },
  {
   "cell_type": "code",
   "execution_count": null,
   "id": "e7b62a01-ef3c-4e43-a305-bad185705ece",
   "metadata": {},
   "outputs": [],
   "source": [
    "_tmp4 = EasyVideoPipeLine().load()\n",
    "\n",
    "#_dict = {'CropAction':'CropWidget', 'ResizeAction':'ResizeWidget','VideoAction':'LiveVideoSourcesWidget'}\n",
    "_dict = {'CropAction':'CropWidget', 'ResizeAction':'ResizeWidget', 'LiveVideoSources':'LiveVideoSourcesWidget'}\n",
    "\n",
    "_imageWidget2 = ImageWidget(display=False)\n",
    "\n",
    "_widgets = []\n",
    "_widgets_vbox = []\n",
    "\n",
    "def add_to_widgets(_action):\n",
    "    _name = _action.__class__.__name__\n",
    "    if _name in _dict.keys():\n",
    "        _class = eval(_dict[_name])(action=_action, imageWidget=_imageWidget2)\n",
    "        _widgets.append(_class)\n",
    "        _widgets_vbox.append(_class.vbox)\n",
    "\n",
    "add_to_widgets(_tmp4.sources)        \n",
    "for _action in _tmp4.actions:\n",
    "    add_to_widgets(_action)\n",
    "        \n",
    "_tab  = widgets.Tab(children=_widgets_vbox)\n",
    "for ind, _widget in enumerate(_widgets):\n",
    "    _tab.set_title(ind, _widget.action.__class__.__name__)\n",
    "    \n",
    "display(_tab)\n",
    "_imageWidget2.display()"
   ]
  },
  {
   "cell_type": "code",
   "execution_count": null,
   "id": "c7d420fa-387a-4169-be80-ecce3d392ca3",
   "metadata": {},
   "outputs": [],
   "source": [
    "_tmp4_video = _tmp4.actions[0]\n",
    "_tmp_displayWidget = DisplayWidget(action=_tmp4_video,update=_tmp4_crop_widget.updateImage)\n",
    "display(_tmp4_crop_widget.displayWidget.hbox)"
   ]
  },
  {
   "cell_type": "code",
   "execution_count": null,
   "id": "c294aa5e-107d-499c-8e45-048c0a512f1f",
   "metadata": {},
   "outputs": [],
   "source": [
    "_tmp4_crop = _tmp4.actions[1]\n",
    "_tmp4_crop_widget = CropWidget(action=_tmp4_crop)\n",
    "display(_tmp4_crop_widget.vbox)\n",
    "\n",
    "_tmp4_video = _tmp4.actions[0]\n",
    "_tmp4_crop_widget.displayWidget = DisplayWidget(action=_tmp4_video,update=_tmp4_crop_widget.updateImage)\n",
    "display(_tmp4_crop_widget.displayWidget.hbox)\n",
    "\n",
    "_image = _tmp4.actions[0].evaluate()\n",
    "_tmp4_crop_widget.updateImage(_image)\n"
   ]
  },
  {
   "cell_type": "code",
   "execution_count": null,
   "id": "21bb185f-7574-4ea4-834a-18574c2bd7d5",
   "metadata": {},
   "outputs": [],
   "source": [
    "_tmp4.actions[1].evaluate(_image)['image']"
   ]
  },
  {
   "cell_type": "code",
   "execution_count": null,
   "id": "f0b7bda8-5d05-42b5-a257-7ca4945acdf7",
   "metadata": {},
   "outputs": [],
   "source": [
    "\n",
    "_tmp4.actions[1].__dict__, _tmp4_crop_widget.action.__dict__"
   ]
  },
  {
   "cell_type": "code",
   "execution_count": null,
   "id": "57d1d0c4-7065-48e5-89a1-913736599cee",
   "metadata": {},
   "outputs": [],
   "source": []
  },
  {
   "cell_type": "code",
   "execution_count": null,
   "id": "6116ee73-5bbf-4caf-9725-21a830cc6fcf",
   "metadata": {},
   "outputs": [],
   "source": [
    "#_tmp4.dict()\n",
    "_tmp4_crop.dict()\n",
    "_tmp4_video.dict()\n",
    "_tmp4_video.stream.dimensions\n",
    "_tmp4_crop.__dict__"
   ]
  },
  {
   "cell_type": "code",
   "execution_count": null,
   "id": "0a6457a8-aea7-4ccf-b7f1-3c8af4fea1a1",
   "metadata": {},
   "outputs": [],
   "source": [
    "_tmp4.actions[1].__dict__, _tmp4_crop_widget.action.__dict__"
   ]
  },
  {
   "cell_type": "code",
   "execution_count": null,
   "id": "8afd8ac2-cb91-4c4c-9b9e-55157f51eee0",
   "metadata": {},
   "outputs": [],
   "source": [
    "_tmp4_crop_widget = CropWidget(action=_tmp4_crop, videoAction=_tmp4_video ,parent=None)\n",
    "display(_tmp4_crop_widget.vbox)\n",
    "\n",
    "_tmp4_crop_widget.displayWidget = DisplayWidget(action=_tmp4_video,update=_tmp4_crop_widget.updateImage)\n",
    "display(_tmp4_crop_widget.displayWidget.hbox)\n",
    "\n"
   ]
  },
  {
   "cell_type": "code",
   "execution_count": null,
   "id": "6f076dc3-c8e4-4ac6-9f79-1d1fe8ee1b7b",
   "metadata": {},
   "outputs": [],
   "source": [
    "_tmp4_crop_widget.action.dict()"
   ]
  },
  {
   "cell_type": "code",
   "execution_count": null,
   "id": "fac87b35-875c-4cf0-9ab2-808f02d5579e",
   "metadata": {},
   "outputs": [],
   "source": [
    "_tmp4_sources.get_keys()\n",
    "_tmp4_sources.videos[_tmp4_video.id]"
   ]
  },
  {
   "cell_type": "code",
   "execution_count": null,
   "id": "18563f34-1a44-4145-928f-14324e7018d4",
   "metadata": {},
   "outputs": [],
   "source": [
    "#_tmp4_sources_widget = LiveVideoSourcesWidget(child=_tmp4_crop_widget, filename = '../videos.json', action=_tmp4_sources, id=_tmp4_video.id)\n",
    "_tmp4_sources_widget = LiveVideoSourcesWidget(filename = '../videos.json', action=_tmp4_sources, id=_tmp4_video.id)\n",
    "display(_tmp4_sources_widget.vbox)"
   ]
  },
  {
   "cell_type": "code",
   "execution_count": null,
   "id": "5fd1592d-2803-4bf9-986a-394ea479eaaf",
   "metadata": {},
   "outputs": [],
   "source": [
    "_tmp4_sources_widget.child = _tmp4_crop_widget"
   ]
  },
  {
   "cell_type": "code",
   "execution_count": null,
   "id": "d36bafcc-14e4-4e77-a755-7338bb8069aa",
   "metadata": {},
   "outputs": [],
   "source": [
    "_tmp4_crop_widget.displayWidget.image"
   ]
  },
  {
   "cell_type": "code",
   "execution_count": null,
   "id": "ec85d6c6-5d19-4d88-9055-c1b16b0e5729",
   "metadata": {},
   "outputs": [],
   "source": [
    "_tmp4.dict()"
   ]
  },
  {
   "cell_type": "code",
   "execution_count": null,
   "id": "9ac6dfa9-2fa6-42d9-b40c-0e16a584f78f",
   "metadata": {},
   "outputs": [],
   "source": [
    "_tmp4_crop.size"
   ]
  },
  {
   "cell_type": "code",
   "execution_count": null,
   "id": "3ac9b0d7-1987-4790-a2b4-d5980c00a01e",
   "metadata": {},
   "outputs": [],
   "source": [
    "#_tmp4_crop.evaluate(_tmp4_video.evaluate()['image'])['image']\n",
    "\n",
    "image = _tmp4_video.evaluate()['image']\n",
    "#_tmp4_crop.fromNormalized(_tmp4_crop.flat(), size=image.size)\n",
    "#_tmp4_crop.flat()\n",
    "image"
   ]
  },
  {
   "cell_type": "code",
   "execution_count": null,
   "id": "5ff21d0a-4b45-45a3-b5ae-d5dc18c0ae67",
   "metadata": {},
   "outputs": [],
   "source": [
    "_tmp4_crop.__dict__"
   ]
  },
  {
   "cell_type": "code",
   "execution_count": null,
   "id": "0cd55128-f6c0-4430-b3f7-98077bcaefe3",
   "metadata": {},
   "outputs": [],
   "source": [
    "self.initMinMax(action.size,(0,0,action.size[0]-1,action.size[1]-1))"
   ]
  },
  {
   "cell_type": "code",
   "execution_count": null,
   "id": "0fd8b38c-9f19-434e-950b-68b5c64692a1",
   "metadata": {},
   "outputs": [],
   "source": [
    "#_tmp4_crop.__dict__\n",
    "#_tmp4_video.evaluate()\n",
    "#_tmp4_video.__dict__\n",
    "_tmp4_crop.action.__dict__"
   ]
  },
  {
   "cell_type": "code",
   "execution_count": null,
   "id": "d182278e-268c-4d44-b21e-0b8ecab7a81f",
   "metadata": {},
   "outputs": [],
   "source": [
    "#_tmp4_crop_widget.action.__dict__\n",
    "#_tmp4_crop_widget.action.normalized()\n",
    "#_tmp4_crop_widget.action.min\n",
    "#_tmp4_crop_widget.action.crop(_tmp4_crop_widget.action._flat())\n",
    "#_tmp4_crop_widget.action._flat(), _tmp4_crop_widget.action.__dict__\n",
    "#_tmp4_crop.__dict__\n",
    "#_tmp4_crop.flat()\n",
    "#_tmp4_crop.toWorld(image.size).__dict__\n",
    "#_tmp4_crop_widget.action.__dict__\n",
    "_tmp4_crop_widget.result['image']\n",
    "#_tmp4_crop_widget.displayWidget.image"
   ]
  },
  {
   "cell_type": "code",
   "execution_count": null,
   "id": "9b3a8047-2e91-471b-bcc5-e2546845991e",
   "metadata": {},
   "outputs": [],
   "source": [
    "#_tmp4_sources.__dict__\n",
    "_tmp4_sources_widget.video_urls.value\n",
    "#_tmp4_sources_widget.id\n",
    "_tmp4_video.id"
   ]
  },
  {
   "cell_type": "code",
   "execution_count": null,
   "id": "6aa6769e-0f8b-46fb-bfbb-3d4225c91b94",
   "metadata": {},
   "outputs": [],
   "source": [
    "#_tmp4_video.__dict__\n",
    "#_tmp4_crop_widget.displayWidget.on_next_image_button_clicked('')\n",
    "\n",
    "#action.update(size)\n",
    "\n",
    "_tmp4_crop_widget.action.__dict__\n",
    "_size = _tmp4_crop_widget.displayWidget.image.size\n",
    "#_tmp4_crop_widget.action.update(_size)\n",
    "\n",
    "_tmp4_crop_widget.action.mode == _tmp4_crop_widget.action.WORLD\n",
    "\n",
    "_tmp4_crop_widget.action.toWorld(size=_size).__dict__"
   ]
  },
  {
   "cell_type": "code",
   "execution_count": null,
   "id": "e5aa1919-e01d-42ff-a850-d79a16e82a6e",
   "metadata": {},
   "outputs": [],
   "source": [
    "#_tmp4_video.evaluate()['image']\n",
    "image = _tmp4_crop_widget.displayWidget.image\n",
    "#_tmp4_crop_widget.updateImage(_tmp4_crop_widget.displayWidget.image)\n",
    "\n",
    "#_tmp4_crop_widget.action.fromNormalized(_tmp4_crop_widget.action.flat(), size=image.size)\n",
    "#_tmp4_crop_widget.action.__dict__, _tmp4_crop.__dict__\n",
    "#_tmp4_crop_widget.action.__dict__, _tmp4_crop_widget.action.fromNormalized(_tmp4_crop_widget.action.flat(), size=image.size).__dict__\n",
    "image"
   ]
  },
  {
   "cell_type": "code",
   "execution_count": null,
   "id": "23150efe-71e6-4fb4-bb0f-fa3cc01373a3",
   "metadata": {},
   "outputs": [],
   "source": [
    "_tmp4_crop_widget.action.__dict__, _tmp4_crop.__dict__"
   ]
  },
  {
   "cell_type": "code",
   "execution_count": null,
   "id": "e21510f9-735b-4770-b671-6a716d36174b",
   "metadata": {},
   "outputs": [],
   "source": [
    "if isinstance(_tmp.dict(), dict):\n",
    "    print('dict')\n",
    "\n",
    "\n",
    "#EasyVideoPipeLine().from_dict(_tmp.dict()).sources.videos\n",
    "\n",
    "_tmp3 = EasyVideoPipeLine().from_dict(_tmp.dict())\n",
    "_tmp3.actions[0].init(sources=_tmp3.sources)\n",
    "_action0 = _tmp3.actions[0]\n",
    "_action0.setIndex(2)\n",
    "_imageWidget2 = ImageWidget(display=True)"
   ]
  },
  {
   "cell_type": "code",
   "execution_count": null,
   "id": "4adf4e8c-d3e7-4aa6-93ba-6322dce1578a",
   "metadata": {},
   "outputs": [],
   "source": [
    "_action0.setIndex(1)"
   ]
  },
  {
   "cell_type": "code",
   "execution_count": null,
   "id": "dd377d27-df09-40e3-aef8-836f62be0e9a",
   "metadata": {},
   "outputs": [],
   "source": [
    "_action0.skipFrames(15)\n",
    "_tmp3.actions[0].evaluate()['image']\n",
    "_imageWidget2.setImage(_tmp3.actions[0].evaluate())"
   ]
  },
  {
   "cell_type": "code",
   "execution_count": null,
   "id": "d6c9e3a7-7ed2-433c-90f0-1fd6ffff61c3",
   "metadata": {},
   "outputs": [],
   "source": [
    "_action1 = _tmp3.actions[1]\n",
    "_action2 = _tmp3.actions[2]\n",
    "\n",
    "_action2.algorithm = Image.LANCZOS\n",
    "\n",
    "#_action2.evaluate(_action1.evaluate(_imageWidget2.getImage())['image'])['image']\n",
    "\n",
    "_imageWidget2.setImage(_action1.evaluate(_imageWidget2.getImage())['image'])\n",
    "\n",
    "#_action2.dict()"
   ]
  },
  {
   "cell_type": "code",
   "execution_count": null,
   "id": "c9670eeb-658d-4e40-a868-920940054fdb",
   "metadata": {},
   "outputs": [],
   "source": [
    "#_tmp3.actions[2].algorithm = Image.LANCZOS\n",
    "_tmp3.actions[2].__dict__\n",
    "_tmp3.actions[0].setIndex(5)\n",
    "_tmp3.actions[0].skipframes = 60"
   ]
  },
  {
   "cell_type": "code",
   "execution_count": null,
   "id": "cf5fbf42-6c6a-457c-81ff-20696829c0bf",
   "metadata": {},
   "outputs": [],
   "source": [
    "_tmp3.actions[0].__dict__"
   ]
  },
  {
   "cell_type": "code",
   "execution_count": null,
   "id": "a907effc-f11d-4b31-b3e1-4531837aa562",
   "metadata": {},
   "outputs": [],
   "source": [
    "# set result to imagewidget\n",
    "_imageWidget2.evaluate(**  evaluateActionList(_tmp3.actions, {}))"
   ]
  },
  {
   "cell_type": "code",
   "execution_count": null,
   "id": "42e57cf2-d9d8-4fbc-a803-435104251f4c",
   "metadata": {},
   "outputs": [],
   "source": [
    "_actions = [ResizeAction(size=(900,500))]\n",
    "evaluateActionList(_actions, {'image':_action.readImage()})['image']"
   ]
  },
  {
   "cell_type": "code",
   "execution_count": null,
   "id": "2db314ef-0b8b-43bf-a1c1-5f1260ae69fb",
   "metadata": {},
   "outputs": [],
   "source": [
    "#_action.sources.videos[_action.id]\n",
    "_action.video"
   ]
  },
  {
   "cell_type": "code",
   "execution_count": null,
   "id": "fb95cc64-ece2-4ae9-a8bf-1f5fca79772c",
   "metadata": {},
   "outputs": [],
   "source": [
    "_videoSources.sources.videos[list(_videoSources.sources.videos.keys())[1]]"
   ]
  },
  {
   "cell_type": "code",
   "execution_count": null,
   "id": "26916ac0-893c-4b3f-8609-1eacac12b5b0",
   "metadata": {},
   "outputs": [],
   "source": [
    "_action.evaluate()['image']"
   ]
  },
  {
   "cell_type": "code",
   "execution_count": null,
   "id": "631b63ad-3c94-4413-a6b1-f9973fe615a0",
   "metadata": {},
   "outputs": [],
   "source": [
    "CropAction(min=(0,0),max=(480,640),size=(1920,1080),mode=CropAction.WORLD).dict(), CropAction(min=(0,0),max=(480,640),size=(1920,1080),mode=CropAction.WORLD).toNormalized().__dict__"
   ]
  }
 ],
 "metadata": {
  "kernelspec": {
   "display_name": "Python 3",
   "language": "python",
   "name": "python3"
  },
  "language_info": {
   "codemirror_mode": {
    "name": "ipython",
    "version": 3
   },
   "file_extension": ".py",
   "mimetype": "text/x-python",
   "name": "python",
   "nbconvert_exporter": "python",
   "pygments_lexer": "ipython3",
   "version": "3.9.2"
  }
 },
 "nbformat": 4,
 "nbformat_minor": 5
}

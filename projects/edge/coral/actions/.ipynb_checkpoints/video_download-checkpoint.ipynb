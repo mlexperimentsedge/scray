{
 "cells": [
  {
   "cell_type": "code",
   "execution_count": null,
   "id": "certified-collapse",
   "metadata": {},
   "outputs": [],
   "source": [
    "from ipynb.fs.full.video_actions_v2 import *"
   ]
  },
  {
   "cell_type": "code",
   "execution_count": null,
   "id": "enabling-fountain",
   "metadata": {},
   "outputs": [],
   "source": [
    "from os import listdir\n",
    "_filename = '../data/videos/single/' + listdir('../data/videos/single')[1]\n",
    "_sources = LiveVideoSources(_filename)\n",
    "_id = list(_sources.videos.keys())[0]\n",
    "_action = VideoAction(sources=_sources, id=_id, index=5)\n",
    "_action.evaluate()['image'].save('test.png')"
   ]
  }
 ],
 "metadata": {
  "kernelspec": {
   "display_name": "Python 3",
   "language": "python",
   "name": "python3"
  },
  "language_info": {
   "codemirror_mode": {
    "name": "ipython",
    "version": 3
   },
   "file_extension": ".py",
   "mimetype": "text/x-python",
   "name": "python",
   "nbconvert_exporter": "python",
   "pygments_lexer": "ipython3",
   "version": "3.8.8"
  }
 },
 "nbformat": 4,
 "nbformat_minor": 5
}

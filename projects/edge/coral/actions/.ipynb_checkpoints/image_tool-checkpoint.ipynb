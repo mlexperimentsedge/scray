{
 "cells": [
  {
   "cell_type": "code",
   "execution_count": null,
   "id": "f5cf17e6-cbc8-4dea-84c3-2bc9eb1e5226",
   "metadata": {},
   "outputs": [],
   "source": [
    "import numpy as np\n",
    "from PIL import Image, ImageFont, ImageDraw, ImageEnhance\n",
    "\n",
    "class ImageTool:\n",
    "    def __init__(self, filename=None, image=None, size=None):\n",
    "        self.filename = filename\n",
    "        self.image = image\n",
    "\n",
    "        if image is None:\n",
    "            self.image = ImageTool.load(filename)\n",
    "        \n",
    "        #ratio = h / self.image.size[1]\n",
    "        #newsize = (int(ratio * self.image.size[0]), int(ratio * self.image.size[1]) )\n",
    "        #self.image = self.image.resize([newsize[0],newsize[1]],Image.ANTIALIAS)\n",
    "\n",
    "    def testload(self):\n",
    "        #load(filename)\n",
    "        print(self.image.size)\n",
    "        display(self.image) \n",
    "        #return image\n",
    "        \n",
    "    def printSize(self):\n",
    "        print(self.image.size)\n",
    "        \n",
    "    def load(filename):\n",
    "        return Image.open(open(filename, 'rb'))\n",
    "    \n",
    "    def crop(self,left, top, right, bottom):  \n",
    "        try:\n",
    "            image = self.image.crop((left, top, right, bottom))\n",
    "            self.image = image\n",
    "        except IOError:\n",
    "            print( \"cannot create thumbnail for '%s'\" % filename)\n",
    " \n",
    "    def drawText(self, text, x,y, size=20, color='red'):\n",
    "        draw = ImageDraw.Draw(self.image)\n",
    "        fnt = ImageFont.truetype(\"DejaVuSans.ttf\", size)\n",
    "        draw.text((x,y), text, font=fnt, fill=color)\n",
    "\n",
    "    def drawPoint(self, x,y,r,rgba):\n",
    "        draw = ImageDraw.Draw(self.image)\n",
    "        leftUpPoint = (x-r, y-r)\n",
    "        rightDownPoint = (x+r, y+r)\n",
    "        twoPointList = [leftUpPoint, rightDownPoint]\n",
    "        draw.ellipse(twoPointList, fill=rgba)\n",
    "\n",
    "    def drawLine(self,ax,ay,bx,by,color='red',width=1):\n",
    "        draw = ImageDraw.Draw(self.image)\n",
    "        draw.line((ax,ay,bx,by), fill=color, width=width)\n",
    "\n",
    "    def drawBox(self,gx0 , gy0, gx1, gy1,color='white',width=1):\n",
    "        draw = ImageDraw.Draw(self.image)\n",
    "        draw.rectangle(((gx0, gy0), (gx1, gy1)), outline=color, width=width)"
   ]
  }
 ],
 "metadata": {
  "kernelspec": {
   "display_name": "Python 3 (ipykernel)",
   "language": "python",
   "name": "python3"
  },
  "language_info": {
   "codemirror_mode": {
    "name": "ipython",
    "version": 3
   },
   "file_extension": ".py",
   "mimetype": "text/x-python",
   "name": "python",
   "nbconvert_exporter": "python",
   "pygments_lexer": "ipython3",
   "version": "3.9.7"
  }
 },
 "nbformat": 4,
 "nbformat_minor": 5
}

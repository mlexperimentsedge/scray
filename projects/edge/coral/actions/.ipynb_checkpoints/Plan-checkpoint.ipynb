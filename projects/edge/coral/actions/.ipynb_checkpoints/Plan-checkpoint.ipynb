{
 "cells": [
  {
   "cell_type": "markdown",
   "id": "7805321c-e0e7-4ba3-9e31-70949d3c664b",
   "metadata": {
    "tags": []
   },
   "source": [
    "# Test\n",
    "\n",
    "Erstellen von Pipelines (Bild / Videostream -> Crop -> Resize -> Erkennung (Modell) -> Ergebnis)\n",
    "\n",
    "Topics: Automatische Beschreibung: Wann passiert was ?\n",
    "Erkennung optimieren für das Modell\n",
    "Ergebnisse wiederholbar dokumentieren\n",
    "Textbeschreibung eines Bildes mit Template-Sätzen (z.B. Anzahl Objekte, Personen, Zeit, Ort )\n",
    "an Hand von Bildern und Streams\n",
    "\n",
    "zunächst an Stichprobe (Bilder)\n",
    "\n",
    "Flächen ohne Personen und Objekte\n",
    "\n",
    "Kombination und Bewertung von ML-Modellen am Beispiel\n",
    "Beschreibung / Story / Integration von Ergebnissen der Modelle in Story\n",
    "\n",
    "optimaler Bildausschnitt\n",
    "optimale Bildgröße für Erkennung\n",
    "\n",
    "Bildgröße optimal für ML-Modell (crop + resize)\n",
    "\n",
    "Erkennung auf ganzem Bild\n",
    "Ganzes Bild\n",
    "\n",
    "Vergleich Erkennung Gesamtbild und Grid / etc.\n",
    "\n",
    "Erstellung von Grids oder Regionen\n",
    "Verfahren: n x m , startet bei Nullpunkt, achsparallel\n",
    "Frage: Welche Gridgröße ist optimal ? Kann diese automatisch gesetzt werden ?\n",
    "Problem: Person geht über meherre Grids\n",
    "1 x m (Vordergrund / Hintergrund)\n",
    "\n",
    "Frage: Welche Regionen / Boxen einer Folge von Bildern / Stream sind interessant ?\n",
    "Heatmap\n",
    "\n",
    "Filter Ergebnis (Objekttypen, Score)\n",
    "\n",
    "Welche Metadatden sind zur Beschreibung nötig ? (Ort, Time zone..)\n",
    "\n",
    "Auswahl einer geeigneten Szene\n",
    "Optimieren für gewählte Aufgabe / Anwendung / Beispiel\n",
    "Skifahren, Eislauf, Tourismus, Dialog, autonomes Fahren, Verkehr \n",
    "Wo und wann ist was los ? Wieviel ?\n",
    "\n",
    "Erstellung eines (minimalen) Repertoirs (Posen, Objekte)\n",
    "\n",
    "Nachstellen / Kombination\n",
    "\n",
    "* Wie gut ist mobiles Modell im Vergleich mit anderen ?\n",
    "* Was ist der Vorteil der Edge Hardware für die Anwendung ?\n"
   ]
  },
  {
   "cell_type": "code",
   "execution_count": null,
   "id": "f2114793-9a9e-44bb-bdcb-188a00233234",
   "metadata": {},
   "outputs": [],
   "source": [
    "Anhängen Zeitstempel"
   ]
  },
  {
   "cell_type": "markdown",
   "id": "dc19d825-f664-467c-bb0c-e74272b53df8",
   "metadata": {},
   "source": [
    "# Literatur\n",
    "- https://coral.ai/models/  (Trained TensorFlow models for the Edge TPU)\n",
    "- https://huggingface.co/tasks/object-detection\n",
    "- https://d2l.ai/index.html\n",
    "- https://www.deeplearningbook.org/\n",
    "- https://cocodataset.org/#home"
   ]
  }
 ],
 "metadata": {
  "kernelspec": {
   "display_name": "Python 3 (ipykernel)",
   "language": "python",
   "name": "python3"
  },
  "language_info": {
   "codemirror_mode": {
    "name": "ipython",
    "version": 3
   },
   "file_extension": ".py",
   "mimetype": "text/x-python",
   "name": "python",
   "nbconvert_exporter": "python",
   "pygments_lexer": "ipython3",
   "version": "3.9.7"
  }
 },
 "nbformat": 4,
 "nbformat_minor": 5
}

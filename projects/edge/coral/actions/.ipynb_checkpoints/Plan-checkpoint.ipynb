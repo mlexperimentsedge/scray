{
 "cells": [
  {
   "cell_type": "markdown",
   "id": "7805321c-e0e7-4ba3-9e31-70949d3c664b",
   "metadata": {},
   "source": [
    "# Test\n",
    "\n",
    "Erstellen von Pipelines (Bild / Videostream -> Crop -> Resize -> Erkennung (Modell) -> Ergebnis)\n",
    "Kombination und Bewertung von ML-Modellen am Beispiel\n",
    "Beschreibung / Story / Integration von Ergebnissen der Modelle in Story\n",
    "\n",
    "\n",
    "Erkennung auf ganzem Bild\n",
    "Ganzes Bild\n",
    "Erstellung von Grids oder Regionen\n",
    "Verfahren: n x m , startet bei Nullpunkt, achsparallel\n",
    "Frage: Welche Gridgröße ist optimal ? Kann diese automatisch gesetzt werden ?\n",
    "Problem: Person geht über meherre Grids\n",
    "1 x m (Vordergrund / Hintergrund)\n",
    "\n",
    "Frage: Welche Regionen / Boxen einer Folge von Bildern / Stream sind interessant ?\n",
    "Heatmap\n",
    "\n",
    "Filter Ergebnis (Objekttypen, Score)\n",
    "\n",
    "Auswahl einer geeigneten Szene\n",
    "Optimieren für gewählte Aufgabe / Anwendung / Beispiel\n",
    "Skifahren, Eislauf, Tourismus, Dialog, autonomes Fahren, Verkehr \n",
    "Wo und wann ist was los ? Wieviel ?\n",
    "\n",
    "Erstellung eines (minimalen) Repertoirs (Posen, Objekte)\n",
    "\n",
    "Nachstellen / Kombination\n",
    "\n",
    "optimaler Bildausschnitt"
   ]
  },
  {
   "cell_type": "code",
   "execution_count": null,
   "id": "f2114793-9a9e-44bb-bdcb-188a00233234",
   "metadata": {},
   "outputs": [],
   "source": [
    "Anhängen Zeitstempel"
   ]
  },
  {
   "cell_type": "markdown",
   "id": "dc19d825-f664-467c-bb0c-e74272b53df8",
   "metadata": {},
   "source": [
    "# Literatur\n",
    "- https://coral.ai/models/  (Trained TensorFlow models for the Edge TPU)\n",
    "- https://huggingface.co/tasks/object-detection\n",
    "- https://d2l.ai/index.html\n",
    "- https://www.deeplearningbook.org/\n",
    "- https://cocodataset.org/#home"
   ]
  }
 ],
 "metadata": {
  "kernelspec": {
   "display_name": "Python 3 (ipykernel)",
   "language": "python",
   "name": "python3"
  },
  "language_info": {
   "codemirror_mode": {
    "name": "ipython",
    "version": 3
   },
   "file_extension": ".py",
   "mimetype": "text/x-python",
   "name": "python",
   "nbconvert_exporter": "python",
   "pygments_lexer": "ipython3",
   "version": "3.9.7"
  }
 },
 "nbformat": 4,
 "nbformat_minor": 5
}

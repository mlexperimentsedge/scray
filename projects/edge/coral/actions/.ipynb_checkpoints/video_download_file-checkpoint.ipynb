{
 "cells": [
  {
   "cell_type": "code",
   "execution_count": null,
   "id": "3d5cecd2-209b-45e7-b78d-2cf912feaa42",
   "metadata": {},
   "outputs": [],
   "source": [
    "#!pip3 install opencv-python\n",
    "#!pip install git+https://github.com/Cupcakus/pafy\n",
    "#!pip install youtube_dl"
   ]
  },
  {
   "cell_type": "code",
   "execution_count": null,
   "id": "1172611b-f4bb-42f2-a33e-58be550ce8c6",
   "metadata": {},
   "outputs": [],
   "source": [
    "import video_actions_v2 as va\n",
    "\n",
    "import time, datetime\n",
    "from os import listdir\n",
    "from sys import argv\n",
    "\n",
    "def listdirectory(directory,filter='.'):\n",
    "    return [x for x in listdir(directory) if not x.startswith(filter)]\n",
    "\n",
    "_video_filename = argv\n",
    "\n",
    "#_videos = listdirectory('../data/videos/single')\n",
    "#_videos = ['video_Cp4RRAEgpeU.json']\n",
    "_videos = [_video_filename]\n",
    "\n",
    "while True:\n",
    "    for _video in _videos:\n",
    "        try:\n",
    "            _filename = '../data/videos/single/' + _video\n",
    "            #print(_filename)\n",
    "            _sources = va.LiveVideoSources(_filename)\n",
    "            _id = list(_sources.videos.keys())[0]\n",
    "            _action = va.VideoAction(sources=_sources, id=_id, index=5)\n",
    "            ts = time.time()\n",
    "            asctime = time.asctime().split(' ', 1)[1].replace(' ','-')\n",
    "            _action.evaluate()['image'].save('/home/jovyan/work/images/' + _id + '_' + str(_action.index) + '_' + str(ts) + '_' + asctime + '_' + '.png')\n",
    "        except Exception as e:   \n",
    "            pass"
   ]
  }
 ],
 "metadata": {
  "kernelspec": {
   "display_name": "Python 3 (ipykernel)",
   "language": "python",
   "name": "python3"
  },
  "language_info": {
   "codemirror_mode": {
    "name": "ipython",
    "version": 3
   },
   "file_extension": ".py",
   "mimetype": "text/x-python",
   "name": "python",
   "nbconvert_exporter": "python",
   "pygments_lexer": "ipython3",
   "version": "3.9.7"
  }
 },
 "nbformat": 4,
 "nbformat_minor": 5
}

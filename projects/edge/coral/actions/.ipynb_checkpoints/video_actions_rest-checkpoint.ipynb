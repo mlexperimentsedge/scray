{
 "cells": [
  {
   "cell_type": "code",
   "execution_count": null,
   "id": "0506eee7-be10-4055-a7db-4bbf6d9b2be2",
   "metadata": {},
   "outputs": [],
   "source": []
  },
  {
   "cell_type": "markdown",
   "id": "0634adb2-5815-43d7-88dd-9954179dc2ff",
   "metadata": {},
   "source": [
    "# Old Work"
   ]
  },
  {
   "cell_type": "code",
   "execution_count": null,
   "id": "139a001f-550a-4782-980e-227af213d0ac",
   "metadata": {},
   "outputs": [],
   "source": [
    "get_missing_box_bookmark_files()"
   ]
  },
  {
   "cell_type": "code",
   "execution_count": null,
   "id": "c7084b4a-85fc-4a50-a2d2-5df2dc3b0998",
   "metadata": {},
   "outputs": [],
   "source": [
    "#Image.open('test.png')"
   ]
  },
  {
   "cell_type": "code",
   "execution_count": null,
   "id": "10629b77-a0c6-41eb-91e0-acb76e90f834",
   "metadata": {},
   "outputs": [],
   "source": [
    "app=_app_test\n",
    "_video = app._tab._widgets[0]\n",
    "_video.video_filename.value"
   ]
  },
  {
   "cell_type": "code",
   "execution_count": null,
   "id": "0a898868-1d54-47fd-9312-084c378d6078",
   "metadata": {},
   "outputs": [],
   "source": [
    "_filename = '../data/videos/box_bookmarks_6_12/' + listdir('../data/videos/box_bookmarks_6_12/')[3]\n",
    "loadVideo(app=app,filename=_filename)"
   ]
  },
  {
   "cell_type": "code",
   "execution_count": null,
   "id": "c3ab89cd-e9ec-4b43-bdc8-2523bf8bfc54",
   "metadata": {},
   "outputs": [],
   "source": [
    "_video.video_filename.value= '../data/videos/box_bookmarks_6_12/' + listdir('../data/videos/box_bookmarks_6_12/')[0]\n",
    "_video.on_video_load_button_clicked('')  \n",
    "set_image_quality(app)"
   ]
  },
  {
   "cell_type": "code",
   "execution_count": null,
   "id": "98e75fbb-1768-40fb-b1e2-b69562964a21",
   "metadata": {},
   "outputs": [],
   "source": [
    "_video.video_filename.value= '../data/videos/box_bookmarks_6_12/' + 'video_JqUREqYduHw.json'\n",
    "_video.on_video_save_button_clicked('')    "
   ]
  },
  {
   "cell_type": "code",
   "execution_count": null,
   "id": "4b449c82-a7cc-4e20-b3db-a907bf0ec191",
   "metadata": {},
   "outputs": [],
   "source": [
    "_video.on_video_save_button_clicked('')    "
   ]
  },
  {
   "cell_type": "code",
   "execution_count": null,
   "id": "caeebef8-e570-4d4e-902a-d509c25c7e5a",
   "metadata": {},
   "outputs": [],
   "source": [
    "#_video.sources.get_keys()\n",
    "_video.vid"
   ]
  },
  {
   "cell_type": "code",
   "execution_count": null,
   "id": "04a6c445-bc5b-4e92-8597-704351f0fcae",
   "metadata": {},
   "outputs": [],
   "source": [
    "#displayAllVideos(_app_test)\n",
    "\n",
    "_video = _app_test._tab._widgets[0]    \n",
    "_keys = getVideoKeys(_app_test)\n",
    "\n",
    "loadVideo(app=_app_test,key=_keys[0],index=0)"
   ]
  },
  {
   "cell_type": "code",
   "execution_count": null,
   "id": "a4cedfbe-cbed-4490-8eb6-d5067c9486a5",
   "metadata": {},
   "outputs": [],
   "source": [
    "set_image_quality(_app,index=5)"
   ]
  },
  {
   "cell_type": "code",
   "execution_count": null,
   "id": "41fdbf05-d976-4ea1-90b3-2fa51a41570a",
   "metadata": {},
   "outputs": [],
   "source": [
    " _video  = _app._tab._widgets[0]\n",
    " _keys = list(_video.sources.videos.keys())\n",
    "print(_keys)\n",
    "loadVideo(app=_app,key='JqUREqYduHw')\n",
    "\n",
    "for key in _keys:\n",
    "    try:\n",
    "        _crop   = _app._tab._widgets[1] \n",
    "        loadVideo(app=_app,key=key)\n",
    "        generate_box_bookmarks(size=_app._imageWidget2.getImage().size, crop=_crop)  \n",
    "    except Exception as e:\n",
    "        print(key)\n",
    "    "
   ]
  },
  {
   "cell_type": "code",
   "execution_count": null,
   "id": "d552cab8-c0fd-4066-8747-45c5ec7a3d49",
   "metadata": {},
   "outputs": [],
   "source": [
    "_video  = _app._tab._widgets[0]\n",
    "_keys = list(_video.sources.videos.keys())\n",
    "print(_keys)\n",
    "_keys=['vVyBOU9Huvo', 'HpdO5Kq3o7Y', 'AdUw5RdyZxI', 'ns8y0SVcJGA']\n",
    "\n",
    "for key in _keys:\n",
    "    try:\n",
    "        \n",
    "        loadVideo(app=_app,key=key)\n",
    "        #loadVideo(app=_app2,key=key)\n",
    "        get_and_save_boxes_with_data(app=_app,crop = _app._tab._widgets[1]) \n",
    "        #get_and_save_objectboxes_with_data(app=_app2,crop = _app2._tab._widgets[1])\n",
    "    except Exception as e:\n",
    "        print(key,e)"
   ]
  },
  {
   "cell_type": "code",
   "execution_count": null,
   "id": "95c8514e-bd17-40f1-9560-af386d79dd26",
   "metadata": {},
   "outputs": [],
   "source": [
    "_keys = list(_video.sources.videos.keys())\n",
    "print(_keys)"
   ]
  },
  {
   "cell_type": "code",
   "execution_count": null,
   "id": "77a6d2e9-befb-4363-961a-de1978899b97",
   "metadata": {},
   "outputs": [],
   "source": []
  },
  {
   "cell_type": "code",
   "execution_count": null,
   "id": "f727682c-cbb0-4403-bc09-5212d44c3063",
   "metadata": {},
   "outputs": [],
   "source": [
    "results"
   ]
  },
  {
   "cell_type": "code",
   "execution_count": null,
   "id": "e80c89d9-22f4-4031-9040-11620afdbb5f",
   "metadata": {},
   "outputs": [],
   "source": [
    "path='../data/pose_boxes'\n",
    "_timestamps=get_timestamps(path=path)\n",
    "df2b=counts_in_dataframe(path=path, timestamp=_timestamps[0])\n"
   ]
  },
  {
   "cell_type": "code",
   "execution_count": null,
   "id": "bbad824d-4719-4c02-af8f-9899dd30df9b",
   "metadata": {},
   "outputs": [],
   "source": [
    "_timestamps"
   ]
  },
  {
   "cell_type": "code",
   "execution_count": null,
   "id": "dd82dd07-bb96-4271-bf27-2a4f927a8e8d",
   "metadata": {},
   "outputs": [],
   "source": [
    "df=count_and_add_dataframes(path='../data/object_boxes')\n",
    "create_heatmap(df)"
   ]
  },
  {
   "cell_type": "code",
   "execution_count": null,
   "id": "7c4cac93-f509-4837-b5f5-e9f635922a56",
   "metadata": {},
   "outputs": [],
   "source": [
    "df=count_and_add_dataframes()\n",
    "create_heatmap(df2b)"
   ]
  },
  {
   "cell_type": "code",
   "execution_count": null,
   "id": "a94a8b15-c07b-4ece-8793-2f03cf5634da",
   "metadata": {},
   "outputs": [],
   "source": [
    "path='../data/object_boxes'\n",
    "_timestamps=get_timestamps(path=path)\n",
    "df=counts_in_dataframe(path=path, timestamp=_timestamps[0])"
   ]
  },
  {
   "cell_type": "code",
   "execution_count": null,
   "id": "dac718e0-3485-4b7f-9939-de30372b102d",
   "metadata": {},
   "outputs": [],
   "source": [
    "_timestamps"
   ]
  },
  {
   "cell_type": "code",
   "execution_count": null,
   "id": "7efbfbd1-9ee5-4a15-9727-34cc46ce6bcf",
   "metadata": {},
   "outputs": [],
   "source": [
    "create_heatmap(df)"
   ]
  },
  {
   "cell_type": "code",
   "execution_count": null,
   "id": "3469ac2f-4eec-4ef7-8045-364acc4e9a76",
   "metadata": {},
   "outputs": [],
   "source": [
    "df2b.dtypes"
   ]
  },
  {
   "cell_type": "markdown",
   "id": "1e2333e4-593c-4019-9ff8-3ecd11fda0f3",
   "metadata": {},
   "source": [
    "## trial"
   ]
  },
  {
   "cell_type": "code",
   "execution_count": null,
   "id": "35da1a0b-4e5e-4b72-bd7b-ee56df949173",
   "metadata": {},
   "outputs": [],
   "source": [
    "\"'''import numpy as np\\n\",\n",
    "    \"import pandas as pd \\n\",\n",
    "    \"import seaborn as sns\\n\",\n",
    "    \"\\n\",\n",
    "    \"\\n\",\n",
    "    \"np.random.seed(0)\\n\",\n",
    "    \"data = {'Höhe': np.repeat([0180, 180360, 360540, 540720, 720900, 9001080], 12),\\n\",\n",
    "    \"        'Länge': np.repeat([0160, 160320, 320480, 480640, 640800, 800960, 9601120, 11201280, 12801440, 14401600, 16001760, 17601920], 6),\\n\",\n",
    "    \"        'Ergebnisse': (count, size=72)\\n\",\n",
    "    \"        }\\n\",\n",
    "    \"\\n\",\n",
    "    \"df = pd.DataFrame(data,columns=['Höhe','Länge','Ergebnisse'])\\n\",\n",
    "    \"df = df.pivot('Höhe', 'Länge', 'Ergebnisse')\\n\",\n",
    "    \"\\n\",\n",
    "    \"\\n\",\n",
    "    \"df[:18]\\n\",\n",
    "    \"\\n\",\n",
    "    \"\\n\",\n",
    "    \"\\n\",\n",
    "    \"sns.heatmap(df)\\n\",\n",
    "    \"'''\""
   ]
  },
  {
   "cell_type": "code",
   "execution_count": null,
   "id": "6089c9e2-c4ed-4040-b614-10627321a010",
   "metadata": {},
   "outputs": [],
   "source": [
    "from decimal import Decimal\n",
    "data = [1,8,3, set(['knights', 'who', 'say', 'ni']), {'key':'value'}, Decimal('3.14')]"
   ]
  },
  {
   "cell_type": "code",
   "execution_count": null,
   "id": "b3226afd-200e-41a8-8a55-dfa6ae187512",
   "metadata": {},
   "outputs": [],
   "source": [
    "_step2.result"
   ]
  },
  {
   "cell_type": "code",
   "execution_count": null,
   "id": "10c264d6-5c9f-46d6-8628-84b90a187a8d",
   "metadata": {},
   "outputs": [],
   "source": [
    "_crop.crop_list.value = 'Pos1'\n",
    "_app._tab.evaluateWidgetActionList(end=None)['image']"
   ]
  },
  {
   "cell_type": "code",
   "execution_count": null,
   "id": "e1ae3a22-d09c-4343-aec0-411a64d1f893",
   "metadata": {},
   "outputs": [],
   "source": [
    "print_pipeline_info(_app2)"
   ]
  },
  {
   "cell_type": "code",
   "execution_count": null,
   "id": "41fae3c9-17c6-4ba9-a6e9-95e376c59f39",
   "metadata": {},
   "outputs": [],
   "source": [
    "#_crop.add_bookmark('test3')\n",
    "_crop.remove_bookmark('test3')"
   ]
  },
  {
   "cell_type": "code",
   "execution_count": null,
   "id": "ce5e52a8-3be4-4ad5-8eb7-56f3915ffdd8",
   "metadata": {
    "tags": []
   },
   "outputs": [],
   "source": [
    "loadVideo(_app,1)\n",
    "_crop.crop_list.value = 'Position1'\n",
    "display(_app._tab.evaluateWidgetActionList(end=None)['image'])\n",
    "\n",
    "loadVideo(_app,0)\n",
    "_crop.crop_list.value = 'Pos1'\n",
    "display(_app._tab.evaluateWidgetActionList(end=None)['image'])\n"
   ]
  },
  {
   "cell_type": "code",
   "execution_count": null,
   "id": "0044ebfe-81cf-43a2-8520-4a6e45c764f0",
   "metadata": {
    "tags": []
   },
   "outputs": [],
   "source": [
    "_app._tab.evaluateWidgetActionList(end=None)['image']"
   ]
  },
  {
   "cell_type": "markdown",
   "id": "1771d074-ad31-4e7e-a32f-8035ea8a8442",
   "metadata": {},
   "source": [
    "# Rest"
   ]
  },
  {
   "cell_type": "code",
   "execution_count": null,
   "id": "6bd9701f-cbe7-4c56-96ef-da92935c0ece",
   "metadata": {},
   "outputs": [],
   "source": [
    "import pandas as pd\n",
    "\n",
    "df = pd.DataFrame(columns=list(range(0, 12)))\n",
    "\n",
    "for i in range(5):\n",
    "    df.loc[i] = listofzeros = [0] * 12\n",
    "\n",
    "df.loc[2][3] = 5\n",
    "df"
   ]
  },
  {
   "cell_type": "code",
   "execution_count": null,
   "id": "33c6b0c8-6f3f-4596-9c43-124f2274c1fc",
   "metadata": {},
   "outputs": [],
   "source": [
    "import pandas as pd\n",
    "import seaborn as sns\n",
    "import matplotlib.pyplot as plt\n",
    "\n",
    "result = table = pd.pivot_table(data=df,index=df.index)"
   ]
  },
  {
   "cell_type": "code",
   "execution_count": null,
   "id": "0c099421-03ed-4c30-bd60-d81784c6bc50",
   "metadata": {},
   "outputs": [],
   "source": [
    "_app._tab._widgets[1]._get_VideoAction().sources.videos[_app._tab._widgets[1]._get_VideoAction().id]['bookmarks']"
   ]
  },
  {
   "cell_type": "code",
   "execution_count": null,
   "id": "70f7a9d6-dc9d-4717-9448-d9eaa62989ac",
   "metadata": {},
   "outputs": [],
   "source": [
    "_app._tab._widgets[4].result"
   ]
  },
  {
   "cell_type": "code",
   "execution_count": null,
   "id": "cc266dfe-876a-4a97-a434-d1d2f880b747",
   "metadata": {},
   "outputs": [],
   "source": []
  },
  {
   "cell_type": "code",
   "execution_count": null,
   "id": "90393557-0e47-4d2f-a0d8-23dc062ed63a",
   "metadata": {},
   "outputs": [],
   "source": [
    "_app._tab._widgets[3].result['poses'][1].keypoints,_app._tab._widgets[3].result['poses'][1].score\n"
   ]
  },
  {
   "cell_type": "code",
   "execution_count": null,
   "id": "f2a3c0e1-1d4b-4568-8fb6-d6a086d2deea",
   "metadata": {},
   "outputs": [],
   "source": [
    "pose=_app._tab._widgets[3].result['poses'][1]\n",
    "minimum=[9999999,9999899]\n",
    "maximum=[0,0]\n",
    "for label, keypoint in pose.keypoints.items():\n",
    "                \n",
    "                print(keypoint.score)\n",
    "                #drawPoint(image,keypoint.yx[1], keypoint.yx[0],2,rgba)\n",
    "                \n",
    "                #kp_y = int((keypoint.yx[0] ) )\n",
    "                #kp_x = int((keypoint.yx[1] ) )\n",
    "                kp_y = int( keypoint.point.y)\n",
    "                kp_x = int( keypoint.point.x)\n",
    "                if kp_x<minimum[0]:\n",
    "                    minimum[0]=kp_x\n",
    "                if kp_x>maximum[0]:\n",
    "                    maximum[0]=kp_x\n",
    "                if kp_y<minimum[1]:\n",
    "                    minimum[1]=kp_y\n",
    "                if kp_y>maximum[1]:\n",
    "                    maximum[1]=kp_y\n",
    "                \n",
    "minimum,maximum                "
   ]
  },
  {
   "cell_type": "code",
   "execution_count": null,
   "id": "5a976bdf-8926-46ca-923a-fa6752b7b9ec",
   "metadata": {},
   "outputs": [],
   "source": [
    "#def _output_result(update=True, result=None):\n",
    "#    _app2._tab.displayWidget.update(_app2._tab.displayWidget.action.evaluate())\n",
    "#_app2._tab._widgets[1].output_result = _output_result   "
   ]
  },
  {
   "cell_type": "code",
   "execution_count": null,
   "id": "dd648a56-1cd6-4713-b557-72ac2a3dee1c",
   "metadata": {},
   "outputs": [],
   "source": [
    "def count():    \n",
    "    counter=0\n",
    "    for object in _app2._tab._widgets[3].result['objects']:\n",
    "        if object.id==0:\n",
    "            counter=counter+1\n",
    "    return counter\n",
    "count()\n"
   ]
  },
  {
   "cell_type": "code",
   "execution_count": null,
   "id": "82ab1208-4fdb-44d6-8f56-d303eb389d1f",
   "metadata": {},
   "outputs": [],
   "source": [
    "_app2._tab._widgets[4].result"
   ]
  },
  {
   "cell_type": "code",
   "execution_count": null,
   "id": "2db0b499-1c7d-403b-9bae-a0832e82b8c6",
   "metadata": {},
   "outputs": [],
   "source": [
    "print(_app2._tab._widgets[3].result.keys())"
   ]
  },
  {
   "cell_type": "markdown",
   "id": "47757e6b-a86d-4cd0-9c26-f926a1bc0c55",
   "metadata": {},
   "source": [
    "# work"
   ]
  },
  {
   "cell_type": "code",
   "execution_count": null,
   "id": "72487679-81bb-428c-8e6b-de71a912a4f1",
   "metadata": {},
   "outputs": [],
   "source": [
    "_app._tab._widgets[3].result"
   ]
  }
 ],
 "metadata": {
  "kernelspec": {
   "display_name": "Python 3 (ipykernel)",
   "language": "python",
   "name": "python3"
  },
  "language_info": {
   "codemirror_mode": {
    "name": "ipython",
    "version": 3
   },
   "file_extension": ".py",
   "mimetype": "text/x-python",
   "name": "python",
   "nbconvert_exporter": "python",
   "pygments_lexer": "ipython3",
   "version": "3.9.7"
  }
 },
 "nbformat": 4,
 "nbformat_minor": 5
}

{
 "cells": [
  {
   "cell_type": "code",
   "execution_count": 1,
   "metadata": {},
   "outputs": [],
   "source": [
    "#!pip3 install opencv-python\n",
    "#!pip install pafy -U\n",
    "#!pip install youtube_dl"
   ]
  },
  {
   "cell_type": "code",
   "execution_count": 2,
   "metadata": {},
   "outputs": [],
   "source": [
    "#!pip install ipydagred3\n",
    "#!jupyter labextension install @jupyter-widgets/jupyterlab-manager\n",
    "#"
   ]
  },
  {
   "cell_type": "markdown",
   "metadata": {
    "tags": []
   },
   "source": [
    "# ImageWidget"
   ]
  },
  {
   "cell_type": "code",
   "execution_count": 3,
   "metadata": {},
   "outputs": [],
   "source": [
    "import cv2\n",
    "import numpy as np\n",
    "from PIL import Image\n",
    "import io\n",
    "\n",
    "style = {'description_width': '250px'}\n",
    "layout = {'width': '500px'}\n",
    "\n",
    "class ImageWidget(object):\n",
    "    def __init__(self, image=None, display=True):\n",
    "        self.count = 0\n",
    "        \n",
    "        self.image_w = widgets.Image(format='PNG')\n",
    "        self.update_w = widgets.Checkbox(description='update',value=True)\n",
    "        self.counter_w = widgets.Text(description = 'count',value = '', style=style, layout=layout,disabled=False)\n",
    "        VBox      = widgets.VBox([self.update_w,self.counter_w])  \n",
    "        self.HBox = widgets.HBox([self.image_w, VBox])  \n",
    "        \n",
    "        self.setImage(image)\n",
    "        if display == True:\n",
    "            self.display()\n",
    "    \n",
    "    def display(self):\n",
    "        #display(self.image_w)  \n",
    "        display(self.HBox) \n",
    "    \n",
    "    def getByteArray(self,image):    \n",
    "        #return None\n",
    "        img_byte_arr = io.BytesIO()\n",
    "        image.save(img_byte_arr, format='PNG')\n",
    "        img_byte_arr = img_byte_arr.getvalue()\n",
    "        return img_byte_arr\n",
    "    \n",
    "    def evaluate(self, image=None):\n",
    "        self.setImage(image)\n",
    "        \n",
    "    def _dict(self):\n",
    "        return {'class' : self.__class__.__name__, 'parameters' : {}}\n",
    "    \n",
    "    def setImage(self,image):\n",
    "        #print('ImageWidget')\n",
    "        self.count += 1\n",
    "        self.counter_w.value = str(self.count) \n",
    "        \n",
    "        if self.update_w.value == False:\n",
    "            return\n",
    "        \n",
    "        if image != None:\n",
    "            try:\n",
    "                #print('set image', type(image))\n",
    "                if isinstance(image, dict):\n",
    "                    image = image['image']\n",
    "                self.image_w.value = self.getByteArray(image)    \n",
    "            except Exception as exception: \n",
    "                print('Exception ImageWidget', str(exception))\n",
    "            \n",
    "    def getImage(self):\n",
    "        return Image.open(io.BytesIO(self.image_w.value))"
   ]
  },
  {
   "cell_type": "markdown",
   "metadata": {
    "toc-hr-collapsed": true
   },
   "source": [
    "# Actions and Widgets "
   ]
  },
  {
   "cell_type": "markdown",
   "metadata": {
    "toc-hr-collapsed": true
   },
   "source": [
    "## BaseAction"
   ]
  },
  {
   "cell_type": "code",
   "execution_count": 4,
   "metadata": {
    "tags": []
   },
   "outputs": [],
   "source": [
    "class BaseAction(object):\n",
    "    \n",
    "    def __init__(self):\n",
    "        self.name = __class__.__name__\n",
    "    \n",
    "    def dict(self):\n",
    "        return {'class' : self.__class__.__name__, 'parameters' : self.__dict__}\n",
    "    \n",
    "    def merged_dict(self,parameters=None):\n",
    "        old = dict()\n",
    "        return {'class':old['class'],'parameters':{**old['parameters'],**parameters}}\n",
    "    \n",
    "    def merge(self,parameters={}):\n",
    "        adict = {'class' : self.__class__.__name__, 'parameters' : {**self.__dict__, **parameters}}\n",
    "        #adict = merged_dict(parameters)\n",
    "        return eval(adict['class'])(**adict['parameters'])\n",
    "    \n",
    "    def _get_image(self,image):\n",
    "        if isinstance(image, dict):\n",
    "            return image['image']\n",
    "        return image\n",
    "    \n",
    "    def _filename(self,filename=None,name=None):\n",
    "        if name != None:\n",
    "            return name + '_' + self.__class__.__name__ + '.json'\n",
    "        if filename == None:\n",
    "            return '_action_' + self.__class__.__name__ + '.json'\n",
    "        return filename\n",
    "    \n",
    "    def save(self,filename=None,name=None):\n",
    "        with open(self._filename(filename,name), 'w', encoding='utf-8') as f:\n",
    "            json.dump(self.dict(), f, ensure_ascii=False, indent=4)    \n",
    "\n",
    "    def load(self,filename=None,name=None):\n",
    "        with open(self._filename(filename,name), 'r') as fp:\n",
    "            file = json.load(fp)  \n",
    "            return file          \n",
    "        \n",
    "   "
   ]
  },
  {
   "cell_type": "markdown",
   "metadata": {},
   "source": [
    "## BaseWidget"
   ]
  },
  {
   "cell_type": "code",
   "execution_count": 5,
   "metadata": {},
   "outputs": [],
   "source": [
    "class BaseWidget(object):\n",
    "    def evaluate(self,image=None):\n",
    "        return self.action.evaluate(image)\n",
    "    \n",
    "    def _get_image(self,image):\n",
    "        if isinstance(image, dict):\n",
    "            return image['image']\n",
    "        return image  \n",
    "    \n",
    "     # write output    \n",
    "    def output_result(self,update=True, result=None):\n",
    "        if update == True:\n",
    "            if(self.imageWidget != None):\n",
    "                self.imageWidget.evaluate(result)    \n",
    "                \n",
    "    def get_result(self):\n",
    "        if hasattr(self, 'result'):\n",
    "            return self.result\n",
    "        return None "
   ]
  },
  {
   "cell_type": "markdown",
   "metadata": {},
   "source": [
    "## TemplateAction"
   ]
  },
  {
   "cell_type": "code",
   "execution_count": 6,
   "metadata": {},
   "outputs": [],
   "source": [
    "class TemplateAction(BaseAction):\n",
    "    def __init__(self):\n",
    "        pass\n",
    "    \n",
    "    def evaluate(self, **kwargs):        \n",
    "        if 'image' in kwargs.keys():\n",
    "            self.result = {'image':kwargs['image']}\n",
    "        return self.result"
   ]
  },
  {
   "cell_type": "markdown",
   "metadata": {},
   "source": [
    "## TemplateWidget"
   ]
  },
  {
   "cell_type": "code",
   "execution_count": 7,
   "metadata": {},
   "outputs": [],
   "source": [
    "class TemplateWidget(BaseWidget):\n",
    "    def __init__(self, action=None, imageWidget=None, parent=None):\n",
    "        self.action = action\n",
    "        self.parent = parent\n",
    "        self.result = None\n",
    "        self.imageWidget = imageWidget\n",
    "        self.vbox   = widgets.VBox([])\n",
    "        \n",
    "        if action == None:\n",
    "            action = TemplateAction()\n",
    "            \n",
    "    def evaluate(self, **kwargs):        \n",
    "        if 'image' in kwargs.keys():\n",
    "            self.result = {'image':kwargs['image']}\n",
    "        return self.result\n",
    "            \n",
    "    def myfunc(self,**kwargs):\n",
    "        # kwargs is a dictionary.\n",
    "        for k,v in kwargs.items():\n",
    "             print (\"%s = %s\" % (k, v))\n",
    "        if 'image' in kwargs.keys():\n",
    "            print('found')        "
   ]
  },
  {
   "cell_type": "markdown",
   "metadata": {},
   "source": [
    "## CropAction"
   ]
  },
  {
   "cell_type": "code",
   "execution_count": 8,
   "metadata": {},
   "outputs": [],
   "source": [
    "# input: image, output cropped image\n",
    "class CropAction(BaseAction):\n",
    "    WORLD = 0\n",
    "    NORMALIZED = 1\n",
    "    # __init__ is a special method called whenever you try to make\n",
    "    # an instance of a class. As you heard, it initializes the object.\n",
    "    # Here, we'll initialize some of the data.\n",
    "    #def __init__(self, image=None, size=None, min=[0.0,0.0], max=[1.0,1.0]):\n",
    "    #def __init__(self,size=None, min=None, max=None,region=None,mode=WORLD):\n",
    "    def __init__(self,size=None, min=[0,0], max=[1,1],region=None,mode=WORLD):    \n",
    "        self.min    = min\n",
    "        self.max    = max\n",
    "        self.region = None\n",
    "        self.size   = size\n",
    "        self.mode   = mode\n",
    "        \n",
    "    def dict(self):\n",
    "        # return self.toNormalized().super(CropAction,self).__init__().dict()\n",
    "        #return self.toNormalized().dict()\n",
    "        return super(CropAction, self.toNormalized()).dict()\n",
    "        \n",
    "    # Problem: + 1    \n",
    "    def evaluate(self, image=None):\n",
    "        image = self._get_image(image)\n",
    "        \n",
    "        if self.mode == self.WORLD:\n",
    "            return {'image':image.crop(self._flat())}\n",
    "        return {'image':image.crop(self.fromNormalized(self.flat(), size=image.size))}      \n",
    "        \n",
    "    def _flat(self):\n",
    "        return (self.min[0],self.min[1],self.max[0] + 1,self.max[1] + 1)\n",
    "    \n",
    "    def flat(self):\n",
    "        return (self.min[0],self.min[1],self.max[0],self.max[1])\n",
    "    \n",
    "    def normalizeValue(self, value, size):\n",
    "        return float (value) / size\n",
    "\n",
    "    def fromNormalizedValue(self, value,size):\n",
    "        return int(value * size)\n",
    "\n",
    "    def normalized(self):    \n",
    "        #print(self.min, self.max, self.size)\n",
    "        xmin = self.normalizeValue(self.min[0],self.size[0])\n",
    "        ymin = self.normalizeValue(self.min[1],self.size[1])\n",
    "        xmax = self.normalizeValue(self.max[0],self.size[0])\n",
    "        ymax = self.normalizeValue(self.max[1],self.size[1])\n",
    "        return (xmin,ymin,xmax,ymax)    \n",
    "\n",
    "    def toNormalized(self):\n",
    "        if self.mode == self.NORMALIZED:\n",
    "            return self\n",
    "        _norm = self.normalized()\n",
    "        return CropAction(min=[_norm[0],_norm[1]], max=[_norm[2],_norm[3]], mode=self.NORMALIZED)\n",
    "    \n",
    "    def toWorld(self,size):\n",
    "        if self.mode == self.WORLD:\n",
    "            return self\n",
    "        \n",
    "       \n",
    "        _world = self.fromNormalized(self.flat(),size=size)\n",
    "        #print('CropAction',_world)\n",
    "        return CropAction(min=[_world[0],_world[1]], max=[_world[2],_world[3]], size=size, mode=self.WORLD)\n",
    "    \n",
    "    def fromNormalized(self, values, size=None):    \n",
    "        if size == None:\n",
    "            size = self.size\n",
    "             \n",
    "        # init size to fix initMinMax problem --> is this really required\n",
    "        self.size = size        \n",
    "                \n",
    "         \n",
    "        xmin = self.fromNormalizedValue(values[0],size[0])\n",
    "        ymin = self.fromNormalizedValue(values[1],size[1])\n",
    "        xmax = self.fromNormalizedValue(values[2],size[0])\n",
    "        ymax = self.fromNormalizedValue(values[3],size[1])\n",
    "       \n",
    "        return [xmin,ymin,xmax,ymax]\n",
    "    \n",
    "    def update(self, size=None):\n",
    "        to = self.normalized()\n",
    "        self.size = size\n",
    "        self.min[0] = self.fromNormalizedValue(to[0],size[0])\n",
    "        self.min[1] = self.fromNormalizedValue(to[1],size[1])\n",
    "        self.max[0] = self.fromNormalizedValue(to[2],size[0]) \n",
    "        self.max[1] = self.fromNormalizedValue(to[3],size[1]) "
   ]
  },
  {
   "cell_type": "markdown",
   "metadata": {
    "tags": []
   },
   "source": [
    "## DisplayWidget\n",
    "action: VideoAction (uses only VideoAction)"
   ]
  },
  {
   "cell_type": "code",
   "execution_count": 9,
   "metadata": {},
   "outputs": [],
   "source": [
    "class DisplayWidget(BaseWidget):\n",
    "    def __init__(self, action=None, update=None):\n",
    "        self.action       = action\n",
    "        self.index        = 0  # for change --> last index\n",
    "        self.image        = None\n",
    "        self.update       = update\n",
    "        \n",
    "        if action != None:\n",
    "            self.init(action)\n",
    "        \n",
    "        _max = 5\n",
    "        layout2={'width': '300px'}\n",
    "        self.imageselectw = widgets.IntSlider(value=self.index, min=0,max=_max,step=1, description='image',layout=layout)\n",
    "        self.imageselectw.observe(self.on_value_change_imageselectw, 'value')\n",
    "        self.next_image_button = widgets.Button(description='Next', disabled=False, tooltip='next image',style=style)\n",
    "        self.next_image_button.on_click(self.on_next_image_button_clicked)  \n",
    "        self.skipframes = widgets.Text(description   = 'skip frames',value = '10', style=style, layout=layout2)\n",
    "        self.skipframes.on_submit(self.on_value_submit_skipframes)\n",
    "        image_select_hbox = widgets.HBox([self.imageselectw,self.next_image_button,self.skipframes])\n",
    "        self.hbox=image_select_hbox\n",
    "        \n",
    "        self.init(action)\n",
    "        \n",
    "    def init(self,action=None):\n",
    "        if action != None:\n",
    "            self.action = action\n",
    "            self.index  = action.index\n",
    "    \n",
    "    def on_value_submit_skipframes(self,change):\n",
    "        if self.action != None:\n",
    "            self.action.skipframes = int(change.value)\n",
    "        \n",
    "    # select image slider\n",
    "    def on_value_change_imageselectw(self,change):\n",
    "        self.index = change['new']\n",
    "        self.action.setIndex(change['new'])\n",
    "        \n",
    "        self.image = self.action.evaluate()['image']\n",
    "        if self.update != None:\n",
    "            self.update(self.image,update=True)\n",
    "        \n",
    "    def on_next_image_button_clicked(self,b):\n",
    "        if self.action.index != self.index:\n",
    "            #self.action = VideoAction(video=self.action.video,index=self.index)\n",
    "            self.action.setIndex(self.index)\n",
    "        self.action.skipframes = int(self.skipframes.value)\n",
    "        self.image = self.action.evaluate()['image']\n",
    "        if self.update != None:\n",
    "            self.update(self.image,update=True)"
   ]
  },
  {
   "cell_type": "markdown",
   "metadata": {},
   "source": [
    "## CropWidget\n",
    "\n",
    "abhängig von parent und sources (speichert regions dort)"
   ]
  },
  {
   "cell_type": "code",
   "execution_count": 10,
   "metadata": {},
   "outputs": [],
   "source": [
    "#display(DisplayWidget(action=_crop.videoAction,imageWidget=_imageWidget).hbox)\n",
    "class CropWidget(BaseWidget):\n",
    "    def __init__(self, action=None, videoAction=None ,parent=None, imageWidget=None, image=None):\n",
    "        self.result       = None\n",
    "        self.action       = action\n",
    "        self.image        = image    # buffers image to be cropped\n",
    "        self.parent       = parent\n",
    "        \n",
    "        self.imageWidget  = imageWidget # None or used to display result\n",
    "        self.displayWidget = None       # TODO: remove\n",
    "    \n",
    "        self.update = True \n",
    "    \n",
    "        # still needed ?\n",
    "        cropNormalizedArea = [0.0,0.0,1.0,1.0]    \n",
    "        self.regions = dict()\n",
    "        self.regions['reset'] = cropNormalizedArea\n",
    "    \n",
    "        if image != None:\n",
    "            action.size = image.size\n",
    "    \n",
    "        self.reset_button = widgets.Button(description='Reset', disabled=False, tooltip='reset all values',style=style)\n",
    "        self.reset_button.on_click(self.on_reset_button_clicked)  \n",
    "\n",
    "        self.crop_name = widgets.Text(description = 'name',value = '', style=style, layout=layout,disabled=False)\n",
    "        self.crop_name.on_submit(self.on_value_submit_crop_name)\n",
    "        self.crop_list = widgets.Dropdown(description='region',options=self.regions.keys())\n",
    "        self.crop_list.observe(self.crop_list_on_change) \n",
    "        self.crop_bookmarks = widgets.HBox([self.crop_list, self.crop_name, self.reset_button])\n",
    "        \n",
    "        ##########################################################################    \n",
    "    \n",
    "        self.crop_size_x = widgets.Text(description = 'x',value = '', style=style, layout=layout,disabled=False)\n",
    "        self.crop_size_y = widgets.Text(description = 'y',value = '', style=style, layout=layout,disabled=False)\n",
    "        size_vbox   = widgets.VBox([self.crop_size_x, self.crop_size_y])    \n",
    "        \n",
    "        #self.cropx0 = self._IntSlider(description='x0',value=0)\n",
    "        #self.cropx1 = self._IntSlider(description='x1')\n",
    "        #self.cropx0 = widgets.IntSlider(value=0, step=1, description='x0',layout=layout)\n",
    "        #self.cropx1 = widgets.IntSlider(value=0, step=1, description='x1',layout=layout)\n",
    "        #self.cropx0.observe(self.on_value_change_crop_xmin, 'value')\n",
    "        #self.cropx1.observe(self.on_value_change_crop_xmax, 'value')\n",
    "        \n",
    "        #self.crop_hbox_x = widgets.HBox([self.cropx0, self.cropx1])\n",
    "        \n",
    "        self.crop_hbox_x = widgets.HBox()\n",
    "        self.crop_hbox_y = widgets.HBox()\n",
    "        self._addIntCropSliders()\n",
    "        \n",
    "        vbox1 = widgets.VBox([self.crop_bookmarks,self.crop_hbox_x, self.crop_hbox_y])\n",
    "        hbox  = widgets.HBox([vbox1, size_vbox])\n",
    "        self.vbox   = widgets.VBox([hbox])\n",
    "        \n",
    "        # set size of image\n",
    "        if action != None and videoAction != None:\n",
    "            self._action_to_world(videoAction.stream.dimensions)\n",
    "        \n",
    "        if action != None and action.size != None:\n",
    "            self.initMinMax(action.size,(0,0,action.size[0]-1,action.size[1]-1))\n",
    "        \n",
    "        \n",
    "    ### SLIDER ############################################################    \n",
    "    def _addIntCropSliders(self):\n",
    "        self.cropx0 = self._IntSlider(description='x0')\n",
    "        self.cropx1 = self._IntSlider(description='x1')\n",
    "        self.cropx0.observe(self.on_value_change_crop_xmin, 'value')\n",
    "        self.cropx1.observe(self.on_value_change_crop_xmax, 'value')\n",
    "        self.crop_hbox_x.children = (self.cropx0,self.cropx1)\n",
    "        \n",
    "        self.cropy0 =  self._IntSlider(description='y0')\n",
    "        self.cropy1 =  self._IntSlider(description='y1')\n",
    "        self.cropy0.observe(self.on_value_change_crop_ymin, 'value')\n",
    "        self.cropy1.observe(self.on_value_change_crop_ymax, 'value')\n",
    "        self.crop_hbox_y.children = (self.cropy0,self.cropy1)\n",
    "        \n",
    "    def _FloatSlider(self,description='',value=0.0,layout=layout):\n",
    "        return widgets.FloatSlider(value=value,description=description, min=0, max=1.0, step=0.001, readout_format='.3f',layout=layout)\n",
    "    \n",
    "    def _IntSlider(self,description='',value=0,max=0,layout=layout):\n",
    "        return widgets.IntSlider(value=value, max=max,step=1, description=description,layout=layout)    \n",
    "        \n",
    "        \n",
    "    # Hilfsfunktion, es gibt nur eine VideoACtion    \n",
    "    def _get_VideoAction(self):\n",
    "        return self.displayWidget.action\n",
    "        \n",
    "    def _action_to_world(self,size):\n",
    "        if(self.action.mode != self.action.WORLD):\n",
    "            self.action = self.action.toWorld(size=size)    \n",
    "        \n",
    "    \n",
    "        \n",
    "    ##########################################################################       \n",
    "        \n",
    "    # INIT    ---> creates new action !!! sets parameters for widget, depends on other actions\n",
    "    # VideoAction oder parent ??????\n",
    "    \n",
    "    #def init(self, action=None, parent=None):\n",
    "    def init(self, action=None):    \n",
    "        #self.parent = parent\n",
    "        self.crop_list.options=action.sources.videos[action.id]['bookmarks'].keys()\n",
    "        \n",
    "        ## TODO: remove ------> outside\n",
    "        if self.displayWidget != None:\n",
    "            self.displayWidget.init(action) \n",
    "            \n",
    "        self.initMinMax()\n",
    "   \n",
    "    def evaluate(self,image=None):\n",
    "        # Achtung schreibt image auch in ImageWidget !!!!!!! Doppelt\n",
    "        #print('CropWidget', 'evaluate')\n",
    "        self.updateImage(image)\n",
    "        return self.result\n",
    "    \n",
    "    # after image is updated ######### size or image changed / source\n",
    "    # called e.g. by DisplayWidget\n",
    "    def updateImage(self,image=None,update=False):\n",
    "        self.image = self._get_image(image)\n",
    "        size = self.image.size\n",
    "        \n",
    "        if(self.action == None):\n",
    "            self.action   = CropAction(size=size,min=[0,0], max=[size[0],size[1]])\n",
    "        \n",
    "       \n",
    "        # action is normalized until size of image is known    \n",
    "        self._action_to_world(size)\n",
    "          \n",
    "        if(self.action.size != size or self.cropx1.max != (size[0] - 1)):\n",
    "            self.action.update(size)\n",
    "            self.crop_image()\n",
    "            self.initMinMax()\n",
    "        else:\n",
    "            self.crop_image(update=update)  \n",
    "            \n",
    "        self.crop_size_x.value = str(self.action.max[0] - self.action.min[0])\n",
    "        self.crop_size_y.value = str(self.action.max[1] - self.action.min[1])\n",
    "     \n",
    "    # RESULT \n",
    "    def crop_image(self, update=False):\n",
    "        image=None\n",
    "        \n",
    "        if self.image != None :  \n",
    "            image = self.image\n",
    "        elif self.parent != None:\n",
    "            image = self.parent.get_result()\n",
    "        \n",
    "        if image != None:\n",
    "            if(self.action == None):\n",
    "                self.action   = CropAction(size=image.size,min=[0,0], max=[image.size[0],image.size[1]])\n",
    "            \n",
    "            self.result = self.action.evaluate(image=image)\n",
    "            \n",
    "            # write output\n",
    "            if self.update == True:\n",
    "                self.output_result(update=update,result=self.result)\n",
    "                \n",
    "            #if update == True:\n",
    "            #    if(self.imageWidget != None):\n",
    "            #        self.imageWidget.evaluate(self.result['image'])           \n",
    "        \n",
    "    def initMinMax(self,size=None,cropArea = None):\n",
    "        print('CropWidget','initMinMax')\n",
    "        if self.action == None:\n",
    "            return\n",
    "        \n",
    "        if size == None:\n",
    "            size = self.action.size\n",
    "            self._action_to_world(size)\n",
    "            cropArea = self.action.flat()\n",
    "        else:\n",
    "            self._action_to_world(size)\n",
    "        \n",
    "        self.update = False\n",
    "        \n",
    "        self.cropx0.max = size[0] - 1\n",
    "        self.cropx1.max = size[0] - 1\n",
    "        self.cropy0.max = size[1] - 1\n",
    "        self.cropy1.max = size[1] - 1\n",
    "\n",
    "        self.cropx0.value = cropArea[0]\n",
    "        self.cropy0.value = cropArea[1]\n",
    "        self.cropx1.value = cropArea[2]\n",
    "        \n",
    "        # update image only once\n",
    "        self.update = True\n",
    "        self.cropy1.value = cropArea[3]    \n",
    "        \n",
    "    def on_value_change_crop_xmin(self,change):\n",
    "        self.cropx1.min  = change['new']\n",
    "        self.action.min[0] = change['new']\n",
    "        self.crop_image(update=True)\n",
    "            \n",
    "    def on_value_change_crop_xmax(self,change):\n",
    "        self.cropx0.max  = change['new']\n",
    "        self.action.max[0] = change['new']\n",
    "        self.crop_image(update=True)\n",
    "\n",
    "    def on_value_change_crop_ymin(self,change):\n",
    "        self.cropy1.min  = change['new']\n",
    "        self.action.min[1] = change['new']\n",
    "        self.crop_image(update=True)\n",
    "\n",
    "    def on_value_change_crop_ymax(self,change):\n",
    "        self.cropy0.max  = change['new']\n",
    "        self.action.max[1] = change['new']\n",
    "        self.crop_image(update=True)        \n",
    "        \n",
    "        \n",
    "        \n",
    "    # add/update bookmark of current video source\n",
    "    def add_bookmark(self,name):\n",
    "        self._get_VideoAction().sources.videos[self._get_VideoAction().id]['bookmarks'][name] = self.action.normalized()\n",
    "        \n",
    "        if name not in self.crop_list.options:\n",
    "            self.crop_list.options = list(self.crop_list.options) + [name] \n",
    "        self.crop_list.value = name\n",
    "    \n",
    "    def remove_bookmark(self,name):\n",
    "        del(self._get_VideoAction().sources.videos[self._get_VideoAction().id]['bookmarks'][name])\n",
    "        \n",
    "        _list = list(self.crop_list.options)\n",
    "        if 'test3' in _list: _list.remove('test3')\n",
    "        self.crop_list.options = _list\n",
    "        self.crop_list.value = _list[len(_list)-1]\n",
    "    \n",
    "    def on_value_submit_crop_name(self,change):\n",
    "        self.add_bookmark(change.value)\n",
    "        \n",
    "    def crop_list_on_change(self,change):\n",
    "        if change['type'] == 'change' and change['name'] == 'value':\n",
    "            self.crop_name.value = change['new']\n",
    "            #self.initMinMax(self.action.size,self.action.fromNormalized(self.parent.sources.videos[self.displayWidget.action.id]['bookmarks'][change['new']]))\n",
    "            self.initMinMax(self.action.size,self.action.fromNormalized(self._get_VideoAction().sources.videos[self._get_VideoAction().id]['bookmarks'][change['new']]))\n",
    "            \n",
    "    def on_reset_button_clicked(self,b):\n",
    "        self.action.min = [0,0]\n",
    "        self.action.max = [self.image.size[0],self.image.size[1]]\n",
    "        self.initMinMax()\n",
    "        self.crop_name.value = ''"
   ]
  },
  {
   "cell_type": "markdown",
   "metadata": {},
   "source": [
    "## ResizeAction"
   ]
  },
  {
   "cell_type": "code",
   "execution_count": 11,
   "metadata": {},
   "outputs": [],
   "source": [
    "####################### scale\n",
    "options={'NEAREST' : Image.NEAREST,'BOX' : Image.BOX,'BILINEAR' : Image.BILINEAR,'HAMMING' : Image.HAMMING,'BICUBIC' : Image.BICUBIC,'LANCZOS' : Image.LANCZOS}\n",
    "#options={Image.NEAREST,Image.BOX,Image.BILINEAR,Image.HAMMING,Image.BICUBIC,Image.LANCZOS}\n",
    "#size_options = {(128,128),(224,224),(240,240),(256,256),(299,299),(300,300),(320,320),(513,513)}\n",
    "size_options = {'(128,128)' : (128,128), '(224,224)' : (224,224), '(240,240)' : (240,240), '(256,256)' : (256,256),\n",
    "                '(299,299)' : (299,299),'(300,300)' : (300,300),'(320,320)' : (320,320),'(513,513)' : (513,513),\n",
    "                '(640,480)' : (640,480)}\n",
    "\n",
    "\n",
    "class ResizeAction(BaseAction):\n",
    "    def __init__(self,size=None,use_w=False,use_h=False,algorithm=Image.NEAREST):\n",
    "        self.size=size\n",
    "        self.use_w=use_w\n",
    "        self.use_h=use_h\n",
    "        self.algorithm=algorithm\n",
    "        \n",
    "    def evaluate(self,image=None):\n",
    "        try:\n",
    "            w = self.size[0]\n",
    "            h = self.size[1]\n",
    "            #print(size,w,h)\n",
    "            imagea = image\n",
    "\n",
    "            ratio = h / imagea.size[1]\n",
    "            newsize = (int(ratio * imagea.size[0]), int(ratio * imagea.size[1]) )\n",
    "\n",
    "            ratio = w / imagea.size[0]\n",
    "            h2 = int(ratio * imagea.size[1])\n",
    "            w2 = int(ratio * imagea.size[0])\n",
    "            if h2 > h:\n",
    "                ratio = h / imagea.size[1]\n",
    "                h2 = int(ratio * imagea.size[1])\n",
    "                w2 = int(ratio * imagea.size[0])\n",
    "            newsize = (w2, h2 )\n",
    "\n",
    "            imageb = imagea.resize(newsize,self.algorithm)\n",
    "\n",
    "            v = (int((self.size[0]-imageb.size[0])/2), int((self.size[1]-imageb.size[1])/2))\n",
    "            new_im = Image.new(\"RGB\", self.size) \n",
    "            new_im.paste(imageb, v)\n",
    "            return {'image':new_im}       \n",
    "        except:\n",
    "            return {'image':image}"
   ]
  },
  {
   "cell_type": "markdown",
   "metadata": {},
   "source": [
    "## ResizeWidget"
   ]
  },
  {
   "cell_type": "code",
   "execution_count": 12,
   "metadata": {},
   "outputs": [],
   "source": [
    "class ResizeWidget(BaseWidget):\n",
    "    def __init__(self, action=None, parent=None, imageWidget=None, image=None):\n",
    "        self.result        = {'image':image} \n",
    "        self.action       = action\n",
    "        self.parent       = parent\n",
    "        self.imageWidget  = imageWidget\n",
    "                \n",
    "        self.algorithmw = widgets.Dropdown(options=options,  description='algorithm', value = 0,style=style, layout=layout)\n",
    "        self.algorithmw.observe(self.algorithmw_on_change,'value') \n",
    "        self.sizew = widgets.Dropdown(options=size_options,  description='sizes', style=style, layout=layout)\n",
    "        self.sizew.observe(self.sizew_on_change,'value') \n",
    "\n",
    "        self.widthw  = widgets.Text(description = 'width',value = '640', style=style, layout=layout,disabled=False)\n",
    "        self.heightw = widgets.Text(description = 'height',value = '480', style=style, layout=layout,disabled=False)\n",
    "        self.update_button = widgets.Button(description='Resize', disabled=False, tooltip='resize',style=style, layout=layout)\n",
    "        self.update_button.on_click(self.on_update_button_clicked)  \n",
    "        \n",
    "        self.vbox   = widgets.VBox([self.algorithmw,self.sizew,self.widthw,self.heightw,self.update_button])\n",
    "        \n",
    "        if action != None:\n",
    "            self.widthw.value  = str(action.size[0])\n",
    "            self.heightw.value = str(action.size[1])\n",
    "            \n",
    "        \n",
    "    def algorithmw_on_change(self,change):\n",
    "        if change['type'] == 'change' and change['name'] == 'value':\n",
    "            self.update()\n",
    "\n",
    "    def sizew_on_change(self,change):\n",
    "        if change['type'] == 'change' and change['name'] == 'value':\n",
    "            self.widthw.value  =  str(change['new'][0])        \n",
    "            self.heightw.value =  str(change['new'][1])  \n",
    "            self.update()\n",
    "            \n",
    "    def update(self):\n",
    "        # get current image\n",
    "        image = self.parent.result['image'] \n",
    "        \n",
    "        if image != None:\n",
    "            new_size = (int(self.widthw.value),int(self.heightw.value))\n",
    "            self.action = ResizeAction(size=new_size,algorithm=self.algorithmw.value)\n",
    "            self.result = self.action.evaluate(image=image)\n",
    "            self.output_result(result=self.result)\n",
    "            \n",
    "    # the result: resized_image    \n",
    "    def on_update_button_clicked(self,b):  \n",
    "        self.update()"
   ]
  },
  {
   "cell_type": "markdown",
   "metadata": {},
   "source": [
    "## FileWidget"
   ]
  },
  {
   "cell_type": "code",
   "execution_count": 13,
   "metadata": {},
   "outputs": [],
   "source": [
    "import ipywidgets as widgets\n",
    "from IPython.display import display\n",
    "vstyle = {'description_width': '250px'}\n",
    "vlayout = {'width': '500px'}\n",
    "\n",
    "class FileWidget(BaseWidget):\n",
    "    def __init__(self, action=None, callback=None,get_save_action=None,  filename = 'videos.json', description = 'filename', child=None):\n",
    "        self.data = None\n",
    "        self.action = action\n",
    "        self.callback = callback\n",
    "        self.get_save_action = get_save_action\n",
    "        \n",
    "        self.filename = widgets.Text(description = description, value = filename, style=vstyle, layout=vlayout,disabled=False)    \n",
    "        self.save_button = widgets.Button(description='Save', disabled=False, tooltip='reset all values',style=style)\n",
    "        self.save_button.on_click(self.on_save_button_clicked)  \n",
    "        self.load_button = widgets.Button(description='Load', disabled=False, tooltip='reset all values',style=style)\n",
    "        self.load_button.on_click(self.on_load_button_clicked)  \n",
    "        #self.delete_button = widgets.Button(description='Delete', disabled=False, tooltip='reset all values',style=style)\n",
    "        #self.delete_button.on_click(self.on_video_delete_button_clicked)  \n",
    "        self.hbox = widgets.HBox([self.filename,self.load_button,self.save_button])\n",
    "        \n",
    "        \n",
    "    def _save(self,filename='actions.json', data=None):\n",
    "        with open(filename, 'w', encoding='utf-8') as f:\n",
    "            json.dump(data, f, ensure_ascii=False, indent=4)    \n",
    "\n",
    "    def _load(self,filename='actions.json'):\n",
    "            with open(filename, 'r') as fp:\n",
    "                file = json.load(fp) \n",
    "                print(file)\n",
    "                return file     \n",
    "\n",
    "    def on_load_button_clicked(self,b): \n",
    "        filename = self.filename.value\n",
    "        if self.action != None:\n",
    "            self.action = self.action.load(filename=filename)\n",
    "            self.callback(self.action)    \n",
    "                \n",
    "    def on_save_button_clicked(self,b):\n",
    "        filename = self.filename.value \n",
    "        if self.get_save_action != None:\n",
    "            action = self.get_save_action()\n",
    "            action.save(filename=filename)\n",
    "        elif self.action != None:\n",
    "            self.action.save(filename=filename)\n",
    "            print('on_save_button_clicked',filename)\n",
    "            \n",
    "\n",
    "    def video_clear_button_clicked(self,b):    \n",
    "        self.video_url.value = ''\n",
    "        self.video_title.value = ''\n",
    "        self.video_location.value = ''\n",
    "        \n",
    "   \n",
    "    def on_video_delete_button_clicked(self,b):\n",
    "        del self.sources.videos[self.video_urls.value]"
   ]
  },
  {
   "cell_type": "code",
   "execution_count": 14,
   "metadata": {},
   "outputs": [],
   "source": [
    "#fw = FileWidget(filename = '../videos.json', description='pipeline')\n",
    "#display(fw.hbox)"
   ]
  },
  {
   "cell_type": "markdown",
   "metadata": {},
   "source": [
    "## ContrastBrightnessAction"
   ]
  },
  {
   "cell_type": "code",
   "execution_count": 15,
   "metadata": {},
   "outputs": [],
   "source": [
    "class ContrastBrightnessAction(BaseAction):\n",
    "    def __init__(self, contrast=None, brightness=None):\n",
    "        self.contrast = contrast\n",
    "        self.brightness = brightness\n",
    "\n",
    "    def change_contrast(self,img, level):\n",
    "        factor = (259 * (level + 255)) / (255 * (259 - level))\n",
    "        def contrast(c):\n",
    "            return 128 + factor * (c - 128)\n",
    "        return img.point(contrast)\n",
    "\n",
    "    #constant by which each pixel is divided\n",
    "    def change_brightness(self,im,constant=0.31):\n",
    "        source = im.split()\n",
    "        R, G, B = 0, 1, 2\n",
    "        Red = source[R].point(lambda i: i/constant)\n",
    "        Green = source[G].point(lambda i: i/constant)\n",
    "        Blue = source[B].point(lambda i: i/constant)\n",
    "        im = Image.merge(im.mode, (Red, Green, Blue))\n",
    "        im.save('modified-image.jpeg', 'JPEG', quality=100)\n",
    "        return im\n",
    "\n",
    "    def getByteArray(self,image):    \n",
    "        img_byte_arr = io.BytesIO()\n",
    "        image.save(img_byte_arr, format='PNG')\n",
    "        img_byte_arr = img_byte_arr.getvalue()\n",
    "        return img_byte_arr\n",
    "\n",
    "    def _enhance_image(self, im, contrast=0, brightness=1.0):\n",
    "        im = self.change_contrast(im, contrast)\n",
    "        im = self.change_brightness(im, brightness)\n",
    "        return im\n",
    "\n",
    "    def evaluate(self, image=None):\n",
    "        _image = self._get_image(image)\n",
    "        return {'image':self._enhance_image(_image, self.contrast, self.brightness)}\n",
    "        \n",
    "layout = {'width': '500px'}\n",
    "style = {'description_width': '50px'}\n",
    "    \n",
    "class ContrastBrightnessWidget(BaseWidget):\n",
    "    def __init__(self,action=None,imageWidget=None,layout=layout,style=style):\n",
    "        self.action = action\n",
    "        self.imageWidget  = imageWidget # None or used to display result\n",
    "        self._image = None\n",
    "                \n",
    "        self.contrast_w    = widgets.IntSlider(value=0,description='contrast', min=-1000, max=1000, step=1,layout=layout)\n",
    "        self.brightness_w  = widgets.FloatSlider(value=1.0,description='brightness', min=0, max=1.0, step=0.001, readout_format='.3f',layout=layout)\n",
    "        #results_w = widgets.Text(description='results',value = '0', style=style, layout=layout)\n",
    "        #image_w2      = widgets.Image(format='PNG')\n",
    "        self.contrast_w.observe(self.on_value_change_enhance,'value')\n",
    "        self.brightness_w.observe(self.on_value_change_enhance,'value')\n",
    "        self.vbox   = widgets.VBox([self.contrast_w,self.brightness_w])\n",
    "        #display(contrast_w,brightness_w,results_w,image_w2)\n",
    "\n",
    "        if(self.action == None):\n",
    "            self.action   = ContrastBrightnessAction(contrast=0,brightness=1.0)\n",
    "        \n",
    "    def on_value_change_enhance(self,change):\n",
    "        self.action.contrast=self.contrast_w.value\n",
    "        self.action.brightness=self.brightness_w.value        \n",
    "        self.updateImage(update=True)\n",
    "        \n",
    "        #action._enhance_image(_image, contrast=contrast_w.value, brightness=brightness_w.value)\n",
    "        #results_w.value = str(int(1))\n",
    "        #image_w2.value = getByteArray(im)\n",
    "\n",
    "    def evaluate(self,image=None):\n",
    "        # Achtung schreibt image auch in ImageWidget !!!!!!! Doppelt\n",
    "        self.updateImage(image=image)\n",
    "        \n",
    "        return self.result            \n",
    "                \n",
    "    # RESULT \n",
    "    # after image is updated \n",
    "    # called e.g. by DisplayWidget\n",
    "    def updateImage(self,image=None,update=False):\n",
    "        if(image != None):\n",
    "            self._image = self.action._get_image(image)\n",
    "        \n",
    "        if(self._image != None):  \n",
    "            \n",
    "            self.result = self.action.evaluate(image=self._image)\n",
    "            \n",
    "            # write output\n",
    "            if update == True:\n",
    "                if(self.imageWidget != None):\n",
    "                    self.imageWidget.evaluate(self.result['image'])  "
   ]
  },
  {
   "cell_type": "markdown",
   "metadata": {
    "tags": []
   },
   "source": [
    "## Video Action"
   ]
  },
  {
   "cell_type": "code",
   "execution_count": 16,
   "metadata": {},
   "outputs": [],
   "source": [
    "import pafy\n",
    "import cv2\n",
    "import time\n",
    "import json\n",
    "#from queue import Queue\n",
    "\n",
    "class VideoAction(BaseAction):\n",
    "    #def __init__(self, sources=None, id=None, index=0, skipframes=0):\n",
    "    def __init__(self, sources=None, id=None, index=0, skipframes=0):    \n",
    "        self.sources = sources\n",
    "        self.id = id\n",
    "        self.index = index\n",
    "        self.skipframes = skipframes\n",
    "        self._stream  = None\n",
    "        self._capture = None\n",
    "        self.video    = None\n",
    "        \n",
    "        self._last_state = {'id':self.id,'index':self.index}\n",
    "        self.init(sources=sources)\n",
    "        \n",
    "    def dict(self):\n",
    "        parameters = {'id':self.id,'index':self.index,'skipframes':self.skipframes}\n",
    "        return {'class' : self.__class__.__name__, 'parameters' : parameters} \n",
    "        \n",
    "    def init(self, sources=None, video=None):\n",
    "        self.video = video\n",
    "        \n",
    "        if video == None and sources != None:\n",
    "            try:\n",
    "                self.sources = sources\n",
    "                url = self.sources.videos[self.id]['url']   \n",
    "                self.video = video = pafy.new(url)     \n",
    "            except Exception as exception: \n",
    "                print('Exception VideoAction init', str(exception))    \n",
    "                return False\n",
    "            \n",
    "        self.setIndex(self.index)\n",
    "        return True\n",
    "        \n",
    "    # save video meta data    \n",
    "    def saveVideo(self,filename='videos.json', videos=None):\n",
    "        #print(videos)\n",
    "        with open(filename, 'w', encoding='utf-8') as f:\n",
    "            json.dump(videos, f, ensure_ascii=False, indent=4)\n",
    "        \n",
    "    def loadVideo(self,filename='videos.json'):\n",
    "        with open('videos.json', 'r') as fp:\n",
    "            videos = json.load(fp)  \n",
    "            return videos    \n",
    "        \n",
    "    # select stream   \n",
    "    def _setIndex(self,index):\n",
    "        self.index = index\n",
    "        self._last_state['index'] = index\n",
    "        \n",
    "        if self.video != None and self.index != None:\n",
    "            #print(self.index)\n",
    "            self._stream = self.video.streams[self.index]\n",
    "            self._capture = cv2.VideoCapture(self._stream.url)\n",
    "            \n",
    "    # deprecated        \n",
    "    def setIndex(self,index):    \n",
    "        self._setIndex(index)\n",
    "        \n",
    "    # TODO: check if index was updated\n",
    "    # read next image of current stream     \n",
    "    def evaluate(self, image=None):\n",
    "        if self._last_state['index'] != self.index:\n",
    "            self._setIndex(self.index)\n",
    "        return {'image':self.readImage()}    \n",
    "        \n",
    "    # read next image of current stream    \n",
    "    def readImage(self):\n",
    "        self.skipFrames(self.skipframes)\n",
    "        grabbed, frame = self._capture.read()\n",
    "        if grabbed == True:\n",
    "            image = Image.fromarray(cv2.cvtColor(frame, cv2.COLOR_BGR2RGB))\n",
    "            return image\n",
    "        return None\n",
    "\n",
    "    def readImages(self,number):\n",
    "        images = []\n",
    "        for idx in range(0, number):\n",
    "            grabbed, frame = self._capture.read()\n",
    "            image = Image.fromarray(cv2.cvtColor(frame, cv2.COLOR_BGR2RGB))\n",
    "            images.append(image)\n",
    "\n",
    "            for i in range(0, self.skipframes):\n",
    "                grabbed, frame = self._capture.read()\n",
    "                #print('skip',i)\n",
    "        return images\n",
    "\n",
    "    def skipFrames(self,skipframes=0):\n",
    "        for i in range(0, skipframes):\n",
    "                grabbed, frame = self._capture.read()\n",
    "    \n",
    "    def _readImageOfStream(self,stream):\n",
    "        capture = cv2.VideoCapture(stream.url)\n",
    "        grabbed, frame = capture.read()\n",
    "        if grabbed == True:\n",
    "            image = Image.fromarray(cv2.cvtColor(frame, cv2.COLOR_BGR2RGB))\n",
    "            return image\n",
    "        return None\n",
    "    \n",
    "    def getVstreams(self,indexes=None):\n",
    "        global vstreams\n",
    "        vstreams=[]\n",
    "        for stream in self.video.streams:\n",
    "            if indexes == None:\n",
    "                image = self._readImageOfStream(stream)\n",
    "                vstreams.append(image)\n",
    "            else:\n",
    "                vstreams.append(None) \n",
    "\n",
    "        if indexes != None:\n",
    "            for index in indexes:\n",
    "                image = self._readImageOfStream(video.streams[index])\n",
    "                vstreams[index] = image\n",
    "        return vstreams\n",
    "\n",
    "    def getVstream(self,vstreams=None, index=None):\n",
    "        if vstreams[index] == None:\n",
    "            image = readImageOfStream(video.streams[index])\n",
    "            vstreams[index] = image\n",
    "        return vstreams[index]\n"
   ]
  },
  {
   "cell_type": "markdown",
   "metadata": {},
   "source": [
    "## TemplateWrapperWidget"
   ]
  },
  {
   "cell_type": "code",
   "execution_count": 17,
   "metadata": {},
   "outputs": [],
   "source": [
    "layout2={'width': '350px'}\n",
    "\n",
    "def addTemplateWrapperTab(_app,_class,action):\n",
    "    _widget = _class(action=action, imageWidget=_app._imageWidget2, parent=_app._tab._widgets[len(_app._tab._widgets)-1])  \n",
    "    _app._tab.add(_widget)\n",
    "        \n",
    "class TemplateWrapperWidget(BaseWidget):\n",
    "    def __init__(self, action=None, imageWidget=None, parent=None):\n",
    "        self.action = action\n",
    "        self.parent = parent\n",
    "        self.result = None\n",
    "        self.imageWidget = imageWidget\n",
    "        self.vbox   = widgets.VBox([])\n",
    "            \n",
    "    def evaluate(self, **kwargs):     \n",
    "        self.result = self.action.evaluate(**kwargs)\n",
    "        if isinstance(self.result, dict):\n",
    "            _widgets = []\n",
    "            for key, value in self.result.items():\n",
    "                if key != 'image':\n",
    "                    if isinstance(value,list):\n",
    "                        value = len(value)\n",
    "                    _widgets.append(widgets.Text(description = key, value=str(value), style=style, layout=layout2))\n",
    "            self.vbox.children = _widgets\n",
    "            \n",
    "        return self.result"
   ]
  },
  {
   "cell_type": "markdown",
   "metadata": {
    "tags": []
   },
   "source": [
    "# Coral Actions"
   ]
  },
  {
   "cell_type": "markdown",
   "metadata": {},
   "source": [
    "## PoseEngineAction"
   ]
  },
  {
   "cell_type": "code",
   "execution_count": 18,
   "metadata": {},
   "outputs": [],
   "source": [
    "import random\n",
    "from PIL import Image\n",
    "from PIL import ImageDraw\n",
    "\n",
    "from pycoral.utils import edgetpu\n",
    "from PIL import Image\n",
    "from tflite_runtime.interpreter import load_delegate\n",
    "from tflite_runtime.interpreter import Interpreter\n",
    "\n",
    "import collections\n",
    "import enum\n",
    "import math\n",
    "import numpy as np\n",
    "import os\n",
    "import platform\n",
    "import sys\n",
    "import time\n",
    "\n",
    "from projectposenet.pose_engine import PoseEngine\n",
    "\n",
    "colors = [(255,0,0,255) ,(0,255,0,255) ,(0,0,255,255),(255,255,0,255) ,(0,255,255,255) ,(255,255,255,255), \\\n",
    "         (125,0,0,255) ,(125,255,0,255) ,(125,0,255,255),(125,255,0,255) ,(125,255,255,255) ,(125,255,255,255)]\n",
    "\n",
    "EDGES = (\n",
    "    ('nose', 'left eye'),\n",
    "    ('nose', 'right eye'),\n",
    "    ('nose', 'left ear'),\n",
    "    ('nose', 'right ear'),\n",
    "    ('left ear', 'left eye'),\n",
    "    ('right ear', 'right eye'),\n",
    "    ('left eye', 'right eye'),\n",
    "    ('left shoulder', 'right shoulder'),\n",
    "    ('left shoulder', 'left elbow'),\n",
    "    ('left shoulder', 'left hip'),\n",
    "    ('right shoulder', 'right elbow'),\n",
    "    ('right shoulder', 'right hip'),\n",
    "    ('left elbow', 'left wrist'),\n",
    "    ('right elbow', 'right wrist'),\n",
    "    ('left hip', 'right hip'),\n",
    "    ('left hip', 'left knee'),\n",
    "    ('right hip', 'right knee'),\n",
    "    ('left knee', 'left ankle'),\n",
    "    ('right knee', 'right ankle'),\n",
    ")\n",
    "\n",
    "# 481x641\n",
    "class PoseEngineAction(BaseAction):\n",
    "    def __init__(self):\n",
    "        self.engine = PoseEngine('projectposenet/models/mobilenet/posenet_mobilenet_v1_075_481_641_quant_decoder_edgetpu.tflite')\n",
    "        self.result = None\n",
    "    \n",
    "    def evaluate(self, **kwargs):        \n",
    "        if 'image' in kwargs.keys():\n",
    "            self.result = {'image':kwargs['image']}\n",
    "            image = self._get_image(kwargs['image'])\n",
    "            poses, inference_time = self.engine.DetectPosesInImage(image)\n",
    "            self.result = {'poses':poses, 'inference_time':inference_time,'image':kwargs['image']}\n",
    "            return self.result"
   ]
  },
  {
   "cell_type": "code",
   "execution_count": 19,
   "metadata": {},
   "outputs": [],
   "source": [
    "from PIL import Image, ImageDraw, ImageFont\n",
    "import random\n",
    "colors = [(255,0,0,255) ,(0,255,0,255) ,(0,0,255,255),(255,255,0,255) ,(0,255,255,255) ,(255,255,255,255), \\\n",
    "         (125,0,0,255) ,(125,255,0,255) ,(125,0,255,255),(125,255,0,255) ,(125,255,255,255) ,(125,255,255,255)]\n",
    "\n",
    "class Pose:\n",
    "    def __init__(self, pose, minScoreKeypoint=-1):\n",
    "        self.pose = pose\n",
    "        self.xys = self.get_xys(pose, minScoreKeypoint)\n",
    "        \n",
    "    def get_xys(self,pose, min_score=-1):\n",
    "        xys = {}\n",
    "        for label, keypoint in pose.keypoints.items():\n",
    "            score =  float(keypoint.score)\n",
    "            if score < min_score: continue\n",
    "            kp_y = int((keypoint.point.y) )\n",
    "            kp_x = int((keypoint.point.x) )\n",
    "            xys[label] = (kp_x, kp_y, score)\n",
    "        return xys            \n",
    "        \n",
    "    def addPointsText(self,img,keys,color,r,fontsize):\n",
    "        for key in keys:\n",
    "            if key in self.xys:\n",
    "                x = self.xys[key][0]\n",
    "                y = self.xys[key][1]\n",
    "                img.drawPoint( x,y,r,color)\n",
    "                img.drawText(str(key), x,y,fontsize, color=color)\n",
    "                \n",
    "    def addSkeleton(self,img,EDGES,color='red',width=1):\n",
    "        for a, b in EDGES:\n",
    "            if a not in self.xys or b not in self.xys: continue\n",
    "            ax, ay = self.xys[a][0],self.xys[a][1]\n",
    "            bx, by = self.xys[b][0],self.xys[b][1]\n",
    "            img.drawLine(ax,ay,bx,by,color=color,width=width)\n",
    "                \n",
    "    def printPose(self,mninScorePose=-0.1, minScoreKeypoint=-0.1):\n",
    "        #if self.pose.score < mninScorePose : continue\n",
    "        print('\\nPose Score: ', self.pose.score)\n",
    "        for label, keypoint in self.pose.keypoints.items():\n",
    "            if keypoint.score < minScoreKeypoint : continue\n",
    "            print(' %-20s x=%-4d y=%-4d score=%.2f' %\n",
    "                (label, keypoint.yx[1], keypoint.yx[0], keypoint.score))\n"
   ]
  },
  {
   "cell_type": "markdown",
   "metadata": {
    "tags": []
   },
   "source": [
    "## DrawPoseAction"
   ]
  },
  {
   "cell_type": "code",
   "execution_count": 20,
   "metadata": {},
   "outputs": [],
   "source": [
    "\n",
    "                  \n",
    "class DrawPoseAction(BaseAction):\n",
    "    def __init__(self):\n",
    "        self.result = None\n",
    "    \n",
    "    def evaluate(self, **kwargs):        \n",
    "        if 'image' in kwargs.keys() and 'poses' in kwargs.keys() :\n",
    "            image = kwargs['image']\n",
    "            poses = kwargs['poses']\n",
    "            self.drawPosePoints(image,poses,EDGES) \n",
    "            self.addSkeletons(image,poses,EDGES)\n",
    "            self.result = {'image':image}\n",
    "            return self.result\n",
    "        else:\n",
    "            return kwargs                \n",
    "        \n",
    "    def drawPoint(self,image,x,y,r,rgba):\n",
    "        draw = ImageDraw.Draw(image)\n",
    "        leftUpPoint = (x-r, y-r)\n",
    "        rightDownPoint = (x+r, y+r)\n",
    "        twoPointList = [leftUpPoint, rightDownPoint]\n",
    "        draw.ellipse(twoPointList, fill=rgba)\n",
    "\n",
    "    def drawPosePoints(self,image,poses,EDGES):    \n",
    "        for pose in poses:\n",
    "            #if pose.score < 0.4: continue\n",
    "            rgba =  random.choice(colors)     \n",
    "            #print('\\nPose Score: ', pose.score)\n",
    "            xys = {}\n",
    "            minScoreKeypoint = 0.0\n",
    "            for label, keypoint in pose.keypoints.items():\n",
    "                if keypoint.score < minScoreKeypoint : continue\n",
    "                #print(keypoint.point)\n",
    "                #drawPoint(image,keypoint.yx[1], keypoint.yx[0],2,rgba)\n",
    "                self.drawPoint(image,keypoint.point.x,keypoint.point.y,2,rgba)\n",
    "                #kp_y = int((keypoint.yx[0] ) )\n",
    "                #kp_x = int((keypoint.yx[1] ) )\n",
    "                kp_y = int( keypoint.point.y)\n",
    "                kp_x = int( keypoint.point.x)\n",
    "\n",
    "                xys[label] = (kp_x, kp_y)\n",
    "                #print(' %-20s x=%-4d y=%-4d score=%.1f' %\n",
    "                #      (label, keypoint.yx[1], keypoint.yx[0], keypoint.score))\n",
    "            #print(xys)\n",
    "\n",
    "            for a, b in EDGES:\n",
    "                if a not in xys or b not in xys: continue\n",
    "                ax, ay = xys[a]\n",
    "                bx, by = xys[b]\n",
    "                #dwg.add(dwg.line(start=(ax, ay), end=(bx, by), stroke=color, stroke_width=2))\n",
    "                draw = ImageDraw.Draw(image)\n",
    "                draw.line((ax,ay,bx,by), fill=128, width=3)\n",
    "                #print (ax,ay,bx,b)    \n",
    "                \n",
    "    def addSkeletons(self,image,poses,EDGES):\n",
    "        for pose in poses:   \n",
    "            _pose = Pose(pose)\n",
    "            _pose.addSkeleton(image,EDGES,color='red',width=1)"
   ]
  },
  {
   "cell_type": "markdown",
   "metadata": {},
   "source": [
    "## ObjectsInterpreterAction"
   ]
  },
  {
   "cell_type": "code",
   "execution_count": 21,
   "metadata": {
    "tags": []
   },
   "outputs": [],
   "source": [
    "import time\n",
    "\n",
    "from PIL import Image\n",
    "from PIL import ImageDraw\n",
    "\n",
    "from pycoral.adapters import common\n",
    "from pycoral.adapters import detect\n",
    "from pycoral.utils.dataset import read_label_file\n",
    "from pycoral.utils.edgetpu import make_interpreter\n",
    "\n",
    "class ObjectsInterpreterAction(BaseAction):\n",
    "    def __init__(self, score_threshold=0.2):\n",
    "        self.score_threshold = score_threshold \n",
    "        self.filter = []\n",
    "        self.result = None\n",
    "        self.labels = read_label_file('/home/pi/jupyter/coral/pycoral/test_data/coco_labels.txt')\n",
    "        self.interpreter = make_interpreter('/home/pi/jupyter/coral/pycoral/test_data/ssd_mobilenet_v2_coco_quant_postprocess_edgetpu.tflite')\n",
    "        self.interpreter.allocate_tensors()\n",
    "\n",
    "    def evaluate(self, **kwargs):        \n",
    "        if 'image' in kwargs.keys():\n",
    "            self.result = {'image':kwargs['image']}\n",
    "            image = self._get_image(kwargs['image'])\n",
    "            \n",
    "            start = time.perf_counter()\n",
    "            self.interpreter.invoke()\n",
    "            inference_time = time.perf_counter() - start\n",
    "            #_, scale = common.set_resized_input(\n",
    "            #    self.interpreter, image.size, lambda size: image.resize(size, Image.ANTIALIAS))\n",
    "            _, scale = common.set_resized_input(self.interpreter, image.size, lambda size: image)\n",
    "            \n",
    "            objs = detect.get_objects(self.interpreter,self.score_threshold, scale)\n",
    "    \n",
    "            if len(self.filter) > 0: \n",
    "                objs = self.filter_objects(objs)\n",
    "    \n",
    "            self.result = {'objects':objs, 'inference_time':inference_time,'image':kwargs['image']}\n",
    "            return self.result\n",
    "        \n",
    "    def filter_objects(self,objs):\n",
    "        objs2 = []\n",
    "        for obj in objs:\n",
    "            _label = self.labels.get(obj.id, obj.id) \n",
    "            if _label in self.filter:\n",
    "                objs2.append(obj)\n",
    "        return objs2        \n",
    "        \n",
    "    def input_size(self):\n",
    "        return common.input_size(self.interpreter)"
   ]
  },
  {
   "cell_type": "markdown",
   "metadata": {
    "tags": []
   },
   "source": [
    "## DrawObjectsAction"
   ]
  },
  {
   "cell_type": "code",
   "execution_count": 22,
   "metadata": {
    "tags": []
   },
   "outputs": [],
   "source": [
    "class DrawObjectsAction(BaseAction):\n",
    "    def __init__(self):\n",
    "        self.result = None\n",
    "        self.labels = read_label_file('/home/pi/jupyter/coral/pycoral/test_data/coco_labels.txt')\n",
    "    \n",
    "    def evaluate(self, **kwargs):        \n",
    "        if 'image' in kwargs.keys() and 'objects' in kwargs.keys() :\n",
    "            image = kwargs['image'].copy()\n",
    "            objs = kwargs['objects']\n",
    "            self.draw_objects(ImageDraw.Draw(image), objs, self.labels)        \n",
    "            #self.result = {'image':image}\n",
    "            self.result = dict(kwargs)\n",
    "            self.result['image'] = image\n",
    "            return self.result\n",
    "        else:\n",
    "            return kwargs                \n",
    "        \n",
    "    def draw_objects(self,draw, objs, labels):\n",
    "        for obj in objs:\n",
    "            bbox = obj.bbox\n",
    "            draw.rectangle([(bbox.xmin, bbox.ymin), (bbox.xmax, bbox.ymax)],\n",
    "                           outline='red')\n",
    "            draw.text((bbox.xmin + 10, bbox.ymin + 10),\n",
    "                      '%s\\n%.2f' % (labels.get(obj.id, obj.id), obj.score),\n",
    "                      fill='red')\n",
    "\n",
    "    def get_labels(self,objs): \n",
    "        _labels = []\n",
    "        for obj in objs:\n",
    "            _label = self.labels.get(obj.id, obj.id)   \n",
    "            if _label not in _labels:\n",
    "                _labels.append(_label)\n",
    "        return _labels\n",
    "            \n",
    "    def printData(self,objs):        \n",
    "        for obj in objs:\n",
    "            print(labels.get(obj.id, obj.id))\n",
    "            print('  id:    ', obj.id)\n",
    "            print('  score: ', obj.score)\n",
    "            print('  bbox:  ', obj.bbox)"
   ]
  },
  {
   "cell_type": "markdown",
   "metadata": {},
   "source": [
    "## SemanticSegmentationAction"
   ]
  },
  {
   "cell_type": "code",
   "execution_count": 23,
   "metadata": {
    "tags": []
   },
   "outputs": [],
   "source": [
    "#semantic_segmentation.py\n",
    "\n",
    "import numpy as np\n",
    "from PIL import Image\n",
    "\n",
    "from pycoral.adapters import common\n",
    "from pycoral.adapters import segment\n",
    "from pycoral.utils.edgetpu import make_interpreter\n",
    "\n",
    "\n",
    "def create_pascal_label_colormap():\n",
    "  \"\"\"Creates a label colormap used in PASCAL VOC segmentation benchmark.\n",
    "\n",
    "  Returns:\n",
    "    A Colormap for visualizing segmentation results.\n",
    "  \"\"\"\n",
    "  colormap = np.zeros((256, 3), dtype=int)\n",
    "  indices = np.arange(256, dtype=int)\n",
    "\n",
    "  for shift in reversed(range(8)):\n",
    "    for channel in range(3):\n",
    "      colormap[:, channel] |= ((indices >> channel) & 1) << shift\n",
    "    indices >>= 3\n",
    "\n",
    "  return colormap\n",
    "\n",
    "def label_to_color_image(label):\n",
    "  \"\"\"Adds color defined by the dataset colormap to the label.\n",
    "\n",
    "  Args:\n",
    "    label: A 2D array with integer type, storing the segmentation label.\n",
    "\n",
    "  Returns:\n",
    "    result: A 2D array with floating type. The element of the array\n",
    "      is the color indexed by the corresponding element in the input label\n",
    "      to the PASCAL color map.\n",
    "\n",
    "  Raises:\n",
    "    ValueError: If label is not of rank 2 or its value is larger than color\n",
    "      map maximum entry.\n",
    "  \"\"\"\n",
    "  if label.ndim != 2:\n",
    "    raise ValueError('Expect 2-D input label')\n",
    "\n",
    "  colormap = create_pascal_label_colormap()\n",
    "\n",
    "  if np.max(label) >= len(colormap):\n",
    "    raise ValueError('label value too large.')\n",
    "\n",
    "  return colormap[label]\n",
    "\n",
    "\n",
    "class SemanticSegmentationAction(BaseAction):\n",
    "    def __init__(self):\n",
    "        self.result = None\n",
    "        self.interpreter = make_interpreter('/home/pi/jupyter/coral/pycoral/test_data/deeplabv3_mnv2_pascal_quant_edgetpu.tflite', device=':0')\n",
    "        self.interpreter.allocate_tensors()\n",
    "        self.width, self.height = common.input_size(self.interpreter)\n",
    "\n",
    "    def evaluate(self, **kwargs):        \n",
    "        if 'image' in kwargs.keys():\n",
    "            self.result = {'image':kwargs['image']}\n",
    "            image = self._get_image(kwargs['image'])\n",
    "            \n",
    "            keep_aspect_ratio = True\n",
    "            if keep_aspect_ratio:\n",
    "                resized_img, _ = common.set_resized_input(\n",
    "                self.interpreter, image.size, lambda size: image.resize(size, Image.ANTIALIAS))\n",
    "            else:\n",
    "                resized_img = image.resize((self.width, self.height), Image.ANTIALIAS)\n",
    "                common.set_input(self.interpreter, resized_img)\n",
    "\n",
    "            self.interpreter.invoke()\n",
    "            result = segment.get_output(self.interpreter)\n",
    "            if len(result.shape) == 3:\n",
    "                result = np.argmax(result, axis=-1)\n",
    "\n",
    "            # If keep_aspect_ratio, we need to remove the padding area.\n",
    "            new_width, new_height = resized_img.size\n",
    "            result = result[:new_height, :new_width]\n",
    "            mask_img = Image.fromarray(label_to_color_image(result).astype(np.uint8))\n",
    "\n",
    "            # Concat resized input image and processed segmentation results.\n",
    "            output_img = Image.new('RGB', (2 * new_width, new_height))\n",
    "            output_img.paste(resized_img, (0, 0))\n",
    "            output_img.paste(mask_img, (self.width, 0))\n",
    "  \n",
    "            self.result = {'image':output_img}\n",
    "            return self.result"
   ]
  },
  {
   "cell_type": "markdown",
   "metadata": {},
   "source": [
    "## ObjectsInterpreterWidget"
   ]
  },
  {
   "cell_type": "code",
   "execution_count": 24,
   "metadata": {},
   "outputs": [],
   "source": [
    "class ObjectsInterpreterWidget(BaseWidget):\n",
    "    def __init__(self, action=None, imageWidget=None, parent=None):\n",
    "        self.action = action\n",
    "        self.parent = parent\n",
    "        self.result = None\n",
    "        self.imageWidget = imageWidget\n",
    "        self.threshold   = widgets.Text(description = 'threshold' , value=str(self.parent.action.score_threshold), style=style, layout=layout2)\n",
    "        self.out  = widgets.Output()\n",
    "        self.vbox   = widgets.VBox([self.threshold,self.out])\n",
    "        self.labels = []    \n",
    "        self.threshold.on_submit(self.on_value_submit_threshold)    \n",
    "            \n",
    "    def evaluate(self, **kwargs):     \n",
    "        self.result = self.action.evaluate(**kwargs)\n",
    "        if isinstance(self.result, dict):\n",
    "             with self.out:\n",
    "                clear_output()\n",
    "                _labels = self.action.get_labels(kwargs['objects'])\n",
    "                self.labels = []  \n",
    "                for _label in _labels:\n",
    "                    _checkbox = widgets.Checkbox(description=_label,value=True)\n",
    "                    _checkbox.observe(self.label_on_change,'value')\n",
    "                    display(_checkbox)     \n",
    "                    self.labels.append(_checkbox)\n",
    "        return self.result\n",
    "    \n",
    "    def on_value_submit_threshold(self,change):\n",
    "        self.parent.action.score_threshold = float(change.value)\n",
    "        self.evaluate_subchain()\n",
    "        \n",
    "    def evaluate_subchain(self):    \n",
    "        parent_result = self.parent.evaluate(**self.parent.parent.result)\n",
    "        self.evaluate(**parent_result)\n",
    "        self.imageWidget.evaluate(self.result['image'])\n",
    "        \n",
    "    def label_on_change(self,change):  \n",
    "        if change['type'] == 'change' and change['name'] == 'value':\n",
    "            #print(change['name'])\n",
    "            _labels = []\n",
    "            for _label in self.labels:\n",
    "                if _label.value == True:\n",
    "                    _labels.append(_label.description)\n",
    "            print(_labels)\n",
    "            self.parent.action.filter = _labels\n",
    "            self.evaluate_subchain()\n",
    "            #K"
   ]
  },
  {
   "cell_type": "markdown",
   "metadata": {},
   "source": [
    "# Coral Actions 2"
   ]
  },
  {
   "cell_type": "markdown",
   "metadata": {
    "tags": []
   },
   "source": [
    "## CountPoseAction"
   ]
  },
  {
   "cell_type": "code",
   "execution_count": 25,
   "metadata": {},
   "outputs": [],
   "source": [
    "class CountPoseAction(BaseAction):\n",
    "    def __init__(self):\n",
    "        self.result = None\n",
    "    \n",
    "    def evaluate(self, **kwargs):        \n",
    "        if 'image' in kwargs.keys() and 'poses' in kwargs.keys() :\n",
    "            image = kwargs['image']\n",
    "            poses = kwargs['poses']\n",
    "            self.drawPosePoints(image,poses,EDGES) \n",
    "            self.addSkeletons(image,poses,EDGES)\n",
    "            self.result = {'image':image}\n",
    "            self.result['count']= len(poses)\n",
    "            self.result['poses']=poses\n",
    "            Bboxes=[]\n",
    "            ScoreRanges=[]\n",
    "            for pose in poses:\n",
    "                Bboxes.append(self.calculateBbox(pose))\n",
    "                ScoreRanges.append(self.calculateScoreRange(pose))\n",
    "            self.result['bboxes']=Bboxes\n",
    "            self.result['score_range']=ScoreRanges\n",
    "            return self.result\n",
    "        else:\n",
    "            return kwargs                \n",
    "        \n",
    "    def drawPoint(self,image,x,y,r,rgba):\n",
    "        draw = ImageDraw.Draw(image)\n",
    "        leftUpPoint = (x-r, y-r)\n",
    "        rightDownPoint = (x+r, y+r)\n",
    "        twoPointList = [leftUpPoint, rightDownPoint]\n",
    "        draw.ellipse(twoPointList, fill=rgba)\n",
    "        \n",
    "    def addSkeletons(self,image,poses,EDGES):\n",
    "        for pose in poses:   \n",
    "            _pose = Pose(pose)\n",
    "            _pose.addSkeleton(image,EDGES,color='red',width=1)\n",
    "\n",
    "    def drawPosePoints(self,image,poses,EDGES):    \n",
    "        for pose in poses:\n",
    "            #if pose.score < 0.4: continue\n",
    "            rgba =  random.choice(colors)     \n",
    "            #print('\\nPose Score: ', pose.score)\n",
    "            xys = {}\n",
    "            minScoreKeypoint = 0.0\n",
    "            for label, keypoint in pose.keypoints.items():\n",
    "                if keypoint.score < minScoreKeypoint : continue\n",
    "                #print(keypoint.point)\n",
    "                #drawPoint(image,keypoint.yx[1], keypoint.yx[0],2,rgba)\n",
    "                self.drawPoint(image,keypoint.point.x,keypoint.point.y,2,rgba)\n",
    "                #kp_y = int((keypoint.yx[0] ) )\n",
    "                #kp_x = int((keypoint.yx[1] ) )\n",
    "                kp_y = int( keypoint.point.y)\n",
    "                kp_x = int( keypoint.point.x)\n",
    "\n",
    "                xys[label] = (kp_x, kp_y)\n",
    "                #print(' %-20s x=%-4d y=%-4d score=%.1f' %\n",
    "                #      (label, keypoint.yx[1], keypoint.yx[0], keypoint.score))\n",
    "            #print(xys)\n",
    "\n",
    "            for a, b in EDGES:\n",
    "                if a not in xys or b not in xys: continue\n",
    "                ax, ay = xys[a]\n",
    "                bx, by = xys[b]\n",
    "                #dwg.add(dwg.line(start=(ax, ay), end=(bx, by), stroke=color, stroke_width=2))\n",
    "                draw = ImageDraw.Draw(image)\n",
    "                draw.line((ax,ay,bx,by), fill=128, width=3)\n",
    "                #print (ax,ay,bx,b)     \n",
    "                \n",
    "    def calculateBbox(self,pose):\n",
    "\n",
    "        minimum=[9999999,9999899]\n",
    "        maximum=[0,0]\n",
    "        for label, keypoint in pose.keypoints.items():\n",
    "\n",
    "                print(keypoint.point)\n",
    "                #drawPoint(image,keypoint.yx[1], keypoint.yx[0],2,rgba)\n",
    "\n",
    "                #kp_y = int((keypoint.yx[0] ) )\n",
    "                #kp_x = int((keypoint.yx[1] ) )\n",
    "                kp_y = int( keypoint.point.y)\n",
    "                kp_x = int( keypoint.point.x)\n",
    "                if kp_x<minimum[0]:\n",
    "                    minimum[0]=kp_x\n",
    "                if kp_x>maximum[0]:\n",
    "                    maximum[0]=kp_x\n",
    "                if kp_y<minimum[1]:\n",
    "                    minimum[1]=kp_y\n",
    "                if kp_y>maximum[1]:\n",
    "                    maximum[1]=kp_y\n",
    "\n",
    "        return minimum,maximum \n",
    "    \n",
    "    def calculateScoreRange(self,pose):\n",
    "\n",
    "        minimum=9999999\n",
    "        maximum=0\n",
    "        for label, keypoint in pose.keypoints.items():\n",
    "\n",
    "            \n",
    "                score = keypoint.score\n",
    "                \n",
    "                if score<minimum:\n",
    "                    minimum=score\n",
    "                if score>maximum:\n",
    "                    maximum=score\n",
    "                \n",
    "\n",
    "        return minimum,maximum                "
   ]
  },
  {
   "cell_type": "markdown",
   "metadata": {
    "tags": []
   },
   "source": [
    "## CountObjectsAction"
   ]
  },
  {
   "cell_type": "code",
   "execution_count": 26,
   "metadata": {
    "tags": []
   },
   "outputs": [],
   "source": [
    "class CountObjectsAction(BaseAction):\n",
    "    def __init__(self):\n",
    "        self.result = None\n",
    "        self.labels = read_label_file('/home/pi/jupyter/coral/pycoral/test_data/coco_labels.txt')\n",
    "    \n",
    "    def evaluate1(self, **kwargs):  \n",
    "        if  'objects' in kwargs.keys() :\n",
    "            objs = kwargs['objects'] \n",
    "            _count=self.count(objs)\n",
    "            self.result = dict(kwargs)\n",
    "            self.result['count']=_count\n",
    "            return self.result\n",
    "        else:\n",
    "            return kwargs  \n",
    "        \n",
    "        \n",
    "    def evaluate(self, **kwargs):        \n",
    "        if 'image' in kwargs.keys() and 'objects' in kwargs.keys() :\n",
    "            image = kwargs['image'].copy()\n",
    "            objs = kwargs['objects']\n",
    "            count=self.count(objs)\n",
    "            self.draw_objects(ImageDraw.Draw(image), objs, self.labels)        \n",
    "            #self.result = {'image':image}\n",
    "            self.result = dict(kwargs)\n",
    "            self.result['image'] = image\n",
    "            self.result['count']= count\n",
    "            return self.result\n",
    "        else:\n",
    "            return kwargs     \n",
    "        \n",
    "    def count(self,objects):    \n",
    "        counter=0\n",
    "        for object in objects:\n",
    "            if object.id==0:\n",
    "                counter=counter+1\n",
    "        return counter\n",
    "\n",
    "\n",
    "        \n",
    "    def draw_objects(self,draw, objs, labels):\n",
    "        for obj in objs:\n",
    "            bbox = obj.bbox\n",
    "            draw.rectangle([(bbox.xmin, bbox.ymin), (bbox.xmax, bbox.ymax)],\n",
    "                           outline='red')\n",
    "            draw.text((bbox.xmin + 10, bbox.ymin + 10),\n",
    "                      '%s\\n%.2f' % (labels.get(obj.id, obj.id), obj.score),\n",
    "                      fill='red')\n",
    "\n",
    "    def get_labels(self,objs): \n",
    "        _labels = []\n",
    "        for obj in objs:\n",
    "            _label = self.labels.get(obj.id, obj.id)   \n",
    "            if _label not in _labels:\n",
    "                _labels.append(_label)\n",
    "        return _labels\n",
    "            \n",
    "    def printData(self,objs):        \n",
    "        for obj in objs:\n",
    "            print(labels.get(obj.id, obj.id))\n",
    "            print('  id:    ', obj.id)\n",
    "            print('  score: ', obj.score)\n",
    "            print('  bbox:  ', obj.bbox)"
   ]
  },
  {
   "cell_type": "markdown",
   "metadata": {},
   "source": [
    "## CountObjectsWidget"
   ]
  },
  {
   "cell_type": "code",
   "execution_count": 27,
   "metadata": {},
   "outputs": [],
   "source": [
    "layout2={'width': '350px'}\n",
    "\n",
    "class CountObjectsWidget(BaseWidget):\n",
    "    def __init__(self, action=None, imageWidget=None, parent=None):\n",
    "        self.action = action\n",
    "        self.parent = parent\n",
    "        self.result = None\n",
    "        self.count = widgets.Text(description = 'c', style=style, layout=layout2)\n",
    "        self.imageWidget = imageWidget\n",
    "        self.vbox   = widgets.VBox([self.count])\n",
    "            \n",
    "    def evaluate(self, **kwargs):     \n",
    "        self.result = self.action.evaluate(**kwargs)\n",
    "        if  'count' in self.result.keys() :\n",
    "            self.count.value=str (self.result['count'])\n",
    "        return self.result"
   ]
  },
  {
   "cell_type": "markdown",
   "metadata": {
    "tags": []
   },
   "source": [
    "# Sources"
   ]
  },
  {
   "cell_type": "markdown",
   "metadata": {},
   "source": [
    "## LiveVideoSources"
   ]
  },
  {
   "cell_type": "code",
   "execution_count": 28,
   "metadata": {
    "tags": []
   },
   "outputs": [],
   "source": [
    "import json\n",
    "import pafy \n",
    "\n",
    "class LiveVideoSources(BaseAction):\n",
    "    def __init__(self, filename='videos.json'):\n",
    "        self.filename = filename\n",
    "        \n",
    "        self.videos = None\n",
    "        self.load()\n",
    "        \n",
    "    def dict(self):\n",
    "        return {'class' : self.__class__.__name__, 'parameters' : {'filename':self.filename}}     \n",
    "        \n",
    "    def get_keys(self):\n",
    "        keys = {}\n",
    "        for key, value in self.videos.items():\n",
    "            keys[value['title']] = key\n",
    "        return keys\n",
    "        \n",
    "    def load(self):\n",
    "        with open(self.filename, 'r') as fp:\n",
    "            self.videos = json.load(fp)  \n",
    "            #return videos\n",
    "            \n",
    "    def save(self,filename=None):\n",
    "        if filename == None:\n",
    "            filename = self.filename\n",
    "        with open(filename, 'w', encoding='utf-8') as f:\n",
    "            json.dump(self.videos, f, ensure_ascii=False, indent=4)"
   ]
  },
  {
   "cell_type": "markdown",
   "metadata": {},
   "source": [
    "## LiveVideoSourcesWidget"
   ]
  },
  {
   "cell_type": "code",
   "execution_count": 29,
   "metadata": {},
   "outputs": [],
   "source": [
    "import ipywidgets as widgets\n",
    "from IPython.display import display\n",
    "vstyle = {'description_width': '250px'}\n",
    "vlayout = {'width': '500px'}\n",
    "\n",
    "class LiveVideoSourcesWidget(BaseWidget):\n",
    "    def __init__(self, action=None, imageWidget=None, child=None, filename = 'videos.json', id=None):\n",
    "        self.sources = action  # to load/save meta data\n",
    "        self.child = child\n",
    "        self.action = None   # VideoAction - only for childs ????? obsolete ????\n",
    "        #self.video = None    # to get meta data\n",
    "        #self.id = None\n",
    "        \n",
    "        if(self.sources != None):\n",
    "            filename = self.sources.filename\n",
    "        \n",
    "        self.video_filename = widgets.Text(description = 'filename',value = filename, style=vstyle, layout=vlayout,disabled=False)    \n",
    "        self.video_save_button = widgets.Button(description='Save', disabled=False, tooltip='reset all values',style=style)\n",
    "        self.video_save_button.on_click(self.on_video_save_button_clicked)  \n",
    "        self.video_load_button = widgets.Button(description='Load', disabled=False, tooltip='reset all values',style=style)\n",
    "        self.video_load_button.on_click(self.on_video_load_button_clicked)  \n",
    "        self.video_delete_button = widgets.Button(description='Delete', disabled=False, tooltip='reset all values',style=style)\n",
    "        self.video_delete_button.on_click(self.on_video_delete_button_clicked)  \n",
    "        self.video_urls = widgets.Dropdown(description='videos', style=vstyle, layout=vlayout,disabled=False)\n",
    "        self.video_urls.observe(self.video_urls_on_change)\n",
    "       \n",
    "        file_hbox = widgets.HBox([self.video_filename,self.video_load_button,self.video_save_button])\n",
    "        video_urls_hbox = widgets.HBox([self.video_urls,self.video_delete_button])\n",
    "        file_vbox =   widgets.VBox([file_hbox,video_urls_hbox])\n",
    "        \n",
    "        self.video_url = widgets.Text(description = 'url',value = '', style=vstyle, layout=vlayout,disabled=False)\n",
    "        self.video_url.on_submit(self.on_value_submit_video_url)\n",
    "        self.video_clear_button = widgets.Button(description='Clear', disabled=False, tooltip='reset all values',style=style)\n",
    "        self.video_clear_button.on_click(self.video_clear_button_clicked)  \n",
    "        video_url_hbox = widgets.HBox([self.video_url,self.video_clear_button])\n",
    "        \n",
    "        #video_streams = widgets.Text(description = 'streams',value = None, style=vstyle, layout=vlayout,disabled=True)\n",
    "        #self.video_streams = widgets.Dropdown(description='streams', style=vstyle, layout=vlayout,disabled=True)\n",
    "        self.video_title = widgets.Text(description = 'title',value = '', style=vstyle, layout=vlayout,disabled=False)\n",
    "        self.video_location = widgets.Text(description = 'location',value = '', style=vstyle, layout=vlayout,disabled=False)\n",
    "        self.video_country = widgets.Text(description = 'country',value = '', style=vstyle, layout=vlayout,disabled=False)\n",
    "        self.video_objects = widgets.Text(description = 'objects',value = '', style=vstyle, layout=vlayout,disabled=False)\n",
    "        \n",
    "        self.vbox   = widgets.VBox([file_vbox, video_url_hbox, self.video_title,\n",
    "                                     self.video_location,self.video_country,self.video_objects])\n",
    "\n",
    "        # used e.g. to create widget for existing action\n",
    "        if(self.sources != None):\n",
    "            self.video_urls.options = self.sources.get_keys()\n",
    "        if(self.sources != None and id != None):\n",
    "            self.setVideoContainer(self.sources.videos[id])\n",
    "            #print(self.sources.get_keys())\n",
    "            #print(self.video_urls.options)\n",
    "            self.video_urls.value = id\n",
    "        \n",
    "    def videoContainerTo_Dict(self):\n",
    "        container = dict()\n",
    "        container['url'] = self.video_url.value\n",
    "        container['title'] = self.video_title.value\n",
    "        container['location'] = self.video_location.value\n",
    "        container['country'] = self.video_country.value\n",
    "        container['objects'] = self.video_objects.value\n",
    "\n",
    "        cropNormalizedArea = [0.0,0.0,1.0,1.0]    \n",
    "        bookmark_dict = dict()\n",
    "        bookmark_dict['reset'] = cropNormalizedArea\n",
    "        container['bookmarks'] = bookmark_dict\n",
    "        return container\n",
    "\n",
    "    def setVideoContainer(self,container):\n",
    "        self.video_url.value = container['url']\n",
    "        self.video_title.value = container['title'] \n",
    "        self.video_location.value = container['location'] \n",
    "        self.video_country.value = container['country'] \n",
    "        self.video_objects.value = container['objects'] \n",
    "\n",
    "    # add new url, open video to get meta data, add container to sources / this should be moved to sources   \n",
    "    def on_value_submit_video_url(self,change):\n",
    "        video = pafy.new(change.value)\n",
    "        self.video_title.value = video.title.rsplit('2021')[0].rstrip()\n",
    "        container = self.videoContainerTo_Dict()\n",
    "        self.sources.videos[video.videoid] = container\n",
    "        #print(container)\n",
    "        \n",
    "    # VideoAction ändert sich nach Laden!!!! Es sollte nur eine geben ????? FOLLOWER\n",
    "    # DisplayWidget / Player erzeugen neues Bild -> Pipeline oder update CropWidget\n",
    "    # Flußgraph ?\n",
    "    def init_video(self, id):\n",
    "        #self.video = video = pafy.new(url)  #used also to init parameters\n",
    "        self.setVideoContainer(self.sources.videos[id])\n",
    "\n",
    "        # ????????????\n",
    "        if self.child != None:\n",
    "            #self.action = VideoAction(sources=self.sources,id=id,video=self.video)\n",
    "            action = VideoAction(sources=self.sources, id=id)\n",
    "            \n",
    "            if action.video != None: \n",
    "                self.action = action\n",
    "                #self.child.init(action=self.action, parent=self)\n",
    "                self.child.init(action=self.action)\n",
    "            else:\n",
    "                self.video_clear_button_clicked('')\n",
    "        \n",
    "    def video_urls_on_change(self,change):\n",
    "        if change['type'] == 'change' and change['name'] == 'value':\n",
    "            id = change['new']\n",
    "            #url = self.sources.videos[id]['url']  \n",
    "            self.init_video(id)\n",
    "            \n",
    "    def video_clear_button_clicked(self,b):    \n",
    "        self.video_url.value = ''\n",
    "        self.video_title.value = ''\n",
    "        self.video_location.value = ''\n",
    "        \n",
    "    def on_video_load_button_clicked(self,b): \n",
    "        filename = self.video_filename.value\n",
    "        self.sources = LiveVideoSources(filename)\n",
    "        self.video_urls.options = self.sources.get_keys()\n",
    "        \n",
    "    def on_video_save_button_clicked(self,b):\n",
    "        #global videos\n",
    "        self.sources.filename = self.video_filename.value\n",
    "        self.sources.save()  \n",
    "        \n",
    "    def on_video_delete_button_clicked(self,b):\n",
    "        del self.sources.videos[self.video_urls.value]"
   ]
  },
  {
   "cell_type": "markdown",
   "metadata": {
    "toc-hr-collapsed": true
   },
   "source": [
    "# Player"
   ]
  },
  {
   "cell_type": "markdown",
   "metadata": {},
   "source": [
    "## HaltableActionPlayer (-> )"
   ]
  },
  {
   "cell_type": "code",
   "execution_count": 30,
   "metadata": {},
   "outputs": [],
   "source": [
    "import ipywidgets as widgets\n",
    "import asyncio\n",
    "import time\n",
    "\n",
    "def deleteAllTasks(name):\n",
    "    for task in asyncio.all_tasks(): \n",
    "                if task.get_name() == name: \n",
    "                    task.cancel()\n",
    "             \n",
    "            \n",
    "class BooleanField(object):\n",
    "    def __init__(self):\n",
    "        value=False\n",
    "            \n",
    "class HaltableActionExecutor:\n",
    "\n",
    "    def __init__(self, booleanField=None,imageWidget=None,sleep=0,action=None,name=None):\n",
    "        self._checkbox = booleanField\n",
    "        self.imageWidget = imageWidget\n",
    "        self._sleep    = sleep\n",
    "        self.action  = action\n",
    "        self.name = name\n",
    "        \n",
    "    async def my_code(self):\n",
    "        # This is your user code\n",
    "        while True:\n",
    "            if self._checkbox.value:\n",
    "                self.imageWidget.evaluate(self.action.evaluate())\n",
    "                #time.sleep(float(self._sleep.value))\n",
    "            await asyncio.sleep(0.1)  # use this to temporarily give up control of the event loop to allow scheduling checkbox changes\n",
    "    \n",
    "    def start(self):\n",
    "        task = asyncio.ensure_future(self.my_code())\n",
    "        task.set_name(self.name)\n",
    "        print(task)     "
   ]
  },
  {
   "cell_type": "markdown",
   "metadata": {},
   "source": [
    "# Application"
   ]
  },
  {
   "cell_type": "markdown",
   "metadata": {},
   "source": [
    "## EasyVideoPipeLine"
   ]
  },
  {
   "cell_type": "code",
   "execution_count": 31,
   "metadata": {},
   "outputs": [],
   "source": [
    "def createActionOfDict(adict):\n",
    "    return eval(adict['class'])(**adict['parameters'])\n",
    "\n",
    "def evaluateActionDictList(_action_dict_list, _img):\n",
    "    for action_dict in _action_dict_list:\n",
    "        action = createActionOfDict(action_dict)\n",
    "        _img = action.evaluate(_img)\n",
    "    return _img\n",
    "  \n",
    "def saveActionDictList(filename='actions.json', actions=None):\n",
    "        #print(videos)\n",
    "        with open(filename, 'w', encoding='utf-8') as f:\n",
    "            json.dump(actions, f, ensure_ascii=False, indent=4)    \n",
    "\n",
    "def loadActionDictList(filename='actions.json'):\n",
    "        with open(filename, 'r') as fp:\n",
    "            file = json.load(fp)  \n",
    "            return file          \n",
    "\n",
    "def evaluateActionList(action_list, img):\n",
    "    for action in action_list:\n",
    "        #print(type(action))\n",
    "        img = action.evaluate(**img)\n",
    "    return img\n",
    "\n",
    "#CropAction(min=(0,0),max=(1,0.5),mode=1).evaluate(image=_action.readImage())['image']\n",
    "#_actions = [CropAction(min=(0,0),max=(1,0.5),mode=1),ResizeAction(size=(900,500))]\n"
   ]
  },
  {
   "cell_type": "code",
   "execution_count": 32,
   "metadata": {},
   "outputs": [],
   "source": [
    "class EasyVideoPipeLine(BaseAction):\n",
    "    def __init__(self, sources=None, actions=None):\n",
    "        self.sources=sources\n",
    "        self.actions=actions\n",
    "       \n",
    "        if sources != None and actions != None:\n",
    "            pass\n",
    "            #print (self.__dict__)\n",
    "            #self.init()\n",
    "        \n",
    "    def dict(self):\n",
    "        return {'class' : self.__class__.__name__, 'parameters' : self._create_parameters()}\n",
    "    \n",
    "    def _create_parameters(self):\n",
    "        return {'sources' : self.sources.dict(), 'actions' : self._create_dicts(self.actions)}   \n",
    "        \n",
    "    def _create_dicts(self,actions):\n",
    "        dicts = []\n",
    "        for action in actions:\n",
    "            if hasattr(action, 'dict'):\n",
    "                dicts.append(action.dict())\n",
    "            elif hasattr(action, 'action'):\n",
    "                dicts.append(action.action.dict())  \n",
    "            else:\n",
    "                pass\n",
    "                #print(self.__class__.__name__,'unknown')\n",
    "        return dicts\n",
    "    \n",
    "    def _createActionOfDict(self,adict):\n",
    "        return eval(adict['class'])(**adict['parameters'])\n",
    "    \n",
    "    def from_dict(self,adict):\n",
    "        _new = self._createActionOfDict(adict)\n",
    "        \n",
    "        _new.sources = self._createActionOfDict(_new.sources)\n",
    "        dicts = []\n",
    "        for action in _new.actions:\n",
    "            dicts.append( self._createActionOfDict(action))\n",
    "        _new.actions = dicts\n",
    "        _new.init()\n",
    "        return _new\n",
    "    \n",
    "    def load(self,filename=None):\n",
    "        _dict = super(EasyVideoPipeLine, self).load(filename=filename)\n",
    "        return  self.from_dict(_dict)\n",
    "    \n",
    "    def init(self):\n",
    "        self.actions[0].init(sources=self.sources)\n",
    "        \n",
    "    def evaluate(self, image=None):\n",
    "        return evaluateActionList(self.actions, {})"
   ]
  },
  {
   "cell_type": "markdown",
   "metadata": {},
   "source": [
    "## TabWidget"
   ]
  },
  {
   "cell_type": "code",
   "execution_count": 33,
   "metadata": {},
   "outputs": [],
   "source": [
    "class TabWidget(BaseAction):\n",
    "    def __init__(self, action=None, displayWidget=None, imageWidget=None):\n",
    "        self.action=action\n",
    "        self.displayWidget = displayWidget\n",
    "        self.imageWidget = imageWidget\n",
    "        self.tab_idx = 0\n",
    "        self._widgets = []\n",
    "        self._widgets_vbox = []\n",
    "        self.update_to = widgets.Text(description = 'update to',value = '', style=vstyle, layout=vlayout,disabled=False) \n",
    "        \n",
    "        self._dict = {'CropAction':'CropWidget', 'ResizeAction':'ResizeWidget', 'LiveVideoSources':'LiveVideoSourcesWidget',\n",
    "                     'ContrastBrightnessAction':'ContrastBrightnessWidget'}\n",
    "        \n",
    "        self.tab  = widgets.Tab(children = self._widgets_vbox)\n",
    "        self.tab.observe(self.on_select, names='selected_index')  \n",
    "        \n",
    "    # setzt auch parent ??? Dann kann es aber keine Lücken geben. --> besser zunächst extern    \n",
    "    def add(self,_class):    \n",
    "        if _class.action != None:\n",
    "            _name = _class.action.__class__.__name__\n",
    "        else:    \n",
    "            _name = _class.__class__.__name__\n",
    "        #_class = eval(_dict[_name])(action=_action, imageWidget=_imageWidget2)\n",
    "        self._widgets.append(_class)\n",
    "        self._widgets_vbox.append(_class.vbox)\n",
    "        self.tab.children = self._widgets_vbox  \n",
    "        self.tab.set_title(len(self._widgets)-1, _name)\n",
    "            \n",
    "    def create_widget(self,action=None, imageWidget=None):\n",
    "        if isinstance(action, dict):\n",
    "            action = eval(action['class'])(**action['parameters'])\n",
    "        \n",
    "        _name = action.__class__.__name__\n",
    "        if _name in self._dict.keys():\n",
    "            _class = eval(self._dict[_name])(action=action, imageWidget=imageWidget)\n",
    "            self.add(_class)\n",
    "            return _class\n",
    "        return None\n",
    "\n",
    "    def evaluateWidgetActionList(self,image=None, start=1, end=None):\n",
    "        if image == None:\n",
    "            image = self.displayWidget.action.evaluate()\n",
    "        if end == None:\n",
    "            end = len(self._widgets)\n",
    "        for index in range(start,end):\n",
    "            image = self._widgets[index].evaluate(**image)\n",
    "        return image\n",
    "\n",
    "    # update interessant für Widget-Parameter\n",
    "    # evaluate: berechnet image-Pipeline\n",
    "    def on_select(self,widget):\n",
    "        #     get the correct Output widget based on the index of the selected tab\n",
    "        self.tab_idx = widget['new']  \n",
    "        if self.update_to.value != '':\n",
    "            end = int(self.update_to.value) + 1\n",
    "        else :\n",
    "            end = self.tab_idx+1\n",
    "            \n",
    "        #print ('tab end', end)    \n",
    "        \n",
    "        def _doit(image,update=False):\n",
    "            #_imageWidget.evaluate(_crop.displayWidget.image)\n",
    "            return self.imageWidget.evaluate(self.evaluateWidgetActionList(self.displayWidget.action.evaluate(), start=1, end=end))\n",
    "        self.displayWidget.update = _doit\n",
    "        #_doit(_widgets[0].evaluate())\n",
    "        self.imageWidget.evaluate(self.evaluateWidgetActionList(self.displayWidget.action.evaluate(), start=1, end=end))    \n",
    "        \n",
    "    def evaluate(self, image=None):\n",
    "        #image = self._get_image(image)    \n",
    "        self.imageWidget.evaluate(self.evaluateWidgetActionList(self.displayWidget.action.evaluate(), start=1, end=self.tab_idx+1)) "
   ]
  },
  {
   "cell_type": "markdown",
   "metadata": {},
   "source": [
    "## SimpleApplicationWidget"
   ]
  },
  {
   "cell_type": "code",
   "execution_count": 34,
   "metadata": {
    "tags": []
   },
   "outputs": [],
   "source": [
    "from IPython.display import display\n",
    "from IPython.display import clear_output\n",
    "\n",
    "class SimpleApplicationWidget(BaseWidget):\n",
    "    def __init__(self, filename=None):\n",
    "        self.pipeline = EasyVideoPipeLine()\n",
    "        self.fileWidget = FileWidget(action=self.pipeline, callback=self.init, get_save_action=self.get_current_pipeline  ,filename = filename, description='pipeline')\n",
    "        self._run = widgets.Checkbox(description='play',value=False)\n",
    "        self.out  = widgets.Output()\n",
    "        \n",
    "        display(self.fileWidget.hbox,self.out)\n",
    "        \n",
    "        if filename != None:\n",
    "            self.fileWidget.on_load_button_clicked('')\n",
    "        \n",
    "    def init(self,action):\n",
    "        deleteAllTasks('test')\n",
    "        self.pipeline = action\n",
    "        self._displayWidget = DisplayWidget(action=self.pipeline.actions[0])\n",
    "        self._imageWidget2 = ImageWidget(display=False)\n",
    "        self._tab = TabWidget(action=self.pipeline.actions[0], displayWidget=self._displayWidget, imageWidget=self._imageWidget2)\n",
    "\n",
    "        self._tab.create_widget(self.pipeline.sources,imageWidget=self._imageWidget2)\n",
    "\n",
    "        _parent = None\n",
    "        for _action in self.pipeline.actions:\n",
    "            _widget = self._tab.create_widget(_action,imageWidget=self._imageWidget2)\n",
    "            if _widget != None:\n",
    "                _widget.parent = _parent\n",
    "            _parent = _widget\n",
    "\n",
    "        # !!!!!!!!!!!!!!! rework !!!!!!!    \n",
    "        self._tab._widgets[1].crop_list.options = self.pipeline.actions[0].sources.videos[self.pipeline.actions[0].id]['bookmarks'].keys()    \n",
    "        self._tab._widgets[1].parent = self.pipeline.actions[0]\n",
    "        self._tab._widgets[1].displayWidget = self._displayWidget\n",
    "        self._tab._widgets[0].child = self._tab._widgets[1]\n",
    "        self._tab._widgets[0].action =  self.pipeline.actions[0]\n",
    "        \n",
    "        self._tab._widgets[1].displayWidget.action.sources = self._tab._widgets[0].sources\n",
    "        \n",
    "        self._tab._widgets[2].parent = self._tab._widgets[1]\n",
    "\n",
    "        self.exe = HaltableActionExecutor(booleanField=self._run,imageWidget=self._imageWidget2,sleep=0,action=self._tab,name='test')\n",
    "        self.exe.start()\n",
    "        \n",
    "        with self.out:\n",
    "            clear_output()\n",
    "            display(self._run,self._displayWidget.hbox, self._tab.tab)\n",
    "            self._imageWidget2.display()\n",
    "            display(self._tab.update_to) \n",
    "\n",
    "    def get_current_pipeline(self):\n",
    "        return EasyVideoPipeLine(sources=self._tab._widgets[0].sources, actions=self._tab._widgets)\n"
   ]
  },
  {
   "cell_type": "markdown",
   "metadata": {},
   "source": [
    "## Applications"
   ]
  },
  {
   "cell_type": "code",
   "execution_count": 35,
   "metadata": {},
   "outputs": [
    {
     "data": {
      "application/vnd.jupyter.widget-view+json": {
       "model_id": "780a7ab87ac243729d49b55c266d58ef",
       "version_major": 2,
       "version_minor": 0
      },
      "text/plain": [
       "HBox(children=(Text(value='_EasyVideoPipeLine_641_481.json', description='pipeline', layout=Layout(width='500p…"
      ]
     },
     "metadata": {},
     "output_type": "display_data"
    },
    {
     "data": {
      "application/vnd.jupyter.widget-view+json": {
       "model_id": "84cc3f94c6dd43698a6d6b7f516e8359",
       "version_major": 2,
       "version_minor": 0
      },
      "text/plain": [
       "Output()"
      ]
     },
     "metadata": {},
     "output_type": "display_data"
    },
    {
     "name": "stdout",
     "output_type": "stream",
     "text": [
      "<Task pending name='test' coro=<HaltableActionExecutor.my_code() running at <ipython-input-30-fcdcf1efd84b>:24>>\n"
     ]
    }
   ],
   "source": [
    "_app = SimpleApplicationWidget(filename = '_EasyVideoPipeLine_641_481.json')\n",
    "addTemplateWrapperTab(_app,TemplateWrapperWidget,PoseEngineAction()) \n",
    "addTemplateWrapperTab(_app,CountObjectsWidget,CountPoseAction()) "
   ]
  },
  {
   "cell_type": "code",
   "execution_count": 36,
   "metadata": {},
   "outputs": [
    {
     "data": {
      "application/vnd.jupyter.widget-view+json": {
       "model_id": "bb64a29eb5f141ec97dbd9745787b5db",
       "version_major": 2,
       "version_minor": 0
      },
      "text/plain": [
       "HBox(children=(Text(value='_EasyVideoPipeLine_300_300.json', description='pipeline', layout=Layout(width='500p…"
      ]
     },
     "metadata": {},
     "output_type": "display_data"
    },
    {
     "data": {
      "application/vnd.jupyter.widget-view+json": {
       "model_id": "47e57ae2766f48c5a9b17dc683f2f662",
       "version_major": 2,
       "version_minor": 0
      },
      "text/plain": [
       "Output()"
      ]
     },
     "metadata": {},
     "output_type": "display_data"
    },
    {
     "name": "stdout",
     "output_type": "stream",
     "text": [
      "<Task pending name='test' coro=<HaltableActionExecutor.my_code() running at <ipython-input-30-fcdcf1efd84b>:24>>\n"
     ]
    }
   ],
   "source": [
    "#deleteAllTasks('test')\n",
    "_app2 = SimpleApplicationWidget(filename = '_EasyVideoPipeLine_300_300.json')"
   ]
  },
  {
   "cell_type": "code",
   "execution_count": 38,
   "metadata": {},
   "outputs": [
    {
     "name": "stdout",
     "output_type": "stream",
     "text": [
      "CropWidget initMinMax\n"
     ]
    },
    {
     "data": {
      "text/plain": [
       "{'image': <PIL.Image.Image image mode=RGB size=300x300 at 0xA2CA4E38>}"
      ]
     },
     "execution_count": 38,
     "metadata": {},
     "output_type": "execute_result"
    }
   ],
   "source": [
    "_app2._tab.evaluateWidgetActionList(end=None)"
   ]
  },
  {
   "cell_type": "code",
   "execution_count": 53,
   "metadata": {},
   "outputs": [],
   "source": [
    "# objects, image size: 300x300\n",
    "addTemplateWrapperTab(_app2,TemplateWrapperWidget,ObjectsInterpreterAction())  \n",
    "addTemplateWrapperTab(_app2,CountObjectsWidget,CountObjectsAction())"
   ]
  },
  {
   "cell_type": "markdown",
   "metadata": {
    "tags": []
   },
   "source": [
    "## add ML actions"
   ]
  },
  {
   "cell_type": "code",
   "execution_count": null,
   "metadata": {},
   "outputs": [],
   "source": [
    "addTemplateWrapperTab(TemplateWrapperWidget,PoseEngineAction()) \n",
    "addTemplateWrapperTab(TemplateWrapperWidget,DrawPoseAction()) "
   ]
  },
  {
   "cell_type": "code",
   "execution_count": null,
   "metadata": {},
   "outputs": [],
   "source": [
    "addTemplateWrapperTab(TemplateWrapperWidget,SemanticSegmentationAction())"
   ]
  },
  {
   "cell_type": "markdown",
   "metadata": {},
   "source": [
    "# Interct with app"
   ]
  },
  {
   "cell_type": "code",
   "execution_count": 65,
   "metadata": {},
   "outputs": [],
   "source": [
    "# https://stackoverflow.com/questions/8230315/how-to-json-serialize-sets\n",
    "from json import dumps, loads, JSONEncoder, JSONDecoder\n",
    "import pickle\n",
    "import time, datetime\n",
    "import json\n",
    "\n",
    "class PythonObjectEncoder(JSONEncoder):\n",
    "    def default(self, obj):\n",
    "        try:\n",
    "            return {'_python_object': pickle.dumps(obj).decode('latin-1')}\n",
    "        except pickle.PickleError:\n",
    "            return super().default(self, obj)\n",
    "\n",
    "def as_python_object(dct):\n",
    "    if '_python_object' in dct:\n",
    "        return pickle.loads(dct['_python_object'].encode('latin-1'))\n",
    "    return dct\n",
    "\n",
    "def save_data(data=None,id='',name='',prefix='box',path='../data/pose_boxes',time=None):\n",
    "    _filename = id + '_' + prefix + '_' + name + '_' + str(time) + '.json'\n",
    "    with open(path + '/' + _filename,'w',encoding='utf-8') as f:\n",
    "        g = dumps(data, cls=PythonObjectEncoder)\n",
    "        json.dump(g,f,ensure_ascii=False,indent=4)\n",
    "    return _filename\n",
    "\n",
    "def load_data(filename='',path='../data/pose_boxes'):\n",
    "    with open(path + '/' + filename, 'r') as fp:\n",
    "        j = json.load(fp)\n",
    "        data = loads(j, object_hook=as_python_object)\n",
    "        return data\n",
    "    \n",
    "def get_timestamps(path='',key=''):\n",
    "    results=[]\n",
    "    for filename in listdir(path):\n",
    "         if filename[0]!='.':\n",
    "                splits=filename.split('_')\n",
    "                if key==splits[0]:\n",
    "                    _timestamp=splits[5].split('.')\n",
    "                    _timestamp=_timestamp[0]+'.'+_timestamp[1]\n",
    "                    if _timestamp not in results:\n",
    "                        results.append(_timestamp)\n",
    "    return results"
   ]
  },
  {
   "cell_type": "markdown",
   "metadata": {},
   "source": [
    "## Pipeline"
   ]
  },
  {
   "cell_type": "code",
   "execution_count": 46,
   "metadata": {},
   "outputs": [],
   "source": [
    "def print_pipeline_info(_app2):\n",
    "    _video  = _app2._tab._widgets[0]\n",
    "    _crop   = _app2._tab._widgets[1]   \n",
    "    _resize = _app2._tab._widgets[2]  \n",
    "    print('regions:',_crop.crop_list.options)\n",
    "    print('region:', _crop.crop_list.value)\n",
    "    print('cropped size:', (_crop.crop_size_x.value, _crop.crop_size_y.value))\n",
    "    print('crop x:', (_crop.cropx0.value, _crop.cropx1.value))\n",
    "    print('crop y:', (_crop.cropy0.value, _crop.cropy1.value))\n",
    "\n",
    "    print('resize to:', _app2._tab._widgets[2].widthw.value, _app2._tab._widgets[2].heightw.value)\n",
    "    print(_crop.result)\n",
    "    print(_resize.result)\n",
    "    \n",
    "def init_shortcuts(_app):\n",
    "    global _video\n",
    "    global _crop\n",
    "    global _resize\n",
    "    global _step1\n",
    "    global _step2\n",
    "    _video  = _app._tab._widgets[0]\n",
    "    _crop   = _app._tab._widgets[1]   \n",
    "    _resize = _app._tab._widgets[2]  \n",
    "    _step1 = _app._tab._widgets[3]\n",
    "    _step2 = _app._tab._widgets[4]\n",
    "\n",
    "def set_image_quality(app,index=5,resampling='LANCZOS'): \n",
    "    _resize = app._tab._widgets[2]  \n",
    "    _resize.algorithmw.value = app._tab._widgets[2].algorithmw.options['LANCZOS']\n",
    "    app._tab.displayWidget.imageselectw.value = str(index)\n",
    "  \n",
    "def loadVideo(app=None,key=''):\n",
    "    _video  = app._tab._widgets[0]\n",
    "    _video.video_urls.value = key\n",
    "    set_image_quality(app)\n",
    "\n",
    "def init_app(_app2):\n",
    "    # für die Initialisierung nötig\n",
    "    _app2._tab.evaluateWidgetActionList(end=None)\n",
    "    init_shortcuts(_app2)\n",
    "    set_image_quality(_app2)    "
   ]
  },
  {
   "cell_type": "code",
   "execution_count": 68,
   "metadata": {},
   "outputs": [],
   "source": [
    "set_image_quality(_app,index=5)"
   ]
  },
  {
   "cell_type": "code",
   "execution_count": 47,
   "metadata": {},
   "outputs": [
    {
     "name": "stdout",
     "output_type": "stream",
     "text": [
      "['JqUREqYduHw', 'LJ5wabMQ4Vk', 'HpdO5Kq3o7Y', 'QJGpJEpkfCM', 'RQA5RcIZlAM', 'G05wmWFDtSo', 'AdUw5RdyZxI', 'S4AG47F94Ss', 'vVyBOU9Huvo', 'fophHLy_yfE', '9RSH2ygottU', 'ns8y0SVcJGA', 'OvwBoURRqRk']\n",
      "CropWidget initMinMax\n",
      "JqUREqYduHw\n",
      "CropWidget initMinMax\n",
      "LJ5wabMQ4Vk\n"
     ]
    },
    {
     "name": "stderr",
     "output_type": "stream",
     "text": [
      "ERROR: Private video\n",
      "Sign in if you've been granted access to this video\n"
     ]
    },
    {
     "name": "stdout",
     "output_type": "stream",
     "text": [
      "Exception VideoAction init 'dislike_count'\n",
      "HpdO5Kq3o7Y\n",
      "Exception VideoAction init ERROR: Private video\n",
      "Sign in if you've been granted access to this video\n",
      "QJGpJEpkfCM\n",
      "Exception VideoAction init 'dislike_count'\n",
      "RQA5RcIZlAM\n",
      "CropWidget initMinMax\n",
      "G05wmWFDtSo\n",
      "CropWidget initMinMax\n",
      "AdUw5RdyZxI\n",
      "CropWidget initMinMax\n",
      "S4AG47F94Ss\n",
      "Exception VideoAction init 'dislike_count'\n",
      "vVyBOU9Huvo\n"
     ]
    },
    {
     "name": "stderr",
     "output_type": "stream",
     "text": [
      "ERROR: Video unavailable\n"
     ]
    },
    {
     "name": "stdout",
     "output_type": "stream",
     "text": [
      "Exception VideoAction init 'dislike_count'\n",
      "fophHLy_yfE\n",
      "Exception VideoAction init ERROR: Video unavailable\n",
      "9RSH2ygottU\n",
      "Exception VideoAction init 'dislike_count'\n",
      "ns8y0SVcJGA\n",
      "Exception VideoAction init 'dislike_count'\n",
      "OvwBoURRqRk\n"
     ]
    }
   ],
   "source": [
    " _video  = _app._tab._widgets[0]\n",
    " _keys = list(_video.sources.videos.keys())\n",
    "print(_keys)\n",
    "loadVideo(app=_app,key='JqUREqYduHw')\n",
    "\n",
    "for key in _keys:\n",
    "    try:\n",
    "        _crop   = _app._tab._widgets[1] \n",
    "        loadVideo(app=_app,key=key)\n",
    "        generate_box_bookmarks(size=_app._imageWidget2.getImage().size, crop=_crop)  \n",
    "    except Exception as e:\n",
    "        print(key)\n",
    "    "
   ]
  },
  {
   "cell_type": "code",
   "execution_count": 63,
   "metadata": {},
   "outputs": [
    {
     "name": "stdout",
     "output_type": "stream",
     "text": [
      "['JqUREqYduHw', 'LJ5wabMQ4Vk', 'HpdO5Kq3o7Y', 'QJGpJEpkfCM', 'RQA5RcIZlAM', 'G05wmWFDtSo', 'AdUw5RdyZxI', 'S4AG47F94Ss', 'vVyBOU9Huvo', 'fophHLy_yfE', '9RSH2ygottU', 'ns8y0SVcJGA', 'OvwBoURRqRk']\n",
      "CropWidget initMinMax\n",
      "CropWidget initMinMax\n",
      "CropWidget initMinMax\n",
      "Exception VideoAction init 'dislike_count'\n",
      "Exception VideoAction init 'dislike_count'\n"
     ]
    }
   ],
   "source": [
    "_video  = _app._tab._widgets[0]\n",
    "_keys = list(_video.sources.videos.keys())\n",
    "print(_keys)\n",
    "_keys=['vVyBOU9Huvo', 'HpdO5Kq3o7Y', 'AdUw5RdyZxI', 'ns8y0SVcJGA']\n",
    "\n",
    "for key in _keys:\n",
    "    try:\n",
    "        \n",
    "        loadVideo(app=_app,key=key)\n",
    "        #loadVideo(app=_app2,key=key)\n",
    "        get_and_save_boxes_with_data(app=_app,crop = _app._tab._widgets[1]) \n",
    "        #get_and_save_objectboxes_with_data(app=_app2,crop = _app2._tab._widgets[1])\n",
    "    except Exception as e:\n",
    "        print(key,e)"
   ]
  },
  {
   "cell_type": "markdown",
   "metadata": {},
   "source": [
    "## boxes of data with counts"
   ]
  },
  {
   "cell_type": "code",
   "execution_count": 49,
   "metadata": {},
   "outputs": [],
   "source": [
    "import time\n",
    "import datetime\n",
    "\n",
    "def generate_box_bookmarks(step_y=180, step_x=160, size=None,crop=None):\n",
    "    _out=widgets.Output()\n",
    "    with _out:\n",
    "        for y in range(0,6):\n",
    "            for x in range(0,12):\n",
    "                #print(x*step_x,y*step_y)\n",
    "                #print((x+1)*step_x-1,(y+1)*step_y-1)\n",
    "                crop.cropx0.value = x*step_x\n",
    "                crop.cropx1.value = (x+1)*step_x-1\n",
    "                crop.cropy0.value = y*step_y\n",
    "                crop.cropy1.value = (y+1)*step_y-1\n",
    "                crop.add_bookmark('Box_'+str(y)+'_'+str(x))\n",
    "        \n",
    "def get_boxes_data_with_counts(app=None,crop=None):\n",
    "    frame={}\n",
    "    for y in range(0,6):\n",
    "        for x in range(0,12):\n",
    "            name='Box_'+str(y)+'_'+str(x)\n",
    "            crop.crop_list.value = name\n",
    "            result=app._tab.evaluateWidgetActionList(end=None)\n",
    "            count=int(result['count'])\n",
    "            if count>0:\n",
    "                ts = time.time()\n",
    "                st = datetime.datetime.fromtimestamp(ts).strftime('%Y-%m-%d %H:%M:%S')\n",
    "                frame[name]=(ts,st,count,result['score_range'],result['poses'],result['bboxes'])\n",
    "    return frame        \n",
    "\n",
    "def get_objectboxes_data_with_counts(app=None,crop=None):\n",
    "    frame={}\n",
    "    for y in range(0,6):\n",
    "        for x in range(0,12):\n",
    "            name='Box_'+str(y)+'_'+str(x)\n",
    "            crop.crop_list.value = name\n",
    "            result=app._tab.evaluateWidgetActionList(end=None)\n",
    "            count=int(result['count'])\n",
    "            if count>0:\n",
    "                ts = time.time()\n",
    "                st = datetime.datetime.fromtimestamp(ts).strftime('%Y-%m-%d %H:%M:%S')\n",
    "                frame[name]=(ts,st,count,result['objects'],result['inference_time'])\n",
    "    return frame      \n",
    "\n",
    "def get_and_save_boxes_with_data(app=None,crop=None,path='../data/pose_boxes'):\n",
    "\n",
    "    _out=widgets.Output()\n",
    "    with _out:\n",
    "        _boxes = get_boxes_data_with_counts(app=app, crop=crop) \n",
    "    ts = time.time()\n",
    "    for key,value in _boxes.items():\n",
    "\n",
    "        _id=_app._tab._widgets[0].action.id \n",
    "        _filename=save_data(data=value,id=_id, name=key, time=ts, path=path)\n",
    "        \n",
    "        \n",
    "        \n",
    "def get_and_save_objectboxes_with_data(app=None,crop=None,path='../data/object_boxes'):\n",
    "\n",
    "    _out=widgets.Output()\n",
    "    with _out:\n",
    "        _boxes = get_objectboxes_data_with_counts(app=app, crop=crop) \n",
    "    ts = time.time()\n",
    "    for key,value in _boxes.items():\n",
    "\n",
    "        _id=_app._tab._widgets[0].action.id \n",
    "        _filename=save_data(data=value,id=_id, name=key, time=ts, path=path)"
   ]
  },
  {
   "cell_type": "markdown",
   "metadata": {},
   "source": [
    "## Boxen-Bookmarks berechnen für Personen"
   ]
  },
  {
   "cell_type": "code",
   "execution_count": 41,
   "metadata": {},
   "outputs": [],
   "source": [
    "#init_app(_app)\n",
    "_crop1   = _app._tab._widgets[1]   \n",
    "generate_box_bookmarks(size=_app._imageWidget2.getImage().size, crop=_crop1)     "
   ]
  },
  {
   "cell_type": "code",
   "execution_count": 45,
   "metadata": {},
   "outputs": [],
   "source": [
    "get_and_save_boxes_with_data(app=_app,crop=_crop1)"
   ]
  },
  {
   "cell_type": "code",
   "execution_count": 42,
   "metadata": {},
   "outputs": [],
   "source": [
    "_crop2   = _app2._tab._widgets[1]   \n",
    "generate_box_bookmarks(size=_app2._imageWidget2.getImage().size, crop=_crop2)    "
   ]
  },
  {
   "cell_type": "code",
   "execution_count": 44,
   "metadata": {},
   "outputs": [],
   "source": [
    "get_and_save_objectboxes_with_data(app=_app2,crop=_crop2)"
   ]
  },
  {
   "cell_type": "markdown",
   "metadata": {},
   "source": [
    "## Dataframe"
   ]
  },
  {
   "cell_type": "code",
   "execution_count": 66,
   "metadata": {},
   "outputs": [],
   "source": [
    "import pandas as pd\n",
    "from os import listdir\n",
    "from os.path import isfile, join\n",
    "\n",
    "def create_empty_dataframe():\n",
    "    df = pd.DataFrame(columns=list(range(0, 12)))\n",
    "    for i in range(6):\n",
    "        df.loc[i] = listofzeros = [0] * 12\n",
    "    return df.apply(pd.to_numeric)\n",
    "\n",
    "def counts_in_dataframe(path='', timestamp='',key=''):\n",
    "    dataframe=create_empty_dataframe()\n",
    "    print(path)\n",
    "    #print(listdir(path))\n",
    "    for filename in listdir(path):\n",
    "        if filename[0]!='.':\n",
    "            splits=filename.split('_')\n",
    "            _timestamp=splits[5].split('.')\n",
    "            if (_timestamp[0]+'.'+_timestamp[1])==timestamp and splits[0]==key:\n",
    "                x=int(splits[4])\n",
    "                y=int(splits[3])\n",
    "                #print(filename)\n",
    "                Box=load_data(filename=filename, path=path)\n",
    "                count=Box[2]\n",
    "                dataframe.loc[y,x]=count\n",
    "    return dataframe.apply(pd.to_numeric)\n",
    "\n",
    "def count_and_add_dataframes(path='../data/pose_boxes',key=''):\n",
    "    dfadd=create_empty_dataframe()\n",
    "    _timestamps=get_timestamps(path=path,key=key)\n",
    "    for timestamp in _timestamps:\n",
    "        df=counts_in_dataframe(path=path, timestamp=timestamp)\n",
    "        for y in range(0,6):\n",
    "            for x in range(0,12):\n",
    "                dfadd.loc[y,x]=dfadd.loc[y,x]+df.loc[y,x]    \n",
    "    return dfadd"
   ]
  },
  {
   "cell_type": "code",
   "execution_count": 67,
   "metadata": {},
   "outputs": [
    {
     "name": "stdout",
     "output_type": "stream",
     "text": [
      "../data/pose_boxes\n",
      "../data/pose_boxes\n",
      "../data/pose_boxes\n"
     ]
    },
    {
     "data": {
      "text/html": [
       "<div>\n",
       "<style scoped>\n",
       "    .dataframe tbody tr th:only-of-type {\n",
       "        vertical-align: middle;\n",
       "    }\n",
       "\n",
       "    .dataframe tbody tr th {\n",
       "        vertical-align: top;\n",
       "    }\n",
       "\n",
       "    .dataframe thead th {\n",
       "        text-align: right;\n",
       "    }\n",
       "</style>\n",
       "<table border=\"1\" class=\"dataframe\">\n",
       "  <thead>\n",
       "    <tr style=\"text-align: right;\">\n",
       "      <th></th>\n",
       "      <th>0</th>\n",
       "      <th>1</th>\n",
       "      <th>2</th>\n",
       "      <th>3</th>\n",
       "      <th>4</th>\n",
       "      <th>5</th>\n",
       "      <th>6</th>\n",
       "      <th>7</th>\n",
       "      <th>8</th>\n",
       "      <th>9</th>\n",
       "      <th>10</th>\n",
       "      <th>11</th>\n",
       "    </tr>\n",
       "  </thead>\n",
       "  <tbody>\n",
       "    <tr>\n",
       "      <th>0</th>\n",
       "      <td>0</td>\n",
       "      <td>0</td>\n",
       "      <td>0</td>\n",
       "      <td>0</td>\n",
       "      <td>0</td>\n",
       "      <td>0</td>\n",
       "      <td>0</td>\n",
       "      <td>0</td>\n",
       "      <td>0</td>\n",
       "      <td>0</td>\n",
       "      <td>0</td>\n",
       "      <td>0</td>\n",
       "    </tr>\n",
       "    <tr>\n",
       "      <th>1</th>\n",
       "      <td>0</td>\n",
       "      <td>0</td>\n",
       "      <td>0</td>\n",
       "      <td>0</td>\n",
       "      <td>0</td>\n",
       "      <td>0</td>\n",
       "      <td>0</td>\n",
       "      <td>0</td>\n",
       "      <td>0</td>\n",
       "      <td>0</td>\n",
       "      <td>0</td>\n",
       "      <td>0</td>\n",
       "    </tr>\n",
       "    <tr>\n",
       "      <th>2</th>\n",
       "      <td>0</td>\n",
       "      <td>0</td>\n",
       "      <td>0</td>\n",
       "      <td>0</td>\n",
       "      <td>0</td>\n",
       "      <td>0</td>\n",
       "      <td>0</td>\n",
       "      <td>0</td>\n",
       "      <td>0</td>\n",
       "      <td>0</td>\n",
       "      <td>0</td>\n",
       "      <td>0</td>\n",
       "    </tr>\n",
       "    <tr>\n",
       "      <th>3</th>\n",
       "      <td>0</td>\n",
       "      <td>0</td>\n",
       "      <td>0</td>\n",
       "      <td>0</td>\n",
       "      <td>0</td>\n",
       "      <td>0</td>\n",
       "      <td>0</td>\n",
       "      <td>0</td>\n",
       "      <td>0</td>\n",
       "      <td>0</td>\n",
       "      <td>0</td>\n",
       "      <td>0</td>\n",
       "    </tr>\n",
       "    <tr>\n",
       "      <th>4</th>\n",
       "      <td>0</td>\n",
       "      <td>0</td>\n",
       "      <td>0</td>\n",
       "      <td>0</td>\n",
       "      <td>0</td>\n",
       "      <td>0</td>\n",
       "      <td>0</td>\n",
       "      <td>0</td>\n",
       "      <td>0</td>\n",
       "      <td>0</td>\n",
       "      <td>0</td>\n",
       "      <td>0</td>\n",
       "    </tr>\n",
       "    <tr>\n",
       "      <th>5</th>\n",
       "      <td>0</td>\n",
       "      <td>0</td>\n",
       "      <td>0</td>\n",
       "      <td>0</td>\n",
       "      <td>0</td>\n",
       "      <td>0</td>\n",
       "      <td>0</td>\n",
       "      <td>0</td>\n",
       "      <td>0</td>\n",
       "      <td>0</td>\n",
       "      <td>0</td>\n",
       "      <td>0</td>\n",
       "    </tr>\n",
       "  </tbody>\n",
       "</table>\n",
       "</div>"
      ],
      "text/plain": [
       "   0   1   2   3   4   5   6   7   8   9   10  11\n",
       "0   0   0   0   0   0   0   0   0   0   0   0   0\n",
       "1   0   0   0   0   0   0   0   0   0   0   0   0\n",
       "2   0   0   0   0   0   0   0   0   0   0   0   0\n",
       "3   0   0   0   0   0   0   0   0   0   0   0   0\n",
       "4   0   0   0   0   0   0   0   0   0   0   0   0\n",
       "5   0   0   0   0   0   0   0   0   0   0   0   0"
      ]
     },
     "execution_count": 67,
     "metadata": {},
     "output_type": "execute_result"
    }
   ],
   "source": [
    "count_and_add_dataframes(key='vVyBOU9Huvo')"
   ]
  },
  {
   "cell_type": "code",
   "execution_count": 60,
   "metadata": {},
   "outputs": [],
   "source": [
    "results=[]\n",
    "for filename in listdir('../data/pose_boxes'):\n",
    "        if filename[0]!='.':\n",
    "            splits=filename.split('_')\n",
    "            if splits[0] not in results:\n",
    "                results.append(splits[0])"
   ]
  },
  {
   "cell_type": "code",
   "execution_count": 61,
   "metadata": {},
   "outputs": [
    {
     "data": {
      "text/plain": [
       "['JqUREqYduHw', 'vVyBOU9Huvo', 'HpdO5Kq3o7Y', 'AdUw5RdyZxI', 'ns8y0SVcJGA']"
      ]
     },
     "execution_count": 61,
     "metadata": {},
     "output_type": "execute_result"
    }
   ],
   "source": [
    "results"
   ]
  },
  {
   "cell_type": "code",
   "execution_count": 50,
   "metadata": {},
   "outputs": [
    {
     "name": "stdout",
     "output_type": "stream",
     "text": [
      "Setup Complete\n"
     ]
    }
   ],
   "source": [
    "import pandas as pd\n",
    "pd.plotting.register_matplotlib_converters()\n",
    "import matplotlib.pyplot as plt\n",
    "%matplotlib inline\n",
    "import seaborn as sns\n",
    "print(\"Setup Complete\")\n",
    "\n",
    "def create_heatmap(dataframe=None):\n",
    "    # Set the width and height of the figure\n",
    "    plt.figure(figsize=(14,7))\n",
    "    # Add title\n",
    "    plt.title(\"\")\n",
    "    # Heatmap showing average arrival delay for each airline by month\n",
    "    sns.heatmap(data=dataframe, annot=True)\n",
    "    # Add label for horizontal axis\n",
    "    plt.xlabel(\"\")"
   ]
  },
  {
   "cell_type": "code",
   "execution_count": 115,
   "metadata": {},
   "outputs": [
    {
     "name": "stdout",
     "output_type": "stream",
     "text": [
      "../data/pose_boxes\n"
     ]
    }
   ],
   "source": [
    "path='../data/pose_boxes'\n",
    "_timestamps=get_timestamps(path=path)\n",
    "df2b=counts_in_dataframe(path=path, timestamp=_timestamps[0])\n"
   ]
  },
  {
   "cell_type": "code",
   "execution_count": 134,
   "metadata": {},
   "outputs": [
    {
     "data": {
      "text/plain": [
       "['1637339644.5048528',\n",
       " '1637339592.044262',\n",
       " '1637337931.5129857',\n",
       " '1637339539.5610416']"
      ]
     },
     "execution_count": 134,
     "metadata": {},
     "output_type": "execute_result"
    }
   ],
   "source": [
    "_timestamps"
   ]
  },
  {
   "cell_type": "code",
   "execution_count": 52,
   "metadata": {},
   "outputs": [
    {
     "name": "stdout",
     "output_type": "stream",
     "text": [
      "../data/object_boxes\n",
      "../data/object_boxes\n"
     ]
    },
    {
     "data": {
      "image/png": "[encoded data removed]",
      "text/plain": [
       "<Figure size 1008x504 with 2 Axes>"
      ]
     },
     "metadata": {
      "needs_background": "light"
     },
     "output_type": "display_data"
    }
   ],
   "source": [
    "df=count_and_add_dataframes(path='../data/object_boxes')\n",
    "create_heatmap(df)"
   ]
  },
  {
   "cell_type": "code",
   "execution_count": 116,
   "metadata": {},
   "outputs": [
    {
     "data": {
      "image/png": "[encoded data removed]",
      "text/plain": [
       "<Figure size 1008x504 with 2 Axes>"
      ]
     },
     "metadata": {
      "needs_background": "light"
     },
     "output_type": "display_data"
    }
   ],
   "source": [
    "df=count_and_add_dataframes()\n",
    "create_heatmap(df2b)"
   ]
  },
  {
   "cell_type": "code",
   "execution_count": 117,
   "metadata": {},
   "outputs": [
    {
     "name": "stdout",
     "output_type": "stream",
     "text": [
      "../data/object_boxes\n"
     ]
    }
   ],
   "source": [
    "path='../data/object_boxes'\n",
    "_timestamps=get_timestamps(path=path)\n",
    "df=counts_in_dataframe(path=path, timestamp=_timestamps[0])"
   ]
  },
  {
   "cell_type": "code",
   "execution_count": 120,
   "metadata": {},
   "outputs": [
    {
     "data": {
      "text/plain": [
       "['1637337967.2461207']"
      ]
     },
     "execution_count": 120,
     "metadata": {},
     "output_type": "execute_result"
    }
   ],
   "source": [
    "_timestamps"
   ]
  },
  {
   "cell_type": "code",
   "execution_count": 121,
   "metadata": {},
   "outputs": [
    {
     "data": {
      "image/png": "[encoded data removed]",
      "text/plain": [
       "<Figure size 1008x504 with 2 Axes>"
      ]
     },
     "metadata": {
      "needs_background": "light"
     },
     "output_type": "display_data"
    }
   ],
   "source": [
    "create_heatmap(df)"
   ]
  },
  {
   "cell_type": "code",
   "execution_count": 78,
   "metadata": {},
   "outputs": [
    {
     "data": {
      "text/plain": [
       "0     object\n",
       "1     object\n",
       "2     object\n",
       "3     object\n",
       "4     object\n",
       "5     object\n",
       "6     object\n",
       "7     object\n",
       "8     object\n",
       "9     object\n",
       "10    object\n",
       "11    object\n",
       "dtype: object"
      ]
     },
     "execution_count": 78,
     "metadata": {},
     "output_type": "execute_result"
    }
   ],
   "source": [
    "df2b.dtypes"
   ]
  },
  {
   "cell_type": "code",
   "execution_count": null,
   "metadata": {},
   "outputs": [],
   "source": [
    "\"'''import numpy as np\\n\",\n",
    "    \"import pandas as pd \\n\",\n",
    "    \"import seaborn as sns\\n\",\n",
    "    \"\\n\",\n",
    "    \"\\n\",\n",
    "    \"np.random.seed(0)\\n\",\n",
    "    \"data = {'Höhe': np.repeat([0180, 180360, 360540, 540720, 720900, 9001080], 12),\\n\",\n",
    "    \"        'Länge': np.repeat([0160, 160320, 320480, 480640, 640800, 800960, 9601120, 11201280, 12801440, 14401600, 16001760, 17601920], 6),\\n\",\n",
    "    \"        'Ergebnisse': (count, size=72)\\n\",\n",
    "    \"        }\\n\",\n",
    "    \"\\n\",\n",
    "    \"df = pd.DataFrame(data,columns=['Höhe','Länge','Ergebnisse'])\\n\",\n",
    "    \"df = df.pivot('Höhe', 'Länge', 'Ergebnisse')\\n\",\n",
    "    \"\\n\",\n",
    "    \"\\n\",\n",
    "    \"df[:18]\\n\",\n",
    "    \"\\n\",\n",
    "    \"\\n\",\n",
    "    \"\\n\",\n",
    "    \"sns.heatmap(df)\\n\",\n",
    "    \"'''\""
   ]
  },
  {
   "cell_type": "markdown",
   "metadata": {},
   "source": [
    "## trial"
   ]
  },
  {
   "cell_type": "code",
   "execution_count": null,
   "metadata": {},
   "outputs": [],
   "source": [
    "from decimal import Decimal\n",
    "data = [1,8,3, set(['knights', 'who', 'say', 'ni']), {'key':'value'}, Decimal('3.14')]"
   ]
  },
  {
   "cell_type": "code",
   "execution_count": null,
   "metadata": {},
   "outputs": [],
   "source": [
    "_step2.result"
   ]
  },
  {
   "cell_type": "code",
   "execution_count": null,
   "metadata": {},
   "outputs": [],
   "source": [
    "_crop.crop_list.value = 'Pos1'\n",
    "_app._tab.evaluateWidgetActionList(end=None)['image']"
   ]
  },
  {
   "cell_type": "code",
   "execution_count": null,
   "metadata": {},
   "outputs": [],
   "source": [
    "print_pipeline_info(_app2)"
   ]
  },
  {
   "cell_type": "code",
   "execution_count": null,
   "metadata": {},
   "outputs": [],
   "source": [
    "#_crop.add_bookmark('test3')\n",
    "_crop.remove_bookmark('test3')"
   ]
  },
  {
   "cell_type": "code",
   "execution_count": null,
   "metadata": {
    "tags": []
   },
   "outputs": [],
   "source": [
    "loadVideo(_app,1)\n",
    "_crop.crop_list.value = 'Position1'\n",
    "display(_app._tab.evaluateWidgetActionList(end=None)['image'])\n",
    "\n",
    "loadVideo(_app,0)\n",
    "_crop.crop_list.value = 'Pos1'\n",
    "display(_app._tab.evaluateWidgetActionList(end=None)['image'])\n"
   ]
  },
  {
   "cell_type": "code",
   "execution_count": null,
   "metadata": {
    "tags": []
   },
   "outputs": [],
   "source": [
    "_app._tab.evaluateWidgetActionList(end=None)['image']"
   ]
  },
  {
   "cell_type": "markdown",
   "metadata": {},
   "source": [
    "# Rest"
   ]
  },
  {
   "cell_type": "code",
   "execution_count": null,
   "metadata": {},
   "outputs": [],
   "source": [
    "import pandas as pd\n",
    "\n",
    "df = pd.DataFrame(columns=list(range(0, 12)))\n",
    "\n",
    "for i in range(5):\n",
    "    df.loc[i] = listofzeros = [0] * 12\n",
    "\n",
    "df.loc[2][3] = 5\n",
    "df"
   ]
  },
  {
   "cell_type": "code",
   "execution_count": null,
   "metadata": {},
   "outputs": [],
   "source": [
    "import pandas as pd\n",
    "import seaborn as sns\n",
    "import matplotlib.pyplot as plt\n",
    "\n",
    "result = table = pd.pivot_table(data=df,index=df.index)"
   ]
  },
  {
   "cell_type": "code",
   "execution_count": null,
   "metadata": {},
   "outputs": [],
   "source": [
    "_app._tab._widgets[1]._get_VideoAction().sources.videos[_app._tab._widgets[1]._get_VideoAction().id]['bookmarks']"
   ]
  },
  {
   "cell_type": "code",
   "execution_count": null,
   "metadata": {},
   "outputs": [],
   "source": [
    "_app._tab._widgets[4].result"
   ]
  },
  {
   "cell_type": "code",
   "execution_count": null,
   "metadata": {},
   "outputs": [],
   "source": []
  },
  {
   "cell_type": "code",
   "execution_count": null,
   "metadata": {},
   "outputs": [],
   "source": [
    "_app._tab._widgets[3].result['poses'][1].keypoints,_app._tab._widgets[3].result['poses'][1].score\n"
   ]
  },
  {
   "cell_type": "code",
   "execution_count": null,
   "metadata": {},
   "outputs": [],
   "source": [
    "pose=_app._tab._widgets[3].result['poses'][1]\n",
    "minimum=[9999999,9999899]\n",
    "maximum=[0,0]\n",
    "for label, keypoint in pose.keypoints.items():\n",
    "                \n",
    "                print(keypoint.score)\n",
    "                #drawPoint(image,keypoint.yx[1], keypoint.yx[0],2,rgba)\n",
    "                \n",
    "                #kp_y = int((keypoint.yx[0] ) )\n",
    "                #kp_x = int((keypoint.yx[1] ) )\n",
    "                kp_y = int( keypoint.point.y)\n",
    "                kp_x = int( keypoint.point.x)\n",
    "                if kp_x<minimum[0]:\n",
    "                    minimum[0]=kp_x\n",
    "                if kp_x>maximum[0]:\n",
    "                    maximum[0]=kp_x\n",
    "                if kp_y<minimum[1]:\n",
    "                    minimum[1]=kp_y\n",
    "                if kp_y>maximum[1]:\n",
    "                    maximum[1]=kp_y\n",
    "                \n",
    "minimum,maximum                "
   ]
  },
  {
   "cell_type": "code",
   "execution_count": null,
   "metadata": {},
   "outputs": [],
   "source": [
    "#def _output_result(update=True, result=None):\n",
    "#    _app2._tab.displayWidget.update(_app2._tab.displayWidget.action.evaluate())\n",
    "#_app2._tab._widgets[1].output_result = _output_result   "
   ]
  },
  {
   "cell_type": "code",
   "execution_count": null,
   "metadata": {},
   "outputs": [],
   "source": [
    "def count():    \n",
    "    counter=0\n",
    "    for object in _app2._tab._widgets[3].result['objects']:\n",
    "        if object.id==0:\n",
    "            counter=counter+1\n",
    "    return counter\n",
    "count()\n"
   ]
  },
  {
   "cell_type": "code",
   "execution_count": null,
   "metadata": {},
   "outputs": [],
   "source": [
    "_app2._tab._widgets[4].result"
   ]
  },
  {
   "cell_type": "code",
   "execution_count": null,
   "metadata": {},
   "outputs": [],
   "source": [
    "print(_app2._tab._widgets[3].result.keys())"
   ]
  },
  {
   "cell_type": "markdown",
   "metadata": {},
   "source": [
    "# work"
   ]
  },
  {
   "cell_type": "code",
   "execution_count": null,
   "metadata": {},
   "outputs": [],
   "source": [
    "_app._tab._widgets[3].result"
   ]
  }
 ],
 "metadata": {
  "kernelspec": {
   "display_name": "Python 3",
   "language": "python",
   "name": "python3"
  },
  "language_info": {
   "codemirror_mode": {
    "name": "ipython",
    "version": 3
   },
   "file_extension": ".py",
   "mimetype": "text/x-python",
   "name": "python",
   "nbconvert_exporter": "python",
   "pygments_lexer": "ipython3",
   "version": "3.9.2"
  },
  "toc-autonumbering": false,
  "toc-showcode": false,
  "toc-showmarkdowntxt": false,
  "toc-showtags": false
 },
 "nbformat": 4,
 "nbformat_minor": 4
}

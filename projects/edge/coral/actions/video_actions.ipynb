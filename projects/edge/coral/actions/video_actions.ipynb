{
 "cells": [
  {
   "cell_type": "code",
   "execution_count": null,
   "metadata": {},
   "outputs": [],
   "source": [
    "#!pip3 install opencv-python\n",
    "#!pip install pafy -U\n",
    "#!pip install youtube_dl"
   ]
  },
  {
   "cell_type": "code",
   "execution_count": null,
   "metadata": {},
   "outputs": [],
   "source": [
    "#!pip install ipydagred3\n",
    "#!jupyter labextension install @jupyter-widgets/jupyterlab-manager\n",
    "# "
   ]
  },
  {
   "cell_type": "code",
   "execution_count": null,
   "metadata": {},
   "outputs": [],
   "source": [
    "# fix dislike count problem\n",
    "#!pip uninstall -y pafy\n",
    "#!pip install git+https://github.com/Cupcakus/pafy"
   ]
  },
  {
   "cell_type": "code",
   "execution_count": null,
   "metadata": {},
   "outputs": [],
   "source": [
    "#!pip install ipynb"
   ]
  },
  {
   "cell_type": "code",
   "execution_count": null,
   "metadata": {},
   "outputs": [],
   "source": [
    "#!ls -l /home/jovyan/work/images\n",
    "#!touch /home/jovyan/work/images/test"
   ]
  },
  {
   "cell_type": "code",
   "execution_count": null,
   "metadata": {},
   "outputs": [],
   "source": [
    "#!jupyter nbconvert --to python video_actions_v2.ipynb\n",
    "#!jupyter nbconvert --to python video_download.ipynb\n",
    "#!jupyter nbconvert --to python video_download_file.ipynb"
   ]
  },
  {
   "cell_type": "code",
   "execution_count": null,
   "metadata": {},
   "outputs": [],
   "source": [
    "import pandas as pd\n",
    "pd.plotting.register_matplotlib_converters()\n",
    "import matplotlib.pyplot as plt\n",
    "%matplotlib inline\n",
    "import seaborn as sns\n",
    "#print(\"Setup Complete\")\n",
    "#https://stackoverflow.com/questions/66239052/plot-a-seaborn-heatmap-over-a-background-picture\n",
    "import matplotlib.image as mpimg # add\n",
    "from io import BytesIO"
   ]
  },
  {
   "cell_type": "code",
   "execution_count": null,
   "metadata": {
    "tags": []
   },
   "outputs": [],
   "source": [
    "from ipynb.fs.full.video_actions_v2 import *\n",
    "#from ipynb.fs.full.coral_actions import *\n",
    "from ipynb.fs.full.interact_with_app import *\n",
    "from ipynb.fs.full.box_tool import *"
   ]
  },
  {
   "cell_type": "markdown",
   "metadata": {
    "tags": []
   },
   "source": [
    "# Coral Actions"
   ]
  },
  {
   "cell_type": "markdown",
   "metadata": {},
   "source": [
    "## PoseEngineAction"
   ]
  },
  {
   "cell_type": "code",
   "execution_count": null,
   "metadata": {},
   "outputs": [],
   "source": [
    "import random\n",
    "from PIL import Image\n",
    "from PIL import ImageDraw\n",
    "\n",
    "from pycoral.utils import edgetpu\n",
    "from PIL import Image\n",
    "from tflite_runtime.interpreter import load_delegate\n",
    "from tflite_runtime.interpreter import Interpreter\n",
    "\n",
    "import collections\n",
    "import enum\n",
    "import math\n",
    "import numpy as np\n",
    "import os\n",
    "import platform\n",
    "import sys\n",
    "import time\n",
    "\n",
    "from projectposenet.pose_engine import PoseEngine\n",
    "\n",
    "colors = [(255,0,0,255) ,(0,255,0,255) ,(0,0,255,255),(255,255,0,255) ,(0,255,255,255) ,(255,255,255,255), \\\n",
    "         (125,0,0,255) ,(125,255,0,255) ,(125,0,255,255),(125,255,0,255) ,(125,255,255,255) ,(125,255,255,255)]\n",
    "\n",
    "EDGES = (\n",
    "    ('nose', 'left eye'),\n",
    "    ('nose', 'right eye'),\n",
    "    ('nose', 'left ear'),\n",
    "    ('nose', 'right ear'),\n",
    "    ('left ear', 'left eye'),\n",
    "    ('right ear', 'right eye'),\n",
    "    ('left eye', 'right eye'),\n",
    "    ('left shoulder', 'right shoulder'),\n",
    "    ('left shoulder', 'left elbow'),\n",
    "    ('left shoulder', 'left hip'),\n",
    "    ('right shoulder', 'right elbow'),\n",
    "    ('right shoulder', 'right hip'),\n",
    "    ('left elbow', 'left wrist'),\n",
    "    ('right elbow', 'right wrist'),\n",
    "    ('left hip', 'right hip'),\n",
    "    ('left hip', 'left knee'),\n",
    "    ('right hip', 'right knee'),\n",
    "    ('left knee', 'left ankle'),\n",
    "    ('right knee', 'right ankle'),\n",
    ")\n",
    "\n",
    "# 481x641\n",
    "class PoseEngineAction(BaseAction):\n",
    "    def __init__(self):\n",
    "        self.engine = PoseEngine('projectposenet/models/mobilenet/posenet_mobilenet_v1_075_481_641_quant_decoder_edgetpu.tflite')\n",
    "        self.result = None\n",
    "    \n",
    "    def evaluate(self, **kwargs):        \n",
    "        if 'image' in kwargs.keys():\n",
    "            self.result = {'image':kwargs['image']}\n",
    "            image = self._get_image(kwargs['image'])\n",
    "            poses, inference_time = self.engine.DetectPosesInImage(image)\n",
    "            self.result = {'poses':poses, 'inference_time':inference_time,'image':kwargs['image']}\n",
    "            return self.result"
   ]
  },
  {
   "cell_type": "code",
   "execution_count": null,
   "metadata": {},
   "outputs": [],
   "source": [
    "from PIL import Image, ImageDraw, ImageFont\n",
    "import random\n",
    "colors = [(255,0,0,255) ,(0,255,0,255) ,(0,0,255,255),(255,255,0,255) ,(0,255,255,255) ,(255,255,255,255), \\\n",
    "         (125,0,0,255) ,(125,255,0,255) ,(125,0,255,255),(125,255,0,255) ,(125,255,255,255) ,(125,255,255,255)]\n",
    "\n",
    "class Pose:\n",
    "    def __init__(self, pose, minScoreKeypoint=-1):\n",
    "        self.pose = pose\n",
    "        self.xys = self.get_xys(pose, minScoreKeypoint)\n",
    "        \n",
    "    def get_xys(self,pose, min_score=-1):\n",
    "        xys = {}\n",
    "        for label, keypoint in pose.keypoints.items():\n",
    "            score =  float(keypoint.score)\n",
    "            if score < min_score: continue\n",
    "            kp_y = int((keypoint.point.y) )\n",
    "            kp_x = int((keypoint.point.x) )\n",
    "            xys[label] = (kp_x, kp_y, score)\n",
    "        return xys            \n",
    "        \n",
    "    def addPointsText(self,img,keys,color,r,fontsize):\n",
    "        for key in keys:\n",
    "            if key in self.xys:\n",
    "                x = self.xys[key][0]\n",
    "                y = self.xys[key][1]\n",
    "                img.drawPoint( x,y,r,color)\n",
    "                img.drawText(str(key), x,y,fontsize, color=color)\n",
    "                \n",
    "    def addSkeleton(self,img,EDGES,color='red',width=1):\n",
    "        for a, b in EDGES:\n",
    "            if a not in self.xys or b not in self.xys: continue\n",
    "            ax, ay = self.xys[a][0],self.xys[a][1]\n",
    "            bx, by = self.xys[b][0],self.xys[b][1]\n",
    "            img.drawLine(ax,ay,bx,by,color=color,width=width)\n",
    "                \n",
    "    def printPose(self,mninScorePose=-0.1, minScoreKeypoint=-0.1):\n",
    "        #if self.pose.score < mninScorePose : continue\n",
    "        print('\\nPose Score: ', self.pose.score)\n",
    "        for label, keypoint in self.pose.keypoints.items():\n",
    "            if keypoint.score < minScoreKeypoint : continue\n",
    "            print(' %-20s x=%-4d y=%-4d score=%.2f' %\n",
    "                (label, keypoint.yx[1], keypoint.yx[0], keypoint.score))\n"
   ]
  },
  {
   "cell_type": "markdown",
   "metadata": {
    "tags": []
   },
   "source": [
    "## DrawPoseAction"
   ]
  },
  {
   "cell_type": "code",
   "execution_count": null,
   "metadata": {},
   "outputs": [],
   "source": [
    "\n",
    "                  \n",
    "class DrawPoseAction(BaseAction):\n",
    "    def __init__(self):\n",
    "        self.result = None\n",
    "    \n",
    "    def evaluate(self, **kwargs):        \n",
    "        if 'image' in kwargs.keys() and 'poses' in kwargs.keys() :\n",
    "            image = kwargs['image']\n",
    "            poses = kwargs['poses']\n",
    "            self.drawPosePoints(image,poses,EDGES) \n",
    "            self.addSkeletons(image,poses,EDGES)\n",
    "            self.result = {'image':image}\n",
    "            return self.result\n",
    "        else:\n",
    "            return kwargs                \n",
    "        \n",
    "    def drawPoint(self,image,x,y,r,rgba):\n",
    "        draw = ImageDraw.Draw(image)\n",
    "        leftUpPoint = (x-r, y-r)\n",
    "        rightDownPoint = (x+r, y+r)\n",
    "        twoPointList = [leftUpPoint, rightDownPoint]\n",
    "        draw.ellipse(twoPointList, fill=rgba)\n",
    "\n",
    "    def drawPosePoints(self,image,poses,EDGES):    \n",
    "        for pose in poses:\n",
    "            #if pose.score < 0.4: continue\n",
    "            rgba =  random.choice(colors)     \n",
    "            #print('\\nPose Score: ', pose.score)\n",
    "            xys = {}\n",
    "            minScoreKeypoint = 0.0\n",
    "            for label, keypoint in pose.keypoints.items():\n",
    "                if keypoint.score < minScoreKeypoint : continue\n",
    "                #print(keypoint.point)\n",
    "                #drawPoint(image,keypoint.yx[1], keypoint.yx[0],2,rgba)\n",
    "                self.drawPoint(image,keypoint.point.x,keypoint.point.y,2,rgba)\n",
    "                #kp_y = int((keypoint.yx[0] ) )\n",
    "                #kp_x = int((keypoint.yx[1] ) )\n",
    "                kp_y = int( keypoint.point.y)\n",
    "                kp_x = int( keypoint.point.x)\n",
    "\n",
    "                xys[label] = (kp_x, kp_y)\n",
    "                #print(' %-20s x=%-4d y=%-4d score=%.1f' %\n",
    "                #      (label, keypoint.yx[1], keypoint.yx[0], keypoint.score))\n",
    "            #print(xys)\n",
    "\n",
    "            for a, b in EDGES:\n",
    "                if a not in xys or b not in xys: continue\n",
    "                ax, ay = xys[a]\n",
    "                bx, by = xys[b]\n",
    "                #dwg.add(dwg.line(start=(ax, ay), end=(bx, by), stroke=color, stroke_width=2))\n",
    "                draw = ImageDraw.Draw(image)\n",
    "                draw.line((ax,ay,bx,by), fill=128, width=3)\n",
    "                #print (ax,ay,bx,b)    \n",
    "                \n",
    "    def addSkeletons(self,image,poses,EDGES):\n",
    "        for pose in poses:   \n",
    "            _pose = Pose(pose)\n",
    "            _pose.addSkeleton(image,EDGES,color='red',width=1)"
   ]
  },
  {
   "cell_type": "markdown",
   "metadata": {},
   "source": [
    "## ObjectsInterpreterAction"
   ]
  },
  {
   "cell_type": "code",
   "execution_count": null,
   "metadata": {
    "tags": []
   },
   "outputs": [],
   "source": [
    "import time\n",
    "\n",
    "from PIL import Image\n",
    "from PIL import ImageDraw\n",
    "\n",
    "from pycoral.adapters import common\n",
    "from pycoral.adapters import detect\n",
    "from pycoral.utils.dataset import read_label_file\n",
    "from pycoral.utils.edgetpu import make_interpreter\n",
    "\n",
    "class ObjectsInterpreterAction(BaseAction):\n",
    "    def __init__(self, score_threshold=0.2):\n",
    "        self.score_threshold = score_threshold \n",
    "        self.filter = []\n",
    "        self.result = None\n",
    "        # https://github.com/google-coral/test_data\n",
    "        # https://coral.ai/models/object-detection/\n",
    "        self.labels = read_label_file('/home/pi/jupyter/coral/pycoral/test_data/coco_labels.txt')\n",
    "        self.interpreter = make_interpreter('/home/pi/jupyter/coral/pycoral/test_data/ssd_mobilenet_v2_coco_quant_postprocess_edgetpu.tflite')\n",
    "        self.interpreter.allocate_tensors()\n",
    "\n",
    "    def evaluate(self, **kwargs):        \n",
    "        if 'image' in kwargs.keys():\n",
    "            self.result = {'image':kwargs['image']}\n",
    "            image = self._get_image(kwargs['image'])\n",
    "            \n",
    "            start = time.perf_counter()\n",
    "            self.interpreter.invoke()\n",
    "            inference_time = time.perf_counter() - start\n",
    "            #_, scale = common.set_resized_input(\n",
    "            #    self.interpreter, image.size, lambda size: image.resize(size, Image.ANTIALIAS))\n",
    "            _, scale = common.set_resized_input(self.interpreter, image.size, lambda size: image)\n",
    "            \n",
    "            # https://coral.ai/docs/reference/py/pycoral.adapters/#module-pycoral.adapters.detect\n",
    "            # A list of Object objects, which each contains the detected object’s id, score, and bounding box as BBox.\n",
    "            objs = detect.get_objects(self.interpreter,self.score_threshold, scale)\n",
    "    \n",
    "            if len(self.filter) > 0: \n",
    "                objs = self.filter_objects(objs)\n",
    "    \n",
    "            self.result = {'objects':objs, 'inference_time':inference_time,'image':kwargs['image']}\n",
    "            return self.result\n",
    "        \n",
    "    def filter_objects(self,objs):\n",
    "        objs2 = []\n",
    "        for obj in objs:\n",
    "            _label = self.labels.get(obj.id, obj.id) \n",
    "            if _label in self.filter:\n",
    "                objs2.append(obj)\n",
    "        return objs2        \n",
    "        \n",
    "    def input_size(self):\n",
    "        return common.input_size(self.interpreter)\n",
    "    \n",
    "    \n",
    "    def get_labels(self,objs): \n",
    "        _labels = []\n",
    "        for obj in objs:\n",
    "            _label = self.labels.get(obj.id, obj.id)   \n",
    "            if _label not in _labels:\n",
    "                _labels.append(_label)\n",
    "        return _labels\n",
    "            \n",
    "    def printData(self,objs):        \n",
    "        for obj in objs:\n",
    "            print(labels.get(obj.id, obj.id))\n",
    "            print('  id:    ', obj.id)\n",
    "            print('  score: ', obj.score)\n",
    "            print('  bbox:  ', obj.bbox)    "
   ]
  },
  {
   "cell_type": "markdown",
   "metadata": {
    "tags": []
   },
   "source": [
    "## DrawObjectsAction"
   ]
  },
  {
   "cell_type": "code",
   "execution_count": null,
   "metadata": {
    "tags": []
   },
   "outputs": [],
   "source": [
    "class DrawObjectsAction(BaseAction):\n",
    "    def __init__(self):\n",
    "        self.result = None\n",
    "        self.labels = read_label_file('/home/pi/jupyter/coral/pycoral/test_data/coco_labels.txt')\n",
    "    \n",
    "    def evaluate(self, **kwargs):        \n",
    "        if 'image' in kwargs.keys() and 'objects' in kwargs.keys() :\n",
    "            image = kwargs['image'].copy()\n",
    "            objs = kwargs['objects']\n",
    "            self.draw_objects(ImageDraw.Draw(image), objs, self.labels)        \n",
    "            #self.result = {'image':image}\n",
    "            self.result = dict(kwargs)\n",
    "            self.result['image'] = image\n",
    "            return self.result\n",
    "        else:\n",
    "            return kwargs                \n",
    "        \n",
    "    def draw_objects(self,draw, objs, labels):\n",
    "        for obj in objs:\n",
    "            bbox = obj.bbox\n",
    "            draw.rectangle([(bbox.xmin, bbox.ymin), (bbox.xmax, bbox.ymax)],\n",
    "                           outline='red')\n",
    "            draw.text((bbox.xmin + 10, bbox.ymin + 10),\n",
    "                      '%s\\n%.2f' % (labels.get(obj.id, obj.id), obj.score),\n",
    "                      fill='red')\n",
    "\n",
    "    def get_labels(self,objs): \n",
    "        _labels = []\n",
    "        for obj in objs:\n",
    "            _label = self.labels.get(obj.id, obj.id)   \n",
    "            if _label not in _labels:\n",
    "                _labels.append(_label)\n",
    "        return _labels\n",
    "            \n",
    "    def printData(self,objs):        \n",
    "        for obj in objs:\n",
    "            print(labels.get(obj.id, obj.id))\n",
    "            print('  id:    ', obj.id)\n",
    "            print('  score: ', obj.score)\n",
    "            print('  bbox:  ', obj.bbox)"
   ]
  },
  {
   "cell_type": "markdown",
   "metadata": {},
   "source": [
    "## SemanticSegmentationAction"
   ]
  },
  {
   "cell_type": "code",
   "execution_count": null,
   "metadata": {
    "tags": []
   },
   "outputs": [],
   "source": [
    "#semantic_segmentation.py\n",
    "\n",
    "import numpy as np\n",
    "from PIL import Image\n",
    "\n",
    "from pycoral.adapters import common\n",
    "from pycoral.adapters import segment\n",
    "from pycoral.utils.edgetpu import make_interpreter\n",
    "\n",
    "\n",
    "def create_pascal_label_colormap():\n",
    "  \"\"\"Creates a label colormap used in PASCAL VOC segmentation benchmark.\n",
    "\n",
    "  Returns:\n",
    "    A Colormap for visualizing segmentation results.\n",
    "  \"\"\"\n",
    "  colormap = np.zeros((256, 3), dtype=int)\n",
    "  indices = np.arange(256, dtype=int)\n",
    "\n",
    "  for shift in reversed(range(8)):\n",
    "    for channel in range(3):\n",
    "      colormap[:, channel] |= ((indices >> channel) & 1) << shift\n",
    "    indices >>= 3\n",
    "\n",
    "  return colormap\n",
    "\n",
    "def label_to_color_image(label):\n",
    "  \"\"\"Adds color defined by the dataset colormap to the label.\n",
    "\n",
    "  Args:\n",
    "    label: A 2D array with integer type, storing the segmentation label.\n",
    "\n",
    "  Returns:\n",
    "    result: A 2D array with floating type. The element of the array\n",
    "      is the color indexed by the corresponding element in the input label\n",
    "      to the PASCAL color map.\n",
    "\n",
    "  Raises:\n",
    "    ValueError: If label is not of rank 2 or its value is larger than color\n",
    "      map maximum entry.\n",
    "  \"\"\"\n",
    "  if label.ndim != 2:\n",
    "    raise ValueError('Expect 2-D input label')\n",
    "\n",
    "  colormap = create_pascal_label_colormap()\n",
    "\n",
    "  if np.max(label) >= len(colormap):\n",
    "    raise ValueError('label value too large.')\n",
    "\n",
    "  return colormap[label]\n",
    "\n",
    "\n",
    "class SemanticSegmentationAction(BaseAction):\n",
    "    def __init__(self):\n",
    "        self.result = None\n",
    "        self.interpreter = make_interpreter('/home/pi/jupyter/coral/pycoral/test_data/deeplabv3_mnv2_pascal_quant_edgetpu.tflite', device=':0')\n",
    "        self.interpreter.allocate_tensors()\n",
    "        self.width, self.height = common.input_size(self.interpreter)\n",
    "\n",
    "    def evaluate(self, **kwargs):        \n",
    "        if 'image' in kwargs.keys():\n",
    "            self.result = {'image':kwargs['image']}\n",
    "            image = self._get_image(kwargs['image'])\n",
    "            \n",
    "            keep_aspect_ratio = True\n",
    "            if keep_aspect_ratio:\n",
    "                resized_img, _ = common.set_resized_input(\n",
    "                self.interpreter, image.size, lambda size: image.resize(size, Image.ANTIALIAS))\n",
    "            else:\n",
    "                resized_img = image.resize((self.width, self.height), Image.ANTIALIAS)\n",
    "                common.set_input(self.interpreter, resized_img)\n",
    "\n",
    "            self.interpreter.invoke()\n",
    "            result = segment.get_output(self.interpreter)\n",
    "            if len(result.shape) == 3:\n",
    "                result = np.argmax(result, axis=-1)\n",
    "\n",
    "            # If keep_aspect_ratio, we need to remove the padding area.\n",
    "            new_width, new_height = resized_img.size\n",
    "            result = result[:new_height, :new_width]\n",
    "            mask_img = Image.fromarray(label_to_color_image(result).astype(np.uint8))\n",
    "\n",
    "            # Concat resized input image and processed segmentation results.\n",
    "            output_img = Image.new('RGB', (2 * new_width, new_height))\n",
    "            output_img.paste(resized_img, (0, 0))\n",
    "            output_img.paste(mask_img, (self.width, 0))\n",
    "  \n",
    "            self.result = {'image':output_img}\n",
    "            return self.result"
   ]
  },
  {
   "cell_type": "markdown",
   "metadata": {},
   "source": [
    "## ObjectsInterpreterWidget"
   ]
  },
  {
   "cell_type": "code",
   "execution_count": null,
   "metadata": {},
   "outputs": [],
   "source": [
    "class ObjectsInterpreterWidget(BaseWidget):\n",
    "    def __init__(self, action=None, imageWidget=None, parent=None):\n",
    "        self.action = action\n",
    "        self.parent = parent\n",
    "        self.result = None\n",
    "        self.imageWidget = imageWidget\n",
    "        #self.threshold   = widgets.Text(description = 'threshold' , value=str(self.parent.action.score_threshold), style=style, layout=layout2)\n",
    "        self.threshold   = widgets.Text(description = 'threshold' , value=str(self.action.score_threshold), style=style, layout=layout2)\n",
    "        self.out  = widgets.Output()\n",
    "        self.vbox   = widgets.VBox([self.threshold,self.out])\n",
    "        self.labels = []    \n",
    "        self.threshold.on_submit(self.on_value_submit_threshold)    \n",
    "            \n",
    "    def evaluate(self, **kwargs):   \n",
    "        self.kwargs=kwargs\n",
    "        self.result = self.action.evaluate(**kwargs)\n",
    "        if isinstance(self.result, dict):\n",
    "             with self.out:\n",
    "                clear_output()\n",
    "                _labels = self.action.get_labels(self.result['objects'])\n",
    "                self.labels = []  \n",
    "                for _label in _labels:\n",
    "                    _checkbox = widgets.Checkbox(description=_label,value=True)\n",
    "                    _checkbox.observe(self.label_on_change,'value')\n",
    "                    display(_checkbox)     \n",
    "                    self.labels.append(_checkbox)\n",
    "        return self.result\n",
    "    \n",
    "    def on_value_submit_threshold(self,change):\n",
    "        self.action.score_threshold = float(change.value)\n",
    "        self.result = self.action.evaluate(**self.kwargs)\n",
    "        #self.evaluate_subchain()\n",
    "        \n",
    "    def evaluate_subchain(self):    \n",
    "        parent_result = self.parent.evaluate(**self.parent.parent.result)\n",
    "        self.evaluate(**parent_result)\n",
    "        self.imageWidget.evaluate(self.result['image'])\n",
    "        \n",
    "    def label_on_change(self,change):  \n",
    "        if change['type'] == 'change' and change['name'] == 'value':\n",
    "            #print(change['name'])\n",
    "            _labels = []\n",
    "            for _label in self.labels:\n",
    "                if _label.value == True:\n",
    "                    _labels.append(_label.description)\n",
    "            print(_labels)\n",
    "            self.parent.action.filter = _labels\n",
    "            self.evaluate_subchain()\n",
    "            #K"
   ]
  },
  {
   "cell_type": "markdown",
   "metadata": {
    "tags": []
   },
   "source": [
    "# Coral Actions 2"
   ]
  },
  {
   "cell_type": "markdown",
   "metadata": {
    "tags": []
   },
   "source": [
    "## CountPoseAction"
   ]
  },
  {
   "cell_type": "code",
   "execution_count": null,
   "metadata": {},
   "outputs": [],
   "source": [
    "class CountPoseAction(BaseAction):\n",
    "    def __init__(self):\n",
    "        self.result = None\n",
    "    \n",
    "    def evaluate(self, **kwargs):        \n",
    "        if 'image' in kwargs.keys() and 'poses' in kwargs.keys() :\n",
    "            image = kwargs['image']\n",
    "            poses = kwargs['poses']\n",
    "            self.drawPosePoints(image,poses,EDGES) \n",
    "            self.addSkeletons(image,poses,EDGES)\n",
    "            self.result = {'image':image}\n",
    "            self.result['count']= len(poses)\n",
    "            self.result['poses']=poses\n",
    "            Bboxes=[]\n",
    "            ScoreRanges=[]\n",
    "            for pose in poses:\n",
    "                Bboxes.append(self.calculateBbox(pose))\n",
    "                ScoreRanges.append(self.calculateScoreRange(pose))\n",
    "            self.result['bboxes']=Bboxes\n",
    "            self.result['score_range']=ScoreRanges\n",
    "            return self.result\n",
    "        else:\n",
    "            return kwargs                \n",
    "        \n",
    "    def drawPoint(self,image,x,y,r,rgba):\n",
    "        draw = ImageDraw.Draw(image)\n",
    "        leftUpPoint = (x-r, y-r)\n",
    "        rightDownPoint = (x+r, y+r)\n",
    "        twoPointList = [leftUpPoint, rightDownPoint]\n",
    "        draw.ellipse(twoPointList, fill=rgba)\n",
    "        \n",
    "    def addSkeletons(self,image,poses,EDGES):\n",
    "        for pose in poses:   \n",
    "            _pose = Pose(pose)\n",
    "            _pose.addSkeleton(image,EDGES,color='red',width=1)\n",
    "\n",
    "    def drawPosePoints(self,image,poses,EDGES):    \n",
    "        for pose in poses:\n",
    "            #if pose.score < 0.4: continue\n",
    "            rgba =  random.choice(colors)     \n",
    "            #print('\\nPose Score: ', pose.score)\n",
    "            xys = {}\n",
    "            minScoreKeypoint = 0.0\n",
    "            for label, keypoint in pose.keypoints.items():\n",
    "                if keypoint.score < minScoreKeypoint : continue\n",
    "                #print(keypoint.point)\n",
    "                #drawPoint(image,keypoint.yx[1], keypoint.yx[0],2,rgba)\n",
    "                self.drawPoint(image,keypoint.point.x,keypoint.point.y,2,rgba)\n",
    "                #kp_y = int((keypoint.yx[0] ) )\n",
    "                #kp_x = int((keypoint.yx[1] ) )\n",
    "                kp_y = int( keypoint.point.y)\n",
    "                kp_x = int( keypoint.point.x)\n",
    "\n",
    "                xys[label] = (kp_x, kp_y)\n",
    "                #print(' %-20s x=%-4d y=%-4d score=%.1f' %\n",
    "                #      (label, keypoint.yx[1], keypoint.yx[0], keypoint.score))\n",
    "            #print(xys)\n",
    "\n",
    "            for a, b in EDGES:\n",
    "                if a not in xys or b not in xys: continue\n",
    "                ax, ay = xys[a]\n",
    "                bx, by = xys[b]\n",
    "                #dwg.add(dwg.line(start=(ax, ay), end=(bx, by), stroke=color, stroke_width=2))\n",
    "                draw = ImageDraw.Draw(image)\n",
    "                draw.line((ax,ay,bx,by), fill=128, width=3)\n",
    "                #print (ax,ay,bx,b)     \n",
    "                \n",
    "    def calculateBbox(self,pose):\n",
    "\n",
    "        minimum=[9999999,9999899]\n",
    "        maximum=[0,0]\n",
    "        for label, keypoint in pose.keypoints.items():\n",
    "\n",
    "                print(keypoint.point)\n",
    "                #drawPoint(image,keypoint.yx[1], keypoint.yx[0],2,rgba)\n",
    "\n",
    "                #kp_y = int((keypoint.yx[0] ) )\n",
    "                #kp_x = int((keypoint.yx[1] ) )\n",
    "                kp_y = int( keypoint.point.y)\n",
    "                kp_x = int( keypoint.point.x)\n",
    "                if kp_x<minimum[0]:\n",
    "                    minimum[0]=kp_x\n",
    "                if kp_x>maximum[0]:\n",
    "                    maximum[0]=kp_x\n",
    "                if kp_y<minimum[1]:\n",
    "                    minimum[1]=kp_y\n",
    "                if kp_y>maximum[1]:\n",
    "                    maximum[1]=kp_y\n",
    "\n",
    "        return minimum,maximum \n",
    "    \n",
    "    def calculateScoreRange(self,pose):\n",
    "\n",
    "        minimum=9999999\n",
    "        maximum=0\n",
    "        for label, keypoint in pose.keypoints.items():\n",
    "\n",
    "            \n",
    "                score = keypoint.score\n",
    "                \n",
    "                if score<minimum:\n",
    "                    minimum=score\n",
    "                if score>maximum:\n",
    "                    maximum=score\n",
    "                \n",
    "\n",
    "        return minimum,maximum                "
   ]
  },
  {
   "cell_type": "markdown",
   "metadata": {
    "tags": []
   },
   "source": [
    "## CountObjectsAction"
   ]
  },
  {
   "cell_type": "code",
   "execution_count": null,
   "metadata": {
    "tags": []
   },
   "outputs": [],
   "source": [
    "class CountObjectsAction(BaseAction):\n",
    "    def __init__(self):\n",
    "        self.result = None\n",
    "        self.labels = read_label_file('/home/pi/jupyter/coral/pycoral/test_data/coco_labels.txt')\n",
    "    \n",
    "    def evaluate1(self, **kwargs):  \n",
    "        if  'objects' in kwargs.keys() :\n",
    "            objs = kwargs['objects'] \n",
    "            _count=self.count(objs)\n",
    "            self.result = dict(kwargs)\n",
    "            self.result['count']=_count\n",
    "            return self.result\n",
    "        else:\n",
    "            return kwargs  \n",
    "        \n",
    "        \n",
    "    def evaluate(self, **kwargs):        \n",
    "        if 'image' in kwargs.keys() and 'objects' in kwargs.keys() :\n",
    "            image = kwargs['image'].copy()\n",
    "            objs = kwargs['objects']\n",
    "            count=self.count(objs)\n",
    "            self.draw_objects(ImageDraw.Draw(image), objs, self.labels)        \n",
    "            #self.result = {'image':image}\n",
    "            self.result = dict(kwargs)\n",
    "            self.result['image'] = image\n",
    "            self.result['count']= count\n",
    "            return self.result\n",
    "        else:\n",
    "            return kwargs     \n",
    "        \n",
    "    def count(self,objects):    \n",
    "        counter=0\n",
    "        for object in objects:\n",
    "            if object.id==0:\n",
    "                counter=counter+1\n",
    "        return counter\n",
    "\n",
    "\n",
    "        \n",
    "    def draw_objects(self,draw, objs, labels):\n",
    "        for obj in objs:\n",
    "            bbox = obj.bbox\n",
    "            draw.rectangle([(bbox.xmin, bbox.ymin), (bbox.xmax, bbox.ymax)],\n",
    "                           outline='red')\n",
    "            draw.text((bbox.xmin + 10, bbox.ymin + 10),\n",
    "                      '%s\\n%.2f' % (labels.get(obj.id, obj.id), obj.score),\n",
    "                      fill='red')\n",
    "\n",
    "    def get_labels(self,objs): \n",
    "        _labels = []\n",
    "        for obj in objs:\n",
    "            _label = self.labels.get(obj.id, obj.id)   \n",
    "            if _label not in _labels:\n",
    "                _labels.append(_label)\n",
    "        return _labels\n",
    "            \n",
    "    def printData(self,objs):        \n",
    "        for obj in objs:\n",
    "            print(labels.get(obj.id, obj.id))\n",
    "            print('  id:    ', obj.id)\n",
    "            print('  score: ', obj.score)\n",
    "            print('  bbox:  ', obj.bbox)"
   ]
  },
  {
   "cell_type": "markdown",
   "metadata": {},
   "source": [
    "## CountObjectsWidget"
   ]
  },
  {
   "cell_type": "code",
   "execution_count": null,
   "metadata": {},
   "outputs": [],
   "source": [
    "layout2={'width': '350px'}\n",
    "\n",
    "class CountObjectsWidget(BaseWidget):\n",
    "    def __init__(self, action=None, imageWidget=None, parent=None):\n",
    "        self.action = action\n",
    "        self.parent = parent\n",
    "        self.result = None\n",
    "        self.count = widgets.Text(description = 'c', style=style, layout=layout2)\n",
    "        self.imageWidget = imageWidget\n",
    "        self.vbox   = widgets.VBox([self.count])\n",
    "            \n",
    "    def evaluate(self, **kwargs):     \n",
    "        self.result = self.action.evaluate(**kwargs)\n",
    "        if  'count' in self.result.keys() :\n",
    "            self.count.value=str (self.result['count'])\n",
    "        return self.result"
   ]
  },
  {
   "cell_type": "code",
   "execution_count": null,
   "metadata": {},
   "outputs": [],
   "source": [
    "_app_test = SimpleApplicationWidget(filename = '_EasyVideoPipeLine_641_481.json')"
   ]
  },
  {
   "cell_type": "code",
   "execution_count": null,
   "metadata": {},
   "outputs": [],
   "source": [
    "#_app_test._tab.displayWidget.action.sources.__dict__\n",
    "!ls /home/jovyan/test/6We73xIdHy0"
   ]
  },
  {
   "cell_type": "code",
   "execution_count": null,
   "metadata": {},
   "outputs": [],
   "source": [
    "#loadVideo(app=_app_test,key=_keys[0],index=0)"
   ]
  },
  {
   "cell_type": "markdown",
   "metadata": {},
   "source": [
    "# Applications"
   ]
  },
  {
   "cell_type": "code",
   "execution_count": null,
   "metadata": {},
   "outputs": [],
   "source": [
    "#_app = SimpleApplicationWidget(filename = '_EasyVideoPipeLine_641_481.json')\n",
    "_app = SimpleApplicationWidget(filename = '_EasyVideoPipeLine_641_481_Squad.json')\n",
    "_app._tab.displayWidget.skipframes.value='0'\n",
    "_app._tab.displayWidget.action.skipframes=0\n",
    "addTemplateWrapperTab(_app,TemplateWrapperWidget,PoseEngineAction()) \n",
    "addTemplateWrapperTab(_app,CountObjectsWidget,CountPoseAction()) "
   ]
  },
  {
   "cell_type": "code",
   "execution_count": null,
   "metadata": {},
   "outputs": [],
   "source": [
    "app=_app\n",
    "_keypoints=app._tab._widgets[4].result['poses'][0].keypoints\n",
    "_score=app._tab._widgets[4].result['poses'][0].score\n",
    "PoseBox(keypoints=[_keypoints,_score])"
   ]
  },
  {
   "cell_type": "code",
   "execution_count": null,
   "metadata": {},
   "outputs": [],
   "source": [
    "_app._tab.displayWidget.action.__dict__"
   ]
  },
  {
   "cell_type": "code",
   "execution_count": null,
   "metadata": {},
   "outputs": [],
   "source": [
    "# objects, image size: 300x300\n",
    "#_app2 = SimpleApplicationWidget(filename = '_EasyVideoPipeLine_300_300.json')\n",
    "_app2 = SimpleApplicationWidget(filename = '_EasyVideoPipeLine_300_300_Squad.json')\n",
    "#addTemplateWrapperTab(_app2,TemplateWrapperWidget,ObjectsInterpreterAction()) \n",
    "#addTemplateWrapperTab(_app2,ObjectsInterpreterWidget,ObjectsInterpreterAction())  \n",
    "#addTemplateWrapperTab(_app2,CountObjectsWidget,CountObjectsAction())"
   ]
  },
  {
   "cell_type": "code",
   "execution_count": null,
   "metadata": {},
   "outputs": [],
   "source": [
    "#_app2._tab.evaluateWidgetActionList(end=None)"
   ]
  },
  {
   "cell_type": "markdown",
   "metadata": {
    "tags": []
   },
   "source": [
    "## add ML actions"
   ]
  },
  {
   "cell_type": "code",
   "execution_count": null,
   "metadata": {},
   "outputs": [],
   "source": [
    "#addTemplateWrapperTab(TemplateWrapperWidget,PoseEngineAction()) \n",
    "#addTemplateWrapperTab(TemplateWrapperWidget,DrawPoseAction()) "
   ]
  },
  {
   "cell_type": "code",
   "execution_count": null,
   "metadata": {},
   "outputs": [],
   "source": [
    "#addTemplateWrapperTab(TemplateWrapperWidget,SemanticSegmentationAction())"
   ]
  },
  {
   "cell_type": "markdown",
   "metadata": {},
   "source": [
    "# interact with app 2"
   ]
  },
  {
   "cell_type": "markdown",
   "metadata": {},
   "source": [
    "## Dataframe"
   ]
  },
  {
   "cell_type": "code",
   "execution_count": null,
   "metadata": {},
   "outputs": [],
   "source": [
    "import pandas as pd\n",
    "from os import listdir\n",
    "from os.path import isfile, join\n",
    "\n",
    "def create_empty_dataframe():\n",
    "    df = pd.DataFrame(columns=list(range(0, 12)))\n",
    "    for i in range(6):\n",
    "        df.loc[i] = listofzeros = [0] * 12\n",
    "    return df.apply(pd.to_numeric)\n",
    "\n",
    "def counts_in_dataframe(path='', timestamp='',key=None):\n",
    "    dataframe=create_empty_dataframe()\n",
    "    for filename in listdir(path):\n",
    "        if filename[0]!='.':\n",
    "            boxpath = BoxPath(filename=filename)\n",
    "            if boxpath.key==key:\n",
    "                Box=load_data(filename=filename, path=path)\n",
    "                count=Box[2]\n",
    "                dataframe.loc[boxpath.y,boxpath.x]=count\n",
    "    return dataframe.apply(pd.to_numeric)\n",
    "\n",
    "def count_and_add_dataframes(path='../data/pose_boxes',key=None):\n",
    "    dfadd=create_empty_dataframe()\n",
    "    _timestamps=get_timestamps(path=path,key=key)\n",
    "    for timestamp in _timestamps:\n",
    "        df=counts_in_dataframe(path=path, timestamp=timestamp, key=key)\n",
    "        for y in range(0,6):\n",
    "            for x in range(0,12):\n",
    "                dfadd.loc[y,x]=dfadd.loc[y,x]+df.loc[y,x]    \n",
    "    return dfadd"
   ]
  },
  {
   "cell_type": "markdown",
   "metadata": {},
   "source": [
    "## visualization"
   ]
  },
  {
   "cell_type": "code",
   "execution_count": null,
   "metadata": {},
   "outputs": [],
   "source": [
    "import pandas as pd\n",
    "pd.plotting.register_matplotlib_converters()\n",
    "import matplotlib.pyplot as plt\n",
    "%matplotlib inline\n",
    "import seaborn as sns\n",
    "print(\"Setup Complete\")\n",
    "\n",
    "def create_heatmap(dataframe=None,title=None,vmin=0,vmax=None):\n",
    "    # Set the width and height of the figure\n",
    "    plt.figure(figsize=(14,7))\n",
    "    # Add title\n",
    "    plt.title(title)\n",
    "    # Heatmap showing average arrival delay for each airline by month\n",
    "    sns.heatmap(data=dataframe, annot=True, vmin=vmin,vmax=vmax)\n",
    "    # Add label for horizontal axis\n",
    "    plt.xlabel(\"\")"
   ]
  },
  {
   "cell_type": "code",
   "execution_count": null,
   "metadata": {},
   "outputs": [],
   "source": [
    "app=_app\n",
    "filename='../data/videos/box_bookmarks_6_12/video_LJ5wabMQ4Vk.json'\n",
    "#filename='../data/videos/single/video_JqUREqYduHw.json'\n",
    "#filename='../data/videos/single/video_HpdO5Kq3o7Y.json'\n",
    "#loadVideo(app=app,index=0,filename=filename)\n",
    "_video  = app._tab._widgets[0]\n",
    "_video.video_filename.value= filename\n",
    "_video.on_video_load_button_clicked('')  \n",
    "set_image_quality(app,index=5)\n",
    "display(app._tab.displayWidget.action.evaluate()['image'])   \n",
    "print(filename)"
   ]
  },
  {
   "cell_type": "code",
   "execution_count": null,
   "metadata": {},
   "outputs": [],
   "source": [
    "_video.video_filename.value"
   ]
  },
  {
   "cell_type": "code",
   "execution_count": null,
   "metadata": {},
   "outputs": [],
   "source": [
    "loadVideo(app=app,index=0,filename=filename)\n",
    "display(app._tab.displayWidget.action.evaluate()['image'])   "
   ]
  },
  {
   "cell_type": "code",
   "execution_count": null,
   "metadata": {},
   "outputs": [],
   "source": [
    "#get_video_url_id(_app_test)\n",
    "#create_single_video_files(app,video_url_id_list=[('BJtkzEa6Tbg','https://youtu.be/BJtkzEa6Tbg')])\n",
    "#loadVideo(app=app,key=None,filename='../data/videos/single/video_BJtkzEa6Tbg.json',index=5)\n",
    "#displayAllVideos(app=app,index=0)"
   ]
  },
  {
   "cell_type": "code",
   "execution_count": null,
   "metadata": {},
   "outputs": [],
   "source": [
    "#print(time.gmtime(0))\n",
    "#print(time.gmtime(time.time()))\n",
    "#t=time.localtime(time.time())\n",
    "#print(t)"
   ]
  },
  {
   "cell_type": "code",
   "execution_count": null,
   "metadata": {},
   "outputs": [],
   "source": [
    "\n",
    "ts=time.localtime(time.time())\n",
    "\n",
    "\n",
    "results=[ts[0],ts[1],ts[2],ts[3],ts[4],ts[5]]\n",
    "print(results)\n"
   ]
  },
  {
   "cell_type": "code",
   "execution_count": null,
   "metadata": {},
   "outputs": [],
   "source": [
    "counts_in_dataframe(path='../data/pose_boxes_2',key='LJ5wabMQ4Vk')"
   ]
  },
  {
   "cell_type": "markdown",
   "metadata": {},
   "source": [
    "## Posen der Keys generieren"
   ]
  },
  {
   "cell_type": "code",
   "execution_count": null,
   "metadata": {},
   "outputs": [],
   "source": [
    "import time, datetime\n",
    "def save_data(filename=None,data=None,id='',name='',path='../data/pose_boxes',ts=None):\n",
    "    _filename=filename\n",
    "    if _filename is None:\n",
    "        asctime = str(time.ctime(ts)).split(' ', 1)[1].replace(' ','-')\n",
    "        _filename = id + '_' + name + '_' + str(ts) + '_' + asctime + '.json'\n",
    "        \n",
    "    with open(path + '/' + _filename,'w',encoding='utf-8') as f:\n",
    "        g = dumps(data, cls=PythonObjectEncoder)\n",
    "        json.dump(g,f,ensure_ascii=False,indent=4)\n",
    "    return _filename\n",
    "\n",
    "def get_and_save_boxes_with_data(app=None,path='../data/pose_boxes',image=None):\n",
    "    _out=widgets.Output()\n",
    "    with _out:\n",
    "        _boxes = get_boxes_data_with_counts(app=app, crop=app._tab._widgets[1],image=image) \n",
    "        \n",
    "    for key,value in _boxes.items():\n",
    "        _id=app._tab._widgets[0].action.id \n",
    "        \n",
    "        _video = app._tab._widgets[0]\n",
    "        _files= sorted(listdir(_video.action.directory))\n",
    "        _filename =  _files[_video.action.position]\n",
    "        ts=float(_filename.split('_')[-3])\n",
    "        _filename=save_data(data=value,id=_id.split('/')[-1], name=key, ts=ts, path=path) \n",
    "        \n",
    "def get_and_save_objectboxes_with_data(app=None,path='../data/object_boxes',image=None):\n",
    "\n",
    "    _out=widgets.Output()\n",
    "    with _out:\n",
    "        _boxes = get_objectboxes_data_with_counts(app=app, crop=app._tab._widgets[1],image=image) \n",
    "    ts = time.time()\n",
    "    for key,value in _boxes.items():\n",
    "        _id=app._tab._widgets[0].action.id \n",
    "        _video = app._tab._widgets[0]\n",
    "        _files= sorted(listdir(_video.action.directory))\n",
    "        _filename =  _files[_video.action.position]\n",
    "        ts=float(_filename.split('_')[-3])\n",
    "        _filename=save_data(data=value,id=_id.split('/')[-1], name=key, ts=ts, path=path) \n",
    "        "
   ]
  },
  {
   "cell_type": "code",
   "execution_count": null,
   "metadata": {},
   "outputs": [],
   "source": [
    "#schreibt die aktuell selektierte Box raus\n",
    "\n",
    "result=_app._tab._widgets[-1].result\n",
    "app=_app\n",
    "key=app._tab._widgets[1].crop_list.value\n",
    "_id=app._tab._widgets[0].action.id \n",
    "_video = app._tab._widgets[0]\n",
    "_files= sorted(listdir(_video.action.directory))\n",
    "_filename =  _files[_video.action.position]\n",
    "ts=float(_filename.split('_')[-3])\n",
    "count=int(result['count'])\n",
    "st = datetime.datetime.fromtimestamp(ts).strftime('%Y-%m-%d %H:%M:%S')\n",
    "value=(ts,st,count,result['score_range'],result['poses'],result['bboxes'])\n",
    "path='../data/pose_boxes'\n",
    "_filename=save_data(data=value,id=_id.split('/')[-1], name=key, ts=ts, path=path) "
   ]
  },
  {
   "cell_type": "code",
   "execution_count": null,
   "metadata": {},
   "outputs": [],
   "source": [
    "import ipywidgets as widgets\n",
    "\n",
    "_keys=['--j76C1hX08',\n",
    " '-Dla8twqg',\n",
    " '-rjDeUjXlEs',\n",
    " '00s-daBWCZA',\n",
    " '0J1Y1MlPCUY',\n",
    " '2WzUGFz03v8',\n",
    " '4YFHDjig1hc',\n",
    " '6QQgDyKQTJ0',\n",
    " '6We73xIdHy0',\n",
    " '8kXzUBDuL9s',\n",
    " '8nPev44Jq4s',\n",
    " '9En2186vo5g',\n",
    " '9USNTc7Gr4c',\n",
    " 'AdUw5RdyZxI',\n",
    " 'BJtkzEa6Tbg',\n",
    " 'BlywGRXC1B0',\n",
    " 'CHd0z44hTQc',\n",
    " 'Cp4RRAEgpeU',\n",
    " 'DQe',\n",
    " 'EXvKXsmAmPg',\n",
    " 'Eif56OH4Fc0',\n",
    " 'G05wmWFDtSo',\n",
    " 'HmBoxDwR2I8',\n",
    " 'HpdO5Kq3o7Y',\n",
    " 'JRf29hXOrzY',\n",
    " 'JqUREqYduHw',\n",
    " 'WInT7NRq2Ss',\n",
    " 'WQz2P-1ua7o',\n",
    " 'WVslBR1Ndnc',\n",
    " 'WjOGhNDX51M',\n",
    " 'XnkB8vcua94',\n",
    " 'ZEAMi6-jP',\n",
    " 'frT95g0j4iY',\n",
    " 'luhiRGPRdAU',\n",
    " 'ns8y0SVcJGA',\n",
    " 'tqchfdQQ9L4',\n",
    " 'zTdTIpPiOnQ']\n"
   ]
  },
  {
   "cell_type": "code",
   "execution_count": null,
   "metadata": {},
   "outputs": [],
   "source": [
    "_out=widgets.Output()\n",
    "with _out:\n",
    "    for key in _keys:\n",
    "        try:\n",
    "            loadVideo(app=_app,key='/home/jovyan/test/'+key,filename='../data/images/box_bookmarks_6_12/images_'+key+'.json',index=5)\n",
    "            _video = _app._tab._widgets[0]\n",
    "            _files= sorted(listdir(_video.action.directory))\n",
    "            for a in range(0,len(_files)):\n",
    "                _app._displayWidget.on_next_image_button_clicked('')\n",
    "                _files= sorted(listdir(_video.action.directory))\n",
    "                _filename =  _files[_video.action.position]\n",
    "                _image_path=_video.action.directory+'/'+_filename\n",
    "                _image={'image':Image.open(open(_image_path, 'rb'))}\n",
    "                get_and_save_boxes_with_data(app=_app,image=_image)\n",
    "        except Exception as e:\n",
    "            print(str(e))"
   ]
  },
  {
   "cell_type": "code",
   "execution_count": null,
   "metadata": {},
   "outputs": [],
   "source": [
    "_keys=['HpdO5Kq3o7Y','KIXprc4-ifE']\n",
    "_out=widgets.Output()\n",
    "with _out:\n",
    "    for key in _keys:\n",
    "        try:\n",
    "            loadVideo(app=_app,key='/home/jovyan/test2/'+key,filename='../data/images/box_bookmarks_6_12/images_'+key+'-test2.json',index=5)\n",
    "            _video = _app._tab._widgets[0]\n",
    "            _files= sorted(listdir(_video.action.directory))\n",
    "\n",
    "            for a in range(0,len(_files)):\n",
    "                _app._displayWidget.on_next_image_button_clicked('')\n",
    "                _files= sorted(listdir(_video.action.directory))\n",
    "                _filename =  _files[_video.action.position]\n",
    "                _image_path=_video.action.directory+'/'+_filename\n",
    "                _image={'image':Image.open(open(_image_path, 'rb'))}\n",
    "                get_and_save_boxes_with_data(app=_app,image=_image,path='../data/pose_boxes_2')\n",
    "        except Exception as e:\n",
    "            print(str(e))"
   ]
  },
  {
   "cell_type": "code",
   "execution_count": null,
   "metadata": {},
   "outputs": [],
   "source": [
    "_out"
   ]
  },
  {
   "cell_type": "code",
   "execution_count": null,
   "metadata": {},
   "outputs": [],
   "source": [
    "_out=widgets.Output()\n",
    "with _out:\n",
    "    for key in _keys:\n",
    "        try:\n",
    "            loadVideo(app=_app2,key='/home/jovyan/test/'+key,filename='../data/images/box_bookmarks_6_12/images_'+key+'.json',index=5)\n",
    "            _video = _app._tab._widgets[0]\n",
    "            _files= sorted(listdir(_video.action.directory))\n",
    "            for a in range(0,len(_files)):\n",
    "                _app._displayWidget.on_next_image_button_clicked('')\n",
    "                _files= sorted(listdir(_video.action.directory))\n",
    "                _filename =  _files[_video.action.position]\n",
    "                _image_path=_video.action.directory+'/'+_filename\n",
    "                _image={'image':Image.open(open(_image_path, 'rb'))}\n",
    "                get_and_save_objectboxes_with_data(app=_app,image=_image)\n",
    "        except Exception as e:\n",
    "            print(str(e))"
   ]
  },
  {
   "cell_type": "code",
   "execution_count": null,
   "metadata": {},
   "outputs": [],
   "source": [
    "#on_next_image_button_clicked(self,b)\n",
    "_video = _app._tab._widgets[0]\n",
    "_files= sorted(listdir(_video.action.directory))\n",
    "for a in range(0,len(_files)-1):\n",
    "    _app._displayWidget.on_next_image_button_clicked('')"
   ]
  },
  {
   "cell_type": "code",
   "execution_count": null,
   "metadata": {},
   "outputs": [],
   "source": [
    "#_app._displayWidget.on_next_image_button_clicked('')\n",
    "_video.action.__dict__"
   ]
  },
  {
   "cell_type": "code",
   "execution_count": null,
   "metadata": {},
   "outputs": [],
   "source": [
    "_files"
   ]
  },
  {
   "cell_type": "code",
   "execution_count": null,
   "metadata": {},
   "outputs": [],
   "source": [
    "ts=float(_filename.split('_')[-3])\n",
    "asctime = str(time.ctime(ts)).split(' ', 1)[1].replace(' ','-')\n",
    "asctime"
   ]
  },
  {
   "cell_type": "code",
   "execution_count": null,
   "metadata": {},
   "outputs": [],
   "source": [
    "app=_app\n",
    "_video = app._tab._widgets[0]\n",
    "_files= sorted(listdir(_video.action.directory))\n",
    "_filename =  _files[_video.action.position]\n",
    "_filename.split('_')[-3]"
   ]
  },
  {
   "cell_type": "markdown",
   "metadata": {},
   "source": [
    "## Bilder aus Videos ##"
   ]
  },
  {
   "cell_type": "code",
   "execution_count": null,
   "metadata": {},
   "outputs": [],
   "source": [
    "app=_app\n",
    "_id=app._tab._widgets[0].action.id \n",
    "_action=app._tab.displayWidget.action\n",
    "app._tab.displayWidget.action.skipframes=0 #356 für Squat\n",
    "_result = app._tab.evaluateWidgetActionList(image=None, start=1, end=None)\n",
    "_image=app._tab._widgets[1].result['image']\n",
    "\n",
    "#app._tab._widgets[0].result['image']['image']\n",
    "#!mkdir /home/pi/images\n",
    "#app._tab.displayWidget.counter_w.value=str(app._tab.displayWidget.action.frame_count)\n",
    "print(_action.frame_count)\n",
    "_image\n",
    "## save image\n",
    "#app._tab.displayWidget.image['image'].save('/home/pi/images/images' + _id + '_' + str(_action.index) + '_' +str(_action.frame_count)+ '.png')"
   ]
  },
  {
   "cell_type": "markdown",
   "metadata": {},
   "source": [
    "### Dataframe aus Pipeline ##"
   ]
  },
  {
   "cell_type": "code",
   "execution_count": null,
   "metadata": {},
   "outputs": [],
   "source": [
    "def bbox_to_grid(bbox=None,min=(0,0),max=None, size=(162, 181), black=(211,0)):\n",
    "    size_x = max[0] - min[0]\n",
    "    size_y = max[1] - min[1]\n",
    "    org_size=(641 - black[0],481  - black[1])\n",
    "    factor = size[0] / org_size[0], size[1] / org_size[1]\n",
    "    margin = (roDataframeund(black[0]/2), round(black[1]/2))\n",
    "    return (round((bbox[0][0] - margin[0]) * factor[0] ) + min[0], round(bbox[0][1] * factor[1])+ min[1]) ,  (round((bbox[1][0] - margin[0]) * factor[0] )+ min[0],  round(bbox[1][1] * factor[1])+ min[1])    \n",
    "\n",
    "def bbox_to_grid(bbox=None,min=(0,0),max=None, size=(162, 181), black=(211,0)):\n",
    "    #size_x = max[0] - min[0]\n",
    "    #size_y = max[1] - min[1]\n",
    "    org_size=(641 - black[0],481  - black[1])\n",
    "    factor = size[0] / org_size[0], size[1] / org_size[1]\n",
    "    margin = (round(black[0]/2), round(black[1]/2))\n",
    "    #print (margin, bbox, min,factor,size,org_size)\n",
    "    #print(bbox[0][0] - margin[0],bbox[0][1], bbox[1][0] - margin[0],bbox[1][1]  )\n",
    "    #print((round((bbox[0][0] - margin[0]) * factor[0] ) + min[0], round(bbox[0][1] * factor[1])+ min[1]) ,  (round((bbox[1][0] - margin[0]) * factor[0] )+ min[0],  round(bbox[1][1] * factor[1])+ min[1]))    \n",
    "    #print((((bbox[0][0] - margin[0]) * factor[0] ) + min[0], (bbox[0][1] * factor[1])+ min[1]) ,  (((bbox[1][0] - margin[0]) * factor[0] )+ min[0],  (bbox[1][1] * factor[1])+ min[1]))    \n",
    "    return (round((bbox[0][0] - margin[0]) * factor[0] ) + min[0], round(bbox[0][1] * factor[1])+ min[1]) ,  (round((bbox[1][0] - margin[0]) * factor[0] )+ min[0],  round(bbox[1][1] * factor[1])+ min[1])    \n",
    "\n",
    "def add_poses_to_dataframe_pipeline(df,_key,_poses,size=(1280,720),black=None,min=(0,0),max=(1279,719)): \n",
    "    for _pose in _poses:\n",
    "        #_time = time.localtime(_pose.time_seconds)\n",
    "        #print(_pose.bbox)\n",
    "        _grid_box = bbox_to_grid(bbox=_pose.bbox,min=_pose.min,max=_pose.max,size=size,black=black)\n",
    "        org_pose_bbox=((_pose.bbox[0][0],_pose.bbox[0][1]),(_pose.bbox[1][0],_pose.bbox[1][1]))\n",
    "        df.loc[len(df.index)] = [_key,_pose.size,(_pose.min,_pose.max),org_pose_bbox,_pose.pose.score,_grid_box, None,_pose]\n",
    "\n",
    "def empty_poses_dataframe_pipeline():     \n",
    "    df = pd.DataFrame(columns = ['key','size','grid_box','org_grid_box','score', 'bbox','framecount','pose' ])\n",
    "    return df\n"
   ]
  },
  {
   "cell_type": "code",
   "execution_count": null,
   "metadata": {},
   "outputs": [],
   "source": [
    "#app=_app\n",
    "_keypoints=app._tab._widgets[4].result['poses'][0].keypoints\n",
    "_score=app._tab._widgets[4].result['poses'][0].score\n",
    "_bbox=app._tab._widgets[4].result['bboxes'][0]\n",
    "_poses=[PoseBox(keypoints=[_keypoints,_score],bbox=_bbox,min=(0,0),max=(1280,720))]"
   ]
  },
  {
   "cell_type": "code",
   "execution_count": null,
   "metadata": {},
   "outputs": [],
   "source": [
    "#app._tab._widgets[0].__dict__\n",
    "#app._tab._widgets[0].result['image']['image']\n",
    "#app._tab.displayWidget.image['image']._size\n",
    "_crop_image = app._tab.evaluateWidgetActionList(end=2, image=app._tab.displayWidget.image  )['image']        \n",
    "_black = app._tab._widgets[2].action.black_area_size(image=_crop_image)  "
   ]
  },
  {
   "cell_type": "code",
   "execution_count": null,
   "metadata": {},
   "outputs": [],
   "source": [
    "#_image_tool = PoseImageTool(image=app._tab.displayWidget.image['image'])\n",
    "df=empty_poses_dataframe_pipeline()\n",
    "add_poses_to_dataframe_pipeline(df,'Sport',_poses,black=_black)"
   ]
  },
  {
   "cell_type": "code",
   "execution_count": null,
   "metadata": {},
   "outputs": [],
   "source": [
    "df"
   ]
  },
  {
   "cell_type": "markdown",
   "metadata": {},
   "source": [
    "### Box resize ##"
   ]
  },
  {
   "cell_type": "code",
   "execution_count": null,
   "metadata": {},
   "outputs": [],
   "source": [
    "#df.iloc[0]['org_grid_box']\n",
    "#app._tab.displayWidget.image['image'].size\n",
    "#app._tab._widgets[4].result['image'].size\n",
    "#_black"
   ]
  },
  {
   "cell_type": "code",
   "execution_count": null,
   "metadata": {},
   "outputs": [],
   "source": [
    "_size=image=_image.size\n",
    "_box = bbox_to_grid(bbox=df.iloc[0]['org_grid_box'],min=(0,0),max=(1280,720), size=_size, black=_black)\n",
    "#_image_tool=PoseImageTool(image=app._tab.displayWidget.image['image'])\n",
    "_image_tool=PoseImageTool(image=_image)\n",
    "_image_tool.drawBBox(_box,color='green',width=1)\n",
    "_image_tool.image"
   ]
  },
  {
   "cell_type": "markdown",
   "metadata": {},
   "source": [
    "### Squaterkennung ##"
   ]
  },
  {
   "cell_type": "code",
   "execution_count": null,
   "metadata": {},
   "outputs": [],
   "source": [
    "def resizeSkeletonPoint(point=None,min=(0,0),max=None, size=(162, 181), black=(211,0)):\n",
    "    size_x = max[0] - min[0]\n",
    "    size_y = max[1] - min[1]\n",
    "    org_size=(641 - black[0],481  - black[1])\n",
    "    factor = size[0] / org_size[0], size[1] / org_size[1]\n",
    "    margin = (round(black[0]/2), round(black[1]/2))\n",
    "    return (round((point[0] - margin[0]) * factor[0] ) + min[0], round(point[1] * factor[1])+ min[1]) \n"
   ]
  },
  {
   "cell_type": "code",
   "execution_count": null,
   "metadata": {},
   "outputs": [],
   "source": [
    "def get_resized_SkeletonPoints(self,names=None,min=None,max=None,size=None,black=None): #spart quasi Schreibarbeit\n",
    "    points=[]\n",
    "    for name in names:\n",
    "        points.append(resizeSkeletonPoint(point=self.xys[name],min=min,max=max,size=size,black=black))\n",
    "    return points"
   ]
  },
  {
   "cell_type": "code",
   "execution_count": null,
   "metadata": {},
   "outputs": [],
   "source": [
    "def addSkeletonSquat(self,pose=None, color='red',width=1,min=(0,0),max=None,size=None,black=None): #nur für einzelne Keypoints\n",
    "    self.xys = self.get_xys(pose=pose)\n",
    "    \n",
    "    points=get_resized_SkeletonPoints(self,names=['right shoulder','right ankle','right knee','right hip'],min=min,max=max,size=size,black=black)\n",
    "    \n",
    "    #resizeSkeletonPoint(point=self.xys['right shoulder'],min=min,max=max,size=size,black=black),\n",
    "    #resizeSkeletonPoint(point=self.xys['right ankle'],min=min,max=max,size=_size,black=_black),\n",
    "    #resizeSkeletonPoint(point=self.xys['right knee'],min=min,max=max,size=_size,black=_black),\n",
    "    #resizeSkeletonPoint(point=self.xys['right hip'],min=min,max=max,size=_size,black=_black)\n",
    "            \n",
    "    self.drawLine(points[0][0],points[0][1],points[3][0],points[3][1],color=color,width=width)\n",
    "    self.drawLine(points[3][0],points[3][1],points[2][0],points[2][1],color=color,width=width)\n",
    "    self.drawLine(points[2][0],points[2][1],points[1][0],points[1][1],color=color,width=width)  \n",
    "    #print(self.xys['left shoulder'][2])\n"
   ]
  },
  {
   "cell_type": "code",
   "execution_count": null,
   "metadata": {},
   "outputs": [],
   "source": [
    "for i in range(0, len(df.index)):\n",
    "#for i in range(0, 1):\n",
    "    #_image_tool.drawBBox(df.iloc[i]['org_grid_box'])\n",
    "    #_image_tool.drawBBox(df.iloc[i]['bbox'], color='red') \n",
    "    _rowb=df.iloc[i]\n",
    "    addSkeletonSquat(_image_tool,pose=_rowb['pose'].pose, color='red',width=1,min=_rowb['pose'].min,max=_rowb['pose'].max,size=_size,black=_black)\n",
    "    #addSkeleton(_image_tool,pose=_rowb['pose'].pose, color='red',width=1,min=_rowb['pose'].min,max=_rowb['pose'].max)"
   ]
  },
  {
   "cell_type": "code",
   "execution_count": null,
   "metadata": {},
   "outputs": [],
   "source": [
    "_image_tool.image"
   ]
  },
  {
   "cell_type": "code",
   "execution_count": null,
   "metadata": {},
   "outputs": [],
   "source": [
    "def standing(self,pose=None,width=1,min=(0,0),max=None,size=None,black=None): #aufrecht stehend ?\n",
    "    self.xys = self.get_xys(pose=pose)\n",
    "    truth=0\n",
    "    \n",
    "    points=get_resized_SkeletonPoints(self,names=['right shoulder','right ankle','right knee','right hip'],min=min,max=max,size=size,black=black)\n",
    "    \n",
    "    vshx=points[3][0]-points[0][0] # v schulter zu Hüfte\n",
    "    vshy=points[3][1]-points[0][1]\n",
    "    \n",
    "    vhkx=points[2][0]-points[3][0]# v Hüfte zu Knie\n",
    "    vhky=points[2][1]-points[3][1]\n",
    "    \n",
    "    vkkx=points[1][0]-points[2][0]# v Knie zu Knöchel\n",
    "    vkky=points[1][1]-points[2][1]\n",
    "    \n",
    "    factorshhk=vshy/vhky #um die Vektoren Schulter zu Hüfte und Hüfte zu Knie\n",
    "    vhkyresized=vhky*factorshhk\n",
    "    vhkxresized=vhkx*factorshhk\n",
    "    \n",
    "    xdiff=vshx-vhkxresized\n",
    "    ydiff=vshy-vhkyresized #kontrolle, ydiff müsste 0 betragen\n",
    "    \n",
    "    xdiff=abs(xdiff)\n",
    "    #print(ydiff)\n",
    "    print(xdiff)\n",
    "   \n",
    "    if xdiff<=50: #referenzwerte vom Aufrechtstehen raussuchen (Frame 763) (40)\n",
    "        truth=truth+2\n",
    "    if 50<xdiff<60:#größere Zahl bis wohin die Abweichung noch vertretbar ist (Frame 729) 60 \n",
    "        truth=truth+1\n",
    "    if xdiff>60:#entsprechende Zahl???\n",
    "        truth=truth-10\n",
    "        \n",
    "\n",
    "    factorhkkk=vhky/vkky #um die Vektoren Hüfte zu Knie und Knie zu Knöchel\n",
    "    vkkyresized=vkky*factorhkkk\n",
    "    vkkxresized=vkkx*factorhkkk\n",
    "    \n",
    "    xdiff1=vhkx-vkkxresized\n",
    "    ydiff1=vhky-vkkyresized #kontrolle, ydiff müsste 0 betragen\n",
    "    \n",
    "    xdiff1=abs(xdiff1)\n",
    "    print(xdiff1)\n",
    "    \n",
    "    if xdiff1<=20: #referenzwerte vom Aufrechtstehen raussuchen oder 15 F763\n",
    "        truth=truth+2\n",
    "    if 20<xdiff1<50: #größere Zahl bis wohin die Abweichung noch vertretbar ist kleiner 84 !\n",
    "        truth=truth+1\n",
    "    if xdiff1>50: #entsprechende Zahl\n",
    "        truth=truth-10\n",
    "        \n",
    "    '''      \n",
    "    factorshkk=vshy/vkky #um die Vektoren Schulter zu Hüfte und Knie zu Knöchel\n",
    "    vkkyresized1=vkky*factorshkk\n",
    "    vkkxresized1=vkkx*factorshkk\n",
    "    \n",
    "    xdiff2=vshx-vkkxresized\n",
    "    ydiff2=vshy-vkkyresized #kontrolle, ydiff müsste 0 betragen\n",
    "    \n",
    "    xdiff2=abs(xdiff2)\n",
    "    print(xdiff2)\n",
    " \n",
    "    if xdiff2>45:#referenzwerte vom Aufrechtstehen raussuchen \n",
    "        truth=truth+1\n",
    "    if xdiff2>30:#größere Zahl bis wohin die Abweichung noch vertretbar nicht zuverlässig\n",
    "        truth=truth \n",
    "    if xdiff2<30: #entsprechende Zahl ???\n",
    "        truth=truth-10\n",
    "        \n",
    "    '''       \n",
    "    if(truth>=2):\n",
    "        print('Standing')\n",
    "        print(truth)\n",
    "        return True\n",
    "    else:\n",
    "        print(truth)\n",
    "        return False\n",
    "  "
   ]
  },
  {
   "cell_type": "code",
   "execution_count": null,
   "metadata": {},
   "outputs": [],
   "source": [
    "standing(_image_tool,pose=_rowb['pose'].pose, width=1,min=_rowb['pose'].min,max=_rowb['pose'].max,size=_size,black=_black)"
   ]
  },
  {
   "cell_type": "code",
   "execution_count": null,
   "metadata": {},
   "outputs": [],
   "source": [
    "def betragVektor(x,y): #x und y sind die jeweiligen Komponenten des Vektors\n",
    "    #print(x,y)\n",
    "    x=x*x\n",
    "    y=y*y\n",
    "    #print(x,y)\n",
    "    return math.sqrt(x+y)"
   ]
  },
  {
   "cell_type": "code",
   "execution_count": null,
   "metadata": {},
   "outputs": [],
   "source": [
    "distanceStanding=0\n",
    "def vergleichswert(self,pose=None,width=1,min=(0,0),max=None,size=None,black=None): #Optimierung: nicht nur ein Wert sondern Mittelwert nehmen\n",
    "    self.xys = self.get_xys(pose=pose)\n",
    "    points=get_resized_SkeletonPoints(self,names=['right shoulder','right ankle','right knee','right hip'],min=min,max=max,size=size,black=black)\n",
    "    vshx=points[3][0]-points[0][0]\n",
    "    vshy=points[3][1]-points[0][1]\n",
    "    #print(vshx,vshy)\n",
    "    if standing(_image_tool,pose=_rowb['pose'].pose, width=1,min=_rowb['pose'].min,max=_rowb['pose'].max,size=_size,black=_black)==True: #?\n",
    "        global distanceStanding\n",
    "        distanceStanding=betragVektor(vshx,vshy)\n",
    "        return distanceStanding "
   ]
  },
  {
   "cell_type": "code",
   "execution_count": null,
   "metadata": {},
   "outputs": [],
   "source": [
    "vergleichswert(_image_tool,pose=_rowb['pose'].pose, width=1,min=_rowb['pose'].min,max=_rowb['pose'].max,size=_size,black=_black)"
   ]
  },
  {
   "cell_type": "code",
   "execution_count": null,
   "metadata": {},
   "outputs": [],
   "source": [
    "distanceStanding \n",
    "#Frame 754: 145\n",
    "distanceStanding=125"
   ]
  },
  {
   "cell_type": "code",
   "execution_count": null,
   "metadata": {},
   "outputs": [],
   "source": [
    "def squat(self,pose=None,width=1,min=(0,0),max=None,size=None,black=None):\n",
    "    self.xys = self.get_xys(pose=pose)\n",
    "    score=0\n",
    "   \n",
    "    #points=resizeSkeletonPoint(point=self.xys['right shoulder'],min=min,max=max),resizeSkeletonPoint(point=self.xys['right ankle'],min=min,max=max),resizeSkeletonPoint(point=self.xys['right knee'],min=min,max=max),resizeSkeletonPoint(point=self.xys['right hip'],min=min,max=max)\n",
    "    points=get_resized_SkeletonPoints(self,names=['right shoulder','right ankle','right knee','right hip'],min=min,max=max,size=size,black=black)\n",
    "    vshx=points[3][0]-points[0][0] # v schulter zu Hüfte\n",
    "    vshy=points[3][1]-points[0][1]\n",
    "    \n",
    "    vhkx=points[2][0]-points[3][0]# v Hüfte zu Knie\n",
    "    vhky=points[2][1]-points[3][1]\n",
    "    \n",
    "    vkkx=points[1][0]-points[2][0]# v Knie zu Knöchel\n",
    "    vkky=points[1][1]-points[2][1]\n",
    "    \n",
    "    \n",
    "    #Hüfte tiefer als Knie\n",
    "    print(vhky)\n",
    "    print(vhky)\n",
    "    print(vhky)\n",
    "    \n",
    "    if vhky<=11: #muss unbedingt erfüllt sein (optional zweite Squatvariante mit Winkel kleiner 90 Grad) Frame 741 oder 362 umgekehrtes Koordinatensystem bedenken!!!\n",
    "        print('Squat')\n",
    "        score=score+10 #gesamt Squat Score\n",
    "    \n",
    "        #gerader Rücken\n",
    "        distanceSquat=betragVektor(vshx,vshy) \n",
    "        print(distanceSquat) #175 Frame 362\n",
    "        difference=distanceStanding-distanceSquat # zwischen 362 und 754 30 unterschied-> Grenzwert\n",
    "        print(difference)\n",
    "        \n",
    "        if abs(difference)< 30:#Messungenauigkeit bestimmen \n",
    "            score=score+10\n",
    "        if abs(difference)> 30:#Grenzwert einfügen\n",
    "            print('Rücken strecken')\n",
    "            \n",
    "        #Knie nicht zu weit vorne ?\n",
    "        '''\n",
    "        \n",
    "        #Rücken parallel Schienbein\n",
    "\n",
    "        factorshkk=vshy/vkky #um die Vektoren Schulter zu Hüfte und Knie zu Knöchel\n",
    "        vkkyresized1=vkky*factorshkk\n",
    "        vkkxresized1=vkkx*factorshkk\n",
    "\n",
    "        xdiff2=vshx-vkkxresized\n",
    "        ydiff2=vshy-vkkyresized #kontrolle, ydiff müsste 0 betragen\n",
    "\n",
    "        xdiff2abs=abs(xdiff2)\n",
    "        print(xdiff2)\n",
    "\n",
    "        if xdiff2abs< #referenzwerte vom Aufrechtstehen raussuchen\n",
    "            score=score+10\n",
    "        if 0<xdiff2< #größere Zahl bis wohin die Abweichung noch vertretbar ist\n",
    "            score=score+5\n",
    "            print('leicht zurücklehnen')\n",
    "        if 0>xdiff2> #kleinere Zahl bis wohin die Abweichung noch vertretbar ist\n",
    "            score=score+5\n",
    "            print('leicht nach vorne lehnen')\n",
    "        if >xdiff2 #entsprechende Zahlen einfügen die neg extremwerte\n",
    "            print('nach vorne lehnen!')\n",
    "        if <xdiff2 #entsprechende Zahlen einfügen die pos extremwerte\n",
    "            print('nach hinten lehnen!')\n",
    "\n",
    "        \n",
    "        print(score)\n",
    "        if score==25:\n",
    "            print('good Squat')\n",
    "        if score==30:\n",
    "            print('very good Squat')\n",
    "        return True\n",
    "        '''"
   ]
  },
  {
   "cell_type": "code",
   "execution_count": null,
   "metadata": {},
   "outputs": [],
   "source": [
    "squat(_image_tool,pose=_rowb['pose'].pose, width=1,min=_rowb['pose'].min,max=_rowb['pose'].max,size=_size,black=_black)"
   ]
  },
  {
   "cell_type": "code",
   "execution_count": null,
   "metadata": {},
   "outputs": [],
   "source": [
    "#Squatcounter"
   ]
  },
  {
   "cell_type": "code",
   "execution_count": null,
   "metadata": {},
   "outputs": [],
   "source": [
    "#_image_tool=PoseImageTool(image=app._tab._widgets[4].result['image'])\n",
    "#_image_tool.drawBBox(df.iloc[0]['org_grid_box'],color='red',width=1)\n",
    "#_image_tool=PoseImageTool(image=app._tab.displayWidget.image['image'])\n",
    "#_image_tool.drawBBox(df.iloc[0]['org_grid_box'],color='red',width=1)\n",
    "#_image_tool.drawBBox(_box,color='blue',width=1)\n",
    "#_image_tool.drawBBox( ((103,66),( 222, 417)),color='green',width=1)\n",
    "#_image_tool.drawPoint(103,66,5,'red')\n",
    "#_image_tool.image"
   ]
  },
  {
   "cell_type": "code",
   "execution_count": null,
   "metadata": {},
   "outputs": [],
   "source": [
    "#app._tab._widgets[4].result['bboxes'][0]\n",
    "\n",
    "#_image_tool=PoseImageTool(image=app._tab._widgets[4].result['image'])\n",
    "#_image_tool=PoseImageTool(image=app._tab.displayWidget.image['image'])\n",
    "#_image_tool.drawBBox(df.iloc[0]['bbox'],color='white',width=1)\n",
    "\n",
    "#app._tab._widgets[4].result['image']._size\n",
    "\n",
    "#_image_tool.drawPoint(_black[0]/2,10,5,'red')\n",
    "#_image_tool.image"
   ]
  },
  {
   "cell_type": "markdown",
   "metadata": {},
   "source": [
    "## Posen ##"
   ]
  },
  {
   "cell_type": "code",
   "execution_count": null,
   "metadata": {},
   "outputs": [],
   "source": [
    "_key='HpdO5Kq3o7Y'\n",
    "_images_path = '/home/jovyan/test2/' + _key\n",
    "_image_filenames = listdirectory(_images_path)\n",
    "\n",
    "_image_timestamps=[]\n",
    "for _filename in _image_filenames:\n",
    "    _splits = _filename.split('_') \n",
    "    _ts2 = _splits[len(_splits)-3]\n",
    "    _image_timestamps.append(_ts2)"
   ]
  },
  {
   "cell_type": "code",
   "execution_count": null,
   "metadata": {},
   "outputs": [],
   "source": [
    "len(_image_timestamps)"
   ]
  },
  {
   "cell_type": "code",
   "execution_count": null,
   "metadata": {},
   "outputs": [],
   "source": [
    "def bbox_to_grid(bbox=None,min=(0,0),max=None, size=(162, 181), black=(211,0)):\n",
    "    size_x = max[0] - min[0]\n",
    "    size_y = max[1] - min[1]\n",
    "    org_size=(641 - black[0],481  - black[1])\n",
    "    factor = size[0] / org_size[0], size[1] / org_size[1]\n",
    "    margin = (round(black[0]/2), round(black[1]/2))\n",
    "    return (round((bbox[0][0] - margin[0]) * factor[0] ) + min[0], round(bbox[0][1] * factor[1])+ min[1]) ,  (round((bbox[1][0] - margin[0]) * factor[0] )+ min[0],  round(bbox[1][1] * factor[1])+ min[1])    \n",
    "    "
   ]
  },
  {
   "cell_type": "code",
   "execution_count": null,
   "metadata": {},
   "outputs": [],
   "source": [
    "_poses_path='../data/pose_boxes_2/'\n",
    "\n",
    "def _order(x):\n",
    "    return x.time_seconds\n",
    "\n",
    "def add_poses_to_dataframe(df,_key,_filename,_poses,size=(162, 181),black=(211,0)):\n",
    "    for _pose in _poses:\n",
    "        #_time = time.localtime(_pose.time_seconds)\n",
    "        _tdeime = time.localtime(_filename.time_seconds)\n",
    "        #print(_pose.bbox)\n",
    "        _grid_box = bbox_to_grid(bbox=_pose.bbox,min=_pose.min,max=_pose.max,size=size,black=black)\n",
    "        org_pose_bbox=((_pose.bbox[0][0],_pose.bbox[0][1]),(_pose.bbox[1][0],_pose.bbox[1][1]))\n",
    "        df.loc[len(df.index)] = [_key,_pose.size,(_pose.min,_pose.max),org_pose_bbox,int(_filename.x),_filename.y,'person',_pose.pose.score,_grid_box, None,_filename.time_seconds,_time.tm_year,_time.tm_mon,_time.tm_mday,_time.tm_hour, _time.tm_min, _time.tm_sec,_pose]\n",
    "\n",
    "def empty_poses_dataframe():     \n",
    "    df = pd.DataFrame(columns = ['key','size','grid_box','org_grid_box','x', 'y', 'id', 'score', 'bbox', 'inference_time', 'time_seconds','year','month','day','hour','min','sec','pose' ])\n",
    "    change_column_type(df,['x','y','year','month','day','hour','min','sec'],int)\n",
    "    return df\n",
    "        \n",
    "_pose_filenames = sorted(filter_filenames(list=list_filenames(path=_poses_path), key=_key),key=_order)\n",
    "df=empty_poses_dataframe()\n",
    "\n",
    "#for _time_seconds in _image_timestamps:\n",
    "for _time_seconds in _image_timestamps[:100]:\n",
    "    _pose_filenames_timestamp   = filter_filenames(list=_pose_filenames,  time_seconds=_time_seconds)\n",
    "\n",
    "    for _filename in _pose_filenames_timestamp:\n",
    "        _poses = get_poses_for_filename(_poses_path,_filename)\n",
    "        add_poses_to_dataframe(df,_key,_filename,_poses)"
   ]
  },
  {
   "cell_type": "code",
   "execution_count": null,
   "metadata": {},
   "outputs": [],
   "source": [
    "df.loc[0]"
   ]
  },
  {
   "cell_type": "code",
   "execution_count": null,
   "metadata": {},
   "outputs": [],
   "source": [
    "len(pd.unique(df['time_seconds']))"
   ]
  },
  {
   "cell_type": "code",
   "execution_count": null,
   "metadata": {},
   "outputs": [],
   "source": [
    "def addSkeleton(self,pose=None, color='red',width=1,min=(0,0),max=None):\n",
    "    self.xys = self.get_xys(pose=pose)\n",
    "    for a, b in EDGES:\n",
    "        if a not in self.xys or b not in self.xys: continue\n",
    "        ax, ay = self.xys[a][0],self.xys[a][1]\n",
    "        bx, by = self.xys[b][0],self.xys[b][1]\n",
    "        ax,ay=resizeSkeletonPoint(point=(ax,ay),min=min,max=max)\n",
    "        bx,by=resizeSkeletonPoint(point=(bx,by),min=min,max=max)\n",
    "        \n",
    "        \n",
    "        \n",
    "        self.drawLine(ax,ay,bx,by,color=color,width=width)\n",
    "#skalieren,Zeitplan,ersteSchritte->Fragen        "
   ]
  },
  {
   "cell_type": "code",
   "execution_count": null,
   "metadata": {},
   "outputs": [],
   "source": [
    "def addSkeletonSpecific(self,pose=None, color='red',width=1,min=(0,0),max=None): #nur für einzelne Keypoints\n",
    "    self.xys = self.get_xys(pose=pose)\n",
    "    \n",
    "    points=resizeSkeletonPoint(point=self.xys['left shoulder'],min=min,max=max),resizeSkeletonPoint(point=self.xys['left elbow'],min=min,max=max),resizeSkeletonPoint(point=self.xys['left wrist'],min=min,max=max)\n",
    "            \n",
    "    self.drawLine(points[0][0],points[0][1],points[1][0],points[1][1],color=color,width=width)\n",
    "    self.drawLine(points[1][0],points[1][1],points[2][0],points[2][1],color=color,width=width)\n",
    "    print(self.xys['left shoulder'][2])\n",
    "    #über Scores filtern?!"
   ]
  },
  {
   "cell_type": "code",
   "execution_count": null,
   "metadata": {},
   "outputs": [],
   "source": [
    "def resizeSkeletonPoint(point=None,min=(0,0),max=None, size=(162, 181), black=(211,0)):\n",
    "    size_x = max[0] - min[0]\n",
    "    size_y = max[1] - min[1]\n",
    "    org_size=(641 - black[0],481  - black[1])\n",
    "    factor = size[0] / org_size[0], size[1] / org_size[1]\n",
    "    margin = (round(black[0]/2), round(black[1]/2))\n",
    "    return (round((point[0] - margin[0]) * factor[0] ) + min[0], round(point[1] * factor[1])+ min[1]) \n"
   ]
  },
  {
   "cell_type": "code",
   "execution_count": null,
   "metadata": {},
   "outputs": [],
   "source": [
    "def draw_dataframe_grid_pose_image(_image_tool,df):\n",
    "    for _box in pd.unique(df['grid_box']):    \n",
    "        _image_tool.drawBBox(_box)    \n",
    "        _row = df[df['grid_box'] == _box].iloc[0]\n",
    "       \n",
    "        _min=_row['grid_box'][0]\n",
    "        _max=_row['grid_box'][1]\n",
    "        fontsize=40\n",
    "        _image_tool.drawText(str(_row['y']) + '_' + str(_row['x']) , _min[0], _max[1] - 50,fontsize, color='white')\n",
    "        \n",
    "    for i in range(0, len(df.index)):\n",
    "    #for i in range(0, 1):\n",
    "        #_image_tool.drawBBox(df.iloc[i]['org_grid_box'])\n",
    "        #_image_tool.drawBBox(df.iloc[i]['bbox'], color='red') \n",
    "        _rowb=df.iloc[i]\n",
    "        \n",
    "        addSkeletonSpecific(_image_tool,pose=_rowb['pose'].pose, color='red',width=1,min=_rowb['pose'].min,max=_rowb['pose'].max)\n",
    "        #addSkeleton(_image_tool,pose=_rowb['pose'].pose, color='red',width=1,min=_rowb['pose'].min,max=_rowb['pose'].max)"
   ]
  },
  {
   "cell_type": "code",
   "execution_count": null,
   "metadata": {},
   "outputs": [],
   "source": [
    "fdf"
   ]
  },
  {
   "cell_type": "code",
   "execution_count": null,
   "metadata": {},
   "outputs": [],
   "source": [
    "_time_seconds=pd.unique(df['time_seconds'])[1]\n",
    "fdf = df[(df['score'] > 0.0) & (df['time_seconds'] == _time_seconds)]\n",
    "\n",
    "_path='/home/jovyan/test2/HpdO5Kq3o7Y'\n",
    "_filename=get_filename_which_contains(_path,_time_seconds)  \n",
    "_image_path=_path+'/'+_filename\n",
    "_image_tool = PoseImageTool(filename=_image_path)\n",
    "draw_dataframe_grid_pose_image(_image_tool,fdf)\n",
    "\n",
    "\n"
   ]
  },
  {
   "cell_type": "code",
   "execution_count": null,
   "metadata": {},
   "outputs": [],
   "source": [
    "_image_tool.image"
   ]
  },
  {
   "cell_type": "markdown",
   "metadata": {},
   "source": [
    "## Streams"
   ]
  },
  {
   "cell_type": "code",
   "execution_count": null,
   "metadata": {},
   "outputs": [],
   "source": [
    "#df=pd.read_json('/home/jovyan/HpdO5Kq3o7Y_test.json')\n",
    "df=pd.read_json('/home/jovyan/HpdO5Kq3o7Y_1.json')\n",
    "df['grid_box']=df['grid_box'].apply(lambda x:(((x[0][0],x[0][1]),(x[1][0],x[1][1]))))\n",
    "df['size']=df['size'].apply(lambda x:(x[0],x[1]))\n",
    "df['bbox']=df['bbox'].apply(lambda x:(((x[0][0],x[0][1]),(x[1][0],x[1][1]))))"
   ]
  },
  {
   "cell_type": "code",
   "execution_count": null,
   "metadata": {},
   "outputs": [],
   "source": [
    "_time_seconds = pd.unique(df['time_seconds'])[0]"
   ]
  },
  {
   "cell_type": "code",
   "execution_count": null,
   "metadata": {},
   "outputs": [],
   "source": [
    "#_image_path = '/home/jovyan/work/data4/tokyo/HpdO5Kq3o7Y/HpdO5Kq3o7Y_5_1643360687.8661613_Jan-28-09:04:47-2022_.png'\n",
    "fdf = df[(df['score'] > 0.3) & (df['id'] == 'person') & (df['time_seconds'] == _time_seconds)]"
   ]
  },
  {
   "cell_type": "code",
   "execution_count": null,
   "metadata": {},
   "outputs": [],
   "source": [
    "fdf\n",
    "#a=fdf['grid_box'][0]"
   ]
  },
  {
   "cell_type": "code",
   "execution_count": null,
   "metadata": {},
   "outputs": [],
   "source": [
    "#_path='/home/jovyan/test/HpdO5Kq3o7Y'\n",
    "_path='/home/jovyan/test2/HpdO5Kq3o7Y'\n",
    "_filename=get_filename_which_contains(_path,_time_seconds)  \n",
    "_image_path=_path+'/'+_filename\n",
    "_image_tool = ImageTool(filename=_image_path)\n",
    "draw_dataframe_grid_image(_image_tool,fdf)"
   ]
  },
  {
   "cell_type": "code",
   "execution_count": null,
   "metadata": {},
   "outputs": [],
   "source": [
    "_image_tool.image"
   ]
  },
  {
   "cell_type": "code",
   "execution_count": null,
   "metadata": {},
   "outputs": [],
   "source": [
    "hf=create_empty_dataframe()\n",
    "for y in range(0,6):\n",
    "    for x in range(0,12):\n",
    "        hf.loc[y,x]=len(fdf[(fdf['y']==y) &  (fdf['x']==x)])\n",
    "\n",
    "_image = Image.open(open(_image_path, 'rb'))\n",
    "\n",
    "_overlay_image=create_heatmap_overlay(image=_image,figsize=(19.2,10.8),dataframe=hf,annot=True,alpha=0.4,vmin=0,vmax=8)    \n",
    "\n",
    "\n",
    "_overlay_image"
   ]
  },
  {
   "cell_type": "markdown",
   "metadata": {},
   "source": [
    "## Work 0"
   ]
  },
  {
   "cell_type": "code",
   "execution_count": null,
   "metadata": {},
   "outputs": [],
   "source": [
    "_key='HpdO5Kq3o7Y'\n",
    "_poses_path='../data/pose_boxes'\n",
    "_app=_app_test\n",
    "def _order(x):\n",
    "    return x.time_seconds\n",
    "\n",
    "#_key = list(_object_timestamps.keys())[1]\n",
    "_pose_filenames = sorted(filter_filenames(list=list_filenames(path=_poses_path), key=_key),key=_order)\n",
    "loadVideo(app=_app,key='/home/jovyan/test/'+_key,filename='../data/images/box_bookmarks_6_12/images_'+_key+'.json',index=5)\n"
   ]
  },
  {
   "cell_type": "code",
   "execution_count": null,
   "metadata": {},
   "outputs": [],
   "source": [
    "_timeseconds=[]\n",
    "for pose_filename in _pose_filenames:\n",
    "    if pose_filename.time_seconds not in _timeseconds:\n",
    "        _timeseconds.append(pose_filename.time_seconds)"
   ]
  },
  {
   "cell_type": "code",
   "execution_count": null,
   "metadata": {},
   "outputs": [],
   "source": [
    "len(_timeseconds)\n",
    "pose_filenames_timeseconds=filter_filenames(list=_pose_filenames,time_seconds=_timeseconds[10])\n",
    "pose_filenames_timeseconds[0].__dict__"
   ]
  },
  {
   "cell_type": "code",
   "execution_count": null,
   "metadata": {},
   "outputs": [],
   "source": [
    "def counts_in_dataframe(path='', timestamp='',key=None):\n",
    "    dataframe=create_empty_dataframe()\n",
    "    for filename in listdir(path):\n",
    "        if filename[0]!='.':\n",
    "            boxpath = BoxPath(filename=filename)\n",
    "            if boxpath.key==key:\n",
    "                Box=load_data(filename=filename, path=path)\n",
    "                count=Box[2]\n",
    "                dataframe.loc[boxpath.y,boxpath.x]=count\n",
    "    return dataframe.apply(pd.to_numeric)\n",
    "\n"
   ]
  },
  {
   "cell_type": "code",
   "execution_count": null,
   "metadata": {},
   "outputs": [],
   "source": [
    "pose_filenames_timeseconds=filter_filenames(list=_pose_filenames,time_seconds=_timeseconds[10])\n",
    "\n",
    "def counts_in_dataframe_timeseconds(list=None):\n",
    "\n",
    "    dataframe=create_empty_dataframe()\n",
    "    for filename in list:\n",
    "        Box=load_data(filename=filename.filename(), path=_poses_path)\n",
    "        count=Box[2]\n",
    "        dataframe.loc[filename.y,filename.x]=count\n",
    "    return dataframe\n",
    "\n",
    "for timesecond in _timeseconds:\n",
    "    pose_filenames_timeseconds=filter_filenames(list=_pose_filenames,time_seconds=timesecond)\n",
    "    dataframe=counts_in_dataframe_timeseconds(list=pose_filenames_timeseconds)\n",
    "    create_heatmap(dataframe,title=pose_filenames_timeseconds[0].key+' '+str(pose_filenames_timeseconds[0].asctime()),vmax=10)"
   ]
  },
  {
   "cell_type": "code",
   "execution_count": null,
   "metadata": {},
   "outputs": [],
   "source": [
    "def count_and_add_dataframe_timeseconds(list=None):\n",
    "    result=create_empty_dataframe()\n",
    "    for dataframe in list:\n",
    "        for y in range(0,6):\n",
    "            for x in range(0,12):\n",
    "                result.loc[y,x]=result.loc[y,x]+dataframe.loc[y,x]  \n",
    "    return result\n",
    "    \n",
    "dataframes=[]\n",
    "for timesecond in _timeseconds:\n",
    "    \n",
    "    pose_filenames_timeseconds=filter_filenames(list=_pose_filenames,time_seconds=timesecond)\n",
    "    dataframe=counts_in_dataframe_timeseconds(list=pose_filenames_timeseconds)\n",
    "    dataframes.append(dataframe)\n",
    "dataframe=count_and_add_dataframe_timeseconds(list=dataframes)\n",
    "create_heatmap(dataframe,title=pose_filenames_timeseconds[0].key+' '+str(pose_filenames_timeseconds[0].asctime()),vmax=40)"
   ]
  },
  {
   "cell_type": "code",
   "execution_count": null,
   "metadata": {},
   "outputs": [],
   "source": [
    "def count_and_add_dataframe_timeseconds(list=None):\n",
    "    result=create_empty_dataframe()\n",
    "    for dataframe in list:\n",
    "        for y in range(0,6):\n",
    "            for x in range(0,12):\n",
    "                result.loc[y,x]=result.loc[y,x]+dataframe.loc[y,x]  \n",
    "    return result"
   ]
  },
  {
   "cell_type": "code",
   "execution_count": null,
   "metadata": {},
   "outputs": [],
   "source": [
    "length=len(pd.unique(df['time_seconds']))\n",
    "_path='/home/jovyan/test2/HpdO5Kq3o7Y'\n",
    "df=pd.read_json('/home/jovyan/HpdO5Kq3o7Y_1.json')\n",
    "df['grid_box']=df['grid_box'].apply(lambda x:(((x[0][0],x[0][1]),(x[1][0],x[1][1]))))\n",
    "df['size']=df['size'].apply(lambda x:(x[0],x[1]))\n",
    "df['bbox']=df['bbox'].apply(lambda x:(((x[0][0],x[0][1]),(x[1][0],x[1][1]))))\n",
    "dataframes=[]\n",
    "\n",
    "for _time_seconds in pd.unique(df['time_seconds']):\n",
    "    fdf = df[(df['score'] > 0.3) & (df['id'] == 'person') & (df['time_seconds'] == _time_seconds)]\n",
    "    #_filename=get_filename_which_contains(_path,_time_seconds) \n",
    "    _image_path=_path+'/'+_filename  \n",
    "    \n",
    "    \n",
    "    hf=create_empty_dataframe()\n",
    "    for y in range(0,6):\n",
    "        for x in range(0,12):\n",
    "            hf.loc[y,x]=len(fdf[(fdf['y']==y) &  (fdf['x']==x)])\n",
    "    dataframes.append(hf)\n",
    "dataframe=count_and_add_dataframe_timeseconds(list=dataframes)\n",
    "create_heatmap(dataframe,vmax=100)"
   ]
  },
  {
   "cell_type": "code",
   "execution_count": null,
   "metadata": {},
   "outputs": [],
   "source": [
    "len(dataframes)\n",
    "create_heatmap(dataframe,vmax=1000)"
   ]
  },
  {
   "cell_type": "markdown",
   "metadata": {},
   "source": [
    "# Work"
   ]
  },
  {
   "cell_type": "code",
   "execution_count": null,
   "metadata": {},
   "outputs": [],
   "source": [
    "# init\n",
    "app=_app\n",
    "_video = app._tab._widgets[0]\n",
    "single_directory='../data/videos/single'\n",
    "result_directory='../data/videos/box_bookmarks_6_12'\n",
    "new=True"
   ]
  },
  {
   "cell_type": "markdown",
   "metadata": {},
   "source": [
    "## add videos"
   ]
  },
  {
   "cell_type": "code",
   "execution_count": null,
   "metadata": {},
   "outputs": [],
   "source": [
    "_filename = 'https://youtu.be/00s-daBWCZA'\n",
    "_key=_filename.split('/')[3]\n",
    "create_single_video_files(app,video_url_id_list=[(_key,_filename)])"
   ]
  },
  {
   "cell_type": "code",
   "execution_count": null,
   "metadata": {},
   "outputs": [],
   "source": [
    "create_all_box_bookmark_files(app=app)"
   ]
  },
  {
   "cell_type": "markdown",
   "metadata": {},
   "source": [
    "## count"
   ]
  },
  {
   "cell_type": "code",
   "execution_count": null,
   "metadata": {},
   "outputs": [],
   "source": [
    "get_and_save_all_bothboxes_with_data(app=app)"
   ]
  },
  {
   "cell_type": "code",
   "execution_count": null,
   "metadata": {},
   "outputs": [],
   "source": [
    "get_and_save_selected_boxes_with_data(app=app, directory='../data/videos/box_bookmarks_6_12',filename='video_LJ5wabMQ4Vk.json')\n",
    "get_and_save_selected_boxes_with_data(app=app, directory='../data/videos/box_bookmarks_6_12',filename='video_zTdTIpPiOnQ.json')\n",
    "get_and_save_selected_boxes_with_data(app=app, directory='../data/videos/box_bookmarks_6_12',filename='video_Cp4RRAEgpeU.json')\n",
    "get_and_save_selected_boxes_with_data(app=app, directory='../data/videos/box_bookmarks_6_12',filename='video_-Dla8twqg_U.json')\n",
    "get_and_save_selected_boxes_with_data(app=app, directory='../data/videos/box_bookmarks_6_12',filename='video_6We73xIdHy0.json')\n",
    "get_and_save_selected_boxes_with_data(app=app, directory='../data/videos/box_bookmarks_6_12',filename='video_G05wmWFDtSo.json')\n",
    "get_and_save_selected_boxes_with_data(app=app, directory='../data/videos/box_bookmarks_6_12',filename='video_JqUREqYduHw.json')\n",
    "get_and_save_selected_boxes_with_data(app=app, directory='../data/videos/box_bookmarks_6_12',filename='video_VXzeDtQHTZk.json')\n",
    "get_and_save_selected_boxes_with_data(app=app, directory='../data/videos/box_bookmarks_6_12',filename='video_VPpiOWbuv8.json')\n",
    "get_and_save_selected_boxes_with_data(app=app, directory='../data/videos/box_bookmarks_6_12',filename='video_AdUw5RdyZxI.json')\n",
    "get_and_save_selected_boxes_with_data(app=app, directory='../data/videos/box_bookmarks_6_12',filename='video_HpdO5Kq3o7Y.json')\n",
    "get_and_save_selected_boxes_with_data(app=app, directory='../data/videos/box_bookmarks_6_12',filename='video_LWMZETF0VQY.json')\n",
    "get_and_save_selected_boxes_with_data(app=app, directory='../data/videos/box_bookmarks_6_12',filename='video__Oh2hhAnihg.json')\n"
   ]
  },
  {
   "cell_type": "code",
   "execution_count": null,
   "metadata": {},
   "outputs": [],
   "source": [
    "app=_app2\n",
    "get_and_save_selected_objectboxes_with_data(app=app, directory='../data/videos/box_bookmarks_6_12',filename='video_LJ5wabMQ4Vk.json')\n",
    "get_and_save_selected_objectboxes_with_data(app=app, directory='../data/videos/box_bookmarks_6_12',filename='video_zTdTIpPiOnQ.json')\n",
    "get_and_save_selected_objectboxes_with_data(app=app, directory='../data/videos/box_bookmarks_6_12',filename='video_Cp4RRAEgpeU.json')"
   ]
  },
  {
   "cell_type": "markdown",
   "metadata": {},
   "source": [
    "## display videos"
   ]
  },
  {
   "cell_type": "code",
   "execution_count": null,
   "metadata": {},
   "outputs": [],
   "source": [
    "display_all_single_videos(app=app)"
   ]
  },
  {
   "cell_type": "markdown",
   "metadata": {},
   "source": [
    "## create heatmaps"
   ]
  },
  {
   "cell_type": "code",
   "execution_count": null,
   "metadata": {},
   "outputs": [],
   "source": [
    "_path = '../data/pose_boxes'\n",
    "_keys = get_keys_boxes_files(_path)\n",
    "_key=_keys[1]\n",
    "_timestamps=get_timestamps(path=_path,key=_key)\n",
    "_keys, _timestamps\n",
    "# _keys=['6We73xIdHy0',\n",
    "#  'JqUREqYduHw',\n",
    "# 'LJ5wabMQ4Vk',\n",
    "# 'zTdTIpPiOnQ',\n",
    "# 'vVyBOU9Huvo',\n",
    "# 'S4AG47F94Ss',\n",
    "# 'HpdO5Kq3o7Y',\n",
    "# 'AdUw5RdyZxI',\n",
    "# '-Dla8twqg_U',\n",
    "# 'VXzeDtQHTZk',\n",
    "# 'ns8y0SVcJGA']"
   ]
  },
  {
   "cell_type": "code",
   "execution_count": null,
   "metadata": {},
   "outputs": [],
   "source": [
    "counts_in_dataframe(path='../data/pose_boxes', timestamp=_timestamps[0],key=_key)"
   ]
  },
  {
   "cell_type": "code",
   "execution_count": null,
   "metadata": {},
   "outputs": [],
   "source": [
    "for _key in _keys:\n",
    "    #print(_key)\n",
    "    create_heatmap(count_and_add_dataframes(key=_key))"
   ]
  },
  {
   "cell_type": "markdown",
   "metadata": {},
   "source": [
    "# Work 2"
   ]
  },
  {
   "cell_type": "code",
   "execution_count": null,
   "metadata": {},
   "outputs": [],
   "source": [
    "_files=[\"https://youtu.be/zTdTIpPiOnQ\",\n",
    "\"https://youtu.be/luhiRGPRdAU\",\n",
    "\"https://youtu.be/frT95g0j4iY\",\n",
    "\"https://youtu.be/9USNTc7Gr4c\",\n",
    "\"https://youtu.be/ZEAMi6-jP_s\",\n",
    "\"https://youtu.be/AdUw5RdyZxI\",\n",
    "\"https://youtu.be/SOKol9vTpwQ\",\n",
    "\"https://youtu.be/mNawBricEYw\",\n",
    "\"https://youtu.be/tqchfdQQ9L4\",\n",
    "\"https://youtu.be/WI4mP963GvE\",\n",
    "\"https://youtu.be/WInT7NRq2Ss\",\n",
    "\"https://youtu.be/WQz2P-1ua7o\",\n",
    "\"https://youtu.be/KIXprc4-ifE\",\n",
    "\"https://youtu.be/lsyMF2bmJhM\",\n",
    "\"https://youtu.be/Zv1fgmd1pr4\",\n",
    "\"https://youtu.be/ISbvot_zEe0\"]\n",
    "\n",
    "_files=[\"https://youtu.be/oOcqSm7PMBU\",\n",
    "\"https://youtu.be/BlywGRXC1B0\",\n",
    "\"https://youtu.be/SgUHJMzeXes\",\n",
    "\"https://youtu.be/tUPmbZqrC6I\",\n",
    "\"https://youtu.be/IjSGWGt6xu8\",\n",
    "\"https://youtu.be/tpXPYqpTSH0\",\n",
    "\"https://youtu.be/i7PuOxnA_Ks\",\n",
    "\"https://youtu.be/P393gTj527k\",\n",
    "\"https://youtu.be/Vn2SScdsrnQ\",\n",
    "\"https://youtu.be/WjOGhNDX51M\",\n",
    "\"https://youtu.be/gQ0vRX86zoo\",\n",
    "\"https://youtu.be/4YFHDjig1hc\",\n",
    "\"https://youtu.be/hMYIc5ZPJL4\",\n",
    "\"https://youtu.be/kxB2ph5D3tc\",\n",
    "\"https://youtu.be/jQcotlKaPYY\",\n",
    "\"https://youtu.be/0J1Y1MlPCUY\",\n",
    "\"https://youtu.be/XnkB8vcua94\",\n",
    "\"https://youtu.be/oT4s0SlQ89E\",\n",
    "\"https://youtu.be/cvYNX6OONW4\",\n",
    "\"https://youtu.be/vq3XWOfFUvY\",\n",
    "\"https://youtu.be/xBuVIWTVX9E\",\n",
    "\"https://youtu.be/Z6O-6UfpGow\",\n",
    "\"https://youtu.be/uHPvvnJdBkk\",\n",
    "\"https://youtu.be/jA2H4hPRDQ8\",\n",
    "\"https://youtu.be/hP7noGSjLH8\",\n",
    "\"https://youtu.be/4Hhsra66kwY\",\n",
    "\"https://youtu.be/QBHjPq1iIsI\",\n",
    "\"https://youtu.be/Xe64AIg_35s\",\n",
    "\"https://youtu.be/w8u_xP5Ri7E\",\n",
    "\"https://youtu.be/Eif56OH4Fc0\",\n",
    "\"https://youtu.be/vswIKa1zj_s\",\n",
    "\"https://youtu.be/W9BhpatGG8I\",\n",
    "\"https://youtu.be/nKK6J66RYaw\",\n",
    "\"https://youtu.be/XV1q_2Cl6mI\",\n",
    "\"https://youtu.be/dvmRgN1FMK0\",\n",
    "\"https://youtu.be/9En2186vo5g\",\n",
    "\"https://youtu.be/XnkB8vcua94\",\n",
    "\"https://youtu.be/v-Q_xOAAD_0\",\n",
    "\"https://youtu.be/HmBoxDwR2I8\",\n",
    "\"https://youtu.be/kGMOVb0IABs\",\n",
    "\"https://youtu.be/eLERLWTpzEM\",\n",
    "\"https://youtu.be/sMr2aawoj5A\",\n",
    "\"https://youtu.be/CHd0z44hTQc\",\n",
    "\"https://youtu.be/qP1y7Tdab7Y\",\n",
    "\"https://youtu.be/KVE3aR3hlKM\",\n",
    "\"https://youtu.be/qP1y7Tdab7Y\",\n",
    "\"https://youtu.be/c4kpeZHcke8\",\n",
    "\"https://youtu.be/ly_Jud7WHfo\",\n",
    "\"https://youtu.be/UTayfZ5HM9c\",\n",
    "\"https://youtu.be/EXvKXsmAmPg\",\n",
    "\"https://youtu.be/Vn2SScdsrnQ\",\n",
    "\"https://youtu.be/hvmOoI11Dkk\",\n",
    "\"https://youtu.be/qP1y7Tdab7Y\",\n",
    "\"https://youtu.be/6QQgDyKQTJ0\",\n",
    "\"https://youtu.be/DQe_EvBae_I\",\n",
    "\"https://youtu.be/f1ydQtKxGf0\",\n",
    "\"https://youtu.be/xh48dJYojmE\",\n",
    "\"https://youtu.be/jP5QM0l0OYk\",\n",
    "\"https://youtu.be/8nPev44Jq4s\"]\n",
    "\n",
    "_files=[\"h25551--j76C1hX08\"]\n",
    "_files=[\"https://youtu.be/J-E1rTHvGPo\"]\n",
    "_files=[\"https://youtu.be/GQVs1EN3Si4\"]\n",
    "\n",
    "app = SimpleApplicationWidget(filename = '_EasyVideoPipeLine_641_481.json')"
   ]
  },
  {
   "cell_type": "code",
   "execution_count": null,
   "metadata": {},
   "outputs": [],
   "source": [
    "\n",
    "for _filename in _files:\n",
    "    try:\n",
    "        _key=_filename.split('/')[3]\n",
    "        create_single_video_files(app,video_url_id_list=[(_key,_filename)])\n",
    "    except Exception as e:\n",
    "        print(e,_key)"
   ]
  },
  {
   "cell_type": "code",
   "execution_count": null,
   "metadata": {},
   "outputs": [],
   "source": [
    "def check_all_single_videos(app=None,single_directory='../data/videos/single',index=0):\n",
    "    for filename in listdir(single_directory):\n",
    "        try:\n",
    "            loadVideo(app=app,index=index,filename=single_directory + '/'+ filename)\n",
    "            print(filename)\n",
    "        except Exception as e:\n",
    "            print(single_directory + '/'+ filename + \"  :\")  \n",
    "            \n",
    "check_all_single_videos(app=app)            "
   ]
  }
 ],
 "metadata": {
  "kernelspec": {
   "display_name": "Python 3",
   "language": "python",
   "name": "python3"
  },
  "language_info": {
   "codemirror_mode": {
    "name": "ipython",
    "version": 3
   },
   "file_extension": ".py",
   "mimetype": "text/x-python",
   "name": "python",
   "nbconvert_exporter": "python",
   "pygments_lexer": "ipython3",
   "version": "3.9.2"
  },
  "toc-autonumbering": false,
  "toc-showcode": false,
  "toc-showmarkdowntxt": false,
  "toc-showtags": false
 },
 "nbformat": 4,
 "nbformat_minor": 4
}

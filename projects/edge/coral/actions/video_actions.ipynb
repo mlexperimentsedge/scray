{
 "cells": [
  {
   "cell_type": "code",
   "execution_count": null,
   "metadata": {},
   "outputs": [],
   "source": [
    "#!pip3 install opencv-python\n",
    "#!pip install pafy -U\n",
    "#!pip install youtube_dl"
   ]
  },
  {
   "cell_type": "code",
   "execution_count": null,
   "metadata": {},
   "outputs": [],
   "source": [
    "#!pip install ipydagred3\n",
    "#!jupyter labextension install @jupyter-widgets/jupyterlab-manager\n",
    "#"
   ]
  },
  {
   "cell_type": "code",
   "execution_count": null,
   "metadata": {},
   "outputs": [],
   "source": [
    "# fix dislike count problem\n",
    "#!pip uninstall -y pafy\n",
    "#!pip install git+https://github.com/Cupcakus/pafy"
   ]
  },
  {
   "cell_type": "code",
   "execution_count": null,
   "metadata": {},
   "outputs": [],
   "source": [
    "#!pip install ipynb"
   ]
  },
  {
   "cell_type": "code",
   "execution_count": 13,
   "metadata": {},
   "outputs": [
    {
     "name": "stdout",
     "output_type": "stream",
     "text": [
      "total 0\n",
      "-rw-r--r-- 1 jovyan users 0 Dec 17 07:47 test\n"
     ]
    }
   ],
   "source": [
    "!ls -l /home/jovyan/work/images\n",
    "#!touch /home/jovyan/work/images/test"
   ]
  },
  {
   "cell_type": "code",
   "execution_count": 5,
   "metadata": {},
   "outputs": [
    {
     "name": "stdout",
     "output_type": "stream",
     "text": [
      "[NbConvertApp] Converting notebook video_download.ipynb to python\n",
      "[NbConvertApp] Writing 386 bytes to video_download.py\n"
     ]
    }
   ],
   "source": [
    "#!jupyter nbconvert --to python video_download.ipynb"
   ]
  },
  {
   "cell_type": "code",
   "execution_count": 1,
   "metadata": {},
   "outputs": [],
   "source": [
    "from ipynb.fs.full.video_actions_v2 import *"
   ]
  },
  {
   "cell_type": "markdown",
   "metadata": {
    "tags": [],
    "toc-hr-collapsed": true
   },
   "source": [
    "# Coral Actions"
   ]
  },
  {
   "cell_type": "markdown",
   "metadata": {},
   "source": [
    "## PoseEngineAction"
   ]
  },
  {
   "cell_type": "code",
   "execution_count": null,
   "metadata": {},
   "outputs": [],
   "source": [
    "import random\n",
    "from PIL import Image\n",
    "from PIL import ImageDraw\n",
    "\n",
    "from pycoral.utils import edgetpu\n",
    "from PIL import Image\n",
    "from tflite_runtime.interpreter import load_delegate\n",
    "from tflite_runtime.interpreter import Interpreter\n",
    "\n",
    "import collections\n",
    "import enum\n",
    "import math\n",
    "import numpy as np\n",
    "import os\n",
    "import platform\n",
    "import sys\n",
    "import time\n",
    "\n",
    "from projectposenet.pose_engine import PoseEngine\n",
    "\n",
    "colors = [(255,0,0,255) ,(0,255,0,255) ,(0,0,255,255),(255,255,0,255) ,(0,255,255,255) ,(255,255,255,255), \\\n",
    "         (125,0,0,255) ,(125,255,0,255) ,(125,0,255,255),(125,255,0,255) ,(125,255,255,255) ,(125,255,255,255)]\n",
    "\n",
    "EDGES = (\n",
    "    ('nose', 'left eye'),\n",
    "    ('nose', 'right eye'),\n",
    "    ('nose', 'left ear'),\n",
    "    ('nose', 'right ear'),\n",
    "    ('left ear', 'left eye'),\n",
    "    ('right ear', 'right eye'),\n",
    "    ('left eye', 'right eye'),\n",
    "    ('left shoulder', 'right shoulder'),\n",
    "    ('left shoulder', 'left elbow'),\n",
    "    ('left shoulder', 'left hip'),\n",
    "    ('right shoulder', 'right elbow'),\n",
    "    ('right shoulder', 'right hip'),\n",
    "    ('left elbow', 'left wrist'),\n",
    "    ('right elbow', 'right wrist'),\n",
    "    ('left hip', 'right hip'),\n",
    "    ('left hip', 'left knee'),\n",
    "    ('right hip', 'right knee'),\n",
    "    ('left knee', 'left ankle'),\n",
    "    ('right knee', 'right ankle'),\n",
    ")\n",
    "\n",
    "# 481x641\n",
    "class PoseEngineAction(BaseAction):\n",
    "    def __init__(self):\n",
    "        self.engine = PoseEngine('projectposenet/models/mobilenet/posenet_mobilenet_v1_075_481_641_quant_decoder_edgetpu.tflite')\n",
    "        self.result = None\n",
    "    \n",
    "    def evaluate(self, **kwargs):        \n",
    "        if 'image' in kwargs.keys():\n",
    "            self.result = {'image':kwargs['image']}\n",
    "            image = self._get_image(kwargs['image'])\n",
    "            poses, inference_time = self.engine.DetectPosesInImage(image)\n",
    "            self.result = {'poses':poses, 'inference_time':inference_time,'image':kwargs['image']}\n",
    "            return self.result"
   ]
  },
  {
   "cell_type": "code",
   "execution_count": null,
   "metadata": {},
   "outputs": [],
   "source": [
    "from PIL import Image, ImageDraw, ImageFont\n",
    "import random\n",
    "colors = [(255,0,0,255) ,(0,255,0,255) ,(0,0,255,255),(255,255,0,255) ,(0,255,255,255) ,(255,255,255,255), \\\n",
    "         (125,0,0,255) ,(125,255,0,255) ,(125,0,255,255),(125,255,0,255) ,(125,255,255,255) ,(125,255,255,255)]\n",
    "\n",
    "class Pose:\n",
    "    def __init__(self, pose, minScoreKeypoint=-1):\n",
    "        self.pose = pose\n",
    "        self.xys = self.get_xys(pose, minScoreKeypoint)\n",
    "        \n",
    "    def get_xys(self,pose, min_score=-1):\n",
    "        xys = {}\n",
    "        for label, keypoint in pose.keypoints.items():\n",
    "            score =  float(keypoint.score)\n",
    "            if score < min_score: continue\n",
    "            kp_y = int((keypoint.point.y) )\n",
    "            kp_x = int((keypoint.point.x) )\n",
    "            xys[label] = (kp_x, kp_y, score)\n",
    "        return xys            \n",
    "        \n",
    "    def addPointsText(self,img,keys,color,r,fontsize):\n",
    "        for key in keys:\n",
    "            if key in self.xys:\n",
    "                x = self.xys[key][0]\n",
    "                y = self.xys[key][1]\n",
    "                img.drawPoint( x,y,r,color)\n",
    "                img.drawText(str(key), x,y,fontsize, color=color)\n",
    "                \n",
    "    def addSkeleton(self,img,EDGES,color='red',width=1):\n",
    "        for a, b in EDGES:\n",
    "            if a not in self.xys or b not in self.xys: continue\n",
    "            ax, ay = self.xys[a][0],self.xys[a][1]\n",
    "            bx, by = self.xys[b][0],self.xys[b][1]\n",
    "            img.drawLine(ax,ay,bx,by,color=color,width=width)\n",
    "                \n",
    "    def printPose(self,mninScorePose=-0.1, minScoreKeypoint=-0.1):\n",
    "        #if self.pose.score < mninScorePose : continue\n",
    "        print('\\nPose Score: ', self.pose.score)\n",
    "        for label, keypoint in self.pose.keypoints.items():\n",
    "            if keypoint.score < minScoreKeypoint : continue\n",
    "            print(' %-20s x=%-4d y=%-4d score=%.2f' %\n",
    "                (label, keypoint.yx[1], keypoint.yx[0], keypoint.score))\n"
   ]
  },
  {
   "cell_type": "markdown",
   "metadata": {
    "tags": []
   },
   "source": [
    "## DrawPoseAction"
   ]
  },
  {
   "cell_type": "code",
   "execution_count": null,
   "metadata": {},
   "outputs": [],
   "source": [
    "\n",
    "                  \n",
    "class DrawPoseAction(BaseAction):\n",
    "    def __init__(self):\n",
    "        self.result = None\n",
    "    \n",
    "    def evaluate(self, **kwargs):        \n",
    "        if 'image' in kwargs.keys() and 'poses' in kwargs.keys() :\n",
    "            image = kwargs['image']\n",
    "            poses = kwargs['poses']\n",
    "            self.drawPosePoints(image,poses,EDGES) \n",
    "            self.addSkeletons(image,poses,EDGES)\n",
    "            self.result = {'image':image}\n",
    "            return self.result\n",
    "        else:\n",
    "            return kwargs                \n",
    "        \n",
    "    def drawPoint(self,image,x,y,r,rgba):\n",
    "        draw = ImageDraw.Draw(image)\n",
    "        leftUpPoint = (x-r, y-r)\n",
    "        rightDownPoint = (x+r, y+r)\n",
    "        twoPointList = [leftUpPoint, rightDownPoint]\n",
    "        draw.ellipse(twoPointList, fill=rgba)\n",
    "\n",
    "    def drawPosePoints(self,image,poses,EDGES):    \n",
    "        for pose in poses:\n",
    "            #if pose.score < 0.4: continue\n",
    "            rgba =  random.choice(colors)     \n",
    "            #print('\\nPose Score: ', pose.score)\n",
    "            xys = {}\n",
    "            minScoreKeypoint = 0.0\n",
    "            for label, keypoint in pose.keypoints.items():\n",
    "                if keypoint.score < minScoreKeypoint : continue\n",
    "                #print(keypoint.point)\n",
    "                #drawPoint(image,keypoint.yx[1], keypoint.yx[0],2,rgba)\n",
    "                self.drawPoint(image,keypoint.point.x,keypoint.point.y,2,rgba)\n",
    "                #kp_y = int((keypoint.yx[0] ) )\n",
    "                #kp_x = int((keypoint.yx[1] ) )\n",
    "                kp_y = int( keypoint.point.y)\n",
    "                kp_x = int( keypoint.point.x)\n",
    "\n",
    "                xys[label] = (kp_x, kp_y)\n",
    "                #print(' %-20s x=%-4d y=%-4d score=%.1f' %\n",
    "                #      (label, keypoint.yx[1], keypoint.yx[0], keypoint.score))\n",
    "            #print(xys)\n",
    "\n",
    "            for a, b in EDGES:\n",
    "                if a not in xys or b not in xys: continue\n",
    "                ax, ay = xys[a]\n",
    "                bx, by = xys[b]\n",
    "                #dwg.add(dwg.line(start=(ax, ay), end=(bx, by), stroke=color, stroke_width=2))\n",
    "                draw = ImageDraw.Draw(image)\n",
    "                draw.line((ax,ay,bx,by), fill=128, width=3)\n",
    "                #print (ax,ay,bx,b)    \n",
    "                \n",
    "    def addSkeletons(self,image,poses,EDGES):\n",
    "        for pose in poses:   \n",
    "            _pose = Pose(pose)\n",
    "            _pose.addSkeleton(image,EDGES,color='red',width=1)"
   ]
  },
  {
   "cell_type": "markdown",
   "metadata": {},
   "source": [
    "## ObjectsInterpreterAction"
   ]
  },
  {
   "cell_type": "code",
   "execution_count": null,
   "metadata": {
    "tags": []
   },
   "outputs": [],
   "source": [
    "import time\n",
    "\n",
    "from PIL import Image\n",
    "from PIL import ImageDraw\n",
    "\n",
    "from pycoral.adapters import common\n",
    "from pycoral.adapters import detect\n",
    "from pycoral.utils.dataset import read_label_file\n",
    "from pycoral.utils.edgetpu import make_interpreter\n",
    "\n",
    "class ObjectsInterpreterAction(BaseAction):\n",
    "    def __init__(self, score_threshold=0.2):\n",
    "        self.score_threshold = score_threshold \n",
    "        self.filter = []\n",
    "        self.result = None\n",
    "        self.labels = read_label_file('/home/pi/jupyter/coral/pycoral/test_data/coco_labels.txt')\n",
    "        self.interpreter = make_interpreter('/home/pi/jupyter/coral/pycoral/test_data/ssd_mobilenet_v2_coco_quant_postprocess_edgetpu.tflite')\n",
    "        self.interpreter.allocate_tensors()\n",
    "\n",
    "    def evaluate(self, **kwargs):        \n",
    "        if 'image' in kwargs.keys():\n",
    "            self.result = {'image':kwargs['image']}\n",
    "            image = self._get_image(kwargs['image'])\n",
    "            \n",
    "            start = time.perf_counter()\n",
    "            self.interpreter.invoke()\n",
    "            inference_time = time.perf_counter() - start\n",
    "            #_, scale = common.set_resized_input(\n",
    "            #    self.interpreter, image.size, lambda size: image.resize(size, Image.ANTIALIAS))\n",
    "            _, scale = common.set_resized_input(self.interpreter, image.size, lambda size: image)\n",
    "            \n",
    "            objs = detect.get_objects(self.interpreter,self.score_threshold, scale)\n",
    "    \n",
    "            if len(self.filter) > 0: \n",
    "                objs = self.filter_objects(objs)\n",
    "    \n",
    "            self.result = {'objects':objs, 'inference_time':inference_time,'image':kwargs['image']}\n",
    "            return self.result\n",
    "        \n",
    "    def filter_objects(self,objs):\n",
    "        objs2 = []\n",
    "        for obj in objs:\n",
    "            _label = self.labels.get(obj.id, obj.id) \n",
    "            if _label in self.filter:\n",
    "                objs2.append(obj)\n",
    "        return objs2        \n",
    "        \n",
    "    def input_size(self):\n",
    "        return common.input_size(self.interpreter)"
   ]
  },
  {
   "cell_type": "markdown",
   "metadata": {
    "tags": []
   },
   "source": [
    "## DrawObjectsAction"
   ]
  },
  {
   "cell_type": "code",
   "execution_count": null,
   "metadata": {
    "tags": []
   },
   "outputs": [],
   "source": [
    "class DrawObjectsAction(BaseAction):\n",
    "    def __init__(self):\n",
    "        self.result = None\n",
    "        self.labels = read_label_file('/home/pi/jupyter/coral/pycoral/test_data/coco_labels.txt')\n",
    "    \n",
    "    def evaluate(self, **kwargs):        \n",
    "        if 'image' in kwargs.keys() and 'objects' in kwargs.keys() :\n",
    "            image = kwargs['image'].copy()\n",
    "            objs = kwargs['objects']\n",
    "            self.draw_objects(ImageDraw.Draw(image), objs, self.labels)        \n",
    "            #self.result = {'image':image}\n",
    "            self.result = dict(kwargs)\n",
    "            self.result['image'] = image\n",
    "            return self.result\n",
    "        else:\n",
    "            return kwargs                \n",
    "        \n",
    "    def draw_objects(self,draw, objs, labels):\n",
    "        for obj in objs:\n",
    "            bbox = obj.bbox\n",
    "            draw.rectangle([(bbox.xmin, bbox.ymin), (bbox.xmax, bbox.ymax)],\n",
    "                           outline='red')\n",
    "            draw.text((bbox.xmin + 10, bbox.ymin + 10),\n",
    "                      '%s\\n%.2f' % (labels.get(obj.id, obj.id), obj.score),\n",
    "                      fill='red')\n",
    "\n",
    "    def get_labels(self,objs): \n",
    "        _labels = []\n",
    "        for obj in objs:\n",
    "            _label = self.labels.get(obj.id, obj.id)   \n",
    "            if _label not in _labels:\n",
    "                _labels.append(_label)\n",
    "        return _labels\n",
    "            \n",
    "    def printData(self,objs):        \n",
    "        for obj in objs:\n",
    "            print(labels.get(obj.id, obj.id))\n",
    "            print('  id:    ', obj.id)\n",
    "            print('  score: ', obj.score)\n",
    "            print('  bbox:  ', obj.bbox)"
   ]
  },
  {
   "cell_type": "markdown",
   "metadata": {},
   "source": [
    "## SemanticSegmentationAction"
   ]
  },
  {
   "cell_type": "code",
   "execution_count": null,
   "metadata": {
    "tags": []
   },
   "outputs": [],
   "source": [
    "#semantic_segmentation.py\n",
    "\n",
    "import numpy as np\n",
    "from PIL import Image\n",
    "\n",
    "from pycoral.adapters import common\n",
    "from pycoral.adapters import segment\n",
    "from pycoral.utils.edgetpu import make_interpreter\n",
    "\n",
    "\n",
    "def create_pascal_label_colormap():\n",
    "  \"\"\"Creates a label colormap used in PASCAL VOC segmentation benchmark.\n",
    "\n",
    "  Returns:\n",
    "    A Colormap for visualizing segmentation results.\n",
    "  \"\"\"\n",
    "  colormap = np.zeros((256, 3), dtype=int)\n",
    "  indices = np.arange(256, dtype=int)\n",
    "\n",
    "  for shift in reversed(range(8)):\n",
    "    for channel in range(3):\n",
    "      colormap[:, channel] |= ((indices >> channel) & 1) << shift\n",
    "    indices >>= 3\n",
    "\n",
    "  return colormap\n",
    "\n",
    "def label_to_color_image(label):\n",
    "  \"\"\"Adds color defined by the dataset colormap to the label.\n",
    "\n",
    "  Args:\n",
    "    label: A 2D array with integer type, storing the segmentation label.\n",
    "\n",
    "  Returns:\n",
    "    result: A 2D array with floating type. The element of the array\n",
    "      is the color indexed by the corresponding element in the input label\n",
    "      to the PASCAL color map.\n",
    "\n",
    "  Raises:\n",
    "    ValueError: If label is not of rank 2 or its value is larger than color\n",
    "      map maximum entry.\n",
    "  \"\"\"\n",
    "  if label.ndim != 2:\n",
    "    raise ValueError('Expect 2-D input label')\n",
    "\n",
    "  colormap = create_pascal_label_colormap()\n",
    "\n",
    "  if np.max(label) >= len(colormap):\n",
    "    raise ValueError('label value too large.')\n",
    "\n",
    "  return colormap[label]\n",
    "\n",
    "\n",
    "class SemanticSegmentationAction(BaseAction):\n",
    "    def __init__(self):\n",
    "        self.result = None\n",
    "        self.interpreter = make_interpreter('/home/pi/jupyter/coral/pycoral/test_data/deeplabv3_mnv2_pascal_quant_edgetpu.tflite', device=':0')\n",
    "        self.interpreter.allocate_tensors()\n",
    "        self.width, self.height = common.input_size(self.interpreter)\n",
    "\n",
    "    def evaluate(self, **kwargs):        \n",
    "        if 'image' in kwargs.keys():\n",
    "            self.result = {'image':kwargs['image']}\n",
    "            image = self._get_image(kwargs['image'])\n",
    "            \n",
    "            keep_aspect_ratio = True\n",
    "            if keep_aspect_ratio:\n",
    "                resized_img, _ = common.set_resized_input(\n",
    "                self.interpreter, image.size, lambda size: image.resize(size, Image.ANTIALIAS))\n",
    "            else:\n",
    "                resized_img = image.resize((self.width, self.height), Image.ANTIALIAS)\n",
    "                common.set_input(self.interpreter, resized_img)\n",
    "\n",
    "            self.interpreter.invoke()\n",
    "            result = segment.get_output(self.interpreter)\n",
    "            if len(result.shape) == 3:\n",
    "                result = np.argmax(result, axis=-1)\n",
    "\n",
    "            # If keep_aspect_ratio, we need to remove the padding area.\n",
    "            new_width, new_height = resized_img.size\n",
    "            result = result[:new_height, :new_width]\n",
    "            mask_img = Image.fromarray(label_to_color_image(result).astype(np.uint8))\n",
    "\n",
    "            # Concat resized input image and processed segmentation results.\n",
    "            output_img = Image.new('RGB', (2 * new_width, new_height))\n",
    "            output_img.paste(resized_img, (0, 0))\n",
    "            output_img.paste(mask_img, (self.width, 0))\n",
    "  \n",
    "            self.result = {'image':output_img}\n",
    "            return self.result"
   ]
  },
  {
   "cell_type": "markdown",
   "metadata": {},
   "source": [
    "## ObjectsInterpreterWidget"
   ]
  },
  {
   "cell_type": "code",
   "execution_count": null,
   "metadata": {},
   "outputs": [],
   "source": [
    "class ObjectsInterpreterWidget(BaseWidget):\n",
    "    def __init__(self, action=None, imageWidget=None, parent=None):\n",
    "        self.action = action\n",
    "        self.parent = parent\n",
    "        self.result = None\n",
    "        self.imageWidget = imageWidget\n",
    "        self.threshold   = widgets.Text(description = 'threshold' , value=str(self.parent.action.score_threshold), style=style, layout=layout2)\n",
    "        self.out  = widgets.Output()\n",
    "        self.vbox   = widgets.VBox([self.threshold,self.out])\n",
    "        self.labels = []    \n",
    "        self.threshold.on_submit(self.on_value_submit_threshold)    \n",
    "            \n",
    "    def evaluate(self, **kwargs):     \n",
    "        self.result = self.action.evaluate(**kwargs)\n",
    "        if isinstance(self.result, dict):\n",
    "             with self.out:\n",
    "                clear_output()\n",
    "                _labels = self.action.get_labels(kwargs['objects'])\n",
    "                self.labels = []  \n",
    "                for _label in _labels:\n",
    "                    _checkbox = widgets.Checkbox(description=_label,value=True)\n",
    "                    _checkbox.observe(self.label_on_change,'value')\n",
    "                    display(_checkbox)     \n",
    "                    self.labels.append(_checkbox)\n",
    "        return self.result\n",
    "    \n",
    "    def on_value_submit_threshold(self,change):\n",
    "        self.parent.action.score_threshold = float(change.value)\n",
    "        self.evaluate_subchain()\n",
    "        \n",
    "    def evaluate_subchain(self):    \n",
    "        parent_result = self.parent.evaluate(**self.parent.parent.result)\n",
    "        self.evaluate(**parent_result)\n",
    "        self.imageWidget.evaluate(self.result['image'])\n",
    "        \n",
    "    def label_on_change(self,change):  \n",
    "        if change['type'] == 'change' and change['name'] == 'value':\n",
    "            #print(change['name'])\n",
    "            _labels = []\n",
    "            for _label in self.labels:\n",
    "                if _label.value == True:\n",
    "                    _labels.append(_label.description)\n",
    "            print(_labels)\n",
    "            self.parent.action.filter = _labels\n",
    "            self.evaluate_subchain()\n",
    "            #K"
   ]
  },
  {
   "cell_type": "markdown",
   "metadata": {
    "tags": [],
    "toc-hr-collapsed": true
   },
   "source": [
    "# Coral Actions 2"
   ]
  },
  {
   "cell_type": "markdown",
   "metadata": {
    "tags": []
   },
   "source": [
    "## CountPoseAction"
   ]
  },
  {
   "cell_type": "code",
   "execution_count": null,
   "metadata": {},
   "outputs": [],
   "source": [
    "class CountPoseAction(BaseAction):\n",
    "    def __init__(self):\n",
    "        self.result = None\n",
    "    \n",
    "    def evaluate(self, **kwargs):        \n",
    "        if 'image' in kwargs.keys() and 'poses' in kwargs.keys() :\n",
    "            image = kwargs['image']\n",
    "            poses = kwargs['poses']\n",
    "            self.drawPosePoints(image,poses,EDGES) \n",
    "            self.addSkeletons(image,poses,EDGES)\n",
    "            self.result = {'image':image}\n",
    "            self.result['count']= len(poses)\n",
    "            self.result['poses']=poses\n",
    "            Bboxes=[]\n",
    "            ScoreRanges=[]\n",
    "            for pose in poses:\n",
    "                Bboxes.append(self.calculateBbox(pose))\n",
    "                ScoreRanges.append(self.calculateScoreRange(pose))\n",
    "            self.result['bboxes']=Bboxes\n",
    "            self.result['score_range']=ScoreRanges\n",
    "            return self.result\n",
    "        else:\n",
    "            return kwargs                \n",
    "        \n",
    "    def drawPoint(self,image,x,y,r,rgba):\n",
    "        draw = ImageDraw.Draw(image)\n",
    "        leftUpPoint = (x-r, y-r)\n",
    "        rightDownPoint = (x+r, y+r)\n",
    "        twoPointList = [leftUpPoint, rightDownPoint]\n",
    "        draw.ellipse(twoPointList, fill=rgba)\n",
    "        \n",
    "    def addSkeletons(self,image,poses,EDGES):\n",
    "        for pose in poses:   \n",
    "            _pose = Pose(pose)\n",
    "            _pose.addSkeleton(image,EDGES,color='red',width=1)\n",
    "\n",
    "    def drawPosePoints(self,image,poses,EDGES):    \n",
    "        for pose in poses:\n",
    "            #if pose.score < 0.4: continue\n",
    "            rgba =  random.choice(colors)     \n",
    "            #print('\\nPose Score: ', pose.score)\n",
    "            xys = {}\n",
    "            minScoreKeypoint = 0.0\n",
    "            for label, keypoint in pose.keypoints.items():\n",
    "                if keypoint.score < minScoreKeypoint : continue\n",
    "                #print(keypoint.point)\n",
    "                #drawPoint(image,keypoint.yx[1], keypoint.yx[0],2,rgba)\n",
    "                self.drawPoint(image,keypoint.point.x,keypoint.point.y,2,rgba)\n",
    "                #kp_y = int((keypoint.yx[0] ) )\n",
    "                #kp_x = int((keypoint.yx[1] ) )\n",
    "                kp_y = int( keypoint.point.y)\n",
    "                kp_x = int( keypoint.point.x)\n",
    "\n",
    "                xys[label] = (kp_x, kp_y)\n",
    "                #print(' %-20s x=%-4d y=%-4d score=%.1f' %\n",
    "                #      (label, keypoint.yx[1], keypoint.yx[0], keypoint.score))\n",
    "            #print(xys)\n",
    "\n",
    "            for a, b in EDGES:\n",
    "                if a not in xys or b not in xys: continue\n",
    "                ax, ay = xys[a]\n",
    "                bx, by = xys[b]\n",
    "                #dwg.add(dwg.line(start=(ax, ay), end=(bx, by), stroke=color, stroke_width=2))\n",
    "                draw = ImageDraw.Draw(image)\n",
    "                draw.line((ax,ay,bx,by), fill=128, width=3)\n",
    "                #print (ax,ay,bx,b)     \n",
    "                \n",
    "    def calculateBbox(self,pose):\n",
    "\n",
    "        minimum=[9999999,9999899]\n",
    "        maximum=[0,0]\n",
    "        for label, keypoint in pose.keypoints.items():\n",
    "\n",
    "                print(keypoint.point)\n",
    "                #drawPoint(image,keypoint.yx[1], keypoint.yx[0],2,rgba)\n",
    "\n",
    "                #kp_y = int((keypoint.yx[0] ) )\n",
    "                #kp_x = int((keypoint.yx[1] ) )\n",
    "                kp_y = int( keypoint.point.y)\n",
    "                kp_x = int( keypoint.point.x)\n",
    "                if kp_x<minimum[0]:\n",
    "                    minimum[0]=kp_x\n",
    "                if kp_x>maximum[0]:\n",
    "                    maximum[0]=kp_x\n",
    "                if kp_y<minimum[1]:\n",
    "                    minimum[1]=kp_y\n",
    "                if kp_y>maximum[1]:\n",
    "                    maximum[1]=kp_y\n",
    "\n",
    "        return minimum,maximum \n",
    "    \n",
    "    def calculateScoreRange(self,pose):\n",
    "\n",
    "        minimum=9999999\n",
    "        maximum=0\n",
    "        for label, keypoint in pose.keypoints.items():\n",
    "\n",
    "            \n",
    "                score = keypoint.score\n",
    "                \n",
    "                if score<minimum:\n",
    "                    minimum=score\n",
    "                if score>maximum:\n",
    "                    maximum=score\n",
    "                \n",
    "\n",
    "        return minimum,maximum                "
   ]
  },
  {
   "cell_type": "markdown",
   "metadata": {
    "tags": []
   },
   "source": [
    "## CountObjectsAction"
   ]
  },
  {
   "cell_type": "code",
   "execution_count": null,
   "metadata": {
    "tags": []
   },
   "outputs": [],
   "source": [
    "class CountObjectsAction(BaseAction):\n",
    "    def __init__(self):\n",
    "        self.result = None\n",
    "        self.labels = read_label_file('/home/pi/jupyter/coral/pycoral/test_data/coco_labels.txt')\n",
    "    \n",
    "    def evaluate1(self, **kwargs):  \n",
    "        if  'objects' in kwargs.keys() :\n",
    "            objs = kwargs['objects'] \n",
    "            _count=self.count(objs)\n",
    "            self.result = dict(kwargs)\n",
    "            self.result['count']=_count\n",
    "            return self.result\n",
    "        else:\n",
    "            return kwargs  \n",
    "        \n",
    "        \n",
    "    def evaluate(self, **kwargs):        \n",
    "        if 'image' in kwargs.keys() and 'objects' in kwargs.keys() :\n",
    "            image = kwargs['image'].copy()\n",
    "            objs = kwargs['objects']\n",
    "            count=self.count(objs)\n",
    "            self.draw_objects(ImageDraw.Draw(image), objs, self.labels)        \n",
    "            #self.result = {'image':image}\n",
    "            self.result = dict(kwargs)\n",
    "            self.result['image'] = image\n",
    "            self.result['count']= count\n",
    "            return self.result\n",
    "        else:\n",
    "            return kwargs     \n",
    "        \n",
    "    def count(self,objects):    \n",
    "        counter=0\n",
    "        for object in objects:\n",
    "            if object.id==0:\n",
    "                counter=counter+1\n",
    "        return counter\n",
    "\n",
    "\n",
    "        \n",
    "    def draw_objects(self,draw, objs, labels):\n",
    "        for obj in objs:\n",
    "            bbox = obj.bbox\n",
    "            draw.rectangle([(bbox.xmin, bbox.ymin), (bbox.xmax, bbox.ymax)],\n",
    "                           outline='red')\n",
    "            draw.text((bbox.xmin + 10, bbox.ymin + 10),\n",
    "                      '%s\\n%.2f' % (labels.get(obj.id, obj.id), obj.score),\n",
    "                      fill='red')\n",
    "\n",
    "    def get_labels(self,objs): \n",
    "        _labels = []\n",
    "        for obj in objs:\n",
    "            _label = self.labels.get(obj.id, obj.id)   \n",
    "            if _label not in _labels:\n",
    "                _labels.append(_label)\n",
    "        return _labels\n",
    "            \n",
    "    def printData(self,objs):        \n",
    "        for obj in objs:\n",
    "            print(labels.get(obj.id, obj.id))\n",
    "            print('  id:    ', obj.id)\n",
    "            print('  score: ', obj.score)\n",
    "            print('  bbox:  ', obj.bbox)"
   ]
  },
  {
   "cell_type": "markdown",
   "metadata": {},
   "source": [
    "## CountObjectsWidget"
   ]
  },
  {
   "cell_type": "code",
   "execution_count": null,
   "metadata": {},
   "outputs": [],
   "source": [
    "layout2={'width': '350px'}\n",
    "\n",
    "class CountObjectsWidget(BaseWidget):\n",
    "    def __init__(self, action=None, imageWidget=None, parent=None):\n",
    "        self.action = action\n",
    "        self.parent = parent\n",
    "        self.result = None\n",
    "        self.count = widgets.Text(description = 'c', style=style, layout=layout2)\n",
    "        self.imageWidget = imageWidget\n",
    "        self.vbox   = widgets.VBox([self.count])\n",
    "            \n",
    "    def evaluate(self, **kwargs):     \n",
    "        self.result = self.action.evaluate(**kwargs)\n",
    "        if  'count' in self.result.keys() :\n",
    "            self.count.value=str (self.result['count'])\n",
    "        return self.result"
   ]
  },
  {
   "cell_type": "code",
   "execution_count": 17,
   "metadata": {},
   "outputs": [
    {
     "data": {
      "application/vnd.jupyter.widget-view+json": {
       "model_id": "22f36a375bbe43da8cc549999dca19d1",
       "version_major": 2,
       "version_minor": 0
      },
      "text/plain": [
       "HBox(children=(Text(value='_EasyVideoPipeLine_641_481.json', description='pipeline', layout=Layout(width='500p…"
      ]
     },
     "metadata": {},
     "output_type": "display_data"
    },
    {
     "data": {
      "application/vnd.jupyter.widget-view+json": {
       "model_id": "3de37f9211724d2d87311696a714a95d",
       "version_major": 2,
       "version_minor": 0
      },
      "text/plain": [
       "Output()"
      ]
     },
     "metadata": {},
     "output_type": "display_data"
    },
    {
     "name": "stdout",
     "output_type": "stream",
     "text": [
      "<Task pending name='test' coro=<HaltableActionExecutor.my_code() running at /home/jovyan/work/mlexperiments/scray/projects/edge/coral/actions/video_actions_v2.ipynb:1181>>\n"
     ]
    }
   ],
   "source": [
    "_app_test = SimpleApplicationWidget(filename = '_EasyVideoPipeLine_641_481.json')"
   ]
  },
  {
   "cell_type": "code",
   "execution_count": null,
   "metadata": {},
   "outputs": [],
   "source": [
    "#loadVideo(app=_app_test,key=_keys[0],index=0)"
   ]
  },
  {
   "cell_type": "markdown",
   "metadata": {},
   "source": [
    "# Applications"
   ]
  },
  {
   "cell_type": "code",
   "execution_count": null,
   "metadata": {},
   "outputs": [],
   "source": [
    "_app = SimpleApplicationWidget(filename = '_EasyVideoPipeLine_641_481.json')\n",
    "addTemplateWrapperTab(_app,TemplateWrapperWidget,PoseEngineAction()) \n",
    "addTemplateWrapperTab(_app,CountObjectsWidget,CountPoseAction()) "
   ]
  },
  {
   "cell_type": "code",
   "execution_count": null,
   "metadata": {},
   "outputs": [],
   "source": [
    "# objects, image size: 300x300\n",
    "_app2 = SimpleApplicationWidget(filename = '_EasyVideoPipeLine_300_300.json')\n",
    "addTemplateWrapperTab(_app2,TemplateWrapperWidget,ObjectsInterpreterAction())  \n",
    "addTemplateWrapperTab(_app2,CountObjectsWidget,CountObjectsAction())"
   ]
  },
  {
   "cell_type": "code",
   "execution_count": null,
   "metadata": {},
   "outputs": [],
   "source": [
    "#_app2._tab.evaluateWidgetActionList(end=None)"
   ]
  },
  {
   "cell_type": "markdown",
   "metadata": {
    "tags": []
   },
   "source": [
    "## add ML actions"
   ]
  },
  {
   "cell_type": "code",
   "execution_count": null,
   "metadata": {},
   "outputs": [],
   "source": [
    "#addTemplateWrapperTab(TemplateWrapperWidget,PoseEngineAction()) \n",
    "#addTemplateWrapperTab(TemplateWrapperWidget,DrawPoseAction()) "
   ]
  },
  {
   "cell_type": "code",
   "execution_count": null,
   "metadata": {},
   "outputs": [],
   "source": [
    "#addTemplateWrapperTab(TemplateWrapperWidget,SemanticSegmentationAction())"
   ]
  },
  {
   "cell_type": "markdown",
   "metadata": {},
   "source": [
    "# Interact with app"
   ]
  },
  {
   "cell_type": "markdown",
   "metadata": {},
   "source": [
    "## Files"
   ]
  },
  {
   "cell_type": "code",
   "execution_count": 97,
   "metadata": {},
   "outputs": [],
   "source": [
    "# https://stackoverflow.com/questions/8230315/how-to-json-serialize-sets\n",
    "from json import dumps, loads, JSONEncoder, JSONDecoder\n",
    "import pickle\n",
    "import time, datetime\n",
    "import json\n",
    "from os import listdir\n",
    "\n",
    "class PythonObjectEncoder(JSONEncoder):\n",
    "    def default(self, obj):\n",
    "        try:\n",
    "            return {'_python_object': pickle.dumps(obj).decode('latin-1')}\n",
    "        except pickle.PickleError:\n",
    "            return super().default(self, obj)\n",
    "\n",
    "def as_python_object(dct):\n",
    "    if '_python_object' in dct:\n",
    "        return pickle.loads(dct['_python_object'].encode('latin-1'))\n",
    "    return dct\n",
    "\n",
    "def save_data(data=None,id='',name='',prefix='box',path='../data/pose_boxes',time=None):\n",
    "    _filename = id + '_' + prefix + '_' + name + '_' + str(time) + '.json'\n",
    "    with open(path + '/' + _filename,'w',encoding='utf-8') as f:\n",
    "        g = dumps(data, cls=PythonObjectEncoder)\n",
    "        json.dump(g,f,ensure_ascii=False,indent=4)\n",
    "    return _filename\n",
    "\n",
    "def load_data(filename='',path='../data/pose_boxes'):\n",
    "    with open(path + '/' + filename, 'r') as fp:\n",
    "        j = json.load(fp)\n",
    "        data = loads(j, object_hook=as_python_object)\n",
    "        return data\n",
    "    \n",
    "def get_timestamps(path='',key=''):\n",
    "    results=[]\n",
    "    for filename in listdir(path):\n",
    "         if filename[0]!='.':\n",
    "                splits=filename.split('_')\n",
    "                if key==splits[0]:\n",
    "                    _timestamp=splits[5].split('.')\n",
    "                    _timestamp=_timestamp[0]+'.'+_timestamp[1]\n",
    "                    if _timestamp not in results:\n",
    "                        results.append(_timestamp)\n",
    "    return results\n",
    "\n",
    "\n",
    "def get_keys_files_directory(directory):\n",
    "    results=[]\n",
    "    for filename in listdir(directory):\n",
    "            if filename[0]!='.':\n",
    "                splits=filename.split('_')\n",
    "                if splits[0] not in results:\n",
    "                    results.append(splits[0])\n",
    "    return results        \n",
    "\n",
    "def listdirectory(directory,filter='.'):\n",
    "    return [x for x in listdir(directory) if not x.startswith(filter)]"
   ]
  },
  {
   "cell_type": "markdown",
   "metadata": {},
   "source": [
    "## Pipeline"
   ]
  },
  {
   "cell_type": "code",
   "execution_count": 85,
   "metadata": {},
   "outputs": [],
   "source": [
    "\n",
    "\n",
    "def print_pipeline_info(_app2):\n",
    "    _video  = _app2._tab._widgets[0]\n",
    "    _crop   = _app2._tab._widgets[1]   \n",
    "    _resize = _app2._tab._widgets[2]  \n",
    "    print('regions:',_crop.crop_list.options)\n",
    "    print('region:', _crop.crop_list.value)\n",
    "    print('cropped size:', (_crop.crop_size_x.value, _crop.crop_size_y.value))\n",
    "    print('crop x:', (_crop.cropx0.value, _crop.cropx1.value))\n",
    "    print('crop y:', (_crop.cropy0.value, _crop.cropy1.value))\n",
    "\n",
    "    print('resize to:', _app2._tab._widgets[2].widthw.value, _app2._tab._widgets[2].heightw.value)\n",
    "    print(_crop.result)\n",
    "    print(_resize.result)\n",
    "    \n",
    "def init_shortcuts(_app):\n",
    "    global _video\n",
    "    global _crop\n",
    "    global _resizecd \n",
    "    global _step1\n",
    "    global _step2\n",
    "    _video  = _app._tab._widgets[0]\n",
    "    _crop   = _app._tab._widgets[1]   \n",
    "    _resize = _app._tab._widgets[2]  \n",
    "    _step1 = _app._tab._widgets[3]\n",
    "    _step2 = _app._tab._widgets[4]\n",
    "    \n",
    "def set_image_quality(app,index=5,resampling='LANCZOS'): \n",
    "    _resize = app._tab._widgets[2]  \n",
    "    _resize.algorithmw.value = app._tab._widgets[2].algorithmw.options['LANCZOS']\n",
    "    app._tab.displayWidget.imageselectw.value = str(index)\n",
    "\n",
    "def init_app(app):\n",
    "    # für die Initialisierung nötig\n",
    "    app._tab.evaluateWidgetActionList(end=None)\n",
    "    init_shortcuts(app)\n",
    "    set_image_quality(app)        \n",
    "    \n",
    "def getVideoKeys(app=None):\n",
    "    _video = app._tab._widgets[0]    \n",
    "    return list(_video.sources.videos.keys())\n",
    "\n",
    "# example: loadVideo(app=app,key=None,filename='../data/videos/single/video_BJtkzEa6Tbg.json',index=5)\n",
    "def loadVideo(app=None,key=None,filename=None,index=5):\n",
    "    _video  = app._tab._widgets[0]\n",
    "    \n",
    "    if filename is not None:\n",
    "        _video.video_filename.value= filename\n",
    "        _video.on_video_load_button_clicked('')  \n",
    "        \n",
    "    if key is not None:       \n",
    "        _video.video_urls.value = key\n",
    "    set_image_quality(app,index=index)\n",
    "\n",
    "def deleteVideoItem(app=None,key=None):\n",
    "    _video  = app._tab._widgets[0]\n",
    "    del _video.sources.videos[key]    \n",
    "    \n",
    "def displayAllVideos(app=None,index=0):\n",
    "    _video = app._tab._widgets[0]    \n",
    "    _keys = getVideoKeys(app)\n",
    "    for key in _keys: \n",
    "        print(key)\n",
    "        loadVideo(app=app,key=key,index=index)\n",
    "        display(app._tab.displayWidget.action.evaluate()['image'])\n",
    "    \n",
    "# example: display_all_single_videos(app=app)\n",
    "def display_all_single_videos(app=None,single_directory='../data/videos/single',index=0):\n",
    "    for filename in listdir(single_directory):\n",
    "        if filename.startswith('video'):\n",
    "            loadVideo(app=app,index=index,filename=single_directory + '/'+ filename)\n",
    "            display(app._tab.displayWidget.action.evaluate()['image'])    \n",
    "    \n",
    "# get a list with videos and ids of current pipeline\n",
    "# example: get_video_url_id(_app_test)\n",
    "# returns: video_url_id_list\n",
    "# example: [('JqUREqYduHw', 'https://www.youtube.com/watch?v=JqUREqYduHw')]\n",
    "def get_video_url_id(app):\n",
    "    results=[]\n",
    "    #app=_app_test\n",
    "    index=0\n",
    "    _video = app._tab._widgets[0]    \n",
    "    _keys = getVideoKeys(app)\n",
    "    for key in _keys: \n",
    "        loadVideo(app=app,key=key,index=index)\n",
    "        _video  = app._tab._widgets[0]\n",
    "        results.append((key,_video.video_url.value))    \n",
    "    return results    \n",
    "    \n",
    "# used to add new video file to ../data/videos/single   \n",
    "# parameter: video_url_id_list\n",
    "# example: create_single_video_files(app,video_url_id_list=[('BJtkzEa6Tbg','https://youtu.be/BJtkzEa6Tbg')])\n",
    "def create_single_video_files(app,video_url_id_list=None):\n",
    "    _video = app._tab._widgets[0]   \n",
    "    for result in video_url_id_list:\n",
    "        _video.video_filename.value='../data/videos/empty.json'\n",
    "        _video.on_video_load_button_clicked('')  \n",
    "        _video.video_url.value=result[1]\n",
    "        _video.add_new_video(result[1])\n",
    "        _video.video_filename.value='../data/videos/single/video_'+result[0]+'.json'\n",
    "        _video.on_video_save_button_clicked('')    "
   ]
  },
  {
   "cell_type": "code",
   "execution_count": null,
   "metadata": {},
   "outputs": [],
   "source": [
    "#get_video_url_id(_app_test)\n",
    "#create_single_video_files(app,video_url_id_list=[('BJtkzEa6Tbg','https://youtu.be/BJtkzEa6Tbg')])\n",
    "#loadVideo(app=app,key=None,filename='../data/videos/single/video_BJtkzEa6Tbg.json',index=5)\n",
    "#displayAllVideos(app=app,index=0)"
   ]
  },
  {
   "cell_type": "markdown",
   "metadata": {},
   "source": [
    "## boxes of data with counts"
   ]
  },
  {
   "cell_type": "code",
   "execution_count": 70,
   "metadata": {},
   "outputs": [],
   "source": [
    "import time\n",
    "import datetime\n",
    "\n",
    "def generate_box_bookmarks(step_y=180, step_x=160, size=None,crop=None):\n",
    "    _out=widgets.Output()\n",
    "    with _out:\n",
    "        for y in range(0,6):\n",
    "            for x in range(0,12):\n",
    "                crop.cropx0.value = x*step_x\n",
    "                crop.cropx1.value = (x+1)*step_x-1\n",
    "                crop.cropy0.value = y*step_y\n",
    "                crop.cropy1.value = (y+1)*step_y-1\n",
    "                crop.add_bookmark('Box_'+str(y)+'_'+str(x))\n",
    "        \n",
    "def get_boxes_data_with_counts(app=None,crop=None):\n",
    "    frame={}\n",
    "    for y in range(0,6):\n",
    "        for x in range(0,12):\n",
    "            name='Box_'+str(y)+'_'+str(x)\n",
    "            crop.crop_list.value = name\n",
    "            result=app._tab.evaluateWidgetActionList(end=None)\n",
    "            count=int(result['count'])\n",
    "            if count>0:\n",
    "                ts = time.time()\n",
    "                st = datetime.datetime.fromtimestamp(ts).strftime('%Y-%m-%d %H:%M:%S')\n",
    "                frame[name]=(ts,st,count,result['score_range'],result['poses'],result['bboxes'])\n",
    "    return frame        \n",
    "\n",
    "def get_objectboxes_data_with_counts(app=None,crop=None):\n",
    "    frame={}\n",
    "    for y in range(0,6):\n",
    "        for x in range(0,12):\n",
    "            name='Box_'+str(y)+'_'+str(x)\n",
    "            crop.crop_list.value = name\n",
    "            result=app._tab.evaluateWidgetActionList(end=None)\n",
    "            count=int(result['count'])\n",
    "            if count>0:\n",
    "                ts = time.time()\n",
    "                st = datetime.datetime.fromtimestamp(ts).strftime('%Y-%m-%d %H:%M:%S')\n",
    "                frame[name]=(ts,st,count,result['objects'],result['inference_time'])\n",
    "    return frame      \n",
    "\n",
    "def get_and_save_boxes_with_data(app=None,crop=None,path='../data/pose_boxes'):\n",
    "    _out=widgets.Output()\n",
    "    with _out:\n",
    "        _boxes = get_boxes_data_with_counts(app=app, crop=crop) \n",
    "    ts = time.time()\n",
    "    for key,value in _boxes.items():\n",
    "        _id=_app._tab._widgets[0].action.id \n",
    "        _filename=save_data(data=value,id=_id, name=key, time=ts, path=path)\n",
    "        \n",
    "def get_and_save_objectboxes_with_data(app=None,crop=None,path='../data/object_boxes'):\n",
    "\n",
    "    _out=widgets.Output()\n",
    "    with _out:\n",
    "        _boxes = get_objectboxes_data_with_counts(app=app, crop=crop) \n",
    "    ts = time.time()\n",
    "    for key,value in _boxes.items():\n",
    "\n",
    "        _id=_app._tab._widgets[0].action.id \n",
    "        _filename=save_data(data=value,id=_id, name=key, time=ts, path=path)\n",
    "        \n",
    "        \n",
    "def get_keys_boxes_files(directory):\n",
    "    results=[]\n",
    "    for filename in listdir(directory):\n",
    "            if filename[0]!='.':\n",
    "                splits=filename.split('_')\n",
    "                if splits[0] not in results:\n",
    "                    results.append(splits[0])\n",
    "    return results        "
   ]
  },
  {
   "cell_type": "code",
   "execution_count": 84,
   "metadata": {},
   "outputs": [],
   "source": [
    "# example: create_box_bookmark_file(app=app, filename='video_BJtkzEa6Tbg.json', new=True)\n",
    "def create_box_bookmark_file(app=None, filename=None, single_directory='../data/videos/single',result_directory='../data/videos/box_bookmarks_6_12',\n",
    "    new=True):\n",
    "\n",
    "        try:\n",
    "            video  = app._tab._widgets[0]\n",
    "            if new == True:\n",
    "                if filename in listdir(result_directory):\n",
    "                    return True, ''\n",
    "            _video.video_filename.value= single_directory + '/' + filename\n",
    "            _video.on_video_load_button_clicked('')  \n",
    "            set_image_quality(app)\n",
    "            _crop   = app._tab._widgets[1] \n",
    "            generate_box_bookmarks(size=app._imageWidget2.getImage().size, crop=_crop) \n",
    "            _video.video_filename.value= result_directory + '/' + filename\n",
    "            _video.on_video_save_button_clicked('') \n",
    "            return True, ''\n",
    "        except Exception as e:\n",
    "            return False, 'error:' + filename + ':' + str(e)\n",
    "        \n",
    "# example: create_all_box_bookmark_files(app=app)\n",
    "def create_all_box_bookmark_files(app=None, single_directory='../data/videos/single',result_directory='../data/videos/box_bookmarks_6_12', new=True):\n",
    "    for filename in listdir(single_directory):\n",
    "        if filename.startswith('video'):\n",
    "            create_box_bookmark_file(app=app, filename=filename, single_directory=single_directory,result_directory=result_directory,new=new)        \n",
    "        \n",
    "# example: get_missing_box_bookmark_files()        \n",
    "def get_missing_box_bookmark_files(single_directory='../data/videos/single',result_directory='../data/videos/box_bookmarks_6_12'):\n",
    "    results=[]\n",
    "    for filename in listdir(single_directory):\n",
    "        if filename not in listdir(result_directory):\n",
    "            results.append(filename)\n",
    "    return results        "
   ]
  },
  {
   "cell_type": "code",
   "execution_count": 101,
   "metadata": {},
   "outputs": [],
   "source": [
    "def get_and_save_selected_boxes_with_data(app=None, directory='../data/videos/box_bookmarks_6_12',filename=filename):\n",
    "        try:\n",
    "            loadVideo(app=app,index=5,filename=directory + '/'+ filename)\n",
    "            get_and_save_boxes_with_data(app=app,crop = app._tab._widgets[1]) \n",
    "            return True, ''\n",
    "        except Exception as e:\n",
    "            return False, 'error:' + filename + ':' + str(e)  \n",
    "\n",
    "def get_and_save_all_boxes_with_data(app=None, directory='../data/videos/box_bookmarks_6_12'):\n",
    "    for filename in listdirectory(directory):\n",
    "        get_and_save_selected_boxes_with_data(app=app, directory=directory,filename=filename)\n",
    "\n",
    "        \n",
    "        \n",
    "def get_and_save_selected_objectboxes_with_data(app=None, directory='../data/videos/box_bookmarks_6_12',filename=filename):\n",
    "        try:\n",
    "            loadVideo(app=app,index=5,filename=directory + '/'+ filename)\n",
    "            get_and_save_objectboxes_with_data(app=app,crop = app._tab._widgets[1]) \n",
    "            return True, ''\n",
    "        except Exception as e:\n",
    "            return False, 'error:' + filename + ':' + str(e)  \n",
    "\n",
    "def get_and_save_all_objectboxes_with_data(app=None, directory='../data/videos/box_bookmarks_6_12'):\n",
    "    for filename in listdirectory(directory):\n",
    "        get_and_save_selected_objectboxes_with_data(app=app, directory=directory,filename=filename)\n",
    "        \n",
    "        \n",
    "\n",
    "def get_and_save_selected_bothboxes_with_data(app=None, directory='../data/videos/box_bookmarks_6_12',filename=filename):\n",
    "        try:\n",
    "            loadVideo(app=app,index=5,filename=directory + '/'+ filename)\n",
    "            get_and_save_boxes_with_data(app=app,crop = app._tab._widgets[1]) \n",
    "            get_and_save_objectboxes_with_data(app=app,crop = app._tab._widgets[1]) \n",
    "            return True, ''\n",
    "        except Exception as e:\n",
    "            return False, 'error:' + filename + ':' + str(e)  \n",
    "\n",
    "def get_and_save_all_bothboxes_with_data(app=None, directory='../data/videos/box_bookmarks_6_12'):\n",
    "    for filename in listdirectory(directory):\n",
    "        get_and_save_selected_bothboxes_with_data(app=app, directory=directory,filename=filename)"
   ]
  },
  {
   "cell_type": "markdown",
   "metadata": {},
   "source": [
    "## Dataframe"
   ]
  },
  {
   "cell_type": "code",
   "execution_count": 107,
   "metadata": {},
   "outputs": [],
   "source": [
    "import pandas as pd\n",
    "from os import listdir\n",
    "from os.path import isfile, join\n",
    "\n",
    "def create_empty_dataframe():\n",
    "    df = pd.DataFrame(columns=list(range(0, 12)))\n",
    "    for i in range(6):\n",
    "        df.loc[i] = listofzeros = [0] * 12\n",
    "    return df.apply(pd.to_numeric)\n",
    "\n",
    "def counts_in_dataframe(path='', timestamp='',key=None):\n",
    "    dataframe=create_empty_dataframe()\n",
    "    for filename in listdir(path):\n",
    "        if filename[0]!='.':\n",
    "            splits=filename.split('_')\n",
    "            _timestamp=splits[5].split('.')\n",
    "            if (_timestamp[0]+'.'+_timestamp[1])==timestamp and splits[0]==key:\n",
    "                x=int(splits[4])\n",
    "                y=int(splits[3])\n",
    "                Box=load_data(filename=filename, path=path)\n",
    "                count=Box[2]\n",
    "                dataframe.loc[y,x]=count\n",
    "    return dataframe.apply(pd.to_numeric)\n",
    "\n",
    "def count_and_add_dataframes(path='../data/pose_boxes',key=None):\n",
    "    dfadd=create_empty_dataframe()\n",
    "    _timestamps=get_timestamps(path=path,key=key)\n",
    "    for timestamp in _timestamps:\n",
    "        df=counts_in_dataframe(path=path, timestamp=timestamp, key=key)\n",
    "        for y in range(0,6):\n",
    "            for x in range(0,12):\n",
    "                dfadd.loc[y,x]=dfadd.loc[y,x]+df.loc[y,x]    \n",
    "    return dfadd"
   ]
  },
  {
   "cell_type": "markdown",
   "metadata": {},
   "source": [
    "## visualization"
   ]
  },
  {
   "cell_type": "code",
   "execution_count": 106,
   "metadata": {},
   "outputs": [
    {
     "name": "stdout",
     "output_type": "stream",
     "text": [
      "Setup Complete\n"
     ]
    }
   ],
   "source": [
    "import pandas as pd\n",
    "pd.plotting.register_matplotlib_converters()\n",
    "import matplotlib.pyplot as plt\n",
    "%matplotlib inline\n",
    "import seaborn as sns\n",
    "print(\"Setup Complete\")\n",
    "\n",
    "def create_heatmap(dataframe=None):\n",
    "    # Set the width and height of the figure\n",
    "    plt.figure(figsize=(14,7))\n",
    "    # Add title\n",
    "    plt.title(\"\")\n",
    "    # Heatmap showing average arrival delay for each airline by month\n",
    "    sns.heatmap(data=dataframe, annot=True)\n",
    "    # Add label for horizontal axis\n",
    "    plt.xlabel(\"\")"
   ]
  },
  {
   "cell_type": "markdown",
   "metadata": {},
   "source": [
    "# Work"
   ]
  },
  {
   "cell_type": "code",
   "execution_count": null,
   "metadata": {},
   "outputs": [],
   "source": [
    "# init\n",
    "app=_app_test\n",
    "_video = app._tab._widgets[0]\n",
    "single_directory='../data/videos/single'\n",
    "result_directory='../data/videos/box_bookmarks_6_12'\n",
    "new=True"
   ]
  },
  {
   "cell_type": "markdown",
   "metadata": {},
   "source": [
    "## add videos"
   ]
  },
  {
   "cell_type": "code",
   "execution_count": 145,
   "metadata": {},
   "outputs": [],
   "source": [
    "_filename = 'https://youtu.be/00s-daBWCZA'\n",
    "_key=_filename.split('/')[3]\n",
    "create_single_video_files(app,video_url_id_list=[(_key,_filename)])"
   ]
  },
  {
   "cell_type": "code",
   "execution_count": null,
   "metadata": {},
   "outputs": [],
   "source": [
    "create_all_box_bookmark_files(app=app)"
   ]
  },
  {
   "cell_type": "markdown",
   "metadata": {},
   "source": [
    "## count"
   ]
  },
  {
   "cell_type": "code",
   "execution_count": null,
   "metadata": {},
   "outputs": [],
   "source": [
    "get_and_save_all_bothboxes_with_data(app=app)"
   ]
  },
  {
   "cell_type": "markdown",
   "metadata": {},
   "source": [
    "## display videos"
   ]
  },
  {
   "cell_type": "code",
   "execution_count": null,
   "metadata": {},
   "outputs": [],
   "source": [
    "display_all_single_videos(app=app)"
   ]
  },
  {
   "cell_type": "markdown",
   "metadata": {},
   "source": [
    "## create heatmaps"
   ]
  },
  {
   "cell_type": "code",
   "execution_count": 113,
   "metadata": {},
   "outputs": [
    {
     "data": {
      "text/plain": [
       "(['vVyBOU9Huvo', 'JqUREqYduHw', 'HpdO5Kq3o7Y', 'AdUw5RdyZxI', 'ns8y0SVcJGA'],\n",
       " ['1637339592.044262',\n",
       "  '1637339644.5048528',\n",
       "  '1637337931.5129857',\n",
       "  '1637339539.5610416'])"
      ]
     },
     "execution_count": 113,
     "metadata": {},
     "output_type": "execute_result"
    }
   ],
   "source": [
    "_path = '../data/pose_boxes'\n",
    "_keys = get_keys_boxes_files(_path)\n",
    "_key=_keys[1]\n",
    "_timestamps=get_timestamps(path=_path,key=_key)\n",
    "_keys, _timestamps"
   ]
  },
  {
   "cell_type": "code",
   "execution_count": 114,
   "metadata": {},
   "outputs": [
    {
     "data": {
      "text/html": [
       "<div>\n",
       "<style scoped>\n",
       "    .dataframe tbody tr th:only-of-type {\n",
       "        vertical-align: middle;\n",
       "    }\n",
       "\n",
       "    .dataframe tbody tr th {\n",
       "        vertical-align: top;\n",
       "    }\n",
       "\n",
       "    .dataframe thead th {\n",
       "        text-align: right;\n",
       "    }\n",
       "</style>\n",
       "<table border=\"1\" class=\"dataframe\">\n",
       "  <thead>\n",
       "    <tr style=\"text-align: right;\">\n",
       "      <th></th>\n",
       "      <th>0</th>\n",
       "      <th>1</th>\n",
       "      <th>2</th>\n",
       "      <th>3</th>\n",
       "      <th>4</th>\n",
       "      <th>5</th>\n",
       "      <th>6</th>\n",
       "      <th>7</th>\n",
       "      <th>8</th>\n",
       "      <th>9</th>\n",
       "      <th>10</th>\n",
       "      <th>11</th>\n",
       "    </tr>\n",
       "  </thead>\n",
       "  <tbody>\n",
       "    <tr>\n",
       "      <th>0</th>\n",
       "      <td>0</td>\n",
       "      <td>0</td>\n",
       "      <td>0</td>\n",
       "      <td>0</td>\n",
       "      <td>0</td>\n",
       "      <td>0</td>\n",
       "      <td>0</td>\n",
       "      <td>0</td>\n",
       "      <td>0</td>\n",
       "      <td>0</td>\n",
       "      <td>0</td>\n",
       "      <td>0</td>\n",
       "    </tr>\n",
       "    <tr>\n",
       "      <th>1</th>\n",
       "      <td>0</td>\n",
       "      <td>0</td>\n",
       "      <td>0</td>\n",
       "      <td>0</td>\n",
       "      <td>0</td>\n",
       "      <td>0</td>\n",
       "      <td>0</td>\n",
       "      <td>0</td>\n",
       "      <td>0</td>\n",
       "      <td>0</td>\n",
       "      <td>0</td>\n",
       "      <td>0</td>\n",
       "    </tr>\n",
       "    <tr>\n",
       "      <th>2</th>\n",
       "      <td>0</td>\n",
       "      <td>0</td>\n",
       "      <td>0</td>\n",
       "      <td>0</td>\n",
       "      <td>0</td>\n",
       "      <td>0</td>\n",
       "      <td>0</td>\n",
       "      <td>0</td>\n",
       "      <td>0</td>\n",
       "      <td>0</td>\n",
       "      <td>0</td>\n",
       "      <td>0</td>\n",
       "    </tr>\n",
       "    <tr>\n",
       "      <th>3</th>\n",
       "      <td>0</td>\n",
       "      <td>0</td>\n",
       "      <td>0</td>\n",
       "      <td>0</td>\n",
       "      <td>0</td>\n",
       "      <td>3</td>\n",
       "      <td>3</td>\n",
       "      <td>1</td>\n",
       "      <td>0</td>\n",
       "      <td>0</td>\n",
       "      <td>0</td>\n",
       "      <td>1</td>\n",
       "    </tr>\n",
       "    <tr>\n",
       "      <th>4</th>\n",
       "      <td>0</td>\n",
       "      <td>0</td>\n",
       "      <td>0</td>\n",
       "      <td>0</td>\n",
       "      <td>0</td>\n",
       "      <td>0</td>\n",
       "      <td>0</td>\n",
       "      <td>0</td>\n",
       "      <td>0</td>\n",
       "      <td>0</td>\n",
       "      <td>0</td>\n",
       "      <td>0</td>\n",
       "    </tr>\n",
       "    <tr>\n",
       "      <th>5</th>\n",
       "      <td>0</td>\n",
       "      <td>0</td>\n",
       "      <td>0</td>\n",
       "      <td>0</td>\n",
       "      <td>0</td>\n",
       "      <td>0</td>\n",
       "      <td>0</td>\n",
       "      <td>0</td>\n",
       "      <td>0</td>\n",
       "      <td>0</td>\n",
       "      <td>0</td>\n",
       "      <td>0</td>\n",
       "    </tr>\n",
       "  </tbody>\n",
       "</table>\n",
       "</div>"
      ],
      "text/plain": [
       "   0   1   2   3   4   5   6   7   8   9   10  11\n",
       "0   0   0   0   0   0   0   0   0   0   0   0   0\n",
       "1   0   0   0   0   0   0   0   0   0   0   0   0\n",
       "2   0   0   0   0   0   0   0   0   0   0   0   0\n",
       "3   0   0   0   0   0   3   3   1   0   0   0   1\n",
       "4   0   0   0   0   0   0   0   0   0   0   0   0\n",
       "5   0   0   0   0   0   0   0   0   0   0   0   0"
      ]
     },
     "execution_count": 114,
     "metadata": {},
     "output_type": "execute_result"
    }
   ],
   "source": [
    "counts_in_dataframe(path='../data/pose_boxes', timestamp=_timestamps[0],key=_key)"
   ]
  },
  {
   "cell_type": "code",
   "execution_count": null,
   "metadata": {},
   "outputs": [],
   "source": [
    "for _key in _keys:\n",
    "    #print(_key)\n",
    "    create_heatmap(count_and_add_dataframes(key=_key))"
   ]
  },
  {
   "cell_type": "markdown",
   "metadata": {},
   "source": [
    "# Old Work"
   ]
  },
  {
   "cell_type": "code",
   "execution_count": 111,
   "metadata": {},
   "outputs": [
    {
     "data": {
      "text/plain": [
       "[]"
      ]
     },
     "execution_count": 111,
     "metadata": {},
     "output_type": "execute_result"
    }
   ],
   "source": [
    "get_missing_box_bookmark_files()"
   ]
  },
  {
   "cell_type": "code",
   "execution_count": null,
   "metadata": {},
   "outputs": [],
   "source": [
    "#Image.open('test.png')"
   ]
  },
  {
   "cell_type": "code",
   "execution_count": 25,
   "metadata": {},
   "outputs": [
    {
     "data": {
      "text/plain": [
       "'../videos2.json'"
      ]
     },
     "execution_count": 25,
     "metadata": {},
     "output_type": "execute_result"
    }
   ],
   "source": [
    "app=_app_test\n",
    "_video = app._tab._widgets[0]\n",
    "_video.video_filename.value"
   ]
  },
  {
   "cell_type": "code",
   "execution_count": null,
   "metadata": {},
   "outputs": [],
   "source": [
    "_filename = '../data/videos/box_bookmarks_6_12/' + listdir('../data/videos/box_bookmarks_6_12/')[3]\n",
    "loadVideo(app=app,filename=_filename)"
   ]
  },
  {
   "cell_type": "code",
   "execution_count": null,
   "metadata": {},
   "outputs": [],
   "source": [
    "_video.video_filename.value= '../data/videos/box_bookmarks_6_12/' + listdir('../data/videos/box_bookmarks_6_12/')[0]\n",
    "_video.on_video_load_button_clicked('')  \n",
    "set_image_quality(app)"
   ]
  },
  {
   "cell_type": "code",
   "execution_count": null,
   "metadata": {},
   "outputs": [],
   "source": [
    "_video.video_filename.value= '../data/videos/box_bookmarks_6_12/' + 'video_JqUREqYduHw.json'\n",
    "_video.on_video_save_button_clicked('')    "
   ]
  },
  {
   "cell_type": "code",
   "execution_count": null,
   "metadata": {},
   "outputs": [],
   "source": [
    "_video.on_video_save_button_clicked('')    "
   ]
  },
  {
   "cell_type": "code",
   "execution_count": null,
   "metadata": {},
   "outputs": [],
   "source": [
    "#_video.sources.get_keys()\n",
    "_video.vid"
   ]
  },
  {
   "cell_type": "code",
   "execution_count": null,
   "metadata": {},
   "outputs": [],
   "source": [
    "#displayAllVideos(_app_test)\n",
    "\n",
    "_video = _app_test._tab._widgets[0]    \n",
    "_keys = getVideoKeys(_app_test)\n",
    "\n",
    "loadVideo(app=_app_test,key=_keys[0],index=0)"
   ]
  },
  {
   "cell_type": "code",
   "execution_count": null,
   "metadata": {},
   "outputs": [],
   "source": [
    "set_image_quality(_app,index=5)"
   ]
  },
  {
   "cell_type": "code",
   "execution_count": null,
   "metadata": {},
   "outputs": [],
   "source": [
    " _video  = _app._tab._widgets[0]\n",
    " _keys = list(_video.sources.videos.keys())\n",
    "print(_keys)\n",
    "loadVideo(app=_app,key='JqUREqYduHw')\n",
    "\n",
    "for key in _keys:\n",
    "    try:\n",
    "        _crop   = _app._tab._widgets[1] \n",
    "        loadVideo(app=_app,key=key)\n",
    "        generate_box_bookmarks(size=_app._imageWidget2.getImage().size, crop=_crop)  \n",
    "    except Exception as e:\n",
    "        print(key)\n",
    "    "
   ]
  },
  {
   "cell_type": "code",
   "execution_count": null,
   "metadata": {},
   "outputs": [],
   "source": [
    "_video  = _app._tab._widgets[0]\n",
    "_keys = list(_video.sources.videos.keys())\n",
    "print(_keys)\n",
    "_keys=['vVyBOU9Huvo', 'HpdO5Kq3o7Y', 'AdUw5RdyZxI', 'ns8y0SVcJGA']\n",
    "\n",
    "for key in _keys:\n",
    "    try:\n",
    "        \n",
    "        loadVideo(app=_app,key=key)\n",
    "        #loadVideo(app=_app2,key=key)\n",
    "        get_and_save_boxes_with_data(app=_app,crop = _app._tab._widgets[1]) \n",
    "        #get_and_save_objectboxes_with_data(app=_app2,crop = _app2._tab._widgets[1])\n",
    "    except Exception as e:\n",
    "        print(key,e)"
   ]
  },
  {
   "cell_type": "code",
   "execution_count": null,
   "metadata": {},
   "outputs": [],
   "source": [
    "_keys = list(_video.sources.videos.keys())\n",
    "print(_keys)"
   ]
  },
  {
   "cell_type": "code",
   "execution_count": null,
   "metadata": {},
   "outputs": [],
   "source": []
  },
  {
   "cell_type": "code",
   "execution_count": null,
   "metadata": {},
   "outputs": [],
   "source": [
    "results"
   ]
  },
  {
   "cell_type": "code",
   "execution_count": null,
   "metadata": {},
   "outputs": [],
   "source": [
    "path='../data/pose_boxes'\n",
    "_timestamps=get_timestamps(path=path)\n",
    "df2b=counts_in_dataframe(path=path, timestamp=_timestamps[0])\n"
   ]
  },
  {
   "cell_type": "code",
   "execution_count": null,
   "metadata": {},
   "outputs": [],
   "source": [
    "_timestamps"
   ]
  },
  {
   "cell_type": "code",
   "execution_count": null,
   "metadata": {},
   "outputs": [],
   "source": [
    "df=count_and_add_dataframes(path='../data/object_boxes')\n",
    "create_heatmap(df)"
   ]
  },
  {
   "cell_type": "code",
   "execution_count": null,
   "metadata": {},
   "outputs": [],
   "source": [
    "df=count_and_add_dataframes()\n",
    "create_heatmap(df2b)"
   ]
  },
  {
   "cell_type": "code",
   "execution_count": null,
   "metadata": {},
   "outputs": [],
   "source": [
    "path='../data/object_boxes'\n",
    "_timestamps=get_timestamps(path=path)\n",
    "df=counts_in_dataframe(path=path, timestamp=_timestamps[0])"
   ]
  },
  {
   "cell_type": "code",
   "execution_count": null,
   "metadata": {},
   "outputs": [],
   "source": [
    "_timestamps"
   ]
  },
  {
   "cell_type": "code",
   "execution_count": null,
   "metadata": {},
   "outputs": [],
   "source": [
    "create_heatmap(df)"
   ]
  },
  {
   "cell_type": "code",
   "execution_count": null,
   "metadata": {},
   "outputs": [],
   "source": [
    "df2b.dtypes"
   ]
  },
  {
   "cell_type": "markdown",
   "metadata": {},
   "source": [
    "## trial"
   ]
  },
  {
   "cell_type": "code",
   "execution_count": null,
   "metadata": {},
   "outputs": [],
   "source": [
    "\"'''import numpy as np\\n\",\n",
    "    \"import pandas as pd \\n\",\n",
    "    \"import seaborn as sns\\n\",\n",
    "    \"\\n\",\n",
    "    \"\\n\",\n",
    "    \"np.random.seed(0)\\n\",\n",
    "    \"data = {'Höhe': np.repeat([0180, 180360, 360540, 540720, 720900, 9001080], 12),\\n\",\n",
    "    \"        'Länge': np.repeat([0160, 160320, 320480, 480640, 640800, 800960, 9601120, 11201280, 12801440, 14401600, 16001760, 17601920], 6),\\n\",\n",
    "    \"        'Ergebnisse': (count, size=72)\\n\",\n",
    "    \"        }\\n\",\n",
    "    \"\\n\",\n",
    "    \"df = pd.DataFrame(data,columns=['Höhe','Länge','Ergebnisse'])\\n\",\n",
    "    \"df = df.pivot('Höhe', 'Länge', 'Ergebnisse')\\n\",\n",
    "    \"\\n\",\n",
    "    \"\\n\",\n",
    "    \"df[:18]\\n\",\n",
    "    \"\\n\",\n",
    "    \"\\n\",\n",
    "    \"\\n\",\n",
    "    \"sns.heatmap(df)\\n\",\n",
    "    \"'''\""
   ]
  },
  {
   "cell_type": "code",
   "execution_count": null,
   "metadata": {},
   "outputs": [],
   "source": [
    "from decimal import Decimal\n",
    "data = [1,8,3, set(['knights', 'who', 'say', 'ni']), {'key':'value'}, Decimal('3.14')]"
   ]
  },
  {
   "cell_type": "code",
   "execution_count": null,
   "metadata": {},
   "outputs": [],
   "source": [
    "_step2.result"
   ]
  },
  {
   "cell_type": "code",
   "execution_count": null,
   "metadata": {},
   "outputs": [],
   "source": [
    "_crop.crop_list.value = 'Pos1'\n",
    "_app._tab.evaluateWidgetActionList(end=None)['image']"
   ]
  },
  {
   "cell_type": "code",
   "execution_count": null,
   "metadata": {},
   "outputs": [],
   "source": [
    "print_pipeline_info(_app2)"
   ]
  },
  {
   "cell_type": "code",
   "execution_count": null,
   "metadata": {},
   "outputs": [],
   "source": [
    "#_crop.add_bookmark('test3')\n",
    "_crop.remove_bookmark('test3')"
   ]
  },
  {
   "cell_type": "code",
   "execution_count": null,
   "metadata": {
    "tags": []
   },
   "outputs": [],
   "source": [
    "loadVideo(_app,1)\n",
    "_crop.crop_list.value = 'Position1'\n",
    "display(_app._tab.evaluateWidgetActionList(end=None)['image'])\n",
    "\n",
    "loadVideo(_app,0)\n",
    "_crop.crop_list.value = 'Pos1'\n",
    "display(_app._tab.evaluateWidgetActionList(end=None)['image'])\n"
   ]
  },
  {
   "cell_type": "code",
   "execution_count": null,
   "metadata": {
    "tags": []
   },
   "outputs": [],
   "source": [
    "_app._tab.evaluateWidgetActionList(end=None)['image']"
   ]
  },
  {
   "cell_type": "markdown",
   "metadata": {},
   "source": [
    "# Rest"
   ]
  },
  {
   "cell_type": "code",
   "execution_count": null,
   "metadata": {},
   "outputs": [],
   "source": [
    "import pandas as pd\n",
    "\n",
    "df = pd.DataFrame(columns=list(range(0, 12)))\n",
    "\n",
    "for i in range(5):\n",
    "    df.loc[i] = listofzeros = [0] * 12\n",
    "\n",
    "df.loc[2][3] = 5\n",
    "df"
   ]
  },
  {
   "cell_type": "code",
   "execution_count": null,
   "metadata": {},
   "outputs": [],
   "source": [
    "import pandas as pd\n",
    "import seaborn as sns\n",
    "import matplotlib.pyplot as plt\n",
    "\n",
    "result = table = pd.pivot_table(data=df,index=df.index)"
   ]
  },
  {
   "cell_type": "code",
   "execution_count": null,
   "metadata": {},
   "outputs": [],
   "source": [
    "_app._tab._widgets[1]._get_VideoAction().sources.videos[_app._tab._widgets[1]._get_VideoAction().id]['bookmarks']"
   ]
  },
  {
   "cell_type": "code",
   "execution_count": null,
   "metadata": {},
   "outputs": [],
   "source": [
    "_app._tab._widgets[4].result"
   ]
  },
  {
   "cell_type": "code",
   "execution_count": null,
   "metadata": {},
   "outputs": [],
   "source": []
  },
  {
   "cell_type": "code",
   "execution_count": null,
   "metadata": {},
   "outputs": [],
   "source": [
    "_app._tab._widgets[3].result['poses'][1].keypoints,_app._tab._widgets[3].result['poses'][1].score\n"
   ]
  },
  {
   "cell_type": "code",
   "execution_count": null,
   "metadata": {},
   "outputs": [],
   "source": [
    "pose=_app._tab._widgets[3].result['poses'][1]\n",
    "minimum=[9999999,9999899]\n",
    "maximum=[0,0]\n",
    "for label, keypoint in pose.keypoints.items():\n",
    "                \n",
    "                print(keypoint.score)\n",
    "                #drawPoint(image,keypoint.yx[1], keypoint.yx[0],2,rgba)\n",
    "                \n",
    "                #kp_y = int((keypoint.yx[0] ) )\n",
    "                #kp_x = int((keypoint.yx[1] ) )\n",
    "                kp_y = int( keypoint.point.y)\n",
    "                kp_x = int( keypoint.point.x)\n",
    "                if kp_x<minimum[0]:\n",
    "                    minimum[0]=kp_x\n",
    "                if kp_x>maximum[0]:\n",
    "                    maximum[0]=kp_x\n",
    "                if kp_y<minimum[1]:\n",
    "                    minimum[1]=kp_y\n",
    "                if kp_y>maximum[1]:\n",
    "                    maximum[1]=kp_y\n",
    "                \n",
    "minimum,maximum                "
   ]
  },
  {
   "cell_type": "code",
   "execution_count": null,
   "metadata": {},
   "outputs": [],
   "source": [
    "#def _output_result(update=True, result=None):\n",
    "#    _app2._tab.displayWidget.update(_app2._tab.displayWidget.action.evaluate())\n",
    "#_app2._tab._widgets[1].output_result = _output_result   "
   ]
  },
  {
   "cell_type": "code",
   "execution_count": null,
   "metadata": {},
   "outputs": [],
   "source": [
    "def count():    \n",
    "    counter=0\n",
    "    for object in _app2._tab._widgets[3].result['objects']:\n",
    "        if object.id==0:\n",
    "            counter=counter+1\n",
    "    return counter\n",
    "count()\n"
   ]
  },
  {
   "cell_type": "code",
   "execution_count": null,
   "metadata": {},
   "outputs": [],
   "source": [
    "_app2._tab._widgets[4].result"
   ]
  },
  {
   "cell_type": "code",
   "execution_count": null,
   "metadata": {},
   "outputs": [],
   "source": [
    "print(_app2._tab._widgets[3].result.keys())"
   ]
  },
  {
   "cell_type": "markdown",
   "metadata": {},
   "source": [
    "# work"
   ]
  },
  {
   "cell_type": "code",
   "execution_count": null,
   "metadata": {},
   "outputs": [],
   "source": [
    "_app._tab._widgets[3].result"
   ]
  }
 ],
 "metadata": {
  "kernelspec": {
   "display_name": "Python 3",
   "language": "python",
   "name": "python3"
  },
  "language_info": {
   "codemirror_mode": {
    "name": "ipython",
    "version": 3
   },
   "file_extension": ".py",
   "mimetype": "text/x-python",
   "name": "python",
   "nbconvert_exporter": "python",
   "pygments_lexer": "ipython3",
   "version": "3.8.8"
  },
  "toc-autonumbering": false,
  "toc-showcode": false,
  "toc-showmarkdowntxt": false,
  "toc-showtags": false
 },
 "nbformat": 4,
 "nbformat_minor": 4
}

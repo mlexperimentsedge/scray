{
 "cells": [
  {
   "cell_type": "code",
   "execution_count": null,
   "metadata": {},
   "outputs": [],
   "source": [
    "#!pip3 install opencv-python\n",
    "#!pip install pafy -U\n",
    "#!pip install youtube_dl"
   ]
  },
  {
   "cell_type": "code",
   "execution_count": null,
   "metadata": {},
   "outputs": [],
   "source": [
    "#!pip install ipydagred3\n",
    "#!jupyter labextension install @jupyter-widgets/jupyterlab-manager"
   ]
  },
  {
   "cell_type": "markdown",
   "metadata": {
    "tags": []
   },
   "source": [
    "# ImageWidget"
   ]
  },
  {
   "cell_type": "code",
   "execution_count": 1,
   "metadata": {},
   "outputs": [],
   "source": [
    "import cv2\n",
    "import numpy as np\n",
    "from PIL import Image\n",
    "import io\n",
    "\n",
    "style = {'description_width': '250px'}\n",
    "layout = {'width': '500px'}\n",
    "\n",
    "class ImageWidget(object):\n",
    "    def __init__(self, image=None, display=True):\n",
    "        self.image_w = widgets.Image(format='PNG')\n",
    "        self.setImage(image)\n",
    "        if display == True:\n",
    "            self.display()\n",
    "    \n",
    "    def display(self):\n",
    "        display(self.image_w)  \n",
    "    \n",
    "    def getByteArray(self,image):    \n",
    "        #return None\n",
    "        img_byte_arr = io.BytesIO()\n",
    "        image.save(img_byte_arr, format='PNG')\n",
    "        img_byte_arr = img_byte_arr.getvalue()\n",
    "        return img_byte_arr\n",
    "    \n",
    "    def evaluate(self, image=None):\n",
    "        self.setImage(image)\n",
    "        \n",
    "    def _dict(self):\n",
    "        return {'class' : self.__class__.__name__, 'parameters' : {}}\n",
    "    \n",
    "    def setImage(self,image):\n",
    "        #print('ImageWidget')\n",
    "        if image != None:\n",
    "            try:\n",
    "                #print('set image', type(image))\n",
    "                if isinstance(image, dict):\n",
    "                    image = image['image']\n",
    "                self.image_w.value = self.getByteArray(image)    \n",
    "            except Exception as exception: \n",
    "                print('Exception ImageWidget', str(exception))\n",
    "            \n",
    "    def getImage(self):\n",
    "        return Image.open(io.BytesIO(self.image_w.value))"
   ]
  },
  {
   "cell_type": "markdown",
   "metadata": {},
   "source": [
    "# BaseAction"
   ]
  },
  {
   "cell_type": "code",
   "execution_count": 2,
   "metadata": {},
   "outputs": [],
   "source": [
    "class BaseAction(object):\n",
    "    \n",
    "    def __init__(self):\n",
    "        self.name = __class__.__name__\n",
    "    \n",
    "    def dict(self):\n",
    "        return {'class' : self.__class__.__name__, 'parameters' : self.__dict__}\n",
    "    \n",
    "    def merged_dict(self,parameters=None):\n",
    "        old = dict()\n",
    "        return {'class':old['class'],'parameters':{**old['parameters'],**parameters}}\n",
    "    \n",
    "    def merge(self,parameters={}):\n",
    "        adict = {'class' : self.__class__.__name__, 'parameters' : {**self.__dict__, **parameters}}\n",
    "        #adict = merged_dict(parameters)\n",
    "        return eval(adict['class'])(**adict['parameters'])\n",
    "    \n",
    "    def _get_image(self,image):\n",
    "        if isinstance(image, dict):\n",
    "            return image['image']\n",
    "        return image\n",
    "    \n",
    "    def _filename(self,filename=None,name=None):\n",
    "        if name != None:\n",
    "            return name + '_' + self.__class__.__name__ + '.json'\n",
    "        if filename == None:\n",
    "            return '_action_' + self.__class__.__name__ + '.json'\n",
    "        return filename\n",
    "    \n",
    "    def save(self,filename=None,name=None):\n",
    "        with open(self._filename(filename,name), 'w', encoding='utf-8') as f:\n",
    "            json.dump(self.dict(), f, ensure_ascii=False, indent=4)    \n",
    "\n",
    "    def load(self,filename=None,name=None):\n",
    "        with open(self._filename(filename,name), 'r') as fp:\n",
    "            file = json.load(fp)  \n",
    "            return file          \n",
    "        \n",
    "   "
   ]
  },
  {
   "cell_type": "code",
   "execution_count": 3,
   "metadata": {},
   "outputs": [],
   "source": [
    "class BaseWidget(object):\n",
    "    def evaluate(self,image=None):\n",
    "        return self.action.evaluate(image)\n",
    "    \n",
    "    def _get_image(self,image):\n",
    "        if isinstance(image, dict):\n",
    "            return image['image']\n",
    "        return image  \n",
    "    \n",
    "     # write output    \n",
    "    def output_result(self,update=True, result=None):\n",
    "        if update == True:\n",
    "            if(self.imageWidget != None):\n",
    "                self.imageWidget.evaluate(result)    \n",
    "                \n",
    "    def get_result(self):\n",
    "        if hasattr(self, 'result'):\n",
    "            return self.result\n",
    "        return None "
   ]
  },
  {
   "cell_type": "markdown",
   "metadata": {},
   "source": [
    "# TemplateAction"
   ]
  },
  {
   "cell_type": "code",
   "execution_count": 4,
   "metadata": {},
   "outputs": [],
   "source": [
    "class TemplateAction(BaseAction):\n",
    "    def __init__(self):\n",
    "        pass\n",
    "    \n",
    "    def evaluate(self, **kwargs):        \n",
    "        if 'image' in kwargs.keys():\n",
    "            self.result = {'image':kwargs['image']}\n",
    "        return self.result"
   ]
  },
  {
   "cell_type": "markdown",
   "metadata": {},
   "source": [
    "# TemplateWidget"
   ]
  },
  {
   "cell_type": "code",
   "execution_count": 5,
   "metadata": {},
   "outputs": [],
   "source": [
    "class TemplateWidget(BaseWidget):\n",
    "    def __init__(self, action=None, imageWidget=None, parent=None):\n",
    "        self.action = action\n",
    "        self.parent = parent\n",
    "        self.result = None\n",
    "        self.imageWidget = imageWidget\n",
    "        self.vbox   = widgets.VBox([])\n",
    "        \n",
    "        if action == None:\n",
    "            action = TemplateAction()\n",
    "            \n",
    "    def evaluate(self, **kwargs):        \n",
    "        if 'image' in kwargs.keys():\n",
    "            self.result = {'image':kwargs['image']}\n",
    "        return self.result\n",
    "            \n",
    "    def myfunc(self,**kwargs):\n",
    "        # kwargs is a dictionary.\n",
    "        for k,v in kwargs.items():\n",
    "             print (\"%s = %s\" % (k, v))\n",
    "        if 'image' in kwargs.keys():\n",
    "            print('found')        "
   ]
  },
  {
   "cell_type": "markdown",
   "metadata": {},
   "source": [
    "# CropAction"
   ]
  },
  {
   "cell_type": "code",
   "execution_count": 6,
   "metadata": {},
   "outputs": [],
   "source": [
    "# input: image, output cropped image\n",
    "class CropAction(BaseAction):\n",
    "    WORLD = 0\n",
    "    NORMALIZED = 1\n",
    "    # __init__ is a special method called whenever you try to make\n",
    "    # an instance of a class. As you heard, it initializes the object.\n",
    "    # Here, we'll initialize some of the data.\n",
    "    #def __init__(self, image=None, size=None, min=[0.0,0.0], max=[1.0,1.0]):\n",
    "    def __init__(self,size=None, min=None, max=None,region=None,mode=WORLD):\n",
    "        self.min    = min\n",
    "        self.max    = max\n",
    "        self.region = None\n",
    "        self.size   = size\n",
    "        self.mode   = mode\n",
    "        \n",
    "    def dict(self):\n",
    "        # return self.toNormalized().super(CropAction,self).__init__().dict()\n",
    "        #return self.toNormalized().dict()\n",
    "        return super(CropAction, self.toNormalized()).dict()\n",
    "        \n",
    "    # Problem: + 1    \n",
    "    def evaluate(self, image=None):\n",
    "        image = self._get_image(image)\n",
    "        if self.mode == self.WORLD:\n",
    "            return {'image':image.crop(self._flat())}\n",
    "        return {'image':image.crop(self.fromNormalized(self.flat(), size=image.size))}      \n",
    "        \n",
    "    def _flat(self):\n",
    "        return (self.min[0],self.min[1],self.max[0] + 1,self.max[1] + 1)\n",
    "    \n",
    "    def flat(self):\n",
    "        return (self.min[0],self.min[1],self.max[0],self.max[1])\n",
    "    \n",
    "    def normalizeValue(self, value, size):\n",
    "        return float (value) / size\n",
    "\n",
    "    def fromNormalizedValue(self, value,size):\n",
    "        return int(value * size)\n",
    "\n",
    "    def normalized(self):    \n",
    "        #print(self.min, self.max, self.size)\n",
    "        xmin = self.normalizeValue(self.min[0],self.size[0])\n",
    "        ymin = self.normalizeValue(self.min[1],self.size[1])\n",
    "        xmax = self.normalizeValue(self.max[0],self.size[0])\n",
    "        ymax = self.normalizeValue(self.max[1],self.size[1])\n",
    "        return (xmin,ymin,xmax,ymax)    \n",
    "\n",
    "    def toNormalized(self):\n",
    "        if self.mode == self.NORMALIZED:\n",
    "            return self\n",
    "        _norm = self.normalized()\n",
    "        return CropAction(min=[_norm[0],_norm[1]], max=[_norm[2],_norm[3]], mode=self.NORMALIZED)\n",
    "    \n",
    "    def toWorld(self,size):\n",
    "        if self.mode == self.WORLD:\n",
    "            return self\n",
    "        _world = self.fromNormalized(self.flat(),size=size)\n",
    "        return CropAction(min=[_world[0],_world[1]], max=[_world[2],_world[3]], size=size, mode=self.WORLD)\n",
    "    \n",
    "    def fromNormalized(self, values, size=None):    \n",
    "        if size == None:\n",
    "            size = self.size\n",
    "             \n",
    "        # init size to fix initMinMax problem --> is this really required\n",
    "        self.size = size        \n",
    "                \n",
    "        #print('fromNormalized',size)        \n",
    "        xmin = self.fromNormalizedValue(values[0],size[0])\n",
    "        ymin = self.fromNormalizedValue(values[1],size[1])\n",
    "        xmax = self.fromNormalizedValue(values[2],size[0])\n",
    "        ymax = self.fromNormalizedValue(values[3],size[1])\n",
    "        return [xmin,ymin,xmax,ymax]\n",
    "    \n",
    "    def update(self, size=None):\n",
    "        to = self.normalized()\n",
    "        self.size = size\n",
    "        self.min[0] = self.fromNormalizedValue(to[0],size[0])\n",
    "        self.min[1] = self.fromNormalizedValue(to[1],size[1])\n",
    "        self.max[0] = self.fromNormalizedValue(to[2],size[0]) \n",
    "        self.max[1] = self.fromNormalizedValue(to[3],size[1]) "
   ]
  },
  {
   "cell_type": "markdown",
   "metadata": {
    "tags": []
   },
   "source": [
    "# DisplayWidget\n",
    "action: VideoAction (uses only VideoAction)"
   ]
  },
  {
   "cell_type": "code",
   "execution_count": 7,
   "metadata": {},
   "outputs": [],
   "source": [
    "class DisplayWidget(BaseWidget):\n",
    "    def __init__(self, action=None, update=None):\n",
    "        self.action       = action\n",
    "        self.index        = 0  # for change --> last index\n",
    "        self.image        = None\n",
    "        self.update       = update\n",
    "        \n",
    "        if action != None:\n",
    "            self.init(action)\n",
    "        \n",
    "        _max = 5\n",
    "        layout2={'width': '150px'}\n",
    "        self.imageselectw = widgets.IntSlider(value=self.index, min=0,max=_max,step=1, description='image',layout=layout)\n",
    "        self.imageselectw.observe(self.on_value_change_imageselectw, 'value')\n",
    "        self.next_image_button = widgets.Button(description='Next', disabled=False, tooltip='next image',style=style)\n",
    "        self.next_image_button.on_click(self.on_next_image_button_clicked)  \n",
    "        self.skipframes = widgets.Text(description   = 'skip frames',value = '10', style=style, layout=layout2)\n",
    "        self.skipframes.on_submit(self.on_value_submit_skipframes)\n",
    "        image_select_hbox = widgets.HBox([self.imageselectw,self.next_image_button,self.skipframes])\n",
    "        self.hbox=image_select_hbox\n",
    "        \n",
    "        self.init(action)\n",
    "        \n",
    "    def init(self,action=None):\n",
    "        if action != None:\n",
    "            self.action = action\n",
    "            self.index  = action.index\n",
    "    \n",
    "    def on_value_submit_skipframes(self,change):\n",
    "        if self.action != None:\n",
    "            self.action.skipframes = int(change.value)\n",
    "        \n",
    "    # select image slider\n",
    "    def on_value_change_imageselectw(self,change):\n",
    "        self.index = change['new']\n",
    "        self.action.setIndex(change['new'])\n",
    "        \n",
    "        self.image = self.action.evaluate()['image']\n",
    "        if self.update != None:\n",
    "            self.update(self.image,update=True)\n",
    "        \n",
    "    def on_next_image_button_clicked(self,b):\n",
    "        if self.action.index != self.index:\n",
    "            #self.action = VideoAction(video=self.action.video,index=self.index)\n",
    "            self.action.setIndex(self.index)\n",
    "        self.action.skipframes = int(self.skipframes.value)\n",
    "        self.image = self.action.evaluate()['image']\n",
    "        if self.update != None:\n",
    "            self.update(self.image,update=True)"
   ]
  },
  {
   "cell_type": "markdown",
   "metadata": {},
   "source": [
    "# CropWidget\n",
    "\n",
    "abhängig von parent und sources (speichert regions dort)"
   ]
  },
  {
   "cell_type": "code",
   "execution_count": 8,
   "metadata": {},
   "outputs": [],
   "source": [
    "#display(DisplayWidget(action=_crop.videoAction,imageWidget=_imageWidget).hbox)\n",
    "class CropWidget(BaseWidget):\n",
    "    def __init__(self, action=None, videoAction=None ,parent=None, imageWidget=None, image=None):\n",
    "        self.result       = None\n",
    "        self.action       = action\n",
    "        self.image        = image    # buffers image to be cropped\n",
    "        self.parent       = parent\n",
    "        \n",
    "        self.imageWidget  = imageWidget # None or used to display result\n",
    "        self.displayWidget = None       # TODO: remove\n",
    "        \n",
    "        # still needed ?\n",
    "        cropNormalizedArea = [0.0,0.0,1.0,1.0]    \n",
    "        self.regions = dict()\n",
    "        self.regions['reset'] = cropNormalizedArea\n",
    "    \n",
    "        if image != None:\n",
    "            action.size = image.size\n",
    "    \n",
    "        self.reset_button = widgets.Button(description='Reset', disabled=False, tooltip='reset all values',style=style)\n",
    "        self.reset_button.on_click(self.on_reset_button_clicked)  \n",
    "\n",
    "        self.crop_name = widgets.Text(description = 'name',value = '', style=style, layout=layout,disabled=False)\n",
    "        self.crop_name.on_submit(self.on_value_submit_crop_name)\n",
    "        self.crop_list = widgets.Dropdown(description='region',options=self.regions.keys())\n",
    "        self.crop_list.observe(self.crop_list_on_change) \n",
    "        self.crop_bookmarks = widgets.HBox([self.crop_list, self.crop_name, self.reset_button])\n",
    "        \n",
    "        #self.cropx0 = self._IntSlider(description='x0',value=0)\n",
    "        #self.cropx1 = self._IntSlider(description='x1')\n",
    "        #self.cropx0 = widgets.IntSlider(value=0, step=1, description='x0',layout=layout)\n",
    "        #self.cropx1 = widgets.IntSlider(value=0, step=1, description='x1',layout=layout)\n",
    "        #self.cropx0.observe(self.on_value_change_crop_xmin, 'value')\n",
    "        #self.cropx1.observe(self.on_value_change_crop_xmax, 'value')\n",
    "        \n",
    "        #self.crop_hbox_x = widgets.HBox([self.cropx0, self.cropx1])\n",
    "        \n",
    "        self.crop_hbox_x = widgets.HBox()\n",
    "        self.crop_hbox_y = widgets.HBox()\n",
    "        self._addIntCropSliders()\n",
    "        \n",
    "        self.vbox   = widgets.VBox([self.crop_bookmarks,self.crop_hbox_x, self.crop_hbox_y])\n",
    "        \n",
    "        # set size of image\n",
    "        if action != None and videoAction != None:\n",
    "            self._action_to_world(videoAction.stream.dimensions)\n",
    "        \n",
    "        if action != None and action.size != None:\n",
    "            self.initMinMax(action.size,(0,0,action.size[0]-1,action.size[1]-1))\n",
    "        \n",
    "        \n",
    "    ### SLIDER ############################################################    \n",
    "    def _addIntCropSliders(self):\n",
    "        self.cropx0 = self._IntSlider(description='x0')\n",
    "        self.cropx1 = self._IntSlider(description='x1')\n",
    "        self.cropx0.observe(self.on_value_change_crop_xmin, 'value')\n",
    "        self.cropx1.observe(self.on_value_change_crop_xmax, 'value')\n",
    "        self.crop_hbox_x.children = (self.cropx0,self.cropx1)\n",
    "        \n",
    "        self.cropy0 =  self._IntSlider(description='y0')\n",
    "        self.cropy1 =  self._IntSlider(description='y1')\n",
    "        self.cropy0.observe(self.on_value_change_crop_ymin, 'value')\n",
    "        self.cropy1.observe(self.on_value_change_crop_ymax, 'value')\n",
    "        self.crop_hbox_y.children = (self.cropy0,self.cropy1)\n",
    "        \n",
    "    def _FloatSlider(self,description='',value=0.0,layout=layout):\n",
    "        return widgets.FloatSlider(value=value,description=description, min=0, max=1.0, step=0.001, readout_format='.3f',layout=layout)\n",
    "    \n",
    "    def _IntSlider(self,description='',value=0,max=0,layout=layout):\n",
    "        return widgets.IntSlider(value=value, max=max,step=1, description=description,layout=layout)    \n",
    "        \n",
    "        \n",
    "    # Hilfsfunktion, es gibt nur eine VideoACtion    \n",
    "    def _get_VideoAction(self):\n",
    "        return self.displayWidget.action\n",
    "        \n",
    "    def _action_to_world(self,size):\n",
    "        if(self.action.mode != self.action.WORLD):\n",
    "            self.action = self.action.toWorld(size=size)    \n",
    "        \n",
    "    ##########################################################################    \n",
    "        \n",
    "    # INIT    ---> creates new action !!! sets parameters for widget, depends on other actions\n",
    "    # VideoAction oder parent ??????\n",
    "    \n",
    "    #def init(self, action=None, parent=None):\n",
    "    def init(self, action=None):    \n",
    "        #self.parent = parent\n",
    "        self.crop_list.options=action.sources.videos[action.id]['bookmarks'].keys()\n",
    "        \n",
    "        ## TODO: remove ------> outside\n",
    "        if self.displayWidget != None:\n",
    "            self.displayWidget.init(action) \n",
    "            \n",
    "        self.initMinMax()\n",
    "   \n",
    "    def evaluate(self,image=None):\n",
    "        # Achtung schreibt image auch in ImageWidget !!!!!!! Doppelt\n",
    "        self.updateImage(image)\n",
    "        return self.result\n",
    "    \n",
    "    # after image is updated ######### size or image changed / source\n",
    "    # called e.g. by DisplayWidget\n",
    "    def updateImage(self,image=None,update=False):\n",
    "        self.image = self._get_image(image)\n",
    "        size = self.image.size\n",
    "        \n",
    "        if(self.action == None):\n",
    "            self.action   = CropAction(size=size,min=[0,0], max=[size[0],size[1]])\n",
    "        \n",
    "        # action is normalized until size of image is known    \n",
    "        self._action_to_world(size)\n",
    "          \n",
    "        if(self.action.size != size or self.cropx1.max != (size[0] - 1)):\n",
    "            self.action.update(size)\n",
    "            self.crop_image()\n",
    "            self.initMinMax()\n",
    "        else:\n",
    "            self.crop_image(update=update)  \n",
    "     \n",
    "    # RESULT \n",
    "    def crop_image(self, update=False):\n",
    "        \n",
    "        if self.image != None :  \n",
    "            image = self.image\n",
    "        elif self.parent != None:\n",
    "            image = self.parent.get_result()\n",
    "        \n",
    "        if image != None:\n",
    "            if(self.action == None):\n",
    "                self.action   = CropAction(size=image.size,min=[0,0], max=[image.size[0],image.size[1]])\n",
    "            \n",
    "            self.result = self.action.evaluate(image=image)\n",
    "            \n",
    "            # write output\n",
    "            self.output_result(update=update,result=self.result)\n",
    "            #if update == True:\n",
    "            #    if(self.imageWidget != None):\n",
    "            #        self.imageWidget.evaluate(self.result['image'])    \n",
    "        \n",
    "    def initMinMax(self,size=None,cropArea = None):\n",
    "        print('CropWidget','initMinMax')\n",
    "        if self.action == None:\n",
    "            return\n",
    "        \n",
    "        if size == None:\n",
    "            size = self.action.size\n",
    "            cropArea = self.action.flat()\n",
    "        \n",
    "        self.cropx0.max = size[0] - 1\n",
    "        self.cropx1.max = size[0] - 1\n",
    "        self.cropy0.max = size[1] - 1\n",
    "        self.cropy1.max = size[1] - 1\n",
    "\n",
    "        self.cropx0.value = cropArea[0]\n",
    "        self.cropy0.value = cropArea[1]\n",
    "        self.cropx1.value = cropArea[2]\n",
    "        self.cropy1.value = cropArea[3]    \n",
    "        \n",
    "    def on_value_change_crop_xmin(self,change):\n",
    "        #print(change.owner)\n",
    "        #print(type(change['new']))\n",
    "        self.cropx1.min  = change['new']\n",
    "        self.action.min[0] = change['new']\n",
    "        self.crop_image(update=True)\n",
    "            \n",
    "    def on_value_change_crop_xmax(self,change):\n",
    "        #print(change['new'],self.action.max)\n",
    "        self.cropx0.max  = change['new']\n",
    "        self.action.max[0] = change['new']\n",
    "        self.crop_image(update=True)\n",
    "\n",
    "    def on_value_change_crop_ymin(self,change):\n",
    "        self.cropy1.min  = change['new']\n",
    "        self.action.min[1] = change['new']\n",
    "        self.crop_image(update=True)\n",
    "\n",
    "    def on_value_change_crop_ymax(self,change):\n",
    "        self.cropy0.max  = change['new']\n",
    "        self.action.max[1] = change['new']\n",
    "        self.crop_image(update=True)        \n",
    "        \n",
    "    # add/update bookmark of current video source\n",
    "    def on_value_submit_crop_name(self,change):\n",
    "        #self.parent.sources.videos[self.parent.id]['bookmarks'][change.value] = self.action.normalized()\n",
    "        self._get_VideoAction().sources.videos[self._get_VideoAction().id]['bookmarks'][change.value] = self.action.normalized()\n",
    "        \n",
    "        if change.value not in self.crop_list.options:\n",
    "            self.crop_list.options = list(self.crop_list.options) + [change.value] \n",
    "        self.crop_list.value = change.value\n",
    "        \n",
    "    def crop_list_on_change(self,change):\n",
    "        if change['type'] == 'change' and change['name'] == 'value':\n",
    "            self.crop_name.value = change['new']\n",
    "            #self.initMinMax(self.action.size,self.action.fromNormalized(self.parent.sources.videos[self.displayWidget.action.id]['bookmarks'][change['new']]))\n",
    "            self.initMinMax(self.action.size,self.action.fromNormalized(self._get_VideoAction().sources.videos[self._get_VideoAction().id]['bookmarks'][change['new']]))\n",
    "            \n",
    "    def on_reset_button_clicked(self,b):\n",
    "        self.action.min = [0,0]\n",
    "        self.action.max = [self.image.size[0],self.image.size[1]]\n",
    "        self.initMinMax()\n",
    "        self.crop_name.value = ''"
   ]
  },
  {
   "cell_type": "markdown",
   "metadata": {},
   "source": [
    "# Resize"
   ]
  },
  {
   "cell_type": "code",
   "execution_count": 9,
   "metadata": {},
   "outputs": [],
   "source": [
    "####################### scale\n",
    "options={'NEAREST' : Image.NEAREST,'BOX' : Image.BOX,'BILINEAR' : Image.BILINEAR,'HAMMING' : Image.HAMMING,'BICUBIC' : Image.BICUBIC,'LANCZOS' : Image.LANCZOS}\n",
    "#options={Image.NEAREST,Image.BOX,Image.BILINEAR,Image.HAMMING,Image.BICUBIC,Image.LANCZOS}\n",
    "#size_options = {(128,128),(224,224),(240,240),(256,256),(299,299),(300,300),(320,320),(513,513)}\n",
    "size_options = {'(128,128)' : (128,128), '(224,224)' : (224,224), '(240,240)' : (240,240), '(256,256)' : (256,256),\n",
    "                '(299,299)' : (299,299),'(300,300)' : (300,300),'(320,320)' : (320,320),'(513,513)' : (513,513),\n",
    "                '(640,480)' : (640,480)}\n",
    "\n",
    "\n",
    "class ResizeAction(BaseAction):\n",
    "    def __init__(self,size=None,use_w=False,use_h=False,algorithm=Image.NEAREST):\n",
    "        self.size=size\n",
    "        self.use_w=use_w\n",
    "        self.use_h=use_h\n",
    "        self.algorithm=algorithm\n",
    "        \n",
    "    def evaluate(self,image=None):\n",
    "        try:\n",
    "            w = self.size[0]\n",
    "            h = self.size[1]\n",
    "            #print(size,w,h)\n",
    "            imagea = image\n",
    "\n",
    "            ratio = h / imagea.size[1]\n",
    "            newsize = (int(ratio * imagea.size[0]), int(ratio * imagea.size[1]) )\n",
    "\n",
    "            ratio = w / imagea.size[0]\n",
    "            h2 = int(ratio * imagea.size[1])\n",
    "            w2 = int(ratio * imagea.size[0])\n",
    "            if h2 > h:\n",
    "                ratio = h / imagea.size[1]\n",
    "                h2 = int(ratio * imagea.size[1])\n",
    "                w2 = int(ratio * imagea.size[0])\n",
    "            newsize = (w2, h2 )\n",
    "\n",
    "            imageb = imagea.resize(newsize,self.algorithm)\n",
    "\n",
    "            v = (int((self.size[0]-imageb.size[0])/2), int((self.size[1]-imageb.size[1])/2))\n",
    "            new_im = Image.new(\"RGB\", self.size) \n",
    "            new_im.paste(imageb, v)\n",
    "            return {'image':new_im}       \n",
    "        except:\n",
    "            return {'image':image}"
   ]
  },
  {
   "cell_type": "markdown",
   "metadata": {},
   "source": [
    "# ResizeWidget"
   ]
  },
  {
   "cell_type": "code",
   "execution_count": 10,
   "metadata": {},
   "outputs": [],
   "source": [
    "class ResizeWidget(BaseWidget):\n",
    "    def __init__(self, action=None, parent=None, imageWidget=None, image=None):\n",
    "        self.result        = {'image':image} \n",
    "        self.action       = action\n",
    "        self.parent       = parent\n",
    "        self.imageWidget  = imageWidget\n",
    "                \n",
    "        self.algorithmw = widgets.Dropdown(options=options,  description='algorithm', value = 0,style=style, layout=layout)\n",
    "        self.algorithmw.observe(self.algorithmw_on_change,'value') \n",
    "        self.sizew = widgets.Dropdown(options=size_options,  description='sizes', style=style, layout=layout)\n",
    "        self.sizew.observe(self.sizew_on_change,'value') \n",
    "\n",
    "        self.widthw  = widgets.Text(description = 'width',value = '640', style=style, layout=layout,disabled=False)\n",
    "        self.heightw = widgets.Text(description = 'height',value = '480', style=style, layout=layout,disabled=False)\n",
    "        self.update_button = widgets.Button(description='Resize', disabled=False, tooltip='resize',style=style, layout=layout)\n",
    "        self.update_button.on_click(self.on_update_button_clicked)  \n",
    "        \n",
    "        self.vbox   = widgets.VBox([self.algorithmw,self.sizew,self.widthw,self.heightw,self.update_button])\n",
    "        \n",
    "    def algorithmw_on_change(self,change):\n",
    "        if change['type'] == 'change' and change['name'] == 'value':\n",
    "            self.update()\n",
    "\n",
    "    def sizew_on_change(self,change):\n",
    "        if change['type'] == 'change' and change['name'] == 'value':\n",
    "            self.widthw.value  =  str(change['new'][0])        \n",
    "            self.heightw.value =  str(change['new'][1])  \n",
    "            self.update()\n",
    "            \n",
    "    def update(self):\n",
    "        # get current image\n",
    "        image = self.parent.result['image'] \n",
    "        \n",
    "        if image != None:\n",
    "            new_size = (int(self.widthw.value),int(self.heightw.value))\n",
    "            self.action = ResizeAction(size=new_size,algorithm=self.algorithmw.value)\n",
    "            self.result = self.action.evaluate(image=image)\n",
    "            self.output_result(result=self.result)\n",
    "            \n",
    "    # the result: resized_image    \n",
    "    def on_update_button_clicked(self,b):  \n",
    "        self.update()"
   ]
  },
  {
   "cell_type": "markdown",
   "metadata": {},
   "source": [
    "# FileWidget"
   ]
  },
  {
   "cell_type": "code",
   "execution_count": 139,
   "metadata": {},
   "outputs": [],
   "source": [
    "import ipywidgets as widgets\n",
    "from IPython.display import display\n",
    "vstyle = {'description_width': '250px'}\n",
    "vlayout = {'width': '500px'}\n",
    "\n",
    "class FileWidget(BaseWidget):\n",
    "    def __init__(self, action=None, callback=None , filename = 'videos.json', description = 'filename', child=None):\n",
    "        self.data = None\n",
    "        self.action = action\n",
    "        self.callback = callback\n",
    "        \n",
    "        self.filename = widgets.Text(description = description, value = filename, style=vstyle, layout=vlayout,disabled=False)    \n",
    "        self.save_button = widgets.Button(description='Save', disabled=False, tooltip='reset all values',style=style)\n",
    "        self.save_button.on_click(self.on_save_button_clicked)  \n",
    "        self.load_button = widgets.Button(description='Load', disabled=False, tooltip='reset all values',style=style)\n",
    "        self.load_button.on_click(self.on_load_button_clicked)  \n",
    "        #self.delete_button = widgets.Button(description='Delete', disabled=False, tooltip='reset all values',style=style)\n",
    "        #self.delete_button.on_click(self.on_video_delete_button_clicked)  \n",
    "        self.hbox = widgets.HBox([self.filename,self.load_button,self.save_button])\n",
    "        \n",
    "    def _save(self,filename='actions.json', data=None):\n",
    "        with open(filename, 'w', encoding='utf-8') as f:\n",
    "            json.dump(data, f, ensure_ascii=False, indent=4)    \n",
    "\n",
    "    def _load(self,filename='actions.json'):\n",
    "            with open(filename, 'r') as fp:\n",
    "                file = json.load(fp) \n",
    "                print(file)\n",
    "                return file     \n",
    "\n",
    "    def on_load_button_clicked(self,b): \n",
    "        filename = self.filename.value\n",
    "        if self.action != None:\n",
    "            self.action = self.action.load(filename=filename)\n",
    "            self.callback(self.action)    \n",
    "                \n",
    "    def on_save_button_clicked(self,b):\n",
    "        filename = self.filename.value \n",
    "        if self.action != None:\n",
    "            self.action.save(filename=filename)\n",
    "            \n",
    "\n",
    "    def video_clear_button_clicked(self,b):    \n",
    "        self.video_url.value = ''\n",
    "        self.video_title.value = ''\n",
    "        self.video_location.value = ''\n",
    "        \n",
    "   \n",
    "    def on_video_delete_button_clicked(self,b):\n",
    "        del self.sources.videos[self.video_urls.value]"
   ]
  },
  {
   "cell_type": "code",
   "execution_count": 124,
   "metadata": {},
   "outputs": [
    {
     "data": {
      "application/vnd.jupyter.widget-view+json": {
       "model_id": "77c2f1012aaa4e9dadc919da32bcf884",
       "version_major": 2,
       "version_minor": 0
      },
      "text/plain": [
       "HBox(children=(Text(value='../videos.json', description='pipeline', layout=Layout(width='500px'), style=Descri…"
      ]
     },
     "metadata": {},
     "output_type": "display_data"
    }
   ],
   "source": [
    "#fw = FileWidget(filename = '../videos.json', description='pipeline')\n",
    "#display(fw.hbox)"
   ]
  },
  {
   "cell_type": "markdown",
   "metadata": {},
   "source": [
    "# ContrastBrightnessAction"
   ]
  },
  {
   "cell_type": "code",
   "execution_count": 13,
   "metadata": {},
   "outputs": [],
   "source": [
    "class ContrastBrightnessAction(BaseAction):\n",
    "    def __init__(self, contrast=None, brightness=None):\n",
    "        self.contrast = contrast\n",
    "        self.brightness = brightness\n",
    "\n",
    "    def change_contrast(self,img, level):\n",
    "        factor = (259 * (level + 255)) / (255 * (259 - level))\n",
    "        def contrast(c):\n",
    "            return 128 + factor * (c - 128)\n",
    "        return img.point(contrast)\n",
    "\n",
    "    #constant by which each pixel is divided\n",
    "    def change_brightness(self,im,constant=0.31):\n",
    "        source = im.split()\n",
    "        R, G, B = 0, 1, 2\n",
    "        Red = source[R].point(lambda i: i/constant)\n",
    "        Green = source[G].point(lambda i: i/constant)\n",
    "        Blue = source[B].point(lambda i: i/constant)\n",
    "        im = Image.merge(im.mode, (Red, Green, Blue))\n",
    "        im.save('modified-image.jpeg', 'JPEG', quality=100)\n",
    "        return im\n",
    "\n",
    "    def getByteArray(self,image):    \n",
    "        img_byte_arr = io.BytesIO()\n",
    "        image.save(img_byte_arr, format='PNG')\n",
    "        img_byte_arr = img_byte_arr.getvalue()\n",
    "        return img_byte_arr\n",
    "\n",
    "    def _enhance_image(self, im, contrast=0, brightness=1.0):\n",
    "        im = self.change_contrast(im, contrast)\n",
    "        im = self.change_brightness(im, brightness)\n",
    "        return im\n",
    "\n",
    "    def evaluate(self, image=None):\n",
    "        _image = self._get_image(image)\n",
    "        return {'image':self._enhance_image(_image, self.contrast, self.brightness)}\n",
    "        \n",
    "layout = {'width': '500px'}\n",
    "style = {'description_width': '50px'}\n",
    "    \n",
    "class ContrastBrightnessWidget(BaseWidget):\n",
    "    def __init__(self,action=None,imageWidget=None,layout=layout,style=style):\n",
    "        self.action = action\n",
    "        self.imageWidget  = imageWidget # None or used to display result\n",
    "        self._image = None\n",
    "                \n",
    "        self.contrast_w    = widgets.IntSlider(value=0,description='contrast', min=-1000, max=1000, step=1,layout=layout)\n",
    "        self.brightness_w  = widgets.FloatSlider(value=1.0,description='brightness', min=0, max=1.0, step=0.001, readout_format='.3f',layout=layout)\n",
    "        #results_w = widgets.Text(description='results',value = '0', style=style, layout=layout)\n",
    "        #image_w2      = widgets.Image(format='PNG')\n",
    "        self.contrast_w.observe(self.on_value_change_enhance,'value')\n",
    "        self.brightness_w.observe(self.on_value_change_enhance,'value')\n",
    "        self.vbox   = widgets.VBox([self.contrast_w,self.brightness_w])\n",
    "        #display(contrast_w,brightness_w,results_w,image_w2)\n",
    "\n",
    "        if(self.action == None):\n",
    "            self.action   = ContrastBrightnessAction(contrast=0,brightness=1.0)\n",
    "        \n",
    "    def on_value_change_enhance(self,change):\n",
    "        self.action.contrast=self.contrast_w.value\n",
    "        self.action.brightness=self.brightness_w.value        \n",
    "        self.updateImage(update=True)\n",
    "        \n",
    "        #action._enhance_image(_image, contrast=contrast_w.value, brightness=brightness_w.value)\n",
    "        #results_w.value = str(int(1))\n",
    "        #image_w2.value = getByteArray(im)\n",
    "\n",
    "    def evaluate(self,image=None):\n",
    "        # Achtung schreibt image auch in ImageWidget !!!!!!! Doppelt\n",
    "        self.updateImage(image=image)\n",
    "        \n",
    "        return self.result            \n",
    "                \n",
    "    # RESULT \n",
    "    # after image is updated \n",
    "    # called e.g. by DisplayWidget\n",
    "    def updateImage(self,image=None,update=False):\n",
    "        if(image != None):\n",
    "            self._image = self.action._get_image(image)\n",
    "        \n",
    "        if(self._image != None):  \n",
    "            \n",
    "            self.result = self.action.evaluate(image=self._image)\n",
    "            \n",
    "            # write output\n",
    "            if update == True:\n",
    "                if(self.imageWidget != None):\n",
    "                    self.imageWidget.evaluate(self.result['image'])  \n",
    "\n",
    "# _image = <Bild, das verändert werden soll>\n",
    "#_image = _crop.image"
   ]
  },
  {
   "cell_type": "code",
   "execution_count": 14,
   "metadata": {},
   "outputs": [],
   "source": [
    "#_cbw = ContrastBrightnessWidget(imageWidget=ImageWidget())\n",
    "#display(_cbw.vbox)\n",
    "#_cbw.updateImage(_crop.result, update=True)\n",
    "#_cbw.action.save()"
   ]
  },
  {
   "cell_type": "markdown",
   "metadata": {},
   "source": [
    "# LiveVideoSources"
   ]
  },
  {
   "cell_type": "code",
   "execution_count": 15,
   "metadata": {
    "tags": []
   },
   "outputs": [],
   "source": [
    "import json\n",
    "import pafy \n",
    "\n",
    "class LiveVideoSources():\n",
    "    def __init__(self, filename='videos.json'):\n",
    "        self.filename = filename\n",
    "        \n",
    "        self.videos = None\n",
    "        self.load()\n",
    "        \n",
    "    def dict(self):\n",
    "        return {'class' : self.__class__.__name__, 'parameters' : {'filename':self.filename}}     \n",
    "        \n",
    "    def get_keys(self):\n",
    "        keys = {}\n",
    "        for key, value in self.videos.items():\n",
    "            keys[value['title']] = key\n",
    "        return keys\n",
    "        \n",
    "    def load(self):\n",
    "        with open(self.filename, 'r') as fp:\n",
    "            self.videos = json.load(fp)  \n",
    "            #return videos\n",
    "            \n",
    "    def save(self,filename=None):\n",
    "        if filename == None:\n",
    "            filename = self.filename\n",
    "        with open(filename, 'w', encoding='utf-8') as f:\n",
    "            json.dump(self.videos, f, ensure_ascii=False, indent=4)"
   ]
  },
  {
   "cell_type": "markdown",
   "metadata": {},
   "source": [
    "# LiveVideoSourcesWidget"
   ]
  },
  {
   "cell_type": "code",
   "execution_count": 16,
   "metadata": {},
   "outputs": [],
   "source": [
    "import ipywidgets as widgets\n",
    "from IPython.display import display\n",
    "vstyle = {'description_width': '250px'}\n",
    "vlayout = {'width': '500px'}\n",
    "\n",
    "class LiveVideoSourcesWidget(BaseWidget):\n",
    "    def __init__(self, child=None, filename = 'videos.json', action=None, id=None, imageWidget=None):\n",
    "        self.sources = action  # to load/save meta data\n",
    "        self.child = child\n",
    "        self.action = None   # VideoAction - only for childs ????? obsolete ????\n",
    "        #self.video = None    # to get meta data\n",
    "        #self.id = None\n",
    "        \n",
    "        if(self.sources != None):\n",
    "            filename = self.sources.filename\n",
    "        \n",
    "        self.video_filename = widgets.Text(description = 'filename',value = filename, style=vstyle, layout=vlayout,disabled=False)    \n",
    "        self.video_save_button = widgets.Button(description='Save', disabled=False, tooltip='reset all values',style=style)\n",
    "        self.video_save_button.on_click(self.on_video_save_button_clicked)  \n",
    "        self.video_load_button = widgets.Button(description='Load', disabled=False, tooltip='reset all values',style=style)\n",
    "        self.video_load_button.on_click(self.on_video_load_button_clicked)  \n",
    "        self.video_delete_button = widgets.Button(description='Delete', disabled=False, tooltip='reset all values',style=style)\n",
    "        self.video_delete_button.on_click(self.on_video_delete_button_clicked)  \n",
    "        self.video_urls = widgets.Dropdown(description='videos', style=vstyle, layout=vlayout,disabled=False)\n",
    "        self.video_urls.observe(self.video_urls_on_change)\n",
    "       \n",
    "        file_hbox = widgets.HBox([self.video_filename,self.video_load_button,self.video_save_button])\n",
    "        video_urls_hbox = widgets.HBox([self.video_urls,self.video_delete_button])\n",
    "        file_vbox =   widgets.VBox([file_hbox,video_urls_hbox])\n",
    "        \n",
    "        self.video_url = widgets.Text(description = 'url',value = '', style=vstyle, layout=vlayout,disabled=False)\n",
    "        self.video_url.on_submit(self.on_value_submit_video_url)\n",
    "        self.video_clear_button = widgets.Button(description='Clear', disabled=False, tooltip='reset all values',style=style)\n",
    "        self.video_clear_button.on_click(self.video_clear_button_clicked)  \n",
    "        video_url_hbox = widgets.HBox([self.video_url,self.video_clear_button])\n",
    "        \n",
    "        #video_streams = widgets.Text(description = 'streams',value = None, style=vstyle, layout=vlayout,disabled=True)\n",
    "        #self.video_streams = widgets.Dropdown(description='streams', style=vstyle, layout=vlayout,disabled=True)\n",
    "        self.video_title = widgets.Text(description = 'title',value = '', style=vstyle, layout=vlayout,disabled=False)\n",
    "        self.video_location = widgets.Text(description = 'location',value = '', style=vstyle, layout=vlayout,disabled=False)\n",
    "        self.video_country = widgets.Text(description = 'country',value = '', style=vstyle, layout=vlayout,disabled=False)\n",
    "        self.video_objects = widgets.Text(description = 'objects',value = '', style=vstyle, layout=vlayout,disabled=False)\n",
    "        \n",
    "        self.vbox   = widgets.VBox([file_vbox, video_url_hbox, self.video_title,\n",
    "                                     self.video_location,self.video_country,self.video_objects])\n",
    "\n",
    "        # used e.g. to create widget for existing action\n",
    "        if(self.sources != None):\n",
    "            self.video_urls.options = self.sources.get_keys()\n",
    "        if(self.sources != None and id != None):\n",
    "            self.setVideoContainer(self.sources.videos[id])\n",
    "            #print(self.sources.get_keys())\n",
    "            #print(self.video_urls.options)\n",
    "            self.video_urls.value = id\n",
    "        \n",
    "    def videoContainerTo_Dict(self):\n",
    "        container = dict()\n",
    "        container['url'] = self.video_url.value\n",
    "        container['title'] = self.video_title.value\n",
    "        container['location'] = self.video_location.value\n",
    "        container['country'] = self.video_country.value\n",
    "        container['objects'] = self.video_objects.value\n",
    "\n",
    "        cropNormalizedArea = [0.0,0.0,1.0,1.0]    \n",
    "        bookmark_dict = dict()\n",
    "        bookmark_dict['reset'] = cropNormalizedArea\n",
    "        container['bookmarks'] = bookmark_dict\n",
    "        return container\n",
    "\n",
    "    def setVideoContainer(self,container):\n",
    "        self.video_url.value = container['url']\n",
    "        self.video_title.value = container['title'] \n",
    "        self.video_location.value = container['location'] \n",
    "        self.video_country.value = container['country'] \n",
    "        self.video_objects.value = container['objects'] \n",
    "\n",
    "    # add new url, open video to get meta data, add container to sources / this should be moved to sources   \n",
    "    def on_value_submit_video_url(self,change):\n",
    "        video = pafy.new(change.value)\n",
    "        self.video_title.value = video.title.rsplit('2021')[0].rstrip()\n",
    "        container = self.videoContainerTo_Dict()\n",
    "        self.sources.videos[video.videoid] = container\n",
    "        #print(container)\n",
    "        \n",
    "    # VideoAction ändert sich nach Laden!!!! Es sollte nur eine geben ????? FOLLOWER\n",
    "    # DisplayWidget / Player erzeugen neues Bild -> Pipeline oder update CropWidget\n",
    "    # Flußgraph ?\n",
    "    def init_video(self, id):\n",
    "        #self.video = video = pafy.new(url)  #used also to init parameters\n",
    "        self.setVideoContainer(self.sources.videos[id])\n",
    "\n",
    "        # ????????????\n",
    "        if self.child != None:\n",
    "            #self.action = VideoAction(sources=self.sources,id=id,video=self.video)\n",
    "            self.action = VideoAction(sources=self.sources, id=id)\n",
    "            #self.child.init(action=self.action, parent=self)\n",
    "            self.child.init(action=self.action)\n",
    "        \n",
    "    def video_urls_on_change(self,change):\n",
    "        if change['type'] == 'change' and change['name'] == 'value':\n",
    "            id = change['new']\n",
    "            #url = self.sources.videos[id]['url']  \n",
    "            self.init_video(id)\n",
    "            \n",
    "    def video_clear_button_clicked(self,b):    \n",
    "        self.video_url.value = ''\n",
    "        self.video_title.value = ''\n",
    "        self.video_location.value = ''\n",
    "        \n",
    "    def on_video_load_button_clicked(self,b): \n",
    "        filename = self.video_filename.value\n",
    "        self.sources = LiveVideoSources(filename)\n",
    "        self.video_urls.options = self.sources.get_keys()\n",
    "        \n",
    "    def on_video_save_button_clicked(self,b):\n",
    "        #global videos\n",
    "        self.sources.filename = self.video_filename.value\n",
    "        self.sources.save()  \n",
    "        \n",
    "    def on_video_delete_button_clicked(self,b):\n",
    "        del self.sources.videos[self.video_urls.value]"
   ]
  },
  {
   "cell_type": "code",
   "execution_count": 17,
   "metadata": {},
   "outputs": [],
   "source": [
    "#_url = 'https://youtu.be/S4AG47F94Ss'\n",
    "#_video = pafy.new(_url)\n",
    "#_video_title = _video.title.rsplit('2021')[0].rstrip()\n",
    "    "
   ]
  },
  {
   "cell_type": "code",
   "execution_count": 18,
   "metadata": {},
   "outputs": [],
   "source": [
    "#_video.videoid"
   ]
  },
  {
   "cell_type": "markdown",
   "metadata": {},
   "source": [
    "# Player"
   ]
  },
  {
   "cell_type": "markdown",
   "metadata": {},
   "source": [
    "## HaltableActionPlayer (-> )"
   ]
  },
  {
   "cell_type": "code",
   "execution_count": 19,
   "metadata": {},
   "outputs": [],
   "source": [
    "import ipywidgets as widgets\n",
    "import asyncio\n",
    "import time\n",
    "\n",
    "def deleteAllTasks(name):\n",
    "    for task in asyncio.all_tasks(): \n",
    "                if task.get_name() == name: \n",
    "                    task.cancel()\n",
    "             \n",
    "            \n",
    "class BooleanField(object):\n",
    "    def __init__(self):\n",
    "        value=False\n",
    "            \n",
    "class HaltableActionExecutor:\n",
    "\n",
    "    def __init__(self, booleanField=None,imageWidget=None,sleep=0,action=None,name=None):\n",
    "        self._checkbox = booleanField\n",
    "        self.imageWidget = imageWidget\n",
    "        self._sleep    = sleep\n",
    "        self.action  = action\n",
    "        self.name = name\n",
    "        \n",
    "    async def my_code(self):\n",
    "        # This is your user code\n",
    "        while True:\n",
    "            if self._checkbox.value:\n",
    "                self.imageWidget.evaluate(self.action.evaluate())\n",
    "                #time.sleep(float(self._sleep.value))\n",
    "            await asyncio.sleep(0.1)  # use this to temporarily give up control of the event loop to allow scheduling checkbox changes\n",
    "    \n",
    "    def start(self):\n",
    "        task = asyncio.ensure_future(self.my_code())\n",
    "        task.set_name(self.name)\n",
    "        print(task)     "
   ]
  },
  {
   "cell_type": "markdown",
   "metadata": {},
   "source": [
    "# Video Action"
   ]
  },
  {
   "cell_type": "code",
   "execution_count": 20,
   "metadata": {},
   "outputs": [],
   "source": [
    "import pafy\n",
    "import cv2\n",
    "import time\n",
    "import json\n",
    "#from queue import Queue\n",
    "\n",
    "class VideoAction(BaseAction):\n",
    "    #def __init__(self, sources=None, id=None, index=0, skipframes=0):\n",
    "    def __init__(self, sources=None, id=None, index=0, skipframes=0):    \n",
    "        self.sources = sources\n",
    "        self.id = id\n",
    "        self.index = index\n",
    "        self.skipframes = skipframes\n",
    "        self._stream  = None\n",
    "        self._capture = None\n",
    "        \n",
    "        self._last_state = {'id':self.id,'index':self.index}\n",
    "        self.init(sources=sources)\n",
    "        \n",
    "    def dict(self):\n",
    "        parameters = {'id':self.id,'index':self.index,'skipframes':self.skipframes}\n",
    "        return {'class' : self.__class__.__name__, 'parameters' : parameters} \n",
    "        \n",
    "    def init(self, sources=None, video=None):\n",
    "        self.video = video\n",
    "        if video == None and sources != None:\n",
    "            self.sources = sources\n",
    "            url = self.sources.videos[self.id]['url']   \n",
    "            self.video = video = pafy.new(url)\n",
    "        \n",
    "        self.setIndex(self.index)\n",
    "        \n",
    "        \n",
    "    # save video meta data    \n",
    "    def saveVideo(self,filename='videos.json', videos=None):\n",
    "        #print(videos)\n",
    "        with open(filename, 'w', encoding='utf-8') as f:\n",
    "            json.dump(videos, f, ensure_ascii=False, indent=4)\n",
    "        \n",
    "    def loadVideo(self,filename='videos.json'):\n",
    "        with open('videos.json', 'r') as fp:\n",
    "            videos = json.load(fp)  \n",
    "            return videos    \n",
    "        \n",
    "    # select stream   \n",
    "    def _setIndex(self,index):\n",
    "        self.index = index\n",
    "        self._last_state['index'] = index\n",
    "        \n",
    "        if self.video != None and self.index != None:\n",
    "            #print(self.index)\n",
    "            self._stream = self.video.streams[self.index]\n",
    "            self._capture = cv2.VideoCapture(self._stream.url)\n",
    "            \n",
    "    # deprecated        \n",
    "    def setIndex(self,index):    \n",
    "        self._setIndex(index)\n",
    "        \n",
    "    # TODO: check if index was updated\n",
    "    # read next image of current stream     \n",
    "    def evaluate(self, image=None):\n",
    "        if self._last_state['index'] != self.index:\n",
    "            self._setIndex(self.index)\n",
    "        return {'image':self.readImage()}    \n",
    "        \n",
    "    # read next image of current stream    \n",
    "    def readImage(self):\n",
    "        self.skipFrames(self.skipframes)\n",
    "        grabbed, frame = self._capture.read()\n",
    "        if grabbed == True:\n",
    "            image = Image.fromarray(cv2.cvtColor(frame, cv2.COLOR_BGR2RGB))\n",
    "            return image\n",
    "        return None\n",
    "\n",
    "    def readImages(self,number):\n",
    "        images = []\n",
    "        for idx in range(0, number):\n",
    "            grabbed, frame = self._capture.read()\n",
    "            image = Image.fromarray(cv2.cvtColor(frame, cv2.COLOR_BGR2RGB))\n",
    "            images.append(image)\n",
    "\n",
    "            for i in range(0, self.skipframes):\n",
    "                grabbed, frame = self._capture.read()\n",
    "                #print('skip',i)\n",
    "        return images\n",
    "\n",
    "    def skipFrames(self,skipframes=0):\n",
    "        for i in range(0, skipframes):\n",
    "                grabbed, frame = self._capture.read()\n",
    "    \n",
    "    def _readImageOfStream(self,stream):\n",
    "        capture = cv2.VideoCapture(stream.url)\n",
    "        grabbed, frame = capture.read()\n",
    "        if grabbed == True:\n",
    "            image = Image.fromarray(cv2.cvtColor(frame, cv2.COLOR_BGR2RGB))\n",
    "            return image\n",
    "        return None\n",
    "    \n",
    "    def getVstreams(self,indexes=None):\n",
    "        global vstreams\n",
    "        vstreams=[]\n",
    "        for stream in self.video.streams:\n",
    "            if indexes == None:\n",
    "                image = self._readImageOfStream(stream)\n",
    "                vstreams.append(image)\n",
    "            else:\n",
    "                vstreams.append(None) \n",
    "\n",
    "        if indexes != None:\n",
    "            for index in indexes:\n",
    "                image = self._readImageOfStream(video.streams[index])\n",
    "                vstreams[index] = image\n",
    "        return vstreams\n",
    "\n",
    "    def getVstream(self,vstreams=None, index=None):\n",
    "        if vstreams[index] == None:\n",
    "            image = readImageOfStream(video.streams[index])\n",
    "            vstreams[index] = image\n",
    "        return vstreams[index]\n"
   ]
  },
  {
   "cell_type": "markdown",
   "metadata": {},
   "source": [
    "# EasyVideoPipeLine"
   ]
  },
  {
   "cell_type": "code",
   "execution_count": 21,
   "metadata": {},
   "outputs": [],
   "source": [
    "def createActionOfDict(adict):\n",
    "    return eval(adict['class'])(**adict['parameters'])\n",
    "\n",
    "def evaluateActionDictList(_action_dict_list, _img):\n",
    "    for action_dict in _action_dict_list:\n",
    "        action = createActionOfDict(action_dict)\n",
    "        _img = action.evaluate(_img)\n",
    "    return _img\n",
    "  \n",
    "def saveActionDictList(filename='actions.json', actions=None):\n",
    "        #print(videos)\n",
    "        with open(filename, 'w', encoding='utf-8') as f:\n",
    "            json.dump(actions, f, ensure_ascii=False, indent=4)    \n",
    "\n",
    "def loadActionDictList(filename='actions.json'):\n",
    "        with open(filename, 'r') as fp:\n",
    "            file = json.load(fp)  \n",
    "            return file          \n",
    "\n",
    "def evaluateActionList(action_list, img):\n",
    "    for action in action_list:\n",
    "        #print(type(action))\n",
    "        img = action.evaluate(**img)\n",
    "    return img\n",
    "\n",
    "#CropAction(min=(0,0),max=(1,0.5),mode=1).evaluate(image=_action.readImage())['image']\n",
    "#_actions = [CropAction(min=(0,0),max=(1,0.5),mode=1),ResizeAction(size=(900,500))]\n"
   ]
  },
  {
   "cell_type": "code",
   "execution_count": 22,
   "metadata": {},
   "outputs": [],
   "source": [
    "class EasyVideoPipeLine(BaseAction):\n",
    "    def __init__(self, sources=None, actions=None):\n",
    "        self.sources=sources\n",
    "        self.actions=actions\n",
    "       \n",
    "        if sources != None and actions != None:\n",
    "            pass\n",
    "            #print (self.__dict__)\n",
    "            #self.init()\n",
    "        \n",
    "    def dict(self):\n",
    "        return {'class' : self.__class__.__name__, 'parameters' : self._create_parameters()}\n",
    "    \n",
    "    def _create_parameters(self):\n",
    "        return {'sources' : self.sources.dict(), 'actions' : self._create_dicts(self.actions)}   \n",
    "        \n",
    "    def _create_dicts(self,actions):\n",
    "        dicts = []\n",
    "        for action in actions:\n",
    "            if hasattr(action, 'dict'):\n",
    "                dicts.append(action.dict())\n",
    "            elif hasattr(action, 'action'):\n",
    "                dicts.append(action.action.dict())  \n",
    "            else:\n",
    "                pass\n",
    "                #print(self.__class__.__name__,'unknown')\n",
    "        return dicts\n",
    "    \n",
    "    def _createActionOfDict(self,adict):\n",
    "        return eval(adict['class'])(**adict['parameters'])\n",
    "    \n",
    "    def from_dict(self,adict):\n",
    "        _new = self._createActionOfDict(adict)\n",
    "        \n",
    "        _new.sources = self._createActionOfDict(_new.sources)\n",
    "        dicts = []\n",
    "        for action in _new.actions:\n",
    "            dicts.append( self._createActionOfDict(action))\n",
    "        _new.actions = dicts\n",
    "        _new.init()\n",
    "        return _new\n",
    "    \n",
    "    def load(self,filename=None):\n",
    "        _dict = super(EasyVideoPipeLine, self).load(filename=filename)\n",
    "        return  self.from_dict(_dict)\n",
    "    \n",
    "    def init(self):\n",
    "        self.actions[0].init(sources=self.sources)\n",
    "        \n",
    "    def evaluate(self, image=None):\n",
    "        return evaluateActionList(self.actions, {})"
   ]
  },
  {
   "cell_type": "markdown",
   "metadata": {},
   "source": [
    "# TabWidget"
   ]
  },
  {
   "cell_type": "code",
   "execution_count": 23,
   "metadata": {},
   "outputs": [],
   "source": [
    "class TabWidget(BaseAction):\n",
    "    def __init__(self, action=None, displayWidget=None, imageWidget=None):\n",
    "        self.action=action\n",
    "        self.displayWidget = displayWidget\n",
    "        self.imageWidget = imageWidget\n",
    "        self.tab_idx = 0\n",
    "        self._widgets = []\n",
    "        self._widgets_vbox = []\n",
    "        self._dict = {'CropAction':'CropWidget', 'ResizeAction':'ResizeWidget', 'LiveVideoSources':'LiveVideoSourcesWidget',\n",
    "                     'ContrastBrightnessAction':'ContrastBrightnessWidget'}\n",
    "        \n",
    "        self.tab  = widgets.Tab(children = self._widgets_vbox)\n",
    "        self.tab.observe(self.on_select, names='selected_index')  \n",
    "        \n",
    "    # setzt auch parent ??? Dann kann es aber keine Lücken geben. --> besser zunächst extern    \n",
    "    def add(self,_class):    \n",
    "        _name = _class.__class__.__name__\n",
    "        #_class = eval(_dict[_name])(action=_action, imageWidget=_imageWidget2)\n",
    "        self._widgets.append(_class)\n",
    "        self._widgets_vbox.append(_class.vbox)\n",
    "        self.tab.children = self._widgets_vbox  \n",
    "        self.tab.set_title(len(self._widgets)-1, _name)\n",
    "            \n",
    "    def create_widget(self,action=None, imageWidget=None):\n",
    "        if isinstance(action, dict):\n",
    "            action = eval(action['class'])(**action['parameters'])\n",
    "        \n",
    "        _name = action.__class__.__name__\n",
    "        if _name in self._dict.keys():\n",
    "            _class = eval(self._dict[_name])(action=action, imageWidget=imageWidget)\n",
    "            self.add(_class)\n",
    "            return _class\n",
    "        return None\n",
    "\n",
    "    def evaluateWidgetActionList(self,img, start=1, end=None):\n",
    "        for index in range(start,end):\n",
    "            img = self._widgets[index].evaluate(**img)\n",
    "        return img\n",
    "\n",
    "    # update interessant für Widget-Parameter\n",
    "    # evaluate: berechnet image-Pipeline\n",
    "    def on_select(self,widget):\n",
    "        #     get the correct Output widget based on the index of the selected tab\n",
    "        self.tab_idx = widget['new']  \n",
    "        def _doit(image,update=False):\n",
    "            #_imageWidget.evaluate(_crop.displayWidget.image)\n",
    "            return self.imageWidget.evaluate(self.evaluateWidgetActionList(self.displayWidget.action.evaluate(), start=1, end=self.tab_idx+1))\n",
    "        self.displayWidget.update = _doit\n",
    "        #_doit(_widgets[0].evaluate())\n",
    "        self.imageWidget.evaluate(self.evaluateWidgetActionList(self.displayWidget.action.evaluate(), start=1, end=self.tab_idx+1))    \n",
    "        \n",
    "    def evaluate(self, image=None):\n",
    "        #image = self._get_image(image)    \n",
    "        self.imageWidget.evaluate(self.evaluateWidgetActionList(self.displayWidget.action.evaluate(), start=1, end=self.tab_idx+1)) "
   ]
  },
  {
   "cell_type": "code",
   "execution_count": 24,
   "metadata": {},
   "outputs": [],
   "source": [
    "#_tab = TabWidget()\n",
    "#display(_tab.tab)"
   ]
  },
  {
   "cell_type": "code",
   "execution_count": 25,
   "metadata": {},
   "outputs": [],
   "source": [
    "#_tab.add(_videoSources) \n",
    "#_tab.add(_crop) \n",
    "#_tab.add(_resize)"
   ]
  },
  {
   "cell_type": "markdown",
   "metadata": {},
   "source": [
    "# Application"
   ]
  },
  {
   "cell_type": "code",
   "execution_count": 26,
   "metadata": {},
   "outputs": [
    {
     "data": {
      "application/vnd.jupyter.widget-view+json": {
       "model_id": "e7ced72212eb45d1b22deb98f49dd928",
       "version_major": 2,
       "version_minor": 0
      },
      "text/plain": [
       "HBox(children=(IntSlider(value=0, description='image', layout=Layout(width='500px'), max=5), Button(descriptio…"
      ]
     },
     "metadata": {},
     "output_type": "display_data"
    },
    {
     "data": {
      "application/vnd.jupyter.widget-view+json": {
       "model_id": "6d12a990ed8c4624aca2f7e423cbdeaf",
       "version_major": 2,
       "version_minor": 0
      },
      "text/plain": [
       "Tab(children=(VBox(children=(VBox(children=(HBox(children=(Text(value='../videos.json', description='filename'…"
      ]
     },
     "metadata": {},
     "output_type": "display_data"
    },
    {
     "data": {
      "application/vnd.jupyter.widget-view+json": {
       "model_id": "aee6b090e33d439a934e1ea2c934c444",
       "version_major": 2,
       "version_minor": 0
      },
      "text/plain": [
       "Image(value=b'', format='PNG')"
      ]
     },
     "metadata": {},
     "output_type": "display_data"
    }
   ],
   "source": [
    "_imageWidget = ImageWidget(display=False)\n",
    "_crop = CropWidget(imageWidget=_imageWidget)\n",
    "_videoSources = LiveVideoSourcesWidget(child=_crop, filename = '../videos.json')\n",
    "_resize = resizeWidget = ResizeWidget(action=ResizeAction(),parent=_crop,imageWidget=_imageWidget)\n",
    "_widgets = [_videoSources,_crop,_resize]\n",
    "_pipeline = EasyVideoPipeLine(sources=_videoSources.sources, actions=_widgets)\n",
    "\n",
    "#_crop.displayWidget = DisplayWidget(action=_crop.videoAction, update=_crop.updateImage)\n",
    "_crop.displayWidget = DisplayWidget(update=_crop.updateImage)\n",
    "display(_crop.displayWidget.hbox)\n",
    "\n",
    "_tab  = widgets.Tab(children = [_videoSources.vbox, _crop.vbox, _resize.vbox])\n",
    "_tab.set_title(0, 'videos')\n",
    "_tab.set_title(1, 'crop')\n",
    "_tab.set_title(2, 'resize')\n",
    "display(_tab)\n",
    "\n",
    "_imageWidget.display()\n",
    "\n",
    "def evaluateWidgetActionList(widgets, img, start=1, end=None):\n",
    "    for index in range(start,end):\n",
    "        img = widgets[index].evaluate(**img)\n",
    "    return img\n",
    "\n",
    "# update interessant für Widget-Parameter\n",
    "# evaluate: berechnet image-Pipeline\n",
    "def print_on_select(widget):\n",
    "    #     get the correct Output widget based on the index of the selected tab\n",
    "    tab_idx = widget['new']  \n",
    "    def _doit(image,update=False):\n",
    "        #_imageWidget.evaluate(_crop.displayWidget.image)\n",
    "        return _imageWidget.evaluate(evaluateWidgetActionList(_widgets, {'image':_crop.displayWidget.image}, start=1, end=tab_idx+1))\n",
    "    _crop.displayWidget.update = _doit\n",
    "    #_doit(_widgets[0].evaluate())\n",
    "    _imageWidget.evaluate(evaluateWidgetActionList(_widgets, _widgets[0].evaluate(), start=1, end=tab_idx+1))\n",
    "        \n",
    "_tab.observe(print_on_select, names='selected_index')"
   ]
  },
  {
   "cell_type": "code",
   "execution_count": null,
   "metadata": {},
   "outputs": [],
   "source": [
    "#_crop.parent.action.id\n",
    "#_crop.displayWidget.action.__dict__ \n",
    "_crop.displayWidget.action.save()"
   ]
  },
  {
   "cell_type": "code",
   "execution_count": null,
   "metadata": {},
   "outputs": [],
   "source": [
    "_crop.action.dict()"
   ]
  },
  {
   "cell_type": "code",
   "execution_count": null,
   "metadata": {},
   "outputs": [],
   "source": [
    "def save(filename='_action.json'):\n",
    "    with open(filename, 'w', encoding='utf-8') as f:\n",
    "        json.dump(_crop.action.dict(), f, ensure_ascii=False, indent=4)    \n",
    "\n",
    "save()"
   ]
  },
  {
   "cell_type": "code",
   "execution_count": null,
   "metadata": {},
   "outputs": [],
   "source": [
    "def load(filename='_action.json'):\n",
    "    with open(filename, 'r') as fp:\n",
    "        file = json.load(fp)  \n",
    "        return file        \n",
    "    \n",
    "load()"
   ]
  },
  {
   "cell_type": "code",
   "execution_count": null,
   "metadata": {},
   "outputs": [],
   "source": [
    "_crop.action.load()"
   ]
  },
  {
   "cell_type": "code",
   "execution_count": null,
   "metadata": {},
   "outputs": [],
   "source": [
    "#_widgets[1].videoAction.__dict__\n",
    "#_crop.displayWidget.image\n",
    "#_imageWidget.evaluate(_crop.displayWidget.image)\n",
    "#_crop.displayWidget.image\n",
    "_imageWidget.evaluate(evaluateWidgetActionList(_widgets, _crop.videoAction.evaluate(), start=1, end=3))\n"
   ]
  },
  {
   "cell_type": "markdown",
   "metadata": {},
   "source": [
    "# Work"
   ]
  },
  {
   "cell_type": "code",
   "execution_count": null,
   "metadata": {},
   "outputs": [],
   "source": [
    "\n",
    "#results_w.value = str('10')\n",
    "#results_w\n",
    "#_videoSources.video_urls.options = list('(128,128)' : (128,128))\n",
    "#_videoSources.video_urls.options = {'Hallo':'Ntt1wwgCEOQ','Hallo2':'Ntt1wwgCEOQ'}\n",
    "\n",
    "#for _video in _videoSources.sources.videos:\n",
    "#    print(video)"
   ]
  },
  {
   "cell_type": "code",
   "execution_count": null,
   "metadata": {},
   "outputs": [],
   "source": [
    "display(DisplayWidget(action=_crop.videoAction,imageWidget=_imageWidget).hbox)"
   ]
  },
  {
   "cell_type": "code",
   "execution_count": null,
   "metadata": {},
   "outputs": [],
   "source": [
    "#VideoAction(sources=_videoSources.sources,id=_videoSources.id).dict()\n",
    "\n",
    "\n",
    "def createActionOfDict(adict):\n",
    "    return eval(adict['class'])(**adict['parameters'])\n",
    "#createActionOfDict(_videoSources.sources.dict()).videos\n",
    "\n",
    "#_crop.videoAction.dict()['parameters']['index']=2\n",
    "_action = _crop.videoAction.dict()\n",
    "_action= createActionOfDict(_action)"
   ]
  },
  {
   "cell_type": "code",
   "execution_count": null,
   "metadata": {},
   "outputs": [],
   "source": [
    "_crop.action.toNormalized().dict(),_resize.action.dict(),_crop.videoAction.dict()"
   ]
  },
  {
   "cell_type": "code",
   "execution_count": null,
   "metadata": {},
   "outputs": [],
   "source": [
    "_crop.action.dict()\n"
   ]
  },
  {
   "cell_type": "code",
   "execution_count": null,
   "metadata": {},
   "outputs": [],
   "source": [
    "#_action.init(sources=_videoSources.sources)\n",
    "#_videoSources.sources.dict()\n",
    "_action.init(sources=_action.sources)"
   ]
  },
  {
   "cell_type": "code",
   "execution_count": null,
   "metadata": {},
   "outputs": [],
   "source": [
    "df['parameters']['index']=2"
   ]
  },
  {
   "cell_type": "code",
   "execution_count": null,
   "metadata": {},
   "outputs": [],
   "source": [
    "df = _action.dict()\n",
    "_action= createActionOfDict(df)"
   ]
  },
  {
   "cell_type": "code",
   "execution_count": null,
   "metadata": {},
   "outputs": [],
   "source": [
    "\n",
    "#{ **df['parameters'], **{'index':3,'skipframes':5} }\n",
    "\n",
    "def modify_parameters(old,new):\n",
    "    #return {'class':old['class']}\n",
    "    return {'class':old['class'],'parameters':{**old['parameters'],**new}}\n",
    "\n",
    "#_action = merge_dict(_crop.videoAction.dict(), {'index':4,'skipframes':5})\n",
    "#_action= createActionOfDict(_action)\n",
    "#_action.init(sources=_videoSources.sources)\n",
    "\n",
    "#_new_parameters = {'index':3,'skipframes':5, 'sources':_videoSources.sources}\n",
    "_new_parameters = {'index':3,'skipframes':5}\n",
    "#_action = createActionOfDict(modify_parameters(_crop.videoAction.dict(),_new_parameters))\n",
    "_action = _crop.videoAction.merge(parameters=_new_parameters)"
   ]
  },
  {
   "cell_type": "code",
   "execution_count": null,
   "metadata": {},
   "outputs": [],
   "source": [
    "{**_crop.videoAction.__dict__,**_new_parameters}\n"
   ]
  },
  {
   "cell_type": "code",
   "execution_count": null,
   "metadata": {},
   "outputs": [],
   "source": [
    "CropAction(min=(0,0),max=(1,0.5),mode=1).evaluate(image=ResizeAction(size=(700,500)).evaluate(image=_action.readImage())['image'])['image']"
   ]
  },
  {
   "cell_type": "markdown",
   "metadata": {},
   "source": [
    "# Pipeline"
   ]
  },
  {
   "cell_type": "code",
   "execution_count": null,
   "metadata": {},
   "outputs": [],
   "source": [
    "_pipeline = EasyVideoPipeLine(sources=_videoSources.sources, actions=_widgets)\n",
    "_pipeline.dict()\n",
    "#_tmp2 = createActionOfDict(_tmp.dict())"
   ]
  },
  {
   "cell_type": "code",
   "execution_count": null,
   "metadata": {},
   "outputs": [],
   "source": [
    "_pipeline.save(name='test')\n",
    "#_pipeline.load().dict()"
   ]
  },
  {
   "cell_type": "code",
   "execution_count": null,
   "metadata": {},
   "outputs": [],
   "source": [
    "#_pipeline.dict()\n",
    "#_pipeline._filename()\n",
    "_pipeline.save()"
   ]
  },
  {
   "cell_type": "code",
   "execution_count": null,
   "metadata": {},
   "outputs": [],
   "source": [
    "#_pipeline_dict = _pipeline.dict\n",
    "_pipeline_dict = _pipeline.load()"
   ]
  },
  {
   "cell_type": "code",
   "execution_count": null,
   "metadata": {},
   "outputs": [],
   "source": [
    "_tmp4 = EasyVideoPipeLine().from_dict(_pipeline_dict)\n",
    "#_tmp4.init()\n",
    "_imageWidget2 = ImageWidget(display=True)\n",
    "_tmp4.actions.append(_imageWidget2)"
   ]
  },
  {
   "cell_type": "code",
   "execution_count": null,
   "metadata": {},
   "outputs": [],
   "source": [
    "_tmp4.actions[0].setIndex(5)\n",
    "_tmp4.actions[0].skipframes = 60\n",
    "_tmp4.evaluate()"
   ]
  },
  {
   "cell_type": "code",
   "execution_count": null,
   "metadata": {},
   "outputs": [],
   "source": [
    "def _update(image):\n",
    "    #print(image)\n",
    "    _tmp4.evaluate()\n",
    "display(DisplayWidget(action=_tmp4.actions[0], update=_update).hbox)"
   ]
  },
  {
   "cell_type": "code",
   "execution_count": null,
   "metadata": {},
   "outputs": [],
   "source": [
    "\n",
    "#_tmp5 = EasyVideoPipeLine().from_dict(_tmp4.dict())\n",
    "_tmp5 = EasyVideoPipeLine().load()"
   ]
  },
  {
   "cell_type": "code",
   "execution_count": null,
   "metadata": {},
   "outputs": [],
   "source": [
    "_tmp5.evaluate()['image']"
   ]
  },
  {
   "cell_type": "markdown",
   "metadata": {},
   "source": [
    "# Create Widgets of pipeline"
   ]
  },
  {
   "cell_type": "code",
   "execution_count": null,
   "metadata": {},
   "outputs": [],
   "source": [
    "\n",
    "_tmp4.dict()['parameters']['actions'][1]\n",
    "#createActionOfDict(_tmp4.dict()['parameters']['sources'])\n",
    "_tmp4.dict()['parameters']['sources']"
   ]
  },
  {
   "cell_type": "code",
   "execution_count": null,
   "metadata": {},
   "outputs": [],
   "source": [
    "_pipeline_dict = _pipeline.load()\n",
    "_tmp4 = EasyVideoPipeLine().from_dict(_pipeline_dict)\n",
    "_tmp4_sources = createActionOfDict(_tmp4.dict()['parameters']['sources'])\n",
    "_tmp4_video = createActionOfDict(_tmp4.dict()['parameters']['actions'][0])\n",
    "_tmp4_crop  = createActionOfDict(_tmp4.dict()['parameters']['actions'][1])\n",
    "_tmp4_video.init(sources=_tmp4_sources)\n",
    "image = _tmp4_video.evaluate()['image']"
   ]
  },
  {
   "cell_type": "code",
   "execution_count": null,
   "metadata": {},
   "outputs": [],
   "source": [
    "_tmp4 = EasyVideoPipeLine().load()"
   ]
  },
  {
   "cell_type": "code",
   "execution_count": null,
   "metadata": {},
   "outputs": [],
   "source": [
    "_tmp4.actions"
   ]
  },
  {
   "cell_type": "code",
   "execution_count": null,
   "metadata": {},
   "outputs": [],
   "source": [
    "tab  = widgets.Tab(children = [_videoSources.vbox, _crop.vbox, _resize.vbox])\n",
    "tab.set_title(0, 'videos')\n",
    "tab.set_title(1, 'crop')\n",
    "tab.set_title(2, 'resize')\n",
    "display(tab)"
   ]
  },
  {
   "cell_type": "markdown",
   "metadata": {},
   "source": [
    "# SimpleApplicationWidget"
   ]
  },
  {
   "cell_type": "code",
   "execution_count": 143,
   "metadata": {},
   "outputs": [
    {
     "data": {
      "application/vnd.jupyter.widget-view+json": {
       "model_id": "ac36bfeb99564a6a99f424d5ba01f8e2",
       "version_major": 2,
       "version_minor": 0
      },
      "text/plain": [
       "HBox(children=(Text(value='_action_EasyVideoPipeLine.json', description='pipeline', layout=Layout(width='500px…"
      ]
     },
     "metadata": {},
     "output_type": "display_data"
    },
    {
     "data": {
      "application/vnd.jupyter.widget-view+json": {
       "model_id": "568d62e7a22a44f0aee0e127707dc907",
       "version_major": 2,
       "version_minor": 0
      },
      "text/plain": [
       "Output()"
      ]
     },
     "metadata": {},
     "output_type": "display_data"
    },
    {
     "data": {
      "text/plain": [
       "<__main__.SimpleApplicationWidget at 0x7f48aa62e1f0>"
      ]
     },
     "execution_count": 143,
     "metadata": {},
     "output_type": "execute_result"
    }
   ],
   "source": [
    "class SimpleApplicationWidget(BaseWidget):\n",
    "    def __init__(self, filename=None):\n",
    "        self.pipeline = EasyVideoPipeLine()\n",
    "        self.fileWidget = FileWidget(action=self.pipeline, callback=self.init ,filename = filename, description='pipeline')\n",
    "        self._run = widgets.Checkbox(description='play',value=False)\n",
    "        self.out  = widgets.Output()\n",
    "        \n",
    "        display(self.fileWidget.hbox,self.out)\n",
    "        \n",
    "    def init(self,action):\n",
    "        self.pipeline = action\n",
    "        self._displayWidget = DisplayWidget(action=self.pipeline.actions[0])\n",
    "        self._imageWidget2 = ImageWidget(display=False)\n",
    "        self._tab = TabWidget(action=self.pipeline.actions[0], displayWidget=self._displayWidget, imageWidget=self._imageWidget2)\n",
    "\n",
    "        self._tab.create_widget(self.pipeline.sources,imageWidget=self._imageWidget2)\n",
    "\n",
    "        _parent = None\n",
    "        for _action in self.pipeline.actions:\n",
    "            _widget = self._tab.create_widget(_action,imageWidget=self._imageWidget2)\n",
    "            if _widget != None:\n",
    "                _widget.parent = _parent\n",
    "            _parent = _widget\n",
    "\n",
    "        self._tab._widgets[1].crop_list.options = self.pipeline.actions[0].sources.videos[self.pipeline.actions[0].id]['bookmarks'].keys()    \n",
    "        self._tab._widgets[1].parent = self.pipeline.actions[0]\n",
    "        self._tab._widgets[1].displayWidget = self._displayWidget\n",
    "\n",
    "        self._tab._widgets[2].parent = self._tab._widgets[1]\n",
    "\n",
    "        self.exe = HaltableActionExecutor(booleanField=self._run,imageWidget=self._imageWidget2,sleep=0,action=self._tab,name='test')\n",
    "        self.exe.start()\n",
    "        \n",
    "        with self.out:\n",
    "            clear_output()\n",
    "            display(self._run,self._displayWidget.hbox, self._tab.tab)\n",
    "            self._imageWidget2.display()\n",
    " \n",
    "SimpleApplicationWidget('_action_EasyVideoPipeLine.json')"
   ]
  },
  {
   "cell_type": "markdown",
   "metadata": {},
   "source": [
    "## tab OLD"
   ]
  },
  {
   "cell_type": "code",
   "execution_count": 112,
   "metadata": {},
   "outputs": [
    {
     "data": {
      "application/vnd.jupyter.widget-view+json": {
       "model_id": "6572aa42b6424e9892077d988907d623",
       "version_major": 2,
       "version_minor": 0
      },
      "text/plain": [
       "Checkbox(value=False, description='loop')"
      ]
     },
     "metadata": {},
     "output_type": "display_data"
    },
    {
     "data": {
      "application/vnd.jupyter.widget-view+json": {
       "model_id": "e1f5388894ac42609b71e60c6183bdb4",
       "version_major": 2,
       "version_minor": 0
      },
      "text/plain": [
       "HBox(children=(IntSlider(value=5, description='image', layout=Layout(width='500px'), max=5), Button(descriptio…"
      ]
     },
     "metadata": {},
     "output_type": "display_data"
    },
    {
     "data": {
      "application/vnd.jupyter.widget-view+json": {
       "model_id": "b565583d41f04baf88ebf303fbb6f24a",
       "version_major": 2,
       "version_minor": 0
      },
      "text/plain": [
       "Tab()"
      ]
     },
     "metadata": {},
     "output_type": "display_data"
    },
    {
     "data": {
      "application/vnd.jupyter.widget-view+json": {
       "model_id": "e182307aa0194d9881292b299a0b8378",
       "version_major": 2,
       "version_minor": 0
      },
      "text/plain": [
       "Image(value=b'', format='PNG')"
      ]
     },
     "metadata": {},
     "output_type": "display_data"
    }
   ],
   "source": [
    "_tmp4 = EasyVideoPipeLine().load('ecke.json')\n",
    "\n",
    "_run = widgets.Checkbox(description='loop',value=False)\n",
    "display(_run)\n",
    "\n",
    "_displayWidget = DisplayWidget(action=_tmp4.actions[0])\n",
    "display(_displayWidget.hbox)  \n",
    "\n",
    "_imageWidget2 = ImageWidget(display=False)\n",
    "_tab = TabWidget(action=_tmp4.actions[0], displayWidget=_displayWidget,imageWidget=_imageWidget2)\n",
    "display(_tab.tab)\n",
    "_imageWidget2.display()\n",
    "\n",
    "_tab.create_widget(_tmp4.sources,imageWidget=_imageWidget2)\n",
    "\n",
    "_parent = None\n",
    "for _action in _tmp4.actions:\n",
    "    _widget = _tab.create_widget(_action,imageWidget=_imageWidget2)\n",
    "    if _widget != None:\n",
    "        _widget.parent = _parent\n",
    "    _parent = _widget\n",
    "    \n",
    "_tab._widgets[1].crop_list.options = _tmp4.actions[0].sources.videos[_tmp4.actions[0].id]['bookmarks'].keys()    \n",
    "_tab._widgets[1].parent = _tmp4.actions[0]\n",
    "_tab._widgets[1].displayWidget = _displayWidget\n",
    "\n",
    "_tab._widgets[2].parent = _tab._widgets[1]\n",
    "\n",
    "exe = HaltableActionExecutor(booleanField=_run,imageWidget=_imageWidget2,sleep=0,action=_tab,name='test')\n",
    "#exe.start()"
   ]
  },
  {
   "cell_type": "code",
   "execution_count": null,
   "metadata": {},
   "outputs": [],
   "source": [
    "#_tmp4.dict()\n",
    "#_tab.evaluate()\n",
    "_tab._widgets[1].get_result()\n",
    "_tab._widgets[2].parent"
   ]
  },
  {
   "cell_type": "code",
   "execution_count": null,
   "metadata": {},
   "outputs": [],
   "source": [
    "_widget = CropWidget(action=CropAction(min=[0.0,0.0],max=[1.0,1.0],mode=CropAction.NORMALIZED),imageWidget=_imageWidget2)\n",
    "_tab.add(_widget)\n",
    "_widget.parent = _tab._widgets[len(_tab._widgets)-2]"
   ]
  },
  {
   "cell_type": "code",
   "execution_count": 56,
   "metadata": {},
   "outputs": [
    {
     "data": {
      "text/plain": [
       "dict_keys(['poses', 'inference_time', 'image'])"
      ]
     },
     "execution_count": 56,
     "metadata": {},
     "output_type": "execute_result"
    }
   ],
   "source": [
    "\n",
    "\n",
    "#_tab._widgets[3].action.evaluate(_tab._widgets[2].result)\n",
    "\n",
    "#_tab._widgets[3].action.evaluate\n",
    "\n",
    "\n",
    "type(_tab._widgets[2].result)\n",
    "\n",
    "\n",
    "def _evaluate(**kwargs):\n",
    "    print(type(kwargs))\n",
    "    \n",
    "#_evaluate(**_tab._widgets[2].result)    \n",
    "\n",
    "_tab._widgets[3].action.result.keys()"
   ]
  },
  {
   "cell_type": "markdown",
   "metadata": {},
   "source": [
    "## TemplateWrapper"
   ]
  },
  {
   "cell_type": "code",
   "execution_count": 113,
   "metadata": {},
   "outputs": [],
   "source": [
    "layout2={'width': '150px'}\n",
    "\n",
    "class TemplateWrapper(BaseWidget):\n",
    "    def __init__(self, action=None, imageWidget=None, parent=None):\n",
    "        self.action = action\n",
    "        self.parent = parent\n",
    "        self.result = None\n",
    "        self.imageWidget = imageWidget\n",
    "        self.vbox   = widgets.VBox([])\n",
    "            \n",
    "    def evaluate(self, **kwargs):     \n",
    "        self.result = self.action.evaluate(**kwargs)\n",
    "        if isinstance(self.result, dict):\n",
    "            _widgets = []\n",
    "            for key, value in self.result.items():\n",
    "                if key != 'image':\n",
    "                    _widgets.append(widgets.Text(description = key, value=str(value), style=style, layout=layout2))\n",
    "            self.vbox.children = _widgets\n",
    "            \n",
    "        return self.result\n",
    "    \n",
    "_widget = TemplateWrapper(action=PoseEngineAction(),imageWidget=_imageWidget2)  \n",
    "_tab.add(_widget)\n",
    "_widget.parent = _widgets[len(_widgets)-2]"
   ]
  },
  {
   "cell_type": "code",
   "execution_count": 117,
   "metadata": {},
   "outputs": [],
   "source": [
    "_widget = TemplateWrapper(action=DrawPoseAction(),imageWidget=_imageWidget2)  \n",
    "_tab.add(_widget)\n",
    "_widget.parent = _widgets[len(_widgets)-2]"
   ]
  },
  {
   "cell_type": "code",
   "execution_count": 118,
   "metadata": {},
   "outputs": [
    {
     "data": {
      "text/plain": [
       "{'action': <__main__.DrawPoseAction at 0x88b91a00>,\n",
       " 'parent': <__main__.CropWidget at 0xa4b76e80>,\n",
       " 'result': None,\n",
       " 'imageWidget': <__main__.ImageWidget at 0x89031868>,\n",
       " 'vbox': VBox()}"
      ]
     },
     "execution_count": 118,
     "metadata": {},
     "output_type": "execute_result"
    }
   ],
   "source": [
    "_widget.__dict__"
   ]
  },
  {
   "cell_type": "code",
   "execution_count": 86,
   "metadata": {},
   "outputs": [],
   "source": [
    "\n",
    "#_tab._widgets[3].action.result\n",
    "\n",
    "_widgets2 = []\n",
    "for key, value in _widget.result.items():\n",
    "    if key != 'image':\n",
    "        _widgets2.append(widgets.Text(description = key, value=str(value), style=style, layout=layout2))"
   ]
  },
  {
   "cell_type": "code",
   "execution_count": 99,
   "metadata": {},
   "outputs": [],
   "source": [
    "#_widget.vbox = widgets.VBox(_widgets2)\n",
    "#_tab._widgets[3].vbox = widgets.VBox(_widgets2)\n",
    "_tab._widgets_vbox[3] = widgets.VBox(_widgets2)\n",
    "_tab.tab.children = _tab._widgets_vbox  "
   ]
  },
  {
   "cell_type": "code",
   "execution_count": 108,
   "metadata": {},
   "outputs": [],
   "source": [
    "_tab._widgets_vbox[3].children[1].value = str(0.4)"
   ]
  },
  {
   "cell_type": "code",
   "execution_count": 111,
   "metadata": {},
   "outputs": [],
   "source": [
    "_widget.vbox.children = _widgets2"
   ]
  },
  {
   "cell_type": "code",
   "execution_count": null,
   "metadata": {},
   "outputs": [],
   "source": [
    "def myfunc(**kwargs):\n",
    "    # kwargs is a dictionary.\n",
    "    for k,v in kwargs.items():\n",
    "         print (\"%s = %s\" % (k, v))\n",
    "    if 'image' in kwargs.keys():\n",
    "        print('found')\n",
    "    \n",
    "myfunc(result=5, image=None)"
   ]
  },
  {
   "cell_type": "code",
   "execution_count": 89,
   "metadata": {},
   "outputs": [],
   "source": [
    "_tab.add(TemplateWidget())"
   ]
  },
  {
   "cell_type": "code",
   "execution_count": null,
   "metadata": {},
   "outputs": [],
   "source": [
    "_tab._widgets[3].result"
   ]
  },
  {
   "cell_type": "code",
   "execution_count": null,
   "metadata": {},
   "outputs": [],
   "source": [
    "_tab.create_widget(ContrastBrightnessAction().load(),imageWidget=_imageWidget2)"
   ]
  },
  {
   "cell_type": "code",
   "execution_count": null,
   "metadata": {},
   "outputs": [],
   "source": [
    "_tab._widgets[3].contrast_w.max = 5000\n",
    "_tab._widgets[3].brightness_w.max = 2.0"
   ]
  },
  {
   "cell_type": "code",
   "execution_count": null,
   "metadata": {},
   "outputs": [],
   "source": [
    "_tmp4.actions[0].index = 5\n",
    "exe.action=_tab._widgets[1].action"
   ]
  },
  {
   "cell_type": "code",
   "execution_count": null,
   "metadata": {},
   "outputs": [],
   "source": [
    "_run = widgets.Checkbox(description='loop',value=False)\n",
    "display(_run)\n",
    "exe = HaltableActionExecutor(booleanField=_run,imageWidget=_imageWidget2,sleep=0,action=_tmp4,name='test')\n",
    "exe.start()"
   ]
  },
  {
   "cell_type": "code",
   "execution_count": null,
   "metadata": {},
   "outputs": [],
   "source": [
    "asyncio.all_tasks()"
   ]
  },
  {
   "cell_type": "code",
   "execution_count": null,
   "metadata": {},
   "outputs": [],
   "source": [
    "asyncio.Task.current_task().name = \"#{}\".format('hallo')\n",
    "\n"
   ]
  },
  {
   "cell_type": "code",
   "execution_count": null,
   "metadata": {},
   "outputs": [],
   "source": [
    "deleteAllTasks('test')"
   ]
  },
  {
   "cell_type": "code",
   "execution_count": null,
   "metadata": {},
   "outputs": [],
   "source": [
    "#_imageWidget2.evaluate(_tab.evaluateWidgetActionList(_tab._widgets[0].evaluate(), start=1, end=1))\n",
    "#_tab._widgets[0].evaluate()\n",
    "#_tab._widgets[1].action\n",
    "#_tmp4.sources\n",
    "#_tab._widgets[0].__dict__\n",
    "#_displayWidget.action.evaluate()['image']\n",
    "#_displayWidget.evaluate()['image']\n",
    "#_displayWidget.__dict__\n",
    "#_tmp4.actions[0].dict()\n",
    "#_displayWidget.action.dict()\n",
    "#_tab.displayWidget.image\n",
    "#self.crop_list.options=self.parent.sources.videos[self.id]['bookmarks'].keys()\n",
    "#_tmp4.actions[0].sources.videos[_tmp4.actions[0].id]['bookmarks'].keys()\n",
    "\n",
    "#_tab._widgets[0].sources.__dict__\n",
    "#_tmp4.actions[0].dict()\n",
    "#_tmp4.actions[0].__dict__\n",
    "#_tmp4.actions[0]\n",
    "#_displayWidget.action.__dict__\n",
    "#_tmp4.actions[0].dict()\n",
    "#DisplayWidget(action=_tmp4.actions[0]).action.__dict__\n",
    "#_tab._widgets[2].parent = _tab._widgets[1]\n",
    "_tmp4.save()"
   ]
  },
  {
   "cell_type": "code",
   "execution_count": null,
   "metadata": {},
   "outputs": [],
   "source": [
    "self.initMinMax(self.action.size,self.action.fromNormalized(self.parent.sources.videos[self.id]['bookmarks'][change['new']]))"
   ]
  },
  {
   "cell_type": "code",
   "execution_count": null,
   "metadata": {},
   "outputs": [],
   "source": [
    "_tmp4 = EasyVideoPipeLine().load()\n",
    "\n",
    "#_dict = {'CropAction':'CropWidget', 'ResizeAction':'ResizeWidget','VideoAction':'LiveVideoSourcesWidget'}\n",
    "_dict = {'CropAction':'CropWidget', 'ResizeAction':'ResizeWidget', 'LiveVideoSources':'LiveVideoSourcesWidget'}\n",
    "\n",
    "_imageWidget2 = ImageWidget(display=False)\n",
    "\n",
    "_widgets = []\n",
    "_widgets_vbox = []\n",
    "\n",
    "def add_to_widgets(_action):\n",
    "    _name = _action.__class__.__name__\n",
    "    if _name in _dict.keys():\n",
    "        _class = eval(_dict[_name])(action=_action, imageWidget=_imageWidget2)\n",
    "        _widgets.append(_class)\n",
    "        _widgets_vbox.append(_class.vbox)\n",
    "\n",
    "add_to_widgets(_tmp4.sources)        \n",
    "for _action in _tmp4.actions:\n",
    "    add_to_widgets(_action)\n",
    "        \n",
    "_tab  = widgets.Tab(children=_widgets_vbox)\n",
    "for ind, _widget in enumerate(_widgets):\n",
    "    _tab.set_title(ind, _widget.action.__class__.__name__)\n",
    "    \n",
    "display(_tab)\n",
    "_imageWidget2.display()"
   ]
  },
  {
   "cell_type": "code",
   "execution_count": null,
   "metadata": {},
   "outputs": [],
   "source": [
    "_tmp4_video = _tmp4.actions[0]\n",
    "_tmp_displayWidget = DisplayWidget(action=_tmp4_video,update=_tmp4_crop_widget.updateImage)\n",
    "display(_tmp4_crop_widget.displayWidget.hbox)"
   ]
  },
  {
   "cell_type": "code",
   "execution_count": null,
   "metadata": {},
   "outputs": [],
   "source": [
    "_tmp4_crop = _tmp4.actions[1]\n",
    "_tmp4_crop_widget = CropWidget(action=_tmp4_crop)\n",
    "display(_tmp4_crop_widget.vbox)\n",
    "\n",
    "_tmp4_video = _tmp4.actions[0]\n",
    "_tmp4_crop_widget.displayWidget = DisplayWidget(action=_tmp4_video,update=_tmp4_crop_widget.updateImage)\n",
    "display(_tmp4_crop_widget.displayWidget.hbox)\n",
    "\n",
    "_image = _tmp4.actions[0].evaluate()\n",
    "_tmp4_crop_widget.updateImage(_image)\n"
   ]
  },
  {
   "cell_type": "code",
   "execution_count": null,
   "metadata": {},
   "outputs": [],
   "source": [
    "_tmp4.actions[1].evaluate(_image)['image']"
   ]
  },
  {
   "cell_type": "code",
   "execution_count": null,
   "metadata": {},
   "outputs": [],
   "source": [
    "\n",
    "_tmp4.actions[1].__dict__, _tmp4_crop_widget.action.__dict__"
   ]
  },
  {
   "cell_type": "code",
   "execution_count": null,
   "metadata": {},
   "outputs": [],
   "source": []
  },
  {
   "cell_type": "code",
   "execution_count": null,
   "metadata": {},
   "outputs": [],
   "source": [
    "#_tmp4.dict()\n",
    "_tmp4_crop.dict()\n",
    "_tmp4_video.dict()\n",
    "_tmp4_video.stream.dimensions\n",
    "_tmp4_crop.__dict__"
   ]
  },
  {
   "cell_type": "code",
   "execution_count": null,
   "metadata": {},
   "outputs": [],
   "source": [
    "_tmp4.actions[1].__dict__, _tmp4_crop_widget.action.__dict__"
   ]
  },
  {
   "cell_type": "code",
   "execution_count": null,
   "metadata": {},
   "outputs": [],
   "source": [
    "_tmp4_crop_widget = CropWidget(action=_tmp4_crop, videoAction=_tmp4_video ,parent=None)\n",
    "display(_tmp4_crop_widget.vbox)\n",
    "\n",
    "_tmp4_crop_widget.displayWidget = DisplayWidget(action=_tmp4_video,update=_tmp4_crop_widget.updateImage)\n",
    "display(_tmp4_crop_widget.displayWidget.hbox)\n",
    "\n"
   ]
  },
  {
   "cell_type": "code",
   "execution_count": null,
   "metadata": {},
   "outputs": [],
   "source": [
    "_tmp4_crop_widget.action.dict()"
   ]
  },
  {
   "cell_type": "code",
   "execution_count": null,
   "metadata": {},
   "outputs": [],
   "source": [
    "_tmp4_sources.get_keys()\n",
    "_tmp4_sources.videos[_tmp4_video.id]"
   ]
  },
  {
   "cell_type": "code",
   "execution_count": null,
   "metadata": {},
   "outputs": [],
   "source": [
    "#_tmp4_sources_widget = LiveVideoSourcesWidget(child=_tmp4_crop_widget, filename = '../videos.json', action=_tmp4_sources, id=_tmp4_video.id)\n",
    "_tmp4_sources_widget = LiveVideoSourcesWidget(filename = '../videos.json', action=_tmp4_sources, id=_tmp4_video.id)\n",
    "display(_tmp4_sources_widget.vbox)"
   ]
  },
  {
   "cell_type": "code",
   "execution_count": null,
   "metadata": {},
   "outputs": [],
   "source": [
    "_tmp4_sources_widget.child = _tmp4_crop_widget"
   ]
  },
  {
   "cell_type": "code",
   "execution_count": null,
   "metadata": {},
   "outputs": [],
   "source": [
    "_tmp4_crop_widget.displayWidget.image"
   ]
  },
  {
   "cell_type": "code",
   "execution_count": null,
   "metadata": {},
   "outputs": [],
   "source": [
    "_tmp4.dict()"
   ]
  },
  {
   "cell_type": "code",
   "execution_count": null,
   "metadata": {},
   "outputs": [],
   "source": [
    "_tmp4_crop.size"
   ]
  },
  {
   "cell_type": "code",
   "execution_count": null,
   "metadata": {},
   "outputs": [],
   "source": [
    "#_tmp4_crop.evaluate(_tmp4_video.evaluate()['image'])['image']\n",
    "\n",
    "image = _tmp4_video.evaluate()['image']\n",
    "#_tmp4_crop.fromNormalized(_tmp4_crop.flat(), size=image.size)\n",
    "#_tmp4_crop.flat()\n",
    "image"
   ]
  },
  {
   "cell_type": "code",
   "execution_count": null,
   "metadata": {},
   "outputs": [],
   "source": [
    "_tmp4_crop.__dict__"
   ]
  },
  {
   "cell_type": "code",
   "execution_count": null,
   "metadata": {},
   "outputs": [],
   "source": [
    "self.initMinMax(action.size,(0,0,action.size[0]-1,action.size[1]-1))"
   ]
  },
  {
   "cell_type": "code",
   "execution_count": null,
   "metadata": {},
   "outputs": [],
   "source": [
    "#_tmp4_crop.__dict__\n",
    "#_tmp4_video.evaluate()\n",
    "#_tmp4_video.__dict__\n",
    "_tmp4_crop.action.__dict__"
   ]
  },
  {
   "cell_type": "code",
   "execution_count": null,
   "metadata": {},
   "outputs": [],
   "source": [
    "#_tmp4_crop_widget.action.__dict__\n",
    "#_tmp4_crop_widget.action.normalized()\n",
    "#_tmp4_crop_widget.action.min\n",
    "#_tmp4_crop_widget.action.crop(_tmp4_crop_widget.action._flat())\n",
    "#_tmp4_crop_widget.action._flat(), _tmp4_crop_widget.action.__dict__\n",
    "#_tmp4_crop.__dict__\n",
    "#_tmp4_crop.flat()\n",
    "#_tmp4_crop.toWorld(image.size).__dict__\n",
    "#_tmp4_crop_widget.action.__dict__\n",
    "_tmp4_crop_widget.result['image']\n",
    "#_tmp4_crop_widget.displayWidget.image"
   ]
  },
  {
   "cell_type": "code",
   "execution_count": null,
   "metadata": {},
   "outputs": [],
   "source": [
    "#_tmp4_sources.__dict__\n",
    "_tmp4_sources_widget.video_urls.value\n",
    "#_tmp4_sources_widget.id\n",
    "_tmp4_video.id"
   ]
  },
  {
   "cell_type": "code",
   "execution_count": null,
   "metadata": {},
   "outputs": [],
   "source": [
    "#_tmp4_video.__dict__\n",
    "#_tmp4_crop_widget.displayWidget.on_next_image_button_clicked('')\n",
    "\n",
    "#action.update(size)\n",
    "\n",
    "_tmp4_crop_widget.action.__dict__\n",
    "_size = _tmp4_crop_widget.displayWidget.image.size\n",
    "#_tmp4_crop_widget.action.update(_size)\n",
    "\n",
    "_tmp4_crop_widget.action.mode == _tmp4_crop_widget.action.WORLD\n",
    "\n",
    "_tmp4_crop_widget.action.toWorld(size=_size).__dict__"
   ]
  },
  {
   "cell_type": "code",
   "execution_count": null,
   "metadata": {},
   "outputs": [],
   "source": [
    "#_tmp4_video.evaluate()['image']\n",
    "image = _tmp4_crop_widget.displayWidget.image\n",
    "#_tmp4_crop_widget.updateImage(_tmp4_crop_widget.displayWidget.image)\n",
    "\n",
    "#_tmp4_crop_widget.action.fromNormalized(_tmp4_crop_widget.action.flat(), size=image.size)\n",
    "#_tmp4_crop_widget.action.__dict__, _tmp4_crop.__dict__\n",
    "#_tmp4_crop_widget.action.__dict__, _tmp4_crop_widget.action.fromNormalized(_tmp4_crop_widget.action.flat(), size=image.size).__dict__\n",
    "image"
   ]
  },
  {
   "cell_type": "code",
   "execution_count": null,
   "metadata": {},
   "outputs": [],
   "source": [
    "_tmp4_crop_widget.action.__dict__, _tmp4_crop.__dict__"
   ]
  },
  {
   "cell_type": "code",
   "execution_count": null,
   "metadata": {},
   "outputs": [],
   "source": [
    "if isinstance(_tmp.dict(), dict):\n",
    "    print('dict')\n",
    "\n",
    "\n",
    "#EasyVideoPipeLine().from_dict(_tmp.dict()).sources.videos\n",
    "\n",
    "_tmp3 = EasyVideoPipeLine().from_dict(_tmp.dict())\n",
    "_tmp3.actions[0].init(sources=_tmp3.sources)\n",
    "_action0 = _tmp3.actions[0]\n",
    "_action0.setIndex(2)\n",
    "_imageWidget2 = ImageWidget(display=True)"
   ]
  },
  {
   "cell_type": "code",
   "execution_count": null,
   "metadata": {},
   "outputs": [],
   "source": [
    "_action0.setIndex(1)"
   ]
  },
  {
   "cell_type": "code",
   "execution_count": null,
   "metadata": {},
   "outputs": [],
   "source": [
    "_action0.skipFrames(15)\n",
    "_tmp3.actions[0].evaluate()['image']\n",
    "_imageWidget2.setImage(_tmp3.actions[0].evaluate())"
   ]
  },
  {
   "cell_type": "code",
   "execution_count": null,
   "metadata": {},
   "outputs": [],
   "source": [
    "_action1 = _tmp3.actions[1]\n",
    "_action2 = _tmp3.actions[2]\n",
    "\n",
    "_action2.algorithm = Image.LANCZOS\n",
    "\n",
    "#_action2.evaluate(_action1.evaluate(_imageWidget2.getImage())['image'])['image']\n",
    "\n",
    "_imageWidget2.setImage(_action1.evaluate(_imageWidget2.getImage())['image'])\n",
    "\n",
    "#_action2.dict()"
   ]
  },
  {
   "cell_type": "code",
   "execution_count": null,
   "metadata": {},
   "outputs": [],
   "source": [
    "#_tmp3.actions[2].algorithm = Image.LANCZOS\n",
    "_tmp3.actions[2].__dict__\n",
    "_tmp3.actions[0].setIndex(5)\n",
    "_tmp3.actions[0].skipframes = 60"
   ]
  },
  {
   "cell_type": "code",
   "execution_count": null,
   "metadata": {},
   "outputs": [],
   "source": [
    "_tmp3.actions[0].__dict__"
   ]
  },
  {
   "cell_type": "code",
   "execution_count": null,
   "metadata": {},
   "outputs": [],
   "source": [
    "# set result to imagewidget\n",
    "_imageWidget2.evaluate(**  evaluateActionList(_tmp3.actions, {}))"
   ]
  },
  {
   "cell_type": "code",
   "execution_count": null,
   "metadata": {},
   "outputs": [],
   "source": [
    "_actions = [ResizeAction(size=(900,500))]\n",
    "evaluateActionList(_actions, {'image':_action.readImage()})['image']"
   ]
  },
  {
   "cell_type": "code",
   "execution_count": null,
   "metadata": {},
   "outputs": [],
   "source": [
    "#_action.sources.videos[_action.id]\n",
    "_action.video"
   ]
  },
  {
   "cell_type": "code",
   "execution_count": null,
   "metadata": {},
   "outputs": [],
   "source": [
    "_videoSources.sources.videos[list(_videoSources.sources.videos.keys())[1]]"
   ]
  },
  {
   "cell_type": "code",
   "execution_count": null,
   "metadata": {},
   "outputs": [],
   "source": [
    "_action.evaluate()['image']"
   ]
  },
  {
   "cell_type": "code",
   "execution_count": null,
   "metadata": {},
   "outputs": [],
   "source": [
    "CropAction(min=(0,0),max=(480,640),size=(1920,1080),mode=CropAction.WORLD).dict(), CropAction(min=(0,0),max=(480,640),size=(1920,1080),mode=CropAction.WORLD).toNormalized().__dict__"
   ]
  },
  {
   "cell_type": "markdown",
   "metadata": {},
   "source": [
    "# ActionStream"
   ]
  },
  {
   "cell_type": "code",
   "execution_count": null,
   "metadata": {},
   "outputs": [],
   "source": [
    "# import the necessary packages\n",
    "from threading import Thread\n",
    "import sys\n",
    "import cv2\n",
    "# import the Queue class from Python 3\n",
    "from queue import Queue\n",
    "\n",
    "class ActionStream:\n",
    "    def __init__(self, queueSize=128, action=None):\n",
    "        self.action = action\n",
    "        # initialize the file video stream along with the boolean\n",
    "        # used to indicate if the thread should be stopped or not\n",
    "        self.stopped = False\n",
    "        # initialize the queue used to store frames read from\n",
    "        # the video file\n",
    "        self.Q = Queue(maxsize=queueSize)\n",
    "        \n",
    "    def start(self):\n",
    "        # start a thread to read frames from the file video stream\n",
    "        t = Thread(target=self.update, args=(), name=\"FileVideoStream\")\n",
    "        t.daemon = True\n",
    "        t.start()\n",
    "        return self      \n",
    "    \n",
    "    def update(self):\n",
    "        # keep looping infinitely\n",
    "        while True:\n",
    "            # if the thread indicator variable is set, stop the\n",
    "            # thread\n",
    "            if self.stopped:\n",
    "                return\n",
    "            # otherwise, ensure the queue has room in it\n",
    "            if not self.Q.full():\n",
    "                # read the next frame from the file\n",
    "                #(grabbed, frame) = self.capture.read()\n",
    "                # if the `grabbed` boolean is `False`, then we have\n",
    "                # reached the end of the video file\n",
    "                #frame = self.action.readImage()\n",
    "                frame = self.action.evaluate()\n",
    "                grabbed = True\n",
    "                if not grabbed:\n",
    "                    self.stop()\n",
    "                    return\n",
    "                # add the frame to the queue\n",
    "                self.Q.put(frame)    \n",
    "                \n",
    "    def evaluate(self):\n",
    "        # return next frame in the queue\n",
    "        return self.Q.get()\n",
    "    \n",
    "    def more(self):\n",
    "        # return True if there are still frames in the queue\n",
    "        return self.Q.qsize() > 0\n",
    "    \n",
    "    def stop(self):\n",
    "        # indicate that the thread should be stopped\n",
    "        self.stopped = True"
   ]
  },
  {
   "cell_type": "code",
   "execution_count": null,
   "metadata": {},
   "outputs": [],
   "source": [
    "fs = ActionStream(queueSize=60,action=_tmp4).start()"
   ]
  },
  {
   "cell_type": "code",
   "execution_count": null,
   "metadata": {},
   "outputs": [],
   "source": [
    "fs.evaluate()['image']"
   ]
  },
  {
   "cell_type": "code",
   "execution_count": null,
   "metadata": {},
   "outputs": [],
   "source": [
    "#fs.stop()\n",
    "fs.start()\n",
    "fs.Q.qsize()"
   ]
  },
  {
   "cell_type": "code",
   "execution_count": null,
   "metadata": {},
   "outputs": [],
   "source": [
    "_run = widgets.Checkbox(description='loop',value=False)\n",
    "display(_run)\n",
    "exe2 = HaltableActionExecutor(booleanField=_run,imageWidget=ImageWidget(display=True),sleep=0,action=fs,name='test')\n",
    "exe2.start()"
   ]
  },
  {
   "cell_type": "code",
   "execution_count": null,
   "metadata": {},
   "outputs": [],
   "source": [
    "# import the necessary packages\n",
    "from threading import Thread\n",
    "import sys\n",
    "import cv2\n",
    "# import the Queue class from Python 3\n",
    "from queue import Queue\n",
    "\n",
    "class FileVideoStream0:\n",
    "    def __init__(self, queueSize=128, action=None):\n",
    "        # initialize the file video stream along with the boolean\n",
    "        # used to indicate if the thread should be stopped or not\n",
    "        #_entry = videos[name]\n",
    "        #_video  = pafy.new(_entry['url'])\n",
    "        #self.stream = _video.streams[index]\n",
    "        #self.capture = cv2.VideoCapture(self.stream.url)\n",
    "        self.action = action\n",
    "        self.stopped = False\n",
    "        # initialize the queue used to store frames read from\n",
    "        # the video file\n",
    "        self.Q = Queue(maxsize=queueSize)\n",
    "        \n",
    "    def start(self):\n",
    "        # start a thread to read frames from the file video stream\n",
    "        t = Thread(target=self.update, args=(), name=\"FileVideoStream\")\n",
    "        t.daemon = True\n",
    "        t.start()\n",
    "        return self      \n",
    "    \n",
    "    def update(self):\n",
    "        # keep looping infinitely\n",
    "        while True:\n",
    "            # if the thread indicator variable is set, stop the\n",
    "            # thread\n",
    "            if self.stopped:\n",
    "                return\n",
    "            # otherwise, ensure the queue has room in it\n",
    "            if not self.Q.full():\n",
    "                # read the next frame from the file\n",
    "                #(grabbed, frame) = self.capture.read()\n",
    "                # if the `grabbed` boolean is `False`, then we have\n",
    "                # reached the end of the video file\n",
    "                #frame = self.action.readImage()\n",
    "                frame = self.action.evaluate()\n",
    "                grabbed = True\n",
    "                if not grabbed:\n",
    "                    self.stop()\n",
    "                    return\n",
    "                # add the frame to the queue\n",
    "                self.Q.put(frame)    \n",
    "                \n",
    "    def evaluate(self):\n",
    "        # return next frame in the queue\n",
    "        return self.Q.get()\n",
    "    \n",
    "    def more(self):\n",
    "        # return True if there are still frames in the queue\n",
    "        return self.Q.qsize() > 0\n",
    "    \n",
    "    def stop(self):\n",
    "        # indicate that the thread should be stopped\n",
    "        self.stopped = True"
   ]
  },
  {
   "cell_type": "code",
   "execution_count": null,
   "metadata": {},
   "outputs": [],
   "source": [
    "_action.skipframes=15\n",
    "fs = FileVideoStream(queueSize=60,action=_action).start()"
   ]
  },
  {
   "cell_type": "code",
   "execution_count": null,
   "metadata": {},
   "outputs": [],
   "source": [
    "frame = fs.read() \n",
    "frame\n",
    "#_imagew.setImage(frame)"
   ]
  },
  {
   "cell_type": "code",
   "execution_count": null,
   "metadata": {},
   "outputs": [],
   "source": [
    "#_action_dict_list\n",
    "_caction.dict()"
   ]
  },
  {
   "cell_type": "code",
   "execution_count": null,
   "metadata": {},
   "outputs": [],
   "source": [
    "#_action.skipframes=10\n",
    "\n",
    "_caction = createActionOfDict(_crop.action.toNormalized().dict())\n",
    "\n",
    "while True:      \n",
    "        try:\n",
    "            frame = fs.read()\n",
    "            _imagew.setImage(_caction.evaluate(image=frame['image'])['image'])\n",
    "        except Exception as exception:\n",
    "            print('done', str(exception))"
   ]
  },
  {
   "cell_type": "code",
   "execution_count": null,
   "metadata": {},
   "outputs": [],
   "source": [
    "_vaction = _crop.videoAction"
   ]
  },
  {
   "cell_type": "code",
   "execution_count": null,
   "metadata": {},
   "outputs": [],
   "source": [
    "_imagew = ImageWidget()"
   ]
  },
  {
   "cell_type": "code",
   "execution_count": null,
   "metadata": {},
   "outputs": [],
   "source": [
    "#while fs.more():\n",
    "from imutils.video import FPS\n",
    "fps = FPS().start()\n",
    "\n",
    "while True:    \n",
    "    frame = fs.read()\n",
    "    cv2.putText(frame, \"Queue Size: {}\".format(fs.Q.qsize()),\n",
    "        (10, 30), cv2.FONT_HERSHEY_SIMPLEX, 0.6, (0, 255, 0), 2)\n",
    "    _img = Image.fromarray(cv2.cvtColor(frame, cv2.COLOR_BGR2RGB))\n",
    "    _img = evaluateActionDictList(_action_dict_list,_img)\n",
    "    #_imagew.setImage(_img)\n",
    "    fps.update()\n",
    "    print(\"[INFO] approx. FPS: {:.2f}\".format(fps.fps()))"
   ]
  },
  {
   "cell_type": "code",
   "execution_count": null,
   "metadata": {},
   "outputs": [],
   "source": [
    "fs.stop()"
   ]
  },
  {
   "cell_type": "code",
   "execution_count": null,
   "metadata": {},
   "outputs": [],
   "source": [
    "fps.stop()\n",
    "#print(\"[INFO] elasped time: {:.2f}\".format(fps.elapsed()))\n",
    "#print(\"[INFO] approx. FPS: {:.2f}\".format(fps.fps()))"
   ]
  },
  {
   "cell_type": "code",
   "execution_count": null,
   "metadata": {},
   "outputs": [],
   "source": []
  },
  {
   "cell_type": "code",
   "execution_count": null,
   "metadata": {},
   "outputs": [],
   "source": [
    "fs = ActionStream(queueSize=60,action=_tmp5).start()\n",
    "_frame = fs.evaluate()\n",
    "_frame['image']"
   ]
  },
  {
   "cell_type": "markdown",
   "metadata": {},
   "source": [
    "# VideoLoopPlayer"
   ]
  },
  {
   "cell_type": "code",
   "execution_count": null,
   "metadata": {},
   "outputs": [],
   "source": [
    "#from queue import Queue\n",
    "\n",
    "_action=_crop.videoAction\n",
    "_action.skipframes = 60\n",
    "_images = _action.readImages(40)"
   ]
  },
  {
   "cell_type": "code",
   "execution_count": null,
   "metadata": {},
   "outputs": [],
   "source": [
    "#_images[30]\n",
    "#_action.skipframes\n"
   ]
  },
  {
   "cell_type": "code",
   "execution_count": null,
   "metadata": {},
   "outputs": [],
   "source": [
    "#imageWidget.setImage(_loop.evaluate()['image'])"
   ]
  },
  {
   "cell_type": "code",
   "execution_count": null,
   "metadata": {},
   "outputs": [],
   "source": [
    "class VideoLoopAction():\n",
    "    def __init__(self,images=None):\n",
    "        self.index  = 0\n",
    "        self.step   = 1\n",
    "        self.images = images\n",
    "        \n",
    "    def evaluate(self):\n",
    "        self.index = self.index + self.step\n",
    "        if self.index > len(self.images) - 1:\n",
    "            self.index = 0\n",
    "    \n",
    "        return {'image':self.images[self.index]}  "
   ]
  },
  {
   "cell_type": "code",
   "execution_count": null,
   "metadata": {},
   "outputs": [],
   "source": [
    "import ipywidgets as widgets\n",
    "style = {'description_width': '250px'}\n",
    "layout = {'width': '500px'}\n",
    "\n",
    "#_caction = createActionOfDict(_crop.action.toNormalized().dict())\n",
    "#_vaction = fs\n",
    "\n",
    "def on_next_button_clicked1(b):  \n",
    "    #newvalue = int(frame.value) + 1\n",
    "    #if newvalue == len(imgs):\n",
    "    #    newvalue = 0\n",
    "    #frame.value =  str(newvalue)\n",
    "    #imageWidget.setImage(CropAction(**para_dict).evaluate(image=imgs[newvalue]))\n",
    "    #imageWidget.setImage(_action.evaluate(image=imgs[newvalue]))\n",
    "    #_img = capture.getFrame()\n",
    "    #_img = imgs[newvalue]\n",
    "    #_img = _vaction.readImageOfStream()\n",
    "    #frame1 = fs.read()\n",
    "    #_img = Image.fromarray(cv2.cvtColor(frame1, cv2.COLOR_BGR2RGB))\n",
    "    #_img = evaluateActionDictList(_action_dict_list,_img)\n",
    "    #imageWidget.setImage(_img)\n",
    "    frame = fs.read()\n",
    "    _imagew.setImage(_caction.evaluate(image=frame['image'])['image']) \n",
    "\n",
    "def on_next_button_clicked(b):  \n",
    "    #_img = _vaction.readImageOfStream()\n",
    "    \n",
    "    pass\n",
    "    #_caction = _crop.action.toNormalized()\n",
    "    #frame = _vaction.evaluate()\n",
    "    #_img = _caction.evaluate(image=frame['image'])['image']\n",
    "    #imageWidget.setImage(_img)\n",
    "    \n",
    "def initBufferedStream():    \n",
    "    name='_hEh5wF6lxE'\n",
    "    _entry = videos[name]\n",
    "    _video  = pafy.new(_entry['url'])\n",
    "    fs.stream = _video.streams[int(stream.value)]\n",
    "    fs.capture = cv2.VideoCapture(fs.stream.url)\n",
    "    \n",
    "def on_download_button_clicked(b):  \n",
    "    global imgs\n",
    "    next_button.disabled = True\n",
    "    #imgs = readImagesOfStream(video.streams[int(stream.value)],int(numberframes.value),skipframes=int(skipframes.value))\n",
    "    #imgs = capture.readFrames(int(numberframes.value),skipframes=int(skipframes.value))\n",
    "    global _vaction\n",
    "    _vaction = VideoAction(video,index=int(stream.value),skipframes=int(skipframes.value))\n",
    "    \n",
    "    #initBufferedStream()\n",
    "    \n",
    "    frame.value = '0'\n",
    "    next_button.disabled = False\n",
    "\n",
    "def on_value_change_loop(b):\n",
    "    if b['new'] == True:\n",
    "        exe = HaltableExecutor(loop,sleep)\n",
    "        exe.start()\n",
    "        pending = asyncio.all_tasks()\n",
    "        print(pending)\n",
    "    else:\n",
    "        for task in asyncio.all_tasks(): \n",
    "            if task.get_name() == 'test': \n",
    "                task.cancel()\n",
    "\n",
    "    \n",
    "stream     = widgets.Text(description   = 'stream',value = '1', style=style, layout=layout)\n",
    "numberframes = widgets.Text(description = 'number frames',value = '10', style=style, layout=layout)\n",
    "skipframes = widgets.Text(description   = 'skip frames',value = '10', style=style, layout=layout)\n",
    "frame = widgets.Text(description = 'frame',value = '0', style=style, layout=layout)\n",
    "sleep = widgets.Text(description = 'sleep',value = '0.0', style=style, layout=layout)\n",
    "loop = widgets.Checkbox(description='loop',value=False)\n",
    "#loop.observe(on_value_change_loop)    \n",
    "download_button = widgets.Button(description='download', disabled=False, tooltip='resize',style=style, layout=layout)\n",
    "download_button.on_click(on_download_button_clicked)  \n",
    "next_button = widgets.Button(description='next', disabled=False, tooltip='resize',style=style, layout=layout)\n",
    "next_button.on_click(on_next_button_clicked)  \n",
    "vbox = widgets.VBox([stream,numberframes,skipframes,download_button,frame,sleep,loop,next_button])\n",
    "display(vbox)\n",
    "imageWidget=ImageWidget()\n",
    "#imageWidget.display()"
   ]
  },
  {
   "cell_type": "code",
   "execution_count": null,
   "metadata": {},
   "outputs": [],
   "source": [
    "#imageWidget.getImage().size\n",
    "#video.streams\n",
    "#VideoAction.__dict__\n",
    "\n",
    "#_vaction.skipframes = 60\n",
    "\n",
    "#display(DisplayWidget(action=_loop,imageWidget=imageWidget).hbox)\n",
    "_loop = VideoLoopAction(images=_images)\n",
    "display(DisplayWidget0(action=_loop,imageWidget=imageWidget).hbox)"
   ]
  },
  {
   "cell_type": "code",
   "execution_count": null,
   "metadata": {},
   "outputs": [],
   "source": [
    "imageWidget.setImage(_loop.evaluate())"
   ]
  },
  {
   "cell_type": "code",
   "execution_count": null,
   "metadata": {},
   "outputs": [],
   "source": [
    "import ipywidgets as widgets\n",
    "import asyncio\n",
    "import time\n",
    "\n",
    "class HaltableExecutor:\n",
    "\n",
    "    def __init__(self, checkbox,imageWidget,sleep,action):\n",
    "        self._checkbox = checkbox\n",
    "        self.imageWidget = imageWidget\n",
    "        self._sleep    = sleep\n",
    "        self.action  = action\n",
    "        \n",
    "    async def my_code(self):\n",
    "        # This is your user code\n",
    "        while True:\n",
    "            if self._checkbox.value:\n",
    "                print('running')  # put your code here\n",
    "                #self.function('b')\n",
    "                #self.imageWidget.setImage(self.action.evaluate())\n",
    "                time.sleep(float(self._sleep.value))\n",
    "            await asyncio.sleep(0.1)  # use this to temporarily give up control of the event loop to allow scheduling checkbox changes\n",
    "    \n",
    "    def start(self):\n",
    "        print('starting')\n",
    "        #asyncio.current_task().foo = \"Bar\"\n",
    "        #asyncio.current_task().name = \"#{}\".format(n)\n",
    "        task = asyncio.ensure_future(self.my_code())\n",
    "        task.set_name('test')\n",
    "        #asyncio.current_task().name = 'test'\n",
    "        \n",
    "#c = widgets.Checkbox(description='click me',value=False)\n",
    "#display(c)        \n",
    "\n",
    "\n",
    "exe = HaltableExecutor(_run,None,1,_loop)\n",
    "exe.start()\n"
   ]
  },
  {
   "cell_type": "code",
   "execution_count": null,
   "metadata": {},
   "outputs": [],
   "source": [
    "#ImageWidget().setImage(_tmp5.evaluate())\n",
    "_tmp5.actions[0].index = 5\n",
    "_tmp5.actions[0].skipframes=8"
   ]
  },
  {
   "cell_type": "code",
   "execution_count": null,
   "metadata": {},
   "outputs": [],
   "source": [
    "_tmp5.actions[2].size = (420,360)\n",
    "_tmp5.actions[2].__dict__"
   ]
  },
  {
   "cell_type": "code",
   "execution_count": null,
   "metadata": {},
   "outputs": [],
   "source": [
    "del _tmp5.actions[2]"
   ]
  },
  {
   "cell_type": "code",
   "execution_count": null,
   "metadata": {},
   "outputs": [],
   "source": [
    "_tmp5.actions[0].__dict__\n",
    "#_tmp5.actions[0].evaluate()['image']"
   ]
  },
  {
   "cell_type": "code",
   "execution_count": null,
   "metadata": {},
   "outputs": [],
   "source": [
    "_loop.index, _loop.step\n",
    "#imageWidget.display()\n",
    "_run = widgets.Checkbox(description='loop',value=False)\n",
    "imageWidget=ImageWidget()\n",
    "display(_run)"
   ]
  },
  {
   "cell_type": "code",
   "execution_count": null,
   "metadata": {},
   "outputs": [],
   "source": [
    "import ipywidgets as widgets\n",
    "import asyncio\n",
    "import time\n",
    "\n",
    "class HaltableExecutor:\n",
    "\n",
    "    def __init__(self, checkbox=checkbox,sleep=sleep,class=None,function=evaluate,imageWidget=imageWidget):\n",
    "        self._checkbox = checkbox\n",
    "        self.imageWidget = imageWidget\n",
    "        self._sleep    = sleep\n",
    "        self.class     = class\n",
    "        self.function  = function\n",
    "        \n",
    "    async def my_code(self):\n",
    "        # This is your user code\n",
    "        while True:\n",
    "            if self._checkbox.value:\n",
    "                #print('running')  # put your code here\n",
    "                #self.function('b')\n",
    "                self.imageWidget.setImage(self.claas.function\n",
    "                time.sleep(float(self._sleep.value))\n",
    "            await asyncio.sleep(0.1)  # use this to temporarily give up control of the event loop to allow scheduling checkbox changes\n",
    "    \n",
    "    def start(self):\n",
    "        print('starting')\n",
    "        #asyncio.current_task().foo = \"Bar\"\n",
    "        #asyncio.current_task().name = \"#{}\".format(n)\n",
    "        task = asyncio.ensure_future(self.my_code())\n",
    "        task.set_name('test')\n",
    "        #asyncio.current_task().name = 'test'\n",
    "        \n",
    "#c = widgets.Checkbox(description='click me',value=False)\n",
    "#display(c)        \n",
    "\n",
    "#exe = HaltableExecutor(loop,sleep,on_next_button_clicked)\n",
    "exe = HaltableExecutor(checkbox=_run,sleep=sleep,class=_loop,imageWidget=imageWidget)\n",
    "exe.start()"
   ]
  },
  {
   "cell_type": "code",
   "execution_count": null,
   "metadata": {},
   "outputs": [],
   "source": [
    "def deleteAllTasks(name):\n",
    "    for task in asyncio.all_tasks(): \n",
    "                if task.get_name() == name: \n",
    "                    task.cancel()\n",
    "                \n",
    "pending = asyncio.all_tasks()\n",
    "#next(iter(pending)).cancel()\n",
    "len(pending)\n",
    "#pending\n",
    "#asyncio.current_task().set_name('test')\n",
    "#next(iter(pending)).get_name()\n",
    "#task, = [task for task in asyncio.all_tasks() if task.get_name() == 'test']\n",
    "#task.get_name()\n",
    "#deleteAllTasks('test')\n",
    "pending\n",
    "deleteAllTasks('test')"
   ]
  },
  {
   "cell_type": "code",
   "execution_count": null,
   "metadata": {},
   "outputs": [],
   "source": [
    "asyncio.all_tasks()\n",
    "#deleteAllTasks('Task-9')"
   ]
  },
  {
   "cell_type": "markdown",
   "metadata": {},
   "source": [
    "# Coral Actions"
   ]
  },
  {
   "cell_type": "code",
   "execution_count": null,
   "metadata": {},
   "outputs": [],
   "source": [
    "import sys\n",
    "sys.path.insert(0,'/home/pi/jupyter/coral/projectposenet')\n",
    "sys.path"
   ]
  },
  {
   "cell_type": "code",
   "execution_count": 78,
   "metadata": {},
   "outputs": [
    {
     "name": "stdout",
     "output_type": "stream",
     "text": [
      "ln: failed to create symbolic link 'projectposenet': File exists\n"
     ]
    }
   ],
   "source": [
    "!ln -s /home/pi/jupyter/coral/projectposenet/posenet_lib/  posenet_lib \n",
    "!ln -s /home/pi/jupyter/coral/projectposenet projectposenet"
   ]
  },
  {
   "cell_type": "markdown",
   "metadata": {},
   "source": [
    "## PoseEngineAction"
   ]
  },
  {
   "cell_type": "code",
   "execution_count": 49,
   "metadata": {},
   "outputs": [],
   "source": [
    "import random\n",
    "from PIL import Image\n",
    "from PIL import ImageDraw\n",
    "\n",
    "from pycoral.utils import edgetpu\n",
    "from PIL import Image\n",
    "from tflite_runtime.interpreter import load_delegate\n",
    "from tflite_runtime.interpreter import Interpreter\n",
    "\n",
    "import collections\n",
    "import enum\n",
    "import math\n",
    "import numpy as np\n",
    "import os\n",
    "import platform\n",
    "import sys\n",
    "import time\n",
    "\n",
    "from projectposenet.pose_engine import PoseEngine\n",
    "\n",
    "colors = [(255,0,0,255) ,(0,255,0,255) ,(0,0,255,255),(255,255,0,255) ,(0,255,255,255) ,(255,255,255,255), \\\n",
    "         (125,0,0,255) ,(125,255,0,255) ,(125,0,255,255),(125,255,0,255) ,(125,255,255,255) ,(125,255,255,255)]\n",
    "\n",
    "EDGES = (\n",
    "    ('nose', 'left eye'),\n",
    "    ('nose', 'right eye'),\n",
    "    ('nose', 'left ear'),\n",
    "    ('nose', 'right ear'),\n",
    "    ('left ear', 'left eye'),\n",
    "    ('right ear', 'right eye'),\n",
    "    ('left eye', 'right eye'),\n",
    "    ('left shoulder', 'right shoulder'),\n",
    "    ('left shoulder', 'left elbow'),\n",
    "    ('left shoulder', 'left hip'),\n",
    "    ('right shoulder', 'right elbow'),\n",
    "    ('right shoulder', 'right hip'),\n",
    "    ('left elbow', 'left wrist'),\n",
    "    ('right elbow', 'right wrist'),\n",
    "    ('left hip', 'right hip'),\n",
    "    ('left hip', 'left knee'),\n",
    "    ('right hip', 'right knee'),\n",
    "    ('left knee', 'left ankle'),\n",
    "    ('right knee', 'right ankle'),\n",
    ")\n",
    "\n",
    "\n",
    "class PoseEngineAction(BaseAction):\n",
    "    def __init__(self):\n",
    "        self.engine = PoseEngine('projectposenet/models/mobilenet/posenet_mobilenet_v1_075_481_641_quant_decoder_edgetpu.tflite')\n",
    "        self.result = None\n",
    "    \n",
    "    def evaluate(self, **kwargs):        \n",
    "        if 'image' in kwargs.keys():\n",
    "            self.result = {'image':kwargs['image']}\n",
    "            image = self._get_image(kwargs['image'])\n",
    "            poses, inference_time = self.engine.DetectPosesInImage(image)\n",
    "            self.result = {'poses':poses, 'inference_time':inference_time,'image':kwargs['image']}\n",
    "            return self.result"
   ]
  },
  {
   "cell_type": "markdown",
   "metadata": {},
   "source": [
    "## DrawPoseAction"
   ]
  },
  {
   "cell_type": "code",
   "execution_count": 116,
   "metadata": {},
   "outputs": [],
   "source": [
    "class DrawPoseAction(BaseAction):\n",
    "    def __init__(self):\n",
    "        self.result = None\n",
    "    \n",
    "    def evaluate(self, **kwargs):        \n",
    "        if 'image' in kwargs.keys() and 'poses' in kwargs.keys() :\n",
    "            image = kwargs['image']\n",
    "            poses = kwargs['poses']\n",
    "            drawPosePoints(image,poses,EDGES) \n",
    "            self.result = {'image':image}\n",
    "            return self.result\n",
    "        else:\n",
    "            return kwargs                \n",
    "        \n",
    "    def drawPoint(self,image,x,y,r,rgba):\n",
    "        draw = ImageDraw.Draw(image)\n",
    "        leftUpPoint = (x-r, y-r)\n",
    "        rightDownPoint = (x+r, y+r)\n",
    "        twoPointList = [leftUpPoint, rightDownPoint]\n",
    "        draw.ellipse(twoPointList, fill=rgba)\n",
    "\n",
    "    def drawPosePoints(self,image,poses,EDGES):    \n",
    "        for pose in poses:\n",
    "            #if pose.score < 0.4: continue\n",
    "            rgba =  random.choice(colors)     \n",
    "            #print('\\nPose Score: ', pose.score)\n",
    "            xys = {}\n",
    "            minScoreKeypoint = 0.0\n",
    "            for label, keypoint in pose.keypoints.items():\n",
    "                if keypoint.score < minScoreKeypoint : continue\n",
    "                #print(keypoint.point)\n",
    "                #drawPoint(image,keypoint.yx[1], keypoint.yx[0],2,rgba)\n",
    "                drawPoint(image,keypoint.point.x,keypoint.point.y,2,rgba)\n",
    "                #kp_y = int((keypoint.yx[0] ) )\n",
    "                #kp_x = int((keypoint.yx[1] ) )\n",
    "                kp_y = int( keypoint.point.y)\n",
    "                kp_x = int( keypoint.point.x)\n",
    "\n",
    "                xys[label] = (kp_x, kp_y)\n",
    "                #print(' %-20s x=%-4d y=%-4d score=%.1f' %\n",
    "                #      (label, keypoint.yx[1], keypoint.yx[0], keypoint.score))\n",
    "            #print(xys)\n",
    "\n",
    "            for a, b in EDGES:\n",
    "                if a not in xys or b not in xys: continue\n",
    "                ax, ay = xys[a]\n",
    "                bx, by = xys[b]\n",
    "                #dwg.add(dwg.line(start=(ax, ay), end=(bx, by), stroke=color, stroke_width=2))\n",
    "                draw = ImageDraw.Draw(image)\n",
    "                draw.line((ax,ay,bx,by), fill=128, width=3)\n",
    "                #print (ax,ay,bx,b)              "
   ]
  },
  {
   "cell_type": "markdown",
   "metadata": {},
   "source": [
    "## PoseEngine"
   ]
  },
  {
   "cell_type": "code",
   "execution_count": 81,
   "metadata": {},
   "outputs": [],
   "source": [
    "import random\n",
    "from PIL import Image\n",
    "from PIL import ImageDraw\n",
    "\n",
    "colors = [(255,0,0,255) ,(0,255,0,255) ,(0,0,255,255),(255,255,0,255) ,(0,255,255,255) ,(255,255,255,255), \\\n",
    "         (125,0,0,255) ,(125,255,0,255) ,(125,0,255,255),(125,255,0,255) ,(125,255,255,255) ,(125,255,255,255)]\n",
    "\n",
    "EDGES = (\n",
    "    ('nose', 'left eye'),\n",
    "    ('nose', 'right eye'),\n",
    "    ('nose', 'left ear'),\n",
    "    ('nose', 'right ear'),\n",
    "    ('left ear', 'left eye'),\n",
    "    ('right ear', 'right eye'),\n",
    "    ('left eye', 'right eye'),\n",
    "    ('left shoulder', 'right shoulder'),\n",
    "    ('left shoulder', 'left elbow'),\n",
    "    ('left shoulder', 'left hip'),\n",
    "    ('right shoulder', 'right elbow'),\n",
    "    ('right shoulder', 'right hip'),\n",
    "    ('left elbow', 'left wrist'),\n",
    "    ('right elbow', 'right wrist'),\n",
    "    ('left hip', 'right hip'),\n",
    "    ('left hip', 'left knee'),\n",
    "    ('right hip', 'right knee'),\n",
    "    ('left knee', 'left ankle'),\n",
    "    ('right knee', 'right ankle'),\n",
    ")\n",
    "\n",
    "def drawPoint(image,x,y,r,rgba):\n",
    "    draw = ImageDraw.Draw(image)\n",
    "    leftUpPoint = (x-r, y-r)\n",
    "    rightDownPoint = (x+r, y+r)\n",
    "    twoPointList = [leftUpPoint, rightDownPoint]\n",
    "    draw.ellipse(twoPointList, fill=rgba)\n",
    "\n",
    "def drawPosePoints(image,poses,EDGES):    \n",
    "    for pose in poses:\n",
    "        #if pose.score < 0.4: continue\n",
    "        rgba =  random.choice(colors)     \n",
    "        #print('\\nPose Score: ', pose.score)\n",
    "        xys = {}\n",
    "        minScoreKeypoint = 0.0\n",
    "        for label, keypoint in pose.keypoints.items():\n",
    "            if keypoint.score < minScoreKeypoint : continue\n",
    "            #print(keypoint.point)\n",
    "            #drawPoint(image,keypoint.yx[1], keypoint.yx[0],2,rgba)\n",
    "            drawPoint(image,keypoint.point.x,keypoint.point.y,2,rgba)\n",
    "            #kp_y = int((keypoint.yx[0] ) )\n",
    "            #kp_x = int((keypoint.yx[1] ) )\n",
    "            kp_y = int( keypoint.point.y)\n",
    "            kp_x = int( keypoint.point.x)\n",
    "            \n",
    "            xys[label] = (kp_x, kp_y)\n",
    "            #print(' %-20s x=%-4d y=%-4d score=%.1f' %\n",
    "            #      (label, keypoint.yx[1], keypoint.yx[0], keypoint.score))\n",
    "        #print(xys)\n",
    "    \n",
    "        for a, b in EDGES:\n",
    "            if a not in xys or b not in xys: continue\n",
    "            ax, ay = xys[a]\n",
    "            bx, by = xys[b]\n",
    "            #dwg.add(dwg.line(start=(ax, ay), end=(bx, by), stroke=color, stroke_width=2))\n",
    "            draw = ImageDraw.Draw(image)\n",
    "            draw.line((ax,ay,bx,by), fill=128, width=3)\n",
    "            #print (ax,ay,bx,b)          "
   ]
  },
  {
   "cell_type": "code",
   "execution_count": null,
   "metadata": {},
   "outputs": [],
   "source": [
    "from pycoral.utils import edgetpu\n",
    "from PIL import Image\n",
    "from tflite_runtime.interpreter import load_delegate\n",
    "from tflite_runtime.interpreter import Interpreter\n",
    "\n",
    "import collections\n",
    "import enum\n",
    "import math\n",
    "import numpy as np\n",
    "import os\n",
    "import platform\n",
    "import sys\n",
    "import time\n",
    "\n",
    "from projectposenet.pose_engine import PoseEngine\n",
    "engine = PoseEngine('projectposenet/models/mobilenet/posenet_mobilenet_v1_075_481_641_quant_decoder_edgetpu.tflite')"
   ]
  },
  {
   "cell_type": "code",
   "execution_count": null,
   "metadata": {},
   "outputs": [],
   "source": [
    "_img = _imageWidget2.getImage()\n",
    "poses, inference_time = engine.DetectPosesInImage(_img)\n",
    "print('Inference time: %.f ms' % (inference_time * 1000),'recognized:', len(poses))\n",
    "drawPosePoints(_img,poses,EDGES)  \n",
    "_img"
   ]
  },
  {
   "cell_type": "markdown",
   "metadata": {},
   "source": [
    "## Objects"
   ]
  },
  {
   "cell_type": "code",
   "execution_count": null,
   "metadata": {},
   "outputs": [],
   "source": [
    "import time\n",
    "\n",
    "from PIL import Image\n",
    "from PIL import ImageDraw\n",
    "\n",
    "from pycoral.adapters import common\n",
    "from pycoral.adapters import detect\n",
    "from pycoral.utils.dataset import read_label_file\n",
    "from pycoral.utils.edgetpu import make_interpreter\n",
    "\n",
    "labels = read_label_file('/home/pi/jupyter/coral/pycoral/test_data/coco_labels.txt')\n",
    "interpreter = make_interpreter('/home/pi/jupyter/coral/pycoral/test_data/ssd_mobilenet_v2_coco_quant_postprocess_edgetpu.tflite')\n",
    "interpreter.allocate_tensors()"
   ]
  },
  {
   "cell_type": "code",
   "execution_count": null,
   "metadata": {},
   "outputs": [],
   "source": [
    "#image = Image.open('/home/pi/jupyter/coral/pycoral/test_data/grace_hopper.bmp' )\n",
    "image = _imageWidget2.getImage()\n",
    "\n",
    "_, scale = common.set_resized_input(\n",
    "    interpreter, image.size, lambda size: image.resize(size, Image.ANTIALIAS))\n",
    "\n",
    "print('----INFERENCE TIME----')\n",
    "\n",
    "for _ in range(1):\n",
    "    start = time.perf_counter()\n",
    "    interpreter.invoke()\n",
    "    inference_time = time.perf_counter() - start\n",
    "    objs = detect.get_objects(interpreter,0.2, scale)\n",
    "    print('%.2f ms' % (inference_time * 1000))\n",
    "    \n",
    "def draw_objects(draw, objs, labels):\n",
    "  \"\"\"Draws the bounding box and label for each object.\"\"\"\n",
    "  for obj in objs:\n",
    "    bbox = obj.bbox\n",
    "    draw.rectangle([(bbox.xmin, bbox.ymin), (bbox.xmax, bbox.ymax)],\n",
    "                   outline='red')\n",
    "    draw.text((bbox.xmin + 10, bbox.ymin + 10),\n",
    "              '%s\\n%.2f' % (labels.get(obj.id, obj.id), obj.score),\n",
    "              fill='red')\n",
    "\n",
    "print('-------RESULTS--------')\n",
    "if not objs:\n",
    "    print('No objects detected')\n",
    "\n",
    "for obj in objs:\n",
    "    print(labels.get(obj.id, obj.id))\n",
    "    print('  id:    ', obj.id)\n",
    "    print('  score: ', obj.score)\n",
    "    print('  bbox:  ', obj.bbox)\n",
    "\n",
    "image = image.convert('RGB')\n",
    "draw_objects(ImageDraw.Draw(image), objs, labels)    \n",
    "\n",
    "image"
   ]
  },
  {
   "cell_type": "markdown",
   "metadata": {},
   "source": [
    "# Graph"
   ]
  },
  {
   "cell_type": "code",
   "execution_count": 38,
   "metadata": {},
   "outputs": [
    {
     "data": {
      "text/plain": [
       "NodeView(('root', 'a', 'b', 'e', 'c', 'd'))"
      ]
     },
     "execution_count": 38,
     "metadata": {},
     "output_type": "execute_result"
    }
   ],
   "source": [
    "import networkx as nx\n",
    "\n",
    "graph = nx.DiGraph()\n",
    "graph.add_edges_from([(\"root\", \"a\"), (\"a\", \"b\"), (\"a\", \"e\"), (\"b\", \"c\"), (\"b\", \"d\"), (\"d\", \"e\")])\n",
    "\n",
    "graph.nodes()"
   ]
  },
  {
   "cell_type": "code",
   "execution_count": 39,
   "metadata": {},
   "outputs": [
    {
     "data": {
      "text/plain": [
       "False"
      ]
     },
     "execution_count": 39,
     "metadata": {},
     "output_type": "execute_result"
    }
   ],
   "source": [
    "graph = nx.DiGraph()\n",
    "graph.add_edges_from([(1, 2), (2, 3), (3, 4), (4, 1)])\n",
    "nx.is_directed(graph)\n",
    "nx.is_directed_acyclic_graph(graph)"
   ]
  },
  {
   "cell_type": "code",
   "execution_count": 40,
   "metadata": {},
   "outputs": [
    {
     "data": {
      "text/plain": [
       "<Figure size 432x288 with 0 Axes>"
      ]
     },
     "metadata": {},
     "output_type": "display_data"
    }
   ],
   "source": [
    "from matplotlib import pyplot as plt\n",
    "g1 = nx.DiGraph()\n",
    "g1.add_edges_from([(\"root\", \"a\"), (\"a\", \"b\"), (\"a\", \"e\"), (\"b\", \"c\"), (\"b\", \"d\"), (\"d\", \"e\")])\n",
    "plt.tight_layout()\n",
    "nx.draw_networkx(g1, arrows=True)\n",
    "plt.savefig(\"g1.png\", format=\"PNG\")\n",
    "# tell matplotlib you're done with the plot: https://stackoverflow.com/questions/741877/how-do-i-tell-matplotlib-that-i-am-done-with-a-plot\n",
    "plt.clf()"
   ]
  },
  {
   "cell_type": "code",
   "execution_count": 41,
   "metadata": {},
   "outputs": [
    {
     "data": {
      "image/png": "[encoded data removed]",
      "text/plain": [
       "<Figure size 432x288 with 1 Axes>"
      ]
     },
     "metadata": {},
     "output_type": "display_data"
    }
   ],
   "source": [
    "import pylab as p\n",
    "import networkx as nx\n",
    "\n",
    "G = nx.Graph()\n",
    "G.add_edge(\"A\",\"B\")\n",
    "G.add_edge(\"A\",\"H\")\n",
    "G.add_edge(\"H\",\"C\")\n",
    "G.add_edge(\"B\",\"C\")\n",
    "G.add_edge(\"B\",\"D\")\n",
    "\n",
    "nx.draw(G)\n",
    "p.show()"
   ]
  },
  {
   "cell_type": "code",
   "execution_count": null,
   "metadata": {},
   "outputs": [],
   "source": []
  },
  {
   "cell_type": "code",
   "execution_count": 42,
   "metadata": {},
   "outputs": [
    {
     "data": {
      "image/png": "[encoded data removed]",
      "text/plain": [
       "<Figure size 432x288 with 1 Axes>"
      ]
     },
     "metadata": {},
     "output_type": "display_data"
    }
   ],
   "source": [
    "import pylab as p\n",
    "import networkx as nx\n",
    "\n",
    "\n",
    "class Node(object):\n",
    "    nodes = []\n",
    "\n",
    "    def __init__(self, label):\n",
    "        self._label = label\n",
    "\n",
    "    def __str__(self):\n",
    "        return self._label\n",
    "\n",
    "nodes = [Node(l) for l in [\"A\",\"B\",\"C\",\"C\",\"D\",\"H\"]]\n",
    "edges = [(0,1),(0,5),(5,2),(1,3),(1,4)]\n",
    "\n",
    "G = nx.Graph()\n",
    "for i,j in edges:\n",
    "    G.add_edge(nodes[i], nodes[j])\n",
    "\n",
    "nx.draw(G)\n",
    "p.show()"
   ]
  },
  {
   "cell_type": "code",
   "execution_count": 52,
   "metadata": {},
   "outputs": [
    {
     "name": "stdout",
     "output_type": "stream",
     "text": [
      "3 4 1 5 6 2 0\n"
     ]
    }
   ],
   "source": [
    "#depth-first-search post-order. \n",
    "from networkx import DiGraph\n",
    "from networkx.algorithms.traversal.depth_first_search import dfs_postorder_nodes\n",
    "\n",
    "g = DiGraph({0: [1, 2], 1: [3, 4], 2: [5, 6]})\n",
    "print(*dfs_postorder_nodes(g, source=0))\n"
   ]
  },
  {
   "cell_type": "code",
   "execution_count": 47,
   "metadata": {},
   "outputs": [
    {
     "data": {
      "text/plain": [
       "[2, 1, 0]"
      ]
     },
     "execution_count": 47,
     "metadata": {},
     "output_type": "execute_result"
    }
   ],
   "source": [
    "G = nx.path_graph(3)\n",
    "list(nx.bfs_edges(G, 0))\n",
    "\n",
    "G = nx.path_graph(3)\n",
    "root = 2\n",
    "edges = nx.bfs_edges(G, root)\n",
    "nodes = [root] + [v for u, v in edges]\n",
    "nodes"
   ]
  },
  {
   "cell_type": "code",
   "execution_count": 48,
   "metadata": {},
   "outputs": [
    {
     "data": {
      "image/png": "[encoded data removed]",
      "text/plain": [
       "<Figure size 432x288 with 1 Axes>"
      ]
     },
     "metadata": {},
     "output_type": "display_data"
    },
    {
     "name": "stdout",
     "output_type": "stream",
     "text": [
      "{'1': '0', '3': '1', '4': '3'}\n"
     ]
    },
    {
     "data": {
      "text/plain": [
       "<Figure size 432x288 with 0 Axes>"
      ]
     },
     "metadata": {},
     "output_type": "display_data"
    }
   ],
   "source": [
    "import networkx as nx\n",
    "import matplotlib.pyplot as plt\n",
    "nodes = ['0','1','2','3','4','5']\n",
    "G = nx.DiGraph(name='G')\n",
    "G.add_nodes_from(nodes)\n",
    "edges = [('0','1'),('2','1'),('5','4'),('1','3'),('3','4')]\n",
    "G.add_edges_from(edges)\n",
    "\n",
    "bfs = nx.bfs_predecessors(G, source='0')\n",
    "bfs = dict(bfs)\n",
    "nx.draw(G, font_weight='bold', with_labels=True)\n",
    "plt.show()\n",
    "plt.savefig('graph.png')\n",
    "print(bfs)"
   ]
  },
  {
   "cell_type": "code",
   "execution_count": 50,
   "metadata": {},
   "outputs": [
    {
     "name": "stdout",
     "output_type": "stream",
     "text": [
      "Following is the Breadth-First Search\n",
      "5 3 7 2 4 8 "
     ]
    }
   ],
   "source": [
    "graph = {\n",
    "  '5' : ['3','7'],\n",
    "  '3' : ['2', '4'],\n",
    "  '7' : ['8'],\n",
    "  '2' : [],\n",
    "  '4' : ['8'],\n",
    "  '8' : []\n",
    "}\n",
    "\n",
    "visited = [] # List for visited nodes.\n",
    "queue = []     #Initialize a queue\n",
    "\n",
    "def bfs(visited, graph, node): #function for BFS\n",
    "  visited.append(node)\n",
    "  queue.append(node)\n",
    "\n",
    "  while queue:          # Creating loop to visit each node\n",
    "    m = queue.pop(0) \n",
    "    print (m, end = \" \") \n",
    "\n",
    "    for neighbour in graph[m]:\n",
    "      if neighbour not in visited:\n",
    "        visited.append(neighbour)\n",
    "        queue.append(neighbour)\n",
    "\n",
    "# Driver Code\n",
    "print(\"Following is the Breadth-First Search\")\n",
    "bfs(visited, graph, '5')    # function calling"
   ]
  },
  {
   "cell_type": "code",
   "execution_count": 53,
   "metadata": {},
   "outputs": [
    {
     "data": {
      "image/png": "[encoded data removed]",
      "text/plain": [
       "<Figure size 432x288 with 1 Axes>"
      ]
     },
     "metadata": {},
     "output_type": "display_data"
    }
   ],
   "source": [
    "import networkx as nx\n",
    "import matplotlib.pyplot as plt\n",
    "\n",
    "G = nx.DiGraph()\n",
    "G.add_edges_from(\n",
    "    [('A', 'B'), ('A', 'C'), ('D', 'B'), ('E', 'C'), ('E', 'F'),\n",
    "     ('B', 'H'), ('B', 'G'), ('B', 'F'), ('C', 'G')])\n",
    "\n",
    "val_map = {'A': 1.0,\n",
    "           'D': 0.5714285714285714,\n",
    "           'H': 0.0}\n",
    "\n",
    "values = [val_map.get(node, 0.25) for node in G.nodes()]\n",
    "\n",
    "# Specify the edges you want here\n",
    "red_edges = [('A', 'C'), ('E', 'C')]\n",
    "edge_colours = ['black' if not edge in red_edges else 'red'\n",
    "                for edge in G.edges()]\n",
    "black_edges = [edge for edge in G.edges() if edge not in red_edges]\n",
    "\n",
    "# Need to create a layout when doing\n",
    "# separate calls to draw nodes and edges\n",
    "pos = nx.spring_layout(G)\n",
    "nx.draw_networkx_nodes(G, pos, cmap=plt.get_cmap('jet'), \n",
    "                       node_color = values, node_size = 500)\n",
    "nx.draw_networkx_labels(G, pos)\n",
    "nx.draw_networkx_edges(G, pos, edgelist=red_edges, edge_color='r', arrows=True)\n",
    "nx.draw_networkx_edges(G, pos, edgelist=black_edges, arrows=False)\n",
    "plt.show()"
   ]
  },
  {
   "cell_type": "markdown",
   "metadata": {},
   "source": [
    "## topology"
   ]
  },
  {
   "cell_type": "code",
   "execution_count": 101,
   "metadata": {},
   "outputs": [
    {
     "data": {
      "image/png": "[encoded data removed]",
      "text/plain": [
       "<Figure size 432x288 with 1 Axes>"
      ]
     },
     "metadata": {},
     "output_type": "display_data"
    }
   ],
   "source": [
    "G = nx.DiGraph()\n",
    "#G.add_edges_from( [(_tmp4.actions[0], _tmp4.actions[1]), (_tmp4.actions[1], _tmp4.actions[2])] )\n",
    "G.add_edges_from( [(_tab._widgets[0],_tab._widgets[1]),(_tab._widgets[1],_tab._widgets[2]), (_tab._widgets[1],_tab._widgets[3]), (_tab._widgets[2],_tab._widgets[4])  ] )\n",
    "\n",
    "nx.draw(G, font_weight='bold', with_labels=True)\n",
    "plt.show()"
   ]
  },
  {
   "cell_type": "code",
   "execution_count": 103,
   "metadata": {},
   "outputs": [
    {
     "ename": "KeyError",
     "evalue": "<__main__.LiveVideoSourcesWidget object at 0x7f49fe5c2100>",
     "output_type": "error",
     "traceback": [
      "\u001b[0;31m---------------------------------------------------------------------------\u001b[0m",
      "\u001b[0;31mKeyError\u001b[0m                                  Traceback (most recent call last)",
      "\u001b[0;32m<ipython-input-103-24936af850ba>\u001b[0m in \u001b[0;36m<module>\u001b[0;34m\u001b[0m\n\u001b[1;32m      9\u001b[0m \u001b[0mnx\u001b[0m\u001b[0;34m.\u001b[0m\u001b[0mdraw\u001b[0m\u001b[0;34m(\u001b[0m\u001b[0mG\u001b[0m\u001b[0;34m,\u001b[0m \u001b[0mwith_labels\u001b[0m\u001b[0;34m=\u001b[0m\u001b[0;32mFalse\u001b[0m\u001b[0;34m)\u001b[0m\u001b[0;34m\u001b[0m\u001b[0;34m\u001b[0m\u001b[0m\n\u001b[1;32m     10\u001b[0m \u001b[0;31m#Now only add labels to the nodes you require (the hubs in my case)\u001b[0m\u001b[0;34m\u001b[0m\u001b[0;34m\u001b[0m\u001b[0;34m\u001b[0m\u001b[0m\n\u001b[0;32m---> 11\u001b[0;31m \u001b[0mnx\u001b[0m\u001b[0;34m.\u001b[0m\u001b[0mdraw_networkx_labels\u001b[0m\u001b[0;34m(\u001b[0m\u001b[0mG\u001b[0m\u001b[0;34m,\u001b[0m\u001b[0mlabels\u001b[0m\u001b[0;34m,\u001b[0m\u001b[0mpos\u001b[0m\u001b[0;34m,\u001b[0m\u001b[0mfont_size\u001b[0m\u001b[0;34m=\u001b[0m\u001b[0;36m16\u001b[0m\u001b[0;34m,\u001b[0m\u001b[0mfont_color\u001b[0m\u001b[0;34m=\u001b[0m\u001b[0;34m'r'\u001b[0m\u001b[0;34m)\u001b[0m\u001b[0;34m\u001b[0m\u001b[0;34m\u001b[0m\u001b[0m\n\u001b[0m",
      "\u001b[0;32m/opt/conda/lib/python3.8/site-packages/networkx/drawing/nx_pylab.py\u001b[0m in \u001b[0;36mdraw_networkx_labels\u001b[0;34m(G, pos, labels, font_size, font_color, font_family, font_weight, alpha, bbox, horizontalalignment, verticalalignment, ax)\u001b[0m\n\u001b[1;32m    885\u001b[0m     \u001b[0mtext_items\u001b[0m \u001b[0;34m=\u001b[0m \u001b[0;34m{\u001b[0m\u001b[0;34m}\u001b[0m  \u001b[0;31m# there is no text collection so we'll fake one\u001b[0m\u001b[0;34m\u001b[0m\u001b[0;34m\u001b[0m\u001b[0m\n\u001b[1;32m    886\u001b[0m     \u001b[0;32mfor\u001b[0m \u001b[0mn\u001b[0m\u001b[0;34m,\u001b[0m \u001b[0mlabel\u001b[0m \u001b[0;32min\u001b[0m \u001b[0mlabels\u001b[0m\u001b[0;34m.\u001b[0m\u001b[0mitems\u001b[0m\u001b[0;34m(\u001b[0m\u001b[0;34m)\u001b[0m\u001b[0;34m:\u001b[0m\u001b[0;34m\u001b[0m\u001b[0;34m\u001b[0m\u001b[0m\n\u001b[0;32m--> 887\u001b[0;31m         \u001b[0;34m(\u001b[0m\u001b[0mx\u001b[0m\u001b[0;34m,\u001b[0m \u001b[0my\u001b[0m\u001b[0;34m)\u001b[0m \u001b[0;34m=\u001b[0m \u001b[0mpos\u001b[0m\u001b[0;34m[\u001b[0m\u001b[0mn\u001b[0m\u001b[0;34m]\u001b[0m\u001b[0;34m\u001b[0m\u001b[0;34m\u001b[0m\u001b[0m\n\u001b[0m\u001b[1;32m    888\u001b[0m         \u001b[0;32mif\u001b[0m \u001b[0;32mnot\u001b[0m \u001b[0misinstance\u001b[0m\u001b[0;34m(\u001b[0m\u001b[0mlabel\u001b[0m\u001b[0;34m,\u001b[0m \u001b[0mstr\u001b[0m\u001b[0;34m)\u001b[0m\u001b[0;34m:\u001b[0m\u001b[0;34m\u001b[0m\u001b[0;34m\u001b[0m\u001b[0m\n\u001b[1;32m    889\u001b[0m             \u001b[0mlabel\u001b[0m \u001b[0;34m=\u001b[0m \u001b[0mstr\u001b[0m\u001b[0;34m(\u001b[0m\u001b[0mlabel\u001b[0m\u001b[0;34m)\u001b[0m  \u001b[0;31m# this makes \"1\" and 1 labeled the same\u001b[0m\u001b[0;34m\u001b[0m\u001b[0;34m\u001b[0m\u001b[0m\n",
      "\u001b[0;31mKeyError\u001b[0m: <__main__.LiveVideoSourcesWidget object at 0x7f49fe5c2100>"
     ]
    },
    {
     "data": {
      "image/png": "[encoded data removed]",
      "text/plain": [
       "<Figure size 432x288 with 1 Axes>"
      ]
     },
     "metadata": {},
     "output_type": "display_data"
    }
   ],
   "source": [
    "labels = {}    \n",
    "hubs = [_tab._widgets[1]]\n",
    "pos = nx.spring_layout(G)\n",
    "for node in G.nodes():\n",
    "    if node in hubs:\n",
    "        #set the node name as the key and the label as its value \n",
    "        labels[node] = node\n",
    "#set the argument 'with labels' to False so you have unlabeled graph\n",
    "nx.draw(G, with_labels=False)\n",
    "#Now only add labels to the nodes you require (the hubs in my case)\n",
    "nx.draw_networkx_labels(G,labels,pos,font_size=16,font_color='r')"
   ]
  },
  {
   "cell_type": "code",
   "execution_count": 107,
   "metadata": {},
   "outputs": [
    {
     "data": {
      "text/plain": [
       "NodeView((<__main__.LiveVideoSourcesWidget object at 0x7f49fe5c2100>, <__main__.CropWidget object at 0x7f49fba10400>, <__main__.ResizeWidget object at 0x7f48a99a6040>, <__main__.TemplateWidget object at 0x7f49fb47d130>, <__main__.TemplateWidget object at 0x7f49fe5d92e0>))"
      ]
     },
     "execution_count": 107,
     "metadata": {},
     "output_type": "execute_result"
    }
   ],
   "source": [
    "nx.spring_layout(G)\n",
    "G.nodes"
   ]
  },
  {
   "cell_type": "code",
   "execution_count": 91,
   "metadata": {},
   "outputs": [
    {
     "data": {
      "text/plain": [
       "[<__main__.LiveVideoSourcesWidget at 0x7f49fe5c2100>,\n",
       " <__main__.CropWidget at 0x7f49fba10400>,\n",
       " <__main__.TemplateWidget at 0x7f49fb47d130>,\n",
       " <__main__.ResizeWidget at 0x7f48a99a6040>,\n",
       " <__main__.TemplateWidget at 0x7f49fe5d92e0>]"
      ]
     },
     "execution_count": 91,
     "metadata": {},
     "output_type": "execute_result"
    }
   ],
   "source": [
    "#_tmp4.actions\n",
    "#_tab._widgets\n",
    "G.edges.keys\n",
    "list(nx.topological_sort(G))"
   ]
  },
  {
   "cell_type": "code",
   "execution_count": 92,
   "metadata": {},
   "outputs": [
    {
     "data": {
      "text/plain": [
       "[[<__main__.LiveVideoSourcesWidget at 0x7f49fe5c2100>],\n",
       " [<__main__.CropWidget at 0x7f49fba10400>],\n",
       " [<__main__.ResizeWidget at 0x7f48a99a6040>,\n",
       "  <__main__.TemplateWidget at 0x7f49fb47d130>],\n",
       " [<__main__.TemplateWidget at 0x7f49fe5d92e0>]]"
      ]
     },
     "execution_count": 92,
     "metadata": {},
     "output_type": "execute_result"
    }
   ],
   "source": [
    "def topological_sort_grouping(g):\n",
    "    # copy the graph\n",
    "    _g = g.copy()\n",
    "    res = []\n",
    "    # while _g is not empty\n",
    "    while _g:\n",
    "        zero_indegree = [v for v, d in _g.in_degree() if d == 0]\n",
    "        res.append(zero_indegree)\n",
    "        _g.remove_nodes_from(zero_indegree)\n",
    "    return res\n",
    "\n",
    "topological_sort_grouping(G)"
   ]
  },
  {
   "cell_type": "code",
   "execution_count": 68,
   "metadata": {},
   "outputs": [
    {
     "data": {
      "text/plain": [
       "<generator object dfs_edges at 0x7f49fb9fa040>"
      ]
     },
     "execution_count": 68,
     "metadata": {},
     "output_type": "execute_result"
    }
   ],
   "source": [
    "def dfs_edges(G,source=None):\n",
    "    \"\"\"Produce edges in a depth-first-search starting at source.\"\"\"\n",
    "    # Based on http://www.ics.uci.edu/~eppstein/PADS/DFS.py\n",
    "    # by D. Eppstein, July 2004.\n",
    "    if source is None:\n",
    "        # produce edges for all components\n",
    "        nodes=G\n",
    "    else:\n",
    "        # produce edges for components with source\n",
    "        nodes=[source]\n",
    "    visited=set()\n",
    "    for start in nodes:\n",
    "        if start in visited:\n",
    "            continue\n",
    "        visited.add(start)\n",
    "        stack = [(start,iter(sorted(G[start])))]\n",
    "        while stack:\n",
    "            parent,children = stack[-1]\n",
    "            try:\n",
    "                child = next(children)\n",
    "                if child not in visited:\n",
    "                    yield parent,child\n",
    "                    visited.add(child)\n",
    "                    stack.append((child,iter(sorted(G[child]))))\n",
    "            except StopIteration:\n",
    "                stack.pop()\n",
    "                \n",
    "dfs_edges(G)                "
   ]
  },
  {
   "cell_type": "code",
   "execution_count": 97,
   "metadata": {},
   "outputs": [
    {
     "data": {
      "image/png": "[encoded data removed]",
      "text/plain": [
       "<Figure size 432x288 with 1 Axes>"
      ]
     },
     "metadata": {},
     "output_type": "display_data"
    }
   ],
   "source": [
    "import matplotlib.pyplot as plt\n",
    "import networkx as nx\n",
    "edges = [['A','B'],['B','C'],['B','D']]\n",
    "G = nx.Graph()\n",
    "G.add_edges_from(edges)\n",
    "pos = nx.spring_layout(G)\n",
    "plt.figure()    \n",
    "nx.draw(G,pos,edge_color='black',width=1,linewidths=1,\\\n",
    "node_size=500,node_color='pink',alpha=0.9,\\\n",
    "labels={node:node for node in G.nodes()})\n",
    "nx.draw_networkx_edge_labels(G,pos,edge_labels={('A','B'):'AB',\\\n",
    "('B','C'):'BC',('B','D'):'BD'},font_color='red')\n",
    "plt.axis('off')\n",
    "plt.show()"
   ]
  },
  {
   "cell_type": "markdown",
   "metadata": {},
   "source": [
    "# trial"
   ]
  },
  {
   "cell_type": "code",
   "execution_count": null,
   "metadata": {},
   "outputs": [],
   "source": [
    "import requests\n",
    "response = requests.get(_videoSources.video.thumb)\n",
    "\n",
    "img_byte_arr = io.BytesIO(response.content).read()\n",
    "_imagew.image_w.value = img_byte_arr"
   ]
  },
  {
   "cell_type": "code",
   "execution_count": null,
   "metadata": {},
   "outputs": [],
   "source": [
    "_videoSources.video.thumb"
   ]
  },
  {
   "cell_type": "markdown",
   "metadata": {},
   "source": [
    "# tab"
   ]
  },
  {
   "cell_type": "code",
   "execution_count": null,
   "metadata": {},
   "outputs": [],
   "source": [
    "#!/usr/bin/env python\n",
    "\n",
    "from Tkinter import *\n",
    "import tkMessageBox\n",
    "import ttk\n",
    "\n",
    "#---------------------------------------------------------------------\n",
    "class MyTab(Frame):\n",
    "\n",
    "    def __init__(self, root, name):\n",
    "        Frame.__init__(self, root)\n",
    "\n",
    "        self.root = root\n",
    "        self.name = name\n",
    "\n",
    "        self.entry = Entry(self)\n",
    "        self.entry.pack(side=TOP)\n",
    "\n",
    "        self.entry.bind('<FocusOut>', self.alert)\n",
    "        self.entry.bind('<Key>', self.printing)\n",
    "\n",
    "        self.bind(\"<Button-1>\", self.clickFrame)\n",
    "\n",
    "    #-------------------------------\n",
    "\n",
    "    def alert(self, event):\n",
    "        print 'FocusOut event is working for ' + self.name + '  value: ' + self.entry.get()\n",
    "        #tkMessageBox.showinfo('alert', 'FocusOut event is working for ' + self.name + '  value: ' + self.entry.get())\n",
    "\n",
    "    #-------------------------------\n",
    "\n",
    "    def printing(self, event):\n",
    "        print event.keysym + ' for ' + self.name\n",
    "\n",
    "    #-------------------------------\n",
    "\n",
    "    def clickFrame(self, event):\n",
    "        print \"MyTab: click at (\" + str(event.x) + \", \" + str(event.y) + ') for ' + self.name + \" (parent name: \" + self.root.tab(CURRENT)['text'] + \")\"\n",
    "\n",
    "\n",
    "#---------------------------------------------------------------------\n",
    "\n",
    "class Application():\n",
    "\n",
    "    def __init__(self):\n",
    "\n",
    "        self.tabs = {'ky':1} \n",
    "\n",
    "        self.root = Tk()\n",
    "        self.root.minsize(300, 300)\n",
    "        self.root.geometry(\"1000x700\")\n",
    "\n",
    "        self.notebook = ttk.Notebook(self.root, width=1000, height=650)\n",
    "\n",
    "#       self.all_tabs = []\n",
    "\n",
    "        self.addTab('tab1')\n",
    "\n",
    "        self.button = Button(self.root, text='generate', command=self.start_generating).pack(side=BOTTOM)\n",
    "\n",
    "        self.notebook.pack(side=TOP)\n",
    "\n",
    "    #-------------------------------\n",
    "\n",
    "    def addTab(self, name):\n",
    "        tab = MyTab(self.notebook, name)\n",
    "        tab.bind(\"<Button-3>\", self.clickTab)\n",
    "        self.notebook.add(tab, text=\"X-\"+name)\n",
    "#       self.all_tabs.append(tab)\n",
    "\n",
    "    #-------------------------------\n",
    "\n",
    "    def clickTab(self, event):\n",
    "        print \"Application: click at (\" + str(event.x) + \", \" + str(event.y) + ') for ' + event.widget.name\n",
    "\n",
    "        #-------------------------------\n",
    "\n",
    "    def start_generating(self):\n",
    "        if self.tabs['ky'] < 4:\n",
    "            self.tabs['ky'] += 1\n",
    "            self.addTab('tab'+ str(self.tabs['ky'])) \n",
    "\n",
    "    #-------------------------------\n",
    "\n",
    "    def run(self):\n",
    "        self.root.mainloop()\n",
    "\n",
    "#----------------------------------------------------------------------\n",
    "\n",
    "Application().run()     "
   ]
  },
  {
   "cell_type": "markdown",
   "metadata": {},
   "source": [
    "# OLD"
   ]
  },
  {
   "cell_type": "markdown",
   "metadata": {},
   "source": [
    "# OLD CropWidget"
   ]
  },
  {
   "cell_type": "code",
   "execution_count": null,
   "metadata": {},
   "outputs": [],
   "source": [
    "class CropWidget():\n",
    "    def __init__(self, action=None, parent=None, imageWidget=None, image=None, vstreams=None):\n",
    "        self.image         = image\n",
    "        self.result        = {'image':image} \n",
    "        self.action       = action\n",
    "        self.videoAction  = None\n",
    "        self.parent       = None\n",
    "        self.imageWidget  = imageWidget\n",
    "        self.vstreams     = vstreams\n",
    "        self.index        = 0\n",
    "        \n",
    "        cropNormalizedArea = [0.0,0.0,1.0,1.0]    \n",
    "        self.regions = dict()\n",
    "        self.regions['reset'] = cropNormalizedArea\n",
    "    \n",
    "        if image != None:\n",
    "            action.size = image.size\n",
    "    \n",
    "        self.reset_button = widgets.Button(description='Reset', disabled=False, tooltip='reset all values',style=style)\n",
    "        self.reset_button.on_click(self.on_reset_button_clicked)  \n",
    "\n",
    "        self.crop_name = widgets.Text(description = 'name',value = '', style=style, layout=layout,disabled=False)\n",
    "        self.crop_name.on_submit(self.on_value_submit_crop_name)\n",
    "        self.crop_list = widgets.Dropdown(description='region',options=self.regions.keys())\n",
    "        self.crop_list.observe(self.crop_list_on_change) \n",
    "        self.crop_bookmarks = widgets.HBox([self.crop_list, self.crop_name, self.reset_button])\n",
    "\n",
    "        _max = len(vstreams)\n",
    "        if _max > 0:\n",
    "            _max = _max -1\n",
    "        self.imageselectw = widgets.IntSlider(value=0, min=0,max=_max,step=1, description='image',layout=layout)\n",
    "        self.imageselectw.observe(self.on_value_change_imageselectw, 'value')\n",
    "        self.next_image_button = widgets.Button(description='Next', disabled=False, tooltip='next image',style=style)\n",
    "        self.next_image_button.on_click(self.on_next_image_button_clicked)  \n",
    "        image_select_hbox = widgets.HBox([self.imageselectw,self.next_image_button])\n",
    "        \n",
    "        #self.cropx0 = self._IntSlider(description='x0',value=0)\n",
    "        #self.cropx1 = self._IntSlider(description='x1')\n",
    "        #self.cropx0 = widgets.IntSlider(value=0, step=1, description='x0',layout=layout)\n",
    "        #self.cropx1 = widgets.IntSlider(value=0, step=1, description='x1',layout=layout)\n",
    "        #self.cropx0.observe(self.on_value_change_crop_xmin, 'value')\n",
    "        #self.cropx1.observe(self.on_value_change_crop_xmax, 'value')\n",
    "        \n",
    "        #self.crop_hbox_x = widgets.HBox([self.cropx0, self.cropx1])\n",
    "        \n",
    "        self.crop_hbox_x = widgets.HBox()\n",
    "        self.crop_hbox_y = widgets.HBox()\n",
    "        self._addIntCropSliders()\n",
    "        \n",
    "        #self.crop_hbox_y = widgets.HBox([self.cropy0, self.cropy1])\n",
    "        \n",
    "        self.vbox   = widgets.VBox([image_select_hbox,self.crop_bookmarks,self.crop_hbox_x, self.crop_hbox_y])\n",
    "        #display(self.crop_vbox)\n",
    "        #self.imageWidget.display()\n",
    "        \n",
    "        if action != None:\n",
    "            self.initMinMax(action.size,(0,0,action.size[0]-1,action.size[1]-1))\n",
    "        \n",
    "    def _addIntCropSliders(self):\n",
    "        self.cropx0 = self._IntSlider(description='x0')\n",
    "        self.cropx1 = self._IntSlider(description='x1')\n",
    "        self.cropx0.observe(self.on_value_change_crop_xmin, 'value')\n",
    "        self.cropx1.observe(self.on_value_change_crop_xmax, 'value')\n",
    "        self.crop_hbox_x.children = (self.cropx0,self.cropx1)\n",
    "        \n",
    "        self.cropy0 =  self._IntSlider(description='y0')\n",
    "        self.cropy1 =  self._IntSlider(description='y1')\n",
    "        self.cropy0.observe(self.on_value_change_crop_ymin, 'value')\n",
    "        self.cropy1.observe(self.on_value_change_crop_ymax, 'value')\n",
    "        self.crop_hbox_y.children = (self.cropy0,self.cropy1)\n",
    "        \n",
    "    def _FloatSlider(self,description='',value=0.0,layout=layout):\n",
    "        return widgets.FloatSlider(value=value,description=description, min=0, max=1.0, step=0.001, readout_format='.3f',layout=layout)\n",
    "    \n",
    "    def _IntSlider(self,description='',value=0,max=0,layout=layout):\n",
    "        return widgets.IntSlider(value=value, max=max,step=1, description=description,layout=layout)    \n",
    "        \n",
    "    # INIT    \n",
    "    def init(self, action=None, parent=None):\n",
    "        self.videoAction = action\n",
    "        self.vstreams = action.getVstreams()\n",
    "        self.image    = self.vstreams[0]\n",
    "        \n",
    "        self.action   = CropAction(size=self.image.size,min=[0,0], max=[self.image.size[0],self.image.size[1]])\n",
    "        self.initMinMax()\n",
    "        self.imageselectw.max = len(self.vstreams) - 1\n",
    "        self.imageWidget.setImage(self.image) \n",
    "        self.parent = parent\n",
    "        self.crop_list.options=self.parent.sources.videos[self.parent.action.id]['bookmarks'].keys()\n",
    "        \n",
    "    # RESULT \n",
    "    def crop_image(self):\n",
    "        #return\n",
    "        #print(self.image.size)\n",
    "        self.result = self.action.evaluate(image=self.image)\n",
    "        #print(cropped_image.size)\n",
    "        self.imageWidget.setImage(self.result['image'])    \n",
    "        \n",
    "        \n",
    "    def initMinMax(self,size=None,cropArea = None):\n",
    "        if self.action == None:\n",
    "            return\n",
    "        \n",
    "        if size == None:\n",
    "            size = self.action.size\n",
    "            cropArea = self.action.flat()\n",
    "        \n",
    "        self.cropx0.max = size[0] - 1\n",
    "        self.cropx1.max = size[0] - 1\n",
    "        self.cropy0.max = size[1] - 1\n",
    "        self.cropy1.max = size[1] - 1\n",
    "\n",
    "        self.cropx0.value = cropArea[0]\n",
    "        self.cropy0.value = cropArea[1]\n",
    "        self.cropx1.value = cropArea[2]\n",
    "        self.cropy1.value = cropArea[3]    \n",
    "        \n",
    "    def on_value_change_crop_xmin(self,change):\n",
    "        #print(type(change['new']))\n",
    "        self.cropx1.min  = change['new']\n",
    "        self.action.min[0] = change['new']\n",
    "        self.crop_image()\n",
    "            \n",
    "    def on_value_change_crop_xmax(self,change):\n",
    "        #print(change['new'],self.action.max)\n",
    "        self.cropx0.max  = change['new']\n",
    "        self.action.max[0] = change['new']\n",
    "        self.crop_image()\n",
    "\n",
    "    def on_value_change_crop_ymin(self,change):\n",
    "        self.cropy1.min  = change['new']\n",
    "        self.action.min[1] = change['new']\n",
    "        self.crop_image()\n",
    "\n",
    "    def on_value_change_crop_ymax(self,change):\n",
    "        self.cropy0.max  = change['new']\n",
    "        self.action.max[1] = change['new']\n",
    "        self.crop_image()        \n",
    "        \n",
    "    # new bookmark event\n",
    "    def on_value_submit_crop_name(self,change):\n",
    "        #print(change)\n",
    "        self.parent.sources.videos[self.parent.action.id]['bookmarks'][change.value] = self.action.normalized()\n",
    "        #self.regions[change.value] = self.action.normalized()\n",
    "        if change.value not in self.crop_list.options:\n",
    "            self.crop_list.options = list(self.crop_list.options) + [change.value] \n",
    "        #(cropArea,image.size)\n",
    "        #print(list(self.crop_list.options),self.crop_list.value, change.value)\n",
    "        self.crop_list.value = change.value\n",
    "        \n",
    "    def crop_list_on_change(self,change):\n",
    "        if change['type'] == 'change' and change['name'] == 'value':\n",
    "            #print(self.regions[change['new']])\n",
    "            #initMinMax(image.size,bookmark_dict[change['new']])\n",
    "            #values = fromNormalizedMinMax(bookmark_dict[change['new']],image.size)\n",
    "            #initMinMax(image.size,values)\n",
    "            self.crop_name.value = change['new']\n",
    "            #print('init',self.action.size,self.regions[change['new']])\n",
    "            #self.initMinMax(self.action.size,self.action.fromNormalized(self.regions[change['new']]))\n",
    "            self.initMinMax(self.action.size,self.action.fromNormalized(self.parent.sources.videos[self.parent.action.id]['bookmarks'][change['new']]))\n",
    "            #self.initMinMax()\n",
    "\n",
    "    def on_reset_button_clicked(self,b):\n",
    "        #cropArea        = [0,0,image.size[0],image.size[1]]\n",
    "        self.action.min = [0,0]\n",
    "        self.action.max = [self.image.size[0],self.image.size[1]]\n",
    "        self.initMinMax()\n",
    "        self.crop_name.value = ''\n",
    "        #crop_list.value = ''\n",
    "\n",
    "    def updateImage(self,index):\n",
    "        #newimage = getVstream(vstreams=self.vstreams, index=index)   \n",
    "        newimage = self.vstreams[index]   \n",
    "        newsize = newimage.size\n",
    "        self.action.update(newsize)\n",
    "        self.image = newimage\n",
    "        #self.initMinMax(self.action.size,self.action.flat())\n",
    "        self.initMinMax()\n",
    "        #crop_image() \n",
    "\n",
    "    # select image slider\n",
    "    def on_value_change_imageselectw(self,change):\n",
    "        #imageselectw.disabled=True\n",
    "        #global index\n",
    "        self.index = change['new']\n",
    "        self.updateImage(self.index)\n",
    "        #imageselectw.disabled=False    \n",
    "\n",
    "    def on_next_image_button_clicked(self,b):\n",
    "        #global vstreams\n",
    "        _video   = self.videoAction.video\n",
    "        if self.videoAction.index != self.index:\n",
    "            self.videoAction = VideoAction(video=_video,index=self.index)\n",
    "        _vaction = self.videoAction\n",
    "        self.image = _vaction.readImage()\n",
    "        \n",
    "        self.initMinMax()\n",
    "        self.crop_image()\n",
    "        #self.imageWidget.setImage(self.image)\n",
    "        \n",
    "        #self.initMinMax(self.action.size,self.action.fromNormalized(self.parent.sources.videos[self.parent.id]['bookmarks'][change['new']]))\n",
    "        #self.vstreams = getVstreams(video=_video, indexes=[self.index])\n",
    "        #self.updateImage(self.index)\n",
    "\n",
    "#cropWidget = CropWidget(action=CropAction(size=image.size, min=[0,0], max=list(image.size)),imageWidget=ImageWidget(), image=image, vstreams=vstreams)   \n",
    "#cropWidget = CropWidget(action=CropAction(),imageWidget=ImageWidget())\n"
   ]
  },
  {
   "cell_type": "code",
   "execution_count": null,
   "metadata": {},
   "outputs": [],
   "source": [
    "class DisplayWidget0():\n",
    "    def __init__(self, action=None, imageWidget=None):\n",
    "        # VideoAction\n",
    "        self.action       = action\n",
    "        self.vstreams     = None\n",
    "        self.index        = 0\n",
    "        self.imageWidget  = imageWidget\n",
    "        self.image        = None\n",
    "        \n",
    "        _max = 5\n",
    "        self.next_image_button = widgets.Button(description='Next', disabled=False, tooltip='next image',style=style)\n",
    "        self.next_image_button.on_click(self.on_next_image_button_clicked)  \n",
    "        self.skipframes = widgets.Text(description   = 'skip frames',value = '10', style=style, layout=layout)\n",
    "        image_select_hbox = widgets.HBox([self.next_image_button,self.skipframes])\n",
    "        self.hbox=image_select_hbox\n",
    "        \n",
    "        # select image slider\n",
    "\n",
    "    def on_next_image_button_clicked(self,b):\n",
    "        #global vstreams\n",
    "        #_video   = self.videoAction.video\n",
    "        if self.action.index != self.index:\n",
    "            self.action = VideoAction(video=self.action.video,index=self.index)\n",
    "        self.action.skipframes = int(self.skipframes.value)\n",
    "        #self.image = self.action.readImage()\n",
    "        self.image = self.action.evaluate()\n",
    "        self.imageWidget.setImage(self.image)\n",
    "        \n",
    "    def updateImage(self):\n",
    "        #newimage = getVstream(vstreams=self.vstreams, index=index)   \n",
    "        self.image = self.vstreams[self.index]   \n",
    "        #newsize = newimage.size\n",
    "        #self.action.update(newsize)\n",
    "        self.imageWidget.setImage(self.image)\n",
    "        #self.initMinMax(self.action.size,self.action.flat())\n",
    "        #self.initMinMax()\n",
    "        #crop_image()      "
   ]
  }
 ],
 "metadata": {
  "kernelspec": {
   "display_name": "Python 3",
   "language": "python",
   "name": "python3"
  },
  "language_info": {
   "codemirror_mode": {
    "name": "ipython",
    "version": 3
   },
   "file_extension": ".py",
   "mimetype": "text/x-python",
   "name": "python",
   "nbconvert_exporter": "python",
   "pygments_lexer": "ipython3",
   "version": "3.8.8"
  },
  "toc-autonumbering": false,
  "toc-showcode": false,
  "toc-showmarkdowntxt": false,
  "toc-showtags": false
 },
 "nbformat": 4,
 "nbformat_minor": 4
}
